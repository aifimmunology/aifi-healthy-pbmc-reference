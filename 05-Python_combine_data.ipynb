{
 "cells": [
  {
   "cell_type": "markdown",
   "id": "6476a09c-5b62-437e-9f28-baba9d37df9c",
   "metadata": {},
   "source": [
    "# Combine raw data across all samples"
   ]
  },
  {
   "cell_type": "markdown",
   "id": "a4b276cf-c764-46dd-bbf2-367a9376e37f",
   "metadata": {},
   "source": [
    "In this notebook, we'll use the file manifest we previously assembled to retrieve all of the human PBMC data that we'll use to assemble our reference dataset.\n",
    "\n",
    "Here, we'll retrieve data from each each individual sample, stored in HDF5 format in HISE, and concatenate them into a single AnnData object."
   ]
  },
  {
   "cell_type": "markdown",
   "id": "efe71b68-9e3e-4860-99e3-7da0238565c5",
   "metadata": {
    "jp-MarkdownHeadingCollapsed": true
   },
   "source": [
    "## Load Packages\n",
    "\n",
    "anndata: Data structures for scRNA-seq  \n",
    "h5py: HDF5 file I/O  \n",
    "hisepy: The HISE SDK for Python  \n",
    "numpy: Mathematical data structures and computation  \n",
    "os: operating system calls  \n",
    "pandas: DataFrame data structures  \n",
    "re: Regular expressions  \n",
    "scanpy: scRNA-seq analysis  \n",
    "scipy.sparse: Spare matrix data structures  \n",
    "shutil: Shell utilities"
   ]
  },
  {
   "cell_type": "code",
   "execution_count": 1,
   "id": "3f29b888-622d-41b4-838e-fe977defc551",
   "metadata": {
    "tags": []
   },
   "outputs": [],
   "source": [
    "import anndata\n",
    "import h5py\n",
    "import hisepy\n",
    "import numpy as np\n",
    "import os\n",
    "import pandas as pd\n",
    "import re\n",
    "import scanpy as sc\n",
    "import scipy.sparse as scs\n",
    "import shutil"
   ]
  },
  {
   "cell_type": "markdown",
   "id": "a019a1f9-7e5e-406e-be95-6437bfb4251f",
   "metadata": {},
   "source": [
    "## Helper functions\n",
    "\n",
    "These functions assist in reading from our pipeline .h5 file format into AnnData format:"
   ]
  },
  {
   "cell_type": "code",
   "execution_count": 2,
   "id": "80c98f5b-1226-4549-b360-50901a977a8b",
   "metadata": {
    "tags": []
   },
   "outputs": [],
   "source": [
    "# define a function to read count data\n",
    "def read_mat(h5_con):\n",
    "    mat = scs.csc_matrix(\n",
    "        (h5_con['matrix']['data'][:], # Count values\n",
    "         h5_con['matrix']['indices'][:], # Row indices\n",
    "         h5_con['matrix']['indptr'][:]), # Pointers for column positions\n",
    "        shape = tuple(h5_con['matrix']['shape'][:]) # Matrix dimensions\n",
    "    )\n",
    "    return mat\n",
    "\n",
    "# define a function to read obeservation metadata (i.e. cell metadata)\n",
    "def read_obs(h5con):\n",
    "    bc = h5con['matrix']['barcodes'][:]\n",
    "    bc = [x.decode('UTF-8') for x in bc]\n",
    "\n",
    "    # Initialized the DataFrame with cell barcodes\n",
    "    obs_df = pd.DataFrame({ 'barcodes' : bc })\n",
    "\n",
    "    # Get the list of available metadata columns\n",
    "    obs_columns = h5con['matrix']['observations'].keys()\n",
    "\n",
    "    # For each column\n",
    "    for col in obs_columns:\n",
    "        # Read the values\n",
    "        values = h5con['matrix']['observations'][col][:]\n",
    "        # Check for byte storage\n",
    "        if(isinstance(values[0], (bytes, bytearray))):\n",
    "            # Decode byte strings\n",
    "            values = [x.decode('UTF-8') for x in values]\n",
    "        # Add column to the DataFrame\n",
    "        obs_df[col] = values\n",
    "\n",
    "    obs_df = obs_df.set_index('barcodes', drop = False)\n",
    "    \n",
    "    return obs_df\n",
    "\n",
    "# define a function to construct anndata object from a h5 file\n",
    "def read_h5_anndata(h5_con):\n",
    "    #h5_con = h5py.File(h5_file, mode = 'r')\n",
    "    # extract the expression matrix\n",
    "    mat = read_mat(h5_con)\n",
    "    # extract gene names\n",
    "    genes = h5_con['matrix']['features']['name'][:]\n",
    "    genes = [x.decode('UTF-8') for x in genes]\n",
    "    # extract metadata\n",
    "    obs_df = read_obs(h5_con)\n",
    "    # construct anndata\n",
    "    adata = anndata.AnnData(mat.T,\n",
    "                             obs = obs_df)\n",
    "    # make sure the gene names aligned\n",
    "    adata.var_names = genes\n",
    "\n",
    "    adata.var_names_make_unique()\n",
    "    return adata"
   ]
  },
  {
   "cell_type": "markdown",
   "id": "d358bb45-6771-49eb-b5ed-9527b0622fe5",
   "metadata": {},
   "source": [
    "## Retrieve file list from HISE\n",
    "\n",
    "First, we'll pull the manifest of samples and associated files that we want to retrieve for building our reference dataset. We previously assembled this file and loaded it into HISE via a Watchfolder."
   ]
  },
  {
   "cell_type": "code",
   "execution_count": 3,
   "id": "1ceeb579-ab47-431e-b3b3-4008abfa1025",
   "metadata": {},
   "outputs": [
    {
     "name": "stdout",
     "output_type": "stream",
     "text": [
      "Help on function download_files in module hisepy.reader:\n",
      "\n",
      "download_files(file_dict: dict)\n",
      "    Read the contents of a dictionary of non-result file ids into hise_file objects\n",
      "    These files will contain NULL descriptors (since they are not result files)\n",
      "    \n",
      "    Parameters:\n",
      "        file_dict (dict): a dictionary of file_uuid: file_name\n",
      "    \n",
      "    Returns:\n",
      "        a list of hise_file objects with empty descriptors\n",
      "\n"
     ]
    }
   ],
   "source": [
    "help(hisepy.reader.download_files)"
   ]
  },
  {
   "cell_type": "code",
   "execution_count": 4,
   "id": "08eb708a-fcbc-4830-8104-b99e91154c18",
   "metadata": {},
   "outputs": [],
   "source": [
    "manifest_file_uuid = '223b4aa9-19fc-41e1-8bea-43682e5ac278'\n",
    "manifest_file_name = 'ref_h5_meta_data_2024-02-08.csv'\n",
    "manifest_file_dict = {\n",
    "    manifest_file_uuid: manifest_file_name\n",
    "}"
   ]
  },
  {
   "cell_type": "code",
   "execution_count": 5,
   "id": "2614cc37-5321-4036-a786-2dcaf75f170e",
   "metadata": {},
   "outputs": [],
   "source": [
    "res = hisepy.reader.download_files(manifest_file_dict)"
   ]
  },
  {
   "cell_type": "markdown",
   "id": "bf570fdb-871d-462f-b2ae-ba92029d4564",
   "metadata": {},
   "source": [
    "After download, the file is stored in `cache/downloadable/`"
   ]
  },
  {
   "cell_type": "code",
   "execution_count": 6,
   "id": "a7bfdcc2-a55c-4211-87d3-577a3432fc76",
   "metadata": {},
   "outputs": [],
   "source": [
    "manifest_file = \"cache/downloadable/{fn}\".format(fn = manifest_file_name)\n",
    "meta_data = pd.read_csv(manifest_file)"
   ]
  },
  {
   "cell_type": "markdown",
   "id": "04c81ddd-bce5-4699-b08d-0952ddb35064",
   "metadata": {},
   "source": [
    "Next, we'll use this list of files to read and assemble a combined dataset"
   ]
  },
  {
   "cell_type": "code",
   "execution_count": 7,
   "id": "1f799d76-7163-40cf-8b7f-bb65b55ff0f1",
   "metadata": {},
   "outputs": [
    {
     "name": "stdout",
     "output_type": "stream",
     "text": [
      "Help on function read_files in module hisepy.reader:\n",
      "\n",
      "read_files(file_list: list = None, query_id: list = None, query_dict: dict = None, to_df: bool = True)\n",
      "    Read the contents of a list of file ids into a hise_file object\n",
      "    Note: users should only use 1 parameter per function call\n",
      "    \n",
      "    Parameters:\n",
      "        file_list (list): a list of UUIDS to retrieve\n",
      "        query_id (str): string value of queryID from Advanced Search\n",
      "        query_dict (dict): dictionary that allows users to submit a query.\n",
      "            Note: for each key:value pair, the value must be of type list\n",
      "        to_df (bool):  boolean determining whether result should be returned as a data.frame. \n",
      "    \n",
      "    Returns:\n",
      "        a list of hise_file objects\n",
      "    \n",
      "    Example: hp.read_files(file_list=['6cb2f536-2d20-4e66-b04d-327dce6870f4'])\n",
      "\n"
     ]
    }
   ],
   "source": [
    "help(hisepy.reader.read_files)"
   ]
  },
  {
   "cell_type": "markdown",
   "id": "eb0067c6-9f0d-4a3f-bb6c-4e6e17da895a",
   "metadata": {},
   "source": [
    "read_files will return a dictionary with an entry, `values`, that contains a list of `h5py.File()` objects. We can use these directly to read in each .h5 file to an AnnData object with our helper function, `read_h5_anndata()`, defined above.\n",
    "\n",
    "After we read the file, we don't need to keep the file on disk, so we'll remove it."
   ]
  },
  {
   "cell_type": "code",
   "execution_count": 8,
   "id": "cb069cb3-7785-4488-b25c-c4b63581c708",
   "metadata": {},
   "outputs": [],
   "source": [
    "def get_adata(uuid):\n",
    "    # Load the file using HISE\n",
    "    res = hisepy.reader.read_files([uuid])\n",
    "    \n",
    "    # Read the file to adata\n",
    "    h5_con = res['values'][0]\n",
    "    adata = read_h5_anndata(h5_con)\n",
    "    \n",
    "    # Clean up the file now that we're done with it\n",
    "    h5_file = h5_con.filename\n",
    "    h5_con.close()\n",
    "    h5_dir = re.sub('(cache/[^/]+/).+','\\\\1',h5_file)\n",
    "    shutil.rmtree(h5_dir)\n",
    "\n",
    "    return(adata)"
   ]
  },
  {
   "cell_type": "markdown",
   "id": "d62b5249-cdca-43d3-862a-ed72b2794e0d",
   "metadata": {},
   "source": [
    "Here, we'll iterate over each file in our manifest"
   ]
  },
  {
   "cell_type": "code",
   "execution_count": 9,
   "id": "0c2fb32d-7755-4029-a41e-eb809e096e28",
   "metadata": {},
   "outputs": [],
   "source": [
    "adata_list = []\n",
    "for i in range(meta_data.shape[0]):\n",
    "    uuid = meta_data['file.id'][i]\n",
    "    adata_list.append(get_adata(uuid))"
   ]
  },
  {
   "cell_type": "markdown",
   "id": "9f9d495a-1511-4d04-9bd3-54a667870e44",
   "metadata": {},
   "source": [
    "Concatenate all of the datasets into a single object"
   ]
  },
  {
   "cell_type": "code",
   "execution_count": 10,
   "id": "2eaafbce-41aa-438a-89a3-08a84f82682d",
   "metadata": {},
   "outputs": [],
   "source": [
    "adata = anndata.concat(adata_list)"
   ]
  },
  {
   "cell_type": "markdown",
   "id": "5e8791a8-3ab4-4e4a-9c06-54ecce67c173",
   "metadata": {},
   "source": [
    "Save combined object to .h5ad"
   ]
  },
  {
   "cell_type": "code",
   "execution_count": 11,
   "id": "f86d17ee-9307-4d7a-9aed-13f25ea59f33",
   "metadata": {
    "tags": []
   },
   "outputs": [],
   "source": [
    "out_dir = 'output'\n",
    "if not os.path.isdir(out_dir):\n",
    "    os.makedirs(out_dir)"
   ]
  },
  {
   "cell_type": "code",
   "execution_count": 12,
   "id": "ef9c2838-e688-444c-aef3-ce3e6cc980dd",
   "metadata": {
    "scrolled": true,
    "tags": []
   },
   "outputs": [],
   "source": [
    "out_h5ad = 'output/adata_all_raw.h5ad'\n",
    "adata.write_h5ad(out_h5ad)"
   ]
  },
  {
   "cell_type": "markdown",
   "id": "f7458418-4ecd-4b34-a318-aa7426613d02",
   "metadata": {},
   "source": [
    "## Upload assembled data to HISE\n",
    "\n",
    "Finally, we'll use `hisepy.upload.upload_files()` to send a copy of our output to HISE to use for downstream analysis steps."
   ]
  },
  {
   "cell_type": "code",
   "execution_count": 13,
   "id": "20ae7403-7572-423e-a875-eb463aa956b0",
   "metadata": {},
   "outputs": [
    {
     "name": "stdout",
     "output_type": "stream",
     "text": [
      "Help on function upload_files in module hisepy.upload:\n",
      "\n",
      "upload_files(files: list, study_space_id: str = None, project: str = None, title: str = None, input_file_ids=None, input_sample_ids=None, file_types=None, store=None, destination=None, do_prompt: bool = True)\n",
      "    Uploads files to a specified study.\n",
      "    \n",
      "    Parameters:\n",
      "        files (list): absolute filepath of file to be uploaded\n",
      "        study_space_id (str): ID that pertains to a study in the collaboration space (optional)\n",
      "        project (str): project short name (required if study space is not specified)\n",
      "        title (str): 10+ character title for upload result \n",
      "        input_file_ids (list): fileIds from HISE that were utilized to generate a user's result\n",
      "        input_sample_ids (list): sampleIds from HISE that were utilized to generate a user's result\n",
      "        file_types (str): filetype of uploaded files \n",
      "        store (str): Which store ('project' or 'permanent') to use for the files (default in 'project')\n",
      "        destination (str): Destination folder for the files \n",
      "        do_prompt (bool): whether or not to prompt for user's input, asking to proceed.\n",
      "    Returns: \n",
      "        dictionary with keys [\"trace_id\", \"files\"]\n",
      "    Example: \n",
      "        hp.upload_files(files=['/home/jupyter/upload_file.csv'],\n",
      "                        study_space_id='f2f03ecb-5a1d-4995-8db9-56bd18a36aba',\n",
      "                        title='a upload title',\n",
      "                        input_file_ids=['9f6d7ab5-1c7b-4709-9455-3d8ffffbb6c8'])\n",
      "\n"
     ]
    }
   ],
   "source": [
    "help(hisepy.upload.upload_files)"
   ]
  },
  {
   "cell_type": "code",
   "execution_count": 14,
   "id": "c77a54a4-598e-48c3-802f-c471682b2daa",
   "metadata": {},
   "outputs": [],
   "source": [
    "study_space_uuid = '64097865-486d-43b3-8f94-74994e0a72e0'\n",
    "title = 'Assembled Raw PBMC .h5ad'"
   ]
  },
  {
   "cell_type": "code",
   "execution_count": 15,
   "id": "8b7bdf5d-cffb-400c-8fd2-41ce3b1ed39f",
   "metadata": {},
   "outputs": [],
   "source": [
    "in_files = [manifest_file_uuid] + meta_data['file.id'].to_list()"
   ]
  },
  {
   "cell_type": "code",
   "execution_count": 16,
   "id": "db1d5b7b-42e6-41c0-9a40-885a9e906228",
   "metadata": {},
   "outputs": [],
   "source": [
    "out_file = [out_h5ad]"
   ]
  },
  {
   "cell_type": "code",
   "execution_count": 17,
   "id": "9932e0a1-c186-4e8c-960d-01e42276e29c",
   "metadata": {},
   "outputs": [
    {
     "name": "stdout",
     "output_type": "stream",
     "text": [
      "you are trying to upload file_ids... ['output/adata_all_raw.h5ad']. Do you truly want to proceed?\n"
     ]
    },
    {
     "name": "stdin",
     "output_type": "stream",
     "text": [
      "(y/n) y\n"
     ]
    },
    {
     "data": {
      "text/plain": [
       "{'trace_id': '74e553f6-30eb-45ca-ac9e-ff6bb20c8812',\n",
       " 'files': ['output/adata_all_raw.h5ad']}"
      ]
     },
     "execution_count": 17,
     "metadata": {},
     "output_type": "execute_result"
    }
   ],
   "source": [
    "hisepy.upload.upload_files(\n",
    "    files = out_file,\n",
    "    study_space_id = study_space_uuid,\n",
    "    title = title,\n",
    "    input_file_ids = in_files\n",
    ")"
   ]
  },
  {
   "cell_type": "code",
   "execution_count": 18,
   "id": "9a681faf-5c56-42c5-8fb1-7987ac2384cf",
   "metadata": {},
   "outputs": [
    {
     "data": {
      "text/html": [
       "<details>\n",
       "<summary>Click to view session information</summary>\n",
       "<pre>\n",
       "-----\n",
       "anndata             0.10.3\n",
       "h5py                3.10.0\n",
       "hisepy              0.3.0\n",
       "numpy               1.24.0\n",
       "pandas              2.1.4\n",
       "scanpy              1.9.6\n",
       "scipy               1.11.4\n",
       "session_info        1.0.0\n",
       "-----\n",
       "</pre>\n",
       "<details>\n",
       "<summary>Click to view modules imported as dependencies</summary>\n",
       "<pre>\n",
       "PIL                         10.0.1\n",
       "anyio                       NA\n",
       "arrow                       1.3.0\n",
       "asttokens                   NA\n",
       "attr                        23.2.0\n",
       "attrs                       23.2.0\n",
       "babel                       2.14.0\n",
       "beatrix_jupyterlab          NA\n",
       "brotli                      NA\n",
       "cachetools                  5.3.1\n",
       "certifi                     2023.11.17\n",
       "cffi                        1.16.0\n",
       "charset_normalizer          3.3.2\n",
       "cloudpickle                 2.2.1\n",
       "colorama                    0.4.6\n",
       "comm                        0.1.4\n",
       "cryptography                41.0.7\n",
       "cycler                      0.10.0\n",
       "cython_runtime              NA\n",
       "dateutil                    2.8.2\n",
       "db_dtypes                   1.1.1\n",
       "debugpy                     1.8.0\n",
       "decorator                   5.1.1\n",
       "defusedxml                  0.7.1\n",
       "deprecated                  1.2.14\n",
       "exceptiongroup              1.2.0\n",
       "executing                   2.0.1\n",
       "fastjsonschema              NA\n",
       "fqdn                        NA\n",
       "google                      NA\n",
       "greenlet                    2.0.2\n",
       "grpc                        1.58.0\n",
       "grpc_status                 NA\n",
       "idna                        3.6\n",
       "igraph                      0.10.8\n",
       "importlib_metadata          NA\n",
       "ipykernel                   6.28.0\n",
       "ipython_genutils            0.2.0\n",
       "ipywidgets                  8.1.1\n",
       "isoduration                 NA\n",
       "jedi                        0.19.1\n",
       "jinja2                      3.1.2\n",
       "joblib                      1.3.2\n",
       "json5                       NA\n",
       "jsonpointer                 2.4\n",
       "jsonschema                  4.20.0\n",
       "jsonschema_specifications   NA\n",
       "jupyter_events              0.9.0\n",
       "jupyter_server              2.12.1\n",
       "jupyterlab_server           2.25.2\n",
       "jwt                         2.8.0\n",
       "kiwisolver                  1.4.5\n",
       "leidenalg                   0.10.1\n",
       "llvmlite                    0.41.0\n",
       "lz4                         4.3.2\n",
       "markupsafe                  2.1.3\n",
       "matplotlib                  3.8.0\n",
       "matplotlib_inline           0.1.6\n",
       "mpl_toolkits                NA\n",
       "mpmath                      1.3.0\n",
       "natsort                     8.4.0\n",
       "nbformat                    5.9.2\n",
       "numba                       0.58.0\n",
       "opentelemetry               NA\n",
       "overrides                   NA\n",
       "packaging                   23.2\n",
       "parso                       0.8.3\n",
       "pexpect                     4.8.0\n",
       "pickleshare                 0.7.5\n",
       "pkg_resources               NA\n",
       "platformdirs                4.1.0\n",
       "plotly                      5.18.0\n",
       "prettytable                 3.9.0\n",
       "prometheus_client           NA\n",
       "prompt_toolkit              3.0.42\n",
       "proto                       NA\n",
       "psutil                      NA\n",
       "ptyprocess                  0.7.0\n",
       "pure_eval                   0.2.2\n",
       "pyarrow                     13.0.0\n",
       "pydev_ipython               NA\n",
       "pydevconsole                NA\n",
       "pydevd                      2.9.5\n",
       "pydevd_file_utils           NA\n",
       "pydevd_plugins              NA\n",
       "pydevd_tracing              NA\n",
       "pygments                    2.17.2\n",
       "pynvml                      NA\n",
       "pyparsing                   3.1.1\n",
       "pyreadr                     0.5.0\n",
       "pythonjsonlogger            NA\n",
       "pytz                        2023.3.post1\n",
       "referencing                 NA\n",
       "requests                    2.31.0\n",
       "rfc3339_validator           0.1.4\n",
       "rfc3986_validator           0.1.1\n",
       "rpds                        NA\n",
       "send2trash                  NA\n",
       "shapely                     1.8.5.post1\n",
       "six                         1.16.0\n",
       "sklearn                     1.3.2\n",
       "sniffio                     1.3.0\n",
       "socks                       1.7.1\n",
       "sql                         NA\n",
       "sqlalchemy                  2.0.21\n",
       "sqlparse                    0.4.4\n",
       "stack_data                  0.6.2\n",
       "sympy                       1.12\n",
       "termcolor                   NA\n",
       "texttable                   1.7.0\n",
       "threadpoolctl               3.2.0\n",
       "torch                       2.1.2+cu121\n",
       "torchgen                    NA\n",
       "tornado                     6.3.3\n",
       "tqdm                        4.66.1\n",
       "traitlets                   5.9.0\n",
       "typing_extensions           NA\n",
       "uri_template                NA\n",
       "urllib3                     1.26.18\n",
       "wcwidth                     0.2.12\n",
       "webcolors                   1.13\n",
       "websocket                   1.7.0\n",
       "wrapt                       1.15.0\n",
       "xarray                      2023.12.0\n",
       "yaml                        6.0.1\n",
       "zipp                        NA\n",
       "zmq                         25.1.2\n",
       "zoneinfo                    NA\n",
       "zstandard                   0.22.0\n",
       "</pre>\n",
       "</details> <!-- seems like this ends pre, so might as well be explicit -->\n",
       "<pre>\n",
       "-----\n",
       "IPython             8.19.0\n",
       "jupyter_client      8.6.0\n",
       "jupyter_core        5.6.1\n",
       "jupyterlab          4.0.10\n",
       "notebook            6.5.4\n",
       "-----\n",
       "Python 3.10.13 | packaged by conda-forge | (main, Dec 23 2023, 15:36:39) [GCC 12.3.0]\n",
       "Linux-5.15.0-1051-gcp-x86_64-with-glibc2.31\n",
       "-----\n",
       "Session information updated at 2024-02-13 00:26\n",
       "</pre>\n",
       "</details>"
      ],
      "text/plain": [
       "<IPython.core.display.HTML object>"
      ]
     },
     "execution_count": 18,
     "metadata": {},
     "output_type": "execute_result"
    }
   ],
   "source": [
    "import session_info\n",
    "session_info.show()"
   ]
  },
  {
   "cell_type": "code",
   "execution_count": null,
   "id": "e9bcad40-7abe-44b9-b143-a6afa67f0bdf",
   "metadata": {},
   "outputs": [],
   "source": []
  }
 ],
 "metadata": {
  "kernelspec": {
   "display_name": "Python 3 (ipykernel)",
   "language": "python",
   "name": "python3"
  },
  "language_info": {
   "codemirror_mode": {
    "name": "ipython",
    "version": 3
   },
   "file_extension": ".py",
   "mimetype": "text/x-python",
   "name": "python",
   "nbconvert_exporter": "python",
   "pygments_lexer": "ipython3",
   "version": "3.10.13"
  }
 },
 "nbformat": 4,
 "nbformat_minor": 5
}
