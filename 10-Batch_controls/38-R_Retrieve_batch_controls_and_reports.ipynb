{
 "cells": [
  {
   "cell_type": "markdown",
   "id": "f4143c1d-4f24-4aae-9d6d-98552383c4a6",
   "metadata": {},
   "source": [
    "# Select batch control data for samples"
   ]
  },
  {
   "cell_type": "markdown",
   "id": "18f31246-4851-4a0d-a915-68ec4894d1ad",
   "metadata": {},
   "source": [
    "## Load packages"
   ]
  },
  {
   "cell_type": "code",
   "execution_count": 1,
   "id": "5adb72ac-565d-4960-931c-3803a71e145c",
   "metadata": {
    "tags": []
   },
   "outputs": [],
   "source": [
    "quiet_library <- function(...) { suppressPackageStartupMessages(library(...)) }\n",
    "quiet_library(hise)\n",
    "quiet_library(dplyr)\n",
    "quiet_library(purrr)"
   ]
  },
  {
   "cell_type": "code",
   "execution_count": 2,
   "id": "cd581d53-96b6-4cc8-8ad1-2383a74087ec",
   "metadata": {},
   "outputs": [],
   "source": [
    "if(!dir.exists(\"output\")) {\n",
    "    dir.create(\"output\")\n",
    "}"
   ]
  },
  {
   "cell_type": "code",
   "execution_count": 3,
   "id": "5c6b1dcf-6c5a-4d90-b34f-085c1d705c41",
   "metadata": {},
   "outputs": [],
   "source": [
    "if(!dir.exists(\"batch_control_h5\")) {\n",
    "    dir.create(\"batch_control_h5\")\n",
    "}\n",
    "if(!dir.exists(\"batch_reports\")) {\n",
    "    dir.create(\"batch_reports\")\n",
    "}"
   ]
  },
  {
   "cell_type": "markdown",
   "id": "63f9e396-c27d-4854-9563-e140cc511c32",
   "metadata": {},
   "source": [
    "## Retreive sample metadata\n",
    "\n",
    "In an earlier step, we assembled and stored sample metadata in HISE. We'll pull this file, and use it to retrieve file for our labeling process."
   ]
  },
  {
   "cell_type": "code",
   "execution_count": 4,
   "id": "2045259e-7a59-4768-809c-d18f1ec63039",
   "metadata": {},
   "outputs": [],
   "source": [
    "sample_meta_uuid <- \"2da66a1a-17cc-498b-9129-6858cf639caf\""
   ]
  },
  {
   "cell_type": "code",
   "execution_count": 5,
   "id": "e9936013-0f3b-4b47-91c5-d01f8b6c89cb",
   "metadata": {},
   "outputs": [
    {
     "name": "stdout",
     "output_type": "stream",
     "text": [
      "[1] \"Initiating file download for ref_h5_meta_data_2024-02-18.csv\"\n",
      "[1] \"Download successful.\"\n"
     ]
    }
   ],
   "source": [
    "res <- cacheFiles(list(sample_meta_uuid))\n",
    "sample_meta_file <- list.files(\n",
    "    paste0(\"cache/\", sample_meta_uuid), \n",
    "    pattern = \".csv\",\n",
    "    full.names = TRUE\n",
    ")"
   ]
  },
  {
   "cell_type": "code",
   "execution_count": 6,
   "id": "167339bb-3f00-41e5-975b-ff32e63e1135",
   "metadata": {},
   "outputs": [],
   "source": [
    "hise_meta <- read.csv(sample_meta_file)"
   ]
  },
  {
   "cell_type": "code",
   "execution_count": 7,
   "id": "e263fbb7-2b12-42dd-8d7c-a40435e93bfa",
   "metadata": {},
   "outputs": [
    {
     "data": {
      "text/html": [
       "<style>\n",
       ".list-inline {list-style: none; margin:0; padding: 0}\n",
       ".list-inline>li {display: inline-block}\n",
       ".list-inline>li:not(:last-child)::after {content: \"\\00b7\"; padding: 0 .5ex}\n",
       "</style>\n",
       "<ol class=list-inline><li>'B001-P1'</li><li>'B001-P1'</li><li>'B001-P1'</li><li>''</li><li>''</li><li>''</li></ol>\n"
      ],
      "text/latex": [
       "\\begin{enumerate*}\n",
       "\\item 'B001-P1'\n",
       "\\item 'B001-P1'\n",
       "\\item 'B001-P1'\n",
       "\\item ''\n",
       "\\item ''\n",
       "\\item ''\n",
       "\\end{enumerate*}\n"
      ],
      "text/markdown": [
       "1. 'B001-P1'\n",
       "2. 'B001-P1'\n",
       "3. 'B001-P1'\n",
       "4. ''\n",
       "5. ''\n",
       "6. ''\n",
       "\n",
       "\n"
      ],
      "text/plain": [
       "[1] \"B001-P1\" \"B001-P1\" \"B001-P1\" \"\"        \"\"        \"\"       "
      ]
     },
     "metadata": {},
     "output_type": "display_data"
    }
   ],
   "source": [
    "head(hise_meta$file.pool)"
   ]
  },
  {
   "cell_type": "markdown",
   "id": "a95be9db-e455-4733-845b-2dbc96082e71",
   "metadata": {},
   "source": [
    "## Locate batch control data\n",
    "\n",
    "Batch control data are generated using the same subject across all batches. We can locate these datasets using the set of unique Batch IDs in our sample metadata, and select our control subject.subjectGuid values of \"HMN169517\" and \"HMN200910\". There should be one batch control sample for each pool of cells, which means there can be either 1 or 2 control datasets for each batch."
   ]
  },
  {
   "cell_type": "code",
   "execution_count": 8,
   "id": "96b25387-fd75-4014-ab5f-607653a6d2ac",
   "metadata": {},
   "outputs": [
    {
     "data": {
      "text/html": [
       "<style>\n",
       ".list-inline {list-style: none; margin:0; padding: 0}\n",
       ".list-inline>li {display: inline-block}\n",
       ".list-inline>li:not(:last-child)::after {content: \"\\00b7\"; padding: 0 .5ex}\n",
       "</style>\n",
       "<ol class=list-inline><li>'B001'</li><li>'B002'</li><li>'B078'</li><li>'B007'</li><li>'B010'</li><li>'B039'</li></ol>\n"
      ],
      "text/latex": [
       "\\begin{enumerate*}\n",
       "\\item 'B001'\n",
       "\\item 'B002'\n",
       "\\item 'B078'\n",
       "\\item 'B007'\n",
       "\\item 'B010'\n",
       "\\item 'B039'\n",
       "\\end{enumerate*}\n"
      ],
      "text/markdown": [
       "1. 'B001'\n",
       "2. 'B002'\n",
       "3. 'B078'\n",
       "4. 'B007'\n",
       "5. 'B010'\n",
       "6. 'B039'\n",
       "\n",
       "\n"
      ],
      "text/plain": [
       "[1] \"B001\" \"B002\" \"B078\" \"B007\" \"B010\" \"B039\""
      ]
     },
     "metadata": {},
     "output_type": "display_data"
    }
   ],
   "source": [
    "batch_ids <- unique(hise_meta$file.batchID)\n",
    "head(batch_ids)"
   ]
  },
  {
   "cell_type": "code",
   "execution_count": 9,
   "id": "70d29aff-e163-4096-bba4-9983822538a1",
   "metadata": {},
   "outputs": [
    {
     "data": {
      "text/html": [
       "36"
      ],
      "text/latex": [
       "36"
      ],
      "text/markdown": [
       "36"
      ],
      "text/plain": [
       "[1] 36"
      ]
     },
     "metadata": {},
     "output_type": "display_data"
    }
   ],
   "source": [
    "length(batch_ids)"
   ]
  },
  {
   "cell_type": "code",
   "execution_count": 10,
   "id": "a801e86e-d855-466a-88f9-64561a9244af",
   "metadata": {},
   "outputs": [],
   "source": [
    "batch_desc <- getFileDescriptors(\n",
    "    fileType = \"scRNA-seq-labeled\",\n",
    "    filter = list(\n",
    "        file.batchID = batch_ids\n",
    "    )\n",
    ")\n",
    "batch_desc <- fileDescToDataframe(batch_desc)"
   ]
  },
  {
   "cell_type": "code",
   "execution_count": 11,
   "id": "d3cc0afc-92c0-45ac-9138-cc3c7e248f61",
   "metadata": {},
   "outputs": [],
   "source": [
    "control_subjects <- c(\"HMN169517\",\"HMN200910\")"
   ]
  },
  {
   "cell_type": "code",
   "execution_count": 12,
   "id": "1f72a9f4-faf6-4d56-b523-676f9dedba42",
   "metadata": {},
   "outputs": [],
   "source": [
    "control_meta <- batch_desc %>%\n",
    "  filter(subject.subjectGuid %in% control_subjects)"
   ]
  },
  {
   "cell_type": "code",
   "execution_count": 13,
   "id": "d0b52239-29a4-4605-bd48-0387f92fdc01",
   "metadata": {},
   "outputs": [
    {
     "data": {
      "text/html": [
       "67"
      ],
      "text/latex": [
       "67"
      ],
      "text/markdown": [
       "67"
      ],
      "text/plain": [
       "[1] 67"
      ]
     },
     "metadata": {},
     "output_type": "display_data"
    }
   ],
   "source": [
    "nrow(control_meta)"
   ]
  },
  {
   "cell_type": "markdown",
   "id": "8e981d04-9e81-4d1c-8878-2a4dc42d77c8",
   "metadata": {},
   "source": [
    "Are all batches represented?"
   ]
  },
  {
   "cell_type": "code",
   "execution_count": 14,
   "id": "f63755ba-22aa-4dd1-8d9d-7eaef076165e",
   "metadata": {},
   "outputs": [
    {
     "data": {
      "text/html": [
       "0"
      ],
      "text/latex": [
       "0"
      ],
      "text/markdown": [
       "0"
      ],
      "text/plain": [
       "[1] 0"
      ]
     },
     "metadata": {},
     "output_type": "display_data"
    }
   ],
   "source": [
    "length(setdiff(batch_ids, control_meta$file.batchID))"
   ]
  },
  {
   "cell_type": "markdown",
   "id": "c6f8634d-5a69-4d61-9ab4-1f36752e995c",
   "metadata": {},
   "source": [
    "### Refine from batch to pool\n",
    "\n",
    "We can use file names to refine our controls to just the specific pools within our batches that were used for our full dataset."
   ]
  },
  {
   "cell_type": "code",
   "execution_count": 15,
   "id": "183d3ed9-45fb-49d5-b968-4d036a28e4a4",
   "metadata": {},
   "outputs": [],
   "source": [
    "hise_meta$file.pool <- sub(\"_.+\", \"\", basename(hise_meta$file.name))\n",
    "pool_ids <- unique(hise_meta$file.pool)"
   ]
  },
  {
   "cell_type": "code",
   "execution_count": 16,
   "id": "3c71cac2-fdac-4212-8587-3fec228ad758",
   "metadata": {},
   "outputs": [
    {
     "data": {
      "text/html": [
       "46"
      ],
      "text/latex": [
       "46"
      ],
      "text/markdown": [
       "46"
      ],
      "text/plain": [
       "[1] 46"
      ]
     },
     "metadata": {},
     "output_type": "display_data"
    }
   ],
   "source": [
    "length(pool_ids)"
   ]
  },
  {
   "cell_type": "code",
   "execution_count": 17,
   "id": "fe0302b5-c775-47fd-9e64-3cf70f33f535",
   "metadata": {},
   "outputs": [],
   "source": [
    "control_meta$file.pool <- sub(\"_.+\", \"\", basename(control_meta$file.name))\n",
    "control_meta <- control_meta %>%\n",
    "  filter(file.pool %in% pool_ids)"
   ]
  },
  {
   "cell_type": "code",
   "execution_count": 18,
   "id": "d004b644-36fb-464d-929c-51c4ed46a630",
   "metadata": {},
   "outputs": [
    {
     "data": {
      "text/html": [
       "46"
      ],
      "text/latex": [
       "46"
      ],
      "text/markdown": [
       "46"
      ],
      "text/plain": [
       "[1] 46"
      ]
     },
     "metadata": {},
     "output_type": "display_data"
    }
   ],
   "source": [
    "nrow(control_meta)"
   ]
  },
  {
   "cell_type": "code",
   "execution_count": 19,
   "id": "ae9b5b92-8a44-422e-8a80-0885b2af4827",
   "metadata": {},
   "outputs": [
    {
     "data": {
      "text/html": [
       "0"
      ],
      "text/latex": [
       "0"
      ],
      "text/markdown": [
       "0"
      ],
      "text/plain": [
       "[1] 0"
      ]
     },
     "metadata": {},
     "output_type": "display_data"
    }
   ],
   "source": [
    "length(setdiff(pool_ids, control_meta$file.pool))"
   ]
  },
  {
   "cell_type": "markdown",
   "id": "cdf371f7-4335-4306-95a5-838b696c466b",
   "metadata": {},
   "source": [
    "## Retrieve batch control data"
   ]
  },
  {
   "cell_type": "code",
   "execution_count": 20,
   "id": "40fd9e18-1bca-4b2a-88e0-3efcbc8c48c8",
   "metadata": {},
   "outputs": [
    {
     "name": "stdout",
     "output_type": "stream",
     "text": [
      "[1] \"Initiating file download for B001-P1_IMM19_709_labeled.h5\"\n",
      "[1] \"Download successful.\"\n",
      "[1] \"Initiating file download for B002-P2_IMM19_698_2023-11-17T21:38:04.103392546Z_labeled.h5\"\n",
      "[1] \"Download successful.\"\n",
      "[1] \"Initiating file download for B002-P1_IMM19_698_2023-11-17T21:36:51.794326181Z_labeled.h5\"\n",
      "[1] \"Download successful.\"\n",
      "[1] \"Initiating file download for B078-P1_IMM19_447_2021-08-15T20:26:02.548957446Z_labeled.h5\"\n",
      "[1] \"Download successful.\"\n",
      "[1] \"Initiating file download for B078-P2_IMM19_447_2021-08-19T17:09:29.934849811Z_labeled.h5\"\n",
      "[1] \"Download successful.\"\n",
      "[1] \"Initiating file download for B007-P1_IMM19_389_2020-06-21T16:49:04.135845892Z_labeled.h5\"\n",
      "[1] \"Download successful.\"\n",
      "[1] \"Initiating file download for B010-P1_IMM19_394_2021-11-09T17:30:04.059664207Z_labeled.h5\"\n",
      "[1] \"Download successful.\"\n",
      "[1] \"Initiating file download for B039-P2_IMM19_412_2020-12-14T06:30:12.885244281Z_labeled.h5\"\n",
      "[1] \"Download successful.\"\n",
      "[1] \"Initiating file download for B039-P1_IMM19_412_2020-12-13T18:58:42.148340626Z_labeled.h5\"\n",
      "[1] \"Download successful.\"\n",
      "[1] \"Initiating file download for B036-P1_IMM19_409_2020-11-05T20:20:56.478927112Z_labeled.h5\"\n",
      "[1] \"Download successful.\"\n",
      "[1] \"Initiating file download for B056-P2_IMM19_429_2021-06-09T18:00:29.080476056Z_labeled.h5\"\n",
      "[1] \"Download successful.\"\n",
      "[1] \"Initiating file download for B050-P1_IMM19_422_2021-02-28T21:06:52.68159788Z_labeled.h5\"\n",
      "[1] \"Download successful.\"\n",
      "[1] \"Initiating file download for B041-P1_IMM19-1852_2021-02-11T20:48:07.416042815Z_labeled.h5\"\n",
      "[1] \"Download successful.\"\n",
      "[1] \"Initiating file download for B041-P2_IMM19-1852_2021-02-12T20:13:57.744090035Z_labeled.h5\"\n",
      "[1] \"Download successful.\"\n",
      "[1] \"Initiating file download for B047-P2_IMM19_419_2021-02-25T00:07:50.971832932Z_labeled.h5\"\n",
      "[1] \"Download successful.\"\n",
      "[1] \"Initiating file download for B040-P1_IMM19_413_2021-02-14T05:03:10.129208213Z_labeled.h5\"\n",
      "[1] \"Download successful.\"\n",
      "[1] \"Initiating file download for B040-P2_IMM19_413_2021-03-24T00:48:50.255094117Z_labeled.h5\"\n",
      "[1] \"Download successful.\"\n",
      "[1] \"Initiating file download for B046-P1_IMM19_418_2021-02-24T00:12:47.912386239Z_labeled.h5\"\n",
      "[1] \"Download successful.\"\n",
      "[1] \"Initiating file download for B046-P2_IMM19_418_2021-02-24T00:13:26.04313294Z_labeled.h5\"\n",
      "[1] \"Download successful.\"\n",
      "[1] \"Initiating file download for B142-P2_IMM19_501_2022-11-16T19:59:12.434982913Z_labeled.h5\"\n",
      "[1] \"Download successful.\"\n",
      "[1] \"Initiating file download for B077-P2_IMM19_446_2021-07-23T23:25:52.724598929Z_labeled.h5\"\n",
      "[1] \"Download successful.\"\n",
      "[1] \"Initiating file download for B055-P2_IMM19_428_2021-07-18T21:22:58.754356074Z_labeled.h5\"\n",
      "[1] \"Download successful.\"\n",
      "[1] \"Initiating file download for B067-P2_IMM19_436_2023-05-10T23:59:25.925856679Z_labeled.h5\"\n",
      "[1] \"Download successful.\"\n",
      "[1] \"Initiating file download for B053-P1_IMM19_425_2021-03-16T16:53:54.504538818Z_labeled.h5\"\n",
      "[1] \"Download successful.\"\n",
      "[1] \"Initiating file download for B053-P2_IMM19_425_2021-10-01T22:42:30.043074144Z_labeled.h5\"\n",
      "[1] \"Download successful.\"\n",
      "[1] \"Initiating file download for B082-P2_IMM19_451_2021-08-22T03:15:23.834723601Z_labeled.h5\"\n",
      "[1] \"Download successful.\"\n",
      "[1] \"Initiating file download for B043-P1_IMM19_415_2021-01-28T01:04:59.754710921Z_labeled.h5\"\n",
      "[1] \"Download successful.\"\n",
      "[1] \"Initiating file download for B064-P1_IMM19_434_2021-06-13T18:07:41.688427174Z_labeled.h5\"\n",
      "[1] \"Download successful.\"\n",
      "[1] \"Initiating file download for B045-P1_IMM19_417_2021-02-20T17:54:07.896349649Z_labeled.h5\"\n",
      "[1] \"Download successful.\"\n",
      "[1] \"Initiating file download for B073-P1_IMM19_442_2021-07-16T04:07:49.451824358Z_labeled.h5\"\n",
      "[1] \"Download successful.\"\n",
      "[1] \"Initiating file download for B073-P2_IMM19_442_2021-07-16T04:08:14.677295096Z_labeled.h5\"\n",
      "[1] \"Download successful.\"\n",
      "[1] \"Initiating file download for B072-P2_IMM19_441_2021-07-12T17:24:20.370028377Z_labeled.h5\"\n",
      "[1] \"Download successful.\"\n",
      "[1] \"Initiating file download for B080-P2_IMM19_449_2021-08-17T16:54:06.046922824Z_labeled.h5\"\n",
      "[1] \"Download successful.\"\n",
      "[1] \"Initiating file download for B048-P2_IMM19_420_2021-02-26T23:24:20.340902222Z_labeled.h5\"\n",
      "[1] \"Download successful.\"\n",
      "[1] \"Initiating file download for B048-P1_IMM19_420_2021-03-01T17:06:41.838698747Z_labeled.h5\"\n",
      "[1] \"Download successful.\"\n",
      "[1] \"Initiating file download for B060-P2_IMM19_431_2021-04-20T21:56:32.569265429Z_labeled.h5\"\n",
      "[1] \"Download successful.\"\n",
      "[1] \"Initiating file download for B132-P2_IMM19_491_2023-08-01T23:45:21.463231471Z_labeled.h5\"\n",
      "[1] \"Download successful.\"\n",
      "[1] \"Initiating file download for B145-P2_IMM19_504_2023-02-11T00:49:32.117536882Z_labeled.h5\"\n",
      "[1] \"Download successful.\"\n",
      "[1] \"Initiating file download for B054-P1_IMM19_427_2022-06-28T21:54:05.984884065Z_labeled.h5\"\n",
      "[1] \"Download successful.\"\n",
      "[1] \"Initiating file download for B084-P2_IMM19_454_2021-09-29T16:53:56.828677249Z_labeled.h5\"\n",
      "[1] \"Download successful.\"\n",
      "[1] \"Initiating file download for B085-P2_IMM19_455_2021-10-07T16:25:25.021068654Z_labeled.h5\"\n",
      "[1] \"Download successful.\"\n",
      "[1] \"Initiating file download for B063-P2_IMM19_432_2021-05-27T20:39:53.63831316Z_labeled.h5\"\n",
      "[1] \"Download successful.\"\n",
      "[1] \"Initiating file download for B094-P2_IMM19_461_2021-11-24T17:15:39.555696237Z_labeled.h5\"\n",
      "[1] \"Download successful.\"\n",
      "[1] \"Initiating file download for B096-P2_IMM19_463_2021-11-28T04:01:08.720902535Z_labeled.h5\"\n",
      "[1] \"Download successful.\"\n",
      "[1] \"Initiating file download for B138-P1_IMM19_497_2022-11-08T19:14:56.863218242Z_labeled.h5\"\n",
      "[1] \"Download successful.\"\n",
      "[1] \"Initiating file download for B138-P2_IMM19_497_2022-11-08T19:15:22.447561185Z_labeled.h5\"\n",
      "[1] \"Download successful.\"\n"
     ]
    }
   ],
   "source": [
    "res <- map(control_meta$file.id, function(f) { cacheFiles(list(f)) })"
   ]
  },
  {
   "cell_type": "markdown",
   "id": "a412bdc4-3986-4991-8068-8000d2cce4c1",
   "metadata": {},
   "source": [
    "## Assemble batch control data"
   ]
  },
  {
   "cell_type": "code",
   "execution_count": 21,
   "id": "78c0dff9-f972-408e-b5e6-844e8969978e",
   "metadata": {},
   "outputs": [],
   "source": [
    "walk2(\n",
    "    control_meta$file.id, control_meta$file.pool,\n",
    "    function(file_id, pool) {\n",
    "        control_file <- list.files(paste0(\"cache/\", file_id), full.names = TRUE)\n",
    "        out_file <- paste0(\"batch_control_h5/\", pool, \"_batch_control.h5\")\n",
    "        file.copy(control_file, out_file)\n",
    "    }\n",
    ")"
   ]
  },
  {
   "cell_type": "code",
   "execution_count": 22,
   "id": "8e5ce3dc-35f2-4ded-81d1-5acc60ebe6b8",
   "metadata": {},
   "outputs": [],
   "source": [
    "control_data_tar <- paste0(\"output/ref_pbmc_batch_control_h5_\", Sys.Date(), \".tar\")\n",
    "tar_call <- paste(\"tar -cf\", control_data_tar, \"batch_control_h5/*\")\n",
    "system(tar_call)"
   ]
  },
  {
   "cell_type": "markdown",
   "id": "777774f5-6924-4216-9b9d-d258aa41db01",
   "metadata": {},
   "source": [
    "## Locate Pool QC reports\n",
    "\n",
    "QC reports are also generated for every pool we process. To assist in assessing our data quality, we'll retrieve these and bundle them along with our batch controls."
   ]
  },
  {
   "cell_type": "code",
   "execution_count": 23,
   "id": "984669d8-e7c6-450c-acfd-238cb7aacfd7",
   "metadata": {},
   "outputs": [],
   "source": [
    "report_desc <- getFileDescriptors(\n",
    "    fileType = \"scRNA-seq-CellHashing-Main-report\"\n",
    ")\n",
    "report_desc <- fileDescToDataframe(report_desc)"
   ]
  },
  {
   "cell_type": "code",
   "execution_count": 24,
   "id": "917089a7-5439-40be-9cfe-cdbbce090148",
   "metadata": {},
   "outputs": [],
   "source": [
    "report_meta <- report_desc %>%\n",
    "  filter(file.pool %in% pool_ids) %>%\n",
    "  unique()"
   ]
  },
  {
   "cell_type": "code",
   "execution_count": 25,
   "id": "28b4151d-f0cb-4634-be1d-fc3e1fac50c6",
   "metadata": {
    "scrolled": true
   },
   "outputs": [
    {
     "data": {
      "text/html": [
       "52"
      ],
      "text/latex": [
       "52"
      ],
      "text/markdown": [
       "52"
      ],
      "text/plain": [
       "[1] 52"
      ]
     },
     "metadata": {},
     "output_type": "display_data"
    }
   ],
   "source": [
    "nrow(report_meta)"
   ]
  },
  {
   "cell_type": "markdown",
   "id": "a8cc0fce-dc75-46e4-981b-3aa8e62019e4",
   "metadata": {},
   "source": [
    "Some pools are duplicated - let's get the latest version for each pool by sorting on the file.name, which includes a timestamp."
   ]
  },
  {
   "cell_type": "code",
   "execution_count": 26,
   "id": "6539ae5b-53cc-4417-aac7-6a889f979db2",
   "metadata": {},
   "outputs": [],
   "source": [
    "report_meta <- report_meta %>%\n",
    "  arrange(desc(file.name)) %>%\n",
    "  group_by(file.pool) %>%\n",
    "  slice(1) %>%\n",
    "  ungroup()"
   ]
  },
  {
   "cell_type": "code",
   "execution_count": 27,
   "id": "0c5af4db-a1fe-42ce-b630-3e43ae427260",
   "metadata": {},
   "outputs": [
    {
     "data": {
      "text/html": [
       "46"
      ],
      "text/latex": [
       "46"
      ],
      "text/markdown": [
       "46"
      ],
      "text/plain": [
       "[1] 46"
      ]
     },
     "metadata": {},
     "output_type": "display_data"
    }
   ],
   "source": [
    "nrow(report_meta)"
   ]
  },
  {
   "cell_type": "code",
   "execution_count": 28,
   "id": "7e42bc57-7c17-48de-a84d-3168ff1e6706",
   "metadata": {},
   "outputs": [
    {
     "data": {
      "text/html": [
       "0"
      ],
      "text/latex": [
       "0"
      ],
      "text/markdown": [
       "0"
      ],
      "text/plain": [
       "[1] 0"
      ]
     },
     "metadata": {},
     "output_type": "display_data"
    }
   ],
   "source": [
    "length(setdiff(pool_ids, report_meta$file.pool))"
   ]
  },
  {
   "cell_type": "markdown",
   "id": "a85a3d0c-7302-41d1-a064-fb55a809ae13",
   "metadata": {},
   "source": [
    "## Retrieve pool reports"
   ]
  },
  {
   "cell_type": "code",
   "execution_count": 29,
   "id": "099ad69c-fa23-41e8-a193-62394f1334bf",
   "metadata": {},
   "outputs": [
    {
     "name": "stdout",
     "output_type": "stream",
     "text": [
      "[1] \"Initiating file download for B001_hto_merge_summary_report.html\"\n",
      "[1] \"Download successful.\"\n",
      "[1] \"Initiating file download for B002_hto_merge_summary_report.html\"\n",
      "[1] \"Download successful.\"\n",
      "[1] \"Initiating file download for B002_hto_merge_summary_report.html\"\n",
      "[1] \"Download successful.\"\n",
      "[1] \"Initiating file download for B007_hto_merge_summary_report.html\"\n",
      "[1] \"Download successful.\"\n",
      "[1] \"Initiating file download for B010_hto_merge_summary_report.html\"\n",
      "[1] \"Download successful.\"\n",
      "[1] \"Initiating file download for B036_hto_merge_summary_report.html\"\n",
      "[1] \"Download successful.\"\n",
      "[1] \"Initiating file download for B039_hto_merge_summary_report.html\"\n",
      "[1] \"Download successful.\"\n",
      "[1] \"Initiating file download for B039_hto_merge_summary_report.html\"\n",
      "[1] \"Download successful.\"\n",
      "[1] \"Initiating file download for B040_hto_merge_summary_report.html\"\n",
      "[1] \"Download successful.\"\n",
      "[1] \"Initiating file download for B040_hto_merge_summary_report.html\"\n",
      "[1] \"Download successful.\"\n",
      "[1] \"Initiating file download for B041_hto_merge_summary_report.html\"\n",
      "[1] \"Download successful.\"\n",
      "[1] \"Initiating file download for B041_hto_merge_summary_report.html\"\n",
      "[1] \"Download successful.\"\n",
      "[1] \"Initiating file download for B043_hto_merge_summary_report.html\"\n",
      "[1] \"Download successful.\"\n",
      "[1] \"Initiating file download for B045_hto_merge_summary_report.html\"\n",
      "[1] \"Download successful.\"\n",
      "[1] \"Initiating file download for B046_hto_merge_summary_report.html\"\n",
      "[1] \"Download successful.\"\n",
      "[1] \"Initiating file download for B046_hto_merge_summary_report.html\"\n",
      "[1] \"Download successful.\"\n",
      "[1] \"Initiating file download for B047_hto_merge_summary_report.html\"\n",
      "[1] \"Download successful.\"\n",
      "[1] \"Initiating file download for B048_hto_merge_summary_report.html\"\n",
      "[1] \"Download successful.\"\n",
      "[1] \"Initiating file download for B048_hto_merge_summary_report.html\"\n",
      "[1] \"Download successful.\"\n",
      "[1] \"Initiating file download for B050_hto_merge_summary_report.html\"\n",
      "[1] \"Download successful.\"\n",
      "[1] \"Initiating file download for B053_hto_merge_summary_report.html\"\n",
      "[1] \"Download successful.\"\n",
      "[1] \"Initiating file download for B053_hto_merge_summary_report.html\"\n",
      "[1] \"Download successful.\"\n",
      "[1] \"Initiating file download for B054_hto_merge_summary_report.html\"\n",
      "[1] \"Download successful.\"\n",
      "[1] \"Initiating file download for B055_hto_merge_summary_report.html\"\n",
      "[1] \"Download successful.\"\n",
      "[1] \"Initiating file download for B056_hto_merge_summary_report.html\"\n",
      "[1] \"Download successful.\"\n",
      "[1] \"Initiating file download for B060_hto_merge_summary_report.html\"\n",
      "[1] \"Download successful.\"\n",
      "[1] \"Initiating file download for B063_hto_merge_summary_report.html\"\n",
      "[1] \"Download successful.\"\n",
      "[1] \"Initiating file download for B064_hto_merge_summary_report.html\"\n",
      "[1] \"Download successful.\"\n",
      "[1] \"Initiating file download for B067_hto_merge_summary_report.html\"\n",
      "[1] \"Download successful.\"\n",
      "[1] \"Initiating file download for B072_hto_merge_summary_report.html\"\n",
      "[1] \"Download successful.\"\n",
      "[1] \"Initiating file download for B073_hto_merge_summary_report.html\"\n",
      "[1] \"Download successful.\"\n",
      "[1] \"Initiating file download for B073_hto_merge_summary_report.html\"\n",
      "[1] \"Download successful.\"\n",
      "[1] \"Initiating file download for B077_hto_merge_summary_report.html\"\n",
      "[1] \"Download successful.\"\n",
      "[1] \"Initiating file download for B078_hto_merge_summary_report.html\"\n",
      "[1] \"Download successful.\"\n",
      "[1] \"Initiating file download for B078_hto_merge_summary_report.html\"\n",
      "[1] \"Download successful.\"\n",
      "[1] \"Initiating file download for B080_hto_merge_summary_report.html\"\n",
      "[1] \"Download successful.\"\n",
      "[1] \"Initiating file download for B082_hto_merge_summary_report.html\"\n",
      "[1] \"Download successful.\"\n",
      "[1] \"Initiating file download for B084_hto_merge_summary_report.html\"\n",
      "[1] \"Download successful.\"\n",
      "[1] \"Initiating file download for B085_hto_merge_summary_report.html\"\n",
      "[1] \"Download successful.\"\n",
      "[1] \"Initiating file download for B094_hto_merge_summary_report.html\"\n",
      "[1] \"Download successful.\"\n",
      "[1] \"Initiating file download for B096_hto_merge_summary_report.html\"\n",
      "[1] \"Download successful.\"\n",
      "[1] \"Initiating file download for B132_hto_merge_summary_report.html\"\n",
      "[1] \"Download successful.\"\n",
      "[1] \"Initiating file download for B138_hto_merge_summary_report.html\"\n",
      "[1] \"Download successful.\"\n",
      "[1] \"Initiating file download for B138_hto_merge_summary_report.html\"\n",
      "[1] \"Download successful.\"\n",
      "[1] \"Initiating file download for B142_hto_merge_summary_report.html\"\n",
      "[1] \"Download successful.\"\n",
      "[1] \"Initiating file download for B145_hto_merge_summary_report.html\"\n",
      "[1] \"Download successful.\"\n"
     ]
    }
   ],
   "source": [
    "res <- map(report_meta$file.id, function(f) { cacheFiles(list(f)) })"
   ]
  },
  {
   "cell_type": "markdown",
   "id": "ee7d94db-813e-4363-a668-2d42ec4f651e",
   "metadata": {},
   "source": [
    "## Assemble batch reports"
   ]
  },
  {
   "cell_type": "code",
   "execution_count": 30,
   "id": "4e0bceb8-a546-466b-9b62-a5665b8b73a3",
   "metadata": {},
   "outputs": [],
   "source": [
    "walk2(\n",
    "    report_meta$file.id, report_meta$file.pool,\n",
    "    function(file_id, pool) {\n",
    "        control_file <- list.files(paste0(\"cache/\", file_id), full.names = TRUE)\n",
    "        out_file <- paste0(\"batch_reports/\", pool, \"_qc_report.html\")\n",
    "        file.copy(control_file, out_file)\n",
    "    }\n",
    ")"
   ]
  },
  {
   "cell_type": "code",
   "execution_count": 31,
   "id": "f625b3ce-cb14-483c-9ef4-48955e0abe42",
   "metadata": {},
   "outputs": [],
   "source": [
    "report_tar <- paste0(\"output/ref_pbmc_batch_report_html_\", Sys.Date(), \".tar\")\n",
    "tar_call <- paste(\"tar -cf\", report_tar, \"batch_reports/*\")\n",
    "system(tar_call)"
   ]
  },
  {
   "cell_type": "markdown",
   "id": "bd03076e-ce64-4373-ae33-bc79d0ba8174",
   "metadata": {},
   "source": [
    "## Upload data to HISE"
   ]
  },
  {
   "cell_type": "code",
   "execution_count": 32,
   "id": "b8053016-b422-43b2-b742-7ff65f1b32b3",
   "metadata": {
    "tags": []
   },
   "outputs": [],
   "source": [
    "study_space_uuid <- \"64097865-486d-43b3-8f94-74994e0a72e0\"\n",
    "title <- paste(\"PBMC Ref. Batch Control Data and QC Reports\", Sys.Date())"
   ]
  },
  {
   "cell_type": "code",
   "execution_count": 33,
   "id": "2fe1be32-eb08-4aa6-b39c-e95f5708d1c9",
   "metadata": {},
   "outputs": [],
   "source": [
    "search_id <- ids::proquint(n_words = 3)"
   ]
  },
  {
   "cell_type": "code",
   "execution_count": 34,
   "id": "21259ce8-9d61-4b78-b316-f55c0ffdaceb",
   "metadata": {
    "tags": []
   },
   "outputs": [],
   "source": [
    "in_list <- as.list(c(sample_meta_uuid, control_meta$file.id, report_meta$file.id))"
   ]
  },
  {
   "cell_type": "code",
   "execution_count": 35,
   "id": "891df2a9-6e0e-4f5e-98ad-eb86ff401b61",
   "metadata": {
    "tags": []
   },
   "outputs": [],
   "source": [
    "out_list <- list(control_data_tar, report_tar)"
   ]
  },
  {
   "cell_type": "code",
   "execution_count": 36,
   "id": "581a8c91-9fd1-4c8a-b210-75697ea01d6f",
   "metadata": {
    "scrolled": true,
    "tags": []
   },
   "outputs": [
    {
     "name": "stderr",
     "output_type": "stream",
     "text": [
      "You are trying to upload the following files:  output/ref_pbmc_batch_control_h5_2024-05-07.tar output/ref_pbmc_batch_report_html_2024-05-07.tar\n",
      "\n"
     ]
    },
    {
     "name": "stdin",
     "output_type": "stream",
     "text": [
      "(y/n) y\n"
     ]
    },
    {
     "name": "stdout",
     "output_type": "stream",
     "text": [
      "[1] \"Authorization token invalid or expired.\"\n",
      "[1] \"Retrying...\"\n"
     ]
    },
    {
     "data": {
      "text/html": [
       "<dl>\n",
       "\t<dt>$files</dt>\n",
       "\t\t<dd><ol>\n",
       "\t<li>'output/ref_pbmc_batch_control_h5_2024-05-07.tar'</li>\n",
       "\t<li>'output/ref_pbmc_batch_report_html_2024-05-07.tar'</li>\n",
       "</ol>\n",
       "</dd>\n",
       "\t<dt>$traceId</dt>\n",
       "\t\t<dd>'69326a98-cf61-4e17-9852-2d37024e02b6'</dd>\n",
       "</dl>\n"
      ],
      "text/latex": [
       "\\begin{description}\n",
       "\\item[\\$files] \\begin{enumerate}\n",
       "\\item 'output/ref\\_pbmc\\_batch\\_control\\_h5\\_2024-05-07.tar'\n",
       "\\item 'output/ref\\_pbmc\\_batch\\_report\\_html\\_2024-05-07.tar'\n",
       "\\end{enumerate}\n",
       "\n",
       "\\item[\\$traceId] '69326a98-cf61-4e17-9852-2d37024e02b6'\n",
       "\\end{description}\n"
      ],
      "text/markdown": [
       "$files\n",
       ":   1. 'output/ref_pbmc_batch_control_h5_2024-05-07.tar'\n",
       "2. 'output/ref_pbmc_batch_report_html_2024-05-07.tar'\n",
       "\n",
       "\n",
       "\n",
       "$traceId\n",
       ":   '69326a98-cf61-4e17-9852-2d37024e02b6'\n",
       "\n",
       "\n"
      ],
      "text/plain": [
       "$files\n",
       "$files[[1]]\n",
       "[1] \"output/ref_pbmc_batch_control_h5_2024-05-07.tar\"\n",
       "\n",
       "$files[[2]]\n",
       "[1] \"output/ref_pbmc_batch_report_html_2024-05-07.tar\"\n",
       "\n",
       "\n",
       "$traceId\n",
       "[1] \"69326a98-cf61-4e17-9852-2d37024e02b6\"\n"
      ]
     },
     "metadata": {},
     "output_type": "display_data"
    }
   ],
   "source": [
    "uploadFiles(\n",
    "    files = out_list,\n",
    "    studySpaceId = study_space_uuid,\n",
    "    title = title,\n",
    "    inputFileIds = in_list,\n",
    "    store = \"project\",\n",
    "    destination = search_id\n",
    ")"
   ]
  },
  {
   "cell_type": "code",
   "execution_count": 37,
   "id": "e582811f-d8de-4072-a74c-dcfb0f313767",
   "metadata": {},
   "outputs": [
    {
     "data": {
      "text/plain": [
       "R version 4.3.2 (2023-10-31)\n",
       "Platform: x86_64-conda-linux-gnu (64-bit)\n",
       "Running under: Ubuntu 20.04.6 LTS\n",
       "\n",
       "Matrix products: default\n",
       "BLAS/LAPACK: /opt/conda/lib/libopenblasp-r0.3.25.so;  LAPACK version 3.11.0\n",
       "\n",
       "locale:\n",
       " [1] LC_CTYPE=C.UTF-8       LC_NUMERIC=C           LC_TIME=C.UTF-8       \n",
       " [4] LC_COLLATE=C.UTF-8     LC_MONETARY=C.UTF-8    LC_MESSAGES=C.UTF-8   \n",
       " [7] LC_PAPER=C.UTF-8       LC_NAME=C              LC_ADDRESS=C          \n",
       "[10] LC_TELEPHONE=C         LC_MEASUREMENT=C.UTF-8 LC_IDENTIFICATION=C   \n",
       "\n",
       "time zone: Etc/UTC\n",
       "tzcode source: system (glibc)\n",
       "\n",
       "attached base packages:\n",
       "[1] stats     graphics  grDevices utils     datasets  methods   base     \n",
       "\n",
       "other attached packages:\n",
       "[1] purrr_1.0.2 dplyr_1.1.4 hise_2.16.0\n",
       "\n",
       "loaded via a namespace (and not attached):\n",
       " [1] ids_1.0.1        crayon_1.5.2     vctrs_0.6.5      httr_1.4.7      \n",
       " [5] cli_3.6.2        rlang_1.1.3      stringi_1.8.3    generics_0.1.3  \n",
       " [9] assertthat_0.2.1 jsonlite_1.8.8   glue_1.7.0       RCurl_1.98-1.14 \n",
       "[13] plyr_1.8.9       htmltools_0.5.8  IRdisplay_1.1    IRkernel_1.3.2  \n",
       "[17] fansi_1.0.6      evaluate_0.23    tibble_3.2.1     bitops_1.0-7    \n",
       "[21] fastmap_1.1.1    base64enc_0.1-3  lifecycle_1.0.4  stringr_1.5.1   \n",
       "[25] compiler_4.3.2   Rcpp_1.0.12      pkgconfig_2.0.3  pbdZMQ_0.3-10   \n",
       "[29] digest_0.6.35    R6_2.5.1         repr_1.1.7       tidyselect_1.2.0\n",
       "[33] utf8_1.2.4       curl_5.1.0       pillar_1.9.0     magrittr_2.0.3  \n",
       "[37] uuid_1.2-0       tools_4.3.2     "
      ]
     },
     "metadata": {},
     "output_type": "display_data"
    }
   ],
   "source": [
    "sessionInfo()"
   ]
  },
  {
   "cell_type": "code",
   "execution_count": null,
   "id": "61def613-3746-4fed-b87f-93c19f157e77",
   "metadata": {},
   "outputs": [],
   "source": []
  }
 ],
 "metadata": {
  "kernelspec": {
   "display_name": "R 4",
   "language": "R",
   "name": "ir4"
  },
  "language_info": {
   "codemirror_mode": "r",
   "file_extension": ".r",
   "mimetype": "text/x-r-source",
   "name": "R",
   "pygments_lexer": "r",
   "version": "4.3.2"
  }
 },
 "nbformat": 4,
 "nbformat_minor": 5
}
