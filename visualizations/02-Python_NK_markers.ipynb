{
 "cells": [
  {
   "cell_type": "code",
   "execution_count": 1,
   "id": "200117f2-bba2-4add-9a7a-5f6b85d39c02",
   "metadata": {},
   "outputs": [],
   "source": [
    "import hisepy\n",
    "import os\n",
    "import pandas as pd\n",
    "import scanpy as sc"
   ]
  },
  {
   "cell_type": "code",
   "execution_count": 2,
   "id": "215cac98-323c-4161-9c3b-1582c389591d",
   "metadata": {},
   "outputs": [],
   "source": [
    "def read_adata_uuid(h5ad_uuid):\n",
    "    h5ad_path = '/home/jupyter/cache/{u}'.format(u = h5ad_uuid)\n",
    "    if not os.path.isdir(h5ad_path):\n",
    "        hise_res = hisepy.reader.cache_files([h5ad_uuid])\n",
    "    h5ad_filename = os.listdir(h5ad_path)[0]\n",
    "    h5ad_file = '{p}/{f}'.format(p = h5ad_path, f = h5ad_filename)\n",
    "    adata = sc.read_h5ad(h5ad_file)\n",
    "    return adata"
   ]
  },
  {
   "cell_type": "code",
   "execution_count": 3,
   "id": "351302a6-8700-4f15-892f-ab106ddabe84",
   "metadata": {},
   "outputs": [],
   "source": [
    "def read_parquet_uuid(pq_uuid):\n",
    "    pq_path = '/home/jupyter/cache/{u}'.format(u = pq_uuid)\n",
    "    if not os.path.isdir(pq_path):\n",
    "        hise_res = hisepy.reader.cache_files([pq_uuid])\n",
    "    pq_filename = os.listdir(pq_path)[0]\n",
    "    pq_file = '{p}/{f}'.format(p = pq_path, f = pq_filename)\n",
    "    df = pd.read_parquet(pq_file)\n",
    "    return df"
   ]
  },
  {
   "cell_type": "markdown",
   "id": "872dc752-34a1-4027-896d-c54f151496c3",
   "metadata": {},
   "source": [
    "## Read subclustering and barcode annotations from HISE"
   ]
  },
  {
   "cell_type": "code",
   "execution_count": 4,
   "id": "ac3c4cb5-84ab-4d00-a3aa-31f695990c63",
   "metadata": {},
   "outputs": [],
   "source": [
    "cell_class = 'nk-cells'"
   ]
  },
  {
   "cell_type": "code",
   "execution_count": 5,
   "id": "b8e5f6d5-3ecb-43a5-b551-f9d00130a909",
   "metadata": {},
   "outputs": [],
   "source": [
    "h5ad_uuid = 'b2a3d1ba-312d-41ec-9e51-8ef4c33192fe'"
   ]
  },
  {
   "cell_type": "code",
   "execution_count": 6,
   "id": "dce949c1-3d26-4407-8112-be2f30f0270f",
   "metadata": {},
   "outputs": [
    {
     "name": "stdout",
     "output_type": "stream",
     "text": [
      "downloading fileID: b2a3d1ba-312d-41ec-9e51-8ef4c33192fe\n",
      "Files have been successfully downloaded!\n"
     ]
    }
   ],
   "source": [
    "adata = read_adata_uuid(h5ad_uuid)"
   ]
  },
  {
   "cell_type": "code",
   "execution_count": 7,
   "id": "77ef7412-3e20-4cc1-97fd-8314736b01de",
   "metadata": {},
   "outputs": [],
   "source": [
    "anno_uuid = 'b57066f8-c0d5-4bfb-aa9b-79c743aa5886'"
   ]
  },
  {
   "cell_type": "code",
   "execution_count": 8,
   "id": "48c826d3-b998-46e9-a1b6-670edf08825b",
   "metadata": {},
   "outputs": [
    {
     "name": "stdout",
     "output_type": "stream",
     "text": [
      "downloading fileID: b57066f8-c0d5-4bfb-aa9b-79c743aa5886\n",
      "Files have been successfully downloaded!\n"
     ]
    }
   ],
   "source": [
    "anno = read_parquet_uuid(anno_uuid)"
   ]
  },
  {
   "cell_type": "code",
   "execution_count": 9,
   "id": "bc1a4104-7e46-4923-ab7a-222c28320402",
   "metadata": {},
   "outputs": [
    {
     "data": {
      "text/html": [
       "<div>\n",
       "<style scoped>\n",
       "    .dataframe tbody tr th:only-of-type {\n",
       "        vertical-align: middle;\n",
       "    }\n",
       "\n",
       "    .dataframe tbody tr th {\n",
       "        vertical-align: top;\n",
       "    }\n",
       "\n",
       "    .dataframe thead th {\n",
       "        text-align: right;\n",
       "    }\n",
       "</style>\n",
       "<table border=\"1\" class=\"dataframe\">\n",
       "  <thead>\n",
       "    <tr style=\"text-align: right;\">\n",
       "      <th></th>\n",
       "      <th>barcodes</th>\n",
       "      <th>AIFI_L1</th>\n",
       "      <th>AIFI_L2</th>\n",
       "      <th>AIFI_L3</th>\n",
       "    </tr>\n",
       "  </thead>\n",
       "  <tbody>\n",
       "    <tr>\n",
       "      <th>0</th>\n",
       "      <td>cf72d2f048b611ea8957bafe6d70929e</td>\n",
       "      <td>NK cell</td>\n",
       "      <td>CD56dim NK cell</td>\n",
       "      <td>GZMK+ CD56dim NK cell</td>\n",
       "    </tr>\n",
       "    <tr>\n",
       "      <th>1</th>\n",
       "      <td>cf73d29048b611ea8957bafe6d70929e</td>\n",
       "      <td>NK cell</td>\n",
       "      <td>NK+T Doublets</td>\n",
       "      <td>NK+T Doublets</td>\n",
       "    </tr>\n",
       "    <tr>\n",
       "      <th>2</th>\n",
       "      <td>cf73ecda48b611ea8957bafe6d70929e</td>\n",
       "      <td>NK cell</td>\n",
       "      <td>CD56dim NK cell</td>\n",
       "      <td>GZMK- CD56dim NK cell</td>\n",
       "    </tr>\n",
       "    <tr>\n",
       "      <th>3</th>\n",
       "      <td>cf7430b448b611ea8957bafe6d70929e</td>\n",
       "      <td>NK cell</td>\n",
       "      <td>CD56dim NK cell</td>\n",
       "      <td>GZMK- CD56dim NK cell</td>\n",
       "    </tr>\n",
       "    <tr>\n",
       "      <th>4</th>\n",
       "      <td>cf754e0448b611ea8957bafe6d70929e</td>\n",
       "      <td>NK cell</td>\n",
       "      <td>CD56dim NK cell</td>\n",
       "      <td>GZMK- CD56dim NK cell</td>\n",
       "    </tr>\n",
       "  </tbody>\n",
       "</table>\n",
       "</div>"
      ],
      "text/plain": [
       "                           barcodes  AIFI_L1          AIFI_L2  \\\n",
       "0  cf72d2f048b611ea8957bafe6d70929e  NK cell  CD56dim NK cell   \n",
       "1  cf73d29048b611ea8957bafe6d70929e  NK cell    NK+T Doublets   \n",
       "2  cf73ecda48b611ea8957bafe6d70929e  NK cell  CD56dim NK cell   \n",
       "3  cf7430b448b611ea8957bafe6d70929e  NK cell  CD56dim NK cell   \n",
       "4  cf754e0448b611ea8957bafe6d70929e  NK cell  CD56dim NK cell   \n",
       "\n",
       "                 AIFI_L3  \n",
       "0  GZMK+ CD56dim NK cell  \n",
       "1          NK+T Doublets  \n",
       "2  GZMK- CD56dim NK cell  \n",
       "3  GZMK- CD56dim NK cell  \n",
       "4  GZMK- CD56dim NK cell  "
      ]
     },
     "execution_count": 9,
     "metadata": {},
     "output_type": "execute_result"
    }
   ],
   "source": [
    "anno.head()"
   ]
  },
  {
   "cell_type": "markdown",
   "id": "e81b8a7a-7399-4bf3-9566-854b0434ce72",
   "metadata": {},
   "source": [
    "## Add annotations to barcodes"
   ]
  },
  {
   "cell_type": "code",
   "execution_count": 10,
   "id": "cc3adb86-98af-4da7-bdf8-7e2f45d548d4",
   "metadata": {},
   "outputs": [],
   "source": [
    "obs = adata.obs\n",
    "obs = obs.reset_index(drop = True)\n",
    "obs = obs.merge(anno, on = 'barcodes', how = 'left')\n",
    "obs = obs.set_index('barcodes', drop = False)"
   ]
  },
  {
   "cell_type": "code",
   "execution_count": 11,
   "id": "2f871e71-1231-4880-a565-6f7ebe81e4a5",
   "metadata": {},
   "outputs": [],
   "source": [
    "adata.obs = obs"
   ]
  },
  {
   "cell_type": "markdown",
   "id": "0485e2e2-f2d7-4d7c-8af0-051c5913a36d",
   "metadata": {},
   "source": [
    "## Drop doublet/contamination labels"
   ]
  },
  {
   "cell_type": "code",
   "execution_count": 12,
   "id": "5a624a7c-d29b-4832-8a42-ea44d370c266",
   "metadata": {},
   "outputs": [],
   "source": [
    "exclude_terms = [\n",
    "    'Contamination', 'contamination',\n",
    "    'Doublet', 'doublet',\n",
    "    'Mito', 'mito'\n",
    "]"
   ]
  },
  {
   "cell_type": "code",
   "execution_count": 13,
   "id": "bbed389e-dec1-48d4-8d33-76fb77f80616",
   "metadata": {},
   "outputs": [],
   "source": [
    "all_types = adata.obs['AIFI_L3'].unique().tolist()"
   ]
  },
  {
   "cell_type": "code",
   "execution_count": 14,
   "id": "35a91157-b929-46da-91f0-ea7927dc2e31",
   "metadata": {},
   "outputs": [],
   "source": [
    "exclude_types = []\n",
    "for cell_type in all_types:\n",
    "    for term in exclude_terms:\n",
    "        if term in cell_type:\n",
    "            exclude_types.append(cell_type)"
   ]
  },
  {
   "cell_type": "code",
   "execution_count": 15,
   "id": "e198f34d-7278-4e65-8960-2d5e311e0b99",
   "metadata": {},
   "outputs": [
    {
     "data": {
      "text/plain": [
       "['NK+T Doublets',\n",
       " 'CD56dim Mito+ NK',\n",
       " 'NK+Platelet Doublet',\n",
       " 'NK+Erythocytes Doublet']"
      ]
     },
     "execution_count": 15,
     "metadata": {},
     "output_type": "execute_result"
    }
   ],
   "source": [
    "exclude_types"
   ]
  },
  {
   "cell_type": "code",
   "execution_count": 16,
   "id": "f8fd204e-a935-4815-9ee6-82e03a53baf1",
   "metadata": {},
   "outputs": [],
   "source": [
    "keep_types = []\n",
    "for cell_type in all_types:\n",
    "    if not cell_type in exclude_types:\n",
    "        keep_types.append(cell_type)"
   ]
  },
  {
   "cell_type": "code",
   "execution_count": 17,
   "id": "306d23be-6b69-4b49-bd2d-4b8e89f07a1e",
   "metadata": {},
   "outputs": [
    {
     "data": {
      "text/plain": [
       "(143191, 1357)"
      ]
     },
     "execution_count": 17,
     "metadata": {},
     "output_type": "execute_result"
    }
   ],
   "source": [
    "adata = adata[adata.obs['AIFI_L3'].isin(keep_types)]\n",
    "adata.shape"
   ]
  },
  {
   "cell_type": "markdown",
   "id": "3c028f60-7ae2-40d0-9c75-31466fa396f6",
   "metadata": {},
   "source": [
    "## Plot L2 marker expression"
   ]
  },
  {
   "cell_type": "code",
   "execution_count": 19,
   "id": "3641e7f1-dfd7-4423-ad45-1580b92c5496",
   "metadata": {},
   "outputs": [],
   "source": [
    "l2_markers = [\n",
    "    'FCGR3A', 'MKI67', 'NCAM1'\n",
    "]"
   ]
  },
  {
   "cell_type": "markdown",
   "id": "6b5a6ae1-8bca-4c63-a124-559fbe73a283",
   "metadata": {},
   "source": [
    "Set L2 category order"
   ]
  },
  {
   "cell_type": "code",
   "execution_count": 20,
   "id": "6b446f00-075d-4241-b037-b6351bd6d72e",
   "metadata": {},
   "outputs": [
    {
     "name": "stderr",
     "output_type": "stream",
     "text": [
      "/tmp/ipykernel_3362/1653546302.py:7: ImplicitModificationWarning: Trying to modify attribute `.obs` of view, initializing view as actual.\n",
      "  adata.obs['AIFI_L2'] = (\n"
     ]
    }
   ],
   "source": [
    "category_order = [\n",
    "    'CD56bright NK cell',\n",
    "    'CD56dim NK cell',\n",
    "    'Proliferating NK cell'\n",
    "]\n",
    "\n",
    "adata.obs['AIFI_L2'] = (\n",
    "    adata.obs['AIFI_L2']\n",
    "    .cat\n",
    "    .set_categories(category_order, ordered=True)\n",
    ")"
   ]
  },
  {
   "cell_type": "code",
   "execution_count": 21,
   "id": "9dd4412d-027f-4ce5-94dc-9c1ec2d64ec5",
   "metadata": {},
   "outputs": [
    {
     "name": "stderr",
     "output_type": "stream",
     "text": [
      "/opt/conda/lib/python3.10/site-packages/scanpy/plotting/_dotplot.py:168: FutureWarning: The default of observed=False is deprecated and will be changed to True in a future version of pandas. Pass observed=False to retain current behavior or observed=True to adopt the future default and silence this warning.\n",
      "  obs_bool.groupby(level=0).sum() / obs_bool.groupby(level=0).count()\n",
      "/opt/conda/lib/python3.10/site-packages/scanpy/plotting/_dotplot.py:178: FutureWarning: The default of observed=False is deprecated and will be changed to True in a future version of pandas. Pass observed=False to retain current behavior or observed=True to adopt the future default and silence this warning.\n",
      "  dot_color_df = self.obs_tidy.groupby(level=0).mean()\n",
      "/opt/conda/lib/python3.10/site-packages/scanpy/plotting/_dotplot.py:747: UserWarning: No data for colormapping provided via 'c'. Parameters 'cmap', 'norm' will be ignored\n",
      "  dot_ax.scatter(x, y, **kwds)\n"
     ]
    },
    {
     "data": {
      "image/png": "[encoded data removed]",
      "text/plain": [
       "<Figure size 261x250 with 4 Axes>"
      ]
     },
     "metadata": {},
     "output_type": "display_data"
    }
   ],
   "source": [
    "sc.pl.dotplot(\n",
    "    adata,\n",
    "    groupby = 'AIFI_L2',\n",
    "    var_names = l2_markers,\n",
    "    log = True\n",
    ")"
   ]
  },
  {
   "cell_type": "markdown",
   "id": "e55ee4d5-c921-49d7-9856-ddb5783a12af",
   "metadata": {},
   "source": [
    "## Plot L3 marker expression"
   ]
  },
  {
   "cell_type": "code",
   "execution_count": 25,
   "id": "a14a427d-7660-4edf-8087-53d33099382b",
   "metadata": {},
   "outputs": [],
   "source": [
    "l3_markers = [\n",
    "    'FCER1G', 'FCGR3A', 'GZMK', 'KLRC2', 'MKI67', \n",
    "    'MX1', 'NCAM1', 'ZBTB16'\n",
    "]"
   ]
  },
  {
   "cell_type": "markdown",
   "id": "4baa6bfd-32cc-4d1f-934e-70779e730244",
   "metadata": {},
   "source": [
    "Set L3 category order"
   ]
  },
  {
   "cell_type": "code",
   "execution_count": 26,
   "id": "b6d8db59-6fef-4803-b4cf-e116f39be3f8",
   "metadata": {},
   "outputs": [],
   "source": [
    "category_order = [\n",
    "    'CD56bright NK cell',\n",
    "    'GZMK+ CD56dim NK cell',\n",
    "    'Proliferating NK cell',\n",
    "    'Adaptive NK cell',\n",
    "    'GZMK- CD56dim NK cell',\n",
    "    'ISG+ CD56dim NK cell'\n",
    "]\n",
    "\n",
    "adata.obs['AIFI_L3'] = (\n",
    "    adata.obs['AIFI_L3']\n",
    "    .cat\n",
    "    .set_categories(category_order, ordered=True)\n",
    ")"
   ]
  },
  {
   "cell_type": "code",
   "execution_count": 27,
   "id": "812257bd-7729-411a-95de-3466ad8c7c90",
   "metadata": {},
   "outputs": [
    {
     "name": "stderr",
     "output_type": "stream",
     "text": [
      "/opt/conda/lib/python3.10/site-packages/scanpy/plotting/_dotplot.py:168: FutureWarning: The default of observed=False is deprecated and will be changed to True in a future version of pandas. Pass observed=False to retain current behavior or observed=True to adopt the future default and silence this warning.\n",
      "  obs_bool.groupby(level=0).sum() / obs_bool.groupby(level=0).count()\n",
      "/opt/conda/lib/python3.10/site-packages/scanpy/plotting/_dotplot.py:178: FutureWarning: The default of observed=False is deprecated and will be changed to True in a future version of pandas. Pass observed=False to retain current behavior or observed=True to adopt the future default and silence this warning.\n",
      "  dot_color_df = self.obs_tidy.groupby(level=0).mean()\n",
      "/opt/conda/lib/python3.10/site-packages/scanpy/plotting/_dotplot.py:747: UserWarning: No data for colormapping provided via 'c'. Parameters 'cmap', 'norm' will be ignored\n",
      "  dot_ax.scatter(x, y, **kwds)\n"
     ]
    },
    {
     "data": {
      "image/png": "[encoded data removed]",
      "text/plain": [
       "<Figure size 446x310 with 4 Axes>"
      ]
     },
     "metadata": {},
     "output_type": "display_data"
    }
   ],
   "source": [
    "sc.pl.dotplot(\n",
    "    adata,\n",
    "    groupby = 'AIFI_L3',\n",
    "    var_names = l3_markers,\n",
    "    log = True\n",
    ")"
   ]
  },
  {
   "cell_type": "code",
   "execution_count": null,
   "id": "8207fbfc-15b6-4748-9e88-4273e2b38319",
   "metadata": {},
   "outputs": [],
   "source": [
    "import session_info\n",
    "session_info.show()"
   ]
  },
  {
   "cell_type": "code",
   "execution_count": null,
   "id": "20ada0aa-e568-41bb-9bfb-ca5c383d5270",
   "metadata": {},
   "outputs": [],
   "source": []
  }
 ],
 "metadata": {
  "kernelspec": {
   "display_name": "Python 3 (ipykernel)",
   "language": "python",
   "name": "python3"
  },
  "language_info": {
   "codemirror_mode": {
    "name": "ipython",
    "version": 3
   },
   "file_extension": ".py",
   "mimetype": "text/x-python",
   "name": "python",
   "nbconvert_exporter": "python",
   "pygments_lexer": "ipython3",
   "version": "3.10.13"
  }
 },
 "nbformat": 4,
 "nbformat_minor": 5
}
