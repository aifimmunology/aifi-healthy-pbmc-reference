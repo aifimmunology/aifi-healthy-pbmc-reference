{
 "cells": [
  {
   "cell_type": "code",
   "execution_count": 25,
   "id": "200117f2-bba2-4add-9a7a-5f6b85d39c02",
   "metadata": {},
   "outputs": [],
   "source": [
    "import hisepy\n",
    "import os\n",
    "import pandas as pd\n",
    "import scanpy as sc"
   ]
  },
  {
   "cell_type": "code",
   "execution_count": 26,
   "id": "215cac98-323c-4161-9c3b-1582c389591d",
   "metadata": {},
   "outputs": [],
   "source": [
    "def read_adata_uuid(h5ad_uuid):\n",
    "    h5ad_path = '/home/jupyter/cache/{u}'.format(u = h5ad_uuid)\n",
    "    if not os.path.isdir(h5ad_path):\n",
    "        hise_res = hisepy.reader.cache_files([h5ad_uuid])\n",
    "    h5ad_filename = os.listdir(h5ad_path)[0]\n",
    "    h5ad_file = '{p}/{f}'.format(p = h5ad_path, f = h5ad_filename)\n",
    "    adata = sc.read_h5ad(h5ad_file)\n",
    "    return adata"
   ]
  },
  {
   "cell_type": "code",
   "execution_count": 27,
   "id": "351302a6-8700-4f15-892f-ab106ddabe84",
   "metadata": {},
   "outputs": [],
   "source": [
    "def read_parquet_uuid(pq_uuid):\n",
    "    pq_path = '/home/jupyter/cache/{u}'.format(u = pq_uuid)\n",
    "    if not os.path.isdir(pq_path):\n",
    "        hise_res = hisepy.reader.cache_files([pq_uuid])\n",
    "    pq_filename = os.listdir(pq_path)[0]\n",
    "    pq_file = '{p}/{f}'.format(p = pq_path, f = pq_filename)\n",
    "    df = pd.read_parquet(pq_file)\n",
    "    return df"
   ]
  },
  {
   "cell_type": "markdown",
   "id": "872dc752-34a1-4027-896d-c54f151496c3",
   "metadata": {},
   "source": [
    "## Read subclustering and barcode annotations from HISE"
   ]
  },
  {
   "cell_type": "code",
   "execution_count": 28,
   "id": "ac3c4cb5-84ab-4d00-a3aa-31f695990c63",
   "metadata": {},
   "outputs": [],
   "source": [
    "cell_class = 'other'"
   ]
  },
  {
   "cell_type": "code",
   "execution_count": 29,
   "id": "b8e5f6d5-3ecb-43a5-b551-f9d00130a909",
   "metadata": {},
   "outputs": [],
   "source": [
    "h5ad_uuid = '1eb6ca8c-b8ed-4968-b515-c954497441dc'"
   ]
  },
  {
   "cell_type": "code",
   "execution_count": 30,
   "id": "dce949c1-3d26-4407-8112-be2f30f0270f",
   "metadata": {},
   "outputs": [],
   "source": [
    "adata = read_adata_uuid(h5ad_uuid)"
   ]
  },
  {
   "cell_type": "code",
   "execution_count": 31,
   "id": "77ef7412-3e20-4cc1-97fd-8314736b01de",
   "metadata": {},
   "outputs": [],
   "source": [
    "anno_uuid = '09f10d41-3170-4317-ba84-650268fcfcd2'"
   ]
  },
  {
   "cell_type": "code",
   "execution_count": 32,
   "id": "48c826d3-b998-46e9-a1b6-670edf08825b",
   "metadata": {},
   "outputs": [],
   "source": [
    "anno = read_parquet_uuid(anno_uuid)"
   ]
  },
  {
   "cell_type": "code",
   "execution_count": 33,
   "id": "bc1a4104-7e46-4923-ab7a-222c28320402",
   "metadata": {},
   "outputs": [
    {
     "data": {
      "text/html": [
       "<div>\n",
       "<style scoped>\n",
       "    .dataframe tbody tr th:only-of-type {\n",
       "        vertical-align: middle;\n",
       "    }\n",
       "\n",
       "    .dataframe tbody tr th {\n",
       "        vertical-align: top;\n",
       "    }\n",
       "\n",
       "    .dataframe thead th {\n",
       "        text-align: right;\n",
       "    }\n",
       "</style>\n",
       "<table border=\"1\" class=\"dataframe\">\n",
       "  <thead>\n",
       "    <tr style=\"text-align: right;\">\n",
       "      <th></th>\n",
       "      <th>barcodes</th>\n",
       "      <th>AIFI_L1</th>\n",
       "      <th>AIFI_L2</th>\n",
       "      <th>AIFI_L3</th>\n",
       "    </tr>\n",
       "  </thead>\n",
       "  <tbody>\n",
       "    <tr>\n",
       "      <th>0</th>\n",
       "      <td>cf7341b848b611ea8957bafe6d70929e</td>\n",
       "      <td>T+Erythocytes doublet</td>\n",
       "      <td>T+Erythocytes doublet</td>\n",
       "      <td>T+Erythocytes doublet</td>\n",
       "    </tr>\n",
       "    <tr>\n",
       "      <th>1</th>\n",
       "      <td>cf7400bc48b611ea8957bafe6d70929e</td>\n",
       "      <td>Monocytes+Erythocytes doublet</td>\n",
       "      <td>Monocytes+Erythocytes doublet</td>\n",
       "      <td>Monocytes+Erythocytes doublet</td>\n",
       "    </tr>\n",
       "    <tr>\n",
       "      <th>2</th>\n",
       "      <td>cf763b8448b611ea8957bafe6d70929e</td>\n",
       "      <td>T+Erythocytes doublet</td>\n",
       "      <td>T+Erythocytes doublet</td>\n",
       "      <td>T+Erythocytes doublet</td>\n",
       "    </tr>\n",
       "    <tr>\n",
       "      <th>3</th>\n",
       "      <td>cf76501a48b611ea8957bafe6d70929e</td>\n",
       "      <td>Progenitor cell</td>\n",
       "      <td>Progenitor cell</td>\n",
       "      <td>CMP cell</td>\n",
       "    </tr>\n",
       "    <tr>\n",
       "      <th>4</th>\n",
       "      <td>cf83c0ba48b611ea8957bafe6d70929e</td>\n",
       "      <td>T+Erythocytes doublet</td>\n",
       "      <td>T+Erythocytes doublet</td>\n",
       "      <td>T+Erythocytes doublet</td>\n",
       "    </tr>\n",
       "  </tbody>\n",
       "</table>\n",
       "</div>"
      ],
      "text/plain": [
       "                           barcodes                        AIFI_L1  \\\n",
       "0  cf7341b848b611ea8957bafe6d70929e          T+Erythocytes doublet   \n",
       "1  cf7400bc48b611ea8957bafe6d70929e  Monocytes+Erythocytes doublet   \n",
       "2  cf763b8448b611ea8957bafe6d70929e          T+Erythocytes doublet   \n",
       "3  cf76501a48b611ea8957bafe6d70929e                Progenitor cell   \n",
       "4  cf83c0ba48b611ea8957bafe6d70929e          T+Erythocytes doublet   \n",
       "\n",
       "                         AIFI_L2                        AIFI_L3  \n",
       "0          T+Erythocytes doublet          T+Erythocytes doublet  \n",
       "1  Monocytes+Erythocytes doublet  Monocytes+Erythocytes doublet  \n",
       "2          T+Erythocytes doublet          T+Erythocytes doublet  \n",
       "3                Progenitor cell                       CMP cell  \n",
       "4          T+Erythocytes doublet          T+Erythocytes doublet  "
      ]
     },
     "execution_count": 33,
     "metadata": {},
     "output_type": "execute_result"
    }
   ],
   "source": [
    "anno.head()"
   ]
  },
  {
   "cell_type": "markdown",
   "id": "e81b8a7a-7399-4bf3-9566-854b0434ce72",
   "metadata": {},
   "source": [
    "## Add annotations to barcodes"
   ]
  },
  {
   "cell_type": "code",
   "execution_count": 34,
   "id": "cc3adb86-98af-4da7-bdf8-7e2f45d548d4",
   "metadata": {},
   "outputs": [],
   "source": [
    "obs = adata.obs\n",
    "obs = obs.reset_index(drop = True)\n",
    "obs = obs.merge(anno, on = 'barcodes', how = 'left')\n",
    "obs = obs.set_index('barcodes', drop = False)"
   ]
  },
  {
   "cell_type": "code",
   "execution_count": 35,
   "id": "2f871e71-1231-4880-a565-6f7ebe81e4a5",
   "metadata": {},
   "outputs": [],
   "source": [
    "adata.obs = obs"
   ]
  },
  {
   "cell_type": "markdown",
   "id": "0485e2e2-f2d7-4d7c-8af0-051c5913a36d",
   "metadata": {},
   "source": [
    "## Drop doublet/contamination labels"
   ]
  },
  {
   "cell_type": "code",
   "execution_count": 36,
   "id": "5a624a7c-d29b-4832-8a42-ea44d370c266",
   "metadata": {},
   "outputs": [],
   "source": [
    "exclude_terms = [\n",
    "    'Contamination', 'contamination',\n",
    "    'Doublet', 'doublet',\n",
    "    'Mito', 'mito'\n",
    "]"
   ]
  },
  {
   "cell_type": "code",
   "execution_count": 37,
   "id": "bbed389e-dec1-48d4-8d33-76fb77f80616",
   "metadata": {},
   "outputs": [],
   "source": [
    "all_types = adata.obs['AIFI_L3'].unique().tolist()"
   ]
  },
  {
   "cell_type": "code",
   "execution_count": 38,
   "id": "35a91157-b929-46da-91f0-ea7927dc2e31",
   "metadata": {},
   "outputs": [],
   "source": [
    "exclude_types = []\n",
    "for cell_type in all_types:\n",
    "    for term in exclude_terms:\n",
    "        if term in cell_type:\n",
    "            exclude_types.append(cell_type)"
   ]
  },
  {
   "cell_type": "code",
   "execution_count": 39,
   "id": "e198f34d-7278-4e65-8960-2d5e311e0b99",
   "metadata": {},
   "outputs": [
    {
     "data": {
      "text/plain": [
       "['T+Erythocytes doublet',\n",
       " 'Monocytes+Erythocytes doublet',\n",
       " 'B+Erythocytes doublet',\n",
       " 'NK+Erythocytes doublet']"
      ]
     },
     "execution_count": 39,
     "metadata": {},
     "output_type": "execute_result"
    }
   ],
   "source": [
    "exclude_types"
   ]
  },
  {
   "cell_type": "code",
   "execution_count": 40,
   "id": "f8fd204e-a935-4815-9ee6-82e03a53baf1",
   "metadata": {},
   "outputs": [],
   "source": [
    "keep_types = []\n",
    "for cell_type in all_types:\n",
    "    if not cell_type in exclude_types:\n",
    "        keep_types.append(cell_type)"
   ]
  },
  {
   "cell_type": "code",
   "execution_count": 41,
   "id": "306d23be-6b69-4b49-bd2d-4b8e89f07a1e",
   "metadata": {},
   "outputs": [
    {
     "data": {
      "text/plain": [
       "(10937, 4305)"
      ]
     },
     "execution_count": 41,
     "metadata": {},
     "output_type": "execute_result"
    }
   ],
   "source": [
    "adata = adata[adata.obs['AIFI_L3'].isin(keep_types)]\n",
    "adata.shape"
   ]
  },
  {
   "cell_type": "markdown",
   "id": "3c028f60-7ae2-40d0-9c75-31466fa396f6",
   "metadata": {},
   "source": [
    "## Plot L2 marker expression"
   ]
  },
  {
   "cell_type": "code",
   "execution_count": 42,
   "id": "3641e7f1-dfd7-4423-ad45-1580b92c5496",
   "metadata": {},
   "outputs": [],
   "source": [
    "l2_markers = [\n",
    "    'PF4', 'PPBP', 'CD34', 'KIT', 'HBB'\n",
    "]"
   ]
  },
  {
   "cell_type": "markdown",
   "id": "6b5a6ae1-8bca-4c63-a124-559fbe73a283",
   "metadata": {},
   "source": [
    "Set L2 category order"
   ]
  },
  {
   "cell_type": "code",
   "execution_count": 43,
   "id": "6b446f00-075d-4241-b037-b6351bd6d72e",
   "metadata": {},
   "outputs": [
    {
     "name": "stderr",
     "output_type": "stream",
     "text": [
      "/tmp/ipykernel_13685/3378491394.py:7: ImplicitModificationWarning: Trying to modify attribute `.obs` of view, initializing view as actual.\n",
      "  adata.obs['AIFI_L2'] = (\n"
     ]
    }
   ],
   "source": [
    "category_order = [\n",
    "    'Progenitor cell',\n",
    "    'Erythrocyte',\n",
    "    'Platelet'\n",
    "]\n",
    "\n",
    "adata.obs['AIFI_L2'] = (\n",
    "    adata.obs['AIFI_L2']\n",
    "    .cat\n",
    "    .set_categories(category_order, ordered=True)\n",
    ")"
   ]
  },
  {
   "cell_type": "code",
   "execution_count": 44,
   "id": "9dd4412d-027f-4ce5-94dc-9c1ec2d64ec5",
   "metadata": {},
   "outputs": [
    {
     "name": "stderr",
     "output_type": "stream",
     "text": [
      "/opt/conda/lib/python3.10/site-packages/scanpy/plotting/_dotplot.py:168: FutureWarning: The default of observed=False is deprecated and will be changed to True in a future version of pandas. Pass observed=False to retain current behavior or observed=True to adopt the future default and silence this warning.\n",
      "  obs_bool.groupby(level=0).sum() / obs_bool.groupby(level=0).count()\n",
      "/opt/conda/lib/python3.10/site-packages/scanpy/plotting/_dotplot.py:178: FutureWarning: The default of observed=False is deprecated and will be changed to True in a future version of pandas. Pass observed=False to retain current behavior or observed=True to adopt the future default and silence this warning.\n",
      "  dot_color_df = self.obs_tidy.groupby(level=0).mean()\n",
      "/opt/conda/lib/python3.10/site-packages/scanpy/plotting/_dotplot.py:747: UserWarning: No data for colormapping provided via 'c'. Parameters 'cmap', 'norm' will be ignored\n",
      "  dot_ax.scatter(x, y, **kwds)\n"
     ]
    },
    {
     "data": {
      "image/png": "[encoded data removed]",
      "text/plain": [
       "<Figure size 335x250 with 4 Axes>"
      ]
     },
     "metadata": {},
     "output_type": "display_data"
    }
   ],
   "source": [
    "sc.pl.dotplot(\n",
    "    adata,\n",
    "    groupby = 'AIFI_L2',\n",
    "    var_names = l2_markers,\n",
    "    log = True\n",
    ")"
   ]
  },
  {
   "cell_type": "markdown",
   "id": "e55ee4d5-c921-49d7-9856-ddb5783a12af",
   "metadata": {},
   "source": [
    "## Plot L3 marker expression"
   ]
  },
  {
   "cell_type": "code",
   "execution_count": 45,
   "id": "a14a427d-7660-4edf-8087-53d33099382b",
   "metadata": {},
   "outputs": [],
   "source": [
    "l3_markers = [\n",
    "    'PF4', 'PPBP', 'CD34', 'KIT', 'HBB',\n",
    "    'HDC', 'IL1B', 'JCHAIN'\n",
    "]"
   ]
  },
  {
   "cell_type": "markdown",
   "id": "4baa6bfd-32cc-4d1f-934e-70779e730244",
   "metadata": {},
   "source": [
    "Set L3 category order"
   ]
  },
  {
   "cell_type": "code",
   "execution_count": 46,
   "id": "b6d8db59-6fef-4803-b4cf-e116f39be3f8",
   "metadata": {},
   "outputs": [],
   "source": [
    "category_order = [\n",
    "    'CLP cell',\n",
    "    'BaEoMaP cell',\n",
    "    'CMP cell',\n",
    "    'Erythrocyte',\n",
    "    'Platelet'\n",
    "]\n",
    "\n",
    "adata.obs['AIFI_L3'] = (\n",
    "    adata.obs['AIFI_L3']\n",
    "    .cat\n",
    "    .set_categories(category_order, ordered=True)\n",
    ")"
   ]
  },
  {
   "cell_type": "code",
   "execution_count": 47,
   "id": "812257bd-7729-411a-95de-3466ad8c7c90",
   "metadata": {},
   "outputs": [
    {
     "name": "stderr",
     "output_type": "stream",
     "text": [
      "/opt/conda/lib/python3.10/site-packages/scanpy/plotting/_dotplot.py:168: FutureWarning: The default of observed=False is deprecated and will be changed to True in a future version of pandas. Pass observed=False to retain current behavior or observed=True to adopt the future default and silence this warning.\n",
      "  obs_bool.groupby(level=0).sum() / obs_bool.groupby(level=0).count()\n",
      "/opt/conda/lib/python3.10/site-packages/scanpy/plotting/_dotplot.py:178: FutureWarning: The default of observed=False is deprecated and will be changed to True in a future version of pandas. Pass observed=False to retain current behavior or observed=True to adopt the future default and silence this warning.\n",
      "  dot_color_df = self.obs_tidy.groupby(level=0).mean()\n",
      "/opt/conda/lib/python3.10/site-packages/scanpy/plotting/_dotplot.py:747: UserWarning: No data for colormapping provided via 'c'. Parameters 'cmap', 'norm' will be ignored\n",
      "  dot_ax.scatter(x, y, **kwds)\n"
     ]
    },
    {
     "data": {
      "image/png": "[encoded data removed]",
      "text/plain": [
       "<Figure size 446x275 with 4 Axes>"
      ]
     },
     "metadata": {},
     "output_type": "display_data"
    }
   ],
   "source": [
    "sc.pl.dotplot(\n",
    "    adata,\n",
    "    groupby = 'AIFI_L3',\n",
    "    var_names = l3_markers,\n",
    "    log = True\n",
    ")"
   ]
  },
  {
   "cell_type": "code",
   "execution_count": 48,
   "id": "8207fbfc-15b6-4748-9e88-4273e2b38319",
   "metadata": {},
   "outputs": [
    {
     "data": {
      "text/html": [
       "<details>\n",
       "<summary>Click to view session information</summary>\n",
       "<pre>\n",
       "-----\n",
       "anndata             0.10.3\n",
       "hisepy              0.3.0\n",
       "pandas              2.1.4\n",
       "scanpy              1.9.6\n",
       "session_info        1.0.0\n",
       "-----\n",
       "</pre>\n",
       "<details>\n",
       "<summary>Click to view modules imported as dependencies</summary>\n",
       "<pre>\n",
       "PIL                         10.0.1\n",
       "anyio                       NA\n",
       "arrow                       1.3.0\n",
       "asttokens                   NA\n",
       "attr                        23.2.0\n",
       "attrs                       23.2.0\n",
       "babel                       2.14.0\n",
       "beatrix_jupyterlab          NA\n",
       "brotli                      NA\n",
       "cachetools                  5.3.1\n",
       "certifi                     2024.02.02\n",
       "cffi                        1.16.0\n",
       "charset_normalizer          3.3.2\n",
       "cloudpickle                 2.2.1\n",
       "colorama                    0.4.6\n",
       "comm                        0.1.4\n",
       "cryptography                41.0.7\n",
       "cycler                      0.10.0\n",
       "cython_runtime              NA\n",
       "dateutil                    2.8.2\n",
       "db_dtypes                   1.1.1\n",
       "debugpy                     1.8.0\n",
       "decorator                   5.1.1\n",
       "defusedxml                  0.7.1\n",
       "deprecated                  1.2.14\n",
       "exceptiongroup              1.2.0\n",
       "executing                   2.0.1\n",
       "fastjsonschema              NA\n",
       "fqdn                        NA\n",
       "google                      NA\n",
       "greenlet                    2.0.2\n",
       "grpc                        1.58.0\n",
       "grpc_status                 NA\n",
       "h5py                        3.10.0\n",
       "idna                        3.6\n",
       "igraph                      0.10.8\n",
       "importlib_metadata          NA\n",
       "ipykernel                   6.28.0\n",
       "ipython_genutils            0.2.0\n",
       "ipywidgets                  8.1.1\n",
       "isoduration                 NA\n",
       "jedi                        0.19.1\n",
       "jinja2                      3.1.2\n",
       "joblib                      1.3.2\n",
       "json5                       NA\n",
       "jsonpointer                 2.4\n",
       "jsonschema                  4.20.0\n",
       "jsonschema_specifications   NA\n",
       "jupyter_events              0.9.0\n",
       "jupyter_server              2.12.1\n",
       "jupyterlab_server           2.25.2\n",
       "jwt                         2.8.0\n",
       "kiwisolver                  1.4.5\n",
       "leidenalg                   0.10.1\n",
       "llvmlite                    0.41.0\n",
       "lz4                         4.3.2\n",
       "markupsafe                  2.1.3\n",
       "matplotlib                  3.8.0\n",
       "matplotlib_inline           0.1.6\n",
       "mpl_toolkits                NA\n",
       "mpmath                      1.3.0\n",
       "natsort                     8.4.0\n",
       "nbformat                    5.9.2\n",
       "numba                       0.58.0\n",
       "numpy                       1.25.2\n",
       "opentelemetry               NA\n",
       "overrides                   NA\n",
       "packaging                   23.2\n",
       "parso                       0.8.3\n",
       "pexpect                     4.8.0\n",
       "pickleshare                 0.7.5\n",
       "pkg_resources               NA\n",
       "platformdirs                4.1.0\n",
       "plotly                      5.18.0\n",
       "prettytable                 3.9.0\n",
       "prometheus_client           NA\n",
       "prompt_toolkit              3.0.42\n",
       "proto                       NA\n",
       "psutil                      NA\n",
       "ptyprocess                  0.7.0\n",
       "pure_eval                   0.2.2\n",
       "pyarrow                     13.0.0\n",
       "pydev_ipython               NA\n",
       "pydevconsole                NA\n",
       "pydevd                      2.9.5\n",
       "pydevd_file_utils           NA\n",
       "pydevd_plugins              NA\n",
       "pydevd_tracing              NA\n",
       "pygments                    2.17.2\n",
       "pynvml                      NA\n",
       "pyparsing                   3.1.1\n",
       "pyreadr                     0.5.0\n",
       "pythonjsonlogger            NA\n",
       "pytz                        2023.3.post1\n",
       "referencing                 NA\n",
       "requests                    2.31.0\n",
       "rfc3339_validator           0.1.4\n",
       "rfc3986_validator           0.1.1\n",
       "rpds                        NA\n",
       "scipy                       1.11.4\n",
       "send2trash                  NA\n",
       "shapely                     1.8.5.post1\n",
       "six                         1.16.0\n",
       "sklearn                     1.3.2\n",
       "sniffio                     1.3.0\n",
       "socks                       1.7.1\n",
       "sql                         NA\n",
       "sqlalchemy                  2.0.21\n",
       "sqlparse                    0.4.4\n",
       "stack_data                  0.6.2\n",
       "sympy                       1.12\n",
       "termcolor                   NA\n",
       "texttable                   1.7.0\n",
       "threadpoolctl               3.2.0\n",
       "torch                       2.1.2+cu121\n",
       "torchgen                    NA\n",
       "tornado                     6.3.3\n",
       "tqdm                        4.66.1\n",
       "traitlets                   5.9.0\n",
       "typing_extensions           NA\n",
       "uri_template                NA\n",
       "urllib3                     1.26.18\n",
       "wcwidth                     0.2.12\n",
       "webcolors                   1.13\n",
       "websocket                   1.7.0\n",
       "wrapt                       1.15.0\n",
       "xarray                      2023.12.0\n",
       "yaml                        6.0.1\n",
       "zipp                        NA\n",
       "zmq                         25.1.2\n",
       "zoneinfo                    NA\n",
       "</pre>\n",
       "</details> <!-- seems like this ends pre, so might as well be explicit -->\n",
       "<pre>\n",
       "-----\n",
       "IPython             8.19.0\n",
       "jupyter_client      8.6.0\n",
       "jupyter_core        5.6.1\n",
       "jupyterlab          4.1.2\n",
       "notebook            6.5.4\n",
       "-----\n",
       "Python 3.10.13 | packaged by conda-forge | (main, Dec 23 2023, 15:36:39) [GCC 12.3.0]\n",
       "Linux-5.15.0-1052-gcp-x86_64-with-glibc2.31\n",
       "-----\n",
       "Session information updated at 2024-03-08 19:58\n",
       "</pre>\n",
       "</details>"
      ],
      "text/plain": [
       "<IPython.core.display.HTML object>"
      ]
     },
     "execution_count": 48,
     "metadata": {},
     "output_type": "execute_result"
    }
   ],
   "source": [
    "import session_info\n",
    "session_info.show()"
   ]
  },
  {
   "cell_type": "code",
   "execution_count": null,
   "id": "20ada0aa-e568-41bb-9bfb-ca5c383d5270",
   "metadata": {},
   "outputs": [],
   "source": []
  }
 ],
 "metadata": {
  "kernelspec": {
   "display_name": "Python 3 (ipykernel)",
   "language": "python",
   "name": "python3"
  },
  "language_info": {
   "codemirror_mode": {
    "name": "ipython",
    "version": 3
   },
   "file_extension": ".py",
   "mimetype": "text/x-python",
   "name": "python",
   "nbconvert_exporter": "python",
   "pygments_lexer": "ipython3",
   "version": "3.10.13"
  }
 },
 "nbformat": 4,
 "nbformat_minor": 5
}
