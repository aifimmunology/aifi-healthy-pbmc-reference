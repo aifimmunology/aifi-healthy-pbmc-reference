{
 "cells": [
  {
   "cell_type": "markdown",
   "id": "57326d56-45eb-4303-9795-d5d2e8681a0e",
   "metadata": {},
   "source": [
    "# Retrieve sample metadata and labs from HISE\n",
    "\n",
    "The Python version of the HISE SDK allows retrieval of sample metadata regardless of pipeline sample processing. We'll use this SDK to pull the data, then use R to do cleanup."
   ]
  },
  {
   "cell_type": "markdown",
   "id": "b6e5d026-459a-47d1-9e19-7ed0176b0f7c",
   "metadata": {},
   "source": [
    "## Load packages\n",
    "\n",
    "datetime: Used to add today's date to our output files  \n",
    "hisepy: the HISE SDK  \n",
    "os: Operating System files (used to make an output folder)  \n",
    "pandas: DataFrames for Python  \n",
    "session_info: displays the versioning Python and all of the packages we used  \n",
    "warnings: Used to suppress some annoying warnings that don't impact data retrieval"
   ]
  },
  {
   "cell_type": "code",
   "execution_count": 1,
   "id": "6de7b123-3be3-4f50-af56-0ec25876e472",
   "metadata": {
    "tags": []
   },
   "outputs": [],
   "source": [
    "from datetime import date\n",
    "import hisepy\n",
    "import os\n",
    "import pandas\n",
    "import re\n",
    "import session_info\n",
    "\n",
    "import warnings\n",
    "warnings.simplefilter(action='ignore', category=FutureWarning)"
   ]
  },
  {
   "cell_type": "code",
   "execution_count": 2,
   "id": "f9f609f7-843d-412d-8e2a-0e02b6a59e28",
   "metadata": {},
   "outputs": [],
   "source": [
    "if not os.path.isdir('output'):\n",
    "    os.mkdir('output')"
   ]
  },
  {
   "cell_type": "code",
   "execution_count": 3,
   "id": "a70b0dcd-9822-4571-8ab1-a24186bb4730",
   "metadata": {},
   "outputs": [],
   "source": [
    "def element_id(n = 3):\n",
    "    import periodictable\n",
    "    from random import randrange\n",
    "    rand_el = []\n",
    "    for i in range(n):\n",
    "        el = randrange(0,118)\n",
    "        rand_el.append(periodictable.elements[el].name)\n",
    "    rand_str = '-'.join(rand_el)\n",
    "    return rand_str"
   ]
  },
  {
   "cell_type": "markdown",
   "id": "6755f52b-17cc-4edd-83ed-51495bdd8303",
   "metadata": {},
   "source": [
    "## Retrieve sample metadata from HISE"
   ]
  },
  {
   "cell_type": "code",
   "execution_count": 4,
   "id": "ed204d26-78fb-4c76-863d-11b36b63d0c1",
   "metadata": {},
   "outputs": [],
   "source": [
    "sample_meta_file_uuid = '2da66a1a-17cc-498b-9129-6858cf639caf'\n",
    "res = hisepy.reader.read_files([sample_meta_file_uuid])\n",
    "sample_meta = res['values']"
   ]
  },
  {
   "cell_type": "code",
   "execution_count": 5,
   "id": "1c92373f-c159-475a-b95d-7cbe576b4598",
   "metadata": {},
   "outputs": [
    {
     "data": {
      "text/plain": [
       "(108, 32)"
      ]
     },
     "execution_count": 5,
     "metadata": {},
     "output_type": "execute_result"
    }
   ],
   "source": [
    "sample_meta.shape"
   ]
  },
  {
   "cell_type": "markdown",
   "id": "f5f9f43e-0abd-4009-87f8-5ea14a82a707",
   "metadata": {},
   "source": [
    "## Retrieve CMV status from HISE"
   ]
  },
  {
   "cell_type": "code",
   "execution_count": 6,
   "id": "016c93aa-67a2-42fa-8c93-3778b4a93b9a",
   "metadata": {},
   "outputs": [],
   "source": [
    "cmv_uuid = 'be338216-0c90-47df-923c-7f4d7c35bac4'\n",
    "res = hisepy.reader.read_files([cmv_uuid])\n",
    "cmv = res['values']"
   ]
  },
  {
   "cell_type": "code",
   "execution_count": 7,
   "id": "461a0df7-2636-44b9-bc98-452128d353bc",
   "metadata": {},
   "outputs": [],
   "source": [
    "cmv = cmv[['subject.subjectGuid', 'subject.cmv']].drop_duplicates()"
   ]
  },
  {
   "cell_type": "markdown",
   "id": "1c0215ab-6c20-4d7e-ac74-6a43c12baf19",
   "metadata": {},
   "source": [
    "Add CMV to samples"
   ]
  },
  {
   "cell_type": "code",
   "execution_count": 8,
   "id": "5d65edea-8a31-4d96-8089-1632ebc6dd83",
   "metadata": {},
   "outputs": [],
   "source": [
    "sample_meta = sample_meta.merge(cmv, on = 'subject.subjectGuid', how = 'left')"
   ]
  },
  {
   "cell_type": "markdown",
   "id": "5ecd6743-d7ee-46cd-9522-3c08ab261551",
   "metadata": {},
   "source": [
    "## Compute age at draw"
   ]
  },
  {
   "cell_type": "code",
   "execution_count": 9,
   "id": "9c67d903-0ec5-47e0-bfbc-3b2755a54043",
   "metadata": {},
   "outputs": [
    {
     "data": {
      "text/plain": [
       "0    2019-10-01T00:00:00Z\n",
       "1    2019-10-01T00:00:00Z\n",
       "2    2019-10-01T00:00:00Z\n",
       "3    2019-10-01T00:00:00Z\n",
       "4    2019-10-01T00:00:00Z\n",
       "Name: sample.drawDate, dtype: object"
      ]
     },
     "execution_count": 9,
     "metadata": {},
     "output_type": "execute_result"
    }
   ],
   "source": [
    "sample_meta['sample.drawDate'].head()"
   ]
  },
  {
   "cell_type": "code",
   "execution_count": 10,
   "id": "4697d447-bd59-47a4-940f-ed1b10f1aeea",
   "metadata": {},
   "outputs": [],
   "source": [
    "def drawDate_to_year(drawDate):\n",
    "    year = re.sub('-.+', '', drawDate)\n",
    "    year = int(year)\n",
    "    return year"
   ]
  },
  {
   "cell_type": "code",
   "execution_count": 11,
   "id": "88ea05fa-9f23-4b27-93f1-e92e836c69b9",
   "metadata": {},
   "outputs": [],
   "source": [
    "sample_meta['sample.drawYear'] = [drawDate_to_year(d) for d in sample_meta['sample.drawDate']]"
   ]
  },
  {
   "cell_type": "code",
   "execution_count": 12,
   "id": "3e2edf47-b669-4f4d-bcb4-361d89cf5354",
   "metadata": {},
   "outputs": [],
   "source": [
    "sample_meta['sample.subjectAgeYears'] = sample_meta['sample.drawYear'] - sample_meta['subject.birthYear']"
   ]
  },
  {
   "cell_type": "code",
   "execution_count": 13,
   "id": "57f04583-2396-44e7-bccc-ea79d5e2fc95",
   "metadata": {},
   "outputs": [
    {
     "data": {
      "text/html": [
       "<div>\n",
       "<style scoped>\n",
       "    .dataframe tbody tr th:only-of-type {\n",
       "        vertical-align: middle;\n",
       "    }\n",
       "\n",
       "    .dataframe tbody tr th {\n",
       "        vertical-align: top;\n",
       "    }\n",
       "\n",
       "    .dataframe thead th {\n",
       "        text-align: right;\n",
       "    }\n",
       "</style>\n",
       "<table border=\"1\" class=\"dataframe\">\n",
       "  <thead>\n",
       "    <tr style=\"text-align: right;\">\n",
       "      <th></th>\n",
       "      <th>lastUpdated</th>\n",
       "      <th>sample.id</th>\n",
       "      <th>sample.bridgingControl</th>\n",
       "      <th>sample.sampleKitGuid</th>\n",
       "      <th>sample.visitName</th>\n",
       "      <th>sample.visitDetails</th>\n",
       "      <th>sample.drawDate</th>\n",
       "      <th>sample.daysSinceFirstVisit</th>\n",
       "      <th>file.id</th>\n",
       "      <th>file.name</th>\n",
       "      <th>...</th>\n",
       "      <th>file.userTags.group</th>\n",
       "      <th>file.userTags.name</th>\n",
       "      <th>file.userTags.origin</th>\n",
       "      <th>file.userTags.other</th>\n",
       "      <th>file.userTags.version</th>\n",
       "      <th>pbmc_sample_id</th>\n",
       "      <th>filename</th>\n",
       "      <th>subject.cmv</th>\n",
       "      <th>sample.drawYear</th>\n",
       "      <th>sample.subjectAgeYears</th>\n",
       "    </tr>\n",
       "  </thead>\n",
       "  <tbody>\n",
       "    <tr>\n",
       "      <th>0</th>\n",
       "      <td>2024-02-16T22:17:47.127Z</td>\n",
       "      <td>f499ff83-e513-4d24-a10f-151348269fff</td>\n",
       "      <td>True</td>\n",
       "      <td>KT00001</td>\n",
       "      <td>Flu Year 1 Day 0</td>\n",
       "      <td>N/A - Flu-Series Timepoint Only</td>\n",
       "      <td>2019-10-01T00:00:00Z</td>\n",
       "      <td>0</td>\n",
       "      <td>fec489f9-9a74-4635-aa91-d2bf09d1faec</td>\n",
       "      <td>automated/merged/B001/labeled/B001-P1_PB00001-...</td>\n",
       "      <td>...</td>\n",
       "      <td>NaN</td>\n",
       "      <td>NaN</td>\n",
       "      <td>NaN</td>\n",
       "      <td>NaN</td>\n",
       "      <td>NaN</td>\n",
       "      <td>PB00001-01</td>\n",
       "      <td>ref_h5_meta_data_2024-02-18.csv</td>\n",
       "      <td>Negative</td>\n",
       "      <td>2019</td>\n",
       "      <td>32</td>\n",
       "    </tr>\n",
       "    <tr>\n",
       "      <th>1</th>\n",
       "      <td>2024-02-16T22:17:47.127Z</td>\n",
       "      <td>750e90a9-a296-4f0f-969f-60225c2bca17</td>\n",
       "      <td>True</td>\n",
       "      <td>KT00002</td>\n",
       "      <td>Flu Year 1 Day 0</td>\n",
       "      <td>N/A - Flu-Series Timepoint Only</td>\n",
       "      <td>2019-10-01T00:00:00Z</td>\n",
       "      <td>0</td>\n",
       "      <td>7c0c7979-eebd-4aba-b5b2-6e76b4643623</td>\n",
       "      <td>automated/merged/B001/labeled/B001-P1_PB00002-...</td>\n",
       "      <td>...</td>\n",
       "      <td>NaN</td>\n",
       "      <td>NaN</td>\n",
       "      <td>NaN</td>\n",
       "      <td>NaN</td>\n",
       "      <td>NaN</td>\n",
       "      <td>PB00002-01</td>\n",
       "      <td>ref_h5_meta_data_2024-02-18.csv</td>\n",
       "      <td>Negative</td>\n",
       "      <td>2019</td>\n",
       "      <td>28</td>\n",
       "    </tr>\n",
       "    <tr>\n",
       "      <th>2</th>\n",
       "      <td>2024-02-16T22:17:47.127Z</td>\n",
       "      <td>2db6fb3f-e3f4-454b-891b-9b068541b51d</td>\n",
       "      <td>True</td>\n",
       "      <td>KT00003</td>\n",
       "      <td>Flu Year 1 Day 0</td>\n",
       "      <td>N/A - Flu-Series Timepoint Only</td>\n",
       "      <td>2019-10-01T00:00:00Z</td>\n",
       "      <td>0</td>\n",
       "      <td>40efd03a-cb2f-4677-af42-a056cbfe5a17</td>\n",
       "      <td>automated/merged/B001/labeled/B001-P1_PB00003-...</td>\n",
       "      <td>...</td>\n",
       "      <td>NaN</td>\n",
       "      <td>NaN</td>\n",
       "      <td>NaN</td>\n",
       "      <td>NaN</td>\n",
       "      <td>NaN</td>\n",
       "      <td>PB00003-01</td>\n",
       "      <td>ref_h5_meta_data_2024-02-18.csv</td>\n",
       "      <td>Negative</td>\n",
       "      <td>2019</td>\n",
       "      <td>30</td>\n",
       "    </tr>\n",
       "    <tr>\n",
       "      <th>3</th>\n",
       "      <td>2024-02-16T22:17:47.127Z</td>\n",
       "      <td>f04693c5-563c-4b5b-ae58-877d0d9ae2fe</td>\n",
       "      <td>True</td>\n",
       "      <td>KT00004</td>\n",
       "      <td>Flu Year 1 Day 0</td>\n",
       "      <td>N/A - Flu-Series Timepoint Only</td>\n",
       "      <td>2019-10-01T00:00:00Z</td>\n",
       "      <td>0</td>\n",
       "      <td>68fbcd34-1d63-461d-8195-df5b8dc61b31</td>\n",
       "      <td>automated/merged/2023-11-17T21:36:51.794326181...</td>\n",
       "      <td>...</td>\n",
       "      <td>NaN</td>\n",
       "      <td>NaN</td>\n",
       "      <td>NaN</td>\n",
       "      <td>NaN</td>\n",
       "      <td>NaN</td>\n",
       "      <td>PB00004-01</td>\n",
       "      <td>ref_h5_meta_data_2024-02-18.csv</td>\n",
       "      <td>Negative</td>\n",
       "      <td>2019</td>\n",
       "      <td>30</td>\n",
       "    </tr>\n",
       "    <tr>\n",
       "      <th>4</th>\n",
       "      <td>2024-02-16T22:17:47.127Z</td>\n",
       "      <td>eb5b3a3d-002e-40a6-aa19-aa0e6a7fff8f</td>\n",
       "      <td>True</td>\n",
       "      <td>KT00006</td>\n",
       "      <td>Flu Year 1 Day 0</td>\n",
       "      <td>N/A - Flu-Series Timepoint Only</td>\n",
       "      <td>2019-10-01T00:00:00Z</td>\n",
       "      <td>0</td>\n",
       "      <td>ea8d98e9-e99e-4dc6-9e78-9866e0deac68</td>\n",
       "      <td>automated/merged/2023-11-17T21:36:51.794326181...</td>\n",
       "      <td>...</td>\n",
       "      <td>NaN</td>\n",
       "      <td>NaN</td>\n",
       "      <td>NaN</td>\n",
       "      <td>NaN</td>\n",
       "      <td>NaN</td>\n",
       "      <td>PB00006-01</td>\n",
       "      <td>ref_h5_meta_data_2024-02-18.csv</td>\n",
       "      <td>Negative</td>\n",
       "      <td>2019</td>\n",
       "      <td>27</td>\n",
       "    </tr>\n",
       "  </tbody>\n",
       "</table>\n",
       "<p>5 rows × 35 columns</p>\n",
       "</div>"
      ],
      "text/plain": [
       "                lastUpdated                             sample.id  \\\n",
       "0  2024-02-16T22:17:47.127Z  f499ff83-e513-4d24-a10f-151348269fff   \n",
       "1  2024-02-16T22:17:47.127Z  750e90a9-a296-4f0f-969f-60225c2bca17   \n",
       "2  2024-02-16T22:17:47.127Z  2db6fb3f-e3f4-454b-891b-9b068541b51d   \n",
       "3  2024-02-16T22:17:47.127Z  f04693c5-563c-4b5b-ae58-877d0d9ae2fe   \n",
       "4  2024-02-16T22:17:47.127Z  eb5b3a3d-002e-40a6-aa19-aa0e6a7fff8f   \n",
       "\n",
       "   sample.bridgingControl sample.sampleKitGuid  sample.visitName  \\\n",
       "0                    True              KT00001  Flu Year 1 Day 0   \n",
       "1                    True              KT00002  Flu Year 1 Day 0   \n",
       "2                    True              KT00003  Flu Year 1 Day 0   \n",
       "3                    True              KT00004  Flu Year 1 Day 0   \n",
       "4                    True              KT00006  Flu Year 1 Day 0   \n",
       "\n",
       "               sample.visitDetails       sample.drawDate  \\\n",
       "0  N/A - Flu-Series Timepoint Only  2019-10-01T00:00:00Z   \n",
       "1  N/A - Flu-Series Timepoint Only  2019-10-01T00:00:00Z   \n",
       "2  N/A - Flu-Series Timepoint Only  2019-10-01T00:00:00Z   \n",
       "3  N/A - Flu-Series Timepoint Only  2019-10-01T00:00:00Z   \n",
       "4  N/A - Flu-Series Timepoint Only  2019-10-01T00:00:00Z   \n",
       "\n",
       "   sample.daysSinceFirstVisit                               file.id  \\\n",
       "0                           0  fec489f9-9a74-4635-aa91-d2bf09d1faec   \n",
       "1                           0  7c0c7979-eebd-4aba-b5b2-6e76b4643623   \n",
       "2                           0  40efd03a-cb2f-4677-af42-a056cbfe5a17   \n",
       "3                           0  68fbcd34-1d63-461d-8195-df5b8dc61b31   \n",
       "4                           0  ea8d98e9-e99e-4dc6-9e78-9866e0deac68   \n",
       "\n",
       "                                           file.name  ... file.userTags.group  \\\n",
       "0  automated/merged/B001/labeled/B001-P1_PB00001-...  ...                 NaN   \n",
       "1  automated/merged/B001/labeled/B001-P1_PB00002-...  ...                 NaN   \n",
       "2  automated/merged/B001/labeled/B001-P1_PB00003-...  ...                 NaN   \n",
       "3  automated/merged/2023-11-17T21:36:51.794326181...  ...                 NaN   \n",
       "4  automated/merged/2023-11-17T21:36:51.794326181...  ...                 NaN   \n",
       "\n",
       "   file.userTags.name file.userTags.origin file.userTags.other  \\\n",
       "0                 NaN                  NaN                 NaN   \n",
       "1                 NaN                  NaN                 NaN   \n",
       "2                 NaN                  NaN                 NaN   \n",
       "3                 NaN                  NaN                 NaN   \n",
       "4                 NaN                  NaN                 NaN   \n",
       "\n",
       "   file.userTags.version pbmc_sample_id                         filename  \\\n",
       "0                    NaN     PB00001-01  ref_h5_meta_data_2024-02-18.csv   \n",
       "1                    NaN     PB00002-01  ref_h5_meta_data_2024-02-18.csv   \n",
       "2                    NaN     PB00003-01  ref_h5_meta_data_2024-02-18.csv   \n",
       "3                    NaN     PB00004-01  ref_h5_meta_data_2024-02-18.csv   \n",
       "4                    NaN     PB00006-01  ref_h5_meta_data_2024-02-18.csv   \n",
       "\n",
       "   subject.cmv sample.drawYear sample.subjectAgeYears  \n",
       "0     Negative            2019                     32  \n",
       "1     Negative            2019                     28  \n",
       "2     Negative            2019                     30  \n",
       "3     Negative            2019                     30  \n",
       "4     Negative            2019                     27  \n",
       "\n",
       "[5 rows x 35 columns]"
      ]
     },
     "execution_count": 13,
     "metadata": {},
     "output_type": "execute_result"
    }
   ],
   "source": [
    "sample_meta.head()"
   ]
  },
  {
   "cell_type": "markdown",
   "id": "a46bfac2-b8b3-4945-8704-04d33dae4b06",
   "metadata": {},
   "source": [
    "## Select columns to retain for visualization"
   ]
  },
  {
   "cell_type": "code",
   "execution_count": 14,
   "id": "84612af6-a1b4-410a-8f32-42bc383498ee",
   "metadata": {},
   "outputs": [],
   "source": [
    "keep_columns = [\n",
    "    'cohort.cohortGuid', \n",
    "    'subject.subjectGuid', 'subject.biologicalSex', 'subject.birthYear',\n",
    "    'subject.race', 'subject.ethnicity', 'subject.cmv', 'sample.visitName', \n",
    "    'sample.subjectAgeYears', 'sample.sampleKitGuid'\n",
    "]"
   ]
  },
  {
   "cell_type": "code",
   "execution_count": 15,
   "id": "2e159385-25f0-4294-b018-4b2e5490141c",
   "metadata": {},
   "outputs": [],
   "source": [
    "sample_meta = sample_meta[keep_columns]"
   ]
  },
  {
   "cell_type": "markdown",
   "id": "e51d4d85-6d71-4e64-aecc-274e4e1d26c3",
   "metadata": {},
   "source": [
    "## Retrieve lab groupings and headers from HISE"
   ]
  },
  {
   "cell_type": "code",
   "execution_count": 16,
   "id": "fcddbb74-38a4-49ef-8cc4-15a0ce200fe4",
   "metadata": {},
   "outputs": [],
   "source": [
    "grouping_uuid = '0180d34e-bcb4-4b81-9214-818641ec54e3'\n",
    "res = hisepy.reader.read_files([grouping_uuid])\n",
    "lab_groups = res['values'].drop('filename', axis = 1)"
   ]
  },
  {
   "cell_type": "code",
   "execution_count": 17,
   "id": "3a0f4445-321c-4e28-a7a5-c1a1eae49a60",
   "metadata": {},
   "outputs": [
    {
     "data": {
      "text/html": [
       "<div>\n",
       "<style scoped>\n",
       "    .dataframe tbody tr th:only-of-type {\n",
       "        vertical-align: middle;\n",
       "    }\n",
       "\n",
       "    .dataframe tbody tr th {\n",
       "        vertical-align: top;\n",
       "    }\n",
       "\n",
       "    .dataframe thead th {\n",
       "        text-align: right;\n",
       "    }\n",
       "</style>\n",
       "<table border=\"1\" class=\"dataframe\">\n",
       "  <thead>\n",
       "    <tr style=\"text-align: right;\">\n",
       "      <th></th>\n",
       "      <th>category_name</th>\n",
       "      <th>lab</th>\n",
       "      <th>column_name</th>\n",
       "    </tr>\n",
       "  </thead>\n",
       "  <tbody>\n",
       "    <tr>\n",
       "      <th>0</th>\n",
       "      <td>Anthropometric measures</td>\n",
       "      <td>Body Mass Index (BMI)</td>\n",
       "      <td>am.bmi</td>\n",
       "    </tr>\n",
       "    <tr>\n",
       "      <th>1</th>\n",
       "      <td>Anthropometric measures</td>\n",
       "      <td>Height</td>\n",
       "      <td>am.height</td>\n",
       "    </tr>\n",
       "    <tr>\n",
       "      <th>2</th>\n",
       "      <td>Anthropometric measures</td>\n",
       "      <td>Weight</td>\n",
       "      <td>am.weight</td>\n",
       "    </tr>\n",
       "    <tr>\n",
       "      <th>3</th>\n",
       "      <td>Blood Chemistry</td>\n",
       "      <td>Alanine Transaminase (ALT)</td>\n",
       "      <td>chem.alt</td>\n",
       "    </tr>\n",
       "    <tr>\n",
       "      <th>4</th>\n",
       "      <td>Blood Chemistry</td>\n",
       "      <td>Albumin</td>\n",
       "      <td>chem.albumin</td>\n",
       "    </tr>\n",
       "  </tbody>\n",
       "</table>\n",
       "</div>"
      ],
      "text/plain": [
       "             category_name                         lab   column_name\n",
       "0  Anthropometric measures       Body Mass Index (BMI)        am.bmi\n",
       "1  Anthropometric measures                      Height     am.height\n",
       "2  Anthropometric measures                      Weight     am.weight\n",
       "3          Blood Chemistry  Alanine Transaminase (ALT)      chem.alt\n",
       "4          Blood Chemistry                     Albumin  chem.albumin"
      ]
     },
     "execution_count": 17,
     "metadata": {},
     "output_type": "execute_result"
    }
   ],
   "source": [
    "lab_groups.head()"
   ]
  },
  {
   "cell_type": "markdown",
   "id": "31bb9bb5-d4b9-490b-a9a1-2117e9f549b9",
   "metadata": {},
   "source": [
    "## Query HISE to get data\n",
    "\n",
    "First, we make a dictionary (with curly braces) that defines what we want to get. In this case, we want to get samples from our study that were previously specified in our sample metadata.\n",
    "\n",
    "Each entry in the dictionary has to be a list (square braces), even if it has a single entry."
   ]
  },
  {
   "cell_type": "code",
   "execution_count": 18,
   "id": "1cca0a1d-6c36-4c87-baac-9d56e1785362",
   "metadata": {
    "tags": []
   },
   "outputs": [],
   "source": [
    "query_dict = {\n",
    "    'sampleKitGuid': sample_meta['sample.sampleKitGuid'].tolist()\n",
    "}"
   ]
  },
  {
   "cell_type": "markdown",
   "id": "e31f5a9d-13e3-4b12-9b8e-b04a143fd4d3",
   "metadata": {},
   "source": [
    "Now, we send this dictionary to HISE via hisepy"
   ]
  },
  {
   "cell_type": "code",
   "execution_count": 19,
   "id": "064bbc80-759e-4ce2-a233-1d69d88d0722",
   "metadata": {
    "tags": []
   },
   "outputs": [],
   "source": [
    "sample_data = hisepy.reader.read_samples(\n",
    "    query_dict = query_dict\n",
    ")"
   ]
  },
  {
   "cell_type": "markdown",
   "id": "d27644b0-29a2-4791-89c9-70f56122f934",
   "metadata": {},
   "source": [
    "What we get back is a dictionary containing multiple kinds of information.\n",
    "\n",
    "We can see what these are called with they `.keys()` method:"
   ]
  },
  {
   "cell_type": "code",
   "execution_count": 20,
   "id": "f83c118e-5729-45ba-a5fd-020698c31563",
   "metadata": {
    "tags": []
   },
   "outputs": [
    {
     "data": {
      "text/plain": [
       "dict_keys(['metadata', 'specimens', 'survey', 'labResults'])"
      ]
     },
     "execution_count": 20,
     "metadata": {},
     "output_type": "execute_result"
    }
   ],
   "source": [
    "sample_data.keys()"
   ]
  },
  {
   "cell_type": "markdown",
   "id": "3fd8f27f-2b67-4f66-a737-e06213772e74",
   "metadata": {},
   "source": [
    "And we can access each of these using square brackets:"
   ]
  },
  {
   "cell_type": "code",
   "execution_count": 21,
   "id": "b9809e09-6758-4de5-980a-7e6bc940c0f5",
   "metadata": {
    "tags": []
   },
   "outputs": [
    {
     "data": {
      "text/plain": [
       "Index([                                    0,\n",
       "                                        'id',\n",
       "                               'lastUpdated',\n",
       "                         'latestBatchUpdate',\n",
       "                           'labLastModified',\n",
       "                        'surveyLastModified',\n",
       "                               'projectGuid',\n",
       "                                'subject.id',\n",
       "                       'subject.subjectGuid',\n",
       "                            'subject.cohort',\n",
       "                     'subject.biologicalSex',\n",
       "                              'subject.race',\n",
       "                             'subject.races',\n",
       "                         'subject.ethnicity',\n",
       "                         'subject.birthYear',\n",
       "                   'subject.ageAtEnrollment',\n",
       "                          'sample.visitName',\n",
       "                       'sample.visitDetails',\n",
       "                         'sample.sampleGuid',\n",
       "                      'sample.sampleKitGuid',\n",
       "                           'sample.drawDate',\n",
       "                'sample.daysSinceFirstVisit',\n",
       "       'sample.diseaseStatesRecordedAtVisit',\n",
       "                               'experiments',\n",
       "                        'experimentComments',\n",
       "                                  'batchIds',\n",
       "                                  'panelIds'],\n",
       "      dtype='object')"
      ]
     },
     "execution_count": 21,
     "metadata": {},
     "output_type": "execute_result"
    }
   ],
   "source": [
    "sample_data['metadata'].columns"
   ]
  },
  {
   "cell_type": "code",
   "execution_count": 22,
   "id": "83b4eca3-e4ea-4a4b-b8b2-1046efc49688",
   "metadata": {},
   "outputs": [
    {
     "data": {
      "text/plain": [
       "(495, 27)"
      ]
     },
     "execution_count": 22,
     "metadata": {},
     "output_type": "execute_result"
    }
   ],
   "source": [
    "sample_data['metadata'].shape"
   ]
  },
  {
   "cell_type": "code",
   "execution_count": 23,
   "id": "e75eef75-b367-4b32-be89-5e537345b359",
   "metadata": {
    "tags": []
   },
   "outputs": [
    {
     "data": {
      "text/plain": [
       "Index(['id', 'revisionHistory', 'revisionNumber', '% Basophils',\n",
       "       '% Eosinophils', '% Lymphocytes', '% Monocytes', '% Neutrophils',\n",
       "       'Absolute Basophil Count', 'Absolute Eosinophil Count (AEC)',\n",
       "       ...\n",
       "       'CMV IgG Serology', 'Converted to IA During Course of Study',\n",
       "       'Covid-19 Vaccine Company Name', 'Covid-19 Vaccine Ever Received',\n",
       "       'Num. of Days to/From IA Conversion',\n",
       "       'Number of Days To/From Initial Covid-19 Vaccine',\n",
       "       'Number of Days To/From Second Covid-19 Vaccine',\n",
       "       'Number of Days To/From Third Covid-19 Vaccine',\n",
       "       'CMV Ab Screen Index Value', 'CMV Ab Screen Result'],\n",
       "      dtype='object', length=109)"
      ]
     },
     "execution_count": 23,
     "metadata": {},
     "output_type": "execute_result"
    }
   ],
   "source": [
    "sample_data['labResults'].columns"
   ]
  },
  {
   "cell_type": "code",
   "execution_count": 24,
   "id": "b1d41bad-ace3-4c70-941a-f38df488822e",
   "metadata": {},
   "outputs": [
    {
     "data": {
      "text/plain": [
       "(495, 109)"
      ]
     },
     "execution_count": 24,
     "metadata": {},
     "output_type": "execute_result"
    }
   ],
   "source": [
    "sample_data['labResults'].shape"
   ]
  },
  {
   "cell_type": "code",
   "execution_count": 25,
   "id": "8269732b-fca4-4c8c-83fb-be10151bb035",
   "metadata": {
    "tags": []
   },
   "outputs": [
    {
     "data": {
      "text/html": [
       "<div>\n",
       "<style scoped>\n",
       "    .dataframe tbody tr th:only-of-type {\n",
       "        vertical-align: middle;\n",
       "    }\n",
       "\n",
       "    .dataframe tbody tr th {\n",
       "        vertical-align: top;\n",
       "    }\n",
       "\n",
       "    .dataframe thead th {\n",
       "        text-align: right;\n",
       "    }\n",
       "</style>\n",
       "<table border=\"1\" class=\"dataframe\">\n",
       "  <thead>\n",
       "    <tr style=\"text-align: right;\">\n",
       "      <th></th>\n",
       "      <th>id</th>\n",
       "      <th>revisionHistory</th>\n",
       "      <th>revisionNumber</th>\n",
       "      <th>% Basophils</th>\n",
       "      <th>% Eosinophils</th>\n",
       "      <th>% Lymphocytes</th>\n",
       "      <th>% Monocytes</th>\n",
       "      <th>% Neutrophils</th>\n",
       "      <th>Absolute Basophil Count</th>\n",
       "      <th>Absolute Eosinophil Count (AEC)</th>\n",
       "      <th>...</th>\n",
       "      <th>CMV IgG Serology</th>\n",
       "      <th>Converted to IA During Course of Study</th>\n",
       "      <th>Covid-19 Vaccine Company Name</th>\n",
       "      <th>Covid-19 Vaccine Ever Received</th>\n",
       "      <th>Num. of Days to/From IA Conversion</th>\n",
       "      <th>Number of Days To/From Initial Covid-19 Vaccine</th>\n",
       "      <th>Number of Days To/From Second Covid-19 Vaccine</th>\n",
       "      <th>Number of Days To/From Third Covid-19 Vaccine</th>\n",
       "      <th>CMV Ab Screen Index Value</th>\n",
       "      <th>CMV Ab Screen Result</th>\n",
       "    </tr>\n",
       "  </thead>\n",
       "  <tbody>\n",
       "    <tr>\n",
       "      <th>0</th>\n",
       "      <td>075fc922-035f-401e-b90c-f88ea50d0a95</td>\n",
       "      <td>[{'historicalRevisionNumber': 1, 'modifiedDate...</td>\n",
       "      <td>6</td>\n",
       "      <td>0.5</td>\n",
       "      <td>1.6</td>\n",
       "      <td>31.1</td>\n",
       "      <td>7.7</td>\n",
       "      <td>59.1</td>\n",
       "      <td>22.0</td>\n",
       "      <td>69.0</td>\n",
       "      <td>...</td>\n",
       "      <td>NaN</td>\n",
       "      <td>NaN</td>\n",
       "      <td>NaN</td>\n",
       "      <td>NaN</td>\n",
       "      <td>NaN</td>\n",
       "      <td>NaN</td>\n",
       "      <td>NaN</td>\n",
       "      <td>NaN</td>\n",
       "      <td>NaN</td>\n",
       "      <td>NaN</td>\n",
       "    </tr>\n",
       "    <tr>\n",
       "      <th>1</th>\n",
       "      <td>4708ad58-3759-4a83-8fe5-9d7117b6d34f</td>\n",
       "      <td>[{'historicalRevisionNumber': 1, 'modifiedDate...</td>\n",
       "      <td>3</td>\n",
       "      <td>0.9</td>\n",
       "      <td>2.4</td>\n",
       "      <td>39.5</td>\n",
       "      <td>8.9</td>\n",
       "      <td>48.3</td>\n",
       "      <td>50.0</td>\n",
       "      <td>132.0</td>\n",
       "      <td>...</td>\n",
       "      <td>NaN</td>\n",
       "      <td>NaN</td>\n",
       "      <td>NaN</td>\n",
       "      <td>NaN</td>\n",
       "      <td>NaN</td>\n",
       "      <td>NaN</td>\n",
       "      <td>NaN</td>\n",
       "      <td>NaN</td>\n",
       "      <td>NaN</td>\n",
       "      <td>NaN</td>\n",
       "    </tr>\n",
       "    <tr>\n",
       "      <th>2</th>\n",
       "      <td>5f6e9c4c-1dc2-4d84-beee-a4752a8280c3</td>\n",
       "      <td>[{'historicalRevisionNumber': 1, 'modifiedDate...</td>\n",
       "      <td>4</td>\n",
       "      <td>0.7</td>\n",
       "      <td>0.7</td>\n",
       "      <td>45.4</td>\n",
       "      <td>12.1</td>\n",
       "      <td>41.1</td>\n",
       "      <td>29.0</td>\n",
       "      <td>29.0</td>\n",
       "      <td>...</td>\n",
       "      <td>NaN</td>\n",
       "      <td>NaN</td>\n",
       "      <td>NaN</td>\n",
       "      <td>NaN</td>\n",
       "      <td>NaN</td>\n",
       "      <td>NaN</td>\n",
       "      <td>NaN</td>\n",
       "      <td>NaN</td>\n",
       "      <td>NaN</td>\n",
       "      <td>NaN</td>\n",
       "    </tr>\n",
       "    <tr>\n",
       "      <th>3</th>\n",
       "      <td>8f2760aa-5a8f-4857-810d-d73a7d6f01da</td>\n",
       "      <td>[{'historicalRevisionNumber': 1, 'modifiedDate...</td>\n",
       "      <td>4</td>\n",
       "      <td>1.1</td>\n",
       "      <td>2.5</td>\n",
       "      <td>49.8</td>\n",
       "      <td>10.9</td>\n",
       "      <td>35.7</td>\n",
       "      <td>32.0</td>\n",
       "      <td>73.0</td>\n",
       "      <td>...</td>\n",
       "      <td>NaN</td>\n",
       "      <td>NaN</td>\n",
       "      <td>NaN</td>\n",
       "      <td>NaN</td>\n",
       "      <td>NaN</td>\n",
       "      <td>NaN</td>\n",
       "      <td>NaN</td>\n",
       "      <td>NaN</td>\n",
       "      <td>NaN</td>\n",
       "      <td>NaN</td>\n",
       "    </tr>\n",
       "    <tr>\n",
       "      <th>4</th>\n",
       "      <td>fec103ba-a651-470b-adf9-4f2577fa9308</td>\n",
       "      <td>[{'historicalRevisionNumber': 1, 'modifiedDate...</td>\n",
       "      <td>3</td>\n",
       "      <td>0.7</td>\n",
       "      <td>0.1</td>\n",
       "      <td>19.0</td>\n",
       "      <td>11.3</td>\n",
       "      <td>68.9</td>\n",
       "      <td>52.0</td>\n",
       "      <td>7.0</td>\n",
       "      <td>...</td>\n",
       "      <td>NaN</td>\n",
       "      <td>NaN</td>\n",
       "      <td>NaN</td>\n",
       "      <td>NaN</td>\n",
       "      <td>NaN</td>\n",
       "      <td>NaN</td>\n",
       "      <td>NaN</td>\n",
       "      <td>NaN</td>\n",
       "      <td>NaN</td>\n",
       "      <td>NaN</td>\n",
       "    </tr>\n",
       "  </tbody>\n",
       "</table>\n",
       "<p>5 rows × 109 columns</p>\n",
       "</div>"
      ],
      "text/plain": [
       "                                     id  \\\n",
       "0  075fc922-035f-401e-b90c-f88ea50d0a95   \n",
       "1  4708ad58-3759-4a83-8fe5-9d7117b6d34f   \n",
       "2  5f6e9c4c-1dc2-4d84-beee-a4752a8280c3   \n",
       "3  8f2760aa-5a8f-4857-810d-d73a7d6f01da   \n",
       "4  fec103ba-a651-470b-adf9-4f2577fa9308   \n",
       "\n",
       "                                     revisionHistory  revisionNumber  \\\n",
       "0  [{'historicalRevisionNumber': 1, 'modifiedDate...               6   \n",
       "1  [{'historicalRevisionNumber': 1, 'modifiedDate...               3   \n",
       "2  [{'historicalRevisionNumber': 1, 'modifiedDate...               4   \n",
       "3  [{'historicalRevisionNumber': 1, 'modifiedDate...               4   \n",
       "4  [{'historicalRevisionNumber': 1, 'modifiedDate...               3   \n",
       "\n",
       "   % Basophils  % Eosinophils  % Lymphocytes  % Monocytes % Neutrophils  \\\n",
       "0          0.5            1.6           31.1          7.7          59.1   \n",
       "1          0.9            2.4           39.5          8.9          48.3   \n",
       "2          0.7            0.7           45.4         12.1          41.1   \n",
       "3          1.1            2.5           49.8         10.9          35.7   \n",
       "4          0.7            0.1           19.0         11.3          68.9   \n",
       "\n",
       "   Absolute Basophil Count  Absolute Eosinophil Count (AEC)  ...  \\\n",
       "0                     22.0                             69.0  ...   \n",
       "1                     50.0                            132.0  ...   \n",
       "2                     29.0                             29.0  ...   \n",
       "3                     32.0                             73.0  ...   \n",
       "4                     52.0                              7.0  ...   \n",
       "\n",
       "   CMV IgG Serology  Converted to IA During Course of Study  \\\n",
       "0               NaN                                     NaN   \n",
       "1               NaN                                     NaN   \n",
       "2               NaN                                     NaN   \n",
       "3               NaN                                     NaN   \n",
       "4               NaN                                     NaN   \n",
       "\n",
       "   Covid-19 Vaccine Company Name  Covid-19 Vaccine Ever Received  \\\n",
       "0                            NaN                             NaN   \n",
       "1                            NaN                             NaN   \n",
       "2                            NaN                             NaN   \n",
       "3                            NaN                             NaN   \n",
       "4                            NaN                             NaN   \n",
       "\n",
       "   Num. of Days to/From IA Conversion  \\\n",
       "0                                 NaN   \n",
       "1                                 NaN   \n",
       "2                                 NaN   \n",
       "3                                 NaN   \n",
       "4                                 NaN   \n",
       "\n",
       "   Number of Days To/From Initial Covid-19 Vaccine  \\\n",
       "0                                              NaN   \n",
       "1                                              NaN   \n",
       "2                                              NaN   \n",
       "3                                              NaN   \n",
       "4                                              NaN   \n",
       "\n",
       "  Number of Days To/From Second Covid-19 Vaccine  \\\n",
       "0                                            NaN   \n",
       "1                                            NaN   \n",
       "2                                            NaN   \n",
       "3                                            NaN   \n",
       "4                                            NaN   \n",
       "\n",
       "  Number of Days To/From Third Covid-19 Vaccine  CMV Ab Screen Index Value  \\\n",
       "0                                           NaN                        NaN   \n",
       "1                                           NaN                        NaN   \n",
       "2                                           NaN                        NaN   \n",
       "3                                           NaN                        NaN   \n",
       "4                                           NaN                        NaN   \n",
       "\n",
       "   CMV Ab Screen Result  \n",
       "0                   NaN  \n",
       "1                   NaN  \n",
       "2                   NaN  \n",
       "3                   NaN  \n",
       "4                   NaN  \n",
       "\n",
       "[5 rows x 109 columns]"
      ]
     },
     "execution_count": 25,
     "metadata": {},
     "output_type": "execute_result"
    }
   ],
   "source": [
    "sample_data['labResults'].head()"
   ]
  },
  {
   "cell_type": "markdown",
   "id": "5119951d-68c3-4667-abb9-aaf5af2d558e",
   "metadata": {},
   "source": [
    "## Filter and join results"
   ]
  },
  {
   "cell_type": "code",
   "execution_count": 26,
   "id": "fe7cbd9f-ec5f-4be2-8f81-63662f168a95",
   "metadata": {},
   "outputs": [],
   "source": [
    "meta = sample_data['metadata']\n",
    "labs = sample_data['labResults']"
   ]
  },
  {
   "cell_type": "code",
   "execution_count": 27,
   "id": "8ebdc09a-4c20-4e45-b2f4-9c3322e5e79a",
   "metadata": {},
   "outputs": [],
   "source": [
    "meta = meta[['sample.sampleKitGuid']]"
   ]
  },
  {
   "cell_type": "code",
   "execution_count": 28,
   "id": "368f5cb2-54b4-458f-919d-900ac6f2ee84",
   "metadata": {},
   "outputs": [],
   "source": [
    "keep_labs = []\n",
    "for lab in labs.columns:\n",
    "    if lab in lab_groups['lab'].tolist():\n",
    "        keep_labs.append(lab)"
   ]
  },
  {
   "cell_type": "code",
   "execution_count": 29,
   "id": "875da8e8-e6bc-41c5-bf7f-c4d9f2e9e1b9",
   "metadata": {},
   "outputs": [],
   "source": [
    "labs = labs[keep_labs]"
   ]
  },
  {
   "cell_type": "code",
   "execution_count": 30,
   "id": "c678e6cf-130c-4b8c-92be-1a4f6cc42d00",
   "metadata": {},
   "outputs": [],
   "source": [
    "data = pandas.concat([meta, labs], axis = 1)"
   ]
  },
  {
   "cell_type": "code",
   "execution_count": 31,
   "id": "c9e99f0f-c00a-4940-a2c7-96253e108e5e",
   "metadata": {},
   "outputs": [
    {
     "data": {
      "text/plain": [
       "(495, 59)"
      ]
     },
     "execution_count": 31,
     "metadata": {},
     "output_type": "execute_result"
    }
   ],
   "source": [
    "data.shape"
   ]
  },
  {
   "cell_type": "code",
   "execution_count": 32,
   "id": "394ce057-d0a8-4d56-af00-116d6e510748",
   "metadata": {},
   "outputs": [],
   "source": [
    "data = data.drop_duplicates()"
   ]
  },
  {
   "cell_type": "code",
   "execution_count": 33,
   "id": "35f689d5-9459-432b-a475-67701d34ec17",
   "metadata": {},
   "outputs": [
    {
     "data": {
      "text/plain": [
       "(216, 59)"
      ]
     },
     "execution_count": 33,
     "metadata": {},
     "output_type": "execute_result"
    }
   ],
   "source": [
    "data.shape"
   ]
  },
  {
   "cell_type": "markdown",
   "id": "969776d4-adf7-45e1-a0d3-a94bf6197166",
   "metadata": {},
   "source": [
    "Some rows are missing labs. Looks like this happens once for each sample:"
   ]
  },
  {
   "cell_type": "code",
   "execution_count": 34,
   "id": "043ae47d-3a5f-4f1c-b584-5715429b5ed3",
   "metadata": {},
   "outputs": [
    {
     "data": {
      "text/plain": [
       "[array(['KT00001', nan, nan, nan, nan, nan, nan, nan, nan, nan, nan, nan,\n",
       "        nan, nan, nan, nan, nan, nan, nan, nan, nan, nan, nan, nan, nan,\n",
       "        nan, nan, nan, nan, nan, nan, nan, nan, nan, nan, nan, nan, nan,\n",
       "        nan, nan, nan, nan, nan, nan, nan, nan, nan, nan, nan, nan, nan,\n",
       "        nan, nan, nan, nan, nan, nan, nan, nan], dtype=object)]"
      ]
     },
     "execution_count": 34,
     "metadata": {},
     "output_type": "execute_result"
    }
   ],
   "source": [
    "list(data[data['sample.sampleKitGuid'] == 'KT00001'].loc[1:].to_numpy())"
   ]
  },
  {
   "cell_type": "markdown",
   "id": "38db7265-c1d9-4d53-bc36-05db922ec1ec",
   "metadata": {},
   "source": [
    "Count number of missing values per row and remove those without any lab results"
   ]
  },
  {
   "cell_type": "code",
   "execution_count": 35,
   "id": "182f5422-a98c-493d-902f-4291406d5b8f",
   "metadata": {},
   "outputs": [],
   "source": [
    "n_missing = data.isna().sum(axis=1)"
   ]
  },
  {
   "cell_type": "code",
   "execution_count": 36,
   "id": "caf168fe-cbf5-450e-b0de-4ae9249be7be",
   "metadata": {},
   "outputs": [],
   "source": [
    "data = data[n_missing < 58]"
   ]
  },
  {
   "cell_type": "code",
   "execution_count": 37,
   "id": "ac572d4c-82ad-4681-aba0-6d6a7e29bfeb",
   "metadata": {},
   "outputs": [
    {
     "data": {
      "text/plain": [
       "(108, 59)"
      ]
     },
     "execution_count": 37,
     "metadata": {},
     "output_type": "execute_result"
    }
   ],
   "source": [
    "data.shape"
   ]
  },
  {
   "cell_type": "markdown",
   "id": "85bba6fa-b3b4-48f8-b7ee-813a842ebfc0",
   "metadata": {},
   "source": [
    "Join to sample metadata to make a complete dataset"
   ]
  },
  {
   "cell_type": "code",
   "execution_count": 38,
   "id": "ee48e8c7-02b6-42e8-a3a2-646c47c21ccd",
   "metadata": {},
   "outputs": [],
   "source": [
    "data = sample_meta.merge(data, on = 'sample.sampleKitGuid', how = 'left')"
   ]
  },
  {
   "cell_type": "code",
   "execution_count": 39,
   "id": "6e8861f4-7a18-4b12-83a4-fdcd33fd7275",
   "metadata": {},
   "outputs": [
    {
     "data": {
      "text/plain": [
       "(108, 68)"
      ]
     },
     "execution_count": 39,
     "metadata": {},
     "output_type": "execute_result"
    }
   ],
   "source": [
    "data.shape"
   ]
  },
  {
   "cell_type": "markdown",
   "id": "3aa630d8-e12f-4ebc-8bdc-35225d4dde7c",
   "metadata": {},
   "source": [
    "Drop CMV results so we don't have confusion with subject.cmv"
   ]
  },
  {
   "cell_type": "code",
   "execution_count": 40,
   "id": "8a763d3f-e210-4951-800b-2141025349cd",
   "metadata": {},
   "outputs": [],
   "source": [
    "drop_cmv = data.columns[data.columns.str.contains('CMV')]"
   ]
  },
  {
   "cell_type": "code",
   "execution_count": 41,
   "id": "f1c2d2b6-8767-47af-8efe-63b5821b8bd5",
   "metadata": {},
   "outputs": [],
   "source": [
    "data = data.drop(drop_cmv, axis = 1)"
   ]
  },
  {
   "cell_type": "code",
   "execution_count": 42,
   "id": "cc767e5f-dcc8-49c7-8628-4f093e3a578c",
   "metadata": {},
   "outputs": [
    {
     "data": {
      "text/plain": [
       "Index(['cohort.cohortGuid', 'subject.subjectGuid', 'subject.biologicalSex',\n",
       "       'subject.birthYear', 'subject.race', 'subject.ethnicity', 'subject.cmv',\n",
       "       'sample.visitName', 'sample.subjectAgeYears', 'sample.sampleKitGuid',\n",
       "       '% Basophils', '% Eosinophils', '% Lymphocytes', '% Monocytes',\n",
       "       '% Neutrophils', 'Absolute Basophil Count',\n",
       "       'Absolute Eosinophil Count (AEC)', 'Absolute Lymphocyte Count (ALC)',\n",
       "       'Absolute Monocyte Count (AMC)', 'Absolute Neutrophil Count (ANC)',\n",
       "       'Alanine Transaminase (ALT)', 'Albumin', 'Alkaline Phosphatase',\n",
       "       'Anti-CCP3', 'Anti-CCP31', 'Aspartate Aminotransferase (AST)',\n",
       "       'Bilirubin, Total (T-Bili)', 'Blood Urea Nitrogen (BUN)',\n",
       "       'C-Reactive Protein, High-Sensitivity (HS-CRP)', 'Calcium',\n",
       "       'Carbon Dioxide (CO2)', 'Chloride (Cl)', 'Cholesterol, HDL',\n",
       "       'Cholesterol, LDL', 'Cholesterol, Non-HDL', 'Cholesterol, Total',\n",
       "       'Cholesterol/HDL Ratio', 'Creatinine',\n",
       "       'Estimated Glomerular Filtration Rate (eGFR) - African American',\n",
       "       'Estimated Glomerular Filtration Rate (eGFR) - Non-African American',\n",
       "       'Globin', 'Glucose', 'Height', 'Hematocrit', 'Hemoglobin',\n",
       "       'Mean Corpuscular Hemoglobin (MCH)',\n",
       "       'Mean Corpuscular Hemoglobin Concentration (MCHC)',\n",
       "       'Mean Corpuscular Volume (MCV)', 'Mean Platelet Volume (MPV)',\n",
       "       'Platelet Count', 'Potassium', 'Protein, Total', 'RFIgA Interpretation',\n",
       "       'RFIgA Result', 'RFIgM Interpretation', 'RFIgM Result',\n",
       "       'Red Blood Cell Count', 'Red Cell Distribution Width (RDW)',\n",
       "       'SED Rate-Westergren (ESR)', 'Sodium', 'Triglycerides', 'Weight',\n",
       "       'White Blood Cell Count (WBC)', 'Lactate Dehydrogenase', 'Magnesium',\n",
       "       'Phosphate'],\n",
       "      dtype='object')"
      ]
     },
     "execution_count": 42,
     "metadata": {},
     "output_type": "execute_result"
    }
   ],
   "source": [
    "data.columns"
   ]
  },
  {
   "cell_type": "markdown",
   "id": "7d27de88-70ac-43da-be36-f99ec873194a",
   "metadata": {},
   "source": [
    "### Save results"
   ]
  },
  {
   "cell_type": "code",
   "execution_count": 43,
   "id": "d8a7560a-e84d-4c50-97ce-753da2d70745",
   "metadata": {},
   "outputs": [],
   "source": [
    "out_file = 'output/pbmc_reference_labs_{d}.csv'.format(d = date.today())\n",
    "data.to_csv(out_file)"
   ]
  },
  {
   "cell_type": "markdown",
   "id": "eeb795bd-8ef0-4fb6-8374-cb3a2d8f101b",
   "metadata": {},
   "source": [
    "## Upload results to HISE\n",
    "\n",
    "Finally, we'll use `hisepy.upload.upload_files()` to send a copy of our output to HISE to use for downstream analysis steps."
   ]
  },
  {
   "cell_type": "code",
   "execution_count": 49,
   "id": "1395ddc3-1a74-466d-a074-52cc4c8cb313",
   "metadata": {},
   "outputs": [],
   "source": [
    "study_space_uuid = '64097865-486d-43b3-8f94-74994e0a72e0'\n",
    "title = 'PBMC Reference Assembled Labs {d}'.format(d = date.today())"
   ]
  },
  {
   "cell_type": "code",
   "execution_count": 50,
   "id": "8e417982-d55c-496c-80d2-0a92791a8f6f",
   "metadata": {},
   "outputs": [
    {
     "data": {
      "text/plain": [
       "'praseodymium-bohrium-moscovium'"
      ]
     },
     "execution_count": 50,
     "metadata": {},
     "output_type": "execute_result"
    }
   ],
   "source": [
    "search_id = element_id()\n",
    "search_id"
   ]
  },
  {
   "cell_type": "code",
   "execution_count": 51,
   "id": "d588782f-438d-4fdb-879b-65c6a7fe2281",
   "metadata": {},
   "outputs": [],
   "source": [
    "in_files = [sample_meta_file_uuid, cmv_uuid, grouping_uuid]"
   ]
  },
  {
   "cell_type": "code",
   "execution_count": 52,
   "id": "6b5ae953-63f4-42f7-b587-76cbc07d4d23",
   "metadata": {},
   "outputs": [],
   "source": [
    "out_files = [out_file]"
   ]
  },
  {
   "cell_type": "code",
   "execution_count": 53,
   "id": "3c1bb3db-acb2-4b26-b3ef-6e860cb93522",
   "metadata": {},
   "outputs": [
    {
     "name": "stdout",
     "output_type": "stream",
     "text": [
      "you are trying to upload file_ids... ['output/pbmc_reference_labs_2024-04-18.csv']. Do you truly want to proceed?\n"
     ]
    },
    {
     "name": "stdin",
     "output_type": "stream",
     "text": [
      "(y/n) y\n"
     ]
    },
    {
     "data": {
      "text/plain": [
       "{'trace_id': '92eedc0c-b488-4cf9-9443-32fc2b2a8751',\n",
       " 'files': ['output/pbmc_reference_labs_2024-04-18.csv']}"
      ]
     },
     "execution_count": 53,
     "metadata": {},
     "output_type": "execute_result"
    }
   ],
   "source": [
    "hisepy.upload.upload_files(\n",
    "    files = out_files,\n",
    "    study_space_id = study_space_uuid,\n",
    "    title = title,\n",
    "    input_file_ids = in_files,\n",
    "    destination = search_id\n",
    ")"
   ]
  },
  {
   "cell_type": "code",
   "execution_count": 54,
   "id": "9fc1fdb1-90ae-4ab0-b8f6-778260f7ef63",
   "metadata": {
    "tags": []
   },
   "outputs": [
    {
     "data": {
      "text/html": [
       "<details>\n",
       "<summary>Click to view session information</summary>\n",
       "<pre>\n",
       "-----\n",
       "hisepy              0.3.0\n",
       "pandas              2.1.4\n",
       "session_info        1.0.0\n",
       "-----\n",
       "</pre>\n",
       "<details>\n",
       "<summary>Click to view modules imported as dependencies</summary>\n",
       "<pre>\n",
       "PIL                         10.0.1\n",
       "anyio                       NA\n",
       "arrow                       1.3.0\n",
       "asttokens                   NA\n",
       "attr                        23.2.0\n",
       "attrs                       23.2.0\n",
       "babel                       2.14.0\n",
       "beatrix_jupyterlab          NA\n",
       "brotli                      NA\n",
       "cachetools                  5.3.1\n",
       "certifi                     2024.02.02\n",
       "cffi                        1.16.0\n",
       "charset_normalizer          3.3.2\n",
       "cloudpickle                 2.2.1\n",
       "colorama                    0.4.6\n",
       "comm                        0.1.4\n",
       "cryptography                41.0.7\n",
       "cycler                      0.10.0\n",
       "cython_runtime              NA\n",
       "dateutil                    2.8.2\n",
       "db_dtypes                   1.1.1\n",
       "debugpy                     1.8.0\n",
       "decorator                   5.1.1\n",
       "defusedxml                  0.7.1\n",
       "deprecated                  1.2.14\n",
       "exceptiongroup              1.2.0\n",
       "executing                   2.0.1\n",
       "fastjsonschema              NA\n",
       "fqdn                        NA\n",
       "google                      NA\n",
       "greenlet                    2.0.2\n",
       "grpc                        1.58.0\n",
       "grpc_status                 NA\n",
       "h5py                        3.10.0\n",
       "idna                        3.6\n",
       "importlib_metadata          NA\n",
       "ipykernel                   6.28.0\n",
       "ipython_genutils            0.2.0\n",
       "ipywidgets                  8.1.1\n",
       "isoduration                 NA\n",
       "jedi                        0.19.1\n",
       "jinja2                      3.1.2\n",
       "json5                       NA\n",
       "jsonpointer                 2.4\n",
       "jsonschema                  4.20.0\n",
       "jsonschema_specifications   NA\n",
       "jupyter_events              0.9.0\n",
       "jupyter_server              2.12.1\n",
       "jupyterlab_server           2.25.2\n",
       "jwt                         2.8.0\n",
       "kiwisolver                  1.4.5\n",
       "markupsafe                  2.1.3\n",
       "matplotlib                  3.8.0\n",
       "matplotlib_inline           0.1.6\n",
       "mpl_toolkits                NA\n",
       "nbformat                    5.9.2\n",
       "numpy                       1.25.2\n",
       "opentelemetry               NA\n",
       "overrides                   NA\n",
       "packaging                   23.2\n",
       "parso                       0.8.3\n",
       "periodictable               1.5.2\n",
       "pexpect                     4.8.0\n",
       "pickleshare                 0.7.5\n",
       "pkg_resources               NA\n",
       "platformdirs                4.1.0\n",
       "plotly                      5.18.0\n",
       "prettytable                 3.9.0\n",
       "prometheus_client           NA\n",
       "prompt_toolkit              3.0.42\n",
       "proto                       NA\n",
       "psutil                      NA\n",
       "ptyprocess                  0.7.0\n",
       "pure_eval                   0.2.2\n",
       "pyarrow                     13.0.0\n",
       "pydev_ipython               NA\n",
       "pydevconsole                NA\n",
       "pydevd                      2.9.5\n",
       "pydevd_file_utils           NA\n",
       "pydevd_plugins              NA\n",
       "pydevd_tracing              NA\n",
       "pygments                    2.17.2\n",
       "pyparsing                   3.1.1\n",
       "pyreadr                     0.5.0\n",
       "pythonjsonlogger            NA\n",
       "pytz                        2023.3.post1\n",
       "referencing                 NA\n",
       "requests                    2.31.0\n",
       "rfc3339_validator           0.1.4\n",
       "rfc3986_validator           0.1.1\n",
       "rpds                        NA\n",
       "send2trash                  NA\n",
       "shapely                     1.8.5.post1\n",
       "six                         1.16.0\n",
       "sniffio                     1.3.0\n",
       "socks                       1.7.1\n",
       "sql                         NA\n",
       "sqlalchemy                  2.0.21\n",
       "sqlparse                    0.4.4\n",
       "stack_data                  0.6.2\n",
       "termcolor                   NA\n",
       "tornado                     6.3.3\n",
       "tqdm                        4.66.1\n",
       "traitlets                   5.9.0\n",
       "typing_extensions           NA\n",
       "uri_template                NA\n",
       "urllib3                     1.26.18\n",
       "wcwidth                     0.2.12\n",
       "webcolors                   1.13\n",
       "websocket                   1.7.0\n",
       "wrapt                       1.15.0\n",
       "xarray                      2023.12.0\n",
       "yaml                        6.0.1\n",
       "zipp                        NA\n",
       "zmq                         25.1.2\n",
       "zoneinfo                    NA\n",
       "zstandard                   0.22.0\n",
       "</pre>\n",
       "</details> <!-- seems like this ends pre, so might as well be explicit -->\n",
       "<pre>\n",
       "-----\n",
       "IPython             8.19.0\n",
       "jupyter_client      8.6.0\n",
       "jupyter_core        5.6.1\n",
       "jupyterlab          4.1.5\n",
       "notebook            6.5.4\n",
       "-----\n",
       "Python 3.10.13 | packaged by conda-forge | (main, Dec 23 2023, 15:36:39) [GCC 12.3.0]\n",
       "Linux-5.15.0-1055-gcp-x86_64-with-glibc2.31\n",
       "-----\n",
       "Session information updated at 2024-04-18 22:57\n",
       "</pre>\n",
       "</details>"
      ],
      "text/plain": [
       "<IPython.core.display.HTML object>"
      ]
     },
     "execution_count": 54,
     "metadata": {},
     "output_type": "execute_result"
    }
   ],
   "source": [
    "session_info.show()"
   ]
  },
  {
   "cell_type": "code",
   "execution_count": null,
   "id": "a9a72aa3-e50a-4f31-8b22-84179ae6bec4",
   "metadata": {},
   "outputs": [],
   "source": []
  }
 ],
 "metadata": {
  "kernelspec": {
   "display_name": "Python 3 (ipykernel)",
   "language": "python",
   "name": "python3"
  },
  "language_info": {
   "codemirror_mode": {
    "name": "ipython",
    "version": 3
   },
   "file_extension": ".py",
   "mimetype": "text/x-python",
   "name": "python",
   "nbconvert_exporter": "python",
   "pygments_lexer": "ipython3",
   "version": "3.10.13"
  }
 },
 "nbformat": 4,
 "nbformat_minor": 5
}
