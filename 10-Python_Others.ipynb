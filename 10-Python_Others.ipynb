{
 "cells": [
  {
   "cell_type": "markdown",
   "id": "c3d9578e-7526-4a58-b399-3402ce525e47",
   "metadata": {},
   "source": [
    "# Other type clustering and markers\n",
    "\n",
    "In this notebook, we use marker gene detection to select clusters that contain cells that don't fall into other major cell type classes (B, Myeloid, NK, or T), then subset our dataset and perform a round of iterative clustering at multiple resolutions. At each resolution we identify marker genes, then generate plots that we can use to assess cell type identity.\n",
    "\n",
    "The outputs of this analysis are used by our domain experts to assign cell type identities to our reference. "
   ]
  },
  {
   "cell_type": "markdown",
   "id": "b18d5c96-9119-4785-bed6-ccada92b66d2",
   "metadata": {},
   "source": [
    "## Load packages"
   ]
  },
  {
   "cell_type": "code",
   "execution_count": null,
   "id": "f1712a90-fa7c-4736-82f9-e66e1c055204",
   "metadata": {
    "tags": []
   },
   "outputs": [],
   "source": [
    "import warnings\n",
    "warnings.simplefilter(action='ignore', category=FutureWarning)\n",
    "\n",
    "import concurrent.futures\n",
    "from concurrent.futures import ProcessPoolExecutor\n",
    "import copy\n",
    "from datetime import date\n",
    "import hisepy\n",
    "import os\n",
    "import pandas as pd \n",
    "import re\n",
    "import scanpy as sc\n",
    "import scanpy.external as sce"
   ]
  },
  {
   "cell_type": "markdown",
   "id": "0b2b992b-131e-4bf4-b503-1a1bf728f8ba",
   "metadata": {},
   "source": [
    "## Helper functions\n",
    "\n",
    "These functions will help with subsetting and performing leiden clustering at multiple resolutions in parallel.\n",
    "\n",
    "`select_clusters_by_gene_frac()` allows us to compute the fraction of cells in each cluster that express the provided gene (> 0 UMIs). This fraction is provided by `scanpy`'s dotplot function, which calculates these fractions for use in display. We then filter clusters based on the cutoff provided as a parameter to this function.\n",
    "\n",
    "`run_leiden()` and `run_leiden_parallel()` enable parallel computation of multiple resolutions of leiden clustering."
   ]
  },
  {
   "cell_type": "code",
   "execution_count": null,
   "id": "d01e3d42-c0f4-44f6-becf-92708c42ccbf",
   "metadata": {
    "tags": []
   },
   "outputs": [],
   "source": [
    "def select_clusters_by_gene_frac(adata, gene, cutoff, clusters = 'leiden'):\n",
    "    gene_cl_frac = sc.pl.dotplot(\n",
    "        adata, \n",
    "        groupby = clusters,\n",
    "        var_names = gene,\n",
    "        return_fig = True\n",
    "    ).dot_size_df\n",
    "\n",
    "    select_cl = gene_cl_frac.index[gene_cl_frac[gene] > cutoff].tolist()\n",
    "\n",
    "    return select_cl\n",
    "\n",
    "def run_leiden(adata, resolution, key_added):\n",
    "    # Make a copy of adata for thread safety\n",
    "    adata_copy = copy.deepcopy(adata)\n",
    "    adata_clustering = sc.tl.leiden(\n",
    "        adata_copy, \n",
    "        resolution = resolution, \n",
    "        key_added = key_added, \n",
    "        copy = True)\n",
    "    return adata_clustering.obs\n",
    "\n",
    "def run_leiden_parallel(adata, tasks):\n",
    "    with ProcessPoolExecutor(max_workers = 5) as executor:\n",
    "        # Make deep copies of adata for each task to ensure thread safety\n",
    "        futures = [executor.submit(run_leiden, copy.deepcopy(adata), resolution, key_added) for resolution, key_added in tasks]\n",
    "        \n",
    "        results = [future.result() for future in futures]\n",
    "\n",
    "    # Assign the results back to the original AnnData object\n",
    "    for result, (_, key_added) in zip(results, tasks):\n",
    "        adata.obs[key_added] = result[key_added]\n",
    "\n",
    "    return adata"
   ]
  },
  {
   "cell_type": "markdown",
   "id": "215a6050-26e6-4eb8-bafb-097d9bb7aae6",
   "metadata": {},
   "source": [
    "## Read full dataset from HISE"
   ]
  },
  {
   "cell_type": "code",
   "execution_count": null,
   "id": "ce51fff7-f097-46a4-b3a9-4e5466a2f8e8",
   "metadata": {},
   "outputs": [],
   "source": [
    "cell_class = 'other'"
   ]
  },
  {
   "cell_type": "code",
   "execution_count": null,
   "id": "fd31898d-1632-46b7-be93-96cc1013bfa3",
   "metadata": {},
   "outputs": [],
   "source": [
    "h5ad_uuid = '9db48bed-cd91-49ae-abd2-447ae478ca96'\n",
    "h5ad_path = '/home/jupyter/cache/{u}'.format(u = h5ad_uuid)"
   ]
  },
  {
   "cell_type": "code",
   "execution_count": null,
   "id": "5c9e19d4-0499-4306-be54-3d4a126c1697",
   "metadata": {},
   "outputs": [],
   "source": [
    "if not os.path.isdir(h5ad_path):\n",
    "    hise_res = hisepy.reader.cache_files([h5ad_uuid])"
   ]
  },
  {
   "cell_type": "code",
   "execution_count": null,
   "id": "8aae664a-fc23-4099-b23a-841ccf9d22f0",
   "metadata": {},
   "outputs": [],
   "source": [
    "h5ad_filename = os.listdir(h5ad_path)[0]\n",
    "h5ad_file = '{p}/{f}'.format(p = h5ad_path, f = h5ad_filename)"
   ]
  },
  {
   "cell_type": "code",
   "execution_count": null,
   "id": "aab78ec3-4e68-49a0-880f-2131e757812c",
   "metadata": {
    "tags": []
   },
   "outputs": [],
   "source": [
    "adata = sc.read_h5ad(h5ad_file)"
   ]
  },
  {
   "cell_type": "code",
   "execution_count": null,
   "id": "ad58bc0c-412c-42c7-a267-8d14ffb9a094",
   "metadata": {},
   "outputs": [],
   "source": [
    "adata"
   ]
  },
  {
   "cell_type": "markdown",
   "id": "ee048c77-b7fa-40d0-a5f5-11fd202a7af8",
   "metadata": {},
   "source": [
    "## Plot major cell class markers\n",
    "\n",
    "To get an overview of cluster identity, we'll use a set of marker genes that are expressed in major classes of PBMC cell types:"
   ]
  },
  {
   "cell_type": "code",
   "execution_count": null,
   "id": "52a64e22-c3f8-4c24-9cc4-6986b6eb1215",
   "metadata": {},
   "outputs": [],
   "source": [
    "markers = [\n",
    "    'MS4A1', # B cells\n",
    "    'CD3D',  # T cells\n",
    "    'NCAM1', # NK cells\n",
    "    'FCN1',  # Myeloid cells\n",
    "    'HBB',   # Erythrocytes\n",
    "    'PPBP',  # Platelets\n",
    "    'MKI67', # Proliferating cells\n",
    "    'IL3RA'  # pDCs\n",
    "]"
   ]
  },
  {
   "cell_type": "code",
   "execution_count": null,
   "id": "8d82e0c0-7066-4e97-94b9-9186aeffe701",
   "metadata": {},
   "outputs": [],
   "source": [
    "sc.pl.dotplot(\n",
    "    adata, \n",
    "    groupby = 'leiden',\n",
    "    var_names = markers,\n",
    "    swap_axes = True\n",
    ")"
   ]
  },
  {
   "cell_type": "markdown",
   "id": "6a72de3e-140c-4e3c-816f-9249d310f564",
   "metadata": {},
   "source": [
    "## Select clusters to retain\n",
    "\n",
    "To select clusters, we'll use `select_clusters_by_gene_frac()` to select clusters for our desired cell type. We can also select clusters that express off-target genes (like HBB and PPBP), and use these to filter our list of clusters."
   ]
  },
  {
   "cell_type": "code",
   "execution_count": null,
   "id": "fdfbab17-765a-48f0-b32a-238e9969186d",
   "metadata": {},
   "outputs": [],
   "source": [
    "sc.pl.umap(adata, color = 'leiden', legend_loc = 'on data')"
   ]
  },
  {
   "cell_type": "code",
   "execution_count": null,
   "id": "53ac50c6-a425-4827-8579-fbdc4dddd8f5",
   "metadata": {},
   "outputs": [],
   "source": [
    "ms4a1_pos_cl = select_clusters_by_gene_frac(\n",
    "    adata, gene = 'MS4A1', cutoff = 0.5, clusters = 'leiden'\n",
    ")\n",
    "sc.pl.umap(adata, color = 'leiden', groups = cd3_pos_cl)"
   ]
  },
  {
   "cell_type": "code",
   "execution_count": null,
   "id": "b8749342-86fa-41bb-a7a6-548697e2fecd",
   "metadata": {},
   "outputs": [],
   "source": [
    "hbb_pos_cl = select_clusters_by_gene_frac(\n",
    "    adata, gene = 'HBB', cutoff = 0.8, clusters = 'leiden'\n",
    ")\n",
    "sc.pl.umap(adata, color = 'leiden', groups = hbb_pos_cl)"
   ]
  },
  {
   "cell_type": "code",
   "execution_count": null,
   "id": "976b80af-9813-4f35-827a-3d8688c1a163",
   "metadata": {},
   "outputs": [],
   "source": [
    "fcn1_pos_cl = select_clusters_by_gene_frac(\n",
    "    adata, gene = 'FCN1', cutoff = 0.5, clusters = 'leiden'\n",
    ")\n",
    "sc.pl.umap(adata, color = 'leiden', groups = fcn1_pos_cl)"
   ]
  },
  {
   "cell_type": "code",
   "execution_count": null,
   "id": "8e6f9777-058f-43ba-822a-c6f286d07b7c",
   "metadata": {},
   "outputs": [],
   "source": [
    "ppbp_pos_cl = select_clusters_by_gene_frac(\n",
    "    adata, gene = 'PPBP', cutoff = 0.6, clusters = 'leiden'\n",
    ")\n",
    "sc.pl.umap(adata, color = 'leiden', groups = ppbp_pos_cl)"
   ]
  },
  {
   "cell_type": "code",
   "execution_count": null,
   "id": "3c027e01-8a0d-4870-b442-608ce08c6d55",
   "metadata": {},
   "outputs": [],
   "source": [
    "mki67_pos_cl = select_clusters_by_gene_frac(\n",
    "    adata, gene = 'MKI67', cutoff = 0.4, clusters = 'leiden'\n",
    ")\n",
    "sc.pl.umap(adata, color = 'leiden', groups = mki67_pos_cl)"
   ]
  },
  {
   "cell_type": "code",
   "execution_count": null,
   "id": "fe8a8459-e5b0-4e02-8033-8fae4ce8aa9f",
   "metadata": {},
   "outputs": [],
   "source": [
    "ncam1_pos_cl = select_clusters_by_gene_frac(\n",
    "    adata, gene = 'NCAM1', cutoff = 0.2, clusters = 'leiden'\n",
    ")\n",
    "sc.pl.umap(adata, color = 'leiden', groups = ncam1_pos_cl)"
   ]
  },
  {
   "cell_type": "markdown",
   "id": "95cef90e-0868-4f15-8ba4-459540e9a20c",
   "metadata": {},
   "source": [
    "## Select clusters and subset data\n",
    "\n",
    "Here, we use Python's `set` class to keep the clusters we want, and remove off-target hits."
   ]
  },
  {
   "cell_type": "code",
   "execution_count": null,
   "id": "b332cc49-eefc-4758-937a-7c7f00e4d400",
   "metadata": {},
   "outputs": [],
   "source": [
    "keep_cl = set(cd3_pos_cl) - set(hbb_pos_cl)\n",
    "keep_cl = keep_cl - set(ppbp_pos_cl)\n",
    "keep_cl = keep_cl - set(fcn1_pos_cl)\n",
    "keep_cl = list(keep_cl)\n",
    "keep_cl.sort()\n",
    "keep_cl"
   ]
  },
  {
   "cell_type": "markdown",
   "id": "c0d18382-dda1-419e-b4e3-09f8cd5f84f2",
   "metadata": {},
   "source": [
    "Now, we can filter the dataset to get the subset we're after."
   ]
  },
  {
   "cell_type": "code",
   "execution_count": null,
   "id": "1f90d9cf-52d6-4bd8-9705-dcf0c12c3445",
   "metadata": {
    "tags": []
   },
   "outputs": [],
   "source": [
    "adata_subset = adata[adata.obs['leiden'].isin(keep_cl)]"
   ]
  },
  {
   "cell_type": "code",
   "execution_count": null,
   "id": "e6112150-52d0-4308-bc18-d6a016bff765",
   "metadata": {},
   "outputs": [],
   "source": [
    "adata_subset.shape"
   ]
  },
  {
   "cell_type": "markdown",
   "id": "b21de900-0f3a-4e0b-a740-411a0f24da40",
   "metadata": {},
   "source": [
    "## Normalize and harmonize subset\n",
    "\n",
    "As in the original analysis of this dataset, we'll need to normalize, select marker genes, and run Harmony to integrate across our cohorts.\n",
    "\n",
    "It's important that we redo this step for our subset, as gene variability may differ when computed within our subset of cells rather than across the entire set of PBMCs. This key feature selection step will affect our ability to cluster and identify cell types, so we do this iteratively for the subset we're using now."
   ]
  },
  {
   "cell_type": "markdown",
   "id": "03b5238b-ab38-49b7-bbae-37ca5e4aac48",
   "metadata": {},
   "source": [
    "We previously stored raw counts in `adata.raw` - we can now recover these original count data for analysis of the selected cells:"
   ]
  },
  {
   "cell_type": "code",
   "execution_count": null,
   "id": "92039b6a-8857-4cd0-b1bd-ab403d870c9b",
   "metadata": {
    "tags": []
   },
   "outputs": [],
   "source": [
    "adata_subset = adata_subset.raw.to_adata()"
   ]
  },
  {
   "cell_type": "code",
   "execution_count": null,
   "id": "caab2695-f02f-4eb4-8a73-5d38d0dc9953",
   "metadata": {},
   "outputs": [],
   "source": [
    "adata_subset.shape"
   ]
  },
  {
   "cell_type": "code",
   "execution_count": null,
   "id": "1caf26f6-d7d1-44e9-9c29-ce6017808b49",
   "metadata": {
    "tags": []
   },
   "outputs": [],
   "source": [
    "adata_subset.raw = adata_subset"
   ]
  },
  {
   "cell_type": "code",
   "execution_count": null,
   "id": "982cbf10-4642-4975-a64f-acbc45786894",
   "metadata": {
    "tags": []
   },
   "outputs": [],
   "source": [
    "sc.pp.normalize_total(adata_subset, target_sum=1e4)"
   ]
  },
  {
   "cell_type": "code",
   "execution_count": null,
   "id": "a58df468-2c79-4130-a312-a609818a0fca",
   "metadata": {
    "tags": []
   },
   "outputs": [],
   "source": [
    "sc.pp.log1p(adata_subset)\n",
    "sc.pp.highly_variable_genes(adata_subset)\n",
    "adata_subset = adata_subset[:, adata_subset.var_names[adata_subset.var['highly_variable']]]"
   ]
  },
  {
   "cell_type": "code",
   "execution_count": null,
   "id": "21c0b089-e1f7-455d-9a22-f83fc6012b35",
   "metadata": {
    "tags": []
   },
   "outputs": [],
   "source": [
    "sc.pp.scale(adata_subset)"
   ]
  },
  {
   "cell_type": "code",
   "execution_count": null,
   "id": "66ef0c55-4a33-41e2-bdf9-0df07e0449d9",
   "metadata": {
    "tags": []
   },
   "outputs": [],
   "source": [
    "sc.tl.pca(adata_subset, svd_solver='arpack')"
   ]
  },
  {
   "cell_type": "code",
   "execution_count": null,
   "id": "23d33666-1351-4be1-9cc8-27bd306bd14b",
   "metadata": {
    "tags": []
   },
   "outputs": [],
   "source": [
    "sce.pp.harmony_integrate(\n",
    "    adata_subset, \n",
    "    'cohort.cohortGuid',\n",
    "    max_iter_harmony = 30)"
   ]
  },
  {
   "cell_type": "code",
   "execution_count": null,
   "id": "699af738-90a1-4226-b62d-a06db232679c",
   "metadata": {
    "tags": []
   },
   "outputs": [],
   "source": [
    "sc.pp.neighbors(\n",
    "    adata_subset, \n",
    "    n_neighbors = 50,\n",
    "    use_rep = 'X_pca_harmony', \n",
    "    n_pcs = 30)"
   ]
  },
  {
   "cell_type": "code",
   "execution_count": null,
   "id": "4e6f833b-9e8c-41ee-9a79-71fd1414abaf",
   "metadata": {
    "tags": []
   },
   "outputs": [],
   "source": [
    "sc.tl.umap(adata_subset, min_dist = 0.05)"
   ]
  },
  {
   "cell_type": "code",
   "execution_count": null,
   "id": "6951ac70-1dc0-410b-a270-9d7fef296c39",
   "metadata": {
    "tags": []
   },
   "outputs": [],
   "source": [
    "out_dir = 'output'\n",
    "if not os.path.isdir(out_dir):\n",
    "    os.makedirs(out_dir)"
   ]
  },
  {
   "cell_type": "code",
   "execution_count": null,
   "id": "4da77eb6-0734-4a13-a5b4-77f5acdeb9a0",
   "metadata": {
    "scrolled": true,
    "tags": []
   },
   "outputs": [],
   "source": [
    "subset_h5ad = 'output/ref_pbmc_t-cells_subset_{d}.h5ad'.format(d = date.today())\n",
    "adata_subset.write_h5ad(subset_h5ad)"
   ]
  },
  {
   "cell_type": "markdown",
   "id": "c752e2ce-149a-4216-b0bc-ec61d1b11b5e",
   "metadata": {},
   "source": [
    "## Cluster at multiple resolutions\n",
    "\n",
    "Here, we use our helper functions to perform clustering at multiple resolutions. This can be helpful for finding a set of clusters that correspond well to marker expression and distinguish functional cell type differences."
   ]
  },
  {
   "cell_type": "code",
   "execution_count": null,
   "id": "7371a4ec-314a-46dd-8eeb-df2a2279f3fb",
   "metadata": {
    "tags": []
   },
   "outputs": [],
   "source": [
    "%%time\n",
    "tasks = [\n",
    "    (1, \"leiden_resolution_1\"),\n",
    "    (1.5, \"leiden_resolution_1.5\"),\n",
    "    (2, \"leiden_resolution_2\")\n",
    "]\n",
    "adata_subset = run_leiden_parallel(adata_subset, tasks)"
   ]
  },
  {
   "cell_type": "code",
   "execution_count": null,
   "id": "dcc077c5-f127-40d6-b6ae-779b3cda04dd",
   "metadata": {
    "scrolled": true,
    "tags": []
   },
   "outputs": [],
   "source": [
    "clustered_h5ad = 'output/ref_pbmc_{c}_clustered_{d}.h5ad'.format(c = cell_class, d = date.today())\n",
    "adata_subset.write_h5ad(clustered_h5ad)"
   ]
  },
  {
   "cell_type": "markdown",
   "id": "83589686-e888-4af0-b6ec-2b7be0605a3f",
   "metadata": {},
   "source": [
    "## Plot reference labels and clustering\n",
    "\n",
    "Now that we've clustered, it's helpful to plot reference labels and clusters on our UMAP projection to see how they fall relative to each other."
   ]
  },
  {
   "cell_type": "code",
   "execution_count": null,
   "id": "8c9cbf9d-181d-4af1-8617-18bfd01c833f",
   "metadata": {
    "tags": []
   },
   "outputs": [],
   "source": [
    "sc.pl.umap(\n",
    "    adata_subset, \n",
    "    color = ['seurat.l2.5'], \n",
    "    size = 2,\n",
    "    show = False,\n",
    "    ncols = 1 ,\n",
    "    frameon = False\n",
    ")"
   ]
  },
  {
   "cell_type": "code",
   "execution_count": null,
   "id": "2a4bd40d-b3ec-4f5d-b727-d37823b0e526",
   "metadata": {
    "tags": []
   },
   "outputs": [],
   "source": [
    "sc.pl.umap(\n",
    "    adata_subset, \n",
    "    color = ['celltypist.low'], \n",
    "    size = 2,\n",
    "    show = False,\n",
    "    ncols = 1 ,\n",
    "    frameon = False\n",
    ")"
   ]
  },
  {
   "cell_type": "markdown",
   "id": "d3b5ee62-78d5-4bd6-8bb1-fdc9ad1368d4",
   "metadata": {},
   "source": [
    "CMV status is also helpful to view, as CMV can drive expansion of some cell types."
   ]
  },
  {
   "cell_type": "code",
   "execution_count": null,
   "id": "6ffb79a9-30d4-4439-bc3a-846ea125195b",
   "metadata": {
    "tags": []
   },
   "outputs": [],
   "source": [
    "sc.pl.umap(\n",
    "    adata_subset, \n",
    "    color = ['subject.cmv'], \n",
    "    size = 2,\n",
    "    show = False,\n",
    "    ncols = 1 ,\n",
    "    frameon = False\n",
    ")"
   ]
  },
  {
   "cell_type": "code",
   "execution_count": null,
   "id": "18c4f87d-3e65-46de-b0b1-dfe72ef92819",
   "metadata": {
    "tags": []
   },
   "outputs": [],
   "source": [
    "leiden_cols = [t[1] for t in tasks]\n",
    "sc.pl.umap(\n",
    "    adata_subset, \n",
    "    color = leiden_cols, \n",
    "    size = 2,\n",
    "    show = False,\n",
    "    ncols = 1 ,\n",
    "    frameon = False\n",
    ")"
   ]
  },
  {
   "cell_type": "markdown",
   "id": "9a240c73-8c36-4abe-bd6e-b14e98526470",
   "metadata": {},
   "source": [
    "## Save UMAP coordinates and labels"
   ]
  },
  {
   "cell_type": "code",
   "execution_count": null,
   "id": "453f6295-f338-4fa6-a7d0-9367b407955b",
   "metadata": {},
   "outputs": [],
   "source": [
    "umap_mat = adata.obsm['X_umap']"
   ]
  },
  {
   "cell_type": "code",
   "execution_count": null,
   "id": "5c3ea986-a993-49cf-9908-6ead3b58d8f0",
   "metadata": {},
   "outputs": [],
   "source": [
    "umap_df = pd.DataFrame(umap_mat, columns = ['umap_1', 'umap_2'])"
   ]
  },
  {
   "cell_type": "code",
   "execution_count": null,
   "id": "d812a1fb-2076-45a8-8438-c7dced685eab",
   "metadata": {},
   "outputs": [],
   "source": [
    "obs = adata.obs\n",
    "obs['umap_1'] = umap_df['umap_1']\n",
    "obs['umap_2'] = umap_df['umap_2']"
   ]
  },
  {
   "cell_type": "code",
   "execution_count": null,
   "id": "4963701b-cba3-4baa-b6ad-6d867ffa482a",
   "metadata": {},
   "outputs": [],
   "source": [
    "out_csv = 'output/ref_{c}_clustered_umap_meta_{d}.csv'.format(c = cell_class, d = date.today())"
   ]
  },
  {
   "cell_type": "code",
   "execution_count": null,
   "id": "6f2b245d-ce94-4c0b-a621-314947e3f8c7",
   "metadata": {
    "scrolled": true
   },
   "outputs": [],
   "source": [
    "obs.to_csv(out_csv)"
   ]
  },
  {
   "cell_type": "code",
   "execution_count": null,
   "id": "f5c0f411-061b-49d5-b285-696947ecd932",
   "metadata": {},
   "outputs": [],
   "source": [
    "out_parquet = 'output/ref_{c}_clustered_umap_meta_{d}.parquet'.format(c = cell_class, d = date.today())"
   ]
  },
  {
   "cell_type": "code",
   "execution_count": null,
   "id": "0a4cc3a1-393b-4e53-9db1-fdaec15cfff4",
   "metadata": {},
   "outputs": [],
   "source": [
    "obs = obs.to_parquet(out_parquet)"
   ]
  },
  {
   "cell_type": "markdown",
   "id": "a912d4ee-d392-4b27-9538-3af821ca87cf",
   "metadata": {},
   "source": [
    "## Compute markers for each resolution of Leiden clustering"
   ]
  },
  {
   "cell_type": "code",
   "execution_count": null,
   "id": "c24b071d-d7d3-4267-a312-9b27e8458fa7",
   "metadata": {
    "tags": []
   },
   "outputs": [],
   "source": [
    "adata_subset = adata_subset.raw.to_adata()\n",
    "sc.pp.normalize_total(adata_subset, target_sum=1e4)\n",
    "sc.pp.log1p(adata_subset)\n",
    "\n",
    "marker_files = {}\n",
    "for res_num,res_name in tasks:\n",
    "    res_csv = '{p}/ref_{c}_res{n}_markers_{d}.csv'.format(p = out_dir, c = cell_class, n = res_num, d = date.today())\n",
    "    sc.tl.rank_genes_groups(adata_subset, res_name, method = 'wilcoxon')\n",
    "    df = sc.get.rank_genes_groups_df(adata_subset, group = None)\n",
    "    df.to_csv(res_csv)\n",
    "    marker_files[n] = res_csv"
   ]
  },
  {
   "cell_type": "markdown",
   "id": "f9fd4ba8-a051-4e77-90b3-b7c0f92a8ea0",
   "metadata": {},
   "source": [
    "## Plot top markers"
   ]
  },
  {
   "cell_type": "code",
   "execution_count": null,
   "id": "288027c3-d39b-464c-b3e4-512c033ffad9",
   "metadata": {},
   "outputs": [],
   "source": [
    "res2_marker_file = marker_files[2]\n",
    "res2_markers = pandas.read_csv(res2_marker_file)"
   ]
  },
  {
   "cell_type": "code",
   "execution_count": null,
   "id": "a7b589b5-4595-48d7-9c19-582cd6935c86",
   "metadata": {
    "tags": []
   },
   "outputs": [],
   "source": [
    "res2_markers = (\n",
    "    res2_markers\n",
    "    .groupby('group')\n",
    "    .head(20)\n",
    "    .reset_index(drop=True)\n",
    ")"
   ]
  },
  {
   "cell_type": "code",
   "execution_count": null,
   "id": "e1bfb630-d0af-4cbe-9384-8aebac97d5ca",
   "metadata": {
    "tags": []
   },
   "outputs": [],
   "source": [
    "plot_file = '{p}/ref_{c}_res2_marker_plot_{d}.png'.format(p = out_dir, c = cell_class, d = date.today())\n",
    "\n",
    "groups = df.groupby('group')\n",
    "\n",
    "fig, axs = plt.subplots(4, 6, figsize=(10, 14), squeeze=False)\n",
    "\n",
    "# Loop through each group and create a scatter plot in the corresponding subplot\n",
    "for i, (name, group) in enumerate(groups):\n",
    "    row, col = i // 6, i % 6\n",
    "    axs[row, col].scatter(group['scores'], group['names'])\n",
    "    axs[row, col].invert_yaxis()\n",
    "    axs[row, col].set_title(str(name)+\" vs Rest\")\n",
    "    axs[row, col].set_xlabel('U scores')\n",
    "    axs[row, col].set_ylabel('Gene')\n",
    "fig.tight_layout()\n",
    "\n",
    "plt.savefig(plot_file)"
   ]
  },
  {
   "cell_type": "markdown",
   "id": "69f65516-7e5e-4f63-bfd4-f8c47d993453",
   "metadata": {},
   "source": [
    "## Upload assembled data to HISE\n",
    "\n",
    "Finally, we'll use `hisepy.upload.upload_files()` to send a copy of our output to HISE to use for downstream analysis steps."
   ]
  },
  {
   "cell_type": "code",
   "execution_count": null,
   "id": "b821bba8-647c-4c0d-9169-9c6f0a0746a3",
   "metadata": {},
   "outputs": [],
   "source": [
    "study_space_uuid = '64097865-486d-43b3-8f94-74994e0a72e0'\n",
    "title = 'T cell subclustering {d}'.format(d = date.today())"
   ]
  },
  {
   "cell_type": "code",
   "execution_count": null,
   "id": "a09de681-2508-48cd-b53c-b621d4aa9f52",
   "metadata": {},
   "outputs": [],
   "source": [
    "in_files = [h5ad_uuid]"
   ]
  },
  {
   "cell_type": "code",
   "execution_count": null,
   "id": "633c339f-a3c8-4339-833b-417d818dc58e",
   "metadata": {},
   "outputs": [],
   "source": [
    "out_files = [clustered_h5ad, out_csv, out_parquet, marker_list, plot_file]"
   ]
  },
  {
   "cell_type": "raw",
   "id": "352a26ed-9772-4b6a-9a8f-4b1d469753bb",
   "metadata": {},
   "source": [
    "hisepy.upload.upload_files(\n",
    "    files = out_files,\n",
    "    study_space_id = study_space_uuid,\n",
    "    title = title,\n",
    "    input_file_ids = in_files\n",
    ")"
   ]
  },
  {
   "cell_type": "code",
   "execution_count": null,
   "id": "01a93b15-c0c3-41ce-8e09-a1672072c243",
   "metadata": {},
   "outputs": [],
   "source": [
    "import session_info\n",
    "session_info.show()"
   ]
  }
 ],
 "metadata": {
  "kernelspec": {
   "display_name": "Python [conda env:root] *",
   "language": "python",
   "name": "conda-root-py"
  },
  "language_info": {
   "codemirror_mode": {
    "name": "ipython",
    "version": 3
   },
   "file_extension": ".py",
   "mimetype": "text/x-python",
   "name": "python",
   "nbconvert_exporter": "python",
   "pygments_lexer": "ipython3",
   "version": "3.10.13"
  }
 },
 "nbformat": 4,
 "nbformat_minor": 5
}
