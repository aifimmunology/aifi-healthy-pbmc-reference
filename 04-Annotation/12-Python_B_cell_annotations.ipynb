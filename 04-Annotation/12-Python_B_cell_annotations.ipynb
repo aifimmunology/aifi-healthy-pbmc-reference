{
 "cells": [
  {
   "cell_type": "markdown",
   "id": "e90d448e-8b8a-408c-859f-bf4e2aa930d5",
   "metadata": {},
   "source": [
    "# B cell annotations\n",
    "\n",
    "In this notebook, we upload cell type annotations assigned by our domain experts. These annotations were generated using markers and by interactive investigation of our .h5ad files.\n",
    "\n",
    "As these are derived from our .h5ad files, we'll connect them to the HISE analysis chain by chaching those files and using `hisepy.upload.upload_files()`."
   ]
  },
  {
   "cell_type": "code",
   "execution_count": 1,
   "id": "d61a2467-035c-45e2-b0a8-c94523406816",
   "metadata": {},
   "outputs": [],
   "source": [
    "import hisepy\n",
    "from datetime import date"
   ]
  },
  {
   "cell_type": "markdown",
   "id": "3d6119e2-df2a-4fed-ad82-3248b0ed3a4d",
   "metadata": {},
   "source": [
    "For B cells, this was done in two steps - all B cells that were clustered after Immunoglobulin removal, and with subclustering of non-effector memory B cells.\n",
    "\n",
    "Here, we'll combine these steps to build the link in our reproducibility chain."
   ]
  },
  {
   "cell_type": "code",
   "execution_count": 1,
   "id": "8123c57a-c51c-4832-bc30-c7ef787cacc8",
   "metadata": {},
   "outputs": [
    {
     "name": "stderr",
     "output_type": "stream",
     "text": [
      "\n",
      "KeyboardInterrupt\n",
      "\n"
     ]
    }
   ],
   "source": [
    "in_files = [\n",
    "    '99f83994-26ee-49af-a882-c1f2558daed2', # B cell .h5ad\n",
    "    '51838754-b378-4f13-b447-82511bcd0a66'  # B Memory cell focus .h5ad\n",
    "]\n",
    "hise_res = hisepy.reader.cache_files(in_files)"
   ]
  },
  {
   "cell_type": "code",
   "execution_count": null,
   "id": "eed57930-debb-40c4-a201-b787af10520f",
   "metadata": {},
   "outputs": [],
   "source": [
    "out_files = [\n",
    "    'annotations/pbmc_ref_b-cells-no-ig_annotations_2024-03-08.csv',\n",
    "    'annotations/pbmc_ref_b-cells-mem-no-ig_annotations_2024-03-08.csv'\n",
    "]"
   ]
  },
  {
   "cell_type": "code",
   "execution_count": null,
   "id": "c94c9511-5758-49aa-9171-95ea152ad99b",
   "metadata": {},
   "outputs": [],
   "source": [
    "study_space_uuid = '64097865-486d-43b3-8f94-74994e0a72e0'\n",
    "title = 'Ref. B cell annotations {d}'.format(d = date.today())"
   ]
  },
  {
   "cell_type": "code",
   "execution_count": null,
   "id": "b30714da-90d4-4ecd-9d6b-053e1545b070",
   "metadata": {},
   "outputs": [],
   "source": [
    "hisepy.upload.upload_files(\n",
    "    files = out_files,\n",
    "    study_space_id = study_space_uuid,\n",
    "    title = title,\n",
    "    input_file_ids = in_files\n",
    ")"
   ]
  },
  {
   "cell_type": "code",
   "execution_count": null,
   "id": "ae5ad1de-b624-4727-a4bd-2a3bc3d6e313",
   "metadata": {},
   "outputs": [],
   "source": [
    "import session_info\n",
    "session_info.show()"
   ]
  },
  {
   "cell_type": "code",
   "execution_count": null,
   "id": "74f5402b-1571-4e40-a726-37728e42cd64",
   "metadata": {},
   "outputs": [],
   "source": []
  }
 ],
 "metadata": {
  "kernelspec": {
   "display_name": "Python 3 (ipykernel)",
   "language": "python",
   "name": "python3"
  },
  "language_info": {
   "codemirror_mode": {
    "name": "ipython",
    "version": 3
   },
   "file_extension": ".py",
   "mimetype": "text/x-python",
   "name": "python",
   "nbconvert_exporter": "python",
   "pygments_lexer": "ipython3",
   "version": "3.10.13"
  }
 },
 "nbformat": 4,
 "nbformat_minor": 5
}
