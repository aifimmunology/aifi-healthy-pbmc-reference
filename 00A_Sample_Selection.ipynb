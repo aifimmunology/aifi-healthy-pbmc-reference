{
 "cells": [
  {
   "cell_type": "markdown",
   "id": "f4143c1d-4f24-4aae-9d6d-98552383c4a6",
   "metadata": {},
   "source": [
    "# Select samples for use in reference building"
   ]
  },
  {
   "cell_type": "markdown",
   "id": "18f31246-4851-4a0d-a915-68ec4894d1ad",
   "metadata": {},
   "source": [
    "## Load packages"
   ]
  },
  {
   "cell_type": "code",
   "execution_count": 1,
   "id": "5adb72ac-565d-4960-931c-3803a71e145c",
   "metadata": {
    "tags": []
   },
   "outputs": [],
   "source": [
    "quiet_library <- function(...) { suppressPackageStartupMessages(library(...)) }\n",
    "quiet_library(hise)\n",
    "quiet_library(dplyr)\n",
    "quiet_library(purrr)"
   ]
  },
  {
   "cell_type": "markdown",
   "id": "559d4162-e70f-43b8-b171-0254152a8d36",
   "metadata": {},
   "source": [
    "## Retrieve file and sample metadata from HISE"
   ]
  },
  {
   "cell_type": "code",
   "execution_count": 2,
   "id": "886829cd-06ef-4300-956b-75fbabca4378",
   "metadata": {
    "tags": []
   },
   "outputs": [],
   "source": [
    "BR1_rna_desc <- getFileDescriptors(\n",
    "    fileType = \"scRNA-seq-labeled\", \n",
    "    filter = list(cohort.cohortGuid = \"BR1\"))\n",
    "BR2_rna_desc <- getFileDescriptors(\n",
    "    fileType = \"scRNA-seq-labeled\", \n",
    "    filter = list(cohort.cohortGuid = \"BR2\"))\n",
    "UP1_rna_desc <- getFileDescriptors(\n",
    "    fileType = \"scRNA-seq-labeled\", \n",
    "    filter = list(cohort.cohortGuid = \"UP1\"))"
   ]
  },
  {
   "cell_type": "code",
   "execution_count": 3,
   "id": "7713d294-470e-4bce-b823-50db7bb28ea7",
   "metadata": {
    "tags": []
   },
   "outputs": [],
   "source": [
    "BR1_rna_desc <- fileDescToDataframe(BR1_rna_desc)\n",
    "BR2_rna_desc <- fileDescToDataframe(BR2_rna_desc)\n",
    "UP1_rna_desc <- fileDescToDataframe(UP1_rna_desc)"
   ]
  },
  {
   "cell_type": "markdown",
   "id": "b7e3b449-b423-4987-8a7b-b9689ad1130d",
   "metadata": {},
   "source": [
    "## Remove irrelevant batches\n",
    "\n",
    "Batches starting with \"EXP\" are experimental, non-pipeline batches.  \n",
    "B004 is an early batch that has some batch effects. We'll exclude this batch, as samples have been re-run in later batches."
   ]
  },
  {
   "cell_type": "code",
   "execution_count": 4,
   "id": "fea5288b-59be-47ad-8e23-1ec57b1080a4",
   "metadata": {
    "tags": []
   },
   "outputs": [],
   "source": [
    "meta_data <- plyr::rbind.fill(BR1_rna_desc , BR2_rna_desc )"
   ]
  },
  {
   "cell_type": "code",
   "execution_count": 5,
   "id": "59f3e5f6-408a-4e77-ac97-a8d350ebebc1",
   "metadata": {},
   "outputs": [],
   "source": [
    "meta_data <- meta_data %>%\n",
    "  filter(!grepl(\"EXP\",file.batchID)) %>%\n",
    "  filter(!file.batchID == \"B004\")"
   ]
  },
  {
   "cell_type": "markdown",
   "id": "3a0a76db-0e8f-4743-b929-5bbb6d765934",
   "metadata": {},
   "source": [
    "## Remove non-healthy and abnormal subjects\n",
    "\n",
    "We want to use only healthy subjects without abnormal presentation for this reference. A few subjects have non-healthy or abnormal states recored at some visits. We'll identify and remove these subjects."
   ]
  },
  {
   "cell_type": "code",
   "execution_count": 6,
   "id": "1e37252c-19bc-41df-8dca-f97275a73407",
   "metadata": {},
   "outputs": [],
   "source": [
    "non_healthy <- meta_data %>%\n",
    "  filter(sample.diseaseStatesRecordedAtVisit != \"\") %>%\n",
    "  select(subject.subjectGuid, sample.diseaseStatesRecordedAtVisit) %>%\n",
    "  unique()"
   ]
  },
  {
   "cell_type": "code",
   "execution_count": 7,
   "id": "e67ba6bc-ad53-4f2d-bb79-54c944aeed2e",
   "metadata": {},
   "outputs": [
    {
     "data": {
      "text/html": [
       "<table class=\"dataframe\">\n",
       "<caption>A data.frame: 3 × 2</caption>\n",
       "<thead>\n",
       "\t<tr><th></th><th scope=col>subject.subjectGuid</th><th scope=col>sample.diseaseStatesRecordedAtVisit</th></tr>\n",
       "\t<tr><th></th><th scope=col>&lt;chr&gt;</th><th scope=col>&lt;chr&gt;</th></tr>\n",
       "</thead>\n",
       "<tbody>\n",
       "\t<tr><th scope=row>1</th><td>BR1034</td><td>Psoriasis         </td></tr>\n",
       "\t<tr><th scope=row>7</th><td>BR2007</td><td>Healthy - Abnormal</td></tr>\n",
       "\t<tr><th scope=row>17</th><td>BR2049</td><td>Healthy - Abnormal</td></tr>\n",
       "</tbody>\n",
       "</table>\n"
      ],
      "text/latex": [
       "A data.frame: 3 × 2\n",
       "\\begin{tabular}{r|ll}\n",
       "  & subject.subjectGuid & sample.diseaseStatesRecordedAtVisit\\\\\n",
       "  & <chr> & <chr>\\\\\n",
       "\\hline\n",
       "\t1 & BR1034 & Psoriasis         \\\\\n",
       "\t7 & BR2007 & Healthy - Abnormal\\\\\n",
       "\t17 & BR2049 & Healthy - Abnormal\\\\\n",
       "\\end{tabular}\n"
      ],
      "text/markdown": [
       "\n",
       "A data.frame: 3 × 2\n",
       "\n",
       "| <!--/--> | subject.subjectGuid &lt;chr&gt; | sample.diseaseStatesRecordedAtVisit &lt;chr&gt; |\n",
       "|---|---|---|\n",
       "| 1 | BR1034 | Psoriasis          |\n",
       "| 7 | BR2007 | Healthy - Abnormal |\n",
       "| 17 | BR2049 | Healthy - Abnormal |\n",
       "\n"
      ],
      "text/plain": [
       "   subject.subjectGuid sample.diseaseStatesRecordedAtVisit\n",
       "1  BR1034              Psoriasis                          \n",
       "7  BR2007              Healthy - Abnormal                 \n",
       "17 BR2049              Healthy - Abnormal                 "
      ]
     },
     "metadata": {},
     "output_type": "display_data"
    }
   ],
   "source": [
    "non_healthy"
   ]
  },
  {
   "cell_type": "code",
   "execution_count": 8,
   "id": "a337a609-68bb-4ea1-8f60-2ba3010a98ce",
   "metadata": {
    "tags": []
   },
   "outputs": [],
   "source": [
    "meta_data <- meta_data %>%\n",
    "  filter(!subject.subjectGuid %in% non_healthy$subject.subjectGuid)"
   ]
  },
  {
   "cell_type": "markdown",
   "id": "ff09d813-73e3-4242-9509-2fcf2f818477",
   "metadata": {},
   "source": [
    "## Select Flu Year 1 Day 0 samples\n",
    "\n",
    "To build our reference, we'll use the pre-vaccination samples from each of our BR1 (healthy adult 25-35 years) and BR2 (healthy adult 55-65 years) subjects.\n",
    "\n",
    "These samples have the visit name \"Flu Year 1 Day 0\"."
   ]
  },
  {
   "cell_type": "code",
   "execution_count": 10,
   "id": "e599d045-47e3-48d1-8fe2-26db30b86a79",
   "metadata": {
    "tags": []
   },
   "outputs": [],
   "source": [
    "meta_data$pbmc_sample_id <- gsub(\"_\",\"\",paste0(\"PB0\",substr(sub(\".*PB0\", \"\", meta_data$file.name),1,8)))\n",
    "meta_data <- meta_data %>% \n",
    "  arrange(pbmc_sample_id) %>%\n",
    "  filter(!duplicated(sample.sampleKitGuid, fromLast = TRUE)) %>%\n",
    "  filter(sample.visitName == 'Flu Year 1 Day 0') %>%\n",
    "  arrange(sample.sampleKitGuid)"
   ]
  },
  {
   "cell_type": "code",
   "execution_count": 11,
   "id": "5eb5922c-a134-4661-9338-e0494569eaa0",
   "metadata": {
    "tags": []
   },
   "outputs": [
    {
     "data": {
      "text/plain": [
       "\n",
       "BR1 BR2 \n",
       " 47  45 "
      ]
     },
     "metadata": {},
     "output_type": "display_data"
    }
   ],
   "source": [
    "table(meta_data$cohort.cohortGuid)"
   ]
  },
  {
   "cell_type": "markdown",
   "id": "a9048003-ae15-4dd5-bc84-bf261dfcbd9e",
   "metadata": {},
   "source": [
    "## Select pediatric samples\n",
    "\n",
    "A set of 16 pediatric samples have been previously published in Thomson, Z. et al. Trimodal single-cell profiling reveals a novel pediatric CD8αα+ T cell subset and broad age-related molecular reprogramming across the T cell compartment. Nat. Immunol. 24, 1947–1959 (2023).\n",
    "\n",
    "We'll use this set of samples to provide coverage of pediatric cells in our reference."
   ]
  },
  {
   "cell_type": "code",
   "execution_count": 12,
   "id": "70d7eb1b-dd86-4519-acea-765d06a5ed4d",
   "metadata": {
    "tags": []
   },
   "outputs": [],
   "source": [
    "UP_Sample_kits <- c(\"KT00809\",\"KT00811\",\"KT00193\",\"KT00841\",\n",
    "                    \"KT00842\",\"KT00833\",\"KT00910\",\"KT00884\",\n",
    "                    \"KT00892\",\"KT00914\",\"KT00913\",\"KT00927\",\n",
    "                    \"KT00928\",\"KT02391\",\"KT02392\",\"KT03223\")"
   ]
  },
  {
   "cell_type": "code",
   "execution_count": 13,
   "id": "d43c00fd-15f1-45c0-ae6e-f122ba146355",
   "metadata": {
    "tags": []
   },
   "outputs": [],
   "source": [
    "UP1_rna_desc <- UP1_rna_desc %>% \n",
    "  filter(sample.sampleKitGuid %in% UP_Sample_kits)"
   ]
  },
  {
   "cell_type": "code",
   "execution_count": 14,
   "id": "551cb10a-8a18-4f54-a843-a752cbb35fe1",
   "metadata": {
    "tags": []
   },
   "outputs": [],
   "source": [
    "meta_data <- plyr::rbind.fill(meta_data, UP1_rna_desc)"
   ]
  },
  {
   "cell_type": "markdown",
   "id": "f293094f-0846-4f41-b514-b825a0b40ec5",
   "metadata": {},
   "source": [
    "## Save file and sample metadata"
   ]
  },
  {
   "cell_type": "code",
   "execution_count": 15,
   "id": "cd936a54-747c-46a4-8fec-56a689b6da61",
   "metadata": {},
   "outputs": [],
   "source": [
    "if(!dir.exists(\"output\")) {\n",
    "    dir.create(\"output\")\n",
    "}"
   ]
  },
  {
   "cell_type": "code",
   "execution_count": 16,
   "id": "1899832d-825b-41ce-99dc-d13a24966c05",
   "metadata": {
    "tags": []
   },
   "outputs": [],
   "source": [
    "out_file <- file.path(\n",
    "    \"output\",\n",
    "    paste0(\"ref_h5_meta_data_\",Sys.Date(),\".csv\")\n",
    ")\n",
    "\n",
    "write.csv(\n",
    "    meta_data,\n",
    "    out_file,\n",
    "    row.names = FALSE,\n",
    "    quote = FALSE\n",
    ")"
   ]
  },
  {
   "cell_type": "markdown",
   "id": "8828733c-c5d0-445e-a7d9-49ed302eb2ec",
   "metadata": {},
   "source": [
    "## Store results in HISE\n",
    "\n",
    "Because this file originates from HISE metadata only, we'll save it and load it into HISE using a watchfolder, and make it available in our Collaboration Space using a File Set."
   ]
  },
  {
   "cell_type": "code",
   "execution_count": 17,
   "id": "e582811f-d8de-4072-a74c-dcfb0f313767",
   "metadata": {},
   "outputs": [
    {
     "data": {
      "text/plain": [
       "R version 4.3.2 (2023-10-31)\n",
       "Platform: x86_64-conda-linux-gnu (64-bit)\n",
       "Running under: Ubuntu 20.04.6 LTS\n",
       "\n",
       "Matrix products: default\n",
       "BLAS/LAPACK: /opt/conda/lib/libopenblasp-r0.3.25.so;  LAPACK version 3.11.0\n",
       "\n",
       "locale:\n",
       " [1] LC_CTYPE=C.UTF-8       LC_NUMERIC=C           LC_TIME=C.UTF-8       \n",
       " [4] LC_COLLATE=C.UTF-8     LC_MONETARY=C.UTF-8    LC_MESSAGES=C.UTF-8   \n",
       " [7] LC_PAPER=C.UTF-8       LC_NAME=C              LC_ADDRESS=C          \n",
       "[10] LC_TELEPHONE=C         LC_MEASUREMENT=C.UTF-8 LC_IDENTIFICATION=C   \n",
       "\n",
       "time zone: Etc/UTC\n",
       "tzcode source: system (glibc)\n",
       "\n",
       "attached base packages:\n",
       "[1] stats     graphics  grDevices utils     datasets  methods   base     \n",
       "\n",
       "other attached packages:\n",
       "[1] purrr_1.0.2 dplyr_1.1.4 hise_2.16.0\n",
       "\n",
       "loaded via a namespace (and not attached):\n",
       " [1] crayon_1.5.2     vctrs_0.6.5      httr_1.4.7       cli_3.6.2       \n",
       " [5] rlang_1.1.3      stringi_1.8.3    generics_0.1.3   assertthat_0.2.1\n",
       " [9] jsonlite_1.8.8   glue_1.7.0       RCurl_1.98-1.14  plyr_1.8.9      \n",
       "[13] htmltools_0.5.7  IRdisplay_1.1    IRkernel_1.3.2   fansi_1.0.6     \n",
       "[17] evaluate_0.23    tibble_3.2.1     bitops_1.0-7     fastmap_1.1.1   \n",
       "[21] base64enc_0.1-3  lifecycle_1.0.4  stringr_1.5.1    compiler_4.3.2  \n",
       "[25] Rcpp_1.0.12      pkgconfig_2.0.3  pbdZMQ_0.3-10    digest_0.6.34   \n",
       "[29] R6_2.5.1         repr_1.1.6.9000  tidyselect_1.2.0 utf8_1.2.4      \n",
       "[33] curl_5.1.0       pillar_1.9.0     magrittr_2.0.3   withr_3.0.0     \n",
       "[37] uuid_1.2-0       tools_4.3.2     "
      ]
     },
     "metadata": {},
     "output_type": "display_data"
    }
   ],
   "source": [
    "sessionInfo()"
   ]
  },
  {
   "cell_type": "code",
   "execution_count": null,
   "id": "61def613-3746-4fed-b87f-93c19f157e77",
   "metadata": {},
   "outputs": [],
   "source": []
  }
 ],
 "metadata": {
  "kernelspec": {
   "display_name": "R 4",
   "language": "R",
   "name": "ir4"
  },
  "language_info": {
   "codemirror_mode": "r",
   "file_extension": ".r",
   "mimetype": "text/x-r-source",
   "name": "R",
   "pygments_lexer": "r",
   "version": "4.3.2"
  }
 },
 "nbformat": 4,
 "nbformat_minor": 5
}
