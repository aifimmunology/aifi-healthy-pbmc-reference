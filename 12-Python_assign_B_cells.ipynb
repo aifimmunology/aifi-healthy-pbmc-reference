{
 "cells": [
  {
   "cell_type": "code",
   "execution_count": null,
   "id": "2e5e60a5-d3c6-4846-8d44-d8486c159f32",
   "metadata": {},
   "outputs": [],
   "source": []
  }
 ],
 "metadata": {
  "kernelspec": {
   "display_name": "Python 3 (ipykernel)",
   "language": "python",
   "name": "python3"
  },
  "language_info": {
   "codemirror_mode": {
    "name": "ipython",
    "version": 3
   },
   "file_extension": ".py",
   "mimetype": "text/x-python",
   "name": "python",
   "nbconvert_exporter": "python",
   "pygments_lexer": "ipython3",
   "version": "3.10.13"
  }
 },
 "nbformat": 4,
 "nbformat_minor": 5
}
