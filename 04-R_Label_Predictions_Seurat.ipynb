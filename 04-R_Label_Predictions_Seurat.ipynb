{
 "cells": [
  {
   "cell_type": "code",
   "execution_count": 1,
   "id": "84c8862c-7ddd-4ef1-b5fb-27bdd8c948f6",
   "metadata": {
    "tags": []
   },
   "outputs": [],
   "source": [
    "quiet_library <- function(...) { suppressPackageStartupMessages(library(...)) }\n",
    "\n",
    "quiet_library(H5weaver)\n",
    "quiet_library(hise)\n",
    "quiet_library(dplyr)\n",
    "quiet_library(furrr)\n",
    "quiet_library(purrr)\n",
    "quiet_library(Seurat)\n",
    "quiet_library(SeuratObject)"
   ]
  },
  {
   "cell_type": "markdown",
   "id": "31328a06-0d11-4f06-b369-97cb326b610e",
   "metadata": {},
   "source": [
    "## Prepare Azimuth PBMC reference"
   ]
  },
  {
   "cell_type": "markdown",
   "id": "05c93485-4e86-4137-98f3-21b46999a767",
   "metadata": {},
   "source": [
    "To use Seurat to label our cells, we'll utilize the PBMC reference provided by the HubMap Azimuth project. This reference is derived from data in this publication from the Satija lab:\n",
    "\n",
    "Hao, Y. and Hao, S. et al. Integrated analysis of multimodal single-cell data. Cell 184, 3573–3587.e29 (2021)\n",
    "\n",
    "The version of record for this reference dataset is provided in a Zenodo repository at this accession:  \n",
    "https://zenodo.org/records/4546839\n",
    "\n",
    "Additional information is available [on the Azimuth website](https://azimuth.hubmapconsortium.org/references/#Human%20-%20PBMC).\n",
    "\n",
    "We'll download the reference from Zenodo for label transfer:"
   ]
  },
  {
   "cell_type": "code",
   "execution_count": 2,
   "id": "a2237f65-92a1-4167-b6d3-1d2c2feea463",
   "metadata": {},
   "outputs": [],
   "source": [
    "if(!dir.exists(\"reference\")) {\n",
    "    dir.create(\"reference\")\n",
    "}\n",
    "download.file(\n",
    "    \"https://zenodo.org/records/4546839/files/ref.Rds?download=1\",\n",
    "    \"reference/ref.Rds\"\n",
    ")"
   ]
  },
  {
   "cell_type": "code",
   "execution_count": 3,
   "id": "310a3425-2e9c-4d09-92d7-d37aa3133f1c",
   "metadata": {},
   "outputs": [],
   "source": [
    "reference <- readRDS(\"reference/ref.Rds\")"
   ]
  },
  {
   "cell_type": "markdown",
   "id": "352f9dd8-7653-4b8d-82cc-ec7fc32e1b8f",
   "metadata": {},
   "source": [
    "Between Level 2 (L2) and Level 3 (L3) labels provided by the Satija lab, we like to add an additional level that we call L2.5, which separates the Treg Naive and Memory cells based on L3, and assigns a CD8 TEMRA cell label to cells with the L3 labels CD8 TEM_4 and CD8 TEM_5. All other cell types use their L2 assignments."
   ]
  },
  {
   "cell_type": "code",
   "execution_count": 4,
   "id": "414d81e9-23a1-4293-a12d-4557273eeb84",
   "metadata": {
    "tags": []
   },
   "outputs": [],
   "source": [
    "l3 <- as.character(reference@meta.data$celltype.l3)\n",
    "l2 <- as.character(reference@meta.data$celltype.l2)\n",
    "l2.5 <- l2\n",
    "l2.5[l3 == \"Treg Naive\"] <- \"Treg Naive\"\n",
    "l2.5[l3 == \"Treg Memory\"] <- \"Treg Memory\"\n",
    "l2.5[l3 %in% c(\"CD8 TEM_4\", \"CD8 TEM_5\")] <- \"CD8 TEMRA\"\n",
    "\n",
    "reference <- AddMetaData(reference, metadata = l2.5, col.name = \"celltype.l2.5\")"
   ]
  },
  {
   "cell_type": "markdown",
   "id": "5d96208b-30c8-4516-9093-ff0fd724f0c3",
   "metadata": {},
   "source": [
    "## Retreive sample metadata\n",
    "\n",
    "In an earlier step, we assembled and stored sample metadata in HISE. We'll pull this file, and use it to retrieve file for our labeling process."
   ]
  },
  {
   "cell_type": "code",
   "execution_count": 5,
   "id": "41889435-89c3-419d-845b-848514fe977f",
   "metadata": {},
   "outputs": [],
   "source": [
    "sample_meta_uuid <- \"223b4aa9-19fc-41e1-8bea-43682e5ac278\""
   ]
  },
  {
   "cell_type": "code",
   "execution_count": 6,
   "id": "086448e5-5aad-443e-af11-8d7e86a90b8b",
   "metadata": {},
   "outputs": [
    {
     "ename": "ERROR",
     "evalue": "Error in if (thisDesc$file$id != idsExpanded[[fidx]]) {: argument is of length zero\n",
     "output_type": "error",
     "traceback": [
      "Error in if (thisDesc$file$id != idsExpanded[[fidx]]) {: argument is of length zero\nTraceback:\n",
      "1. cacheFiles(list(sample_meta_uuid))"
     ]
    }
   ],
   "source": [
    "res <- cacheFiles(list(sample_meta_uuid))\n",
    "sample_meta_file <- list.files(\n",
    "    paste0(\"cache/\", sample_meta_uuid), \n",
    "    pattern = \".csv\",\n",
    "    full.names = TRUE\n",
    ")"
   ]
  },
  {
   "cell_type": "code",
   "execution_count": null,
   "id": "ec100df3-b875-46b0-95f4-0798c488cd6f",
   "metadata": {},
   "outputs": [],
   "source": [
    "hise_meta <- read.csv(sample_meta_file)"
   ]
  },
  {
   "cell_type": "markdown",
   "id": "7abde79c-a9aa-429f-ab51-e210c885e1e2",
   "metadata": {},
   "source": [
    "## Divide data into chunks for parallel processing\n",
    "\n",
    "For labeling, we'll take files in batches of up to 10 files. We'll label those files, then output the results for each sample in the batch."
   ]
  },
  {
   "cell_type": "code",
   "execution_count": 7,
   "id": "a9bf4fd0-6c9e-4944-8925-36684ace10ae",
   "metadata": {
    "tags": []
   },
   "outputs": [],
   "source": [
    "hise_meta <- hise_meta %>% \n",
    "  arrange(file.batchID)"
   ]
  },
  {
   "cell_type": "code",
   "execution_count": null,
   "id": "2421afd7-2be3-4e9c-8985-1a6f1d6e2554",
   "metadata": {},
   "outputs": [],
   "source": [
    "b <- rep(1:11, each = 10)[1:nrow(hise_meta)]\n",
    "df_chunk_list <- split(hise_meta, b)"
   ]
  },
  {
   "cell_type": "code",
   "execution_count": 9,
   "id": "4c73da3f-ae9c-4b2d-a0b8-f0b20049f90d",
   "metadata": {
    "tags": []
   },
   "outputs": [
    {
     "data": {
      "text/html": [
       "11"
      ],
      "text/latex": [
       "11"
      ],
      "text/markdown": [
       "11"
      ],
      "text/plain": [
       "[1] 11"
      ]
     },
     "metadata": {},
     "output_type": "display_data"
    }
   ],
   "source": [
    "length(df_chunk_list)"
   ]
  },
  {
   "cell_type": "markdown",
   "id": "5408115d-1f36-431d-9556-764a48a41749",
   "metadata": {},
   "source": [
    "## Prepare output directory\n",
    "\n",
    "We'll store results for each sample in `output/Hao_PBMC/`."
   ]
  },
  {
   "cell_type": "code",
   "execution_count": 9,
   "id": "64f66d04-d1c1-428a-8369-62735f79a897",
   "metadata": {},
   "outputs": [],
   "source": [
    "out_dir <- \"output/Hao_PBMC/\"\n",
    "if(!dir.exists(out_dir)) {\n",
    "    dir.create(out_dir, recursive = TRUE)\n",
    "}"
   ]
  },
  {
   "cell_type": "markdown",
   "id": "e892ae10-b5a9-4c87-b5c3-b30236e1133a",
   "metadata": {},
   "source": [
    "## Functions for parallel label transfer of chunks\n",
    "\n",
    "For each chunk, we'll retrieve the data from HISE, perform label transfer and ADT imputation using Seurat, and then store the labels and imputed ADT matrices to allow us to assess cell type identity.\n",
    "\n",
    "The main function to perform these steps is `label_chunk()`, provided below. There are also 4 helper functions that assist in performing these steps for each sample:  \n",
    "`read_so()` Reads the .h5 files stored in HISE as Seurat Objects for analysis  \n",
    "`write_labels()` Writes the labeling results to .csv files for each sample  \n",
    "`get_sample_adt()` subsets the ADT matrix for each sample and returns ADT values per sample  \n",
    "`write_adt()` Writes the imputed ADT matrix values to a .h5 file for later use"
   ]
  },
  {
   "cell_type": "code",
   "execution_count": null,
   "id": "56d31af1-64d3-432b-b129-110c539b69ba",
   "metadata": {},
   "outputs": [],
   "source": [
    "read_so <- function(h5_uuid) {\n",
    "    res <- cacheFiles(h5_uuid)\n",
    "    h5_file <- list.files(\n",
    "        paste0(\"cache\", h5_uuid), \n",
    "        pattern = \".h5\", \n",
    "        full.names = TRUE\n",
    "    )\n",
    "    \n",
    "    counts <- read_h5_dgCMatrix(h5_file)\n",
    "    rownames(counts) <- make.unique(rownames(counts))\n",
    "    meta <- read_h5_cell_meta(h5_file)\n",
    "    rownames(meta) <- meta$barcodes\n",
    "\n",
    "    so <- CreateSeuratObject(\n",
    "      counts,\n",
    "      meta.data = meta,\n",
    "      assay = \"RNA\")\n",
    "\n",
    "    rm_command <- paste0(\"rm -r cache/\", h5_uuid)\n",
    "    system(rm_command)\n",
    "\n",
    "    return(so)\n",
    "}\n",
    "\n",
    "write_labels <- function(sample_labels, sample_id) {\n",
    "    out_file <- paste0(\"output/Hao_PBMC/\", sample_id, \"_Hao_PBMC.csv\")\n",
    "    write.csv(\n",
    "        sample_labels,\n",
    "        out_file,\n",
    "        row.names = FALSE,\n",
    "        quote = FALSE\n",
    "    )\n",
    "}\n",
    "\n",
    "get_sample_adt <- function(sample_meta, adt_data) {\n",
    "    adt_data[,sample_meta$barcodes]\n",
    "}\n",
    "\n",
    "write_adt <- function(sample_adt, sample_id) {\n",
    "    out_file <- paste0(\"output/Hao_PBMC/\", sample_id, \"_ADT.h5\")\n",
    "    list_mat <- list(\n",
    "        i = mat@i,\n",
    "        p = mat@p,\n",
    "        x = mat@x,\n",
    "        Dim = dim(mat),\n",
    "        rownames = rownames(mat),\n",
    "        colnames = colnames(mat)\n",
    "    )\n",
    "\n",
    "    h5createFile(out_file)\n",
    "    h5write(list_mat, out_file, \"mat\")\n",
    "}\n",
    "\n",
    "label_chunk <- function(meta_data){\n",
    "    \n",
    "    so_list <- map(meta_data$file.id, read_so)\n",
    "    combined <- Reduce(merge, so_list)\n",
    "    rm(so_list)\n",
    "    \n",
    "    combined <- SCTransform(\n",
    "        combined,\n",
    "        method = \"glmGamPoi\", \n",
    "        verbose = FALSE\n",
    "    )\n",
    "    \n",
    "    #find anchors\n",
    "    anchors <- FindTransferAnchors(\n",
    "      reference = reference,\n",
    "      query = combined,\n",
    "      normalization.method = \"SCT\",\n",
    "      reference.reduction = \"spca\",\n",
    "      dims = 1:50\n",
    "    )  \n",
    "        \n",
    "    #perform projection to get labels\n",
    "    combined <- MapQuery(\n",
    "      anchorset = anchors,\n",
    "      query = combined,\n",
    "      reference = reference,\n",
    "      refdata = list(\n",
    "        celltype.l1 = \"celltype.l1\",\n",
    "        celltype.l2 = \"celltype.l2\",\n",
    "        celltype.l3 = \"celltype.l3\",\n",
    "        celltype.l2.5 = \"celltype.l2.5\",\n",
    "        predicted_ADT = \"ADT\"\n",
    "      ),\n",
    "      reference.reduction = \"spca\", \n",
    "      reduction.model = \"wnn.umap\"\n",
    "    )\n",
    "    \n",
    "    sample_meta_list <- split(combined@meta.data, combined@meta.data$pbmc_sample_id)\n",
    "\n",
    "    walk2(\n",
    "        sample_meta_list, names(sample_meta_list),\n",
    "        write_labels\n",
    "    )\n",
    "    \n",
    "    sample_adt_list <- map(\n",
    "        sample_meta_list, \n",
    "        get_sample_adt, \n",
    "        adt_data = combined[[\"ADT\"]]@)\n",
    "\n",
    "    walk2(\n",
    "        sample_adt_list, names(sample_meta_list),\n",
    "        write_adt\n",
    "    )\n",
    "    \n",
    "    rm(combined)\n",
    "}"
   ]
  },
  {
   "cell_type": "markdown",
   "id": "3c3bf721-40f2-42db-9b6d-82ed4dcefbaf",
   "metadata": {},
   "source": [
    "## Apply label transfer to all chunks\n",
    "\n",
    "We'll use `mclapply()` to perform our label transfer steps in parallel for multiple chunks. \n",
    "\n",
    "Because of the extremely memory-intensive use of `SCTransform()`, we're limited in the number of chunks that we can process simultaneously."
   ]
  },
  {
   "cell_type": "code",
   "execution_count": null,
   "id": "98dd7302-49e8-4efc-b79c-480df9304770",
   "metadata": {
    "tags": []
   },
   "outputs": [],
   "source": [
    "mclapply(\n",
    "    df_chunk_list,\n",
    "    label_chunk,\n",
    "    mc.cores = 3\n",
    ")"
   ]
  },
  {
   "cell_type": "code",
   "execution_count": null,
   "id": "9ebde183-49f4-44a4-befe-fe59a4e53ad3",
   "metadata": {},
   "outputs": [],
   "source": []
  }
 ],
 "metadata": {
  "kernelspec": {
   "display_name": "R 4",
   "language": "R",
   "name": "ir4"
  },
  "language_info": {
   "codemirror_mode": "r",
   "file_extension": ".r",
   "mimetype": "text/x-r-source",
   "name": "R",
   "pygments_lexer": "r",
   "version": "4.3.2"
  }
 },
 "nbformat": 4,
 "nbformat_minor": 5
}
