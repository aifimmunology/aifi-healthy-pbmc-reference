{
 "cells": [
  {
   "cell_type": "code",
   "execution_count": 1,
   "id": "84c8862c-7ddd-4ef1-b5fb-27bdd8c948f6",
   "metadata": {
    "tags": []
   },
   "outputs": [
    {
     "name": "stderr",
     "output_type": "stream",
     "text": [
      "------------------------------------------------------------------------------\n",
      "\n",
      "You have loaded plyr after dplyr - this is likely to cause problems.\n",
      "If you need functions from both plyr and dplyr, please load plyr first, then dplyr:\n",
      "library(plyr); library(dplyr)\n",
      "\n",
      "------------------------------------------------------------------------------\n",
      "\n",
      "\n",
      "Attaching package: ‘plyr’\n",
      "\n",
      "\n",
      "The following objects are masked from ‘package:dplyr’:\n",
      "\n",
      "    arrange, count, desc, failwith, id, mutate, rename, summarise,\n",
      "    summarize\n",
      "\n",
      "\n",
      "\n",
      "Attaching package: ‘purrr’\n",
      "\n",
      "\n",
      "The following object is masked from ‘package:plyr’:\n",
      "\n",
      "    compact\n",
      "\n",
      "\n"
     ]
    }
   ],
   "source": [
    "suppressPackageStartupMessages(library(readxl))\n",
    "suppressPackageStartupMessages(library(dplyr))\n",
    "suppressPackageStartupMessages(library(tidyr))\n",
    "suppressPackageStartupMessages(library(tibble))\n",
    "suppressPackageStartupMessages(library(ggplot2))\n",
    "suppressPackageStartupMessages(library(patchwork))\n",
    "suppressPackageStartupMessages(library(Seurat))\n",
    "suppressPackageStartupMessages(library(SeuratDisk))\n",
    "suppressPackageStartupMessages(library(stringr))\n",
    "library(hise)\n",
    "library(plyr)\n",
    "library(purrr)\n",
    "suppressPackageStartupMessages(library(H5weaver))\n",
    "library(parallel)"
   ]
  },
  {
   "cell_type": "code",
   "execution_count": 2,
   "id": "414d81e9-23a1-4293-a12d-4557273eeb84",
   "metadata": {
    "collapsed": true,
    "jupyter": {
     "outputs_hidden": true
    },
    "tags": []
   },
   "outputs": [
    {
     "name": "stderr",
     "output_type": "stream",
     "text": [
      "Loading required package: SeuratObject\n",
      "\n",
      "Loading required package: sp\n",
      "\n",
      "\n",
      "Attaching package: ‘SeuratObject’\n",
      "\n",
      "\n",
      "The following object is masked from ‘package:base’:\n",
      "\n",
      "    intersect\n",
      "\n",
      "\n",
      "Loading required package: Seurat\n",
      "\n"
     ]
    }
   ],
   "source": [
    "reference <- readRDS(\"/home//jupyter/pbmc_multimodal_2023.rds\")\n",
    "#add level 2.5 labels\n",
    "l3 <- as.character(reference[[]]$celltype.l3)\n",
    "l2 <- as.character(reference[[]]$celltype.l2)\n",
    "l2.5 <- l2\n",
    "l2.5[l3 == \"Treg Naive\"] <- \"Treg Naive\"\n",
    "l2.5[l3 == \"Treg Memory\"] <- \"Treg Memory\"\n",
    "l2.5[l3 %in% c(\"CD8 TEM_4\", \"CD8 TEM_5\")] <- \"CD8 TEMRA\"\n",
    "reference <- AddMetaData(reference, metadata = l2.5, col.name = \"celltype.l2.5\")"
   ]
  },
  {
   "cell_type": "raw",
   "id": "bd0cdfad-9729-4aa0-9008-37a38ef6456d",
   "metadata": {
    "tags": []
   },
   "source": [
    "sort(rownames(reference@assays$ADT@data))"
   ]
  },
  {
   "cell_type": "code",
   "execution_count": 4,
   "id": "9f820866-9c48-49b4-8be5-8bbefa4ad4eb",
   "metadata": {
    "tags": []
   },
   "outputs": [],
   "source": [
    "hise_meta<-read.csv(\"hise_meta_data_2023-11-19.csv\")"
   ]
  },
  {
   "cell_type": "code",
   "execution_count": 5,
   "id": "b402a4c3-6fd2-485a-acb8-3c21697d4a26",
   "metadata": {
    "tags": []
   },
   "outputs": [],
   "source": [
    "get_last_pattern <- function(x) {\n",
    "  split_vector <- strsplit(x, \"/\")[[1]]\n",
    "  last_pattern <- tail(split_vector, 1)\n",
    "  return(last_pattern)\n",
    "}\n",
    "last_patterns <- unlist(lapply(hise_meta$file.name, get_last_pattern))\n"
   ]
  },
  {
   "cell_type": "code",
   "execution_count": 6,
   "id": "67e55b00-f47a-4080-8186-b7ccc0933d05",
   "metadata": {
    "tags": []
   },
   "outputs": [],
   "source": [
    "#hise_meta$file.path<-paste0(\"cache/\",hise_meta$file.id,\"/\",last_patterns)"
   ]
  },
  {
   "cell_type": "code",
   "execution_count": 7,
   "id": "a9bf4fd0-6c9e-4944-8925-36684ace10ae",
   "metadata": {
    "tags": []
   },
   "outputs": [],
   "source": [
    "hise_meta <-hise_meta %>% arrange(file.batchID)"
   ]
  },
  {
   "cell_type": "code",
   "execution_count": 8,
   "id": "ab9dc35e-5f27-45c1-922d-d600f3800bfc",
   "metadata": {
    "tags": []
   },
   "outputs": [],
   "source": [
    "b <- seq(10, dim(hise_meta)[1]+8, 10)\n",
    "df_chunk_list<-lapply(seq_along(b), function(i) hise_meta[(b-9)[i]:b[i], ])"
   ]
  },
  {
   "cell_type": "code",
   "execution_count": 9,
   "id": "4c73da3f-ae9c-4b2d-a0b8-f0b20049f90d",
   "metadata": {
    "tags": []
   },
   "outputs": [
    {
     "data": {
      "text/html": [
       "11"
      ],
      "text/latex": [
       "11"
      ],
      "text/markdown": [
       "11"
      ],
      "text/plain": [
       "[1] 11"
      ]
     },
     "metadata": {},
     "output_type": "display_data"
    }
   ],
   "source": [
    "length(df_chunk_list)"
   ]
  },
  {
   "cell_type": "code",
   "execution_count": null,
   "id": "56d31af1-64d3-432b-b129-110c539b69ba",
   "metadata": {},
   "outputs": [],
   "source": [
    "read_so <- function(i){\n",
    "    sce <- read_h5_sce(i)\n",
    "    counts <- assay(sce, \"counts\")\n",
    "    rownames(counts)<- make.names(rownames(counts), unique=TRUE)\n",
    "    so <- CreateSeuratObject(\n",
    "      counts,\n",
    "      meta.data = data.frame(sce@colData),\n",
    "      assay = \"RNA\")\n",
    "}\n",
    "\n",
    "write_labels <- function(i){\n",
    "    labels <- combined[[]] %>% \n",
    "      filter(pbmc_sample_id==i)\n",
    "    \n",
    "    write.csv(labels,paste0(\"Labels_20231119/\",i,\".csv\"))\n",
    "        \n",
    "    combined_sub<-subset(combined,subset=pbmc_sample_id==i)\n",
    "    mat<-combined_sub@assays$predicted_ADT@data\n",
    "    list_mat <- list(i = mat@i, p = mat@p, x = mat@x, Dim = dim(mat),rownames = rownames(mat),\n",
    "      colnames = colnames(mat))\n",
    "    \n",
    "    h5createFile(paste0(\"Labels_20231119/\",i,\"_ADT.h5\"))\n",
    "    \n",
    "    h5write(list_mat, paste0(\"Labels_20231119/\",i,\"_ADT.h5\"), \"mat\")\n",
    "}\n",
    "\n",
    "label_chunk <- function(x){\n",
    "    so_list <- lapply(x$file.path[!is.na(x$file.path)],\n",
    "                      read_so)\n",
    "    \n",
    "    combined <- Reduce(merge, so_list)\n",
    "    rm(so_list)\n",
    "    combined <- SCTransform(combined,method = \"glmGamPoi\", verbose = FALSE)\n",
    "    \n",
    "    #find anchors\n",
    "    anchors <- FindTransferAnchors(\n",
    "      reference = reference,\n",
    "      query = combined,\n",
    "      normalization.method = \"SCT\",\n",
    "      reference.reduction = \"spca\",\n",
    "      dims = 1:50\n",
    "    )  \n",
    "        \n",
    "    #perform projection to get labels\n",
    "    combined <- MapQuery(\n",
    "      anchorset = anchors,\n",
    "      query = combined,\n",
    "      reference = reference,\n",
    "      refdata = list(\n",
    "        celltype.l1 = \"celltype.l1\",\n",
    "        celltype.l2 = \"celltype.l2\",\n",
    "          celltype.l3 = \"celltype.l3\",\n",
    "          celltype.l2.5 = \"celltype.l2.5\",\n",
    "        predicted_ADT = \"ADT\"\n",
    "      ),\n",
    "      reference.reduction = \"spca\", \n",
    "      reduction.model = \"wnn.umap\"\n",
    "    )\n",
    "    \n",
    "    mclapply(unique(combined[[]]$pbmc_sample_id),\n",
    "             write_labels,\n",
    "             mc.cores=n_distinct(combined[[]]$pbmc_sample_id))\n",
    "        \n",
    "    rm(combined)\n",
    "}"
   ]
  },
  {
   "cell_type": "code",
   "execution_count": null,
   "id": "98dd7302-49e8-4efc-b79c-480df9304770",
   "metadata": {
    "tags": []
   },
   "outputs": [],
   "source": [
    "mclapply(df_chunk_list,\n",
    "         label_chunk,\n",
    "         mc.cores=3)"
   ]
  },
  {
   "cell_type": "code",
   "execution_count": null,
   "id": "9ebde183-49f4-44a4-befe-fe59a4e53ad3",
   "metadata": {},
   "outputs": [],
   "source": []
  }
 ],
 "metadata": {
  "kernelspec": {
   "display_name": "R 4",
   "language": "R",
   "name": "ir4"
  },
  "language_info": {
   "codemirror_mode": "r",
   "file_extension": ".r",
   "mimetype": "text/x-r-source",
   "name": "R",
   "pygments_lexer": "r",
   "version": "4.3.2"
  }
 },
 "nbformat": 4,
 "nbformat_minor": 5
}
