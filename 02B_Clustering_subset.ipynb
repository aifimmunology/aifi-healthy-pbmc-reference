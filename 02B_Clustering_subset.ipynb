{
 "cells": [
  {
   "cell_type": "code",
   "execution_count": 12,
   "id": "7f13ae29-b2b3-4363-926d-e16188819e13",
   "metadata": {
    "tags": []
   },
   "outputs": [],
   "source": [
    "import celltypist\n",
    "from celltypist import models\n",
    "import scanpy as sc\n",
    "import pandas as pd \n",
    "import numpy as np\n",
    "import anndata\n",
    "import re\n",
    "import h5py\n",
    "import scipy.sparse as scs\n",
    "import concurrent.futures\n",
    "import scanpy.external as sce\n",
    "import matplotlib.pyplot as plt\n",
    "from adjustText import adjust_text\n"
   ]
  },
  {
   "cell_type": "code",
   "execution_count": 13,
   "id": "88722e30-9671-4d84-9f72-8bbc2b864538",
   "metadata": {
    "tags": []
   },
   "outputs": [],
   "source": [
    "def read_mat(h5_con):\n",
    "    mat = scs.csc_matrix(\n",
    "        (h5_con['matrix']['data'][:], # Count values\n",
    "         h5_con['matrix']['indices'][:], # Row indices\n",
    "         h5_con['matrix']['indptr'][:]), # Pointers for column positions\n",
    "        shape = tuple(h5_con['matrix']['shape'][:]) # Matrix dimensions\n",
    "    )\n",
    "    return mat\n",
    "\n",
    "# define a function to obeservation (i.e. metadata)\n",
    "\n",
    "def read_obs(h5con):\n",
    "    bc = h5con['matrix']['barcodes'][:]\n",
    "    bc = [x.decode('UTF-8') for x in bc]\n",
    "\n",
    "    # Initialized the DataFrame with cell barcodes\n",
    "    obs_df = pd.DataFrame({ 'barcodes' : bc })\n",
    "\n",
    "    # Get the list of available metadata columns\n",
    "    obs_columns = h5con['matrix']['observations'].keys()\n",
    "\n",
    "    # For each column\n",
    "    for col in obs_columns:\n",
    "        # Read the values\n",
    "        values = h5con['matrix']['observations'][col][:]\n",
    "        # Check for byte storage\n",
    "        if(isinstance(values[0], (bytes, bytearray))):\n",
    "            # Decode byte strings\n",
    "            values = [x.decode('UTF-8') for x in values]\n",
    "        # Add column to the DataFrame\n",
    "        obs_df[col] = values\n",
    "    \n",
    "    return obs_df\n",
    "# define a function to construct anndata object from a h5 file\n",
    "def read_h5_anndata(h5_file):\n",
    "    h5_con = h5py.File(h5_file, mode = 'r')\n",
    "    # extract the expression matrix\n",
    "    mat = read_mat(h5_con)\n",
    "    # extract gene names\n",
    "    genes = h5_con['matrix']['features']['name'][:]\n",
    "    genes = [x.decode('UTF-8') for x in genes]\n",
    "    # extract metadata\n",
    "    obs_df = read_obs(h5_con)\n",
    "    # construct anndata\n",
    "    adata = anndata.AnnData(mat.T,\n",
    "                             obs = obs_df)\n",
    "    # make sure the gene names aligned\n",
    "    adata.var_names = genes\n",
    "\n",
    "    adata.var_names_make_unique()\n",
    "    return adata\n",
    "def get_last_pattern(inputstr):\n",
    "    pattern = r\"[^/]+(?=$)\"\n",
    "    match = re.search(pattern, inputstr)\n",
    "    if match:\n",
    "        return match.group(0)\n",
    "    else:\n",
    "        return \"\"\n",
    "def random_split_anndata(anndata, num_splits):\n",
    "    total_cells = anndata.shape[0]\n",
    "    random_indices = np.random.permutation(total_cells)\n",
    "    split_size = total_cells // num_splits\n",
    "    anndata_list = []\n",
    "    \n",
    "    for i in range(num_splits):\n",
    "        start_idx = i * split_size\n",
    "        end_idx = (i + 1) * split_size if i != num_splits - 1 else total_cells\n",
    "        \n",
    "        # Extract the subset of cells for this split\n",
    "        subset_indices = random_indices[start_idx:end_idx]\n",
    "        \n",
    "        # Create a new AnnData object for this subset\n",
    "        anndata_subset = anndata[subset_indices, :]\n",
    "        \n",
    "        # Append to the list\n",
    "        anndata_list.append(anndata_subset)\n",
    "        \n",
    "    return anndata_list\n",
    "\n",
    "def gen_mpl_labels(\n",
    "    adata, groupby, exclude=(), ax=None, adjust_kwargs=None, text_kwargs=None\n",
    "):\n",
    "    if adjust_kwargs is None:\n",
    "        adjust_kwargs = {\"text_from_points\": False}\n",
    "    if text_kwargs is None:\n",
    "        text_kwargs = {}\n",
    "\n",
    "    medians = {}\n",
    "\n",
    "    for g, g_idx in adata.obs.groupby(groupby).groups.items():\n",
    "        if g in exclude:\n",
    "            continue\n",
    "        medians[g] = np.median(adata[g_idx].obsm[\"X_umap\"], axis=0)\n",
    "\n",
    "    if ax is None:\n",
    "        texts = [\n",
    "            plt.text(x=x, y=y, s=k, **text_kwargs) for k, (x, y) in medians.items()\n",
    "        ]\n",
    "    else:\n",
    "        texts = [ax.text(x=x, y=y, s=k, **text_kwargs) for k, (x, y) in medians.items()]\n",
    "\n",
    "    adjust_text(texts, **adjust_kwargs)"
   ]
  },
  {
   "cell_type": "code",
   "execution_count": 14,
   "id": "445efe0d-f04b-49dd-bcb2-b61272ae6eef",
   "metadata": {
    "tags": []
   },
   "outputs": [],
   "source": [
    "\n",
    "def Mapping_adata(adata,adata_ref,var_names):\n",
    "    adata.raw=adata\n",
    "    adata = adata[:, var_names]\n",
    "    #adata_ref = adata_ref[:, var_names]\n",
    "    sc.pp.normalize_total(adata, target_sum=1e4)\n",
    "    sc.pp.log1p(adata)\n",
    "    sc.pp.scale(adata, max_value=10)\n",
    "    sc.tl.ingest(adata, adata_ref, obs='leiden')\n",
    "    return (adata)"
   ]
  },
  {
   "cell_type": "code",
   "execution_count": 15,
   "id": "a63b20f6-2629-4212-adef-cb320280d72f",
   "metadata": {
    "tags": []
   },
   "outputs": [],
   "source": [
    "meta_data=pd.read_csv(\"/home//jupyter/hise_meta_data_2023-10-29.csv\")"
   ]
  },
  {
   "cell_type": "code",
   "execution_count": 16,
   "id": "b872dc2d-ffff-4e12-b3bb-fc0e9429a619",
   "metadata": {
    "tags": []
   },
   "outputs": [],
   "source": [
    "adata=sc.read_h5ad('adata_raw.h5ad')"
   ]
  },
  {
   "cell_type": "code",
   "execution_count": 17,
   "id": "cdfcd016-dfcb-45bc-aae5-7d7ab4c8443b",
   "metadata": {
    "tags": []
   },
   "outputs": [],
   "source": [
    "matching_strings = []\n",
    "\n",
    "# Iterate through the list and find matching strings\n",
    "for string in  list(meta_data['file.name.downloaded']):\n",
    "    match = re.search(r'PB\\d{5}-\\d+', string)\n",
    "    if match:\n",
    "        matching_strings.append(match.group())\n"
   ]
  },
  {
   "cell_type": "code",
   "execution_count": 18,
   "id": "a70cb45d-e50d-4f2d-b655-55d54ab34157",
   "metadata": {
    "tags": []
   },
   "outputs": [],
   "source": [
    "meta_data['pbmc_sample_id']=matching_strings"
   ]
  },
  {
   "cell_type": "code",
   "execution_count": 19,
   "id": "6bd579de-652f-493b-bf79-9348260f1509",
   "metadata": {
    "tags": []
   },
   "outputs": [],
   "source": [
    "CMV=pd.read_csv('CMV_20220718_UPBR.csv')\n",
    "BMI=pd.read_csv('BR-BR-Clinical-BMI.csv')\n",
    "CMV=CMV.merge(BMI, on='subject.subjectGuid', how='left')\n",
    "meta_data=meta_data.merge(CMV, on='subject.subjectGuid', how='left')\n",
    "\n",
    "df=adata.obs.merge(meta_data[['pbmc_sample_id', 'subject.biologicalSex',\n",
    "        'subject.ethnicity', 'subject.partnerCode',\n",
    "       'subject.race', 'subject.subjectGuid', 'cohort.cohortGuid', 'sample.visitName', \n",
    "           'sample.visitDetails', 'subject.birthYear','CMV.IgG.Serology.Result.Interpretation', 'BMI']], on='pbmc_sample_id', how='left')"
   ]
  },
  {
   "cell_type": "code",
   "execution_count": 20,
   "id": "8dc920ac-e135-4d3c-aab5-83aa2f89775b",
   "metadata": {
    "tags": []
   },
   "outputs": [],
   "source": [
    "col_list=['subject.biologicalSex','subject.ethnicity', 'subject.partnerCode',\n",
    "          'subject.race', 'subject.subjectGuid', 'cohort.cohortGuid', 'sample.visitName', \n",
    "          'sample.visitDetails', 'subject.birthYear','CMV.IgG.Serology.Result.Interpretation', \n",
    "          'BMI']"
   ]
  },
  {
   "cell_type": "code",
   "execution_count": 21,
   "id": "25a5142d-4eb2-477f-974c-fd53e1e8c79f",
   "metadata": {
    "tags": []
   },
   "outputs": [],
   "source": [
    "def process_sample(sample_id):\n",
    "    seurat_labels = pd.read_csv(f'Labels_20231030/{sample_id}.csv')\n",
    "    seurat_labels = seurat_labels[['barcodes', 'predicted.celltype.l1.score', 'predicted.celltype.l1',\n",
    "                                   'predicted.celltype.l2.score', 'predicted.celltype.l2',\n",
    "                                   'predicted.celltype.l3.score', 'predicted.celltype.l3',\n",
    "                                   'predicted.celltype.l2.5.score', 'predicted.celltype.l2.5']]\n",
    "    \n",
    "    celltypeist_labels = pd.read_csv(f'Labels_Celltypist/{sample_id}_Low.csv')\n",
    "    celltypeist_labels = celltypeist_labels[['barcodes', 'predicted_labels', 'majority_voting']]\n",
    "    celltypeist_labels.columns = ['barcodes', 'predicted_labels_celltypist', 'majority_voting_celltypist']\n",
    "    \n",
    "    merged_df = pd.merge(seurat_labels, celltypeist_labels, on='barcodes', how='left')\n",
    "    \n",
    "    return merged_df"
   ]
  },
  {
   "cell_type": "code",
   "execution_count": 22,
   "id": "accb8ccb-209d-46dc-b46a-d26e1b8a6e27",
   "metadata": {
    "tags": []
   },
   "outputs": [],
   "source": [
    "from concurrent.futures import ThreadPoolExecutor\n",
    "\n",
    "\n",
    "dfs = []  # To store the resultant dataframes\n",
    "with ThreadPoolExecutor(max_workers=60) as executor:\n",
    "    dfs = list(executor.map(process_sample, meta_data['pbmc_sample_id']))\n",
    "\n",
    "# Combining all dataframes in the list `dfs`\n",
    "final_df = pd.concat(dfs, ignore_index=True)"
   ]
  },
  {
   "cell_type": "code",
   "execution_count": 23,
   "id": "d516b6fa-0320-46a9-9e4e-ade8fbd0ee8c",
   "metadata": {
    "tags": []
   },
   "outputs": [],
   "source": [
    "df=df.merge(final_df, on='barcodes', how='left')"
   ]
  },
  {
   "cell_type": "code",
   "execution_count": 24,
   "id": "5b512cb3-5bab-4742-96b6-468775fba57b",
   "metadata": {
    "tags": []
   },
   "outputs": [],
   "source": [
    "col_list=['subject.biologicalSex','subject.ethnicity', 'subject.partnerCode',\n",
    "          'subject.race', 'subject.subjectGuid', 'cohort.cohortGuid', 'sample.visitName', \n",
    "          'sample.visitDetails', 'subject.birthYear','CMV.IgG.Serology.Result.Interpretation', 'BMI', \n",
    "          'predicted.celltype.l1.score', 'predicted.celltype.l1',\n",
    "           'predicted.celltype.l2.score', 'predicted.celltype.l2',\n",
    "           'predicted.celltype.l3.score', 'predicted.celltype.l3',\n",
    "           'predicted.celltype.l2.5.score', 'predicted.celltype.l2.5',\n",
    "         'predicted_labels_celltypist', 'majority_voting_celltypist']"
   ]
  },
  {
   "cell_type": "code",
   "execution_count": 25,
   "id": "2784f301-76a5-42e8-8ef4-feb0813879ed",
   "metadata": {
    "tags": []
   },
   "outputs": [],
   "source": [
    "for i in col_list:\n",
    "    adata.obs[i]=list(df[i])"
   ]
  },
  {
   "cell_type": "code",
   "execution_count": 26,
   "id": "a96ef9ee-3b97-4e40-8add-c86f1b04a1f2",
   "metadata": {
    "tags": []
   },
   "outputs": [],
   "source": [
    "adata.var[\"mito\"] = adata.var_names.str.startswith(\"MT-\")\n",
    "sc.pp.calculate_qc_metrics(adata, qc_vars=[\"mito\"], inplace=True)"
   ]
  },
  {
   "cell_type": "code",
   "execution_count": 27,
   "id": "7a41d23d-0162-48f8-bd77-0d03665cbf0b",
   "metadata": {
    "tags": []
   },
   "outputs": [
    {
     "name": "stderr",
     "output_type": "stream",
     "text": [
      "... storing 'subject.biologicalSex' as categorical\n",
      "... storing 'subject.ethnicity' as categorical\n",
      "... storing 'subject.partnerCode' as categorical\n",
      "... storing 'subject.race' as categorical\n",
      "... storing 'subject.subjectGuid' as categorical\n",
      "... storing 'cohort.cohortGuid' as categorical\n",
      "... storing 'sample.visitName' as categorical\n",
      "... storing 'sample.visitDetails' as categorical\n",
      "... storing 'CMV.IgG.Serology.Result.Interpretation' as categorical\n",
      "... storing 'BMI' as categorical\n",
      "... storing 'predicted.celltype.l1' as categorical\n",
      "... storing 'predicted.celltype.l2' as categorical\n",
      "... storing 'predicted.celltype.l3' as categorical\n",
      "... storing 'predicted.celltype.l2.5' as categorical\n",
      "... storing 'predicted_labels_celltypist' as categorical\n",
      "... storing 'majority_voting_celltypist' as categorical\n"
     ]
    },
    {
     "data": {
      "image/png": "[encoded data removed]",
      "text/plain": [
       "<Figure size 1500x500 with 3 Axes>"
      ]
     },
     "metadata": {},
     "output_type": "display_data"
    }
   ],
   "source": [
    "sc.pl.violin(adata, ['n_genes_by_counts', 'total_counts', 'pct_counts_mito'],multi_panel=True)"
   ]
  },
  {
   "cell_type": "code",
   "execution_count": 28,
   "id": "a05b6454-abfe-496c-89e4-5aa543ea0a3d",
   "metadata": {
    "tags": []
   },
   "outputs": [],
   "source": [
    "adata=adata[(adata.obs[\"pct_counts_mito\"] <10) & (adata.obs[\"n_genes\"] <5000) &(adata.obs[\"n_genes\"] >200) ]\n",
    "#adata=adata[(adata.obs[\"predicted.celltype.l1.score\"] >0.5)& (adata.obs[\"predicted.celltype.l2.score\"] >0.5)& (adata.obs[\"predicted.celltype.l2.5.score\"] >0.5) ]"
   ]
  },
  {
   "cell_type": "code",
   "execution_count": null,
   "id": "dfc68069-90c7-4eb6-95f9-219b454d0436",
   "metadata": {},
   "outputs": [],
   "source": []
  },
  {
   "cell_type": "code",
   "execution_count": 29,
   "id": "03856332-7995-41b8-acd5-f8a483b3c6ea",
   "metadata": {
    "tags": []
   },
   "outputs": [],
   "source": [
    "adata_list = random_split_anndata(adata, num_splits=4)"
   ]
  },
  {
   "cell_type": "code",
   "execution_count": 30,
   "id": "6e0a3927-a07d-4e1f-82e0-9b7a29ac4e77",
   "metadata": {
    "tags": []
   },
   "outputs": [],
   "source": [
    "for i in range(len(adata_list)):\n",
    "    adata_list[i].write_h5ad('temp_02b/adata'+str(i)+'.h5ad')"
   ]
  },
  {
   "cell_type": "code",
   "execution_count": 31,
   "id": "ad08f695-fe17-4a9e-8e68-719fec1bd307",
   "metadata": {
    "tags": []
   },
   "outputs": [],
   "source": [
    "import os"
   ]
  },
  {
   "cell_type": "code",
   "execution_count": 35,
   "id": "cbf77077-6e35-42a3-a89f-0cb296c30931",
   "metadata": {
    "tags": []
   },
   "outputs": [],
   "source": [
    "dir_list = os.listdir('temp_02b/')\n",
    "dir_list.sort()"
   ]
  },
  {
   "cell_type": "code",
   "execution_count": 36,
   "id": "89d07011-3dfb-42b9-ac4d-c0ab6e81fea7",
   "metadata": {
    "tags": []
   },
   "outputs": [
    {
     "data": {
      "text/plain": [
       "['.ipynb_checkpoints',\n",
       " 'adata0.h5ad',\n",
       " 'adata1.h5ad',\n",
       " 'adata2.h5ad',\n",
       " 'adata3.h5ad']"
      ]
     },
     "execution_count": 36,
     "metadata": {},
     "output_type": "execute_result"
    }
   ],
   "source": [
    "dir_list"
   ]
  },
  {
   "cell_type": "code",
   "execution_count": 37,
   "id": "bf3ba045-e5f6-4445-8e65-e67ad3cb56cd",
   "metadata": {
    "tags": []
   },
   "outputs": [],
   "source": [
    "adata_ref=sc.read_h5ad(\"temp_02b/\"+dir_list[1])"
   ]
  },
  {
   "cell_type": "code",
   "execution_count": null,
   "id": "d54ddc50-e9a8-44fc-b365-6cda34e00aab",
   "metadata": {
    "tags": []
   },
   "outputs": [],
   "source": [
    "adata_ref.raw=adata_ref\n",
    "sc.pp.normalize_total(adata_ref, target_sum=1e4)\n",
    "sc.pp.log1p(adata_ref)\n",
    "sc.pp.highly_variable_genes(adata_ref, min_mean=0.0125, max_mean=3, min_disp=0.5)\n",
    "adata_ref = adata_ref[:,adata_ref.var_names[adata_ref.var['highly_variable']]]\n",
    "sc.pp.scale(adata_ref, max_value=10)\n",
    "sc.pp.pca(adata_ref)\n",
    "sc.pp.neighbors(adata_ref,n_neighbors=50, n_pcs=30)\n",
    "sc.tl.umap(adata_ref)\n",
    "sc.tl.leiden(adata_ref,resolution=1.2)"
   ]
  },
  {
   "cell_type": "code",
   "execution_count": null,
   "id": "e71a987b-056c-48bf-95a2-3d3a066555eb",
   "metadata": {
    "tags": []
   },
   "outputs": [],
   "source": [
    "#adata_ref=adata_ref.raw.to_adata()\n",
    "#adata_ref.write_h5ad('02B_Processed_h5ad/adata0.h5ad')"
   ]
  },
  {
   "cell_type": "code",
   "execution_count": 4,
   "id": "b57787fe-cb22-4131-8808-24501d3e16ca",
   "metadata": {
    "tags": []
   },
   "outputs": [],
   "source": [
    "#adata_ref=sc.read_h5ad('02B_Processed_h5ad/adata0.h5ad')"
   ]
  },
  {
   "cell_type": "code",
   "execution_count": null,
   "id": "05c3fba3-fb21-462a-b120-c2aeb41bffb0",
   "metadata": {
    "tags": []
   },
   "outputs": [],
   "source": [
    "for i in range(2,5):\n",
    "    adata_Q=sc.read_h5ad(\"temp_02b/\"+dir_list[i])\n",
    "    adata_processed=Mapping_adata(adata_Q, adata_ref, adata_ref.var_names[adata_ref.var['highly_variable']])\n",
    "    adata_processed=adata_processed.raw.to_adata()\n",
    "    adata_processed.write_h5ad('02B_Processed_h5ad/adata'+str(i)+'.h5ad')"
   ]
  },
  {
   "cell_type": "code",
   "execution_count": null,
   "id": "8e2c5bd2-22bb-40e8-87f1-79dd015068a4",
   "metadata": {
    "tags": []
   },
   "outputs": [],
   "source": [
    "dir_list = os.listdir('02B_Processed_h5ad/')\n",
    "dir_list"
   ]
  },
  {
   "cell_type": "code",
   "execution_count": null,
   "id": "d30e15c4-616c-43a4-8ea2-90ae92ea5e12",
   "metadata": {
    "tags": []
   },
   "outputs": [],
   "source": [
    "from concurrent.futures import ThreadPoolExecutor\n",
    "import scanpy as sc\n",
    "\n",
    "def read_h5ad_file(file_name):\n",
    "    try:\n",
    "        return sc.read_h5ad('02B_Processed_h5ad/' + file_name)\n",
    "    except Exception as e:\n",
    "        print(f'Error reading {file_name}: {e}')\n",
    "        return None\n",
    "\n",
    "# List of directories (Replace with your actual directory list)\n",
    "dir_list = os.listdir('02B_Processed_h5ad/')\n",
    "\n",
    "# Parallel execution\n",
    "with ThreadPoolExecutor(max_workers=10) as executor:\n",
    "    h5_list = list(executor.map(read_h5ad_file, dir_list))\n",
    "\n",
    "# Remove None values from the list (in case of errors)\n",
    "h5_list = [result for result in h5_list if result is not None]"
   ]
  },
  {
   "cell_type": "code",
   "execution_count": null,
   "id": "c8849586-1e9c-4948-8ef2-b90a626ea8b4",
   "metadata": {
    "tags": []
   },
   "outputs": [],
   "source": [
    "adata = anndata.concat(h5_list)\n",
    "adata.obs.index = adata.obs['barcodes']\n",
    "del h5_list"
   ]
  },
  {
   "cell_type": "code",
   "execution_count": null,
   "id": "cba143f1-75fe-4111-8ae8-71c74da6591e",
   "metadata": {
    "tags": []
   },
   "outputs": [],
   "source": [
    "adata.raw=adata"
   ]
  },
  {
   "cell_type": "code",
   "execution_count": null,
   "id": "4240b161-0b28-4ac7-98a9-6eb5fb8be89d",
   "metadata": {
    "tags": []
   },
   "outputs": [],
   "source": [
    "#create a list of colors\n",
    "colors = ['#FDC086','#FFFF99','#F0027F','#BF5B17','#666666',\n",
    "          '#1B9E77','#D95F02','#7570B3','#E7298A','#66A61E','#E6AB02','#A6761D','#666666',\n",
    "          '#A6CEE3','#1F78B4','#B2DF8A','#33A02C','#FB9A99','#E31A1C','#FDBF6F','#FF7F00',\n",
    "          '#CAB2D6','#6A3D9A','#FFFF99','#B15928','#FBB4AE','#B3CDE3','#CCEBC5','#DECBE4',\n",
    "          '#FED9A6','#FFFFCC','#E5D8BD','#FDDAEC','#F2F2F2','#B3E2CD','#FDCDAC','#CBD5E8',\n",
    "          '#F4CAE4','#E6F5C9','#FFF2AE','#F1E2CC','#CCCCCC','#E41A1C','#377EB8','#4DAF4A',\n",
    "          '#984EA3','#FF7F00','#FFFF33','#A65628','#F781BF','#999999','#66C2A5','#FC8D62',\n",
    "          '#8DA0CB','#E78AC3','#A6D854','#FFD92F','#E5C494','#B3B3B3','#8DD3C7','#FFFFB3',\n",
    "          '#BEBADA','#FB8072','#80B1D3','#FDB462','#B3DE69','#FCCDE5','#D9D9D9','#BC80BD',\n",
    "          '#CCEBC5','#FFED6F']\n",
    "B_cells= [\"B intermediate\",\"B memory\",\"B naive\",\"Plasmablast\"]\n",
    "Myeloid=[\"CD14 Mono\",\"CD16 Mono\",\"ASDC\",\"cDC1\",\"cDC2\",\"pDC\"]\n",
    "T_cells=[  \"CD4 CTL\",\"CD4 Naive\",\"CD4 TCM\",\"CD4 TEM\",\"CD8 Naive\",\n",
    "         \"CD8 TCM\",\"CD8 TEM\",\"CD8 TEMRA\",\"dnT\",\"gdT\",\"Treg Memory\",\"Treg Naive\"]\n",
    "left_over=[value for value in adata.obs['predicted.celltype.l2.5'].unique() if value not in B_cells+Myeloid+T_cells]"
   ]
  },
  {
   "cell_type": "code",
   "execution_count": null,
   "id": "767760c1-065f-4bb1-8867-3c0b3f203bfe",
   "metadata": {
    "tags": []
   },
   "outputs": [],
   "source": [
    "Myeloid.sort()\n",
    "T_cells.sort()\n",
    "B_cells.sort()\n",
    "T_cells = dict(zip(T_cells, colors[0:12]))\n",
    "B_cells = dict(zip(B_cells, colors[12:17]))\n",
    "Myeloid = dict(zip(Myeloid, colors[17:25]))\n",
    "left_over = dict(zip(left_over, colors[26:37]))\n",
    "color_dict=merged_dict = {**T_cells, **B_cells, **Myeloid,**left_over}\n"
   ]
  },
  {
   "cell_type": "code",
   "execution_count": null,
   "id": "162fac1c-d4eb-4235-95a7-71dcdd388780",
   "metadata": {
    "tags": []
   },
   "outputs": [],
   "source": [
    "with plt.rc_context({\"figure.figsize\": (5, 5), \"figure.dpi\": 500, \"figure.frameon\": False}):\n",
    "    ax=sc.pl.umap(adata, color=['predicted.celltype.l2.5'], size=1,show=False,legend_loc=None,ncols=1 ,palette=color_dict,frameon=False)\n",
    "    gen_mpl_labels(\n",
    "        adata,\n",
    "        \"predicted.celltype.l2.5\",  # This was before we had the `nan` behaviour\n",
    "        ax=ax,\n",
    "        adjust_kwargs=dict(arrowprops=dict(arrowstyle='--', color='black')),\n",
    "        text_kwargs=dict(fontsize=10),)"
   ]
  },
  {
   "cell_type": "code",
   "execution_count": null,
   "id": "8ed7a17b-2106-4b7a-9456-77434ecac73a",
   "metadata": {
    "tags": []
   },
   "outputs": [],
   "source": [
    "with plt.rc_context({\"figure.figsize\": (5, 5), \"figure.dpi\": 500, \"figure.frameon\": False}):\n",
    "    ax=sc.pl.umap(adata, color=['leiden'], size=1,show=False,legend_loc=None,ncols=1 ,frameon=False)\n",
    "    gen_mpl_labels(\n",
    "        adata,\n",
    "        \"leiden\",  # This was before we had the `nan` behaviour\n",
    "        ax=ax,\n",
    "        adjust_kwargs=dict(arrowprops=dict(arrowstyle='-', color='black')),\n",
    "        text_kwargs=dict(fontsize=10),)"
   ]
  },
  {
   "cell_type": "code",
   "execution_count": null,
   "id": "b00f82fc-8d95-4320-8bbd-dd9436a913a8",
   "metadata": {
    "tags": []
   },
   "outputs": [],
   "source": [
    "sc.pl.umap(adata, color=['leiden','predicted.celltype.l2.5','majority_voting_celltypist'], size=2,show=False,ncols=1 ,frameon=False)"
   ]
  },
  {
   "cell_type": "code",
   "execution_count": null,
   "id": "dbf5a26d-f13c-45ac-b23f-6197b7760dbf",
   "metadata": {},
   "outputs": [],
   "source": [
    "plt.rcParams['figure.figsize'] = [3, 3]\n",
    "sc.pl.umap(adata, color=['CD3E','CD3D','CD8A','CD4'], sort_order=False, use_raw=False,size=0.1,show=False,ncols=2,vmax=1,frameon=False)"
   ]
  },
  {
   "cell_type": "code",
   "execution_count": null,
   "id": "7e0f6fb3-8634-43fd-ad4f-7716507085d4",
   "metadata": {},
   "outputs": [],
   "source": [
    "sc.pl.umap(adata, color=['CD3E','CD3D','CD8A','CD4'],  use_raw=False,size=0.1,show=False,ncols=2,frameon=False)"
   ]
  },
  {
   "cell_type": "code",
   "execution_count": null,
   "id": "4cdedefa-f7f3-4a5b-8cab-cc8cea6ad05f",
   "metadata": {},
   "outputs": [],
   "source": []
  },
  {
   "cell_type": "code",
   "execution_count": 46,
   "id": "5bf5d9ee-3120-499b-bab4-fcde03bcb34f",
   "metadata": {
    "tags": []
   },
   "outputs": [],
   "source": [
    "sc.pp.normalize_total(adata, target_sum=1e4)\n",
    "sc.pp.log1p(adata)"
   ]
  },
  {
   "cell_type": "code",
   "execution_count": null,
   "id": "e3d4fa69-616d-494c-864c-c0f68eb220b8",
   "metadata": {
    "tags": []
   },
   "outputs": [],
   "source": [
    "\n",
    "sc.pp.highly_variable_genes(adata)\n",
    "\n",
    "adata = adata[:, adata.var_names[adata.var['highly_variable']]]\n"
   ]
  },
  {
   "cell_type": "code",
   "execution_count": 22,
   "id": "cb915239-7c12-46fd-8c91-2f275f4803ad",
   "metadata": {
    "tags": []
   },
   "outputs": [],
   "source": [
    "sc.pp.scale(adata)"
   ]
  },
  {
   "cell_type": "code",
   "execution_count": 23,
   "id": "88182848-25c0-41e8-967c-a4384a5d9b47",
   "metadata": {
    "collapsed": true,
    "jupyter": {
     "outputs_hidden": true
    },
    "tags": []
   },
   "outputs": [
    {
     "ename": "ImportError",
     "evalue": "\nplease install harmonypy:\n\n\tpip install harmonypy",
     "output_type": "error",
     "traceback": [
      "\u001b[0;31m---------------------------------------------------------------------------\u001b[0m",
      "\u001b[0;31mModuleNotFoundError\u001b[0m                       Traceback (most recent call last)",
      "File \u001b[0;32m/opt/conda/lib/python3.10/site-packages/scanpy/external/pp/_harmony_integrate.py:78\u001b[0m, in \u001b[0;36mharmony_integrate\u001b[0;34m(adata, key, basis, adjusted_basis, **kwargs)\u001b[0m\n\u001b[1;32m     77\u001b[0m \u001b[38;5;28;01mtry\u001b[39;00m:\n\u001b[0;32m---> 78\u001b[0m     \u001b[38;5;28;01mimport\u001b[39;00m \u001b[38;5;21;01mharmonypy\u001b[39;00m\n\u001b[1;32m     79\u001b[0m \u001b[38;5;28;01mexcept\u001b[39;00m \u001b[38;5;167;01mImportError\u001b[39;00m:\n",
      "\u001b[0;31mModuleNotFoundError\u001b[0m: No module named 'harmonypy'",
      "\nDuring handling of the above exception, another exception occurred:\n",
      "\u001b[0;31mImportError\u001b[0m                               Traceback (most recent call last)",
      "Cell \u001b[0;32mIn[23], line 2\u001b[0m\n\u001b[1;32m      1\u001b[0m sc\u001b[38;5;241m.\u001b[39mtl\u001b[38;5;241m.\u001b[39mpca(adata, svd_solver\u001b[38;5;241m=\u001b[39m\u001b[38;5;124m'\u001b[39m\u001b[38;5;124marpack\u001b[39m\u001b[38;5;124m'\u001b[39m)\n\u001b[0;32m----> 2\u001b[0m \u001b[43msce\u001b[49m\u001b[38;5;241;43m.\u001b[39;49m\u001b[43mpp\u001b[49m\u001b[38;5;241;43m.\u001b[39;49m\u001b[43mharmony_integrate\u001b[49m\u001b[43m(\u001b[49m\u001b[43madata\u001b[49m\u001b[43m,\u001b[49m\u001b[43m \u001b[49m\u001b[38;5;124;43m'\u001b[39;49m\u001b[38;5;124;43mcohort.cohortGuid\u001b[39;49m\u001b[38;5;124;43m'\u001b[39;49m\u001b[43m,\u001b[49m\u001b[43mmax_iter_harmony\u001b[49m\u001b[43m \u001b[49m\u001b[38;5;241;43m=\u001b[39;49m\u001b[43m \u001b[49m\u001b[38;5;241;43m30\u001b[39;49m\u001b[43m)\u001b[49m\n",
      "File \u001b[0;32m/opt/conda/lib/python3.10/site-packages/scanpy/external/pp/_harmony_integrate.py:80\u001b[0m, in \u001b[0;36mharmony_integrate\u001b[0;34m(adata, key, basis, adjusted_basis, **kwargs)\u001b[0m\n\u001b[1;32m     78\u001b[0m     \u001b[38;5;28;01mimport\u001b[39;00m \u001b[38;5;21;01mharmonypy\u001b[39;00m\n\u001b[1;32m     79\u001b[0m \u001b[38;5;28;01mexcept\u001b[39;00m \u001b[38;5;167;01mImportError\u001b[39;00m:\n\u001b[0;32m---> 80\u001b[0m     \u001b[38;5;28;01mraise\u001b[39;00m \u001b[38;5;167;01mImportError\u001b[39;00m(\u001b[38;5;124m\"\u001b[39m\u001b[38;5;130;01m\\n\u001b[39;00m\u001b[38;5;124mplease install harmonypy:\u001b[39m\u001b[38;5;130;01m\\n\u001b[39;00m\u001b[38;5;130;01m\\n\u001b[39;00m\u001b[38;5;130;01m\\t\u001b[39;00m\u001b[38;5;124mpip install harmonypy\u001b[39m\u001b[38;5;124m\"\u001b[39m)\n\u001b[1;32m     82\u001b[0m harmony_out \u001b[38;5;241m=\u001b[39m harmonypy\u001b[38;5;241m.\u001b[39mrun_harmony(adata\u001b[38;5;241m.\u001b[39mobsm[basis], adata\u001b[38;5;241m.\u001b[39mobs, key, \u001b[38;5;241m*\u001b[39m\u001b[38;5;241m*\u001b[39mkwargs)\n\u001b[1;32m     84\u001b[0m adata\u001b[38;5;241m.\u001b[39mobsm[adjusted_basis] \u001b[38;5;241m=\u001b[39m harmony_out\u001b[38;5;241m.\u001b[39mZ_corr\u001b[38;5;241m.\u001b[39mT\n",
      "\u001b[0;31mImportError\u001b[0m: \nplease install harmonypy:\n\n\tpip install harmonypy"
     ]
    }
   ],
   "source": [
    "sc.tl.pca(adata, svd_solver='arpack')\n"
   ]
  },
  {
   "cell_type": "code",
   "execution_count": null,
   "id": "7c5c2f84-5d2a-4e02-ae45-0aa74b9aca8e",
   "metadata": {
    "tags": []
   },
   "outputs": [
    {
     "name": "stderr",
     "output_type": "stream",
     "text": [
      "2023-10-31 03:43:03,203 - harmonypy - INFO - Computing initial centroids with sklearn.KMeans...\n",
      "Computing initial centroids with sklearn.KMeans...\n"
     ]
    }
   ],
   "source": [
    "sce.pp.harmony_integrate(adata, 'cohort.cohortGuid',max_iter_harmony = 30)"
   ]
  },
  {
   "cell_type": "code",
   "execution_count": null,
   "id": "17d33e8a-7fc4-48df-abd8-0ff20867c90b",
   "metadata": {
    "tags": []
   },
   "outputs": [],
   "source": [
    "sc.pp.neighbors(adata, n_neighbors=50,use_rep='X_pca_harmony', n_pcs=30)\n",
    "sc.tl.umap(adata)"
   ]
  }
 ],
 "metadata": {
  "kernelspec": {
   "display_name": "Python 3 (ipykernel)",
   "language": "python",
   "name": "python3"
  },
  "language_info": {
   "codemirror_mode": {
    "name": "ipython",
    "version": 3
   },
   "file_extension": ".py",
   "mimetype": "text/x-python",
   "name": "python",
   "nbconvert_exporter": "python",
   "pygments_lexer": "ipython3",
   "version": "3.10.12"
  }
 },
 "nbformat": 4,
 "nbformat_minor": 5
}
