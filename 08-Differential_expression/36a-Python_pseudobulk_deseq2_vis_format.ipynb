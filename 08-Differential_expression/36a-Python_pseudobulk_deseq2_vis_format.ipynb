{
 "cells": [
  {
   "cell_type": "markdown",
   "id": "f531e4fc-16d8-48c5-95c6-4141e87b22b6",
   "metadata": {},
   "source": [
    "# Format DESeq2 results for visualization\n",
    "\n",
    "For our Python-based DEG visualization tool, we'll generate .pkl files for DEG data from each comparison within each cell type, and .json files that provide metadata used by the visualization tool."
   ]
  },
  {
   "cell_type": "markdown",
   "id": "fc795619-dcfd-4791-b56e-e906809c0a97",
   "metadata": {},
   "source": [
    "## Load packages"
   ]
  },
  {
   "cell_type": "code",
   "execution_count": 1,
   "id": "ffb6e3c1-47fa-4ad8-9d48-d1c399380ad7",
   "metadata": {},
   "outputs": [],
   "source": [
    "from datetime import date\n",
    "import hisepy\n",
    "import json\n",
    "import os\n",
    "import pandas\n",
    "import pickle\n",
    "import re\n",
    "import tarfile"
   ]
  },
  {
   "cell_type": "markdown",
   "id": "77e0cb1a-ba52-4702-b999-1b548093b274",
   "metadata": {},
   "source": [
    "## Output directories"
   ]
  },
  {
   "cell_type": "code",
   "execution_count": 2,
   "id": "5be03cba-c700-4a41-a654-99ee31f10503",
   "metadata": {},
   "outputs": [],
   "source": [
    "if not os.path.isdir('output'):\n",
    "    os.mkdir('output')"
   ]
  },
  {
   "cell_type": "code",
   "execution_count": 3,
   "id": "3920d650-831c-4955-968a-6d7dba025cc6",
   "metadata": {},
   "outputs": [],
   "source": [
    "if not os.path.isdir('data'):\n",
    "    os.mkdir('data')"
   ]
  },
  {
   "cell_type": "markdown",
   "id": "331274bb-0ef1-4493-a307-b965b96582a2",
   "metadata": {},
   "source": [
    "## Parameters"
   ]
  },
  {
   "cell_type": "code",
   "execution_count": 4,
   "id": "b23336a1-629b-4dee-af0f-cf3ff6b4cf40",
   "metadata": {},
   "outputs": [],
   "source": [
    "adjp_cutoff = 0.05"
   ]
  },
  {
   "cell_type": "markdown",
   "id": "ab4b500f-2ddf-464f-aa4a-554e85c71e5a",
   "metadata": {},
   "source": [
    "## Helper functions"
   ]
  },
  {
   "cell_type": "code",
   "execution_count": 5,
   "id": "0349f1e8-2d1d-4cd8-9cb5-debc4ba519f5",
   "metadata": {},
   "outputs": [],
   "source": [
    "def read_csv_uuid(csv_uuid):\n",
    "    csv_path = '/home/jupyter/cache/{u}'.format(u = csv_uuid)\n",
    "    if not os.path.isdir(csv_path):\n",
    "        hise_res = hisepy.reader.cache_files([csv_uuid])\n",
    "    csv_filename = os.listdir(csv_path)[0]\n",
    "    csv_file = '{p}/{f}'.format(p = csv_path, f = csv_filename)\n",
    "    df = pandas.read_csv(csv_file)\n",
    "    return df"
   ]
  },
  {
   "cell_type": "code",
   "execution_count": 6,
   "id": "7c5c0ad3-1796-4e22-b226-1a38877ab1c8",
   "metadata": {},
   "outputs": [],
   "source": [
    "def format_cell_type(cell_type):\n",
    "    cell_type = re.sub('\\\\+', 'pos', cell_type)\n",
    "    cell_type = re.sub('-', 'neg', cell_type)\n",
    "    cell_type = re.sub(' ', '_', cell_type)\n",
    "    return cell_type"
   ]
  },
  {
   "cell_type": "markdown",
   "id": "4de17e93-b2f2-4616-9353-45d1819284fa",
   "metadata": {},
   "source": [
    "## DESeq2 results"
   ]
  },
  {
   "cell_type": "markdown",
   "id": "40a7f592-e983-4d1f-9d8c-48823e93f809",
   "metadata": {},
   "source": [
    "### Retrieve DESeq2 results from HISE"
   ]
  },
  {
   "cell_type": "code",
   "execution_count": 7,
   "id": "f456644c-2d9a-4365-bbfc-5f514fa70490",
   "metadata": {},
   "outputs": [],
   "source": [
    "deg_uuids = {\n",
    "    'cohort': '4ed05e81-d2e4-4bce-a9d0-105844937a7a',\n",
    "    'cmv': '654e8879-0ff5-40b1-b681-f7bf6ff56d6b',\n",
    "    'sex': 'a6ebf838-a20c-418d-a90d-7d75255f6499',\n",
    "    'cmvneg_cohort': '6a9efa94-bad1-42dc-a783-6fb13784111c',\n",
    "    'cmvpos_cohort': '600fc816-7f37-445b-9231-daf569a701a8',\n",
    "    'female_cohort': '7c7f5510-b4f1-48f7-9949-60c02c444daa',\n",
    "    'male_cohort': '0242e417-cd3e-4def-b1c3-029296d6588c'\n",
    "}"
   ]
  },
  {
   "cell_type": "code",
   "execution_count": 8,
   "id": "f74c1fe4-7046-4eda-a974-fdda2eb19aff",
   "metadata": {},
   "outputs": [],
   "source": [
    "deg_dfs = {}\n",
    "for contrast, uuid in deg_uuids.items():\n",
    "    df = read_csv_uuid(uuid)\n",
    "    df = df[['cell_type', 'fg', 'n_fg', 'bg', 'n_bg', \n",
    "             'gene', 'log2FoldChange', \n",
    "             'padj', 'pvalue', 'stat']]\n",
    "    deg_dfs[contrast] = df"
   ]
  },
  {
   "cell_type": "code",
   "execution_count": 9,
   "id": "0c5c2d03-f059-409c-8625-163c0a0b08d5",
   "metadata": {},
   "outputs": [],
   "source": [
    "aim_names = {\n",
    "    'cohort': 'Young Adult vs Older Adult',\n",
    "    'cmv': 'CMV-Positive vs CMV-Negative',\n",
    "    'sex': 'Female vs Male',\n",
    "    'cmvneg_cohort': 'CMV-Negative Young Adult vs Older Adult',\n",
    "    'cmvpos_cohort': 'CMV-Positive Young Adult vs Older Adult',\n",
    "    'female_cohort': 'Female Young Adult vs Older Adult',\n",
    "    'male_cohort': 'Male Young Adult vs Older Adult'\n",
    "}"
   ]
  },
  {
   "cell_type": "markdown",
   "id": "83a8e392-b4f3-496e-b9ec-9c30b1b2d013",
   "metadata": {},
   "source": [
    "### Split DataFrames by cell type and save them to .pkl files\n",
    "\n",
    "We'll nest these in the `./data/` output directory in a separate subdirectory for each contrast group.\n",
    "\n",
    "As we iterate through the data, we'll also build a dictionary of metadata and a dictionary containing DEG counts based on the `adjp_cutoff` selected above."
   ]
  },
  {
   "cell_type": "code",
   "execution_count": 10,
   "id": "380ef3e7-ba83-4a50-a0e9-91f291edc534",
   "metadata": {},
   "outputs": [
    {
     "data": {
      "text/html": [
       "<div>\n",
       "<style scoped>\n",
       "    .dataframe tbody tr th:only-of-type {\n",
       "        vertical-align: middle;\n",
       "    }\n",
       "\n",
       "    .dataframe tbody tr th {\n",
       "        vertical-align: top;\n",
       "    }\n",
       "\n",
       "    .dataframe thead th {\n",
       "        text-align: right;\n",
       "    }\n",
       "</style>\n",
       "<table border=\"1\" class=\"dataframe\">\n",
       "  <thead>\n",
       "    <tr style=\"text-align: right;\">\n",
       "      <th></th>\n",
       "      <th>cell_type</th>\n",
       "      <th>fg</th>\n",
       "      <th>n_fg</th>\n",
       "      <th>bg</th>\n",
       "      <th>n_bg</th>\n",
       "      <th>gene</th>\n",
       "      <th>log2FoldChange</th>\n",
       "      <th>padj</th>\n",
       "      <th>pvalue</th>\n",
       "      <th>stat</th>\n",
       "    </tr>\n",
       "  </thead>\n",
       "  <tbody>\n",
       "    <tr>\n",
       "      <th>0</th>\n",
       "      <td>BaEoMaP cell</td>\n",
       "      <td>BR1</td>\n",
       "      <td>0</td>\n",
       "      <td>BR1</td>\n",
       "      <td>0</td>\n",
       "      <td>AL669831.5</td>\n",
       "      <td>0.176099</td>\n",
       "      <td>0.999989</td>\n",
       "      <td>0.904798</td>\n",
       "      <td>0.119602</td>\n",
       "    </tr>\n",
       "    <tr>\n",
       "      <th>1</th>\n",
       "      <td>BaEoMaP cell</td>\n",
       "      <td>BR1</td>\n",
       "      <td>0</td>\n",
       "      <td>BR1</td>\n",
       "      <td>0</td>\n",
       "      <td>NOC2L</td>\n",
       "      <td>-0.642299</td>\n",
       "      <td>0.999989</td>\n",
       "      <td>0.730353</td>\n",
       "      <td>-0.344656</td>\n",
       "    </tr>\n",
       "    <tr>\n",
       "      <th>2</th>\n",
       "      <td>BaEoMaP cell</td>\n",
       "      <td>BR1</td>\n",
       "      <td>0</td>\n",
       "      <td>BR1</td>\n",
       "      <td>0</td>\n",
       "      <td>ISG15</td>\n",
       "      <td>-0.854694</td>\n",
       "      <td>0.999989</td>\n",
       "      <td>0.373794</td>\n",
       "      <td>-0.889389</td>\n",
       "    </tr>\n",
       "    <tr>\n",
       "      <th>3</th>\n",
       "      <td>BaEoMaP cell</td>\n",
       "      <td>BR1</td>\n",
       "      <td>0</td>\n",
       "      <td>BR1</td>\n",
       "      <td>0</td>\n",
       "      <td>SDF4</td>\n",
       "      <td>0.614844</td>\n",
       "      <td>0.999989</td>\n",
       "      <td>0.509396</td>\n",
       "      <td>0.659778</td>\n",
       "    </tr>\n",
       "    <tr>\n",
       "      <th>4</th>\n",
       "      <td>BaEoMaP cell</td>\n",
       "      <td>BR1</td>\n",
       "      <td>0</td>\n",
       "      <td>BR1</td>\n",
       "      <td>0</td>\n",
       "      <td>B3GALT6</td>\n",
       "      <td>0.466746</td>\n",
       "      <td>0.999989</td>\n",
       "      <td>0.787854</td>\n",
       "      <td>0.269099</td>\n",
       "    </tr>\n",
       "  </tbody>\n",
       "</table>\n",
       "</div>"
      ],
      "text/plain": [
       "      cell_type   fg  n_fg   bg  n_bg        gene  log2FoldChange      padj  \\\n",
       "0  BaEoMaP cell  BR1     0  BR1     0  AL669831.5        0.176099  0.999989   \n",
       "1  BaEoMaP cell  BR1     0  BR1     0       NOC2L       -0.642299  0.999989   \n",
       "2  BaEoMaP cell  BR1     0  BR1     0       ISG15       -0.854694  0.999989   \n",
       "3  BaEoMaP cell  BR1     0  BR1     0        SDF4        0.614844  0.999989   \n",
       "4  BaEoMaP cell  BR1     0  BR1     0     B3GALT6        0.466746  0.999989   \n",
       "\n",
       "     pvalue      stat  \n",
       "0  0.904798  0.119602  \n",
       "1  0.730353 -0.344656  \n",
       "2  0.373794 -0.889389  \n",
       "3  0.509396  0.659778  \n",
       "4  0.787854  0.269099  "
      ]
     },
     "execution_count": 10,
     "metadata": {},
     "output_type": "execute_result"
    }
   ],
   "source": [
    "df.head()"
   ]
  },
  {
   "cell_type": "code",
   "execution_count": 12,
   "id": "55316873-c474-454f-bd0a-5ac22e1d8b29",
   "metadata": {},
   "outputs": [],
   "source": [
    "# Used to collect files for tar bundling\n",
    "pkl_files = []\n",
    "\n",
    "# Used to generate metadata\n",
    "json_dict = {}\n",
    "json_idx = 0\n",
    "\n",
    "# Used to store DEG counts based on adjp_cutoff\n",
    "n_deg_dict = {}\n",
    "\n",
    "# Used to convert names for pseudobulk metadata\n",
    "cell_type_names = {}\n",
    "\n",
    "for contrast, df in deg_dfs.items():\n",
    "    aim = aim_names[contrast]\n",
    "    \n",
    "    out_path = './data/deg/{c}'.format(c = contrast)\n",
    "    if not os.path.isdir(out_path):\n",
    "        os.makedirs(out_path)\n",
    "    \n",
    "    n_deg_dict[aim] = {}\n",
    "    \n",
    "    df = df.groupby('cell_type')\n",
    "    for group_name, group_df in df:\n",
    "        cell_type = format_cell_type(group_name)\n",
    "        cell_type_names[cell_type] = group_name\n",
    "        \n",
    "        # Store significant gene counts in n_deg_dict\n",
    "        sig_df = group_df[group_df['padj'] < adjp_cutoff]\n",
    "        n_up = sum(sig_df['log2FoldChange'] > 0)\n",
    "        n_dn = sum(sig_df['log2FoldChange'] < 0)\n",
    "        \n",
    "        n_deg_dict[aim][group_name] = {\n",
    "            'fg': group_df['fg'].to_list()[0],\n",
    "            'bg': group_df['bg'].to_list()[0],\n",
    "            'n_up': n_up,\n",
    "            'n_dn': n_dn,\n",
    "            'n_tested': group_df.shape[0]\n",
    "        }\n",
    "\n",
    "        # Save results to .pkl file\n",
    "        out_file = '{p}/{c}.pkl'.format(p = out_path, c = cell_type)\n",
    "        with open(out_file, 'wb') as f:\n",
    "            pickle.dump(group_df, f)\n",
    "        pkl_files.append(out_file)\n",
    "\n",
    "        # Store metadata in json_dict\n",
    "        json_dict[str(json_idx)] = {\n",
    "            'file': out_file,\n",
    "            'analysis': {\n",
    "                'aim': aim,\n",
    "                'modality': 'scRNA_DE',\n",
    "                'celltype': group_name\n",
    "            },\n",
    "            'type_differential': {\n",
    "               'feat_header': 'gene',\n",
    "               'es_header': 'log2FoldChange',\n",
    "               'p_header': 'padj',\n",
    "               'meta_header': ['fg', 'bg', 'pvalue', 'stat']\n",
    "            }\n",
    "        }\n",
    "        \n",
    "        json_idx += 1"
   ]
  },
  {
   "cell_type": "markdown",
   "id": "c706bf67-316a-40cb-9265-1cf225eb8cec",
   "metadata": {},
   "source": [
    "### Write metadata dictionary to JSON"
   ]
  },
  {
   "cell_type": "code",
   "execution_count": 14,
   "id": "f50e0053-5d17-4272-bdbe-9882fdd2b5a5",
   "metadata": {},
   "outputs": [],
   "source": [
    "out_deg_meta = 'data/deg_meta.json'\n",
    "with open(out_deg_meta, 'w') as f:\n",
    "    json.dump(json_dict, f, indent = 4)"
   ]
  },
  {
   "cell_type": "markdown",
   "id": "b65b95b9-64be-4c43-ad78-e89b37ec6f84",
   "metadata": {},
   "source": [
    "### Write DEG counts dictionary to JSON"
   ]
  },
  {
   "cell_type": "code",
   "execution_count": 15,
   "id": "bd581056-263c-4c32-9fe1-8f567f014e12",
   "metadata": {},
   "outputs": [],
   "source": [
    "out_deg_counts = 'data/deg_counts.json'\n",
    "with open(out_deg_counts, 'w') as f:\n",
    "    json.dump(n_deg_dict, f, indent = 4)"
   ]
  },
  {
   "cell_type": "markdown",
   "id": "8465d17a-12ad-488d-8078-61f28f5a8a85",
   "metadata": {},
   "source": [
    "## Pseudobulk expression\n",
    "\n",
    "We also need to structure the pseudobulk expression data for display. We can retrieve this from the .csv files that store pseudobulk expression data."
   ]
  },
  {
   "cell_type": "markdown",
   "id": "38d07e47-25db-41f6-9e9b-1c4978a0a55b",
   "metadata": {},
   "source": [
    "### Retrieve and extract csv files"
   ]
  },
  {
   "cell_type": "code",
   "execution_count": 16,
   "id": "094093fe-9e69-4c55-9213-d3893302ecf0",
   "metadata": {},
   "outputs": [],
   "source": [
    "expr_uuid = '0cbe7468-62df-45a4-be72-e7182904cbad'"
   ]
  },
  {
   "cell_type": "code",
   "execution_count": 17,
   "id": "8af5442a-a2e2-4030-9805-f4f39dbbce58",
   "metadata": {},
   "outputs": [],
   "source": [
    "expr_path = '/home/jupyter/cache/{u}'.format(u = expr_uuid)\n",
    "if not os.path.isdir(expr_path):\n",
    "    hise_res = hisepy.reader.cache_files([expr_uuid])\n",
    "expr_filename = os.listdir(expr_path)[0]\n",
    "expr_file = '{p}/{f}'.format(p = expr_path, f = expr_filename)"
   ]
  },
  {
   "cell_type": "code",
   "execution_count": 18,
   "id": "f74b95df-025d-44d5-a2d7-1dc281989bcc",
   "metadata": {},
   "outputs": [],
   "source": [
    "tar = tarfile.open(expr_file)\n",
    "tar.extractall()"
   ]
  },
  {
   "cell_type": "code",
   "execution_count": 19,
   "id": "467806e1-7036-467c-9cb9-d2bd84fbc767",
   "metadata": {},
   "outputs": [],
   "source": [
    "expr_csvs = tar.getnames()"
   ]
  },
  {
   "cell_type": "markdown",
   "id": "1ead7a58-b9fe-4ca6-912f-9fce7db6b8ce",
   "metadata": {},
   "source": [
    "### Read csvs into DataFrames"
   ]
  },
  {
   "cell_type": "code",
   "execution_count": 20,
   "id": "4d604eb5-ba96-44d8-b9ac-d57d93015657",
   "metadata": {},
   "outputs": [],
   "source": [
    "expr_dfs = {}\n",
    "for expr_csv in expr_csvs:\n",
    "    df = pandas.read_csv(expr_csv)\n",
    "    cell_type = re.sub('_seurat.+', '', expr_csv)\n",
    "    cell_type = re.sub('.+pbmc_', '', cell_type)\n",
    "    expr_dfs[cell_type] = df"
   ]
  },
  {
   "cell_type": "markdown",
   "id": "0a19251f-b026-481f-b8e0-dab49131cc7d",
   "metadata": {},
   "source": [
    "### Convert to pkl for visualization\n",
    "\n",
    "#### All samples: for top-level comparisons"
   ]
  },
  {
   "cell_type": "code",
   "execution_count": 21,
   "id": "a0f35681-2b08-4d66-9bcc-cee6138b7d61",
   "metadata": {},
   "outputs": [],
   "source": [
    "out_path = './data/expr/all/'\n",
    "if not os.path.isdir(out_path):\n",
    "    os.makedirs(out_path)\n",
    "for cell_type, df in expr_dfs.items():\n",
    "    out_file = '{p}/{t}_expr.pkl'.format(p = out_path, t = cell_type)\n",
    "    with open(out_file, 'wb') as f:\n",
    "        pickle.dump(df, f)\n",
    "    pkl_files.append(out_file)"
   ]
  },
  {
   "cell_type": "code",
   "execution_count": 29,
   "id": "0f4a4bdd-0778-4c5b-b31b-258369a160e2",
   "metadata": {},
   "outputs": [
    {
     "data": {
      "text/html": [
       "<div>\n",
       "<style scoped>\n",
       "    .dataframe tbody tr th:only-of-type {\n",
       "        vertical-align: middle;\n",
       "    }\n",
       "\n",
       "    .dataframe tbody tr th {\n",
       "        vertical-align: top;\n",
       "    }\n",
       "\n",
       "    .dataframe thead th {\n",
       "        text-align: right;\n",
       "    }\n",
       "</style>\n",
       "<table border=\"1\" class=\"dataframe\">\n",
       "  <thead>\n",
       "    <tr style=\"text-align: right;\">\n",
       "      <th></th>\n",
       "      <th>barcodes</th>\n",
       "      <th>gene</th>\n",
       "      <th>normalized_counts</th>\n",
       "      <th>subject.subjectGuid</th>\n",
       "      <th>subject.biologicalSex</th>\n",
       "      <th>subject.cmv</th>\n",
       "      <th>cohort.cohortGuid</th>\n",
       "      <th>sample.visitName</th>\n",
       "      <th>sample.subjectAge</th>\n",
       "    </tr>\n",
       "  </thead>\n",
       "  <tbody>\n",
       "    <tr>\n",
       "      <th>1</th>\n",
       "      <td>SOX4+-naive-CD8-T-cell.BR1002.Flu-Year-1-Day-0</td>\n",
       "      <td>MIR1302-2HG</td>\n",
       "      <td>0</td>\n",
       "      <td>BR1002</td>\n",
       "      <td>Male</td>\n",
       "      <td>Negative</td>\n",
       "      <td>BR1</td>\n",
       "      <td>Flu Year 1 Day 0</td>\n",
       "      <td>28</td>\n",
       "    </tr>\n",
       "    <tr>\n",
       "      <th>3</th>\n",
       "      <td>SOX4+-naive-CD8-T-cell.BR1004.Flu-Year-1-Day-0</td>\n",
       "      <td>MIR1302-2HG</td>\n",
       "      <td>0</td>\n",
       "      <td>BR1004</td>\n",
       "      <td>Male</td>\n",
       "      <td>Negative</td>\n",
       "      <td>BR1</td>\n",
       "      <td>Flu Year 1 Day 0</td>\n",
       "      <td>30</td>\n",
       "    </tr>\n",
       "    <tr>\n",
       "      <th>5</th>\n",
       "      <td>SOX4+-naive-CD8-T-cell.BR1006.Flu-Year-1-Day-0</td>\n",
       "      <td>MIR1302-2HG</td>\n",
       "      <td>0</td>\n",
       "      <td>BR1006</td>\n",
       "      <td>Male</td>\n",
       "      <td>Negative</td>\n",
       "      <td>BR1</td>\n",
       "      <td>Flu Year 1 Day 0</td>\n",
       "      <td>31</td>\n",
       "    </tr>\n",
       "    <tr>\n",
       "      <th>6</th>\n",
       "      <td>SOX4+-naive-CD8-T-cell.BR1007.Flu-Year-1-Day-0</td>\n",
       "      <td>MIR1302-2HG</td>\n",
       "      <td>0</td>\n",
       "      <td>BR1007</td>\n",
       "      <td>Male</td>\n",
       "      <td>Positive</td>\n",
       "      <td>BR1</td>\n",
       "      <td>Flu Year 1 Day 0</td>\n",
       "      <td>30</td>\n",
       "    </tr>\n",
       "    <tr>\n",
       "      <th>10</th>\n",
       "      <td>SOX4+-naive-CD8-T-cell.BR1011.Flu-Year-1-Day-0</td>\n",
       "      <td>MIR1302-2HG</td>\n",
       "      <td>0</td>\n",
       "      <td>BR1011</td>\n",
       "      <td>Male</td>\n",
       "      <td>Negative</td>\n",
       "      <td>BR1</td>\n",
       "      <td>Flu Year 1 Day 0</td>\n",
       "      <td>31</td>\n",
       "    </tr>\n",
       "  </tbody>\n",
       "</table>\n",
       "</div>"
      ],
      "text/plain": [
       "                                          barcodes         gene  \\\n",
       "1   SOX4+-naive-CD8-T-cell.BR1002.Flu-Year-1-Day-0  MIR1302-2HG   \n",
       "3   SOX4+-naive-CD8-T-cell.BR1004.Flu-Year-1-Day-0  MIR1302-2HG   \n",
       "5   SOX4+-naive-CD8-T-cell.BR1006.Flu-Year-1-Day-0  MIR1302-2HG   \n",
       "6   SOX4+-naive-CD8-T-cell.BR1007.Flu-Year-1-Day-0  MIR1302-2HG   \n",
       "10  SOX4+-naive-CD8-T-cell.BR1011.Flu-Year-1-Day-0  MIR1302-2HG   \n",
       "\n",
       "    normalized_counts subject.subjectGuid subject.biologicalSex subject.cmv  \\\n",
       "1                   0              BR1002                  Male    Negative   \n",
       "3                   0              BR1004                  Male    Negative   \n",
       "5                   0              BR1006                  Male    Negative   \n",
       "6                   0              BR1007                  Male    Positive   \n",
       "10                  0              BR1011                  Male    Negative   \n",
       "\n",
       "   cohort.cohortGuid  sample.visitName  sample.subjectAge  \n",
       "1                BR1  Flu Year 1 Day 0                 28  \n",
       "3                BR1  Flu Year 1 Day 0                 30  \n",
       "5                BR1  Flu Year 1 Day 0                 31  \n",
       "6                BR1  Flu Year 1 Day 0                 30  \n",
       "10               BR1  Flu Year 1 Day 0                 31  "
      ]
     },
     "execution_count": 29,
     "metadata": {},
     "output_type": "execute_result"
    }
   ],
   "source": [
    "df.head()"
   ]
  },
  {
   "cell_type": "markdown",
   "id": "f99b50e3-2a3b-408a-a8c6-e995ac69e78d",
   "metadata": {},
   "source": [
    "#### Subset samples"
   ]
  },
  {
   "cell_type": "code",
   "execution_count": 22,
   "id": "321750ac-bed0-4468-86c9-334bd98e796e",
   "metadata": {},
   "outputs": [],
   "source": [
    "subset_filters = {\n",
    "    'cmvpos': ('subject.cmv', 'Positive'),\n",
    "    'cmvneg': ('subject.cmv', 'Negative'),\n",
    "    'female': ('subject.biologicalSex', 'Female'),\n",
    "    'male': ('subject.biologicalSex', 'Male')\n",
    "}"
   ]
  },
  {
   "cell_type": "code",
   "execution_count": 23,
   "id": "e0b67285-22c8-4ca1-9942-377092ac6f4b",
   "metadata": {},
   "outputs": [
    {
     "ename": "KeyboardInterrupt",
     "evalue": "",
     "output_type": "error",
     "traceback": [
      "\u001b[0;31m---------------------------------------------------------------------------\u001b[0m",
      "\u001b[0;31mKeyboardInterrupt\u001b[0m                         Traceback (most recent call last)",
      "Cell \u001b[0;32mIn[23], line 12\u001b[0m\n\u001b[1;32m     10\u001b[0m out_file \u001b[38;5;241m=\u001b[39m \u001b[38;5;124m'\u001b[39m\u001b[38;5;132;01m{p}\u001b[39;00m\u001b[38;5;124m/\u001b[39m\u001b[38;5;132;01m{t}\u001b[39;00m\u001b[38;5;124m_expr.pkl\u001b[39m\u001b[38;5;124m'\u001b[39m\u001b[38;5;241m.\u001b[39mformat(p \u001b[38;5;241m=\u001b[39m out_path, t \u001b[38;5;241m=\u001b[39m cell_type)\n\u001b[1;32m     11\u001b[0m \u001b[38;5;28;01mwith\u001b[39;00m \u001b[38;5;28mopen\u001b[39m(out_file, \u001b[38;5;124m'\u001b[39m\u001b[38;5;124mwb\u001b[39m\u001b[38;5;124m'\u001b[39m) \u001b[38;5;28;01mas\u001b[39;00m f:\n\u001b[0;32m---> 12\u001b[0m     \u001b[43mpickle\u001b[49m\u001b[38;5;241;43m.\u001b[39;49m\u001b[43mdump\u001b[49m\u001b[43m(\u001b[49m\u001b[43mdf\u001b[49m\u001b[43m,\u001b[49m\u001b[43m \u001b[49m\u001b[43mf\u001b[49m\u001b[43m)\u001b[49m\n\u001b[1;32m     13\u001b[0m pkl_files\u001b[38;5;241m.\u001b[39mappend(out_file)\n",
      "\u001b[0;31mKeyboardInterrupt\u001b[0m: "
     ]
    }
   ],
   "source": [
    "for subset_name, filter in subset_filters.items():\n",
    "    out_path = './data/expr/{s}'.format(s = subset_name)\n",
    "    if not os.path.isdir(out_path):\n",
    "        os.makedirs(out_path)\n",
    "    for cell_type, df in expr_dfs.items():\n",
    "        filter_col = filter[0]\n",
    "        filter_value = filter[1]\n",
    "        df = df[df[filter_col] == filter_value]\n",
    "        \n",
    "        out_file = '{p}/{t}_expr.pkl'.format(p = out_path, t = cell_type)\n",
    "        with open(out_file, 'wb') as f:\n",
    "            pickle.dump(df, f)\n",
    "        pkl_files.append(out_file)"
   ]
  },
  {
   "cell_type": "markdown",
   "id": "1997a0bd-2df3-423f-ae75-e43a69c292e5",
   "metadata": {},
   "source": [
    "#### Build metadata dictionary"
   ]
  },
  {
   "cell_type": "code",
   "execution_count": null,
   "id": "cf74cb66-b857-4f96-a8c5-130c8eb850b5",
   "metadata": {},
   "outputs": [],
   "source": [
    "aim_sets = {\n",
    "    'cohort': 'all',\n",
    "    'cmv': 'all',\n",
    "    'sex': 'all',\n",
    "    'cmvneg_cohort': 'cmvneg',\n",
    "    'cmvpos_cohort': 'cmvpos',\n",
    "    'female_cohort': 'female',\n",
    "    'male_cohort': 'male'\n",
    "}"
   ]
  },
  {
   "cell_type": "code",
   "execution_count": null,
   "id": "8e1e1d98-899d-41fc-b3c7-a641b3ddd8a1",
   "metadata": {},
   "outputs": [],
   "source": [
    "aim_grouping = {\n",
    "    'cohort': 'cohort.cohortGuid',\n",
    "    'cmv': 'subject.cmv',\n",
    "    'sex': 'subject.biologicalSex',\n",
    "    'cmvneg_cohort': 'cohort.cohortGuid',\n",
    "    'cmvpos_cohort': 'cohort.cohortGuid',\n",
    "    'female_cohort': 'cohort.cohortGuid',\n",
    "    'male_cohort': 'cohort.cohortGuid'\n",
    "}"
   ]
  },
  {
   "cell_type": "code",
   "execution_count": null,
   "id": "126d1691-96b2-4677-ad82-7bfbce817d8d",
   "metadata": {},
   "outputs": [],
   "source": [
    "pb_json = {}\n",
    "json_idx = 0\n",
    "\n",
    "for contrast, aim_set in aim_sets.items():\n",
    "    pkl_path = './data/expr/{s}/'.format(s = aim_set)\n",
    "    pkl_files = os.listdir(pkl_path)\n",
    "    for pkl_file in pkl_files:\n",
    "        cell_type = re.sub('_expr.pkl','',pkl_file)\n",
    "        pb_json[json_idx] = {\n",
    "            'file': '{p}/{f}'.format(p = out_path, f = pkl_file),\n",
    "            'analysis': {\n",
    "                'aim': aim_names[contrast],\n",
    "                'modality': 'scRNA_DE',\n",
    "                'celltype': cell_type_names[cell_type]\n",
    "            },\n",
    "            'type_expression_xsec': {\n",
    "                'feat_header': 'gene',\n",
    "                'exp_header': 'normalized_counts',\n",
    "                'obs_header': 'subject.subjectGuid',\n",
    "                'meta_header': [\n",
    "                    'subject.subjectGuid',\n",
    "                    'sample.subjectAge',\n",
    "                    'subject.biologicalSex',\n",
    "                    'subject.cmv',\n",
    "                    'cohort.cohortGuid',\n",
    "                    'sample.visitName',\n",
    "                    'n_cells'\n",
    "                ],\n",
    "                'group_header': aim_grouping[contrast],\n",
    "                'paired_data_header': {},\n",
    "                'paired_meta_header': {}\n",
    "            }\n",
    "        }"
   ]
  },
  {
   "cell_type": "markdown",
   "id": "e7dbaa97-7a27-464d-b1ce-8bf057519836",
   "metadata": {},
   "source": [
    "### Assemble files as a .tar for storage"
   ]
  },
  {
   "cell_type": "code",
   "execution_count": 11,
   "id": "2df25a58-5d61-4103-a7dc-e54290ac4b38",
   "metadata": {},
   "outputs": [],
   "source": [
    "out_tar = 'output/ref_pbmc_deseq_results_pkl_{d}.tar'.format(d = date.today())\n",
    "tar = tarfile.open(out_tar, 'w')\n",
    "for pkl_file in pkl_files:\n",
    "    tar.add(pkl_file)\n",
    "tar.close()"
   ]
  },
  {
   "cell_type": "markdown",
   "id": "d7cddf09-7d4a-4fea-bb9e-55bc41c05b4e",
   "metadata": {},
   "source": [
    "## Upload results to HISE"
   ]
  },
  {
   "cell_type": "code",
   "execution_count": 13,
   "id": "df3f80d2-cb70-43a8-a81a-e19d6e204c6f",
   "metadata": {},
   "outputs": [],
   "source": [
    "study_space_uuid = '64097865-486d-43b3-8f94-74994e0a72e0'\n",
    "title = 'PBMC Ref. DESeq2 for visualization {d}'.format(d = date.today())"
   ]
  },
  {
   "cell_type": "code",
   "execution_count": 14,
   "id": "f743db13-2e8e-4b2e-bf5b-2cb65fdb4961",
   "metadata": {},
   "outputs": [],
   "source": [
    "in_files = list(deg_uuids.values())"
   ]
  },
  {
   "cell_type": "code",
   "execution_count": 15,
   "id": "7720611f-bd2f-47c8-8d11-15a1af9ac003",
   "metadata": {},
   "outputs": [
    {
     "data": {
      "text/plain": [
       "['19220f75-6958-401c-99d7-55c60cfe0423',\n",
       " '2cf77dfc-c431-4d22-859f-90eda495b499',\n",
       " 'f1d2aa19-0455-445b-8a9d-729ae739be42',\n",
       " 'c0469a5f-fa10-43dd-8dc5-5aed3b7ce179',\n",
       " '5363fc80-7ad0-480b-851d-aaea5f45d332',\n",
       " '2d208f29-50e4-4a88-9323-8e9b0931fc6f',\n",
       " '8536f675-aeab-45c3-8929-b7e85bec71e7']"
      ]
     },
     "execution_count": 15,
     "metadata": {},
     "output_type": "execute_result"
    }
   ],
   "source": [
    "in_files"
   ]
  },
  {
   "cell_type": "code",
   "execution_count": 16,
   "id": "73cfb64f-b1e1-44e6-b754-e146f9b53af0",
   "metadata": {},
   "outputs": [],
   "source": [
    "out_files = [out_tar, out_json]"
   ]
  },
  {
   "cell_type": "code",
   "execution_count": 17,
   "id": "f30d206e-e60d-4618-b61b-76438657183d",
   "metadata": {},
   "outputs": [
    {
     "data": {
      "text/plain": [
       "['output/ref_pbmc_deseq_results_pkl_2024-04-05.tar',\n",
       " 'output/ref_pbmc_deseq_results_2024-04-05.json']"
      ]
     },
     "execution_count": 17,
     "metadata": {},
     "output_type": "execute_result"
    }
   ],
   "source": [
    "out_files"
   ]
  },
  {
   "cell_type": "raw",
   "id": "0421cc98-ccd8-4ce5-8d66-408161e09926",
   "metadata": {},
   "source": [
    "hisepy.upload.upload_files(\n",
    "    files = out_files,\n",
    "    study_space_id = study_space_uuid,\n",
    "    title = title,\n",
    "    input_file_ids = in_files\n",
    ")"
   ]
  },
  {
   "cell_type": "code",
   "execution_count": 55,
   "id": "02949a10-aafe-4b13-9d7a-451563470344",
   "metadata": {},
   "outputs": [
    {
     "data": {
      "text/html": [
       "<details>\n",
       "<summary>Click to view session information</summary>\n",
       "<pre>\n",
       "-----\n",
       "anndata             0.10.3\n",
       "hisepy              0.3.0\n",
       "pandas              2.1.4\n",
       "scanpy              1.9.6\n",
       "session_info        1.0.0\n",
       "-----\n",
       "</pre>\n",
       "<details>\n",
       "<summary>Click to view modules imported as dependencies</summary>\n",
       "<pre>\n",
       "PIL                         10.0.1\n",
       "anyio                       NA\n",
       "arrow                       1.3.0\n",
       "asttokens                   NA\n",
       "attr                        23.2.0\n",
       "attrs                       23.2.0\n",
       "babel                       2.14.0\n",
       "beatrix_jupyterlab          NA\n",
       "brotli                      NA\n",
       "cachetools                  5.3.1\n",
       "certifi                     2023.11.17\n",
       "cffi                        1.16.0\n",
       "charset_normalizer          3.3.2\n",
       "cloudpickle                 2.2.1\n",
       "colorama                    0.4.6\n",
       "comm                        0.1.4\n",
       "cryptography                41.0.7\n",
       "cycler                      0.10.0\n",
       "cython_runtime              NA\n",
       "dateutil                    2.8.2\n",
       "db_dtypes                   1.1.1\n",
       "debugpy                     1.8.0\n",
       "decorator                   5.1.1\n",
       "defusedxml                  0.7.1\n",
       "deprecated                  1.2.14\n",
       "exceptiongroup              1.2.0\n",
       "executing                   2.0.1\n",
       "fastjsonschema              NA\n",
       "fqdn                        NA\n",
       "google                      NA\n",
       "greenlet                    2.0.2\n",
       "grpc                        1.58.0\n",
       "grpc_status                 NA\n",
       "h5py                        3.10.0\n",
       "idna                        3.6\n",
       "igraph                      0.10.8\n",
       "importlib_metadata          NA\n",
       "ipykernel                   6.28.0\n",
       "ipython_genutils            0.2.0\n",
       "ipywidgets                  8.1.1\n",
       "isoduration                 NA\n",
       "jedi                        0.19.1\n",
       "jinja2                      3.1.2\n",
       "joblib                      1.3.2\n",
       "json5                       NA\n",
       "jsonpointer                 2.4\n",
       "jsonschema                  4.20.0\n",
       "jsonschema_specifications   NA\n",
       "jupyter_events              0.9.0\n",
       "jupyter_server              2.12.1\n",
       "jupyterlab_server           2.25.2\n",
       "jwt                         2.8.0\n",
       "kiwisolver                  1.4.5\n",
       "leidenalg                   0.10.1\n",
       "llvmlite                    0.41.0\n",
       "lz4                         4.3.2\n",
       "markupsafe                  2.1.3\n",
       "matplotlib                  3.8.0\n",
       "matplotlib_inline           0.1.6\n",
       "mpl_toolkits                NA\n",
       "mpmath                      1.3.0\n",
       "natsort                     8.4.0\n",
       "nbformat                    5.9.2\n",
       "numba                       0.58.0\n",
       "numpy                       1.24.0\n",
       "opentelemetry               NA\n",
       "overrides                   NA\n",
       "packaging                   23.2\n",
       "parso                       0.8.3\n",
       "pexpect                     4.8.0\n",
       "pickleshare                 0.7.5\n",
       "pkg_resources               NA\n",
       "platformdirs                4.1.0\n",
       "plotly                      5.18.0\n",
       "prettytable                 3.9.0\n",
       "prometheus_client           NA\n",
       "prompt_toolkit              3.0.42\n",
       "proto                       NA\n",
       "psutil                      NA\n",
       "ptyprocess                  0.7.0\n",
       "pure_eval                   0.2.2\n",
       "pyarrow                     13.0.0\n",
       "pydev_ipython               NA\n",
       "pydevconsole                NA\n",
       "pydevd                      2.9.5\n",
       "pydevd_file_utils           NA\n",
       "pydevd_plugins              NA\n",
       "pydevd_tracing              NA\n",
       "pygments                    2.17.2\n",
       "pynvml                      NA\n",
       "pyparsing                   3.1.1\n",
       "pyreadr                     0.5.0\n",
       "pythonjsonlogger            NA\n",
       "pytz                        2023.3.post1\n",
       "referencing                 NA\n",
       "requests                    2.31.0\n",
       "rfc3339_validator           0.1.4\n",
       "rfc3986_validator           0.1.1\n",
       "rpds                        NA\n",
       "scipy                       1.11.4\n",
       "send2trash                  NA\n",
       "shapely                     1.8.5.post1\n",
       "six                         1.16.0\n",
       "sklearn                     1.3.2\n",
       "sniffio                     1.3.0\n",
       "socks                       1.7.1\n",
       "sql                         NA\n",
       "sqlalchemy                  2.0.21\n",
       "sqlparse                    0.4.4\n",
       "stack_data                  0.6.2\n",
       "sympy                       1.12\n",
       "termcolor                   NA\n",
       "texttable                   1.7.0\n",
       "threadpoolctl               3.2.0\n",
       "torch                       2.1.2+cu121\n",
       "torchgen                    NA\n",
       "tornado                     6.3.3\n",
       "tqdm                        4.66.1\n",
       "traitlets                   5.9.0\n",
       "typing_extensions           NA\n",
       "uri_template                NA\n",
       "urllib3                     1.26.18\n",
       "wcwidth                     0.2.12\n",
       "webcolors                   1.13\n",
       "websocket                   1.7.0\n",
       "wrapt                       1.15.0\n",
       "xarray                      2023.12.0\n",
       "yaml                        6.0.1\n",
       "zipp                        NA\n",
       "zmq                         25.1.2\n",
       "zoneinfo                    NA\n",
       "zstandard                   0.22.0\n",
       "</pre>\n",
       "</details> <!-- seems like this ends pre, so might as well be explicit -->\n",
       "<pre>\n",
       "-----\n",
       "IPython             8.19.0\n",
       "jupyter_client      8.6.0\n",
       "jupyter_core        5.6.1\n",
       "jupyterlab          4.0.10\n",
       "notebook            6.5.4\n",
       "-----\n",
       "Python 3.10.13 | packaged by conda-forge | (main, Dec 23 2023, 15:36:39) [GCC 12.3.0]\n",
       "Linux-5.15.0-1052-gcp-x86_64-with-glibc2.31\n",
       "-----\n",
       "Session information updated at 2024-02-29 23:38\n",
       "</pre>\n",
       "</details>"
      ],
      "text/plain": [
       "<IPython.core.display.HTML object>"
      ]
     },
     "execution_count": 55,
     "metadata": {},
     "output_type": "execute_result"
    }
   ],
   "source": [
    "import session_info\n",
    "session_info.show()"
   ]
  },
  {
   "cell_type": "code",
   "execution_count": null,
   "id": "7e250d5d-4765-4232-ae47-936d7b586eb2",
   "metadata": {},
   "outputs": [],
   "source": []
  }
 ],
 "metadata": {
  "kernelspec": {
   "display_name": "Python 3 (ipykernel)",
   "language": "python",
   "name": "python3"
  },
  "language_info": {
   "codemirror_mode": {
    "name": "ipython",
    "version": 3
   },
   "file_extension": ".py",
   "mimetype": "text/x-python",
   "name": "python",
   "nbconvert_exporter": "python",
   "pygments_lexer": "ipython3",
   "version": "3.10.13"
  }
 },
 "nbformat": 4,
 "nbformat_minor": 5
}
