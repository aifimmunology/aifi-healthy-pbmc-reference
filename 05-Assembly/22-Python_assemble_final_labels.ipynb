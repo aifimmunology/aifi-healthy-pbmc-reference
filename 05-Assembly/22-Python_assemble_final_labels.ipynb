{
 "cells": [
  {
   "cell_type": "markdown",
   "id": "999375f9-223e-4322-940e-5bdbb8bdf704",
   "metadata": {},
   "source": [
    "## Assemble final labels\n",
    "\n",
    "Here, we'll gather all of the cell barcode labels generated for the major classes of PBMCs and generate a single complete set of annotations. We can then join these to the original, full PBMC dataset to generate a final object with all cell type annotations"
   ]
  },
  {
   "cell_type": "code",
   "execution_count": 2,
   "id": "bbc20fa5-b533-4685-874a-97cc7cca1268",
   "metadata": {},
   "outputs": [],
   "source": [
    "import warnings\n",
    "warnings.simplefilter(action='ignore', category=FutureWarning)\n",
    "warnings.simplefilter(action='ignore', category=RuntimeWarning)\n",
    "\n",
    "from datetime import date\n",
    "import hisepy\n",
    "import os\n",
    "import pandas as pd\n",
    "import scanpy as sc"
   ]
  },
  {
   "cell_type": "code",
   "execution_count": 3,
   "id": "b737940c-95af-40a6-84d4-db3afcca7788",
   "metadata": {},
   "outputs": [],
   "source": [
    "def read_adata_uuid(h5ad_uuid):\n",
    "    h5ad_path = '/home/jupyter/cache/{u}'.format(u = h5ad_uuid)\n",
    "    if not os.path.isdir(h5ad_path):\n",
    "        hise_res = hisepy.reader.cache_files([h5ad_uuid])\n",
    "    h5ad_filename = os.listdir(h5ad_path)[0]\n",
    "    h5ad_file = '{p}/{f}'.format(p = h5ad_path, f = h5ad_filename)\n",
    "    adata = sc.read_h5ad(h5ad_file, backed = 'r')\n",
    "    return adata"
   ]
  },
  {
   "cell_type": "markdown",
   "id": "70bbb25f-6703-439d-98ba-6fd885babb4a",
   "metadata": {},
   "source": [
    "## Read original clustered data"
   ]
  },
  {
   "cell_type": "code",
   "execution_count": 4,
   "id": "d9c3139b-631a-4c09-9f7a-fcf84b2c9433",
   "metadata": {},
   "outputs": [],
   "source": [
    "h5ad_uuid = '9db48bed-cd91-49ae-abd2-447ae478ca96'"
   ]
  },
  {
   "cell_type": "code",
   "execution_count": null,
   "id": "b586aa5b-21df-49f1-9a4e-8fe617960bd9",
   "metadata": {},
   "outputs": [
    {
     "name": "stdout",
     "output_type": "stream",
     "text": [
      "downloading fileID: 9db48bed-cd91-49ae-abd2-447ae478ca96\n"
     ]
    }
   ],
   "source": [
    "adata = read_adata_uuid(h5ad_uuid)"
   ]
  },
  {
   "cell_type": "code",
   "execution_count": null,
   "id": "f024f91c-aea2-4d2e-bc08-724b6dcbec3b",
   "metadata": {},
   "outputs": [],
   "source": []
  }
 ],
 "metadata": {
  "kernelspec": {
   "display_name": "Python 3 (ipykernel)",
   "language": "python",
   "name": "python3"
  },
  "language_info": {
   "codemirror_mode": {
    "name": "ipython",
    "version": 3
   },
   "file_extension": ".py",
   "mimetype": "text/x-python",
   "name": "python",
   "nbconvert_exporter": "python",
   "pygments_lexer": "ipython3",
   "version": "3.10.13"
  }
 },
 "nbformat": 4,
 "nbformat_minor": 5
}
