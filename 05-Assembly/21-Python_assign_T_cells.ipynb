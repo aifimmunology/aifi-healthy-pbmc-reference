{
 "cells": [
  {
   "cell_type": "markdown",
   "id": "948a5ead-193e-4ee4-a645-2b84d1c90ffd",
   "metadata": {},
   "source": [
    "# Assign T cell annotations\n",
    "\n",
    "To assemble our annotations, we'll read our clustered T cell data and assign our expert annotations to those clusters. We'll then inspect the annotations in our UMAP projections, and output final labels for these cells.\n",
    "\n",
    "For T cells, we have multiple groups of cells to label. We clustered all T cells, then subset cell types for additional resolution. So, we'll load these sets, remove the subsets from the rest of the T cells, assign identities based on clusters in each, and finally concatenate all of the cell barcodes."
   ]
  },
  {
   "cell_type": "code",
   "execution_count": 1,
   "id": "639083b0-a0d8-435d-a057-36a2dd07c469",
   "metadata": {},
   "outputs": [],
   "source": [
    "import warnings\n",
    "warnings.simplefilter(action='ignore', category=FutureWarning)\n",
    "warnings.simplefilter(action='ignore', category=RuntimeWarning)\n",
    "\n",
    "from datetime import date\n",
    "import hisepy\n",
    "import os\n",
    "import pandas as pd\n",
    "import scanpy as sc"
   ]
  },
  {
   "cell_type": "markdown",
   "id": "fe65dd23-3edf-4125-b654-c830e41f0c3d",
   "metadata": {},
   "source": [
    "### Helper function\n",
    "\n",
    "These function makes it easy to pull csv and h5ad files stored in HISE as pandas DataFrames"
   ]
  },
  {
   "cell_type": "code",
   "execution_count": 2,
   "id": "8e09d097-9879-4d82-abee-cd8393482dda",
   "metadata": {},
   "outputs": [],
   "source": [
    "def read_csv_uuid(csv_uuid):\n",
    "    csv_path = '/home/jupyter/cache/{u}'.format(u = csv_uuid)\n",
    "    if not os.path.isdir(csv_path):\n",
    "        hise_res = hisepy.reader.cache_files([csv_uuid])\n",
    "    csv_filename = os.listdir(csv_path)[0]\n",
    "    csv_file = '{p}/{f}'.format(p = csv_path, f = csv_filename)\n",
    "    df = pd.read_csv(csv_file, index_col = 0)\n",
    "    return df"
   ]
  },
  {
   "cell_type": "code",
   "execution_count": 3,
   "id": "21451cf8-0f07-42dd-b10b-8856bdcbd444",
   "metadata": {},
   "outputs": [],
   "source": [
    "def read_obs_uuid(h5ad_uuid):\n",
    "    h5ad_path = '/home/jupyter/cache/{u}'.format(u = h5ad_uuid)\n",
    "    if not os.path.isdir(h5ad_path):\n",
    "        hise_res = hisepy.reader.cache_files([h5ad_uuid])\n",
    "    h5ad_filename = os.listdir(h5ad_path)[0]\n",
    "    h5ad_file = '{p}/{f}'.format(p = h5ad_path, f = h5ad_filename)\n",
    "    adata = sc.read_h5ad(h5ad_file, backed = 'r')\n",
    "    obs = adata.obs.copy()\n",
    "    return obs"
   ]
  },
  {
   "cell_type": "markdown",
   "id": "e5c3c0e3-e1f1-408b-9cf9-b986873836a8",
   "metadata": {},
   "source": [
    "## Read subclustering results from HISE"
   ]
  },
  {
   "cell_type": "code",
   "execution_count": 4,
   "id": "b7916b26-3901-4cfe-b463-2820f2af080e",
   "metadata": {},
   "outputs": [],
   "source": [
    "cell_class = 't-cells'"
   ]
  },
  {
   "cell_type": "code",
   "execution_count": 5,
   "id": "541928e6-e72f-471f-9fb4-5be6fea5f7e4",
   "metadata": {},
   "outputs": [],
   "source": [
    "h5ad_uuid = 'd6ebc576-34ea-4394-a569-e35e16f20253'\n",
    "h5ad_path = '/home/jupyter/cache/{u}'.format(u = h5ad_uuid)"
   ]
  },
  {
   "cell_type": "code",
   "execution_count": 6,
   "id": "809abcad-caa3-4a60-911e-3ae60940c85e",
   "metadata": {},
   "outputs": [],
   "source": [
    "if not os.path.isdir(h5ad_path):\n",
    "    hise_res = hisepy.reader.cache_files([h5ad_uuid])"
   ]
  },
  {
   "cell_type": "code",
   "execution_count": 7,
   "id": "1c7e5129-752b-40ea-b99c-cf7a170e02d0",
   "metadata": {},
   "outputs": [],
   "source": [
    "h5ad_filename = os.listdir(h5ad_path)[0]\n",
    "h5ad_file = '{p}/{f}'.format(p = h5ad_path, f = h5ad_filename)"
   ]
  },
  {
   "cell_type": "code",
   "execution_count": 8,
   "id": "f5f6d3c8-93e8-47e6-9f08-aa1b43028cde",
   "metadata": {
    "tags": []
   },
   "outputs": [],
   "source": [
    "adata = sc.read_h5ad(h5ad_file)"
   ]
  },
  {
   "cell_type": "code",
   "execution_count": 9,
   "id": "1dee3aca-03fe-4ccb-b645-96db08592172",
   "metadata": {},
   "outputs": [
    {
     "data": {
      "text/plain": [
       "(1191327, 1487)"
      ]
     },
     "execution_count": 9,
     "metadata": {},
     "output_type": "execute_result"
    }
   ],
   "source": [
    "adata.shape"
   ]
  },
  {
   "cell_type": "markdown",
   "id": "c30c93ab-34d3-4af0-a74c-f92d4c1c2bde",
   "metadata": {},
   "source": [
    "## Read iterative results from hise"
   ]
  },
  {
   "cell_type": "code",
   "execution_count": 24,
   "id": "c44fc769-a295-4e4a-b65b-9a55f4f841db",
   "metadata": {},
   "outputs": [],
   "source": [
    "iter_uuids = {\n",
    "    't-cd4-naive':      '70651e60-282b-4ed0-96f6-414547297232',\n",
    "    't-cd8-mait':       '0f821486-866b-4c08-b0b8-508a5c544547',\n",
    "    't-cd8-cm':         '6c1dff43-ddc5-437b-8e3d-dd5a32553b16',\n",
    "    't-cd8-em':         'b671c53a-2698-41c1-a886-9ab939306716',\n",
    "    'treg':             'bf615641-d907-4daa-b0b7-5280bd86b861',\n",
    "    't-cd8-naive':      '5ae29893-5a77-4081-86d1-523713a237e6',\n",
    "    't-proliferating':  '90a71622-5713-47f7-82e8-18e164ca9454',\n",
    "    't-gd':             '71d79aee-5600-4f3f-a3d1-e3f830e1c0ff',\n",
    "    't-isg-high':       'd33ef147-59db-4fb6-950c-1dd8af242d4f',\n",
    "    't-other':          'bda4fe2f-1d8a-4ec5-9ce7-6bee1a158d7b'\n",
    "}"
   ]
  },
  {
   "cell_type": "code",
   "execution_count": 11,
   "id": "63c11d7e-9ac9-4526-bc65-d761f5e46c42",
   "metadata": {},
   "outputs": [
    {
     "name": "stdout",
     "output_type": "stream",
     "text": [
      "downloading fileID: bf615641-d907-4daa-b0b7-5280bd86b861\n",
      "Files have been successfully downloaded!\n",
      "downloading fileID: 71d79aee-5600-4f3f-a3d1-e3f830e1c0ff\n",
      "Files have been successfully downloaded!\n"
     ]
    }
   ],
   "source": [
    "iter_obs = {}\n",
    "for cell_type, uuid in iter_uuids.items():\n",
    "    obs = read_obs_uuid(uuid)\n",
    "    iter_obs[cell_type] = obs"
   ]
  },
  {
   "cell_type": "markdown",
   "id": "4ecec52f-e46e-40c1-9f56-64b488df7b4a",
   "metadata": {},
   "source": [
    "## Drop gdT cells from non-gdT data\n",
    "\n",
    "For gdT cells subclustering, we included some cells that initially clustered with MAIT, CD8 CM, and CD8 EM cells. Here, we'll identify our gdT cells, then drop the cells that were labeled with gdTs from the other subclustering results so we don't have duplicates."
   ]
  },
  {
   "cell_type": "code",
   "execution_count": 12,
   "id": "cc319dd6-71f8-4995-8e68-21edfc1c5917",
   "metadata": {},
   "outputs": [
    {
     "data": {
      "text/plain": [
       "54113"
      ]
     },
     "execution_count": 12,
     "metadata": {},
     "output_type": "execute_result"
    }
   ],
   "source": [
    "gdt_bc = iter_obs[\"t-gd\"]['barcodes'].tolist()\n",
    "len(gdt_bc)"
   ]
  },
  {
   "cell_type": "code",
   "execution_count": 13,
   "id": "1c4d6a0b-86ec-46a5-ac89-83d75014ca66",
   "metadata": {},
   "outputs": [],
   "source": [
    "drop_set = ['t-cd8-mait', 't-cd8-cm', 't-cd8-em']"
   ]
  },
  {
   "cell_type": "code",
   "execution_count": 14,
   "id": "e559cc0f-9abb-4c8d-b616-9fa18eb8b7dd",
   "metadata": {},
   "outputs": [
    {
     "name": "stdout",
     "output_type": "stream",
     "text": [
      "t-cd8-mait; N Start: 50823; N End: 48084\n",
      "t-cd8-cm; N Start: 43289; N End: 37568\n",
      "t-cd8-em; N Start: 118291; N End: 105726\n"
     ]
    }
   ],
   "source": [
    "for cell_type in drop_set:\n",
    "    obs = iter_obs[cell_type]\n",
    "    n_start = obs.shape[0]\n",
    "    keep_bc = [not x for x in obs['barcodes'].isin(gdt_bc)]\n",
    "    obs = obs[keep_bc]\n",
    "    n_end = obs.shape[0]\n",
    "    print('{c}; N Start: {s}; N End: {e}'.format(c = cell_type, s = str(n_start), e=str(n_end)))\n",
    "    \n",
    "    iter_obs[cell_type] = obs"
   ]
  },
  {
   "cell_type": "markdown",
   "id": "176c9bfe-2ec1-46a3-814c-22937c92b1cd",
   "metadata": {},
   "source": [
    "## Assign labels to cell barcodes\n",
    "\n",
    "Now, we'll join cell type labels from our cluster annotations to our cell barcode-level observations."
   ]
  },
  {
   "cell_type": "code",
   "execution_count": 15,
   "id": "ea43ab8f-655a-4497-951e-03ad1c463cdc",
   "metadata": {},
   "outputs": [],
   "source": [
    "anno_uuids = {\n",
    "    't-cd4-naive':     '68a20596-2a50-426e-a31c-92b7d579be0c',\n",
    "    'treg':            '9e931d2a-4b0e-4392-895d-a1b1ffe494ca',\n",
    "    't-other':         '459d1402-2c4d-4536-9c42-3ecf3c076306',\n",
    "    't-cd8-naive':     '1cf6a489-6a46-46f4-9b13-7cdb73bcc267',\n",
    "    't-cd8-mait':      '814634d6-d39e-4e02-8f66-e5d2be60f7e3',\n",
    "    't-gd':            '4e13eb94-a7ac-44d6-bc3c-a8923033d7f3',\n",
    "    't-proliferating': '3477460e-28c4-483e-a525-70a820b2e3fc',\n",
    "    't-cd8-em':        'd5212382-fe47-4f32-8e2c-cc080427b08b',\n",
    "    't-cd8-cm':        '0cf05843-0ff0-4356-a3de-82ff62912e4e',\n",
    "    't-isg-high':      '51dbac56-a8b1-4296-a199-fd6ac2104b15'\n",
    "}"
   ]
  },
  {
   "cell_type": "code",
   "execution_count": 16,
   "id": "5e1bc2aa-baa7-4660-bb1e-3ad0185769b1",
   "metadata": {},
   "outputs": [
    {
     "name": "stdout",
     "output_type": "stream",
     "text": [
      "downloading fileID: 68a20596-2a50-426e-a31c-92b7d579be0c\n",
      "Files have been successfully downloaded!\n",
      "downloading fileID: 9e931d2a-4b0e-4392-895d-a1b1ffe494ca\n",
      "Files have been successfully downloaded!\n",
      "downloading fileID: 459d1402-2c4d-4536-9c42-3ecf3c076306\n",
      "Files have been successfully downloaded!\n",
      "downloading fileID: 1cf6a489-6a46-46f4-9b13-7cdb73bcc267\n",
      "Files have been successfully downloaded!\n",
      "downloading fileID: 814634d6-d39e-4e02-8f66-e5d2be60f7e3\n",
      "Files have been successfully downloaded!\n",
      "downloading fileID: 4e13eb94-a7ac-44d6-bc3c-a8923033d7f3\n",
      "Files have been successfully downloaded!\n",
      "downloading fileID: 3477460e-28c4-483e-a525-70a820b2e3fc\n",
      "Files have been successfully downloaded!\n",
      "downloading fileID: d5212382-fe47-4f32-8e2c-cc080427b08b\n",
      "Files have been successfully downloaded!\n",
      "downloading fileID: 0cf05843-0ff0-4356-a3de-82ff62912e4e\n",
      "Files have been successfully downloaded!\n",
      "downloading fileID: 51dbac56-a8b1-4296-a199-fd6ac2104b15\n",
      "Files have been successfully downloaded!\n"
     ]
    }
   ],
   "source": [
    "iter_anno = {}\n",
    "for cell_type,uuid in anno_uuids.items():\n",
    "    iter_anno[cell_type] = read_csv_uuid(uuid)"
   ]
  },
  {
   "cell_type": "code",
   "execution_count": 17,
   "id": "2ca040f8-5ce7-4dcd-a221-f30e9c0e100d",
   "metadata": {},
   "outputs": [],
   "source": [
    "iter_bc_anno = {}\n",
    "for cell_type,sub_obs in iter_obs.items():\n",
    "    sub_anno = iter_anno[cell_type]\n",
    "    join_col = sub_anno.columns[0]\n",
    "    sub_anno[join_col] = sub_anno[join_col].astype(str).astype('category')\n",
    "    sub_obs = sub_obs.merge(sub_anno, on = join_col, how = 'left')\n",
    "    sub_obs = sub_obs[['barcodes', 'AIFI_L1', 'AIFI_L2', 'AIFI_L3']]\n",
    "    iter_bc_anno[cell_type] = sub_obs"
   ]
  },
  {
   "cell_type": "markdown",
   "id": "c47939aa-fbac-48ce-9b2f-f49aeeb66570",
   "metadata": {},
   "source": [
    "## Assemble all labels"
   ]
  },
  {
   "cell_type": "code",
   "execution_count": 18,
   "id": "91148bc6-6337-486f-9052-61775f57f139",
   "metadata": {},
   "outputs": [],
   "source": [
    "all_anno = pd.concat(iter_bc_anno)"
   ]
  },
  {
   "cell_type": "code",
   "execution_count": 19,
   "id": "77397fdb-901d-4e38-88fc-bd85f3df46a3",
   "metadata": {},
   "outputs": [
    {
     "data": {
      "text/plain": [
       "(1191200, 4)"
      ]
     },
     "execution_count": 19,
     "metadata": {},
     "output_type": "execute_result"
    }
   ],
   "source": [
    "all_anno.shape"
   ]
  },
  {
   "cell_type": "code",
   "execution_count": 20,
   "id": "0a686128-86bc-47e5-92ce-c2f1d655a461",
   "metadata": {},
   "outputs": [
    {
     "data": {
      "text/plain": [
       "(1191327, 1487)"
      ]
     },
     "execution_count": 20,
     "metadata": {},
     "output_type": "execute_result"
    }
   ],
   "source": [
    "adata.shape"
   ]
  },
  {
   "cell_type": "code",
   "execution_count": 25,
   "id": "d78290f8-8700-4786-91af-d3100a28e375",
   "metadata": {},
   "outputs": [],
   "source": [
    "obs = adata.obs\n",
    "missing_obs = obs[[not x for x in adata.obs['barcodes'].isin(all_anno['barcodes'])]]"
   ]
  },
  {
   "cell_type": "code",
   "execution_count": 27,
   "id": "a5a7f5e5-2fe5-417c-8919-aa6645bb8af9",
   "metadata": {},
   "outputs": [
    {
     "data": {
      "text/plain": [
       "leiden_resolution_1.5\n",
       "14    398\n",
       "0       0\n",
       "12      0\n",
       "21      0\n",
       "20      0\n",
       "19      0\n",
       "18      0\n",
       "17      0\n",
       "16      0\n",
       "15      0\n",
       "13      0\n",
       "11      0\n",
       "1       0\n",
       "10      0\n",
       "9       0\n",
       "8       0\n",
       "7       0\n",
       "6       0\n",
       "5       0\n",
       "4       0\n",
       "3       0\n",
       "2       0\n",
       "22      0\n",
       "Name: count, dtype: int64"
      ]
     },
     "execution_count": 27,
     "metadata": {},
     "output_type": "execute_result"
    }
   ],
   "source": [
    "missing_obs['leiden_resolution_1.5'].value_counts()"
   ]
  },
  {
   "cell_type": "markdown",
   "id": "17aa4794-ea1f-4b25-b1ad-5e896fcbfa6a",
   "metadata": {},
   "source": [
    "14 is Tregs"
   ]
  },
  {
   "cell_type": "code",
   "execution_count": 28,
   "id": "9f105e86-ff4b-463a-90ca-8bbf454e0c3d",
   "metadata": {},
   "outputs": [],
   "source": [
    "treg_anno = iter_bc_anno['treg']"
   ]
  },
  {
   "cell_type": "code",
   "execution_count": 30,
   "id": "4b9282c4-a057-4d79-b7ac-2ded1f9efcbc",
   "metadata": {},
   "outputs": [],
   "source": [
    "missing_treg_anno = treg_anno[treg_anno['barcodes'].isin(missing_obs['barcodes'])]"
   ]
  },
  {
   "cell_type": "code",
   "execution_count": 32,
   "id": "ace074c4-3fd1-4c62-8935-382e4002280e",
   "metadata": {},
   "outputs": [
    {
     "data": {
      "text/html": [
       "<div>\n",
       "<style scoped>\n",
       "    .dataframe tbody tr th:only-of-type {\n",
       "        vertical-align: middle;\n",
       "    }\n",
       "\n",
       "    .dataframe tbody tr th {\n",
       "        vertical-align: top;\n",
       "    }\n",
       "\n",
       "    .dataframe thead th {\n",
       "        text-align: right;\n",
       "    }\n",
       "</style>\n",
       "<table border=\"1\" class=\"dataframe\">\n",
       "  <thead>\n",
       "    <tr style=\"text-align: right;\">\n",
       "      <th></th>\n",
       "      <th>barcodes</th>\n",
       "      <th>AIFI_L1</th>\n",
       "      <th>AIFI_L2</th>\n",
       "      <th>AIFI_L3</th>\n",
       "    </tr>\n",
       "  </thead>\n",
       "  <tbody>\n",
       "  </tbody>\n",
       "</table>\n",
       "</div>"
      ],
      "text/plain": [
       "Empty DataFrame\n",
       "Columns: [barcodes, AIFI_L1, AIFI_L2, AIFI_L3]\n",
       "Index: []"
      ]
     },
     "execution_count": 32,
     "metadata": {},
     "output_type": "execute_result"
    }
   ],
   "source": [
    "missing_treg_anno.head()"
   ]
  },
  {
   "cell_type": "code",
   "execution_count": 23,
   "id": "85f6e2a2-67ee-4660-9c77-d7d4bf140e83",
   "metadata": {},
   "outputs": [
    {
     "data": {
      "text/plain": [
       "1190929"
      ]
     },
     "execution_count": 23,
     "metadata": {},
     "output_type": "execute_result"
    }
   ],
   "source": [
    "sum(adata.obs['barcodes'].isin(all_anno['barcodes']))"
   ]
  },
  {
   "cell_type": "markdown",
   "id": "64519f17-6bb7-4b12-bfb3-ccf3797c3bb4",
   "metadata": {},
   "source": [
    "## Add to AnnData to preview assignments"
   ]
  },
  {
   "cell_type": "code",
   "execution_count": 21,
   "id": "5c2d9398-7097-4a5b-a6fc-b5d816f92223",
   "metadata": {},
   "outputs": [],
   "source": [
    "obs = adata.obs\n",
    "obs = obs.reset_index(drop = True)\n",
    "obs = obs.merge(all_anno, on = 'barcodes', how = 'left')\n",
    "obs = obs.set_index('barcodes', drop = True)"
   ]
  },
  {
   "cell_type": "code",
   "execution_count": 22,
   "id": "671c3a22-2cdd-446a-badd-9ca86e12a2c5",
   "metadata": {},
   "outputs": [
    {
     "ename": "ValueError",
     "evalue": "Length of passed value for obs_names is 1191598, but this AnnData has shape: (1191327, 1487)",
     "output_type": "error",
     "traceback": [
      "\u001b[0;31m---------------------------------------------------------------------------\u001b[0m",
      "\u001b[0;31mValueError\u001b[0m                                Traceback (most recent call last)",
      "Cell \u001b[0;32mIn[22], line 1\u001b[0m\n\u001b[0;32m----> 1\u001b[0m \u001b[43madata\u001b[49m\u001b[38;5;241;43m.\u001b[39;49m\u001b[43mobs\u001b[49m \u001b[38;5;241m=\u001b[39m obs\n",
      "File \u001b[0;32m/opt/conda/lib/python3.10/site-packages/anndata/_core/anndata.py:911\u001b[0m, in \u001b[0;36mAnnData.obs\u001b[0;34m(self, value)\u001b[0m\n\u001b[1;32m    909\u001b[0m \u001b[38;5;129m@obs\u001b[39m\u001b[38;5;241m.\u001b[39msetter\n\u001b[1;32m    910\u001b[0m \u001b[38;5;28;01mdef\u001b[39;00m \u001b[38;5;21mobs\u001b[39m(\u001b[38;5;28mself\u001b[39m, value: pd\u001b[38;5;241m.\u001b[39mDataFrame):\n\u001b[0;32m--> 911\u001b[0m     \u001b[38;5;28;43mself\u001b[39;49m\u001b[38;5;241;43m.\u001b[39;49m\u001b[43m_set_dim_df\u001b[49m\u001b[43m(\u001b[49m\u001b[43mvalue\u001b[49m\u001b[43m,\u001b[49m\u001b[43m \u001b[49m\u001b[38;5;124;43m\"\u001b[39;49m\u001b[38;5;124;43mobs\u001b[39;49m\u001b[38;5;124;43m\"\u001b[39;49m\u001b[43m)\u001b[49m\n",
      "File \u001b[0;32m/opt/conda/lib/python3.10/site-packages/anndata/_core/anndata.py:850\u001b[0m, in \u001b[0;36mAnnData._set_dim_df\u001b[0;34m(self, value, attr)\u001b[0m\n\u001b[1;32m    848\u001b[0m \u001b[38;5;28;01mif\u001b[39;00m \u001b[38;5;129;01mnot\u001b[39;00m \u001b[38;5;28misinstance\u001b[39m(value, pd\u001b[38;5;241m.\u001b[39mDataFrame):\n\u001b[1;32m    849\u001b[0m     \u001b[38;5;28;01mraise\u001b[39;00m \u001b[38;5;167;01mValueError\u001b[39;00m(\u001b[38;5;124mf\u001b[39m\u001b[38;5;124m\"\u001b[39m\u001b[38;5;124mCan only assign pd.DataFrame to \u001b[39m\u001b[38;5;132;01m{\u001b[39;00mattr\u001b[38;5;132;01m}\u001b[39;00m\u001b[38;5;124m.\u001b[39m\u001b[38;5;124m\"\u001b[39m)\n\u001b[0;32m--> 850\u001b[0m value_idx \u001b[38;5;241m=\u001b[39m \u001b[38;5;28;43mself\u001b[39;49m\u001b[38;5;241;43m.\u001b[39;49m\u001b[43m_prep_dim_index\u001b[49m\u001b[43m(\u001b[49m\u001b[43mvalue\u001b[49m\u001b[38;5;241;43m.\u001b[39;49m\u001b[43mindex\u001b[49m\u001b[43m,\u001b[49m\u001b[43m \u001b[49m\u001b[43mattr\u001b[49m\u001b[43m)\u001b[49m\n\u001b[1;32m    851\u001b[0m \u001b[38;5;28;01mif\u001b[39;00m \u001b[38;5;28mself\u001b[39m\u001b[38;5;241m.\u001b[39mis_view:\n\u001b[1;32m    852\u001b[0m     \u001b[38;5;28mself\u001b[39m\u001b[38;5;241m.\u001b[39m_init_as_actual(\u001b[38;5;28mself\u001b[39m\u001b[38;5;241m.\u001b[39mcopy())\n",
      "File \u001b[0;32m/opt/conda/lib/python3.10/site-packages/anndata/_core/anndata.py:864\u001b[0m, in \u001b[0;36mAnnData._prep_dim_index\u001b[0;34m(self, value, attr)\u001b[0m\n\u001b[1;32m    859\u001b[0m \u001b[38;5;250m\u001b[39m\u001b[38;5;124;03m\"\"\"Prepares index to be uses as obs_names or var_names for AnnData object.AssertionError\u001b[39;00m\n\u001b[1;32m    860\u001b[0m \n\u001b[1;32m    861\u001b[0m \u001b[38;5;124;03mIf a pd.Index is passed, this will use a reference, otherwise a new index object is created.\u001b[39;00m\n\u001b[1;32m    862\u001b[0m \u001b[38;5;124;03m\"\"\"\u001b[39;00m\n\u001b[1;32m    863\u001b[0m \u001b[38;5;28;01mif\u001b[39;00m \u001b[38;5;28mself\u001b[39m\u001b[38;5;241m.\u001b[39mshape[attr \u001b[38;5;241m==\u001b[39m \u001b[38;5;124m\"\u001b[39m\u001b[38;5;124mvar\u001b[39m\u001b[38;5;124m\"\u001b[39m] \u001b[38;5;241m!=\u001b[39m \u001b[38;5;28mlen\u001b[39m(value):\n\u001b[0;32m--> 864\u001b[0m     \u001b[38;5;28;01mraise\u001b[39;00m \u001b[38;5;167;01mValueError\u001b[39;00m(\n\u001b[1;32m    865\u001b[0m         \u001b[38;5;124mf\u001b[39m\u001b[38;5;124m\"\u001b[39m\u001b[38;5;124mLength of passed value for \u001b[39m\u001b[38;5;132;01m{\u001b[39;00mattr\u001b[38;5;132;01m}\u001b[39;00m\u001b[38;5;124m_names is \u001b[39m\u001b[38;5;132;01m{\u001b[39;00m\u001b[38;5;28mlen\u001b[39m(value)\u001b[38;5;132;01m}\u001b[39;00m\u001b[38;5;124m, but this AnnData has shape: \u001b[39m\u001b[38;5;132;01m{\u001b[39;00m\u001b[38;5;28mself\u001b[39m\u001b[38;5;241m.\u001b[39mshape\u001b[38;5;132;01m}\u001b[39;00m\u001b[38;5;124m\"\u001b[39m\n\u001b[1;32m    866\u001b[0m     )\n\u001b[1;32m    867\u001b[0m \u001b[38;5;28;01mif\u001b[39;00m \u001b[38;5;28misinstance\u001b[39m(value, pd\u001b[38;5;241m.\u001b[39mIndex) \u001b[38;5;129;01mand\u001b[39;00m \u001b[38;5;129;01mnot\u001b[39;00m \u001b[38;5;28misinstance\u001b[39m(\n\u001b[1;32m    868\u001b[0m     value\u001b[38;5;241m.\u001b[39mname, (\u001b[38;5;28mstr\u001b[39m, \u001b[38;5;28mtype\u001b[39m(\u001b[38;5;28;01mNone\u001b[39;00m))\n\u001b[1;32m    869\u001b[0m ):\n\u001b[1;32m    870\u001b[0m     \u001b[38;5;28;01mraise\u001b[39;00m \u001b[38;5;167;01mValueError\u001b[39;00m(\n\u001b[1;32m    871\u001b[0m         \u001b[38;5;124mf\u001b[39m\u001b[38;5;124m\"\u001b[39m\u001b[38;5;124mAnnData expects .\u001b[39m\u001b[38;5;132;01m{\u001b[39;00mattr\u001b[38;5;132;01m}\u001b[39;00m\u001b[38;5;124m.index.name to be a string or None, \u001b[39m\u001b[38;5;124m\"\u001b[39m\n\u001b[1;32m    872\u001b[0m         \u001b[38;5;124mf\u001b[39m\u001b[38;5;124m\"\u001b[39m\u001b[38;5;124mbut you passed a name of type \u001b[39m\u001b[38;5;132;01m{\u001b[39;00m\u001b[38;5;28mtype\u001b[39m(value\u001b[38;5;241m.\u001b[39mname)\u001b[38;5;241m.\u001b[39m\u001b[38;5;18m__name__\u001b[39m\u001b[38;5;132;01m!r}\u001b[39;00m\u001b[38;5;124m\"\u001b[39m\n\u001b[1;32m    873\u001b[0m     )\n",
      "\u001b[0;31mValueError\u001b[0m: Length of passed value for obs_names is 1191598, but this AnnData has shape: (1191327, 1487)"
     ]
    }
   ],
   "source": [
    "adata.obs = obs"
   ]
  },
  {
   "cell_type": "code",
   "execution_count": null,
   "id": "6b91fc5a-ea22-4d36-b5e4-d39d81abfee6",
   "metadata": {},
   "outputs": [],
   "source": [
    "sc.pl.umap(adata, color = ['AIFI_L1', 'AIFI_L2', 'AIFI_L3'], ncols = 1)"
   ]
  },
  {
   "cell_type": "code",
   "execution_count": null,
   "id": "4357f1e2-cd73-4ee5-83a9-8d6842ca9df9",
   "metadata": {},
   "outputs": [],
   "source": [
    "sc.pl.umap(adata, \n",
    "           color = ['leiden_resolution_1',\n",
    "                    'leiden_resolution_1.5',\n",
    "                    'leiden_resolution_2'],\n",
    "           ncols = 1)"
   ]
  },
  {
   "cell_type": "markdown",
   "id": "401284a9-8f51-448d-994c-0dc104ea8fc2",
   "metadata": {},
   "source": [
    "## Output final annotations"
   ]
  },
  {
   "cell_type": "code",
   "execution_count": null,
   "id": "a97e85b9-080b-412a-ac46-07db95805f6a",
   "metadata": {},
   "outputs": [],
   "source": [
    "obs = adata.obs\n",
    "obs = obs.reset_index(drop = False)"
   ]
  },
  {
   "cell_type": "code",
   "execution_count": null,
   "id": "eba2e117-0340-4409-a67e-d5aab87ca4c5",
   "metadata": {},
   "outputs": [],
   "source": [
    "umap_mat = adata.obsm['X_umap']\n",
    "umap_df = pd.DataFrame(umap_mat, columns = ['umap_1', 'umap_2'])\n",
    "obs['umap_1'] = umap_df['umap_1']\n",
    "obs['umap_2'] = umap_df['umap_2']"
   ]
  },
  {
   "cell_type": "code",
   "execution_count": null,
   "id": "13da9883-931a-43b5-a356-f8a10916282b",
   "metadata": {},
   "outputs": [],
   "source": [
    "obs.head()"
   ]
  },
  {
   "cell_type": "code",
   "execution_count": null,
   "id": "884242b0-f02b-4fb3-8800-0760d4126193",
   "metadata": {
    "tags": []
   },
   "outputs": [],
   "source": [
    "out_dir = 'output'\n",
    "if not os.path.isdir(out_dir):\n",
    "    os.makedirs(out_dir)"
   ]
  },
  {
   "cell_type": "code",
   "execution_count": null,
   "id": "1663e6b1-d218-4136-b164-9e3bc7a6b3f7",
   "metadata": {},
   "outputs": [],
   "source": [
    "obs_out_csv = '{p}/ref_pbmc_{c}_labeled_meta_umap_{d}.csv'.format(p = out_dir, c = cell_class, d = date.today())\n",
    "obs.to_csv(obs_out_csv, index = False)"
   ]
  },
  {
   "cell_type": "code",
   "execution_count": null,
   "id": "463ee904-1354-4702-aa1d-48893764c061",
   "metadata": {},
   "outputs": [],
   "source": [
    "obs_out_parquet = '{p}/ref_pbmc_{c}_labeled_meta_umap_{d}.parquet'.format(p = out_dir, c = cell_class, d = date.today())\n",
    "obs.to_parquet(obs_out_parquet, index = False)"
   ]
  },
  {
   "cell_type": "code",
   "execution_count": null,
   "id": "28a87b3d-ab1c-42e5-b02e-0e86129de4b2",
   "metadata": {},
   "outputs": [],
   "source": [
    "bc_anno = obs[['barcodes', 'AIFI_L1', 'AIFI_L2', 'AIFI_L3']]"
   ]
  },
  {
   "cell_type": "code",
   "execution_count": null,
   "id": "8f907ff2-14af-4348-ac18-07793b7f2a76",
   "metadata": {},
   "outputs": [],
   "source": [
    "label_out_csv = '{p}/ref_pbmc_{c}_barcode_labels_{d}.csv'.format(p = out_dir, c = cell_class, d = date.today())\n",
    "bc_anno.to_csv(label_out_csv, index = False)"
   ]
  },
  {
   "cell_type": "code",
   "execution_count": null,
   "id": "1d7eadb1-41e6-49bb-aeca-e5478548b2b4",
   "metadata": {},
   "outputs": [],
   "source": [
    "label_out_parquet = '{p}/ref_pbmc_{c}_barcode_labels_{d}.parquet'.format(p = out_dir, c = cell_class, d = date.today())\n",
    "bc_anno.to_parquet(label_out_parquet, index = False)"
   ]
  },
  {
   "cell_type": "markdown",
   "id": "8ed8c879-35af-4998-8f6e-cf6033a83781",
   "metadata": {},
   "source": [
    "## Upload annotations to HISE\n",
    "\n",
    "Finally, we'll use `hisepy.upload.upload_files()` to send a copy of our output to HISE to use for downstream analysis steps."
   ]
  },
  {
   "cell_type": "code",
   "execution_count": null,
   "id": "29ef5a8d-44c9-4d7d-84a5-a70ec1ba2e09",
   "metadata": {},
   "outputs": [],
   "source": [
    "study_space_uuid = '64097865-486d-43b3-8f94-74994e0a72e0'\n",
    "title = 'T cell barcode annotations {d}'.format(d = date.today())"
   ]
  },
  {
   "cell_type": "code",
   "execution_count": null,
   "id": "e8d21c09-9500-46a5-a9ae-f9505d74b28d",
   "metadata": {},
   "outputs": [],
   "source": [
    "iter_h5ad_uuids = list(iter_uuids.values())\n",
    "iter_anno_uuids = list(anno_uuids.values())"
   ]
  },
  {
   "cell_type": "code",
   "execution_count": null,
   "id": "a48277c1-5e9c-428b-9c45-02cb1826271e",
   "metadata": {},
   "outputs": [],
   "source": [
    "in_files = [h5ad_uuid] + iter_h5ad_uuids + iter_anno_uuids"
   ]
  },
  {
   "cell_type": "code",
   "execution_count": null,
   "id": "b8e9833c-4af0-4e71-a229-e03e55289763",
   "metadata": {},
   "outputs": [],
   "source": [
    "in_files"
   ]
  },
  {
   "cell_type": "markdown",
   "id": "b9d80f03-9cb1-4a5f-a7ab-fd926c40bcc3",
   "metadata": {},
   "source": [
    "We should have 10 h5ad's and 10 annotations"
   ]
  },
  {
   "cell_type": "code",
   "execution_count": null,
   "id": "a8a30547-8ee9-49f1-8ac9-e0cb7470c83c",
   "metadata": {},
   "outputs": [],
   "source": [
    "len(in_files)"
   ]
  },
  {
   "cell_type": "code",
   "execution_count": null,
   "id": "05df9da4-25fb-4587-accd-8e8a9e420aeb",
   "metadata": {},
   "outputs": [],
   "source": [
    "out_files = [obs_out_csv, obs_out_parquet,\n",
    "             label_out_csv, label_out_parquet]"
   ]
  },
  {
   "cell_type": "code",
   "execution_count": null,
   "id": "25c8b063-f7cd-4a06-a5c0-b5d70c57a68b",
   "metadata": {},
   "outputs": [],
   "source": [
    "out_files"
   ]
  },
  {
   "cell_type": "code",
   "execution_count": null,
   "id": "734292a9-f6ee-4f62-b012-d9be045965e3",
   "metadata": {},
   "outputs": [],
   "source": [
    "hisepy.upload.upload_files(\n",
    "    files = out_files,\n",
    "    study_space_id = study_space_uuid,\n",
    "    title = title,\n",
    "    input_file_ids = in_files\n",
    ")"
   ]
  },
  {
   "cell_type": "code",
   "execution_count": null,
   "id": "03fb8e33-f8fb-4e30-92f9-a1dd3a62e3c3",
   "metadata": {},
   "outputs": [],
   "source": [
    "import session_info\n",
    "session_info.show()"
   ]
  },
  {
   "cell_type": "code",
   "execution_count": null,
   "id": "b48ae400-e3a2-4aa3-a733-00b69becba35",
   "metadata": {},
   "outputs": [],
   "source": []
  }
 ],
 "metadata": {
  "kernelspec": {
   "display_name": "Python 3 (ipykernel)",
   "language": "python",
   "name": "python3"
  },
  "language_info": {
   "codemirror_mode": {
    "name": "ipython",
    "version": 3
   },
   "file_extension": ".py",
   "mimetype": "text/x-python",
   "name": "python",
   "nbconvert_exporter": "python",
   "pygments_lexer": "ipython3",
   "version": "3.10.13"
  }
 },
 "nbformat": 4,
 "nbformat_minor": 5
}
