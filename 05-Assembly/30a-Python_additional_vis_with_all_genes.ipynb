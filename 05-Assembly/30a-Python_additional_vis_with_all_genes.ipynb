{
 "cells": [
  {
   "cell_type": "markdown",
   "id": "27a943af-7b56-498f-b9a9-a3927dc1475c",
   "metadata": {},
   "source": [
    "# Normalize all genes for additional visualization\n",
    "\n",
    "In the previous notebook, we generated updated projection coordinates for our atlas dataset. Here, we retrieve the .h5ad object with those coordinates and generate a version that has all gene expression normalized, instead of only the subset of highly variable genes. This will help with display of arbitrary gene expression in our UMAP plot viewer.\n",
    "\n",
    "We'll also generate a stripped-down, counts-only version for use in cases when we need to save space."
   ]
  },
  {
   "cell_type": "markdown",
   "id": "f385e9e0-0b81-497a-9510-e67adf8bf3a9",
   "metadata": {},
   "source": [
    "## Load packages"
   ]
  },
  {
   "cell_type": "code",
   "execution_count": 1,
   "id": "292ea419-4f62-4272-bc59-625a75c9d93e",
   "metadata": {},
   "outputs": [],
   "source": [
    "from datetime import date\n",
    "import hisepy\n",
    "import os\n",
    "import scanpy as sc\n",
    "import sys"
   ]
  },
  {
   "cell_type": "code",
   "execution_count": 2,
   "id": "29d05409-9071-4ec2-bc2c-3815e64aa800",
   "metadata": {
    "tags": []
   },
   "outputs": [],
   "source": [
    "out_dir = 'output'\n",
    "if not os.path.isdir(out_dir):\n",
    "    os.makedirs(out_dir)"
   ]
  },
  {
   "cell_type": "markdown",
   "id": "eac0e08b-83bd-491d-9196-79f07efc911f",
   "metadata": {},
   "source": [
    "## Helper functions"
   ]
  },
  {
   "cell_type": "code",
   "execution_count": 3,
   "id": "83a91b33-7cf9-44e8-bc2d-4e2873615480",
   "metadata": {},
   "outputs": [],
   "source": [
    "def read_adata_uuid(h5ad_uuid):\n",
    "    h5ad_path = '/home/jupyter/cache/{u}'.format(u = h5ad_uuid)\n",
    "    if not os.path.isdir(h5ad_path):\n",
    "        hise_res = hisepy.reader.cache_files([h5ad_uuid])\n",
    "    h5ad_filename = os.listdir(h5ad_path)[0]\n",
    "    h5ad_file = '{p}/{f}'.format(p = h5ad_path, f = h5ad_filename)\n",
    "    adata = sc.read_h5ad(h5ad_file)\n",
    "    return adata"
   ]
  },
  {
   "cell_type": "code",
   "execution_count": 4,
   "id": "68faa00e-4693-4550-9237-3aee0125e5aa",
   "metadata": {},
   "outputs": [],
   "source": [
    "def element_id(n = 3):\n",
    "    import periodictable\n",
    "    from random import randrange\n",
    "    rand_el = []\n",
    "    for i in range(n):\n",
    "        el = randrange(0,118)\n",
    "        rand_el.append(periodictable.elements[el].name)\n",
    "    rand_str = '-'.join(rand_el)\n",
    "    return rand_str"
   ]
  },
  {
   "cell_type": "markdown",
   "id": "c3e5f048-0939-4552-a0a4-d731f4130513",
   "metadata": {},
   "source": [
    "## Retrieve previous results from HISE"
   ]
  },
  {
   "cell_type": "code",
   "execution_count": 5,
   "id": "98457e1a-5680-4400-b3e3-8955d7c058bb",
   "metadata": {},
   "outputs": [],
   "source": [
    "h5ad_uuid = '0625f92b-cce2-4f70-bc65-707840496818'"
   ]
  },
  {
   "cell_type": "code",
   "execution_count": 6,
   "id": "08b9fe6d-7bee-4322-a265-cf692945f7c1",
   "metadata": {},
   "outputs": [],
   "source": [
    "adata = read_adata_uuid(h5ad_uuid)"
   ]
  },
  {
   "cell_type": "markdown",
   "id": "9351e145-d562-48c6-a3c3-dd8372758fdb",
   "metadata": {},
   "source": [
    "## Raw counts only"
   ]
  },
  {
   "cell_type": "code",
   "execution_count": 7,
   "id": "87378b0c-530f-44d3-b301-12b4104823d6",
   "metadata": {},
   "outputs": [],
   "source": [
    "adata = read_adata_uuid(h5ad_uuid)"
   ]
  },
  {
   "cell_type": "code",
   "execution_count": 8,
   "id": "d84793a0-dde3-4d26-8ea5-5f89697d48ac",
   "metadata": {},
   "outputs": [],
   "source": [
    "adata = adata.raw.to_adata()"
   ]
  },
  {
   "cell_type": "code",
   "execution_count": 9,
   "id": "49280848-3f32-43b1-8d29-db1eaf01eb96",
   "metadata": {},
   "outputs": [
    {
     "data": {
      "text/plain": [
       "(1823666, 33538)"
      ]
     },
     "execution_count": 9,
     "metadata": {},
     "output_type": "execute_result"
    }
   ],
   "source": [
    "adata.shape"
   ]
  },
  {
   "cell_type": "markdown",
   "id": "e68f5cda-2576-492c-9939-d1e8cdb29113",
   "metadata": {},
   "source": [
    "## Save raw count .h5ad file"
   ]
  },
  {
   "cell_type": "code",
   "execution_count": 11,
   "id": "dac6ee22-cb37-471a-8f57-f20f95662110",
   "metadata": {},
   "outputs": [],
   "source": [
    "out_raw = 'output/ref_clean_pbmc_raw_{d}.h5ad'.format(d = date.today())\n",
    "adata.write_h5ad(out_raw)"
   ]
  },
  {
   "cell_type": "markdown",
   "id": "4693f248-99fc-498a-8b91-20ecdf560137",
   "metadata": {},
   "source": [
    "## Normalize all genes"
   ]
  },
  {
   "cell_type": "code",
   "execution_count": 12,
   "id": "7970798d-9944-430f-aad3-d35f9e24478a",
   "metadata": {},
   "outputs": [
    {
     "name": "stdout",
     "output_type": "stream",
     "text": [
      "WARNING: adata.X seems to be already log-transformed.\n"
     ]
    }
   ],
   "source": [
    "sc.pp.normalize_total(adata)\n",
    "sc.pp.log1p(adata)"
   ]
  },
  {
   "cell_type": "code",
   "execution_count": 13,
   "id": "ee35d487-1874-4f9f-aecb-23122454f430",
   "metadata": {},
   "outputs": [
    {
     "data": {
      "text/plain": [
       "(1823666, 33538)"
      ]
     },
     "execution_count": 13,
     "metadata": {},
     "output_type": "execute_result"
    }
   ],
   "source": [
    "adata.shape"
   ]
  },
  {
   "cell_type": "markdown",
   "id": "d18977ff-2bb1-4296-93ef-7336e94b6ab3",
   "metadata": {},
   "source": [
    "## Save normalized .h5ad file"
   ]
  },
  {
   "cell_type": "code",
   "execution_count": 14,
   "id": "c055978d-b65b-4000-86aa-de23d433361b",
   "metadata": {},
   "outputs": [],
   "source": [
    "out_norm = 'output/ref_clean_pbmc_all_genes_norm_{d}.h5ad'.format(d = date.today())\n",
    "adata.write_h5ad(out_norm)"
   ]
  },
  {
   "cell_type": "markdown",
   "id": "1e7c867c-a372-4f71-9a5b-7eb62de54823",
   "metadata": {},
   "source": [
    "## Deposit updated results in HISE"
   ]
  },
  {
   "cell_type": "code",
   "execution_count": 15,
   "id": "00edfd1f-3823-48b6-bf72-8460afd44fc2",
   "metadata": {},
   "outputs": [],
   "source": [
    "study_space_uuid = '64097865-486d-43b3-8f94-74994e0a72e0'\n",
    "title = '10x 3-prime PBMC Ref with UMAP and All Genes {d}'.format(d = date.today())"
   ]
  },
  {
   "cell_type": "code",
   "execution_count": 16,
   "id": "f13b59e7-e437-495a-a88e-3e2a127412f3",
   "metadata": {},
   "outputs": [
    {
     "data": {
      "text/plain": [
       "'moscovium-plutonium-roentgenium'"
      ]
     },
     "execution_count": 16,
     "metadata": {},
     "output_type": "execute_result"
    }
   ],
   "source": [
    "search_id = element_id()\n",
    "search_id"
   ]
  },
  {
   "cell_type": "code",
   "execution_count": 17,
   "id": "baa00b68-155e-4ea3-850b-36bb534a1c11",
   "metadata": {},
   "outputs": [],
   "source": [
    "in_files = [h5ad_uuid]"
   ]
  },
  {
   "cell_type": "code",
   "execution_count": 18,
   "id": "8039b065-9c5d-452c-9315-69556c9f1fd4",
   "metadata": {},
   "outputs": [
    {
     "data": {
      "text/plain": [
       "['0625f92b-cce2-4f70-bc65-707840496818']"
      ]
     },
     "execution_count": 18,
     "metadata": {},
     "output_type": "execute_result"
    }
   ],
   "source": [
    "in_files"
   ]
  },
  {
   "cell_type": "code",
   "execution_count": 20,
   "id": "b0c5727f-f7d3-4c3d-bdd9-22b3a8336116",
   "metadata": {},
   "outputs": [
    {
     "data": {
      "text/plain": [
       "['output/ref_clean_pbmc_raw_2024-04-11.h5ad',\n",
       " 'output/ref_clean_pbmc_all_genes_norm_2024-04-11.h5ad']"
      ]
     },
     "execution_count": 20,
     "metadata": {},
     "output_type": "execute_result"
    }
   ],
   "source": [
    "out_files = [out_raw, out_norm]\n",
    "out_files"
   ]
  },
  {
   "cell_type": "code",
   "execution_count": 21,
   "id": "ea3b95f9-412b-44cd-a882-00e419661c87",
   "metadata": {},
   "outputs": [
    {
     "name": "stdout",
     "output_type": "stream",
     "text": [
      "output/ref_clean_pbmc_raw_2024-04-11.h5ad\n",
      "output/ref_clean_pbmc_all_genes_norm_2024-04-11.h5ad\n",
      "you are trying to upload file_ids... ['output/ref_clean_pbmc_raw_2024-04-11.h5ad', 'output/ref_clean_pbmc_all_genes_norm_2024-04-11.h5ad']. Do you truly want to proceed?\n"
     ]
    },
    {
     "name": "stdin",
     "output_type": "stream",
     "text": [
      "(y/n) y\n"
     ]
    },
    {
     "data": {
      "text/plain": [
       "{'trace_id': '4fe77990-4f2b-499e-8647-488ce04488ae',\n",
       " 'files': ['output/ref_clean_pbmc_raw_2024-04-11.h5ad',\n",
       "  'output/ref_clean_pbmc_all_genes_norm_2024-04-11.h5ad']}"
      ]
     },
     "execution_count": 21,
     "metadata": {},
     "output_type": "execute_result"
    }
   ],
   "source": [
    "hisepy.upload.upload_files(\n",
    "    files = out_files,\n",
    "    study_space_id = study_space_uuid,\n",
    "    title = title,\n",
    "    input_file_ids = in_files,\n",
    "    destination = search_id\n",
    ")"
   ]
  },
  {
   "cell_type": "code",
   "execution_count": 22,
   "id": "e2b97243-70be-4b88-956c-4e001e764ef9",
   "metadata": {},
   "outputs": [
    {
     "data": {
      "text/html": [
       "<details>\n",
       "<summary>Click to view session information</summary>\n",
       "<pre>\n",
       "-----\n",
       "anndata             0.10.3\n",
       "hisepy              0.3.0\n",
       "scanpy              1.9.6\n",
       "session_info        1.0.0\n",
       "-----\n",
       "</pre>\n",
       "<details>\n",
       "<summary>Click to view modules imported as dependencies</summary>\n",
       "<pre>\n",
       "PIL                         10.0.1\n",
       "anyio                       NA\n",
       "arrow                       1.3.0\n",
       "asttokens                   NA\n",
       "attr                        23.2.0\n",
       "attrs                       23.2.0\n",
       "babel                       2.14.0\n",
       "beatrix_jupyterlab          NA\n",
       "brotli                      NA\n",
       "cachetools                  5.3.1\n",
       "certifi                     2024.02.02\n",
       "cffi                        1.16.0\n",
       "charset_normalizer          3.3.2\n",
       "cloudpickle                 2.2.1\n",
       "colorama                    0.4.6\n",
       "comm                        0.1.4\n",
       "cryptography                41.0.7\n",
       "cycler                      0.10.0\n",
       "cython_runtime              NA\n",
       "dateutil                    2.8.2\n",
       "db_dtypes                   1.1.1\n",
       "debugpy                     1.8.0\n",
       "decorator                   5.1.1\n",
       "defusedxml                  0.7.1\n",
       "deprecated                  1.2.14\n",
       "exceptiongroup              1.2.0\n",
       "executing                   2.0.1\n",
       "fastjsonschema              NA\n",
       "fqdn                        NA\n",
       "google                      NA\n",
       "greenlet                    2.0.2\n",
       "grpc                        1.58.0\n",
       "grpc_status                 NA\n",
       "h5py                        3.10.0\n",
       "idna                        3.6\n",
       "igraph                      0.10.8\n",
       "importlib_metadata          NA\n",
       "ipykernel                   6.28.0\n",
       "ipython_genutils            0.2.0\n",
       "ipywidgets                  8.1.1\n",
       "isoduration                 NA\n",
       "jedi                        0.19.1\n",
       "jinja2                      3.1.2\n",
       "joblib                      1.3.2\n",
       "json5                       NA\n",
       "jsonpointer                 2.4\n",
       "jsonschema                  4.20.0\n",
       "jsonschema_specifications   NA\n",
       "jupyter_events              0.9.0\n",
       "jupyter_server              2.12.1\n",
       "jupyterlab_server           2.25.2\n",
       "jwt                         2.8.0\n",
       "kiwisolver                  1.4.5\n",
       "leidenalg                   0.10.1\n",
       "llvmlite                    0.41.0\n",
       "lz4                         4.3.2\n",
       "markupsafe                  2.1.3\n",
       "matplotlib                  3.8.0\n",
       "matplotlib_inline           0.1.6\n",
       "mpl_toolkits                NA\n",
       "mpmath                      1.3.0\n",
       "natsort                     8.4.0\n",
       "nbformat                    5.9.2\n",
       "numba                       0.58.0\n",
       "numpy                       1.24.0\n",
       "opentelemetry               NA\n",
       "overrides                   NA\n",
       "packaging                   23.2\n",
       "pandas                      2.1.4\n",
       "parso                       0.8.3\n",
       "periodictable               1.5.2\n",
       "pexpect                     4.8.0\n",
       "pickleshare                 0.7.5\n",
       "pkg_resources               NA\n",
       "platformdirs                4.1.0\n",
       "plotly                      5.18.0\n",
       "prettytable                 3.9.0\n",
       "prometheus_client           NA\n",
       "prompt_toolkit              3.0.42\n",
       "proto                       NA\n",
       "psutil                      NA\n",
       "ptyprocess                  0.7.0\n",
       "pure_eval                   0.2.2\n",
       "pyarrow                     13.0.0\n",
       "pydev_ipython               NA\n",
       "pydevconsole                NA\n",
       "pydevd                      2.9.5\n",
       "pydevd_file_utils           NA\n",
       "pydevd_plugins              NA\n",
       "pydevd_tracing              NA\n",
       "pygments                    2.17.2\n",
       "pynvml                      NA\n",
       "pyparsing                   3.1.1\n",
       "pyreadr                     0.5.0\n",
       "pythonjsonlogger            NA\n",
       "pytz                        2023.3.post1\n",
       "referencing                 NA\n",
       "requests                    2.31.0\n",
       "rfc3339_validator           0.1.4\n",
       "rfc3986_validator           0.1.1\n",
       "rpds                        NA\n",
       "scipy                       1.11.4\n",
       "send2trash                  NA\n",
       "shapely                     1.8.5.post1\n",
       "six                         1.16.0\n",
       "sklearn                     1.3.2\n",
       "sniffio                     1.3.0\n",
       "socks                       1.7.1\n",
       "sql                         NA\n",
       "sqlalchemy                  2.0.21\n",
       "sqlparse                    0.4.4\n",
       "stack_data                  0.6.2\n",
       "sympy                       1.12\n",
       "termcolor                   NA\n",
       "texttable                   1.7.0\n",
       "threadpoolctl               3.2.0\n",
       "torch                       2.1.2+cu121\n",
       "torchgen                    NA\n",
       "tornado                     6.3.3\n",
       "tqdm                        4.66.1\n",
       "traitlets                   5.9.0\n",
       "typing_extensions           NA\n",
       "uri_template                NA\n",
       "urllib3                     1.26.18\n",
       "wcwidth                     0.2.12\n",
       "webcolors                   1.13\n",
       "websocket                   1.7.0\n",
       "wrapt                       1.15.0\n",
       "xarray                      2023.12.0\n",
       "yaml                        6.0.1\n",
       "zipp                        NA\n",
       "zmq                         25.1.2\n",
       "zoneinfo                    NA\n",
       "</pre>\n",
       "</details> <!-- seems like this ends pre, so might as well be explicit -->\n",
       "<pre>\n",
       "-----\n",
       "IPython             8.19.0\n",
       "jupyter_client      8.6.0\n",
       "jupyter_core        5.6.1\n",
       "jupyterlab          4.1.2\n",
       "notebook            6.5.4\n",
       "-----\n",
       "Python 3.10.13 | packaged by conda-forge | (main, Dec 23 2023, 15:36:39) [GCC 12.3.0]\n",
       "Linux-5.15.0-1055-gcp-x86_64-with-glibc2.31\n",
       "-----\n",
       "Session information updated at 2024-04-11 03:08\n",
       "</pre>\n",
       "</details>"
      ],
      "text/plain": [
       "<IPython.core.display.HTML object>"
      ]
     },
     "execution_count": 22,
     "metadata": {},
     "output_type": "execute_result"
    }
   ],
   "source": [
    "import session_info\n",
    "session_info.show()"
   ]
  },
  {
   "cell_type": "code",
   "execution_count": null,
   "id": "13be4350-ad20-48d0-a5d1-b9665ada6b80",
   "metadata": {},
   "outputs": [],
   "source": []
  }
 ],
 "metadata": {
  "kernelspec": {
   "display_name": "Python 3 (ipykernel)",
   "language": "python",
   "name": "python3"
  },
  "language_info": {
   "codemirror_mode": {
    "name": "ipython",
    "version": 3
   },
   "file_extension": ".py",
   "mimetype": "text/x-python",
   "name": "python",
   "nbconvert_exporter": "python",
   "pygments_lexer": "ipython3",
   "version": "3.10.13"
  }
 },
 "nbformat": 4,
 "nbformat_minor": 5
}
