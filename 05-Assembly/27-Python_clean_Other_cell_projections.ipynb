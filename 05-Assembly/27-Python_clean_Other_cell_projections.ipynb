{
 "cells": [
  {
   "cell_type": "markdown",
   "id": "cdcd14a8-fcdb-44f8-850c-b31977d096cd",
   "metadata": {},
   "source": [
    "# Generate \"clean\" Other subset\n",
    "\n",
    "In this notebook, we'll read the cleaned PBMC reference dataset, select L1 cell types, and generate subset AnnData objects for each with updated UMAP projections."
   ]
  },
  {
   "cell_type": "code",
   "execution_count": 1,
   "id": "b5100b79-3b5d-47eb-93ab-5ca803a908ef",
   "metadata": {},
   "outputs": [],
   "source": [
    "import warnings\n",
    "warnings.simplefilter(action='ignore', category=FutureWarning)\n",
    "warnings.simplefilter(action='ignore', category=RuntimeWarning)\n",
    "\n",
    "from datetime import date\n",
    "import hisepy\n",
    "import os\n",
    "import pandas as pd\n",
    "import scanpy as sc\n",
    "import scanpy.external as sce"
   ]
  },
  {
   "cell_type": "code",
   "execution_count": 2,
   "id": "38f2dc92-0a9e-4a8b-8898-047e382d453e",
   "metadata": {},
   "outputs": [],
   "source": [
    "def read_adata_uuid(h5ad_uuid):\n",
    "    h5ad_path = '/home/jupyter/cache/{u}'.format(u = h5ad_uuid)\n",
    "    if not os.path.isdir(h5ad_path):\n",
    "        hise_res = hisepy.reader.cache_files([h5ad_uuid])\n",
    "    h5ad_filename = os.listdir(h5ad_path)[0]\n",
    "    h5ad_file = '{p}/{f}'.format(p = h5ad_path, f = h5ad_filename)\n",
    "    adata = sc.read_h5ad(h5ad_file)\n",
    "    return adata"
   ]
  },
  {
   "cell_type": "code",
   "execution_count": 3,
   "id": "87999ee8-0a2f-4db6-9de7-fc2665139d0e",
   "metadata": {
    "tags": []
   },
   "outputs": [],
   "source": [
    "out_dir = 'output'\n",
    "if not os.path.isdir(out_dir):\n",
    "    os.makedirs(out_dir)"
   ]
  },
  {
   "cell_type": "code",
   "execution_count": 4,
   "id": "4417c9b1-4e0b-4578-b1f9-cc235480f1fa",
   "metadata": {},
   "outputs": [],
   "source": [
    "out_files = []"
   ]
  },
  {
   "cell_type": "markdown",
   "id": "fc7c36d3-e329-4d09-ae49-3c58320f6e24",
   "metadata": {},
   "source": [
    "## Read annotated dataset"
   ]
  },
  {
   "cell_type": "code",
   "execution_count": 5,
   "id": "db8e2e74-45cb-4374-a289-d7bc7a4c70f6",
   "metadata": {},
   "outputs": [],
   "source": [
    "h5ad_uuid = '6e8972a5-9463-4230-84b4-a20de055b9c3'"
   ]
  },
  {
   "cell_type": "code",
   "execution_count": 6,
   "id": "f0327d84-c5b3-4a67-b007-edfc9932afb2",
   "metadata": {},
   "outputs": [],
   "source": [
    "adata = read_adata_uuid(h5ad_uuid)"
   ]
  },
  {
   "cell_type": "code",
   "execution_count": 7,
   "id": "d71f1bf1-032b-40d5-9616-aee235d611e5",
   "metadata": {},
   "outputs": [
    {
     "data": {
      "text/plain": [
       "(1823666, 1261)"
      ]
     },
     "execution_count": 7,
     "metadata": {},
     "output_type": "execute_result"
    }
   ],
   "source": [
    "adata.shape"
   ]
  },
  {
   "cell_type": "markdown",
   "id": "f6ab2640-44e1-46df-aead-c63af484d632",
   "metadata": {},
   "source": [
    "## Generate Other cell object"
   ]
  },
  {
   "cell_type": "code",
   "execution_count": 8,
   "id": "0d87d3eb-22ba-4e62-89f9-8e0767eb61ea",
   "metadata": {},
   "outputs": [],
   "source": [
    "cell_class = 'other'\n",
    "keep_labels = ['Erythrocyte', 'Platelet', 'Progenitor cell']"
   ]
  },
  {
   "cell_type": "code",
   "execution_count": 9,
   "id": "6428237c-96d6-4295-b5da-806aa6cc3558",
   "metadata": {},
   "outputs": [
    {
     "data": {
      "text/plain": [
       "(10937, 1261)"
      ]
     },
     "execution_count": 9,
     "metadata": {},
     "output_type": "execute_result"
    }
   ],
   "source": [
    "adata_subset = adata[adata.obs['AIFI_L1'].isin(keep_labels)]\n",
    "adata_subset.shape"
   ]
  },
  {
   "cell_type": "code",
   "execution_count": 10,
   "id": "4b01d211-db10-4c24-86f2-1f3caeac0a42",
   "metadata": {},
   "outputs": [],
   "source": [
    "obs = adata_subset.obs.copy()\n",
    "obs['AIFI_L1'] = obs['AIFI_L1'].cat.remove_unused_categories()\n",
    "obs['AIFI_L2'] = obs['AIFI_L2'].cat.remove_unused_categories()\n",
    "obs['AIFI_L3'] = obs['AIFI_L3'].cat.remove_unused_categories()\n",
    "adata_subset.obs = obs"
   ]
  },
  {
   "cell_type": "markdown",
   "id": "6a21a9fe-8828-4c6e-94dd-f8b3f217b12a",
   "metadata": {},
   "source": [
    "### Re-project within the subset"
   ]
  },
  {
   "cell_type": "code",
   "execution_count": 11,
   "id": "a2802dfe-0613-46cc-9c1b-4d145c664f46",
   "metadata": {
    "tags": []
   },
   "outputs": [],
   "source": [
    "adata_subset = adata_subset.raw.to_adata()"
   ]
  },
  {
   "cell_type": "code",
   "execution_count": 12,
   "id": "6a3cbba1-5776-4d2b-af14-8787df7d3ff0",
   "metadata": {
    "tags": []
   },
   "outputs": [],
   "source": [
    "adata_subset.raw = adata_subset"
   ]
  },
  {
   "cell_type": "code",
   "execution_count": 13,
   "id": "38364962-ad6b-4bc6-8e07-e4f55fae7514",
   "metadata": {
    "tags": []
   },
   "outputs": [],
   "source": [
    "sc.pp.normalize_total(adata_subset, target_sum = 1e4)"
   ]
  },
  {
   "cell_type": "code",
   "execution_count": 14,
   "id": "e26180fb-0aff-49fe-a4b9-520faf9d0e1a",
   "metadata": {
    "tags": []
   },
   "outputs": [
    {
     "name": "stdout",
     "output_type": "stream",
     "text": [
      "WARNING: adata.X seems to be already log-transformed.\n"
     ]
    }
   ],
   "source": [
    "sc.pp.log1p(adata_subset)\n",
    "sc.pp.highly_variable_genes(adata_subset)"
   ]
  },
  {
   "cell_type": "code",
   "execution_count": 15,
   "id": "883a8ed2-bdaa-41ff-a178-56d068297c1b",
   "metadata": {
    "tags": []
   },
   "outputs": [],
   "source": [
    "adata_subset = adata_subset[:, adata_subset.var_names[adata_subset.var['highly_variable']]].copy()"
   ]
  },
  {
   "cell_type": "code",
   "execution_count": 16,
   "id": "16606654-b53b-4195-aced-d3fe2a70de84",
   "metadata": {
    "tags": []
   },
   "outputs": [],
   "source": [
    "sc.pp.scale(adata_subset)"
   ]
  },
  {
   "cell_type": "code",
   "execution_count": 17,
   "id": "9ad167cd-f976-4572-b8c5-5cab9469510d",
   "metadata": {
    "tags": []
   },
   "outputs": [],
   "source": [
    "sc.tl.pca(adata_subset, svd_solver='arpack')"
   ]
  },
  {
   "cell_type": "code",
   "execution_count": 18,
   "id": "d724c4d8-39be-4b78-8dc9-2ff36992849e",
   "metadata": {
    "tags": []
   },
   "outputs": [
    {
     "name": "stderr",
     "output_type": "stream",
     "text": [
      "2024-03-09 22:41:02,652 - harmonypy - INFO - Computing initial centroids with sklearn.KMeans...\n",
      "2024-03-09 22:41:10,076 - harmonypy - INFO - sklearn.KMeans initialization complete.\n",
      "2024-03-09 22:41:10,121 - harmonypy - INFO - Iteration 1 of 30\n",
      "2024-03-09 22:41:13,138 - harmonypy - INFO - Iteration 2 of 30\n",
      "2024-03-09 22:41:16,197 - harmonypy - INFO - Iteration 3 of 30\n",
      "2024-03-09 22:41:19,282 - harmonypy - INFO - Iteration 4 of 30\n",
      "2024-03-09 22:41:20,413 - harmonypy - INFO - Iteration 5 of 30\n",
      "2024-03-09 22:41:21,549 - harmonypy - INFO - Iteration 6 of 30\n",
      "2024-03-09 22:41:22,840 - harmonypy - INFO - Iteration 7 of 30\n",
      "2024-03-09 22:41:24,225 - harmonypy - INFO - Iteration 8 of 30\n",
      "2024-03-09 22:41:27,321 - harmonypy - INFO - Iteration 9 of 30\n",
      "2024-03-09 22:41:28,478 - harmonypy - INFO - Iteration 10 of 30\n",
      "2024-03-09 22:41:29,742 - harmonypy - INFO - Iteration 11 of 30\n",
      "2024-03-09 22:41:30,873 - harmonypy - INFO - Converged after 11 iterations\n"
     ]
    }
   ],
   "source": [
    "sce.pp.harmony_integrate(\n",
    "    adata_subset, \n",
    "    'cohort.cohortGuid',\n",
    "    max_iter_harmony = 30)"
   ]
  },
  {
   "cell_type": "code",
   "execution_count": 19,
   "id": "b138e575-201f-4f45-8361-ec6bb506b7bb",
   "metadata": {
    "tags": []
   },
   "outputs": [],
   "source": [
    "sc.pp.neighbors(\n",
    "    adata_subset, \n",
    "    n_neighbors = 50,\n",
    "    use_rep = 'X_pca_harmony', \n",
    "    n_pcs = 30)"
   ]
  },
  {
   "cell_type": "code",
   "execution_count": 20,
   "id": "83051a28-cffe-4d96-b3ea-b5db7d8771f8",
   "metadata": {
    "tags": []
   },
   "outputs": [],
   "source": [
    "sc.tl.umap(adata_subset, min_dist = 0.05)"
   ]
  },
  {
   "cell_type": "code",
   "execution_count": 21,
   "id": "5c5ab9f0-44d8-4bb1-a829-0e68f97a4c29",
   "metadata": {},
   "outputs": [
    {
     "name": "stderr",
     "output_type": "stream",
     "text": [
      "/opt/conda/lib/python3.10/site-packages/scanpy/plotting/_tools/scatterplots.py:394: UserWarning: No data for colormapping provided via 'c'. Parameters 'cmap' will be ignored\n",
      "  cax = scatter(\n"
     ]
    },
    {
     "data": {
      "image/png": "[encoded data removed]",
      "text/plain": [
       "<Figure size 640x480 with 1 Axes>"
      ]
     },
     "metadata": {},
     "output_type": "display_data"
    }
   ],
   "source": [
    "sc.pl.umap(\n",
    "    adata_subset,\n",
    "    color = 'AIFI_L2'\n",
    ")"
   ]
  },
  {
   "cell_type": "code",
   "execution_count": 22,
   "id": "9f541d69-5ce3-4b4a-a0c5-14e14a043bf4",
   "metadata": {},
   "outputs": [
    {
     "name": "stderr",
     "output_type": "stream",
     "text": [
      "/opt/conda/lib/python3.10/site-packages/scanpy/plotting/_tools/scatterplots.py:394: UserWarning: No data for colormapping provided via 'c'. Parameters 'cmap' will be ignored\n",
      "  cax = scatter(\n"
     ]
    },
    {
     "data": {
      "image/png": "[encoded data removed]",
      "text/plain": [
       "<Figure size 640x480 with 1 Axes>"
      ]
     },
     "metadata": {},
     "output_type": "display_data"
    }
   ],
   "source": [
    "sc.pl.umap(\n",
    "    adata_subset,\n",
    "    color = 'AIFI_L2',\n",
    "    legend_loc = 'on data',\n",
    "    legend_fontsize = 6,\n",
    "    legend_fontweight = 'normal'\n",
    ")"
   ]
  },
  {
   "cell_type": "code",
   "execution_count": 23,
   "id": "4c550d31-1fae-409b-9684-8efebf853a4c",
   "metadata": {},
   "outputs": [
    {
     "name": "stderr",
     "output_type": "stream",
     "text": [
      "/opt/conda/lib/python3.10/site-packages/scanpy/plotting/_tools/scatterplots.py:394: UserWarning: No data for colormapping provided via 'c'. Parameters 'cmap' will be ignored\n",
      "  cax = scatter(\n"
     ]
    },
    {
     "data": {
      "image/png": "[encoded data removed]",
      "text/plain": [
       "<Figure size 640x480 with 1 Axes>"
      ]
     },
     "metadata": {},
     "output_type": "display_data"
    }
   ],
   "source": [
    "sc.pl.umap(\n",
    "    adata_subset,\n",
    "    color = 'AIFI_L3'\n",
    ")"
   ]
  },
  {
   "cell_type": "code",
   "execution_count": 24,
   "id": "bf86e27a-f21e-412f-a876-843975388e97",
   "metadata": {},
   "outputs": [
    {
     "name": "stderr",
     "output_type": "stream",
     "text": [
      "/opt/conda/lib/python3.10/site-packages/scanpy/plotting/_tools/scatterplots.py:394: UserWarning: No data for colormapping provided via 'c'. Parameters 'cmap' will be ignored\n",
      "  cax = scatter(\n"
     ]
    },
    {
     "data": {
      "image/png": "[encoded data removed]",
      "text/plain": [
       "<Figure size 640x480 with 1 Axes>"
      ]
     },
     "metadata": {},
     "output_type": "display_data"
    }
   ],
   "source": [
    "sc.pl.umap(\n",
    "    adata_subset,\n",
    "    color = 'AIFI_L3',\n",
    "    legend_loc = 'on data',\n",
    "    legend_fontsize = 6,\n",
    "    legend_fontweight = 'normal'\n",
    ")"
   ]
  },
  {
   "cell_type": "markdown",
   "id": "3192aeb6-8554-4fed-a0e8-7e301b1a41d9",
   "metadata": {},
   "source": [
    "### Output subset annotations"
   ]
  },
  {
   "cell_type": "code",
   "execution_count": 25,
   "id": "b8f46515-9ae8-45a1-8cc2-f64ca15f371a",
   "metadata": {},
   "outputs": [],
   "source": [
    "obs = adata_subset.obs\n",
    "obs = obs.reset_index(drop = True)"
   ]
  },
  {
   "cell_type": "code",
   "execution_count": 26,
   "id": "5d70f1e6-e4fb-432e-8108-1e1419b817f2",
   "metadata": {},
   "outputs": [],
   "source": [
    "umap_mat = adata_subset.obsm['X_umap']\n",
    "umap_df = pd.DataFrame(umap_mat, columns = ['umap_1', 'umap_2'])\n",
    "obs['umap_1'] = umap_df['umap_1']\n",
    "obs['umap_2'] = umap_df['umap_2']"
   ]
  },
  {
   "cell_type": "code",
   "execution_count": 27,
   "id": "c505fa71-28b8-4238-b46d-3097f00c3b0d",
   "metadata": {},
   "outputs": [
    {
     "data": {
      "text/html": [
       "<div>\n",
       "<style scoped>\n",
       "    .dataframe tbody tr th:only-of-type {\n",
       "        vertical-align: middle;\n",
       "    }\n",
       "\n",
       "    .dataframe tbody tr th {\n",
       "        vertical-align: top;\n",
       "    }\n",
       "\n",
       "    .dataframe thead th {\n",
       "        text-align: right;\n",
       "    }\n",
       "</style>\n",
       "<table border=\"1\" class=\"dataframe\">\n",
       "  <thead>\n",
       "    <tr style=\"text-align: right;\">\n",
       "      <th></th>\n",
       "      <th>barcodes</th>\n",
       "      <th>batch_id</th>\n",
       "      <th>cell_name</th>\n",
       "      <th>cell_uuid</th>\n",
       "      <th>chip_id</th>\n",
       "      <th>hto_barcode</th>\n",
       "      <th>hto_category</th>\n",
       "      <th>n_genes</th>\n",
       "      <th>n_mito_umis</th>\n",
       "      <th>n_reads</th>\n",
       "      <th>...</th>\n",
       "      <th>total_counts_mito</th>\n",
       "      <th>log1p_total_counts_mito</th>\n",
       "      <th>pct_counts_mito</th>\n",
       "      <th>leiden</th>\n",
       "      <th>AIFI_L1</th>\n",
       "      <th>AIFI_L2</th>\n",
       "      <th>AIFI_L3</th>\n",
       "      <th>keep</th>\n",
       "      <th>umap_1</th>\n",
       "      <th>umap_2</th>\n",
       "    </tr>\n",
       "  </thead>\n",
       "  <tbody>\n",
       "    <tr>\n",
       "      <th>0</th>\n",
       "      <td>cf76501a48b611ea8957bafe6d70929e</td>\n",
       "      <td>B001</td>\n",
       "      <td>pensive_queasy_tadpole</td>\n",
       "      <td>cf76501a48b611ea8957bafe6d70929e</td>\n",
       "      <td>B001-P1C1</td>\n",
       "      <td>TGATGGCCTATTGGG</td>\n",
       "      <td>singlet</td>\n",
       "      <td>1994</td>\n",
       "      <td>108</td>\n",
       "      <td>22387</td>\n",
       "      <td>...</td>\n",
       "      <td>108</td>\n",
       "      <td>4.691348</td>\n",
       "      <td>1.683817</td>\n",
       "      <td>29</td>\n",
       "      <td>Progenitor cell</td>\n",
       "      <td>Progenitor cell</td>\n",
       "      <td>CMP cell</td>\n",
       "      <td>True</td>\n",
       "      <td>-2.163615</td>\n",
       "      <td>8.717341</td>\n",
       "    </tr>\n",
       "    <tr>\n",
       "      <th>1</th>\n",
       "      <td>cf85f11e48b611ea8957bafe6d70929e</td>\n",
       "      <td>B001</td>\n",
       "      <td>ladylike_beauish_barasinga</td>\n",
       "      <td>cf85f11e48b611ea8957bafe6d70929e</td>\n",
       "      <td>B001-P1C1</td>\n",
       "      <td>TGATGGCCTATTGGG</td>\n",
       "      <td>singlet</td>\n",
       "      <td>820</td>\n",
       "      <td>118</td>\n",
       "      <td>7326</td>\n",
       "      <td>...</td>\n",
       "      <td>118</td>\n",
       "      <td>4.779123</td>\n",
       "      <td>5.214317</td>\n",
       "      <td>21</td>\n",
       "      <td>Platelet</td>\n",
       "      <td>Platelet</td>\n",
       "      <td>Platelet</td>\n",
       "      <td>True</td>\n",
       "      <td>11.469558</td>\n",
       "      <td>11.340449</td>\n",
       "    </tr>\n",
       "    <tr>\n",
       "      <th>2</th>\n",
       "      <td>cf85fe6648b611ea8957bafe6d70929e</td>\n",
       "      <td>B001</td>\n",
       "      <td>novel_parttime_motmot</td>\n",
       "      <td>cf85fe6648b611ea8957bafe6d70929e</td>\n",
       "      <td>B001-P1C1</td>\n",
       "      <td>TGATGGCCTATTGGG</td>\n",
       "      <td>singlet</td>\n",
       "      <td>389</td>\n",
       "      <td>64</td>\n",
       "      <td>2448</td>\n",
       "      <td>...</td>\n",
       "      <td>64</td>\n",
       "      <td>4.174387</td>\n",
       "      <td>8.387942</td>\n",
       "      <td>21</td>\n",
       "      <td>Platelet</td>\n",
       "      <td>Platelet</td>\n",
       "      <td>Platelet</td>\n",
       "      <td>True</td>\n",
       "      <td>14.045321</td>\n",
       "      <td>11.531286</td>\n",
       "    </tr>\n",
       "    <tr>\n",
       "      <th>3</th>\n",
       "      <td>cf8bc78848b611ea8957bafe6d70929e</td>\n",
       "      <td>B001</td>\n",
       "      <td>chunky_pretty_lovebird</td>\n",
       "      <td>cf8bc78848b611ea8957bafe6d70929e</td>\n",
       "      <td>B001-P1C1</td>\n",
       "      <td>TGATGGCCTATTGGG</td>\n",
       "      <td>singlet</td>\n",
       "      <td>483</td>\n",
       "      <td>65</td>\n",
       "      <td>2571</td>\n",
       "      <td>...</td>\n",
       "      <td>65</td>\n",
       "      <td>4.189655</td>\n",
       "      <td>6.951872</td>\n",
       "      <td>21</td>\n",
       "      <td>Platelet</td>\n",
       "      <td>Platelet</td>\n",
       "      <td>Platelet</td>\n",
       "      <td>True</td>\n",
       "      <td>13.294365</td>\n",
       "      <td>12.712489</td>\n",
       "    </tr>\n",
       "    <tr>\n",
       "      <th>4</th>\n",
       "      <td>cf99be5648b611ea8957bafe6d70929e</td>\n",
       "      <td>B001</td>\n",
       "      <td>bony_applicable_dorado</td>\n",
       "      <td>cf99be5648b611ea8957bafe6d70929e</td>\n",
       "      <td>B001-P1C1</td>\n",
       "      <td>TGATGGCCTATTGGG</td>\n",
       "      <td>singlet</td>\n",
       "      <td>385</td>\n",
       "      <td>2</td>\n",
       "      <td>2065</td>\n",
       "      <td>...</td>\n",
       "      <td>2</td>\n",
       "      <td>1.098612</td>\n",
       "      <td>0.327869</td>\n",
       "      <td>21</td>\n",
       "      <td>Platelet</td>\n",
       "      <td>Platelet</td>\n",
       "      <td>Platelet</td>\n",
       "      <td>True</td>\n",
       "      <td>12.436749</td>\n",
       "      <td>12.581388</td>\n",
       "    </tr>\n",
       "  </tbody>\n",
       "</table>\n",
       "<p>5 rows × 56 columns</p>\n",
       "</div>"
      ],
      "text/plain": [
       "                           barcodes batch_id                   cell_name  \\\n",
       "0  cf76501a48b611ea8957bafe6d70929e     B001      pensive_queasy_tadpole   \n",
       "1  cf85f11e48b611ea8957bafe6d70929e     B001  ladylike_beauish_barasinga   \n",
       "2  cf85fe6648b611ea8957bafe6d70929e     B001       novel_parttime_motmot   \n",
       "3  cf8bc78848b611ea8957bafe6d70929e     B001      chunky_pretty_lovebird   \n",
       "4  cf99be5648b611ea8957bafe6d70929e     B001      bony_applicable_dorado   \n",
       "\n",
       "                          cell_uuid    chip_id      hto_barcode hto_category  \\\n",
       "0  cf76501a48b611ea8957bafe6d70929e  B001-P1C1  TGATGGCCTATTGGG      singlet   \n",
       "1  cf85f11e48b611ea8957bafe6d70929e  B001-P1C1  TGATGGCCTATTGGG      singlet   \n",
       "2  cf85fe6648b611ea8957bafe6d70929e  B001-P1C1  TGATGGCCTATTGGG      singlet   \n",
       "3  cf8bc78848b611ea8957bafe6d70929e  B001-P1C1  TGATGGCCTATTGGG      singlet   \n",
       "4  cf99be5648b611ea8957bafe6d70929e  B001-P1C1  TGATGGCCTATTGGG      singlet   \n",
       "\n",
       "   n_genes  n_mito_umis  n_reads  ...  total_counts_mito  \\\n",
       "0     1994          108    22387  ...                108   \n",
       "1      820          118     7326  ...                118   \n",
       "2      389           64     2448  ...                 64   \n",
       "3      483           65     2571  ...                 65   \n",
       "4      385            2     2065  ...                  2   \n",
       "\n",
       "  log1p_total_counts_mito pct_counts_mito leiden          AIFI_L1  \\\n",
       "0                4.691348        1.683817     29  Progenitor cell   \n",
       "1                4.779123        5.214317     21         Platelet   \n",
       "2                4.174387        8.387942     21         Platelet   \n",
       "3                4.189655        6.951872     21         Platelet   \n",
       "4                1.098612        0.327869     21         Platelet   \n",
       "\n",
       "           AIFI_L2   AIFI_L3  keep     umap_1     umap_2  \n",
       "0  Progenitor cell  CMP cell  True  -2.163615   8.717341  \n",
       "1         Platelet  Platelet  True  11.469558  11.340449  \n",
       "2         Platelet  Platelet  True  14.045321  11.531286  \n",
       "3         Platelet  Platelet  True  13.294365  12.712489  \n",
       "4         Platelet  Platelet  True  12.436749  12.581388  \n",
       "\n",
       "[5 rows x 56 columns]"
      ]
     },
     "execution_count": 27,
     "metadata": {},
     "output_type": "execute_result"
    }
   ],
   "source": [
    "obs.head()"
   ]
  },
  {
   "cell_type": "code",
   "execution_count": 28,
   "id": "f5876b1f-0c0a-488d-bca0-2180e9b03c25",
   "metadata": {},
   "outputs": [],
   "source": [
    "obs_out_csv = '{p}/ref_clean_pbmc_{c}_labeled_meta_umap_{d}.csv'.format(p = out_dir, c = cell_class, d = date.today())\n",
    "obs.to_csv(obs_out_csv, index = False)\n",
    "out_files.append(obs_out_csv)"
   ]
  },
  {
   "cell_type": "code",
   "execution_count": 29,
   "id": "359cba19-fdc0-4596-bf2b-d9077915ab3e",
   "metadata": {},
   "outputs": [],
   "source": [
    "obs_out_parquet = '{p}/ref_clean_pbmc_{c}_labeled_meta_umap_{d}.parquet'.format(p = out_dir, c = cell_class, d = date.today())\n",
    "obs.to_parquet(obs_out_parquet, index = False)\n",
    "out_files.append(obs_out_parquet)"
   ]
  },
  {
   "cell_type": "markdown",
   "id": "fd586554-7c15-444d-b79f-73ba0180f7aa",
   "metadata": {},
   "source": [
    "### Output subset AnnData"
   ]
  },
  {
   "cell_type": "code",
   "execution_count": 31,
   "id": "0651ffe8-c863-4334-a9c1-00d051092b0c",
   "metadata": {},
   "outputs": [],
   "source": [
    "out_h5ad = '{p}/ref_clean_pbmc_{c}_labeled_{d}.h5ad'.format(p = out_dir, c = cell_class, d = date.today())\n",
    "adata_subset.write_h5ad(out_h5ad)\n",
    "out_files.append(out_h5ad)"
   ]
  },
  {
   "cell_type": "markdown",
   "id": "1fd589cf-f322-41aa-b4fc-822397cb93da",
   "metadata": {},
   "source": [
    "## Upload results to HISE\n",
    "\n",
    "Finally, we'll use `hisepy.upload.upload_files()` to send a copy of our output to HISE to use for downstream analysis steps."
   ]
  },
  {
   "cell_type": "code",
   "execution_count": 32,
   "id": "550ae5d2-6eb3-4944-8557-e6e64bbcacce",
   "metadata": {},
   "outputs": [],
   "source": [
    "study_space_uuid = '64097865-486d-43b3-8f94-74994e0a72e0'\n",
    "title = 'PBMC Clean Reference Other cells {d}'.format(d = date.today())"
   ]
  },
  {
   "cell_type": "code",
   "execution_count": 33,
   "id": "34f48604-04d9-4b99-9b01-2f82125f3f03",
   "metadata": {},
   "outputs": [],
   "source": [
    "in_files = [h5ad_uuid]"
   ]
  },
  {
   "cell_type": "code",
   "execution_count": 34,
   "id": "89f51f02-f407-4eaa-9c59-7f7cc4ee9eb2",
   "metadata": {},
   "outputs": [
    {
     "data": {
      "text/plain": [
       "['6e8972a5-9463-4230-84b4-a20de055b9c3']"
      ]
     },
     "execution_count": 34,
     "metadata": {},
     "output_type": "execute_result"
    }
   ],
   "source": [
    "in_files"
   ]
  },
  {
   "cell_type": "code",
   "execution_count": 35,
   "id": "6198b9a3-891b-4f35-adbf-099962b7b81c",
   "metadata": {},
   "outputs": [
    {
     "data": {
      "text/plain": [
       "['output/ref_clean_pbmc_other_labeled_meta_umap_2024-03-09.csv',\n",
       " 'output/ref_clean_pbmc_other_labeled_meta_umap_2024-03-09.parquet',\n",
       " 'output/ref_clean_pbmc_other_labeled_2024-03-09.h5ad']"
      ]
     },
     "execution_count": 35,
     "metadata": {},
     "output_type": "execute_result"
    }
   ],
   "source": [
    "out_files"
   ]
  },
  {
   "cell_type": "code",
   "execution_count": 36,
   "id": "91145775-9a77-40b8-aaba-b6877dda6188",
   "metadata": {},
   "outputs": [
    {
     "name": "stdout",
     "output_type": "stream",
     "text": [
      "output/ref_clean_pbmc_other_labeled_meta_umap_2024-03-09.csv\n",
      "output/ref_clean_pbmc_other_labeled_meta_umap_2024-03-09.parquet\n",
      "output/ref_clean_pbmc_other_labeled_2024-03-09.h5ad\n",
      "Cannot determine the current notebook.\n",
      "1) /home/jupyter/scRNA-Reference-IH-A/05-Assembly/27-Python_clean_Other_cell_projections.ipynb\n",
      "2) /home/jupyter/scRNA-Reference-IH-A/05-Assembly/26-Python_clean_NK_cell_projections.ipynb\n",
      "3) /home/jupyter/scRNA-Reference-IH-A/05-Assembly/25-Python_clean_Myeloid_cell_projections.ipynb\n",
      "Please select (1-3) \n"
     ]
    },
    {
     "name": "stdin",
     "output_type": "stream",
     "text": [
      " 1\n"
     ]
    },
    {
     "name": "stdout",
     "output_type": "stream",
     "text": [
      "you are trying to upload file_ids... ['output/ref_clean_pbmc_other_labeled_meta_umap_2024-03-09.csv', 'output/ref_clean_pbmc_other_labeled_meta_umap_2024-03-09.parquet', 'output/ref_clean_pbmc_other_labeled_2024-03-09.h5ad']. Do you truly want to proceed?\n"
     ]
    },
    {
     "name": "stdin",
     "output_type": "stream",
     "text": [
      "(y/n) y\n"
     ]
    },
    {
     "data": {
      "text/plain": [
       "{'trace_id': 'ce8750bd-120f-42b3-a9b1-62d2fe886176',\n",
       " 'files': ['output/ref_clean_pbmc_other_labeled_meta_umap_2024-03-09.csv',\n",
       "  'output/ref_clean_pbmc_other_labeled_meta_umap_2024-03-09.parquet',\n",
       "  'output/ref_clean_pbmc_other_labeled_2024-03-09.h5ad']}"
      ]
     },
     "execution_count": 36,
     "metadata": {},
     "output_type": "execute_result"
    }
   ],
   "source": [
    "hisepy.upload.upload_files(\n",
    "    files = out_files,\n",
    "    study_space_id = study_space_uuid,\n",
    "    title = title,\n",
    "    input_file_ids = in_files\n",
    ")"
   ]
  },
  {
   "cell_type": "code",
   "execution_count": 37,
   "id": "e0fe73da-3cd8-4188-abed-40871b35b7e3",
   "metadata": {},
   "outputs": [
    {
     "data": {
      "text/html": [
       "<details>\n",
       "<summary>Click to view session information</summary>\n",
       "<pre>\n",
       "-----\n",
       "anndata             0.10.3\n",
       "hisepy              0.3.0\n",
       "pandas              2.1.4\n",
       "scanpy              1.9.6\n",
       "session_info        1.0.0\n",
       "-----\n",
       "</pre>\n",
       "<details>\n",
       "<summary>Click to view modules imported as dependencies</summary>\n",
       "<pre>\n",
       "PIL                         10.0.1\n",
       "anyio                       NA\n",
       "arrow                       1.3.0\n",
       "asttokens                   NA\n",
       "attr                        23.2.0\n",
       "attrs                       23.2.0\n",
       "babel                       2.14.0\n",
       "beatrix_jupyterlab          NA\n",
       "brotli                      NA\n",
       "cachetools                  5.3.1\n",
       "certifi                     2024.02.02\n",
       "cffi                        1.16.0\n",
       "charset_normalizer          3.3.2\n",
       "cloudpickle                 2.2.1\n",
       "colorama                    0.4.6\n",
       "comm                        0.1.4\n",
       "cryptography                41.0.7\n",
       "cycler                      0.10.0\n",
       "cython_runtime              NA\n",
       "dateutil                    2.8.2\n",
       "db_dtypes                   1.1.1\n",
       "debugpy                     1.8.0\n",
       "decorator                   5.1.1\n",
       "defusedxml                  0.7.1\n",
       "deprecated                  1.2.14\n",
       "exceptiongroup              1.2.0\n",
       "executing                   2.0.1\n",
       "fastjsonschema              NA\n",
       "fqdn                        NA\n",
       "google                      NA\n",
       "greenlet                    2.0.2\n",
       "grpc                        1.58.0\n",
       "grpc_status                 NA\n",
       "h5py                        3.10.0\n",
       "harmonypy                   NA\n",
       "idna                        3.6\n",
       "igraph                      0.10.8\n",
       "importlib_metadata          NA\n",
       "ipykernel                   6.28.0\n",
       "ipython_genutils            0.2.0\n",
       "ipywidgets                  8.1.1\n",
       "isoduration                 NA\n",
       "jedi                        0.19.1\n",
       "jinja2                      3.1.2\n",
       "joblib                      1.3.2\n",
       "json5                       NA\n",
       "jsonpointer                 2.4\n",
       "jsonschema                  4.20.0\n",
       "jsonschema_specifications   NA\n",
       "jupyter_events              0.9.0\n",
       "jupyter_server              2.12.1\n",
       "jupyterlab_server           2.25.2\n",
       "jwt                         2.8.0\n",
       "kiwisolver                  1.4.5\n",
       "leidenalg                   0.10.1\n",
       "llvmlite                    0.41.0\n",
       "lz4                         4.3.2\n",
       "markupsafe                  2.1.3\n",
       "matplotlib                  3.8.0\n",
       "matplotlib_inline           0.1.6\n",
       "mpl_toolkits                NA\n",
       "mpmath                      1.3.0\n",
       "natsort                     8.4.0\n",
       "nbformat                    5.9.2\n",
       "numba                       0.58.0\n",
       "numpy                       1.24.0\n",
       "opentelemetry               NA\n",
       "overrides                   NA\n",
       "packaging                   23.2\n",
       "parso                       0.8.3\n",
       "pexpect                     4.8.0\n",
       "pickleshare                 0.7.5\n",
       "pkg_resources               NA\n",
       "platformdirs                4.1.0\n",
       "plotly                      5.18.0\n",
       "prettytable                 3.9.0\n",
       "prometheus_client           NA\n",
       "prompt_toolkit              3.0.42\n",
       "proto                       NA\n",
       "psutil                      NA\n",
       "ptyprocess                  0.7.0\n",
       "pure_eval                   0.2.2\n",
       "pyarrow                     13.0.0\n",
       "pycparser                   2.21\n",
       "pydev_ipython               NA\n",
       "pydevconsole                NA\n",
       "pydevd                      2.9.5\n",
       "pydevd_file_utils           NA\n",
       "pydevd_plugins              NA\n",
       "pydevd_tracing              NA\n",
       "pygments                    2.17.2\n",
       "pynndescent                 0.5.11\n",
       "pynvml                      NA\n",
       "pyparsing                   3.1.1\n",
       "pyreadr                     0.5.0\n",
       "pythonjsonlogger            NA\n",
       "pytz                        2023.3.post1\n",
       "referencing                 NA\n",
       "requests                    2.31.0\n",
       "rfc3339_validator           0.1.4\n",
       "rfc3986_validator           0.1.1\n",
       "rpds                        NA\n",
       "scipy                       1.11.4\n",
       "send2trash                  NA\n",
       "shapely                     1.8.5.post1\n",
       "six                         1.16.0\n",
       "sklearn                     1.3.2\n",
       "sniffio                     1.3.0\n",
       "socks                       1.7.1\n",
       "sparse                      0.14.0\n",
       "sql                         NA\n",
       "sqlalchemy                  2.0.21\n",
       "sqlparse                    0.4.4\n",
       "stack_data                  0.6.2\n",
       "sympy                       1.12\n",
       "termcolor                   NA\n",
       "texttable                   1.7.0\n",
       "threadpoolctl               3.2.0\n",
       "torch                       2.1.2+cu121\n",
       "torchgen                    NA\n",
       "tornado                     6.3.3\n",
       "tqdm                        4.66.1\n",
       "traitlets                   5.9.0\n",
       "typing_extensions           NA\n",
       "umap                        0.5.5\n",
       "uri_template                NA\n",
       "urllib3                     1.26.18\n",
       "wcwidth                     0.2.12\n",
       "webcolors                   1.13\n",
       "websocket                   1.7.0\n",
       "wrapt                       1.15.0\n",
       "xarray                      2023.12.0\n",
       "yaml                        6.0.1\n",
       "zipp                        NA\n",
       "zmq                         25.1.2\n",
       "zoneinfo                    NA\n",
       "zstandard                   0.22.0\n",
       "</pre>\n",
       "</details> <!-- seems like this ends pre, so might as well be explicit -->\n",
       "<pre>\n",
       "-----\n",
       "IPython             8.19.0\n",
       "jupyter_client      8.6.0\n",
       "jupyter_core        5.6.1\n",
       "jupyterlab          4.1.2\n",
       "notebook            6.5.4\n",
       "-----\n",
       "Python 3.10.13 | packaged by conda-forge | (main, Dec 23 2023, 15:36:39) [GCC 12.3.0]\n",
       "Linux-5.15.0-1042-gcp-x86_64-with-glibc2.31\n",
       "-----\n",
       "Session information updated at 2024-03-09 22:43\n",
       "</pre>\n",
       "</details>"
      ],
      "text/plain": [
       "<IPython.core.display.HTML object>"
      ]
     },
     "execution_count": 37,
     "metadata": {},
     "output_type": "execute_result"
    }
   ],
   "source": [
    "import session_info\n",
    "session_info.show()"
   ]
  },
  {
   "cell_type": "code",
   "execution_count": null,
   "id": "cea5730b-fe31-44d8-ab49-ab91986a8805",
   "metadata": {},
   "outputs": [],
   "source": []
  }
 ],
 "metadata": {
  "kernelspec": {
   "display_name": "Python 3 (ipykernel)",
   "language": "python",
   "name": "python3"
  },
  "language_info": {
   "codemirror_mode": {
    "name": "ipython",
    "version": 3
   },
   "file_extension": ".py",
   "mimetype": "text/x-python",
   "name": "python",
   "nbconvert_exporter": "python",
   "pygments_lexer": "ipython3",
   "version": "3.10.13"
  }
 },
 "nbformat": 4,
 "nbformat_minor": 5
}
