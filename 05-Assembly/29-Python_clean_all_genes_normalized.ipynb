{
 "cells": [
  {
   "cell_type": "markdown",
   "id": "7bf8f4b9-a16f-46d4-b62c-4926fc7eb203",
   "metadata": {},
   "source": [
    "# Generate \"clean\" dataset with all normalized genes\n",
    "\n",
    "For visualizations, it's helpful to have an .h5ad object with all genes normalized in the main `adata.X` object, rather than just highly variable genes.\n",
    "\n",
    "We'll perform this for the main object as well as the subset objects generated for each of the major cell classes."
   ]
  },
  {
   "cell_type": "code",
   "execution_count": 1,
   "id": "553da12b-8312-4214-b26f-0c4132848a54",
   "metadata": {},
   "outputs": [],
   "source": [
    "import warnings\n",
    "warnings.simplefilter(action='ignore', category=FutureWarning)\n",
    "warnings.simplefilter(action='ignore', category=RuntimeWarning)\n",
    "\n",
    "from datetime import date\n",
    "import hisepy\n",
    "import os\n",
    "import scanpy as sc"
   ]
  },
  {
   "cell_type": "code",
   "execution_count": 2,
   "id": "db7f139d-fffe-42b8-9485-7a3575b2c132",
   "metadata": {},
   "outputs": [],
   "source": [
    "def read_adata_uuid(h5ad_uuid):\n",
    "    h5ad_path = '/home/jupyter/cache/{u}'.format(u = h5ad_uuid)\n",
    "    if not os.path.isdir(h5ad_path):\n",
    "        hise_res = hisepy.reader.cache_files([h5ad_uuid])\n",
    "    h5ad_filename = os.listdir(h5ad_path)[0]\n",
    "    h5ad_file = '{p}/{f}'.format(p = h5ad_path, f = h5ad_filename)\n",
    "    adata = sc.read_h5ad(h5ad_file)\n",
    "    return adata"
   ]
  },
  {
   "cell_type": "code",
   "execution_count": 3,
   "id": "e09b8142-43ba-4dd0-ba25-321868a3d3c9",
   "metadata": {},
   "outputs": [],
   "source": [
    "def normalize_raw_data(adata):\n",
    "    adata = adata.raw.to_adata()\n",
    "    adata.raw = adata\n",
    "    \n",
    "    sc.pp.normalize_total(adata, target_sum = 1e4)\n",
    "    sc.pp.log1p(adata)\n",
    "\n",
    "    return adata"
   ]
  },
  {
   "cell_type": "code",
   "execution_count": 4,
   "id": "54d03a02-3a0f-4883-8f59-4bea571758da",
   "metadata": {
    "tags": []
   },
   "outputs": [],
   "source": [
    "out_dir = 'output'\n",
    "if not os.path.isdir(out_dir):\n",
    "    os.makedirs(out_dir)"
   ]
  },
  {
   "cell_type": "code",
   "execution_count": 5,
   "id": "c989b36e-96c9-40ab-b1cb-63365483dafe",
   "metadata": {},
   "outputs": [],
   "source": [
    "out_files = []"
   ]
  },
  {
   "cell_type": "markdown",
   "id": "e955d1ef-4b2a-4f4e-8d96-e427429b12bc",
   "metadata": {},
   "source": [
    "## Read annotated datasets"
   ]
  },
  {
   "cell_type": "code",
   "execution_count": 6,
   "id": "2fffa95a-dc58-4ae0-9e3a-5782f755b324",
   "metadata": {},
   "outputs": [],
   "source": [
    "h5ad_uuids = {\n",
    "    'all':           '6e8972a5-9463-4230-84b4-a20de055b9c3',\n",
    "    'b-cells':       '3ba425f9-b8e0-4a03-ae69-bac3d35b00b3',\n",
    "    'myeloid-cells': 'a366815b-8092-4a66-9afa-c4fd3834edc4',\n",
    "    'nk-cells':      '90ce9dff-28b0-4b12-abaa-deab19fb68c9',\n",
    "    'other':         '8f55628c-cc28-4011-abb2-e3e13dad2b49',\n",
    "    't-cells':       '546b8939-cb2a-4b28-bf99-898ee4c0217f'\n",
    "}"
   ]
  },
  {
   "cell_type": "code",
   "execution_count": 7,
   "id": "02eafac1-8eab-4ed0-a635-50b7ee770a3a",
   "metadata": {},
   "outputs": [
    {
     "name": "stdout",
     "output_type": "stream",
     "text": [
      "WARNING: adata.X seems to be already log-transformed.\n",
      "downloading fileID: 3ba425f9-b8e0-4a03-ae69-bac3d35b00b3\n",
      "Files have been successfully downloaded!\n",
      "WARNING: adata.X seems to be already log-transformed.\n",
      "downloading fileID: a366815b-8092-4a66-9afa-c4fd3834edc4\n",
      "Files have been successfully downloaded!\n",
      "WARNING: adata.X seems to be already log-transformed.\n",
      "downloading fileID: 90ce9dff-28b0-4b12-abaa-deab19fb68c9\n",
      "Files have been successfully downloaded!\n",
      "WARNING: adata.X seems to be already log-transformed.\n",
      "downloading fileID: 8f55628c-cc28-4011-abb2-e3e13dad2b49\n",
      "Files have been successfully downloaded!\n",
      "WARNING: adata.X seems to be already log-transformed.\n",
      "downloading fileID: 546b8939-cb2a-4b28-bf99-898ee4c0217f\n",
      "Files have been successfully downloaded!\n",
      "WARNING: adata.X seems to be already log-transformed.\n"
     ]
    }
   ],
   "source": [
    "for cell_class,uuid in h5ad_uuids.items():\n",
    "    out_file = 'output/ref_clean_pbmc_{c}_labeled-all-genes_{d}.h5ad'.format(\n",
    "        c = cell_class,\n",
    "        d = date.today()\n",
    "    )\n",
    "    \n",
    "    adata = read_adata_uuid(uuid)\n",
    "    adata = normalize_raw_data(adata)\n",
    "\n",
    "    adata.write_h5ad(out_file)\n",
    "    out_files.append(out_file)"
   ]
  },
  {
   "cell_type": "markdown",
   "id": "4487a876-35f3-4f4e-923f-915be6bfeb53",
   "metadata": {},
   "source": [
    "## Upload results to HISE\n",
    "\n",
    "Finally, we'll use `hisepy.upload.upload_files()` to send a copy of our output to HISE to use for downstream analysis steps."
   ]
  },
  {
   "cell_type": "code",
   "execution_count": 8,
   "id": "de918cbc-448e-48a1-b682-b653f862af16",
   "metadata": {},
   "outputs": [],
   "source": [
    "study_space_uuid = '64097865-486d-43b3-8f94-74994e0a72e0'\n",
    "title = '10x 3-prime PBMC Clean Reference with all genes {d}'.format(d = date.today())"
   ]
  },
  {
   "cell_type": "code",
   "execution_count": 9,
   "id": "b99a0ed7-f22a-4257-8ec1-a81b6af190f1",
   "metadata": {},
   "outputs": [],
   "source": [
    "in_files = list(h5ad_uuids.values())"
   ]
  },
  {
   "cell_type": "code",
   "execution_count": 10,
   "id": "c4cd92a6-af70-477a-b0d6-2abd26000fe9",
   "metadata": {},
   "outputs": [
    {
     "data": {
      "text/plain": [
       "['6e8972a5-9463-4230-84b4-a20de055b9c3',\n",
       " '3ba425f9-b8e0-4a03-ae69-bac3d35b00b3',\n",
       " 'a366815b-8092-4a66-9afa-c4fd3834edc4',\n",
       " '90ce9dff-28b0-4b12-abaa-deab19fb68c9',\n",
       " '8f55628c-cc28-4011-abb2-e3e13dad2b49',\n",
       " '546b8939-cb2a-4b28-bf99-898ee4c0217f']"
      ]
     },
     "execution_count": 10,
     "metadata": {},
     "output_type": "execute_result"
    }
   ],
   "source": [
    "in_files"
   ]
  },
  {
   "cell_type": "code",
   "execution_count": 11,
   "id": "d6106078-7694-4273-95d0-6dddc6f6493b",
   "metadata": {},
   "outputs": [
    {
     "data": {
      "text/plain": [
       "['output/ref_clean_pbmc_all_labeled-all-genes_2024-03-11.h5ad',\n",
       " 'output/ref_clean_pbmc_b-cells_labeled-all-genes_2024-03-11.h5ad',\n",
       " 'output/ref_clean_pbmc_myeloid-cells_labeled-all-genes_2024-03-11.h5ad',\n",
       " 'output/ref_clean_pbmc_nk-cells_labeled-all-genes_2024-03-11.h5ad',\n",
       " 'output/ref_clean_pbmc_other_labeled-all-genes_2024-03-11.h5ad',\n",
       " 'output/ref_clean_pbmc_t-cells_labeled-all-genes_2024-03-11.h5ad']"
      ]
     },
     "execution_count": 11,
     "metadata": {},
     "output_type": "execute_result"
    }
   ],
   "source": [
    "out_files"
   ]
  },
  {
   "cell_type": "code",
   "execution_count": 12,
   "id": "08a7d98a-c616-4fa2-b472-fd442cc855e7",
   "metadata": {},
   "outputs": [
    {
     "name": "stdout",
     "output_type": "stream",
     "text": [
      "output/ref_clean_pbmc_all_labeled-all-genes_2024-03-11.h5ad\n",
      "output/ref_clean_pbmc_b-cells_labeled-all-genes_2024-03-11.h5ad\n",
      "output/ref_clean_pbmc_myeloid-cells_labeled-all-genes_2024-03-11.h5ad\n",
      "output/ref_clean_pbmc_nk-cells_labeled-all-genes_2024-03-11.h5ad\n",
      "output/ref_clean_pbmc_other_labeled-all-genes_2024-03-11.h5ad\n",
      "output/ref_clean_pbmc_t-cells_labeled-all-genes_2024-03-11.h5ad\n",
      "you are trying to upload file_ids... ['output/ref_clean_pbmc_all_labeled-all-genes_2024-03-11.h5ad', 'output/ref_clean_pbmc_b-cells_labeled-all-genes_2024-03-11.h5ad', 'output/ref_clean_pbmc_myeloid-cells_labeled-all-genes_2024-03-11.h5ad', 'output/ref_clean_pbmc_nk-cells_labeled-all-genes_2024-03-11.h5ad', 'output/ref_clean_pbmc_other_labeled-all-genes_2024-03-11.h5ad', 'output/ref_clean_pbmc_t-cells_labeled-all-genes_2024-03-11.h5ad']. Do you truly want to proceed?\n"
     ]
    },
    {
     "name": "stdin",
     "output_type": "stream",
     "text": [
      "(y/n) y\n"
     ]
    },
    {
     "data": {
      "text/plain": [
       "{'trace_id': '8a5c7691-5c1f-4eef-abf1-a1ca4872e6c3',\n",
       " 'files': ['output/ref_clean_pbmc_all_labeled-all-genes_2024-03-11.h5ad',\n",
       "  'output/ref_clean_pbmc_b-cells_labeled-all-genes_2024-03-11.h5ad',\n",
       "  'output/ref_clean_pbmc_myeloid-cells_labeled-all-genes_2024-03-11.h5ad',\n",
       "  'output/ref_clean_pbmc_nk-cells_labeled-all-genes_2024-03-11.h5ad',\n",
       "  'output/ref_clean_pbmc_other_labeled-all-genes_2024-03-11.h5ad',\n",
       "  'output/ref_clean_pbmc_t-cells_labeled-all-genes_2024-03-11.h5ad']}"
      ]
     },
     "execution_count": 12,
     "metadata": {},
     "output_type": "execute_result"
    }
   ],
   "source": [
    "hisepy.upload.upload_files(\n",
    "    files = out_files,\n",
    "    study_space_id = study_space_uuid,\n",
    "    title = title,\n",
    "    input_file_ids = in_files\n",
    ")"
   ]
  },
  {
   "cell_type": "code",
   "execution_count": 13,
   "id": "e2c5640c-73ff-46aa-890c-835f6279bae3",
   "metadata": {},
   "outputs": [
    {
     "data": {
      "text/html": [
       "<details>\n",
       "<summary>Click to view session information</summary>\n",
       "<pre>\n",
       "-----\n",
       "anndata             0.10.3\n",
       "hisepy              0.3.0\n",
       "scanpy              1.9.6\n",
       "session_info        1.0.0\n",
       "-----\n",
       "</pre>\n",
       "<details>\n",
       "<summary>Click to view modules imported as dependencies</summary>\n",
       "<pre>\n",
       "PIL                         10.0.1\n",
       "anyio                       NA\n",
       "arrow                       1.3.0\n",
       "asttokens                   NA\n",
       "attr                        23.2.0\n",
       "attrs                       23.2.0\n",
       "babel                       2.14.0\n",
       "beatrix_jupyterlab          NA\n",
       "brotli                      NA\n",
       "cachetools                  5.3.1\n",
       "certifi                     2024.02.02\n",
       "cffi                        1.16.0\n",
       "charset_normalizer          3.3.2\n",
       "cloudpickle                 2.2.1\n",
       "colorama                    0.4.6\n",
       "comm                        0.1.4\n",
       "cryptography                41.0.7\n",
       "cycler                      0.10.0\n",
       "cython_runtime              NA\n",
       "dateutil                    2.8.2\n",
       "db_dtypes                   1.1.1\n",
       "debugpy                     1.8.0\n",
       "decorator                   5.1.1\n",
       "defusedxml                  0.7.1\n",
       "deprecated                  1.2.14\n",
       "exceptiongroup              1.2.0\n",
       "executing                   2.0.1\n",
       "fastjsonschema              NA\n",
       "fqdn                        NA\n",
       "google                      NA\n",
       "greenlet                    2.0.2\n",
       "grpc                        1.58.0\n",
       "grpc_status                 NA\n",
       "h5py                        3.10.0\n",
       "idna                        3.6\n",
       "igraph                      0.10.8\n",
       "importlib_metadata          NA\n",
       "ipykernel                   6.28.0\n",
       "ipython_genutils            0.2.0\n",
       "ipywidgets                  8.1.1\n",
       "isoduration                 NA\n",
       "jedi                        0.19.1\n",
       "jinja2                      3.1.2\n",
       "joblib                      1.3.2\n",
       "json5                       NA\n",
       "jsonpointer                 2.4\n",
       "jsonschema                  4.20.0\n",
       "jsonschema_specifications   NA\n",
       "jupyter_events              0.9.0\n",
       "jupyter_server              2.12.1\n",
       "jupyterlab_server           2.25.2\n",
       "jwt                         2.8.0\n",
       "kiwisolver                  1.4.5\n",
       "leidenalg                   0.10.1\n",
       "llvmlite                    0.41.0\n",
       "lz4                         4.3.2\n",
       "markupsafe                  2.1.3\n",
       "matplotlib                  3.8.0\n",
       "matplotlib_inline           0.1.6\n",
       "mpl_toolkits                NA\n",
       "mpmath                      1.3.0\n",
       "natsort                     8.4.0\n",
       "nbformat                    5.9.2\n",
       "numba                       0.58.0\n",
       "numpy                       1.24.0\n",
       "opentelemetry               NA\n",
       "overrides                   NA\n",
       "packaging                   23.2\n",
       "pandas                      2.1.4\n",
       "parso                       0.8.3\n",
       "pexpect                     4.8.0\n",
       "pickleshare                 0.7.5\n",
       "pkg_resources               NA\n",
       "platformdirs                4.1.0\n",
       "plotly                      5.18.0\n",
       "prettytable                 3.9.0\n",
       "prometheus_client           NA\n",
       "prompt_toolkit              3.0.42\n",
       "proto                       NA\n",
       "psutil                      NA\n",
       "ptyprocess                  0.7.0\n",
       "pure_eval                   0.2.2\n",
       "pyarrow                     13.0.0\n",
       "pydev_ipython               NA\n",
       "pydevconsole                NA\n",
       "pydevd                      2.9.5\n",
       "pydevd_file_utils           NA\n",
       "pydevd_plugins              NA\n",
       "pydevd_tracing              NA\n",
       "pygments                    2.17.2\n",
       "pynvml                      NA\n",
       "pyparsing                   3.1.1\n",
       "pyreadr                     0.5.0\n",
       "pythonjsonlogger            NA\n",
       "pytz                        2023.3.post1\n",
       "referencing                 NA\n",
       "requests                    2.31.0\n",
       "rfc3339_validator           0.1.4\n",
       "rfc3986_validator           0.1.1\n",
       "rpds                        NA\n",
       "scipy                       1.11.4\n",
       "send2trash                  NA\n",
       "shapely                     1.8.5.post1\n",
       "six                         1.16.0\n",
       "sklearn                     1.3.2\n",
       "sniffio                     1.3.0\n",
       "socks                       1.7.1\n",
       "sql                         NA\n",
       "sqlalchemy                  2.0.21\n",
       "sqlparse                    0.4.4\n",
       "stack_data                  0.6.2\n",
       "sympy                       1.12\n",
       "termcolor                   NA\n",
       "texttable                   1.7.0\n",
       "threadpoolctl               3.2.0\n",
       "torch                       2.1.2+cu121\n",
       "torchgen                    NA\n",
       "tornado                     6.3.3\n",
       "tqdm                        4.66.1\n",
       "traitlets                   5.9.0\n",
       "typing_extensions           NA\n",
       "uri_template                NA\n",
       "urllib3                     1.26.18\n",
       "wcwidth                     0.2.12\n",
       "webcolors                   1.13\n",
       "websocket                   1.7.0\n",
       "wrapt                       1.15.0\n",
       "xarray                      2023.12.0\n",
       "yaml                        6.0.1\n",
       "zipp                        NA\n",
       "zmq                         25.1.2\n",
       "zoneinfo                    NA\n",
       "</pre>\n",
       "</details> <!-- seems like this ends pre, so might as well be explicit -->\n",
       "<pre>\n",
       "-----\n",
       "IPython             8.19.0\n",
       "jupyter_client      8.6.0\n",
       "jupyter_core        5.6.1\n",
       "jupyterlab          4.1.2\n",
       "notebook            6.5.4\n",
       "-----\n",
       "Python 3.10.13 | packaged by conda-forge | (main, Dec 23 2023, 15:36:39) [GCC 12.3.0]\n",
       "Linux-5.15.0-1053-gcp-x86_64-with-glibc2.31\n",
       "-----\n",
       "Session information updated at 2024-03-11 16:47\n",
       "</pre>\n",
       "</details>"
      ],
      "text/plain": [
       "<IPython.core.display.HTML object>"
      ]
     },
     "execution_count": 13,
     "metadata": {},
     "output_type": "execute_result"
    }
   ],
   "source": [
    "import session_info\n",
    "session_info.show()"
   ]
  },
  {
   "cell_type": "code",
   "execution_count": null,
   "id": "25e60e2a-555d-44c5-a686-143d5a697a15",
   "metadata": {},
   "outputs": [],
   "source": []
  }
 ],
 "metadata": {
  "kernelspec": {
   "display_name": "Python 3 (ipykernel)",
   "language": "python",
   "name": "python3"
  },
  "language_info": {
   "codemirror_mode": {
    "name": "ipython",
    "version": 3
   },
   "file_extension": ".py",
   "mimetype": "text/x-python",
   "name": "python",
   "nbconvert_exporter": "python",
   "pygments_lexer": "ipython3",
   "version": "3.10.13"
  }
 },
 "nbformat": 4,
 "nbformat_minor": 5
}
