{
 "cells": [
  {
   "cell_type": "markdown",
   "id": "cdcd14a8-fcdb-44f8-850c-b31977d096cd",
   "metadata": {},
   "source": [
    "# Generate \"clean\" B cell subset\n",
    "\n",
    "In this notebook, we'll read the cleaned PBMC reference dataset, select L1 cell types, and generate subset AnnData objects for each with updated UMAP projections."
   ]
  },
  {
   "cell_type": "code",
   "execution_count": null,
   "id": "b5100b79-3b5d-47eb-93ab-5ca803a908ef",
   "metadata": {},
   "outputs": [],
   "source": [
    "import warnings\n",
    "warnings.simplefilter(action='ignore', category=FutureWarning)\n",
    "warnings.simplefilter(action='ignore', category=RuntimeWarning)\n",
    "\n",
    "from datetime import date\n",
    "import hisepy\n",
    "import os\n",
    "import pandas as pd\n",
    "import scanpy as sc\n",
    "import scanpy.external as sce"
   ]
  },
  {
   "cell_type": "code",
   "execution_count": null,
   "id": "38f2dc92-0a9e-4a8b-8898-047e382d453e",
   "metadata": {},
   "outputs": [],
   "source": [
    "def read_adata_uuid(h5ad_uuid):\n",
    "    h5ad_path = '/home/jupyter/cache/{u}'.format(u = h5ad_uuid)\n",
    "    if not os.path.isdir(h5ad_path):\n",
    "        hise_res = hisepy.reader.cache_files([h5ad_uuid])\n",
    "    h5ad_filename = os.listdir(h5ad_path)[0]\n",
    "    h5ad_file = '{p}/{f}'.format(p = h5ad_path, f = h5ad_filename)\n",
    "    adata = sc.read_h5ad(h5ad_file)\n",
    "    return adata"
   ]
  },
  {
   "cell_type": "code",
   "execution_count": null,
   "id": "87999ee8-0a2f-4db6-9de7-fc2665139d0e",
   "metadata": {
    "tags": []
   },
   "outputs": [],
   "source": [
    "out_dir = 'output'\n",
    "if not os.path.isdir(out_dir):\n",
    "    os.makedirs(out_dir)"
   ]
  },
  {
   "cell_type": "code",
   "execution_count": null,
   "id": "4417c9b1-4e0b-4578-b1f9-cc235480f1fa",
   "metadata": {},
   "outputs": [],
   "source": [
    "out_files = []"
   ]
  },
  {
   "cell_type": "markdown",
   "id": "fc7c36d3-e329-4d09-ae49-3c58320f6e24",
   "metadata": {},
   "source": [
    "## Read annotated dataset"
   ]
  },
  {
   "cell_type": "code",
   "execution_count": null,
   "id": "db8e2e74-45cb-4374-a289-d7bc7a4c70f6",
   "metadata": {},
   "outputs": [],
   "source": [
    "h5ad_uuid = '6e8972a5-9463-4230-84b4-a20de055b9c3'"
   ]
  },
  {
   "cell_type": "code",
   "execution_count": null,
   "id": "f0327d84-c5b3-4a67-b007-edfc9932afb2",
   "metadata": {},
   "outputs": [],
   "source": [
    "adata = read_adata_uuid(h5ad_uuid)"
   ]
  },
  {
   "cell_type": "code",
   "execution_count": null,
   "id": "d71f1bf1-032b-40d5-9616-aee235d611e5",
   "metadata": {},
   "outputs": [],
   "source": [
    "adata.shape"
   ]
  },
  {
   "cell_type": "markdown",
   "id": "f6ab2640-44e1-46df-aead-c63af484d632",
   "metadata": {},
   "source": [
    "## Generate B cell object"
   ]
  },
  {
   "cell_type": "code",
   "execution_count": null,
   "id": "0d87d3eb-22ba-4e62-89f9-8e0767eb61ea",
   "metadata": {},
   "outputs": [],
   "source": [
    "cell_class = 'b-cells'\n",
    "keep_labels = ['B cell']"
   ]
  },
  {
   "cell_type": "code",
   "execution_count": null,
   "id": "6428237c-96d6-4295-b5da-806aa6cc3558",
   "metadata": {},
   "outputs": [],
   "source": [
    "adata_subset = adata[adata.obs['AIFI_L1'].isin(keep_labels)]\n",
    "adata_subset.shape"
   ]
  },
  {
   "cell_type": "code",
   "execution_count": null,
   "id": "4b01d211-db10-4c24-86f2-1f3caeac0a42",
   "metadata": {},
   "outputs": [],
   "source": [
    "obs = adata_subset.obs.copy()\n",
    "obs['AIFI_L1'] = obs['AIFI_L1'].cat.remove_unused_categories()\n",
    "obs['AIFI_L2'] = obs['AIFI_L2'].cat.remove_unused_categories()\n",
    "obs['AIFI_L3'] = obs['AIFI_L3'].cat.remove_unused_categories()\n",
    "adata_subset.obs = obs"
   ]
  },
  {
   "cell_type": "markdown",
   "id": "6a21a9fe-8828-4c6e-94dd-f8b3f217b12a",
   "metadata": {},
   "source": [
    "### Re-project within the subset"
   ]
  },
  {
   "cell_type": "code",
   "execution_count": null,
   "id": "a2802dfe-0613-46cc-9c1b-4d145c664f46",
   "metadata": {
    "tags": []
   },
   "outputs": [],
   "source": [
    "adata_subset = adata_subset.raw.to_adata()"
   ]
  },
  {
   "cell_type": "code",
   "execution_count": null,
   "id": "6a3cbba1-5776-4d2b-af14-8787df7d3ff0",
   "metadata": {
    "tags": []
   },
   "outputs": [],
   "source": [
    "adata_subset.raw = adata_subset"
   ]
  },
  {
   "cell_type": "code",
   "execution_count": null,
   "id": "38364962-ad6b-4bc6-8e07-e4f55fae7514",
   "metadata": {
    "tags": []
   },
   "outputs": [],
   "source": [
    "sc.pp.normalize_total(adata_subset, target_sum = 1e4)"
   ]
  },
  {
   "cell_type": "code",
   "execution_count": null,
   "id": "e26180fb-0aff-49fe-a4b9-520faf9d0e1a",
   "metadata": {
    "tags": []
   },
   "outputs": [],
   "source": [
    "sc.pp.log1p(adata_subset)\n",
    "sc.pp.highly_variable_genes(adata_subset)"
   ]
  },
  {
   "cell_type": "code",
   "execution_count": null,
   "id": "883a8ed2-bdaa-41ff-a178-56d068297c1b",
   "metadata": {
    "tags": []
   },
   "outputs": [],
   "source": [
    "adata_subset = adata_subset[:, adata_subset.var_names[adata_subset.var['highly_variable']]].copy()"
   ]
  },
  {
   "cell_type": "markdown",
   "id": "24d58b0c-5b40-405c-af7e-f800de7e3580",
   "metadata": {},
   "source": [
    "### Remove Ig Genes (for B cells only)"
   ]
  },
  {
   "cell_type": "code",
   "execution_count": null,
   "id": "a1f55779-691a-4077-8a12-80e3eba8aff5",
   "metadata": {
    "tags": []
   },
   "outputs": [],
   "source": [
    "igl_genes = [gene for gene in adata_subset.var_names if gene.startswith(\"IGL\")]\n",
    "igk_genes = [gene for gene in adata_subset.var_names if gene.startswith(\"IGK\")]\n",
    "ighc_genes = [gene for gene in adata_subset.var_names if gene.startswith(\"IGH\")]\n",
    "exl_genes = igl_genes + igk_genes + ighc_genes"
   ]
  },
  {
   "cell_type": "code",
   "execution_count": null,
   "id": "0d6f5b8e-d0e1-4f99-8ff9-58d11e5a6a6d",
   "metadata": {},
   "outputs": [],
   "source": [
    "filtered_genes = [gene for gene in adata_subset.var_names if gene not in exl_genes]\n",
    "adata_subset = adata_subset[:, filtered_genes]"
   ]
  },
  {
   "cell_type": "code",
   "execution_count": null,
   "id": "16606654-b53b-4195-aced-d3fe2a70de84",
   "metadata": {
    "tags": []
   },
   "outputs": [],
   "source": [
    "sc.pp.scale(adata_subset)"
   ]
  },
  {
   "cell_type": "code",
   "execution_count": null,
   "id": "9ad167cd-f976-4572-b8c5-5cab9469510d",
   "metadata": {
    "tags": []
   },
   "outputs": [],
   "source": [
    "sc.tl.pca(adata_subset, svd_solver='arpack')"
   ]
  },
  {
   "cell_type": "code",
   "execution_count": null,
   "id": "d724c4d8-39be-4b78-8dc9-2ff36992849e",
   "metadata": {
    "tags": []
   },
   "outputs": [],
   "source": [
    "sce.pp.harmony_integrate(\n",
    "    adata_subset, \n",
    "    'cohort.cohortGuid',\n",
    "    max_iter_harmony = 30)"
   ]
  },
  {
   "cell_type": "code",
   "execution_count": null,
   "id": "b138e575-201f-4f45-8361-ec6bb506b7bb",
   "metadata": {
    "tags": []
   },
   "outputs": [],
   "source": [
    "sc.pp.neighbors(\n",
    "    adata_subset, \n",
    "    n_neighbors = 50,\n",
    "    use_rep = 'X_pca_harmony', \n",
    "    n_pcs = 30)"
   ]
  },
  {
   "cell_type": "code",
   "execution_count": null,
   "id": "83051a28-cffe-4d96-b3ea-b5db7d8771f8",
   "metadata": {
    "tags": []
   },
   "outputs": [],
   "source": [
    "sc.tl.umap(adata_subset, min_dist = 0.05)"
   ]
  },
  {
   "cell_type": "code",
   "execution_count": null,
   "id": "5c5ab9f0-44d8-4bb1-a829-0e68f97a4c29",
   "metadata": {},
   "outputs": [],
   "source": [
    "sc.pl.umap(\n",
    "    adata_subset,\n",
    "    color = 'AIFI_L2'\n",
    ")"
   ]
  },
  {
   "cell_type": "code",
   "execution_count": null,
   "id": "9f541d69-5ce3-4b4a-a0c5-14e14a043bf4",
   "metadata": {},
   "outputs": [],
   "source": [
    "sc.pl.umap(\n",
    "    adata_subset,\n",
    "    color = 'AIFI_L2',\n",
    "    legend_loc = 'on data',\n",
    "    legend_fontsize = 6,\n",
    "    legend_fontweight = 'normal'\n",
    ")"
   ]
  },
  {
   "cell_type": "code",
   "execution_count": null,
   "id": "4c550d31-1fae-409b-9684-8efebf853a4c",
   "metadata": {
    "scrolled": true
   },
   "outputs": [],
   "source": [
    "sc.pl.umap(\n",
    "    adata_subset,\n",
    "    color = 'AIFI_L3'\n",
    ")"
   ]
  },
  {
   "cell_type": "code",
   "execution_count": null,
   "id": "bf86e27a-f21e-412f-a876-843975388e97",
   "metadata": {},
   "outputs": [],
   "source": [
    "sc.pl.umap(\n",
    "    adata_subset,\n",
    "    color = 'AIFI_L3',\n",
    "    legend_loc = 'on data',\n",
    "    legend_fontsize = 6,\n",
    "    legend_fontweight = 'normal'\n",
    ")"
   ]
  },
  {
   "cell_type": "markdown",
   "id": "3192aeb6-8554-4fed-a0e8-7e301b1a41d9",
   "metadata": {},
   "source": [
    "### Output subset annotations"
   ]
  },
  {
   "cell_type": "code",
   "execution_count": null,
   "id": "b8f46515-9ae8-45a1-8cc2-f64ca15f371a",
   "metadata": {},
   "outputs": [],
   "source": [
    "obs = adata_subset.obs\n",
    "obs = obs.reset_index(drop = True)"
   ]
  },
  {
   "cell_type": "code",
   "execution_count": null,
   "id": "5d70f1e6-e4fb-432e-8108-1e1419b817f2",
   "metadata": {},
   "outputs": [],
   "source": [
    "umap_mat = adata_subset.obsm['X_umap']\n",
    "umap_df = pd.DataFrame(umap_mat, columns = ['umap_1', 'umap_2'])\n",
    "obs['umap_1'] = umap_df['umap_1']\n",
    "obs['umap_2'] = umap_df['umap_2']"
   ]
  },
  {
   "cell_type": "code",
   "execution_count": null,
   "id": "c505fa71-28b8-4238-b46d-3097f00c3b0d",
   "metadata": {},
   "outputs": [],
   "source": [
    "obs.head()"
   ]
  },
  {
   "cell_type": "code",
   "execution_count": null,
   "id": "f5876b1f-0c0a-488d-bca0-2180e9b03c25",
   "metadata": {},
   "outputs": [],
   "source": [
    "obs_out_csv = '{p}/ref_pbmc_{c}_clean_labeled_meta_umap_{d}.csv'.format(p = out_dir, c = cell_class, d = date.today())\n",
    "obs.to_csv(obs_out_csv, index = False)\n",
    "out_files.append(obs_out_csv)"
   ]
  },
  {
   "cell_type": "code",
   "execution_count": null,
   "id": "359cba19-fdc0-4596-bf2b-d9077915ab3e",
   "metadata": {},
   "outputs": [],
   "source": [
    "obs_out_parquet = '{p}/ref_pbmc_{c}_clean_labeled_meta_umap_{d}.parquet'.format(p = out_dir, c = cell_class, d = date.today())\n",
    "obs.to_parquet(obs_out_parquet, index = False)\n",
    "out_files.append(obs_out_parquet)"
   ]
  },
  {
   "cell_type": "markdown",
   "id": "fd586554-7c15-444d-b79f-73ba0180f7aa",
   "metadata": {},
   "source": [
    "### Output subset AnnData"
   ]
  },
  {
   "cell_type": "code",
   "execution_count": null,
   "id": "0651ffe8-c863-4334-a9c1-00d051092b0c",
   "metadata": {},
   "outputs": [],
   "source": [
    "out_h5ad = '{p}/ref_pbmc_{c}_clean_labeled_{d}.h5ad'.format(p = out_dir, c = cell_class, d = date.today())\n",
    "adata.write_h5ad(out_h5ad)\n",
    "out_files.append(out_h5ad)"
   ]
  },
  {
   "cell_type": "markdown",
   "id": "1fd589cf-f322-41aa-b4fc-822397cb93da",
   "metadata": {},
   "source": [
    "## Upload results to HISE\n",
    "\n",
    "Finally, we'll use `hisepy.upload.upload_files()` to send a copy of our output to HISE to use for downstream analysis steps."
   ]
  },
  {
   "cell_type": "code",
   "execution_count": null,
   "id": "550ae5d2-6eb3-4944-8557-e6e64bbcacce",
   "metadata": {},
   "outputs": [],
   "source": [
    "study_space_uuid = '64097865-486d-43b3-8f94-74994e0a72e0'\n",
    "title = 'Clean PBMC Reference B cells {d}'.format(d = date.today())"
   ]
  },
  {
   "cell_type": "code",
   "execution_count": null,
   "id": "34f48604-04d9-4b99-9b01-2f82125f3f03",
   "metadata": {},
   "outputs": [],
   "source": [
    "in_files = [h5ad_uuid]"
   ]
  },
  {
   "cell_type": "code",
   "execution_count": null,
   "id": "89f51f02-f407-4eaa-9c59-7f7cc4ee9eb2",
   "metadata": {},
   "outputs": [],
   "source": [
    "in_files"
   ]
  },
  {
   "cell_type": "code",
   "execution_count": null,
   "id": "6198b9a3-891b-4f35-adbf-099962b7b81c",
   "metadata": {},
   "outputs": [],
   "source": [
    "out_files"
   ]
  },
  {
   "cell_type": "code",
   "execution_count": null,
   "id": "91145775-9a77-40b8-aaba-b6877dda6188",
   "metadata": {},
   "outputs": [],
   "source": [
    "hisepy.upload.upload_files(\n",
    "    files = out_files,\n",
    "    study_space_id = study_space_uuid,\n",
    "    title = title,\n",
    "    input_file_ids = in_files\n",
    ")"
   ]
  },
  {
   "cell_type": "code",
   "execution_count": null,
   "id": "e0fe73da-3cd8-4188-abed-40871b35b7e3",
   "metadata": {},
   "outputs": [],
   "source": [
    "import session_info\n",
    "session_info.show()"
   ]
  },
  {
   "cell_type": "code",
   "execution_count": null,
   "id": "cea5730b-fe31-44d8-ab49-ab91986a8805",
   "metadata": {},
   "outputs": [],
   "source": []
  }
 ],
 "metadata": {
  "kernelspec": {
   "display_name": "Python 3 (ipykernel)",
   "language": "python",
   "name": "python3"
  },
  "language_info": {
   "codemirror_mode": {
    "name": "ipython",
    "version": 3
   },
   "file_extension": ".py",
   "mimetype": "text/x-python",
   "name": "python",
   "nbconvert_exporter": "python",
   "pygments_lexer": "ipython3",
   "version": "3.10.13"
  }
 },
 "nbformat": 4,
 "nbformat_minor": 5
}
