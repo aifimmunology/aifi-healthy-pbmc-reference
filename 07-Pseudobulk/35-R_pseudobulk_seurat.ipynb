{
 "cells": [
  {
   "cell_type": "markdown",
   "id": "c3b2b64f-3e78-411a-aadc-e8c7975effc2",
   "metadata": {},
   "source": [
    "# Convert to Pseudobulk using Seurat\n",
    "\n",
    "In this notebook, we utilize the normalization and aggregation functions in the Seurat package convert our single-cell data to pseudobulk values for each cell type per sample.\n",
    "\n",
    "For use in other analyses, we'll retain only the BR1 and BR2 cohorts, and exclude the pediatric cohort because we've included only a few samples from this younger cohort."
   ]
  },
  {
   "cell_type": "markdown",
   "id": "2c3d61b5-d78d-45e9-9342-b4a9382644e0",
   "metadata": {},
   "source": [
    "## Load packages"
   ]
  },
  {
   "cell_type": "code",
   "execution_count": 1,
   "id": "ade89989-c0ed-49a4-a61d-f14f17515d65",
   "metadata": {},
   "outputs": [],
   "source": [
    "quiet_library <- function(...) { suppressPackageStartupMessages(library(...)) }\n",
    "\n",
    "quiet_library(dplyr)\n",
    "quiet_library(hise)\n",
    "quiet_library(H5weaver)\n",
    "quiet_library(purrr)\n",
    "quiet_library(furrr)\n",
    "quiet_library(Seurat)"
   ]
  },
  {
   "cell_type": "code",
   "execution_count": 2,
   "id": "2d6c34fb-2385-4caf-bfb7-fd4e3275aaf5",
   "metadata": {},
   "outputs": [],
   "source": [
    "plan(multicore, workers = 12)"
   ]
  },
  {
   "cell_type": "code",
   "execution_count": 3,
   "id": "2ec92451-a8fe-4859-816c-0f38a06c6573",
   "metadata": {},
   "outputs": [],
   "source": [
    "min_detection <- 0.1"
   ]
  },
  {
   "cell_type": "code",
   "execution_count": 4,
   "id": "3c801b7d-e6eb-43cb-950a-a3be8501f375",
   "metadata": {},
   "outputs": [],
   "source": [
    "if(!dir.exists(\"output\")) {\n",
    "    dir.create(\"output\")\n",
    "}"
   ]
  },
  {
   "cell_type": "code",
   "execution_count": 5,
   "id": "5a21a9af-beee-41a8-9362-1d840ca8dd12",
   "metadata": {},
   "outputs": [],
   "source": [
    "out_files <- c()"
   ]
  },
  {
   "cell_type": "markdown",
   "id": "cf5afee4-edea-4f4b-a545-d7d25410188c",
   "metadata": {},
   "source": [
    "## Helper functions\n",
    "This function assists in reading cell metadata data directly from .h5ad files into R"
   ]
  },
  {
   "cell_type": "code",
   "execution_count": 6,
   "id": "1e857f23-4971-4d26-a0b0-75bef55bffdf",
   "metadata": {},
   "outputs": [],
   "source": [
    "read_h5ad_cell_meta <- function(h5ad_file) \n",
    "{\n",
    "    h5ad_contents <- H5weaver::h5ls(h5ad_file)\n",
    "    obs_locs <- h5ad_contents$full_name[h5ad_contents$group == \"/obs\"]\n",
    "    obs_locs <- obs_locs[!obs_locs %in% c(\"/obs/__categories\", \"/obs/_index\")]\n",
    "    obs_locs <- obs_locs[!grepl(\"Unnamed\", obs_locs)]\n",
    "\n",
    "    h5ad <- H5Fopen(h5ad_file)\n",
    "\n",
    "    obs_list <- lapply(obs_locs, function(loc) {h5read(h5ad, loc)})\n",
    "\n",
    "    obs_list <- lapply(\n",
    "        obs_list,\n",
    "        function(obs) {\n",
    "            if(length(obs) == 2) {\n",
    "                vals <- vector(length = length(obs$codes))\n",
    "                vals[obs$codes >= 0] <- as.vector(obs$categories)[as.vector(obs$codes + 1)]\n",
    "                vals[obs$codes == -1] <- NA\n",
    "            } else {\n",
    "                vals <- as.vector(obs)\n",
    "            }\n",
    "\n",
    "            vals\n",
    "        }\n",
    "    )\n",
    "\n",
    "    obs_list <- lapply(obs_list, as.vector)\n",
    "    names(obs_list) <- sub(\".+/\", \"\", obs_locs)\n",
    "\n",
    "    H5Fclose(h5ad)\n",
    "    as.data.frame(obs_list)\n",
    "}"
   ]
  },
  {
   "cell_type": "markdown",
   "id": "78d5aebe-23f1-405f-827d-5532d5295d1e",
   "metadata": {},
   "source": [
    "This function converts from .h5ad expression values to pseudobulk"
   ]
  },
  {
   "cell_type": "code",
   "execution_count": 7,
   "id": "2771b1ae-9afe-41cb-8588-6b212a1c9ab8",
   "metadata": {},
   "outputs": [],
   "source": [
    "h5ad_to_pseudobulk_seurat <- function(h5ad_file, group_by, min_detection = 0.1, filters = NULL) {\n",
    "    \n",
    "    meta <- read_h5ad_cell_meta(h5ad_file)\n",
    "    \n",
    "    if(!is.null(filters)) {\n",
    "        for (i in 1:length(filters)) {\n",
    "            filter_group <- names(filters)[i]\n",
    "            filter_group <- rlang::parse_expr(filter_group)\n",
    "\n",
    "            keep_groups <- filters[[i]]\n",
    "            meta <- meta %>%\n",
    "                filter(!!filter_group %in% keep_groups)\n",
    "        }\n",
    "    }\n",
    "    \n",
    "    meta$pb_group <- meta[[group_by[1]]]\n",
    "    if(length(group_by) > 1) {\n",
    "        for (i in 2:length(group_by)) {\n",
    "            meta$pb_group <- paste(meta$pb_group, meta[[group_by[i]]], sep = \".\")\n",
    "        }\n",
    "    }\n",
    "    meta$pb_group <- gsub(\" \",\"-\",meta$pb_group)\n",
    "    meta$pb_group <- gsub(\"_\",\"-\",meta$pb_group)\n",
    "    \n",
    "    mat <- read_h5ad_dgCMatrix(h5ad_file, feature_names = \"_index\")\n",
    "    \n",
    "    genes <- rownames(mat)\n",
    "    keep_genes <- genes[!grepl(\"^RP|^MT-|^LINC|orf\",genes)]\n",
    "    \n",
    "    type_meta <- split(meta, meta$AIFI_L3)\n",
    "    type_mat <- map(type_meta, function(meta) { mat[keep_genes,meta$barcodes] })\n",
    "    \n",
    "    type_detection <- map(\n",
    "        type_mat,\n",
    "        function(mat) {\n",
    "            mat <- t(mat)\n",
    "            diff(mat@p) / nrow(mat)\n",
    "        }\n",
    "    )\n",
    "    \n",
    "    type_mat <- map2(\n",
    "        type_mat, type_detection,\n",
    "        function(type_mat, detection) {\n",
    "            type_mat[detection >= min_detection,]\n",
    "        }\n",
    "    )\n",
    "    \n",
    "    type_pb <- map2(\n",
    "        type_meta, type_mat,\n",
    "        function(meta, mat) {\n",
    "            rownames(meta) <- meta$barcodes\n",
    "            \n",
    "            so <- CreateSeuratObject(\n",
    "                counts = mat,\n",
    "                meta.data = meta\n",
    "            )\n",
    "    \n",
    "            AggregateExpression(\n",
    "                so,\n",
    "                assays = \"RNA\",\n",
    "                return.seurat = FALSE,\n",
    "                group.by = \"pb_group\")$RNA\n",
    "        }\n",
    "    )\n",
    "    \n",
    "    type_pb\n",
    "}"
   ]
  },
  {
   "cell_type": "code",
   "execution_count": 17,
   "id": "5d986d33-4647-4abf-a264-bae19121b293",
   "metadata": {},
   "outputs": [],
   "source": [
    "h5ad_to_pseudobulk_meta <- function(h5ad_file, group_by, filters) {\n",
    "    meta <- read_h5ad_cell_meta(h5ad_file)\n",
    "    \n",
    "    if(!is.null(filters)) {\n",
    "        for (i in 1:length(filters)) {\n",
    "            filter_group <- names(filters)[i]\n",
    "            filter_group <- rlang::parse_expr(filter_group)\n",
    "\n",
    "            keep_groups <- filters[[i]]\n",
    "            meta <- meta %>%\n",
    "                filter(!!filter_group %in% keep_groups)\n",
    "        }\n",
    "    }\n",
    "    \n",
    "    meta$pb_group <- meta[[group_by[1]]]\n",
    "    if(length(group_by) > 1) {\n",
    "        for (i in 2:length(group_by)) {\n",
    "            meta$pb_group <- paste(meta$pb_group, meta[[group_by[i]]], sep = \".\")\n",
    "        }\n",
    "    }\n",
    "    meta$pb_group <- gsub(\" \",\"-\",meta$pb_group)\n",
    "    meta$pb_group <- gsub(\"_\",\"-\",meta$pb_group)\n",
    "    \n",
    "    meta <- meta %>%\n",
    "      select(pb_group, cohort.cohortGuid,\n",
    "             starts_with(\"subject\"),\n",
    "             starts_with(\"sample\"),\n",
    "             starts_with(\"AIFI_\")) %>%\n",
    "      group_by(pb_group) %>%\n",
    "      mutate(n_cells = n()) %>%\n",
    "      ungroup() %>%\n",
    "      unique() %>%\n",
    "      rename(barcodes = pb_group)\n",
    "\n",
    "    split(meta, meta$AIFI_L3)\n",
    "}"
   ]
  },
  {
   "cell_type": "markdown",
   "id": "1bf58308-0ee4-4263-9076-889353d2ef87",
   "metadata": {},
   "source": [
    "## Retrieve files to process in HISE\n",
    "\n",
    "We'll retrieve our clean, non-normalized .h5ad datasets for each AIFI_L2 class from HISE:"
   ]
  },
  {
   "cell_type": "code",
   "execution_count": 9,
   "id": "d8b83342-6379-4fbc-9b0a-9e645864724b",
   "metadata": {},
   "outputs": [],
   "source": [
    "h5ad_uuids <- list(\n",
    "    \"ASDC\" = \"93995785-045f-4068-84b6-2caffadd2046\",\n",
    "    \"CD14_monocyte\" = \"889376f0-2f6d-4eb5-83b1-09a5dbe7bddb\",\n",
    "    \"CD16_monocyte\" = \"fdb1a13e-9f00-458c-87b3-490b0cbe5d60\",\n",
    "    \"CD56bright_NK_cell\" = \"80a1f0a7-b295-4529-b94a-28e5a5cf5d99\",\n",
    "    \"CD56dim_NK_cell\" = \"c737f38d-489a-496d-9543-0df3cd28b73e\",\n",
    "    \"CD8aa\" = \"8eb443ae-8416-4cec-a713-239f3c09a049\",\n",
    "    \"cDC1\" = \"2030a86a-8496-49b9-9648-609963037bf5\",\n",
    "    \"cDC2\" = \"2e083c20-6461-4288-a55c-aa1fc0b0dac9\",\n",
    "    \"DN_T_cell\" = \"b4ba5cd7-af29-4b79-b383-b02d22d6a676\",\n",
    "    \"Effector_B_cell\" = \"79182a91-5c2c-495c-9d9e-211c2c1e7ce0\",\n",
    "    \"Erythrocyte\" = \"394197d7-85f0-46df-89cc-b837a7de107b\",\n",
    "    \"gdT\" = \"b5c5cc8d-e19e-46d6-8313-2901c19911c9\",\n",
    "    \"ILC\" = \"f61c717f-f176-4e19-b886-4418d4585f86\",\n",
    "    \"Intermediate_monocyte\" = \"c6a7c833-27c7-4f5e-8c5b-500d50e6d52d\",\n",
    "    \"MAIT\" = \"2472e2a9-851f-4bfb-a4a0-266f1d307d8e\",\n",
    "    \"Memory_B_cell\" = \"f5deed80-15d6-4faf-9e83-bec55d337656\",\n",
    "    \"Memory_CD4_T_cell\" = \"cc12267d-73e4-4b52-b1de-337d218b31c2\",\n",
    "    \"Memory_CD8_T_cell\" = \"25fc1e17-0dd3-478a-a2c2-a6871b676b3d\",\n",
    "    \"Naive_B_cell\" = \"c57030dd-4c66-4be1-9d06-cc8f505c24d6\",\n",
    "    \"Naive_CD4_T_cell\" = \"bec3a130-218a-4095-9183-b5908872e109\",\n",
    "    \"Naive_CD8_T_cell\" = \"0590000f-c9c6-4b3d-a613-1fa8bc65abbd\",\n",
    "    \"pDC\" = \"21954e50-0e55-484e-aa54-36d892bb52b6\",\n",
    "    \"Plasma_cell\" = \"896280a1-b04d-4f26-9549-80e8c16dc612\",\n",
    "    \"Platelet\" = \"5304bc14-1539-4443-a2dc-99632db631ea\",\n",
    "    \"Progenitor_cell\" = \"054798fb-1d63-4b24-8d0a-ad61f68ebcbc\",\n",
    "    \"Proliferating_NK_cell\" = \"72ec0f6a-0994-4f5f-9c8f-e46b3846a83d\",\n",
    "    \"Proliferating_T_cell\" = \"ac9b7079-dd80-425d-8923-945d900cc445\",\n",
    "    \"Transitional_B_cell\" = \"3a2e0fe0-a199-47f2-bab3-4b2f5d905451\",\n",
    "    \"Treg\" = \"c9c5f690-baaa-46fc-88c7-a723dbc95986\"\n",
    ")"
   ]
  },
  {
   "cell_type": "code",
   "execution_count": 10,
   "id": "dffaadf9-3cd0-4e67-9a75-1a2df98d3d15",
   "metadata": {},
   "outputs": [],
   "source": [
    "res <- cacheFiles(h5ad_uuids)"
   ]
  },
  {
   "cell_type": "code",
   "execution_count": 11,
   "id": "4de03534-8bfc-494a-a846-f08200bab638",
   "metadata": {},
   "outputs": [],
   "source": [
    "h5ad_files <- list.files(paste0(\"cache/\", h5ad_uuids), pattern = \".h5ad\", full.names = TRUE)"
   ]
  },
  {
   "cell_type": "markdown",
   "id": "3ad60da3-f246-4248-abb2-79d011141edc",
   "metadata": {},
   "source": [
    "## Convert to pseudobulk for each type"
   ]
  },
  {
   "cell_type": "code",
   "execution_count": 12,
   "id": "bdad8365-e0be-42fc-bf53-a917645b297f",
   "metadata": {},
   "outputs": [],
   "source": [
    "keep_cohorts <- c(\"BR1\", \"BR2\")"
   ]
  },
  {
   "cell_type": "code",
   "execution_count": 13,
   "id": "9360b720-494a-4786-baf8-d0969cbed1aa",
   "metadata": {},
   "outputs": [],
   "source": [
    "group_by <- c(\"AIFI_L3\", \"subject.subjectGuid\", \"sample.visitName\")"
   ]
  },
  {
   "cell_type": "code",
   "execution_count": 14,
   "id": "7a504eea-5e11-4b92-9d1d-b3eec782dee1",
   "metadata": {},
   "outputs": [],
   "source": [
    "pb_mats <- future_map(\n",
    "    h5ad_files,\n",
    "    h5ad_to_pseudobulk_seurat,\n",
    "    group_by = group_by,\n",
    "    min_detection = min_detection,\n",
    "    filters = list(cohort.cohortGuid = keep_cohorts)\n",
    ")"
   ]
  },
  {
   "cell_type": "code",
   "execution_count": 15,
   "id": "c36a447f-9ef2-49d1-93ba-be1da1dd5730",
   "metadata": {},
   "outputs": [],
   "source": [
    "pb_mats <- unlist(pb_mats, recursive = FALSE)"
   ]
  },
  {
   "cell_type": "code",
   "execution_count": 18,
   "id": "753f4af7-9048-48b1-802a-512d95384cfb",
   "metadata": {},
   "outputs": [],
   "source": [
    "pb_meta <- future_map(\n",
    "    h5ad_files,\n",
    "    h5ad_to_pseudobulk_meta,\n",
    "    group_by = group_by,\n",
    "    filters = list(cohort.cohortGuid = keep_cohorts)\n",
    ")"
   ]
  },
  {
   "cell_type": "code",
   "execution_count": 19,
   "id": "b7452e2b-da31-44a1-b39f-6f211578ee80",
   "metadata": {},
   "outputs": [],
   "source": [
    "pb_meta <- unlist(pb_meta, recursive = FALSE)"
   ]
  },
  {
   "cell_type": "markdown",
   "id": "656415f5-3bff-4580-ab53-820be21f314a",
   "metadata": {},
   "source": [
    "## Save to .rds of metadata and matrices for later use in R"
   ]
  },
  {
   "cell_type": "code",
   "execution_count": 20,
   "id": "7b056a12-8ec7-4116-b8cb-8114f190235c",
   "metadata": {},
   "outputs": [],
   "source": [
    "pb_data <- list(\n",
    "    mats = pb_mats,\n",
    "    meta = pb_meta\n",
    ")"
   ]
  },
  {
   "cell_type": "code",
   "execution_count": 21,
   "id": "1035bdb9-9bab-4461-bfc8-306abc4c0097",
   "metadata": {},
   "outputs": [],
   "source": [
    "out_rds <- paste0(\"output/ref_pbmc_AIFI_L3_seurat_pseudobulk_list_\", Sys.Date(), \".rds\")\n",
    "saveRDS(pb_data, out_rds)"
   ]
  },
  {
   "cell_type": "code",
   "execution_count": 22,
   "id": "05d05993-3b69-47fc-870d-a2b5c95fdedc",
   "metadata": {},
   "outputs": [],
   "source": [
    "out_files <- c(out_files, out_rds)"
   ]
  },
  {
   "cell_type": "markdown",
   "id": "755ada9d-c58d-4e44-a089-87ddad788dcb",
   "metadata": {},
   "source": [
    "## Save to .h5 files for later use via H5weaver"
   ]
  },
  {
   "cell_type": "code",
   "execution_count": 23,
   "id": "b692ef6b-02e9-4379-8b5e-3e9dbec9d77e",
   "metadata": {},
   "outputs": [],
   "source": [
    "pb_h5_lists <- future_map2(\n",
    "    pb_mats, pb_meta,\n",
    "    function(mat, meta) {\n",
    "        h5_list <- list(\n",
    "            matrix_dgCMatrix = mat,\n",
    "            matrix = list(\n",
    "                observations = as.list(meta)\n",
    "            )\n",
    "        )\n",
    "        h5_list_convert_from_dgCMatrix(h5_list)\n",
    "    }\n",
    ")"
   ]
  },
  {
   "cell_type": "code",
   "execution_count": 24,
   "id": "571a420e-48de-4e4c-a4ac-e9f5ef389087",
   "metadata": {},
   "outputs": [],
   "source": [
    "out_h5 <- map(\n",
    "    names(pb_h5_lists), \n",
    "    function(ct) {\n",
    "        ct <- gsub(\" \", \"-\", ct)\n",
    "        paste0(\"output/ref_pbmc_AIFI_L3_\",\n",
    "               ct,\n",
    "               \"_seurat_pseudobulk_\",\n",
    "               Sys.Date(),\n",
    "               \".h5\")\n",
    "    }\n",
    ")"
   ]
  },
  {
   "cell_type": "code",
   "execution_count": 25,
   "id": "bcfc6bb6-b151-4626-bb47-4448b6c752ad",
   "metadata": {},
   "outputs": [],
   "source": [
    "walk2(\n",
    "    pb_h5_lists, out_h5,\n",
    "    write_h5_list\n",
    ")"
   ]
  },
  {
   "cell_type": "markdown",
   "id": "e108a1ae-4c77-423e-a66a-703f359c14d9",
   "metadata": {},
   "source": [
    "combine all of these in .tar file for upload"
   ]
  },
  {
   "cell_type": "code",
   "execution_count": 26,
   "id": "8b5af14a-acc9-4a5b-8819-aa5c83738a4b",
   "metadata": {},
   "outputs": [],
   "source": [
    "h5_tar <- paste0(\"output/ref_pbmc_AIFI_L3_seurat_pseudobulk_h5_\", Sys.Date(), \".tar.gz\")\n",
    "system_call <- paste(\n",
    "    \"tar -czf\", h5_tar, \"output/ref_pbmc_AIFI_L3*.h5\"\n",
    ")\n",
    "system(system_call)"
   ]
  },
  {
   "cell_type": "code",
   "execution_count": 27,
   "id": "b70b9206-6d0b-468a-889f-9f5eea58af44",
   "metadata": {},
   "outputs": [],
   "source": [
    "out_files <- c(out_files, h5_tar)"
   ]
  },
  {
   "cell_type": "markdown",
   "id": "09a19614-0e70-426a-8e2b-032ec61d7863",
   "metadata": {},
   "source": [
    "## Convert to pseudobulk within groups\n",
    "\n",
    "### BR1 Cohort"
   ]
  },
  {
   "cell_type": "code",
   "execution_count": 28,
   "id": "e8f7845c-e054-405d-a557-f9ba52be84f2",
   "metadata": {},
   "outputs": [],
   "source": [
    "subset_name <- \"BR1\""
   ]
  },
  {
   "cell_type": "code",
   "execution_count": 30,
   "id": "57a5beee-c5ee-456d-aef8-bce8faa715f0",
   "metadata": {},
   "outputs": [],
   "source": [
    "group_by <- c(\"AIFI_L3\", \"subject.subjectGuid\", \"sample.visitName\")"
   ]
  },
  {
   "cell_type": "code",
   "execution_count": 31,
   "id": "027b470f-c883-4308-b45b-198539ab57a3",
   "metadata": {},
   "outputs": [],
   "source": [
    "pb_mats <- future_map(\n",
    "    h5ad_files,\n",
    "    h5ad_to_pseudobulk_seurat,\n",
    "    group_by = group_by,\n",
    "    min_detection = min_detection,\n",
    "    filters = list(cohort.cohortGuid = \"BR1\")\n",
    ")"
   ]
  },
  {
   "cell_type": "code",
   "execution_count": 32,
   "id": "9125fa96-fcd6-4c27-8ed9-ed04afe51024",
   "metadata": {},
   "outputs": [],
   "source": [
    "pb_mats <- unlist(pb_mats, recursive = FALSE)"
   ]
  },
  {
   "cell_type": "code",
   "execution_count": 33,
   "id": "a870337a-27d1-4e2e-98fa-44716eb401da",
   "metadata": {},
   "outputs": [],
   "source": [
    "pb_meta <- future_map(\n",
    "    h5ad_files,\n",
    "    h5ad_to_pseudobulk_meta,\n",
    "    group_by = group_by,\n",
    "    filters = list(cohort.cohortGuid = \"BR1\")\n",
    ")"
   ]
  },
  {
   "cell_type": "code",
   "execution_count": 34,
   "id": "47bc519b-956e-4007-9f56-702b2379a1b0",
   "metadata": {},
   "outputs": [],
   "source": [
    "pb_meta <- unlist(pb_meta, recursive = FALSE)"
   ]
  },
  {
   "cell_type": "markdown",
   "id": "f34de7d7-9109-418a-9e0e-46e6c0040777",
   "metadata": {},
   "source": [
    "#### Save to .rds of metadata and matrices for later use in R"
   ]
  },
  {
   "cell_type": "code",
   "execution_count": 35,
   "id": "450c21aa-b03c-40e2-90be-8c9f68940512",
   "metadata": {},
   "outputs": [],
   "source": [
    "pb_data <- list(\n",
    "    mats = pb_mats,\n",
    "    meta = pb_meta\n",
    ")"
   ]
  },
  {
   "cell_type": "code",
   "execution_count": 36,
   "id": "f760375d-4d52-4884-8751-70cc84494128",
   "metadata": {},
   "outputs": [],
   "source": [
    "out_rds <- paste0(\"output/ref_pbmc_\", subset_name, \"_AIFI_L3_seurat_pseudobulk_list_\", Sys.Date(), \".rds\")\n",
    "saveRDS(pb_data, out_rds)"
   ]
  },
  {
   "cell_type": "code",
   "execution_count": 37,
   "id": "e5d93c09-c4b0-440f-beb2-b80543d2ad74",
   "metadata": {},
   "outputs": [],
   "source": [
    "out_files <- c(out_files, out_rds)"
   ]
  },
  {
   "cell_type": "markdown",
   "id": "36ee1233-f5c7-48aa-b310-93b3dfa3a2c4",
   "metadata": {},
   "source": [
    "#### Save to .h5 files for later use via H5weaver"
   ]
  },
  {
   "cell_type": "code",
   "execution_count": 38,
   "id": "f4307df5-40fb-41d8-8177-6810a967c77f",
   "metadata": {},
   "outputs": [],
   "source": [
    "pb_h5_lists <- future_map2(\n",
    "    pb_mats, pb_meta,\n",
    "    function(mat, meta) {\n",
    "        h5_list <- list(\n",
    "            matrix_dgCMatrix = mat,\n",
    "            matrix = list(\n",
    "                observations = as.list(meta)\n",
    "            )\n",
    "        )\n",
    "        h5_list_convert_from_dgCMatrix(h5_list)\n",
    "    }\n",
    ")"
   ]
  },
  {
   "cell_type": "code",
   "execution_count": 39,
   "id": "05566308-17d5-42c2-b5b0-9385b5b00153",
   "metadata": {},
   "outputs": [],
   "source": [
    "out_h5 <- map(\n",
    "    names(pb_h5_lists), \n",
    "    function(ct) {\n",
    "        ct <- gsub(\" \", \"-\", ct)\n",
    "        paste0(\"output/ref_pbmc_\",subset_name,\"AIFI_L3_\",\n",
    "               ct,\n",
    "               \"_seurat_pseudobulk_\",\n",
    "               Sys.Date(),\n",
    "               \".h5\")\n",
    "    }\n",
    ")"
   ]
  },
  {
   "cell_type": "code",
   "execution_count": 40,
   "id": "35856d98-f3dd-433d-a3f9-7c1e335a669d",
   "metadata": {},
   "outputs": [],
   "source": [
    "walk2(\n",
    "    pb_h5_lists, out_h5,\n",
    "    write_h5_list\n",
    ")"
   ]
  },
  {
   "cell_type": "markdown",
   "id": "07280282-b5a7-4b53-baaf-e24a624f3e4d",
   "metadata": {},
   "source": [
    "combine all of these in .tar file for upload"
   ]
  },
  {
   "cell_type": "code",
   "execution_count": 41,
   "id": "27ec4f56-4db9-4189-b04c-16010bc91496",
   "metadata": {},
   "outputs": [],
   "source": [
    "h5_tar <- paste0(\"output/ref_pbmc_\",subset_name,\"_AIFI_L3_seurat_pseudobulk_h5_\", Sys.Date(), \".tar.gz\")\n",
    "system_call <- paste(\n",
    "    \"tar -czf\", h5_tar, \"output/ref_pbmc_\",subset_name,\"*.h5\"\n",
    ")\n",
    "system(system_call)"
   ]
  },
  {
   "cell_type": "code",
   "execution_count": 42,
   "id": "e43378d5-9575-4018-bcf9-55bbddca6c50",
   "metadata": {},
   "outputs": [],
   "source": [
    "out_files <- c(out_files, h5_tar)"
   ]
  },
  {
   "cell_type": "markdown",
   "id": "28ac8b21-e198-4f20-9935-65267a3168e7",
   "metadata": {},
   "source": [
    "### BR2 Cohort"
   ]
  },
  {
   "cell_type": "code",
   "execution_count": 43,
   "id": "2e46a70a-ee7f-49a3-bc84-a5ae9e75ee84",
   "metadata": {},
   "outputs": [],
   "source": [
    "subset_name <- \"BR2\""
   ]
  },
  {
   "cell_type": "code",
   "execution_count": 44,
   "id": "13dbbb21-8726-48b0-b31e-d4fac466b430",
   "metadata": {},
   "outputs": [],
   "source": [
    "group_by <- c(\"AIFI_L3\", \"subject.subjectGuid\", \"sample.visitName\")"
   ]
  },
  {
   "cell_type": "code",
   "execution_count": 45,
   "id": "0a122825-23cf-406e-bc33-c3acb2ccdce6",
   "metadata": {},
   "outputs": [],
   "source": [
    "pb_mats <- future_map(\n",
    "    h5ad_files,\n",
    "    h5ad_to_pseudobulk_seurat,\n",
    "    group_by = group_by,\n",
    "    min_detection = min_detection,\n",
    "    filters = list(cohort.cohortGuid = \"BR2\")\n",
    ")"
   ]
  },
  {
   "cell_type": "code",
   "execution_count": 46,
   "id": "2d86ed8d-3b6e-4874-be66-499d0bbcbf23",
   "metadata": {},
   "outputs": [],
   "source": [
    "pb_mats <- unlist(pb_mats, recursive = FALSE)"
   ]
  },
  {
   "cell_type": "code",
   "execution_count": 47,
   "id": "a8ac0d43-a532-4efb-8c4d-a78a99adab2f",
   "metadata": {},
   "outputs": [],
   "source": [
    "pb_meta <- future_map(\n",
    "    h5ad_files,\n",
    "    h5ad_to_pseudobulk_meta,\n",
    "    group_by = group_by,\n",
    "    filters = list(cohort.cohortGuid = \"BR2\")\n",
    ")"
   ]
  },
  {
   "cell_type": "code",
   "execution_count": 48,
   "id": "e73d5d22-acc5-459f-9b0c-878fc47f980a",
   "metadata": {},
   "outputs": [],
   "source": [
    "pb_meta <- unlist(pb_meta, recursive = FALSE)"
   ]
  },
  {
   "cell_type": "markdown",
   "id": "6ce4a971-0a38-4e30-90c9-3d9dbe0f67bb",
   "metadata": {},
   "source": [
    "#### Save to .rds of metadata and matrices for later use in R"
   ]
  },
  {
   "cell_type": "code",
   "execution_count": 49,
   "id": "b3ac2bb8-c986-4666-8dd9-b3e48254b70b",
   "metadata": {},
   "outputs": [],
   "source": [
    "pb_data <- list(\n",
    "    mats = pb_mats,\n",
    "    meta = pb_meta\n",
    ")"
   ]
  },
  {
   "cell_type": "code",
   "execution_count": 50,
   "id": "dfbf448c-889b-4ade-b4bb-53c95a6e6f01",
   "metadata": {},
   "outputs": [],
   "source": [
    "out_rds <- paste0(\"output/ref_pbmc_\", subset_name, \"_AIFI_L3_seurat_pseudobulk_list_\", Sys.Date(), \".rds\")\n",
    "saveRDS(pb_data, out_rds)"
   ]
  },
  {
   "cell_type": "code",
   "execution_count": 51,
   "id": "159551f5-f27a-4496-af6f-75279c01c56c",
   "metadata": {},
   "outputs": [],
   "source": [
    "out_files <- c(out_files, out_rds)"
   ]
  },
  {
   "cell_type": "markdown",
   "id": "192b2664-f223-4a3c-9d40-3421c1a61e81",
   "metadata": {},
   "source": [
    "#### Save to .h5 files for later use via H5weaver"
   ]
  },
  {
   "cell_type": "code",
   "execution_count": 52,
   "id": "eaa706bc-50c5-4a22-8cf9-a096dab04e38",
   "metadata": {},
   "outputs": [],
   "source": [
    "pb_h5_lists <- future_map2(\n",
    "    pb_mats, pb_meta,\n",
    "    function(mat, meta) {\n",
    "        h5_list <- list(\n",
    "            matrix_dgCMatrix = mat,\n",
    "            matrix = list(\n",
    "                observations = as.list(meta)\n",
    "            )\n",
    "        )\n",
    "        h5_list_convert_from_dgCMatrix(h5_list)\n",
    "    }\n",
    ")"
   ]
  },
  {
   "cell_type": "code",
   "execution_count": 53,
   "id": "8f79d61b-2aad-45f4-8e24-56d7d5b50280",
   "metadata": {},
   "outputs": [],
   "source": [
    "out_h5 <- map(\n",
    "    names(pb_h5_lists), \n",
    "    function(ct) {\n",
    "        ct <- gsub(\" \", \"-\", ct)\n",
    "        paste0(\"output/ref_pbmc_\",subset_name,\"AIFI_L3_\",\n",
    "               ct,\n",
    "               \"_seurat_pseudobulk_\",\n",
    "               Sys.Date(),\n",
    "               \".h5\")\n",
    "    }\n",
    ")"
   ]
  },
  {
   "cell_type": "code",
   "execution_count": 54,
   "id": "b17f29af-32b5-4abc-9b52-3f5c4acefb2d",
   "metadata": {},
   "outputs": [],
   "source": [
    "walk2(\n",
    "    pb_h5_lists, out_h5,\n",
    "    write_h5_list\n",
    ")"
   ]
  },
  {
   "cell_type": "markdown",
   "id": "9a9ad0e3-4474-4639-a8e6-8ba9759b2ce8",
   "metadata": {},
   "source": [
    "combine all of these in .tar file for upload"
   ]
  },
  {
   "cell_type": "code",
   "execution_count": 55,
   "id": "96f36ed5-256f-4f7c-a9b1-c8a20124081f",
   "metadata": {},
   "outputs": [],
   "source": [
    "h5_tar <- paste0(\"output/ref_pbmc_\",subset_name,\"_AIFI_L3_seurat_pseudobulk_h5_\", Sys.Date(), \".tar.gz\")\n",
    "system_call <- paste(\n",
    "    \"tar -czf\", h5_tar, \"output/ref_pbmc_\",subset_name,\"*.h5\"\n",
    ")\n",
    "system(system_call)"
   ]
  },
  {
   "cell_type": "code",
   "execution_count": 56,
   "id": "10e5bf1d-51e4-49d8-8d6a-bd7d1843ff60",
   "metadata": {},
   "outputs": [],
   "source": [
    "out_files <- c(out_files, h5_tar)"
   ]
  },
  {
   "cell_type": "markdown",
   "id": "da551a5e-1b16-4f58-9e0b-8669a2dd6bc4",
   "metadata": {},
   "source": [
    "### CMV Positive"
   ]
  },
  {
   "cell_type": "code",
   "execution_count": 57,
   "id": "4858d31d-c192-4f91-b089-4130b36b8984",
   "metadata": {},
   "outputs": [],
   "source": [
    "subset_name <- \"cmv-positive\""
   ]
  },
  {
   "cell_type": "code",
   "execution_count": 58,
   "id": "e251565f-a237-4673-9a1b-4a5aff7d0179",
   "metadata": {},
   "outputs": [],
   "source": [
    "group_by <- c(\"AIFI_L3\", \"subject.subjectGuid\", \"sample.visitName\")"
   ]
  },
  {
   "cell_type": "code",
   "execution_count": 59,
   "id": "25b834ca-4d99-4b25-9578-3855e54a4683",
   "metadata": {},
   "outputs": [],
   "source": [
    "pb_mats <- future_map(\n",
    "    h5ad_files,\n",
    "    h5ad_to_pseudobulk_seurat,\n",
    "    group_by = group_by,\n",
    "    min_detection = min_detection,\n",
    "    filters = list(cohort.cohortGuid = keep_cohorts,\n",
    "                   subject.cmv = \"Positive\")\n",
    ")"
   ]
  },
  {
   "cell_type": "code",
   "execution_count": 60,
   "id": "e64e96ff-6b45-42f8-b8ac-a45d4450b963",
   "metadata": {},
   "outputs": [],
   "source": [
    "pb_mats <- unlist(pb_mats, recursive = FALSE)"
   ]
  },
  {
   "cell_type": "code",
   "execution_count": 61,
   "id": "903599ba-1f0c-410e-b6e6-7b20e3d4692c",
   "metadata": {},
   "outputs": [],
   "source": [
    "pb_meta <- future_map(\n",
    "    h5ad_files,\n",
    "    h5ad_to_pseudobulk_meta,\n",
    "    group_by = group_by,\n",
    "    filters = list(cohort.cohortGuid = keep_cohorts,\n",
    "                   subject.cmv = \"Positive\")\n",
    ")"
   ]
  },
  {
   "cell_type": "code",
   "execution_count": 62,
   "id": "c1d68460-7ca0-45b4-9dd8-f4df2554588c",
   "metadata": {},
   "outputs": [],
   "source": [
    "pb_meta <- unlist(pb_meta, recursive = FALSE)"
   ]
  },
  {
   "cell_type": "markdown",
   "id": "2391362b-417d-4df9-a26c-3802e9fd4498",
   "metadata": {},
   "source": [
    "#### Save to .rds of metadata and matrices for later use in R"
   ]
  },
  {
   "cell_type": "code",
   "execution_count": 63,
   "id": "800b9de7-6da6-4c71-8bdd-d908c1e4344d",
   "metadata": {},
   "outputs": [],
   "source": [
    "pb_data <- list(\n",
    "    mats = pb_mats,\n",
    "    meta = pb_meta\n",
    ")"
   ]
  },
  {
   "cell_type": "code",
   "execution_count": 64,
   "id": "1b341dbf-380c-451f-8564-cee75ffda4ff",
   "metadata": {},
   "outputs": [],
   "source": [
    "out_rds <- paste0(\"output/ref_pbmc_\", subset_name, \"_AIFI_L3_seurat_pseudobulk_list_\", Sys.Date(), \".rds\")\n",
    "saveRDS(pb_data, out_rds)"
   ]
  },
  {
   "cell_type": "code",
   "execution_count": 65,
   "id": "ff077a46-23e0-407c-a568-872fe15514db",
   "metadata": {},
   "outputs": [],
   "source": [
    "out_files <- c(out_files, out_rds)"
   ]
  },
  {
   "cell_type": "markdown",
   "id": "4ff4384e-35c6-4063-a479-03322758a866",
   "metadata": {},
   "source": [
    "#### Save to .h5 files for later use via H5weaver"
   ]
  },
  {
   "cell_type": "code",
   "execution_count": 66,
   "id": "3fd98bc8-5ff4-4238-b25c-a2c869be40fd",
   "metadata": {},
   "outputs": [],
   "source": [
    "pb_h5_lists <- future_map2(\n",
    "    pb_mats, pb_meta,\n",
    "    function(mat, meta) {\n",
    "        h5_list <- list(\n",
    "            matrix_dgCMatrix = mat,\n",
    "            matrix = list(\n",
    "                observations = as.list(meta)\n",
    "            )\n",
    "        )\n",
    "        h5_list_convert_from_dgCMatrix(h5_list)\n",
    "    }\n",
    ")"
   ]
  },
  {
   "cell_type": "code",
   "execution_count": 67,
   "id": "1c979b70-f154-4f0d-95f5-0665503c9c21",
   "metadata": {},
   "outputs": [],
   "source": [
    "out_h5 <- map(\n",
    "    names(pb_h5_lists), \n",
    "    function(ct) {\n",
    "        ct <- gsub(\" \", \"-\", ct)\n",
    "        paste0(\"output/ref_pbmc_\",subset_name,\"AIFI_L3_\",\n",
    "               ct,\n",
    "               \"_seurat_pseudobulk_\",\n",
    "               Sys.Date(),\n",
    "               \".h5\")\n",
    "    }\n",
    ")"
   ]
  },
  {
   "cell_type": "code",
   "execution_count": 68,
   "id": "1ceb1f3e-9005-4716-bf34-63b938992bb8",
   "metadata": {},
   "outputs": [],
   "source": [
    "walk2(\n",
    "    pb_h5_lists, out_h5,\n",
    "    write_h5_list\n",
    ")"
   ]
  },
  {
   "cell_type": "markdown",
   "id": "57705f6d-7ada-477c-9327-cc9fabcd6ce4",
   "metadata": {},
   "source": [
    "combine all of these in .tar file for upload"
   ]
  },
  {
   "cell_type": "code",
   "execution_count": 69,
   "id": "6cd9ae05-6cd0-42d0-83b4-8645a4938577",
   "metadata": {},
   "outputs": [],
   "source": [
    "h5_tar <- paste0(\"output/ref_pbmc_\",subset_name,\"_AIFI_L3_seurat_pseudobulk_h5_\", Sys.Date(), \".tar.gz\")\n",
    "system_call <- paste(\n",
    "    \"tar -czf\", h5_tar, \"output/ref_pbmc_\",subset_name,\"*.h5\"\n",
    ")\n",
    "system(system_call)"
   ]
  },
  {
   "cell_type": "code",
   "execution_count": 70,
   "id": "2e6944ce-a62a-4208-ab8f-5c78db3b0f6f",
   "metadata": {},
   "outputs": [],
   "source": [
    "out_files <- c(out_files, h5_tar)"
   ]
  },
  {
   "cell_type": "markdown",
   "id": "051f3a67-8395-409e-8473-4fb0beb7bb6a",
   "metadata": {},
   "source": [
    "### CMV Negative"
   ]
  },
  {
   "cell_type": "code",
   "execution_count": 71,
   "id": "57ddd994-4b9d-42dd-aa35-16bc2349d0c5",
   "metadata": {},
   "outputs": [],
   "source": [
    "subset_name <- \"cmv-negative\""
   ]
  },
  {
   "cell_type": "code",
   "execution_count": 72,
   "id": "9f74bafb-48a8-4496-8563-3d76655e7a4b",
   "metadata": {},
   "outputs": [],
   "source": [
    "group_by <- c(\"AIFI_L3\", \"subject.subjectGuid\", \"sample.visitName\")"
   ]
  },
  {
   "cell_type": "code",
   "execution_count": 73,
   "id": "a93eb771-515e-4cf5-997e-92d145562f2a",
   "metadata": {},
   "outputs": [],
   "source": [
    "pb_mats <- future_map(\n",
    "    h5ad_files,\n",
    "    h5ad_to_pseudobulk_seurat,\n",
    "    group_by = group_by,\n",
    "    min_detection = min_detection,\n",
    "    filters = list(cohort.cohortGuid = keep_cohorts,\n",
    "                   subject.cmv = \"Negative\")\n",
    ")"
   ]
  },
  {
   "cell_type": "code",
   "execution_count": 74,
   "id": "0eb4d678-17b7-4103-b200-b593c2bd2800",
   "metadata": {},
   "outputs": [],
   "source": [
    "pb_mats <- unlist(pb_mats, recursive = FALSE)"
   ]
  },
  {
   "cell_type": "code",
   "execution_count": 75,
   "id": "d12c9255-b137-47be-8491-d21f5cc61e25",
   "metadata": {},
   "outputs": [],
   "source": [
    "pb_meta <- future_map(\n",
    "    h5ad_files,\n",
    "    h5ad_to_pseudobulk_meta,\n",
    "    group_by = group_by,\n",
    "    filters = list(cohort.cohortGuid = keep_cohorts,\n",
    "                   subject.cmv = \"Negative\")\n",
    ")"
   ]
  },
  {
   "cell_type": "code",
   "execution_count": 76,
   "id": "2c7bf407-b125-4a95-92b4-2e1930cbe2a4",
   "metadata": {},
   "outputs": [],
   "source": [
    "pb_meta <- unlist(pb_meta, recursive = FALSE)"
   ]
  },
  {
   "cell_type": "markdown",
   "id": "bd238c72-5e0c-4111-98fe-c91e421b0f06",
   "metadata": {},
   "source": [
    "#### Save to .rds of metadata and matrices for later use in R"
   ]
  },
  {
   "cell_type": "code",
   "execution_count": 77,
   "id": "c3d71772-5fc7-418f-a70a-88d9dd2e4b9a",
   "metadata": {},
   "outputs": [],
   "source": [
    "pb_data <- list(\n",
    "    mats = pb_mats,\n",
    "    meta = pb_meta\n",
    ")"
   ]
  },
  {
   "cell_type": "code",
   "execution_count": 78,
   "id": "6d550b06-73db-47b8-a39c-e9e428956c13",
   "metadata": {},
   "outputs": [],
   "source": [
    "out_rds <- paste0(\"output/ref_pbmc_\", subset_name, \"_AIFI_L3_seurat_pseudobulk_list_\", Sys.Date(), \".rds\")\n",
    "saveRDS(pb_data, out_rds)"
   ]
  },
  {
   "cell_type": "code",
   "execution_count": 79,
   "id": "d17e41fd-3098-49bb-8f58-890268ae7190",
   "metadata": {},
   "outputs": [],
   "source": [
    "out_files <- c(out_files, out_rds)"
   ]
  },
  {
   "cell_type": "markdown",
   "id": "74466908-6602-4fe2-82c6-0686e98e4f1c",
   "metadata": {},
   "source": [
    "#### Save to .h5 files for later use via H5weaver"
   ]
  },
  {
   "cell_type": "code",
   "execution_count": 80,
   "id": "c0f64439-87fe-4f9f-b721-b17c709fc4c3",
   "metadata": {},
   "outputs": [],
   "source": [
    "pb_h5_lists <- future_map2(\n",
    "    pb_mats, pb_meta,\n",
    "    function(mat, meta) {\n",
    "        h5_list <- list(\n",
    "            matrix_dgCMatrix = mat,\n",
    "            matrix = list(\n",
    "                observations = as.list(meta)\n",
    "            )\n",
    "        )\n",
    "        h5_list_convert_from_dgCMatrix(h5_list)\n",
    "    }\n",
    ")"
   ]
  },
  {
   "cell_type": "code",
   "execution_count": 81,
   "id": "3c2f6c77-e5f2-4c34-99f6-0cc860b64e01",
   "metadata": {},
   "outputs": [],
   "source": [
    "out_h5 <- map(\n",
    "    names(pb_h5_lists), \n",
    "    function(ct) {\n",
    "        ct <- gsub(\" \", \"-\", ct)\n",
    "        paste0(\"output/ref_pbmc_\",subset_name,\"AIFI_L3_\",\n",
    "               ct,\n",
    "               \"_seurat_pseudobulk_\",\n",
    "               Sys.Date(),\n",
    "               \".h5\")\n",
    "    }\n",
    ")"
   ]
  },
  {
   "cell_type": "code",
   "execution_count": 82,
   "id": "8ffa7b77-e0cc-465a-8720-580b9c5987b1",
   "metadata": {},
   "outputs": [],
   "source": [
    "walk2(\n",
    "    pb_h5_lists, out_h5,\n",
    "    write_h5_list\n",
    ")"
   ]
  },
  {
   "cell_type": "markdown",
   "id": "320e4f0a-4027-4e99-b1ec-7bc376563ce6",
   "metadata": {},
   "source": [
    "combine all of these in .tar file for upload"
   ]
  },
  {
   "cell_type": "code",
   "execution_count": 83,
   "id": "d099a92d-832c-4e13-a320-b850f4979c2f",
   "metadata": {},
   "outputs": [],
   "source": [
    "h5_tar <- paste0(\"output/ref_pbmc_\",subset_name,\"_AIFI_L3_seurat_pseudobulk_h5_\", Sys.Date(), \".tar.gz\")\n",
    "system_call <- paste(\n",
    "    \"tar -czf\", h5_tar, \"output/ref_pbmc_\",subset_name,\"*.h5\"\n",
    ")\n",
    "system(system_call)"
   ]
  },
  {
   "cell_type": "code",
   "execution_count": 84,
   "id": "c8190814-22f5-457f-8c6d-2cbf5cdbe575",
   "metadata": {},
   "outputs": [],
   "source": [
    "out_files <- c(out_files, h5_tar)"
   ]
  },
  {
   "cell_type": "markdown",
   "id": "3d390c28-0982-4216-bf1e-eabe157420e2",
   "metadata": {},
   "source": [
    "### Female subjects"
   ]
  },
  {
   "cell_type": "code",
   "execution_count": 85,
   "id": "92211ec4-db7f-466a-a361-4c5729665d36",
   "metadata": {},
   "outputs": [],
   "source": [
    "subset_name <- \"female\""
   ]
  },
  {
   "cell_type": "code",
   "execution_count": 86,
   "id": "17c66935-38a2-4c09-bd07-bbd549d270e3",
   "metadata": {},
   "outputs": [],
   "source": [
    "group_by <- c(\"AIFI_L3\", \"subject.subjectGuid\", \"sample.visitName\")"
   ]
  },
  {
   "cell_type": "code",
   "execution_count": 87,
   "id": "f7fce507-5900-4831-8d38-8d4ecf0dd40e",
   "metadata": {},
   "outputs": [],
   "source": [
    "pb_mats <- future_map(\n",
    "    h5ad_files,\n",
    "    h5ad_to_pseudobulk_seurat,\n",
    "    group_by = group_by,\n",
    "    min_detection = min_detection,\n",
    "    filters = list(cohort.cohortGuid = keep_cohorts,\n",
    "                   subject.biologicalSex = \"Female\")\n",
    ")"
   ]
  },
  {
   "cell_type": "code",
   "execution_count": 88,
   "id": "d64b300d-883b-474b-820a-21abdf27933c",
   "metadata": {},
   "outputs": [],
   "source": [
    "pb_mats <- unlist(pb_mats, recursive = FALSE)"
   ]
  },
  {
   "cell_type": "code",
   "execution_count": 89,
   "id": "ffa3bfe4-3a2b-420b-9d7e-552ce538c8ef",
   "metadata": {},
   "outputs": [],
   "source": [
    "pb_meta <- future_map(\n",
    "    h5ad_files,\n",
    "    h5ad_to_pseudobulk_meta,\n",
    "    group_by = group_by,\n",
    "    filters = list(cohort.cohortGuid = keep_cohorts,\n",
    "                   subject.biologicalSex = \"Female\")\n",
    ")"
   ]
  },
  {
   "cell_type": "code",
   "execution_count": 90,
   "id": "71f13e62-75ee-4f68-b78e-a030c4fc9ef6",
   "metadata": {},
   "outputs": [],
   "source": [
    "pb_meta <- unlist(pb_meta, recursive = FALSE)"
   ]
  },
  {
   "cell_type": "markdown",
   "id": "c2a704f4-5bba-476e-ab68-6fba9fb2a084",
   "metadata": {},
   "source": [
    "#### Save to .rds of metadata and matrices for later use in R"
   ]
  },
  {
   "cell_type": "code",
   "execution_count": 91,
   "id": "80988402-2103-490a-8cee-88f5e7eb837c",
   "metadata": {},
   "outputs": [],
   "source": [
    "pb_data <- list(\n",
    "    mats = pb_mats,\n",
    "    meta = pb_meta\n",
    ")"
   ]
  },
  {
   "cell_type": "code",
   "execution_count": 92,
   "id": "df4e074b-38bf-41d5-bac0-95324d3f2558",
   "metadata": {},
   "outputs": [],
   "source": [
    "out_rds <- paste0(\"output/ref_pbmc_\", subset_name, \"_AIFI_L3_seurat_pseudobulk_list_\", Sys.Date(), \".rds\")\n",
    "saveRDS(pb_data, out_rds)"
   ]
  },
  {
   "cell_type": "code",
   "execution_count": 93,
   "id": "79eb673e-bf11-412e-8b8a-ecacbba565cb",
   "metadata": {},
   "outputs": [],
   "source": [
    "out_files <- c(out_files, out_rds)"
   ]
  },
  {
   "cell_type": "markdown",
   "id": "6fff6a64-7250-4638-8760-a9b74f000e1a",
   "metadata": {},
   "source": [
    "#### Save to .h5 files for later use via H5weaver"
   ]
  },
  {
   "cell_type": "code",
   "execution_count": 94,
   "id": "b31b158c-92e8-4b77-9c23-b04d8c84c294",
   "metadata": {},
   "outputs": [],
   "source": [
    "pb_h5_lists <- future_map2(\n",
    "    pb_mats, pb_meta,\n",
    "    function(mat, meta) {\n",
    "        h5_list <- list(\n",
    "            matrix_dgCMatrix = mat,\n",
    "            matrix = list(\n",
    "                observations = as.list(meta)\n",
    "            )\n",
    "        )\n",
    "        h5_list_convert_from_dgCMatrix(h5_list)\n",
    "    }\n",
    ")"
   ]
  },
  {
   "cell_type": "code",
   "execution_count": 95,
   "id": "5128576b-200f-4725-89b9-ef59f246893d",
   "metadata": {},
   "outputs": [],
   "source": [
    "out_h5 <- map(\n",
    "    names(pb_h5_lists), \n",
    "    function(ct) {\n",
    "        ct <- gsub(\" \", \"-\", ct)\n",
    "        paste0(\"output/ref_pbmc_\",subset_name,\"AIFI_L3_\",\n",
    "               ct,\n",
    "               \"_seurat_pseudobulk_\",\n",
    "               Sys.Date(),\n",
    "               \".h5\")\n",
    "    }\n",
    ")"
   ]
  },
  {
   "cell_type": "code",
   "execution_count": 96,
   "id": "77c562d3-3a50-4e49-b7ea-f503f4b297f6",
   "metadata": {},
   "outputs": [],
   "source": [
    "walk2(\n",
    "    pb_h5_lists, out_h5,\n",
    "    write_h5_list\n",
    ")"
   ]
  },
  {
   "cell_type": "markdown",
   "id": "4003800a-9634-4b32-8367-db29a4767fb0",
   "metadata": {},
   "source": [
    "combine all of these in .tar file for upload"
   ]
  },
  {
   "cell_type": "code",
   "execution_count": 97,
   "id": "5e0cbcb3-34bf-4c41-be5e-a425ee41cf3b",
   "metadata": {},
   "outputs": [],
   "source": [
    "h5_tar <- paste0(\"output/ref_pbmc_\",subset_name,\"_AIFI_L3_seurat_pseudobulk_h5_\", Sys.Date(), \".tar.gz\")\n",
    "system_call <- paste(\n",
    "    \"tar -czf\", h5_tar, \"output/ref_pbmc_\",subset_name,\"*.h5\"\n",
    ")\n",
    "system(system_call)"
   ]
  },
  {
   "cell_type": "code",
   "execution_count": 98,
   "id": "11331daa-9cc7-4cd6-92be-19806b045b95",
   "metadata": {},
   "outputs": [],
   "source": [
    "out_files <- c(out_files, h5_tar)"
   ]
  },
  {
   "cell_type": "markdown",
   "id": "598bb2de-9691-419c-9c64-97fe01bcf70b",
   "metadata": {},
   "source": [
    "### Male subjects"
   ]
  },
  {
   "cell_type": "code",
   "execution_count": 99,
   "id": "9e61f811-0808-4a99-9909-08aa07915f58",
   "metadata": {},
   "outputs": [],
   "source": [
    "subset_name <- \"male\""
   ]
  },
  {
   "cell_type": "code",
   "execution_count": 100,
   "id": "3fbe51c8-3762-476c-8a97-0d99e8e2d1e3",
   "metadata": {},
   "outputs": [],
   "source": [
    "group_by <- c(\"AIFI_L3\", \"subject.subjectGuid\", \"sample.visitName\")"
   ]
  },
  {
   "cell_type": "code",
   "execution_count": 101,
   "id": "bcea55e8-c0f7-4849-b893-da69832e54d7",
   "metadata": {},
   "outputs": [],
   "source": [
    "pb_mats <- future_map(\n",
    "    h5ad_files,\n",
    "    h5ad_to_pseudobulk_seurat,\n",
    "    group_by = group_by,\n",
    "    min_detection = min_detection,\n",
    "    filters = list(cohort.cohortGuid = keep_cohorts,\n",
    "                   subject.biologicalSex = \"Male\")\n",
    ")"
   ]
  },
  {
   "cell_type": "code",
   "execution_count": 102,
   "id": "75718fb0-50a7-49e8-b72d-cd24faf58273",
   "metadata": {},
   "outputs": [],
   "source": [
    "pb_mats <- unlist(pb_mats, recursive = FALSE)"
   ]
  },
  {
   "cell_type": "code",
   "execution_count": 103,
   "id": "b3ab4abf-6a2b-4365-9239-8fe9dba3ffa4",
   "metadata": {},
   "outputs": [],
   "source": [
    "pb_meta <- future_map(\n",
    "    h5ad_files,\n",
    "    h5ad_to_pseudobulk_meta,\n",
    "    group_by = group_by,\n",
    "    filters = list(cohort.cohortGuid = keep_cohorts,\n",
    "                   subject.biologicalSex = \"Male\")\n",
    ")"
   ]
  },
  {
   "cell_type": "code",
   "execution_count": 104,
   "id": "4ab79e50-40be-405d-9757-a75917dde1c2",
   "metadata": {},
   "outputs": [],
   "source": [
    "pb_meta <- unlist(pb_meta, recursive = FALSE)"
   ]
  },
  {
   "cell_type": "markdown",
   "id": "00320867-aa19-4760-8b74-85b7c59e97f9",
   "metadata": {},
   "source": [
    "#### Save to .rds of metadata and matrices for later use in R"
   ]
  },
  {
   "cell_type": "code",
   "execution_count": 105,
   "id": "2301a6f5-9885-4382-9165-d5ed2b7f9498",
   "metadata": {},
   "outputs": [],
   "source": [
    "pb_data <- list(\n",
    "    mats = pb_mats,\n",
    "    meta = pb_meta\n",
    ")"
   ]
  },
  {
   "cell_type": "code",
   "execution_count": 106,
   "id": "844cf633-4213-4d25-a238-89fbfda9d2d8",
   "metadata": {},
   "outputs": [],
   "source": [
    "out_rds <- paste0(\"output/ref_pbmc_\", subset_name, \"_AIFI_L3_seurat_pseudobulk_list_\", Sys.Date(), \".rds\")\n",
    "saveRDS(pb_data, out_rds)"
   ]
  },
  {
   "cell_type": "code",
   "execution_count": 107,
   "id": "2c9cf3f7-007e-49ec-a9f4-b5ce0adf4417",
   "metadata": {},
   "outputs": [],
   "source": [
    "out_files <- c(out_files, out_rds)"
   ]
  },
  {
   "cell_type": "markdown",
   "id": "ff4457a1-cb5b-4be4-82b1-7da6ddb2ef4d",
   "metadata": {},
   "source": [
    "#### Save to .h5 files for later use via H5weaver"
   ]
  },
  {
   "cell_type": "code",
   "execution_count": 108,
   "id": "391a6422-32cc-4eb2-940e-0ddc9e7a7c9a",
   "metadata": {},
   "outputs": [],
   "source": [
    "pb_h5_lists <- future_map2(\n",
    "    pb_mats, pb_meta,\n",
    "    function(mat, meta) {\n",
    "        h5_list <- list(\n",
    "            matrix_dgCMatrix = mat,\n",
    "            matrix = list(\n",
    "                observations = as.list(meta)\n",
    "            )\n",
    "        )\n",
    "        h5_list_convert_from_dgCMatrix(h5_list)\n",
    "    }\n",
    ")"
   ]
  },
  {
   "cell_type": "code",
   "execution_count": 109,
   "id": "b39cb664-e6d4-4e3c-bd09-393292723193",
   "metadata": {},
   "outputs": [],
   "source": [
    "out_h5 <- map(\n",
    "    names(pb_h5_lists), \n",
    "    function(ct) {\n",
    "        ct <- gsub(\" \", \"-\", ct)\n",
    "        paste0(\"output/ref_pbmc_\",subset_name,\"AIFI_L3_\",\n",
    "               ct,\n",
    "               \"_seurat_pseudobulk_\",\n",
    "               Sys.Date(),\n",
    "               \".h5\")\n",
    "    }\n",
    ")"
   ]
  },
  {
   "cell_type": "code",
   "execution_count": 110,
   "id": "1a486ba9-1f1f-4cc4-a9bb-56b1f78b12b5",
   "metadata": {},
   "outputs": [],
   "source": [
    "walk2(\n",
    "    pb_h5_lists, out_h5,\n",
    "    write_h5_list\n",
    ")"
   ]
  },
  {
   "cell_type": "markdown",
   "id": "8e159b34-5dd2-4f6f-ae5e-221a271e4011",
   "metadata": {},
   "source": [
    "combine all of these in .tar file for upload"
   ]
  },
  {
   "cell_type": "code",
   "execution_count": 111,
   "id": "931889aa-3767-4ba7-bf88-03f30fbed109",
   "metadata": {},
   "outputs": [],
   "source": [
    "h5_tar <- paste0(\"output/ref_pbmc_\",subset_name,\"AIFI_L3_seurat_pseudobulk_h5_\", Sys.Date(), \".tar.gz\")\n",
    "system_call <- paste(\n",
    "    \"tar -czf\", h5_tar, \"output/ref_pbmc_\",subset_name,\"*.h5\"\n",
    ")\n",
    "system(system_call)"
   ]
  },
  {
   "cell_type": "code",
   "execution_count": 112,
   "id": "72a7ba76-a319-40a0-a6d2-2983f1140ff7",
   "metadata": {},
   "outputs": [],
   "source": [
    "out_files <- c(out_files, h5_tar)"
   ]
  },
  {
   "cell_type": "markdown",
   "id": "23d0cd88-2d90-44ad-9403-c67cd8faae51",
   "metadata": {},
   "source": [
    "## Upload results to HISE"
   ]
  },
  {
   "cell_type": "code",
   "execution_count": 113,
   "id": "a56eb1ed-c1f2-4698-bdb1-6e1529911f0a",
   "metadata": {
    "tags": []
   },
   "outputs": [],
   "source": [
    "study_space_uuid <- \"64097865-486d-43b3-8f94-74994e0a72e0\"\n",
    "title <- paste(\"PBMC Ref. Seurat Pseudobulk Sets\", Sys.Date())"
   ]
  },
  {
   "cell_type": "code",
   "execution_count": 114,
   "id": "ac922761-1514-4e1b-9d08-12fddfe644dd",
   "metadata": {
    "tags": []
   },
   "outputs": [],
   "source": [
    "in_list <- h5ad_uuids"
   ]
  },
  {
   "cell_type": "code",
   "execution_count": 115,
   "id": "84307932-fe39-4f7c-93d2-463cb94f327b",
   "metadata": {
    "tags": []
   },
   "outputs": [
    {
     "data": {
      "text/html": [
       "<ol>\n",
       "\t<li>'output/ref_pbmc_AIFI_L3_seurat_pseudobulk_list_2024-04-04.rds'</li>\n",
       "\t<li>'output/ref_pbmc_AIFI_L3_seurat_pseudobulk_h5_2024-04-05.tar.gz'</li>\n",
       "\t<li>'output/ref_pbmc_BR1_AIFI_L3_seurat_pseudobulk_list_2024-04-05.rds'</li>\n",
       "\t<li>'output/ref_pbmc_BR1_AIFI_L3_seurat_pseudobulk_h5_2024-04-05.tar.gz'</li>\n",
       "\t<li>'output/ref_pbmc_BR2_AIFI_L3_seurat_pseudobulk_list_2024-04-05.rds'</li>\n",
       "\t<li>'output/ref_pbmc_BR2_AIFI_L3_seurat_pseudobulk_h5_2024-04-05.tar.gz'</li>\n",
       "\t<li>'output/ref_pbmc_cmv-positive_AIFI_L3_seurat_pseudobulk_list_2024-04-05.rds'</li>\n",
       "\t<li>'output/ref_pbmc_cmv-positive_AIFI_L3_seurat_pseudobulk_h5_2024-04-05.tar.gz'</li>\n",
       "\t<li>'output/ref_pbmc_cmv-negative_AIFI_L3_seurat_pseudobulk_list_2024-04-05.rds'</li>\n",
       "\t<li>'output/ref_pbmc_cmv-negative_AIFI_L3_seurat_pseudobulk_h5_2024-04-05.tar.gz'</li>\n",
       "\t<li>'output/ref_pbmc_female_AIFI_L3_seurat_pseudobulk_list_2024-04-05.rds'</li>\n",
       "\t<li>'output/ref_pbmc_female_AIFI_L3_seurat_pseudobulk_h5_2024-04-05.tar.gz'</li>\n",
       "\t<li>'output/ref_pbmc_male_AIFI_L3_seurat_pseudobulk_list_2024-04-05.rds'</li>\n",
       "\t<li>'output/ref_pbmc_maleAIFI_L3_seurat_pseudobulk_h5_2024-04-05.tar.gz'</li>\n",
       "</ol>\n"
      ],
      "text/latex": [
       "\\begin{enumerate}\n",
       "\\item 'output/ref\\_pbmc\\_AIFI\\_L3\\_seurat\\_pseudobulk\\_list\\_2024-04-04.rds'\n",
       "\\item 'output/ref\\_pbmc\\_AIFI\\_L3\\_seurat\\_pseudobulk\\_h5\\_2024-04-05.tar.gz'\n",
       "\\item 'output/ref\\_pbmc\\_BR1\\_AIFI\\_L3\\_seurat\\_pseudobulk\\_list\\_2024-04-05.rds'\n",
       "\\item 'output/ref\\_pbmc\\_BR1\\_AIFI\\_L3\\_seurat\\_pseudobulk\\_h5\\_2024-04-05.tar.gz'\n",
       "\\item 'output/ref\\_pbmc\\_BR2\\_AIFI\\_L3\\_seurat\\_pseudobulk\\_list\\_2024-04-05.rds'\n",
       "\\item 'output/ref\\_pbmc\\_BR2\\_AIFI\\_L3\\_seurat\\_pseudobulk\\_h5\\_2024-04-05.tar.gz'\n",
       "\\item 'output/ref\\_pbmc\\_cmv-positive\\_AIFI\\_L3\\_seurat\\_pseudobulk\\_list\\_2024-04-05.rds'\n",
       "\\item 'output/ref\\_pbmc\\_cmv-positive\\_AIFI\\_L3\\_seurat\\_pseudobulk\\_h5\\_2024-04-05.tar.gz'\n",
       "\\item 'output/ref\\_pbmc\\_cmv-negative\\_AIFI\\_L3\\_seurat\\_pseudobulk\\_list\\_2024-04-05.rds'\n",
       "\\item 'output/ref\\_pbmc\\_cmv-negative\\_AIFI\\_L3\\_seurat\\_pseudobulk\\_h5\\_2024-04-05.tar.gz'\n",
       "\\item 'output/ref\\_pbmc\\_female\\_AIFI\\_L3\\_seurat\\_pseudobulk\\_list\\_2024-04-05.rds'\n",
       "\\item 'output/ref\\_pbmc\\_female\\_AIFI\\_L3\\_seurat\\_pseudobulk\\_h5\\_2024-04-05.tar.gz'\n",
       "\\item 'output/ref\\_pbmc\\_male\\_AIFI\\_L3\\_seurat\\_pseudobulk\\_list\\_2024-04-05.rds'\n",
       "\\item 'output/ref\\_pbmc\\_maleAIFI\\_L3\\_seurat\\_pseudobulk\\_h5\\_2024-04-05.tar.gz'\n",
       "\\end{enumerate}\n"
      ],
      "text/markdown": [
       "1. 'output/ref_pbmc_AIFI_L3_seurat_pseudobulk_list_2024-04-04.rds'\n",
       "2. 'output/ref_pbmc_AIFI_L3_seurat_pseudobulk_h5_2024-04-05.tar.gz'\n",
       "3. 'output/ref_pbmc_BR1_AIFI_L3_seurat_pseudobulk_list_2024-04-05.rds'\n",
       "4. 'output/ref_pbmc_BR1_AIFI_L3_seurat_pseudobulk_h5_2024-04-05.tar.gz'\n",
       "5. 'output/ref_pbmc_BR2_AIFI_L3_seurat_pseudobulk_list_2024-04-05.rds'\n",
       "6. 'output/ref_pbmc_BR2_AIFI_L3_seurat_pseudobulk_h5_2024-04-05.tar.gz'\n",
       "7. 'output/ref_pbmc_cmv-positive_AIFI_L3_seurat_pseudobulk_list_2024-04-05.rds'\n",
       "8. 'output/ref_pbmc_cmv-positive_AIFI_L3_seurat_pseudobulk_h5_2024-04-05.tar.gz'\n",
       "9. 'output/ref_pbmc_cmv-negative_AIFI_L3_seurat_pseudobulk_list_2024-04-05.rds'\n",
       "10. 'output/ref_pbmc_cmv-negative_AIFI_L3_seurat_pseudobulk_h5_2024-04-05.tar.gz'\n",
       "11. 'output/ref_pbmc_female_AIFI_L3_seurat_pseudobulk_list_2024-04-05.rds'\n",
       "12. 'output/ref_pbmc_female_AIFI_L3_seurat_pseudobulk_h5_2024-04-05.tar.gz'\n",
       "13. 'output/ref_pbmc_male_AIFI_L3_seurat_pseudobulk_list_2024-04-05.rds'\n",
       "14. 'output/ref_pbmc_maleAIFI_L3_seurat_pseudobulk_h5_2024-04-05.tar.gz'\n",
       "\n",
       "\n"
      ],
      "text/plain": [
       "[[1]]\n",
       "[1] \"output/ref_pbmc_AIFI_L3_seurat_pseudobulk_list_2024-04-04.rds\"\n",
       "\n",
       "[[2]]\n",
       "[1] \"output/ref_pbmc_AIFI_L3_seurat_pseudobulk_h5_2024-04-05.tar.gz\"\n",
       "\n",
       "[[3]]\n",
       "[1] \"output/ref_pbmc_BR1_AIFI_L3_seurat_pseudobulk_list_2024-04-05.rds\"\n",
       "\n",
       "[[4]]\n",
       "[1] \"output/ref_pbmc_BR1_AIFI_L3_seurat_pseudobulk_h5_2024-04-05.tar.gz\"\n",
       "\n",
       "[[5]]\n",
       "[1] \"output/ref_pbmc_BR2_AIFI_L3_seurat_pseudobulk_list_2024-04-05.rds\"\n",
       "\n",
       "[[6]]\n",
       "[1] \"output/ref_pbmc_BR2_AIFI_L3_seurat_pseudobulk_h5_2024-04-05.tar.gz\"\n",
       "\n",
       "[[7]]\n",
       "[1] \"output/ref_pbmc_cmv-positive_AIFI_L3_seurat_pseudobulk_list_2024-04-05.rds\"\n",
       "\n",
       "[[8]]\n",
       "[1] \"output/ref_pbmc_cmv-positive_AIFI_L3_seurat_pseudobulk_h5_2024-04-05.tar.gz\"\n",
       "\n",
       "[[9]]\n",
       "[1] \"output/ref_pbmc_cmv-negative_AIFI_L3_seurat_pseudobulk_list_2024-04-05.rds\"\n",
       "\n",
       "[[10]]\n",
       "[1] \"output/ref_pbmc_cmv-negative_AIFI_L3_seurat_pseudobulk_h5_2024-04-05.tar.gz\"\n",
       "\n",
       "[[11]]\n",
       "[1] \"output/ref_pbmc_female_AIFI_L3_seurat_pseudobulk_list_2024-04-05.rds\"\n",
       "\n",
       "[[12]]\n",
       "[1] \"output/ref_pbmc_female_AIFI_L3_seurat_pseudobulk_h5_2024-04-05.tar.gz\"\n",
       "\n",
       "[[13]]\n",
       "[1] \"output/ref_pbmc_male_AIFI_L3_seurat_pseudobulk_list_2024-04-05.rds\"\n",
       "\n",
       "[[14]]\n",
       "[1] \"output/ref_pbmc_maleAIFI_L3_seurat_pseudobulk_h5_2024-04-05.tar.gz\"\n"
      ]
     },
     "metadata": {},
     "output_type": "display_data"
    }
   ],
   "source": [
    "out_list <- as.list(out_files)\n",
    "out_list"
   ]
  },
  {
   "cell_type": "code",
   "execution_count": 116,
   "id": "86624b61-d11a-4703-8fef-fd2a4a21d604",
   "metadata": {
    "scrolled": true,
    "tags": []
   },
   "outputs": [
    {
     "name": "stdout",
     "output_type": "stream",
     "text": [
      "[1] \"Authorization token invalid or expired.\"\n",
      "[1] \"Retrying...\"\n"
     ]
    },
    {
     "data": {
      "text/html": [
       "<dl>\n",
       "\t<dt>$files</dt>\n",
       "\t\t<dd><ol>\n",
       "\t<li>'output/ref_pbmc_AIFI_L3_seurat_pseudobulk_list_2024-04-04.rds'</li>\n",
       "\t<li>'output/ref_pbmc_AIFI_L3_seurat_pseudobulk_h5_2024-04-05.tar.gz'</li>\n",
       "\t<li>'output/ref_pbmc_BR1_AIFI_L3_seurat_pseudobulk_list_2024-04-05.rds'</li>\n",
       "\t<li>'output/ref_pbmc_BR1_AIFI_L3_seurat_pseudobulk_h5_2024-04-05.tar.gz'</li>\n",
       "\t<li>'output/ref_pbmc_BR2_AIFI_L3_seurat_pseudobulk_list_2024-04-05.rds'</li>\n",
       "\t<li>'output/ref_pbmc_BR2_AIFI_L3_seurat_pseudobulk_h5_2024-04-05.tar.gz'</li>\n",
       "\t<li>'output/ref_pbmc_cmv-positive_AIFI_L3_seurat_pseudobulk_list_2024-04-05.rds'</li>\n",
       "\t<li>'output/ref_pbmc_cmv-positive_AIFI_L3_seurat_pseudobulk_h5_2024-04-05.tar.gz'</li>\n",
       "\t<li>'output/ref_pbmc_cmv-negative_AIFI_L3_seurat_pseudobulk_list_2024-04-05.rds'</li>\n",
       "\t<li>'output/ref_pbmc_cmv-negative_AIFI_L3_seurat_pseudobulk_h5_2024-04-05.tar.gz'</li>\n",
       "\t<li>'output/ref_pbmc_female_AIFI_L3_seurat_pseudobulk_list_2024-04-05.rds'</li>\n",
       "\t<li>'output/ref_pbmc_female_AIFI_L3_seurat_pseudobulk_h5_2024-04-05.tar.gz'</li>\n",
       "\t<li>'output/ref_pbmc_male_AIFI_L3_seurat_pseudobulk_list_2024-04-05.rds'</li>\n",
       "\t<li>'output/ref_pbmc_maleAIFI_L3_seurat_pseudobulk_h5_2024-04-05.tar.gz'</li>\n",
       "</ol>\n",
       "</dd>\n",
       "\t<dt>$traceId</dt>\n",
       "\t\t<dd>'f116bf40-fd61-44da-8122-0b046d0cf1b6'</dd>\n",
       "</dl>\n"
      ],
      "text/latex": [
       "\\begin{description}\n",
       "\\item[\\$files] \\begin{enumerate}\n",
       "\\item 'output/ref\\_pbmc\\_AIFI\\_L3\\_seurat\\_pseudobulk\\_list\\_2024-04-04.rds'\n",
       "\\item 'output/ref\\_pbmc\\_AIFI\\_L3\\_seurat\\_pseudobulk\\_h5\\_2024-04-05.tar.gz'\n",
       "\\item 'output/ref\\_pbmc\\_BR1\\_AIFI\\_L3\\_seurat\\_pseudobulk\\_list\\_2024-04-05.rds'\n",
       "\\item 'output/ref\\_pbmc\\_BR1\\_AIFI\\_L3\\_seurat\\_pseudobulk\\_h5\\_2024-04-05.tar.gz'\n",
       "\\item 'output/ref\\_pbmc\\_BR2\\_AIFI\\_L3\\_seurat\\_pseudobulk\\_list\\_2024-04-05.rds'\n",
       "\\item 'output/ref\\_pbmc\\_BR2\\_AIFI\\_L3\\_seurat\\_pseudobulk\\_h5\\_2024-04-05.tar.gz'\n",
       "\\item 'output/ref\\_pbmc\\_cmv-positive\\_AIFI\\_L3\\_seurat\\_pseudobulk\\_list\\_2024-04-05.rds'\n",
       "\\item 'output/ref\\_pbmc\\_cmv-positive\\_AIFI\\_L3\\_seurat\\_pseudobulk\\_h5\\_2024-04-05.tar.gz'\n",
       "\\item 'output/ref\\_pbmc\\_cmv-negative\\_AIFI\\_L3\\_seurat\\_pseudobulk\\_list\\_2024-04-05.rds'\n",
       "\\item 'output/ref\\_pbmc\\_cmv-negative\\_AIFI\\_L3\\_seurat\\_pseudobulk\\_h5\\_2024-04-05.tar.gz'\n",
       "\\item 'output/ref\\_pbmc\\_female\\_AIFI\\_L3\\_seurat\\_pseudobulk\\_list\\_2024-04-05.rds'\n",
       "\\item 'output/ref\\_pbmc\\_female\\_AIFI\\_L3\\_seurat\\_pseudobulk\\_h5\\_2024-04-05.tar.gz'\n",
       "\\item 'output/ref\\_pbmc\\_male\\_AIFI\\_L3\\_seurat\\_pseudobulk\\_list\\_2024-04-05.rds'\n",
       "\\item 'output/ref\\_pbmc\\_maleAIFI\\_L3\\_seurat\\_pseudobulk\\_h5\\_2024-04-05.tar.gz'\n",
       "\\end{enumerate}\n",
       "\n",
       "\\item[\\$traceId] 'f116bf40-fd61-44da-8122-0b046d0cf1b6'\n",
       "\\end{description}\n"
      ],
      "text/markdown": [
       "$files\n",
       ":   1. 'output/ref_pbmc_AIFI_L3_seurat_pseudobulk_list_2024-04-04.rds'\n",
       "2. 'output/ref_pbmc_AIFI_L3_seurat_pseudobulk_h5_2024-04-05.tar.gz'\n",
       "3. 'output/ref_pbmc_BR1_AIFI_L3_seurat_pseudobulk_list_2024-04-05.rds'\n",
       "4. 'output/ref_pbmc_BR1_AIFI_L3_seurat_pseudobulk_h5_2024-04-05.tar.gz'\n",
       "5. 'output/ref_pbmc_BR2_AIFI_L3_seurat_pseudobulk_list_2024-04-05.rds'\n",
       "6. 'output/ref_pbmc_BR2_AIFI_L3_seurat_pseudobulk_h5_2024-04-05.tar.gz'\n",
       "7. 'output/ref_pbmc_cmv-positive_AIFI_L3_seurat_pseudobulk_list_2024-04-05.rds'\n",
       "8. 'output/ref_pbmc_cmv-positive_AIFI_L3_seurat_pseudobulk_h5_2024-04-05.tar.gz'\n",
       "9. 'output/ref_pbmc_cmv-negative_AIFI_L3_seurat_pseudobulk_list_2024-04-05.rds'\n",
       "10. 'output/ref_pbmc_cmv-negative_AIFI_L3_seurat_pseudobulk_h5_2024-04-05.tar.gz'\n",
       "11. 'output/ref_pbmc_female_AIFI_L3_seurat_pseudobulk_list_2024-04-05.rds'\n",
       "12. 'output/ref_pbmc_female_AIFI_L3_seurat_pseudobulk_h5_2024-04-05.tar.gz'\n",
       "13. 'output/ref_pbmc_male_AIFI_L3_seurat_pseudobulk_list_2024-04-05.rds'\n",
       "14. 'output/ref_pbmc_maleAIFI_L3_seurat_pseudobulk_h5_2024-04-05.tar.gz'\n",
       "\n",
       "\n",
       "\n",
       "$traceId\n",
       ":   'f116bf40-fd61-44da-8122-0b046d0cf1b6'\n",
       "\n",
       "\n"
      ],
      "text/plain": [
       "$files\n",
       "$files[[1]]\n",
       "[1] \"output/ref_pbmc_AIFI_L3_seurat_pseudobulk_list_2024-04-04.rds\"\n",
       "\n",
       "$files[[2]]\n",
       "[1] \"output/ref_pbmc_AIFI_L3_seurat_pseudobulk_h5_2024-04-05.tar.gz\"\n",
       "\n",
       "$files[[3]]\n",
       "[1] \"output/ref_pbmc_BR1_AIFI_L3_seurat_pseudobulk_list_2024-04-05.rds\"\n",
       "\n",
       "$files[[4]]\n",
       "[1] \"output/ref_pbmc_BR1_AIFI_L3_seurat_pseudobulk_h5_2024-04-05.tar.gz\"\n",
       "\n",
       "$files[[5]]\n",
       "[1] \"output/ref_pbmc_BR2_AIFI_L3_seurat_pseudobulk_list_2024-04-05.rds\"\n",
       "\n",
       "$files[[6]]\n",
       "[1] \"output/ref_pbmc_BR2_AIFI_L3_seurat_pseudobulk_h5_2024-04-05.tar.gz\"\n",
       "\n",
       "$files[[7]]\n",
       "[1] \"output/ref_pbmc_cmv-positive_AIFI_L3_seurat_pseudobulk_list_2024-04-05.rds\"\n",
       "\n",
       "$files[[8]]\n",
       "[1] \"output/ref_pbmc_cmv-positive_AIFI_L3_seurat_pseudobulk_h5_2024-04-05.tar.gz\"\n",
       "\n",
       "$files[[9]]\n",
       "[1] \"output/ref_pbmc_cmv-negative_AIFI_L3_seurat_pseudobulk_list_2024-04-05.rds\"\n",
       "\n",
       "$files[[10]]\n",
       "[1] \"output/ref_pbmc_cmv-negative_AIFI_L3_seurat_pseudobulk_h5_2024-04-05.tar.gz\"\n",
       "\n",
       "$files[[11]]\n",
       "[1] \"output/ref_pbmc_female_AIFI_L3_seurat_pseudobulk_list_2024-04-05.rds\"\n",
       "\n",
       "$files[[12]]\n",
       "[1] \"output/ref_pbmc_female_AIFI_L3_seurat_pseudobulk_h5_2024-04-05.tar.gz\"\n",
       "\n",
       "$files[[13]]\n",
       "[1] \"output/ref_pbmc_male_AIFI_L3_seurat_pseudobulk_list_2024-04-05.rds\"\n",
       "\n",
       "$files[[14]]\n",
       "[1] \"output/ref_pbmc_maleAIFI_L3_seurat_pseudobulk_h5_2024-04-05.tar.gz\"\n",
       "\n",
       "\n",
       "$traceId\n",
       "[1] \"f116bf40-fd61-44da-8122-0b046d0cf1b6\"\n"
      ]
     },
     "metadata": {},
     "output_type": "display_data"
    }
   ],
   "source": [
    "uploadFiles(\n",
    "    files = out_list,\n",
    "    studySpaceId = study_space_uuid,\n",
    "    title = title,\n",
    "    inputFileIds = in_list,\n",
    "    store = \"project\",\n",
    "    destination = \"pseudobulk_sets\",\n",
    "    doPrompt = FALSE\n",
    ")"
   ]
  },
  {
   "cell_type": "code",
   "execution_count": 117,
   "id": "a2a58374-e78a-4615-9e43-631be500d82e",
   "metadata": {},
   "outputs": [
    {
     "data": {
      "text/plain": [
       "R version 4.3.2 (2023-10-31)\n",
       "Platform: x86_64-conda-linux-gnu (64-bit)\n",
       "Running under: Ubuntu 20.04.6 LTS\n",
       "\n",
       "Matrix products: default\n",
       "BLAS/LAPACK: /opt/conda/lib/libopenblasp-r0.3.25.so;  LAPACK version 3.11.0\n",
       "\n",
       "locale:\n",
       " [1] LC_CTYPE=C.UTF-8       LC_NUMERIC=C           LC_TIME=C.UTF-8       \n",
       " [4] LC_COLLATE=C.UTF-8     LC_MONETARY=C.UTF-8    LC_MESSAGES=C.UTF-8   \n",
       " [7] LC_PAPER=C.UTF-8       LC_NAME=C              LC_ADDRESS=C          \n",
       "[10] LC_TELEPHONE=C         LC_MEASUREMENT=C.UTF-8 LC_IDENTIFICATION=C   \n",
       "\n",
       "time zone: Etc/UTC\n",
       "tzcode source: system (glibc)\n",
       "\n",
       "attached base packages:\n",
       "[1] stats     graphics  grDevices utils     datasets  methods   base     \n",
       "\n",
       "other attached packages:\n",
       " [1] Seurat_5.0.1       SeuratObject_5.0.1 sp_2.1-2           furrr_0.3.1       \n",
       " [5] future_1.33.1      purrr_1.0.2        H5weaver_1.2.0     rhdf5_2.46.1      \n",
       " [9] Matrix_1.6-4       data.table_1.15.0  hise_2.16.0        dplyr_1.1.4       \n",
       "\n",
       "loaded via a namespace (and not attached):\n",
       "  [1] RColorBrewer_1.1-3     jsonlite_1.8.8         magrittr_2.0.3        \n",
       "  [4] spatstat.utils_3.0-4   vctrs_0.6.5            ROCR_1.0-11           \n",
       "  [7] spatstat.explore_3.2-5 RCurl_1.98-1.14        base64enc_0.1-3       \n",
       " [10] htmltools_0.5.7        curl_5.1.0             Rhdf5lib_1.24.1       \n",
       " [13] sctransform_0.4.1      parallelly_1.36.0      KernSmooth_2.23-22    \n",
       " [16] htmlwidgets_1.6.4      ica_1.0-3              plyr_1.8.9            \n",
       " [19] plotly_4.10.3          zoo_1.8-12             uuid_1.2-0            \n",
       " [22] igraph_1.6.0           mime_0.12              lifecycle_1.0.4       \n",
       " [25] pkgconfig_2.0.3        R6_2.5.1               fastmap_1.1.1         \n",
       " [28] fitdistrplus_1.1-11    shiny_1.8.0            digest_0.6.34         \n",
       " [31] colorspace_2.1-0       patchwork_1.1.3        tensor_1.5            \n",
       " [34] RSpectra_0.16-1        irlba_2.3.5.1          progressr_0.14.0      \n",
       " [37] fansi_1.0.6            spatstat.sparse_3.0-3  httr_1.4.7            \n",
       " [40] polyclip_1.10-6        abind_1.4-5            compiler_4.3.2        \n",
       " [43] fastDummies_1.7.3      MASS_7.3-60            tools_4.3.2           \n",
       " [46] lmtest_0.9-40          httpuv_1.6.14          future.apply_1.11.1   \n",
       " [49] goftest_1.2-3          glue_1.7.0             nlme_3.1-164          \n",
       " [52] rhdf5filters_1.14.1    promises_1.2.1         grid_4.3.2            \n",
       " [55] pbdZMQ_0.3-10          Rtsne_0.17             cluster_2.1.6         \n",
       " [58] reshape2_1.4.4         generics_0.1.3         gtable_0.3.4          \n",
       " [61] spatstat.data_3.0-3    tidyr_1.3.0            utf8_1.2.4            \n",
       " [64] spatstat.geom_3.2-7    RcppAnnoy_0.0.21       ggrepel_0.9.4         \n",
       " [67] RANN_2.6.1             pillar_1.9.0           stringr_1.5.1         \n",
       " [70] spam_2.10-0            IRdisplay_1.1          RcppHNSW_0.5.0        \n",
       " [73] later_1.3.2            splines_4.3.2          lattice_0.22-5        \n",
       " [76] survival_3.5-7         deldir_2.0-2           tidyselect_1.2.0      \n",
       " [79] miniUI_0.1.1.1         pbapply_1.7-2          gridExtra_2.3         \n",
       " [82] scattermore_1.2        matrixStats_1.2.0      stringi_1.8.3         \n",
       " [85] lazyeval_0.2.2         evaluate_0.23          codetools_0.2-19      \n",
       " [88] tibble_3.2.1           cli_3.6.2              uwot_0.1.16           \n",
       " [91] IRkernel_1.3.2         xtable_1.8-4           reticulate_1.34.0     \n",
       " [94] repr_1.1.6.9000        munsell_0.5.0          Rcpp_1.0.12           \n",
       " [97] globals_0.16.2         spatstat.random_3.2-2  png_0.1-8             \n",
       "[100] parallel_4.3.2         ellipsis_0.3.2         ggplot2_3.4.4         \n",
       "[103] assertthat_0.2.1       dotCall64_1.1-1        bitops_1.0-7          \n",
       "[106] listenv_0.9.0          viridisLite_0.4.2      scales_1.3.0          \n",
       "[109] ggridges_0.5.5         leiden_0.4.3.1         crayon_1.5.2          \n",
       "[112] rlang_1.1.3            cowplot_1.1.2         "
      ]
     },
     "metadata": {},
     "output_type": "display_data"
    }
   ],
   "source": [
    "sessionInfo()"
   ]
  },
  {
   "cell_type": "code",
   "execution_count": null,
   "id": "ea5817fb-afba-4cf3-9475-ee3e00fa0e58",
   "metadata": {},
   "outputs": [],
   "source": []
  }
 ],
 "metadata": {
  "kernelspec": {
   "display_name": "R 4",
   "language": "R",
   "name": "ir4"
  },
  "language_info": {
   "codemirror_mode": "r",
   "file_extension": ".r",
   "mimetype": "text/x-r-source",
   "name": "R",
   "pygments_lexer": "r",
   "version": "4.3.2"
  }
 },
 "nbformat": 4,
 "nbformat_minor": 5
}
