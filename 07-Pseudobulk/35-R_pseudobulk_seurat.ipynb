{
 "cells": [
  {
   "cell_type": "markdown",
   "id": "c3b2b64f-3e78-411a-aadc-e8c7975effc2",
   "metadata": {},
   "source": [
    "# Convert to Pseudobulk using Seurat\n",
    "\n",
    "In this notebook, we utilize the normalization and aggregation functions in the Seurat package convert our single-cell data to pseudobulk values for each cell type per sample."
   ]
  },
  {
   "cell_type": "markdown",
   "id": "2c3d61b5-d78d-45e9-9342-b4a9382644e0",
   "metadata": {},
   "source": [
    "## Load packages"
   ]
  },
  {
   "cell_type": "code",
   "execution_count": 1,
   "id": "ade89989-c0ed-49a4-a61d-f14f17515d65",
   "metadata": {},
   "outputs": [],
   "source": [
    "quiet_library <- function(...) { suppressPackageStartupMessages(library(...)) }\n",
    "\n",
    "quiet_library(dplyr)\n",
    "quiet_library(hise)\n",
    "quiet_library(H5weaver)\n",
    "quiet_library(purrr)\n",
    "quiet_library(furrr)\n",
    "quiet_library(Seurat)"
   ]
  },
  {
   "cell_type": "code",
   "execution_count": 2,
   "id": "2d6c34fb-2385-4caf-bfb7-fd4e3275aaf5",
   "metadata": {},
   "outputs": [],
   "source": [
    "plan(multicore, workers = 12)"
   ]
  },
  {
   "cell_type": "code",
   "execution_count": 3,
   "id": "2ec92451-a8fe-4859-816c-0f38a06c6573",
   "metadata": {},
   "outputs": [],
   "source": [
    "min_detection <- 0.1"
   ]
  },
  {
   "cell_type": "code",
   "execution_count": 4,
   "id": "bdad8365-e0be-42fc-bf53-a917645b297f",
   "metadata": {},
   "outputs": [],
   "source": [
    "keep_cohorts <- c(\"BR1\", \"BR2\")"
   ]
  },
  {
   "cell_type": "markdown",
   "id": "cf5afee4-edea-4f4b-a545-d7d25410188c",
   "metadata": {},
   "source": [
    "## Helper functions\n",
    "This function assists in reading cell metadata data directly from .h5ad files into R"
   ]
  },
  {
   "cell_type": "code",
   "execution_count": 5,
   "id": "1e857f23-4971-4d26-a0b0-75bef55bffdf",
   "metadata": {},
   "outputs": [],
   "source": [
    "read_h5ad_cell_meta <- function(h5ad_file) \n",
    "{\n",
    "    h5ad_contents <- H5weaver::h5ls(h5ad_file)\n",
    "    obs_locs <- h5ad_contents$full_name[h5ad_contents$group == \"/obs\"]\n",
    "    obs_locs <- obs_locs[!obs_locs %in% c(\"/obs/__categories\", \"/obs/_index\")]\n",
    "    obs_locs <- obs_locs[!grepl(\"Unnamed\", obs_locs)]\n",
    "\n",
    "    h5ad <- H5Fopen(h5ad_file)\n",
    "\n",
    "    obs_list <- lapply(obs_locs, function(loc) {h5read(h5ad, loc)})\n",
    "\n",
    "    obs_list <- lapply(\n",
    "        obs_list,\n",
    "        function(obs) {\n",
    "            if(length(obs) == 2) {\n",
    "                vals <- vector(length = length(obs$codes))\n",
    "                vals[obs$codes >= 0] <- as.vector(obs$categories)[as.vector(obs$codes + 1)]\n",
    "                vals[obs$codes == -1] <- NA\n",
    "            } else {\n",
    "                vals <- as.vector(obs)\n",
    "            }\n",
    "\n",
    "            vals\n",
    "        }\n",
    "    )\n",
    "\n",
    "    obs_list <- lapply(obs_list, as.vector)\n",
    "    names(obs_list) <- sub(\".+/\", \"\", obs_locs)\n",
    "\n",
    "    H5Fclose(h5ad)\n",
    "    as.data.frame(obs_list)\n",
    "}"
   ]
  },
  {
   "cell_type": "markdown",
   "id": "78d5aebe-23f1-405f-827d-5532d5295d1e",
   "metadata": {},
   "source": [
    "This function converts from .h5ad expression values to pseudobulk"
   ]
  },
  {
   "cell_type": "code",
   "execution_count": 6,
   "id": "2771b1ae-9afe-41cb-8588-6b212a1c9ab8",
   "metadata": {},
   "outputs": [],
   "source": [
    "h5ad_to_pseudobulk_seurat <- function(h5ad_file, group_by, min_detection = 0.1, keep_cohorts) {\n",
    "    meta <- read_h5ad_cell_meta(h5ad_file)\n",
    "    meta <- meta %>%\n",
    "      filter(cohort.cohortGuid %in% keep_cohorts)\n",
    "    \n",
    "    meta$pb_group <- meta[[group_by[1]]]\n",
    "    if(length(group_by) > 1) {\n",
    "        for (i in 2:length(group_by)) {\n",
    "            meta$pb_group <- paste(meta$pb_group, meta[[group_by[i]]], sep = \".\")\n",
    "        }\n",
    "    }\n",
    "    meta$pb_group <- gsub(\" \",\"-\",meta$pb_group)\n",
    "    meta$pb_group <- gsub(\"_\",\"-\",meta$pb_group)\n",
    "    \n",
    "    mat <- read_h5ad_dgCMatrix(h5ad_file, feature_names = \"_index\")\n",
    "    \n",
    "    genes <- rownames(mat)\n",
    "    keep_genes <- genes[!grepl(\"^RP|^MT-|^LINC|orf\",genes)]\n",
    "    \n",
    "    type_meta <- split(meta, meta$AIFI_L3)\n",
    "    type_mat <- map(type_meta, function(meta) { mat[keep_genes,meta$barcodes] })\n",
    "    \n",
    "    type_detection <- map(\n",
    "        type_mat,\n",
    "        function(mat) {\n",
    "            mat <- t(mat)\n",
    "            diff(mat@p) / nrow(mat)\n",
    "        }\n",
    "    )\n",
    "    \n",
    "    type_mat <- map2(\n",
    "        type_mat, type_detection,\n",
    "        function(type_mat, detection) {\n",
    "            type_mat[detection >= min_detection,]\n",
    "        }\n",
    "    )\n",
    "    \n",
    "    type_pb <- map2(\n",
    "        type_meta, type_mat,\n",
    "        function(meta, mat) {\n",
    "            rownames(meta) <- meta$barcodes\n",
    "            \n",
    "            so <- CreateSeuratObject(\n",
    "                counts = mat,\n",
    "                meta.data = meta\n",
    "            )\n",
    "    \n",
    "            AggregateExpression(\n",
    "                so,\n",
    "                assays = \"RNA\",\n",
    "                return.seurat = FALSE,\n",
    "                group.by = \"pb_group\")$RNA\n",
    "        }\n",
    "    )\n",
    "    \n",
    "    type_pb\n",
    "}"
   ]
  },
  {
   "cell_type": "code",
   "execution_count": 7,
   "id": "5d986d33-4647-4abf-a264-bae19121b293",
   "metadata": {},
   "outputs": [],
   "source": [
    "h5ad_to_pseudobulk_meta <- function(h5ad_file, group_by, keep_cohorts) {\n",
    "    meta <- read_h5ad_cell_meta(h5ad_file)\n",
    "    meta <- meta %>%\n",
    "      filter(cohort.cohortGuid %in% keep_cohorts)\n",
    "    \n",
    "    meta$pb_group <- meta[[group_by[1]]]\n",
    "    if(length(group_by) > 1) {\n",
    "        for (i in 2:length(group_by)) {\n",
    "            meta$pb_group <- paste(meta$pb_group, meta[[group_by[i]]], sep = \".\")\n",
    "        }\n",
    "    }\n",
    "    meta$pb_group <- gsub(\" \",\"-\",meta$pb_group)\n",
    "    meta$pb_group <- gsub(\"_\",\"-\",meta$pb_group)\n",
    "    \n",
    "    meta <- meta %>%\n",
    "      select(pb_group, cohort.cohortGuid,\n",
    "             starts_with(\"subject\"),\n",
    "             starts_with(\"sample\"),\n",
    "             starts_with(\"AIFI_\")) %>%\n",
    "      unique() %>%\n",
    "      rename(barcodes = pb_group)\n",
    "\n",
    "    split(meta, meta$AIFI_L3)\n",
    "}"
   ]
  },
  {
   "cell_type": "markdown",
   "id": "1bf58308-0ee4-4263-9076-889353d2ef87",
   "metadata": {},
   "source": [
    "## Retrieve files to process in HISE\n",
    "\n",
    "We'll retrieve our clean, non-normalized .h5ad datasets for each AIFI_L2 class from HISE:"
   ]
  },
  {
   "cell_type": "code",
   "execution_count": 8,
   "id": "d8b83342-6379-4fbc-9b0a-9e645864724b",
   "metadata": {},
   "outputs": [],
   "source": [
    "h5ad_uuids <- list(\n",
    "    \"ASDC\" = \"93995785-045f-4068-84b6-2caffadd2046\",\n",
    "    \"CD14_monocyte\" = \"889376f0-2f6d-4eb5-83b1-09a5dbe7bddb\",\n",
    "    \"CD16_monocyte\" = \"fdb1a13e-9f00-458c-87b3-490b0cbe5d60\",\n",
    "    \"CD56bright_NK_cell\" = \"80a1f0a7-b295-4529-b94a-28e5a5cf5d99\",\n",
    "    \"CD56dim_NK_cell\" = \"c737f38d-489a-496d-9543-0df3cd28b73e\",\n",
    "    \"CD8aa\" = \"8eb443ae-8416-4cec-a713-239f3c09a049\",\n",
    "    \"cDC1\" = \"2030a86a-8496-49b9-9648-609963037bf5\",\n",
    "    \"cDC2\" = \"2e083c20-6461-4288-a55c-aa1fc0b0dac9\",\n",
    "    \"DN_T_cell\" = \"b4ba5cd7-af29-4b79-b383-b02d22d6a676\",\n",
    "    \"Effector_B_cell\" = \"79182a91-5c2c-495c-9d9e-211c2c1e7ce0\",\n",
    "    \"Erythrocyte\" = \"394197d7-85f0-46df-89cc-b837a7de107b\",\n",
    "    \"gdT\" = \"b5c5cc8d-e19e-46d6-8313-2901c19911c9\",\n",
    "    \"ILC\" = \"f61c717f-f176-4e19-b886-4418d4585f86\",\n",
    "    \"Intermediate_monocyte\" = \"c6a7c833-27c7-4f5e-8c5b-500d50e6d52d\",\n",
    "    \"MAIT\" = \"2472e2a9-851f-4bfb-a4a0-266f1d307d8e\",\n",
    "    \"Memory_B_cell\" = \"f5deed80-15d6-4faf-9e83-bec55d337656\",\n",
    "    \"Memory_CD4_T_cell\" = \"cc12267d-73e4-4b52-b1de-337d218b31c2\",\n",
    "    \"Memory_CD8_T_cell\" = \"25fc1e17-0dd3-478a-a2c2-a6871b676b3d\",\n",
    "    \"Naive_B_cell\" = \"c57030dd-4c66-4be1-9d06-cc8f505c24d6\",\n",
    "    \"Naive_CD4_T_cell\" = \"bec3a130-218a-4095-9183-b5908872e109\",\n",
    "    \"Naive_CD8_T_cell\" = \"0590000f-c9c6-4b3d-a613-1fa8bc65abbd\",\n",
    "    \"pDC\" = \"21954e50-0e55-484e-aa54-36d892bb52b6\",\n",
    "    \"Plasma_cell\" = \"896280a1-b04d-4f26-9549-80e8c16dc612\",\n",
    "    \"Platelet\" = \"5304bc14-1539-4443-a2dc-99632db631ea\",\n",
    "    \"Progenitor_cell\" = \"054798fb-1d63-4b24-8d0a-ad61f68ebcbc\",\n",
    "    \"Proliferating_NK_cell\" = \"72ec0f6a-0994-4f5f-9c8f-e46b3846a83d\",\n",
    "    \"Proliferating_T_cell\" = \"ac9b7079-dd80-425d-8923-945d900cc445\",\n",
    "    \"Transitional_B_cell\" = \"3a2e0fe0-a199-47f2-bab3-4b2f5d905451\",\n",
    "    \"Treg\" = \"c9c5f690-baaa-46fc-88c7-a723dbc95986\"\n",
    ")"
   ]
  },
  {
   "cell_type": "code",
   "execution_count": 9,
   "id": "dffaadf9-3cd0-4e67-9a75-1a2df98d3d15",
   "metadata": {},
   "outputs": [],
   "source": [
    "res <- cacheFiles(h5ad_uuids)"
   ]
  },
  {
   "cell_type": "code",
   "execution_count": 10,
   "id": "4de03534-8bfc-494a-a846-f08200bab638",
   "metadata": {},
   "outputs": [],
   "source": [
    "h5ad_files <- list.files(paste0(\"cache/\", h5ad_uuids), pattern = \".h5ad\", full.names = TRUE)"
   ]
  },
  {
   "cell_type": "code",
   "execution_count": 11,
   "id": "6d139a58-6dcc-49d8-83d4-7f5b5644de50",
   "metadata": {},
   "outputs": [],
   "source": [
    "test <- read_h5ad_cell_meta(h5ad_files[1])"
   ]
  },
  {
   "cell_type": "code",
   "execution_count": 12,
   "id": "3478f2ea-208e-424c-ab17-6b53dc0dc9cf",
   "metadata": {},
   "outputs": [
    {
     "data": {
      "text/html": [
       "<style>\n",
       ".list-inline {list-style: none; margin:0; padding: 0}\n",
       ".list-inline>li {display: inline-block}\n",
       ".list-inline>li:not(:last-child)::after {content: \"\\00b7\"; padding: 0 .5ex}\n",
       "</style>\n",
       "<ol class=list-inline><li>'AIFI_L1'</li><li>'AIFI_L2'</li><li>'AIFI_L3'</li><li>'barcodes'</li><li>'batch_id'</li><li>'cell_name'</li><li>'cell_uuid'</li><li>'celltypist.low'</li><li>'chip_id'</li><li>'cohort.cohortGuid'</li><li>'doublet_score'</li><li>'file.id'</li><li>'hto_barcode'</li><li>'hto_category'</li><li>'keep'</li><li>'leiden'</li><li>'log1p_n_genes_by_counts'</li><li>'log1p_total_counts'</li><li>'log1p_total_counts_mito'</li><li>'n_genes'</li><li>'n_genes_by_counts'</li><li>'n_mito_umis'</li><li>'n_reads'</li><li>'n_umis'</li><li>'original_barcodes'</li><li>'pbmc_sample_id'</li><li>'pct_counts_in_top_100_genes'</li><li>'pct_counts_in_top_200_genes'</li><li>'pct_counts_in_top_500_genes'</li><li>'pct_counts_in_top_50_genes'</li><li>'pct_counts_mito'</li><li>'pool_id'</li><li>'predicted_doublet'</li><li>'sample.drawDate'</li><li>'sample.sampleKitGuid'</li><li>'sample.visitName'</li><li>'seurat.l1'</li><li>'seurat.l1.score'</li><li>'seurat.l2'</li><li>'seurat.l2.5'</li><li>'seurat.l2.5.score'</li><li>'seurat.l2.score'</li><li>'seurat.l3'</li><li>'seurat.l3.score'</li><li>'subject.biologicalSex'</li><li>'subject.birthYear'</li><li>'subject.bmi'</li><li>'subject.cmv'</li><li>'subject.ethnicity'</li><li>'subject.race'</li><li>'subject.subjectGuid'</li><li>'total_counts'</li><li>'total_counts_mito'</li><li>'well_id'</li></ol>\n"
      ],
      "text/latex": [
       "\\begin{enumerate*}\n",
       "\\item 'AIFI\\_L1'\n",
       "\\item 'AIFI\\_L2'\n",
       "\\item 'AIFI\\_L3'\n",
       "\\item 'barcodes'\n",
       "\\item 'batch\\_id'\n",
       "\\item 'cell\\_name'\n",
       "\\item 'cell\\_uuid'\n",
       "\\item 'celltypist.low'\n",
       "\\item 'chip\\_id'\n",
       "\\item 'cohort.cohortGuid'\n",
       "\\item 'doublet\\_score'\n",
       "\\item 'file.id'\n",
       "\\item 'hto\\_barcode'\n",
       "\\item 'hto\\_category'\n",
       "\\item 'keep'\n",
       "\\item 'leiden'\n",
       "\\item 'log1p\\_n\\_genes\\_by\\_counts'\n",
       "\\item 'log1p\\_total\\_counts'\n",
       "\\item 'log1p\\_total\\_counts\\_mito'\n",
       "\\item 'n\\_genes'\n",
       "\\item 'n\\_genes\\_by\\_counts'\n",
       "\\item 'n\\_mito\\_umis'\n",
       "\\item 'n\\_reads'\n",
       "\\item 'n\\_umis'\n",
       "\\item 'original\\_barcodes'\n",
       "\\item 'pbmc\\_sample\\_id'\n",
       "\\item 'pct\\_counts\\_in\\_top\\_100\\_genes'\n",
       "\\item 'pct\\_counts\\_in\\_top\\_200\\_genes'\n",
       "\\item 'pct\\_counts\\_in\\_top\\_500\\_genes'\n",
       "\\item 'pct\\_counts\\_in\\_top\\_50\\_genes'\n",
       "\\item 'pct\\_counts\\_mito'\n",
       "\\item 'pool\\_id'\n",
       "\\item 'predicted\\_doublet'\n",
       "\\item 'sample.drawDate'\n",
       "\\item 'sample.sampleKitGuid'\n",
       "\\item 'sample.visitName'\n",
       "\\item 'seurat.l1'\n",
       "\\item 'seurat.l1.score'\n",
       "\\item 'seurat.l2'\n",
       "\\item 'seurat.l2.5'\n",
       "\\item 'seurat.l2.5.score'\n",
       "\\item 'seurat.l2.score'\n",
       "\\item 'seurat.l3'\n",
       "\\item 'seurat.l3.score'\n",
       "\\item 'subject.biologicalSex'\n",
       "\\item 'subject.birthYear'\n",
       "\\item 'subject.bmi'\n",
       "\\item 'subject.cmv'\n",
       "\\item 'subject.ethnicity'\n",
       "\\item 'subject.race'\n",
       "\\item 'subject.subjectGuid'\n",
       "\\item 'total\\_counts'\n",
       "\\item 'total\\_counts\\_mito'\n",
       "\\item 'well\\_id'\n",
       "\\end{enumerate*}\n"
      ],
      "text/markdown": [
       "1. 'AIFI_L1'\n",
       "2. 'AIFI_L2'\n",
       "3. 'AIFI_L3'\n",
       "4. 'barcodes'\n",
       "5. 'batch_id'\n",
       "6. 'cell_name'\n",
       "7. 'cell_uuid'\n",
       "8. 'celltypist.low'\n",
       "9. 'chip_id'\n",
       "10. 'cohort.cohortGuid'\n",
       "11. 'doublet_score'\n",
       "12. 'file.id'\n",
       "13. 'hto_barcode'\n",
       "14. 'hto_category'\n",
       "15. 'keep'\n",
       "16. 'leiden'\n",
       "17. 'log1p_n_genes_by_counts'\n",
       "18. 'log1p_total_counts'\n",
       "19. 'log1p_total_counts_mito'\n",
       "20. 'n_genes'\n",
       "21. 'n_genes_by_counts'\n",
       "22. 'n_mito_umis'\n",
       "23. 'n_reads'\n",
       "24. 'n_umis'\n",
       "25. 'original_barcodes'\n",
       "26. 'pbmc_sample_id'\n",
       "27. 'pct_counts_in_top_100_genes'\n",
       "28. 'pct_counts_in_top_200_genes'\n",
       "29. 'pct_counts_in_top_500_genes'\n",
       "30. 'pct_counts_in_top_50_genes'\n",
       "31. 'pct_counts_mito'\n",
       "32. 'pool_id'\n",
       "33. 'predicted_doublet'\n",
       "34. 'sample.drawDate'\n",
       "35. 'sample.sampleKitGuid'\n",
       "36. 'sample.visitName'\n",
       "37. 'seurat.l1'\n",
       "38. 'seurat.l1.score'\n",
       "39. 'seurat.l2'\n",
       "40. 'seurat.l2.5'\n",
       "41. 'seurat.l2.5.score'\n",
       "42. 'seurat.l2.score'\n",
       "43. 'seurat.l3'\n",
       "44. 'seurat.l3.score'\n",
       "45. 'subject.biologicalSex'\n",
       "46. 'subject.birthYear'\n",
       "47. 'subject.bmi'\n",
       "48. 'subject.cmv'\n",
       "49. 'subject.ethnicity'\n",
       "50. 'subject.race'\n",
       "51. 'subject.subjectGuid'\n",
       "52. 'total_counts'\n",
       "53. 'total_counts_mito'\n",
       "54. 'well_id'\n",
       "\n",
       "\n"
      ],
      "text/plain": [
       " [1] \"AIFI_L1\"                     \"AIFI_L2\"                    \n",
       " [3] \"AIFI_L3\"                     \"barcodes\"                   \n",
       " [5] \"batch_id\"                    \"cell_name\"                  \n",
       " [7] \"cell_uuid\"                   \"celltypist.low\"             \n",
       " [9] \"chip_id\"                     \"cohort.cohortGuid\"          \n",
       "[11] \"doublet_score\"               \"file.id\"                    \n",
       "[13] \"hto_barcode\"                 \"hto_category\"               \n",
       "[15] \"keep\"                        \"leiden\"                     \n",
       "[17] \"log1p_n_genes_by_counts\"     \"log1p_total_counts\"         \n",
       "[19] \"log1p_total_counts_mito\"     \"n_genes\"                    \n",
       "[21] \"n_genes_by_counts\"           \"n_mito_umis\"                \n",
       "[23] \"n_reads\"                     \"n_umis\"                     \n",
       "[25] \"original_barcodes\"           \"pbmc_sample_id\"             \n",
       "[27] \"pct_counts_in_top_100_genes\" \"pct_counts_in_top_200_genes\"\n",
       "[29] \"pct_counts_in_top_500_genes\" \"pct_counts_in_top_50_genes\" \n",
       "[31] \"pct_counts_mito\"             \"pool_id\"                    \n",
       "[33] \"predicted_doublet\"           \"sample.drawDate\"            \n",
       "[35] \"sample.sampleKitGuid\"        \"sample.visitName\"           \n",
       "[37] \"seurat.l1\"                   \"seurat.l1.score\"            \n",
       "[39] \"seurat.l2\"                   \"seurat.l2.5\"                \n",
       "[41] \"seurat.l2.5.score\"           \"seurat.l2.score\"            \n",
       "[43] \"seurat.l3\"                   \"seurat.l3.score\"            \n",
       "[45] \"subject.biologicalSex\"       \"subject.birthYear\"          \n",
       "[47] \"subject.bmi\"                 \"subject.cmv\"                \n",
       "[49] \"subject.ethnicity\"           \"subject.race\"               \n",
       "[51] \"subject.subjectGuid\"         \"total_counts\"               \n",
       "[53] \"total_counts_mito\"           \"well_id\"                    "
      ]
     },
     "metadata": {},
     "output_type": "display_data"
    }
   ],
   "source": [
    "names(test)"
   ]
  },
  {
   "cell_type": "markdown",
   "id": "3ad60da3-f246-4248-abb2-79d011141edc",
   "metadata": {},
   "source": [
    "## Convert to pseudobulk for each type"
   ]
  },
  {
   "cell_type": "code",
   "execution_count": 13,
   "id": "9360b720-494a-4786-baf8-d0969cbed1aa",
   "metadata": {},
   "outputs": [],
   "source": [
    "group_by <- c(\"AIFI_L3\", \"subject.subjectGuid\", \"sample.visitName\")"
   ]
  },
  {
   "cell_type": "code",
   "execution_count": 14,
   "id": "7a504eea-5e11-4b92-9d1d-b3eec782dee1",
   "metadata": {},
   "outputs": [],
   "source": [
    "pb_mats <- future_map(\n",
    "    h5ad_files,\n",
    "    h5ad_to_pseudobulk_seurat,\n",
    "    group_by = group_by,\n",
    "    min_detection = min_detection,\n",
    "    keep_cohorts = keep_cohorts\n",
    ")"
   ]
  },
  {
   "cell_type": "code",
   "execution_count": 15,
   "id": "c36a447f-9ef2-49d1-93ba-be1da1dd5730",
   "metadata": {},
   "outputs": [],
   "source": [
    "pb_mats <- unlist(pb_mats, recursive = FALSE)"
   ]
  },
  {
   "cell_type": "code",
   "execution_count": 16,
   "id": "753f4af7-9048-48b1-802a-512d95384cfb",
   "metadata": {},
   "outputs": [],
   "source": [
    "pb_meta <- future_map(\n",
    "    h5ad_files,\n",
    "    h5ad_to_pseudobulk_meta,\n",
    "    group_by = group_by,\n",
    "    keep_cohorts = keep_cohorts\n",
    ")"
   ]
  },
  {
   "cell_type": "code",
   "execution_count": 17,
   "id": "b7452e2b-da31-44a1-b39f-6f211578ee80",
   "metadata": {},
   "outputs": [],
   "source": [
    "pb_meta <- unlist(pb_meta, recursive = FALSE)"
   ]
  },
  {
   "cell_type": "markdown",
   "id": "656415f5-3bff-4580-ab53-820be21f314a",
   "metadata": {},
   "source": [
    "## Save to .rds of metadata and matrices for later use in R"
   ]
  },
  {
   "cell_type": "code",
   "execution_count": 18,
   "id": "7b056a12-8ec7-4116-b8cb-8114f190235c",
   "metadata": {},
   "outputs": [],
   "source": [
    "pb_data <- list(\n",
    "    mats = pb_mats,\n",
    "    meta = pb_meta\n",
    ")"
   ]
  },
  {
   "cell_type": "code",
   "execution_count": 19,
   "id": "1035bdb9-9bab-4461-bfc8-306abc4c0097",
   "metadata": {},
   "outputs": [],
   "source": [
    "out_rds <- paste0(\"output/ref_pbmc_AIFI_L3_seurat_pseudobulk_list_\", Sys.Date(), \".rds\")\n",
    "saveRDS(pb_data, out_rds)"
   ]
  },
  {
   "cell_type": "markdown",
   "id": "755ada9d-c58d-4e44-a089-87ddad788dcb",
   "metadata": {},
   "source": [
    "## Save to .h5 files for later use via H5weaver"
   ]
  },
  {
   "cell_type": "code",
   "execution_count": 20,
   "id": "b692ef6b-02e9-4379-8b5e-3e9dbec9d77e",
   "metadata": {},
   "outputs": [],
   "source": [
    "pb_h5_lists <- future_map2(\n",
    "    pb_mats, pb_meta,\n",
    "    function(mat, meta) {\n",
    "        h5_list <- list(\n",
    "            matrix_dgCMatrix = mat,\n",
    "            matrix = list(\n",
    "                observations = as.list(meta)\n",
    "            )\n",
    "        )\n",
    "        h5_list_convert_from_dgCMatrix(h5_list)\n",
    "    }\n",
    ")"
   ]
  },
  {
   "cell_type": "code",
   "execution_count": 21,
   "id": "571a420e-48de-4e4c-a4ac-e9f5ef389087",
   "metadata": {},
   "outputs": [],
   "source": [
    "out_h5 <- map(\n",
    "    names(pb_h5_lists), \n",
    "    function(ct) {\n",
    "        ct <- gsub(\" \", \"-\", ct)\n",
    "        paste0(\"output/ref_pbmc_AIFI_L3_\",\n",
    "               ct,\n",
    "               \"_seurat_pseudobulk_\",\n",
    "               Sys.Date(),\n",
    "               \".h5\")\n",
    "    }\n",
    ")"
   ]
  },
  {
   "cell_type": "code",
   "execution_count": 22,
   "id": "bcfc6bb6-b151-4626-bb47-4448b6c752ad",
   "metadata": {},
   "outputs": [],
   "source": [
    "walk2(\n",
    "    pb_h5_lists, out_h5,\n",
    "    write_h5_list\n",
    ")"
   ]
  },
  {
   "cell_type": "markdown",
   "id": "e108a1ae-4c77-423e-a66a-703f359c14d9",
   "metadata": {},
   "source": [
    "combine all of these in .tar file for upload"
   ]
  },
  {
   "cell_type": "code",
   "execution_count": 23,
   "id": "8b5af14a-acc9-4a5b-8819-aa5c83738a4b",
   "metadata": {},
   "outputs": [],
   "source": [
    "h5_tar <- paste0(\"output/ref_pbmc_AIFI_L3_seurat_pseudobulk_h5_\", Sys.Date(), \".tar.gz\")\n",
    "system_call <- paste(\n",
    "    \"tar -czf\", h5_tar, \"output/*.h5\"\n",
    ")\n",
    "system(system_call)"
   ]
  },
  {
   "cell_type": "markdown",
   "id": "23d0cd88-2d90-44ad-9403-c67cd8faae51",
   "metadata": {},
   "source": [
    "## Upload results to HISE"
   ]
  },
  {
   "cell_type": "code",
   "execution_count": 24,
   "id": "a56eb1ed-c1f2-4698-bdb1-6e1529911f0a",
   "metadata": {
    "tags": []
   },
   "outputs": [],
   "source": [
    "study_space_uuid <- \"64097865-486d-43b3-8f94-74994e0a72e0\"\n",
    "title <- paste(\"PBMC Ref. Seurat Pseudobulk\", Sys.Date())"
   ]
  },
  {
   "cell_type": "code",
   "execution_count": 57,
   "id": "ac922761-1514-4e1b-9d08-12fddfe644dd",
   "metadata": {
    "tags": []
   },
   "outputs": [],
   "source": [
    "in_list <- h5ad_uuids"
   ]
  },
  {
   "cell_type": "code",
   "execution_count": 58,
   "id": "84307932-fe39-4f7c-93d2-463cb94f327b",
   "metadata": {
    "tags": []
   },
   "outputs": [
    {
     "data": {
      "text/html": [
       "<ol>\n",
       "\t<li>'output/ref_pbmc_AIFI_L3_seurat_pseudobulk_list_2024-04-04.rds'</li>\n",
       "\t<li>'output/ref_pbmc_AIFI_L3_seurat_pseudobulk_h5_2024-04-04.tar.gz'</li>\n",
       "</ol>\n"
      ],
      "text/latex": [
       "\\begin{enumerate}\n",
       "\\item 'output/ref\\_pbmc\\_AIFI\\_L3\\_seurat\\_pseudobulk\\_list\\_2024-04-04.rds'\n",
       "\\item 'output/ref\\_pbmc\\_AIFI\\_L3\\_seurat\\_pseudobulk\\_h5\\_2024-04-04.tar.gz'\n",
       "\\end{enumerate}\n"
      ],
      "text/markdown": [
       "1. 'output/ref_pbmc_AIFI_L3_seurat_pseudobulk_list_2024-04-04.rds'\n",
       "2. 'output/ref_pbmc_AIFI_L3_seurat_pseudobulk_h5_2024-04-04.tar.gz'\n",
       "\n",
       "\n"
      ],
      "text/plain": [
       "[[1]]\n",
       "[1] \"output/ref_pbmc_AIFI_L3_seurat_pseudobulk_list_2024-04-04.rds\"\n",
       "\n",
       "[[2]]\n",
       "[1] \"output/ref_pbmc_AIFI_L3_seurat_pseudobulk_h5_2024-04-04.tar.gz\"\n"
      ]
     },
     "metadata": {},
     "output_type": "display_data"
    }
   ],
   "source": [
    "out_list <- list(out_rds, h5_tar)\n",
    "out_list"
   ]
  },
  {
   "cell_type": "code",
   "execution_count": 59,
   "id": "86624b61-d11a-4703-8fef-fd2a4a21d604",
   "metadata": {
    "scrolled": true,
    "tags": []
   },
   "outputs": [
    {
     "name": "stdout",
     "output_type": "stream",
     "text": [
      "[1] \"Authorization token invalid or expired.\"\n",
      "[1] \"Retrying...\"\n"
     ]
    },
    {
     "data": {
      "text/html": [
       "<dl>\n",
       "\t<dt>$files</dt>\n",
       "\t\t<dd><ol>\n",
       "\t<li>'output/ref_pbmc_AIFI_L3_seurat_pseudobulk_list_2024-04-04.rds'</li>\n",
       "\t<li>'output/ref_pbmc_AIFI_L3_seurat_pseudobulk_h5_2024-04-04.tar.gz'</li>\n",
       "</ol>\n",
       "</dd>\n",
       "\t<dt>$traceId</dt>\n",
       "\t\t<dd>'17feaa57-c0a8-47c1-a74d-abc54c670fb8'</dd>\n",
       "</dl>\n"
      ],
      "text/latex": [
       "\\begin{description}\n",
       "\\item[\\$files] \\begin{enumerate}\n",
       "\\item 'output/ref\\_pbmc\\_AIFI\\_L3\\_seurat\\_pseudobulk\\_list\\_2024-04-04.rds'\n",
       "\\item 'output/ref\\_pbmc\\_AIFI\\_L3\\_seurat\\_pseudobulk\\_h5\\_2024-04-04.tar.gz'\n",
       "\\end{enumerate}\n",
       "\n",
       "\\item[\\$traceId] '17feaa57-c0a8-47c1-a74d-abc54c670fb8'\n",
       "\\end{description}\n"
      ],
      "text/markdown": [
       "$files\n",
       ":   1. 'output/ref_pbmc_AIFI_L3_seurat_pseudobulk_list_2024-04-04.rds'\n",
       "2. 'output/ref_pbmc_AIFI_L3_seurat_pseudobulk_h5_2024-04-04.tar.gz'\n",
       "\n",
       "\n",
       "\n",
       "$traceId\n",
       ":   '17feaa57-c0a8-47c1-a74d-abc54c670fb8'\n",
       "\n",
       "\n"
      ],
      "text/plain": [
       "$files\n",
       "$files[[1]]\n",
       "[1] \"output/ref_pbmc_AIFI_L3_seurat_pseudobulk_list_2024-04-04.rds\"\n",
       "\n",
       "$files[[2]]\n",
       "[1] \"output/ref_pbmc_AIFI_L3_seurat_pseudobulk_h5_2024-04-04.tar.gz\"\n",
       "\n",
       "\n",
       "$traceId\n",
       "[1] \"17feaa57-c0a8-47c1-a74d-abc54c670fb8\"\n"
      ]
     },
     "metadata": {},
     "output_type": "display_data"
    }
   ],
   "source": [
    "uploadFiles(\n",
    "    files = out_list,\n",
    "    studySpaceId = study_space_uuid,\n",
    "    title = title,\n",
    "    inputFileIds = in_list,\n",
    "    store = \"project\",\n",
    "    doPrompt = FALSE\n",
    ")"
   ]
  },
  {
   "cell_type": "code",
   "execution_count": 60,
   "id": "a2a58374-e78a-4615-9e43-631be500d82e",
   "metadata": {},
   "outputs": [
    {
     "data": {
      "text/plain": [
       "R version 4.3.2 (2023-10-31)\n",
       "Platform: x86_64-conda-linux-gnu (64-bit)\n",
       "Running under: Ubuntu 20.04.6 LTS\n",
       "\n",
       "Matrix products: default\n",
       "BLAS/LAPACK: /opt/conda/lib/libopenblasp-r0.3.25.so;  LAPACK version 3.11.0\n",
       "\n",
       "locale:\n",
       " [1] LC_CTYPE=C.UTF-8       LC_NUMERIC=C           LC_TIME=C.UTF-8       \n",
       " [4] LC_COLLATE=C.UTF-8     LC_MONETARY=C.UTF-8    LC_MESSAGES=C.UTF-8   \n",
       " [7] LC_PAPER=C.UTF-8       LC_NAME=C              LC_ADDRESS=C          \n",
       "[10] LC_TELEPHONE=C         LC_MEASUREMENT=C.UTF-8 LC_IDENTIFICATION=C   \n",
       "\n",
       "time zone: Etc/UTC\n",
       "tzcode source: system (glibc)\n",
       "\n",
       "attached base packages:\n",
       "[1] stats     graphics  grDevices utils     datasets  methods   base     \n",
       "\n",
       "other attached packages:\n",
       " [1] Seurat_5.0.1       SeuratObject_5.0.1 sp_2.1-2           furrr_0.3.1       \n",
       " [5] future_1.33.1      purrr_1.0.2        H5weaver_1.2.0     rhdf5_2.46.1      \n",
       " [9] Matrix_1.6-4       data.table_1.15.0  hise_2.16.0        dplyr_1.1.4       \n",
       "\n",
       "loaded via a namespace (and not attached):\n",
       "  [1] RColorBrewer_1.1-3     jsonlite_1.8.8         magrittr_2.0.3        \n",
       "  [4] spatstat.utils_3.0-4   vctrs_0.6.5            ROCR_1.0-11           \n",
       "  [7] spatstat.explore_3.2-5 RCurl_1.98-1.14        base64enc_0.1-3       \n",
       " [10] htmltools_0.5.7        curl_5.1.0             Rhdf5lib_1.24.1       \n",
       " [13] sctransform_0.4.1      parallelly_1.36.0      KernSmooth_2.23-22    \n",
       " [16] htmlwidgets_1.6.4      ica_1.0-3              plyr_1.8.9            \n",
       " [19] plotly_4.10.3          zoo_1.8-12             uuid_1.2-0            \n",
       " [22] igraph_1.6.0           mime_0.12              lifecycle_1.0.4       \n",
       " [25] pkgconfig_2.0.3        R6_2.5.1               fastmap_1.1.1         \n",
       " [28] fitdistrplus_1.1-11    shiny_1.8.0            digest_0.6.34         \n",
       " [31] colorspace_2.1-0       patchwork_1.1.3        tensor_1.5            \n",
       " [34] RSpectra_0.16-1        irlba_2.3.5.1          progressr_0.14.0      \n",
       " [37] fansi_1.0.6            spatstat.sparse_3.0-3  httr_1.4.7            \n",
       " [40] polyclip_1.10-6        abind_1.4-5            compiler_4.3.2        \n",
       " [43] fastDummies_1.7.3      MASS_7.3-60            tools_4.3.2           \n",
       " [46] lmtest_0.9-40          httpuv_1.6.14          future.apply_1.11.1   \n",
       " [49] goftest_1.2-3          glue_1.7.0             nlme_3.1-164          \n",
       " [52] rhdf5filters_1.14.1    promises_1.2.1         grid_4.3.2            \n",
       " [55] pbdZMQ_0.3-10          Rtsne_0.17             cluster_2.1.6         \n",
       " [58] reshape2_1.4.4         generics_0.1.3         gtable_0.3.4          \n",
       " [61] spatstat.data_3.0-3    tidyr_1.3.0            utf8_1.2.4            \n",
       " [64] spatstat.geom_3.2-7    RcppAnnoy_0.0.21       ggrepel_0.9.4         \n",
       " [67] RANN_2.6.1             pillar_1.9.0           stringr_1.5.1         \n",
       " [70] spam_2.10-0            IRdisplay_1.1          RcppHNSW_0.5.0        \n",
       " [73] later_1.3.2            splines_4.3.2          lattice_0.22-5        \n",
       " [76] survival_3.5-7         deldir_2.0-2           tidyselect_1.2.0      \n",
       " [79] miniUI_0.1.1.1         pbapply_1.7-2          gridExtra_2.3         \n",
       " [82] scattermore_1.2        matrixStats_1.2.0      stringi_1.8.3         \n",
       " [85] lazyeval_0.2.2         evaluate_0.23          codetools_0.2-19      \n",
       " [88] tibble_3.2.1           cli_3.6.2              uwot_0.1.16           \n",
       " [91] IRkernel_1.3.2         xtable_1.8-4           reticulate_1.34.0     \n",
       " [94] repr_1.1.6.9000        munsell_0.5.0          Rcpp_1.0.12           \n",
       " [97] globals_0.16.2         spatstat.random_3.2-2  png_0.1-8             \n",
       "[100] parallel_4.3.2         ellipsis_0.3.2         ggplot2_3.4.4         \n",
       "[103] assertthat_0.2.1       dotCall64_1.1-1        bitops_1.0-7          \n",
       "[106] listenv_0.9.0          viridisLite_0.4.2      scales_1.3.0          \n",
       "[109] ggridges_0.5.5         leiden_0.4.3.1         crayon_1.5.2          \n",
       "[112] rlang_1.1.3            cowplot_1.1.2         "
      ]
     },
     "metadata": {},
     "output_type": "display_data"
    }
   ],
   "source": [
    "sessionInfo()"
   ]
  },
  {
   "cell_type": "code",
   "execution_count": null,
   "id": "ea5817fb-afba-4cf3-9475-ee3e00fa0e58",
   "metadata": {},
   "outputs": [],
   "source": []
  }
 ],
 "metadata": {
  "kernelspec": {
   "display_name": "R 4",
   "language": "R",
   "name": "ir4"
  },
  "language_info": {
   "codemirror_mode": "r",
   "file_extension": ".r",
   "mimetype": "text/x-r-source",
   "name": "R",
   "pygments_lexer": "r",
   "version": "4.3.2"
  }
 },
 "nbformat": 4,
 "nbformat_minor": 5
}
