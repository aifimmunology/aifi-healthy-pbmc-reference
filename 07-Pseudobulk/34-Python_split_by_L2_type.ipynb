{
 "cells": [
  {
   "cell_type": "markdown",
   "id": "b5b1b185-b1c2-4abd-b1bc-b2377d297c15",
   "metadata": {},
   "source": [
    "# Split data by AIFI_L2 type\n",
    "\n",
    "To help with pseudobulk and other downstream processes, we'll read in our complete, labeled .h5ad file and split it up per AIFI_L2 cell type."
   ]
  },
  {
   "cell_type": "markdown",
   "id": "bd0668b9-acb4-41fe-8169-bf5bd801512d",
   "metadata": {},
   "source": [
    "## Load packages"
   ]
  },
  {
   "cell_type": "code",
   "execution_count": 1,
   "id": "310e77bb-45ec-44e0-b43e-255801a7d383",
   "metadata": {},
   "outputs": [],
   "source": [
    "from datetime import date\n",
    "import hisepy\n",
    "import os\n",
    "import re\n",
    "import scanpy as sc"
   ]
  },
  {
   "cell_type": "code",
   "execution_count": 2,
   "id": "7692e66d-90fd-4dad-b055-6dcaefa06ffa",
   "metadata": {},
   "outputs": [],
   "source": [
    "if not os.path.exists('output'):\n",
    "    os.mkdir('output')"
   ]
  },
  {
   "cell_type": "code",
   "execution_count": 3,
   "id": "36969319-0b22-40a6-a95c-b5af4eda1d71",
   "metadata": {},
   "outputs": [],
   "source": [
    "out_files = []"
   ]
  },
  {
   "cell_type": "markdown",
   "id": "748b3b6d-b702-48b7-a84a-4b381295fcdf",
   "metadata": {},
   "source": [
    "## Helper functions"
   ]
  },
  {
   "cell_type": "code",
   "execution_count": 4,
   "id": "580ef023-65cf-4585-91f6-7596ab3ea854",
   "metadata": {},
   "outputs": [],
   "source": [
    "def read_adata_uuid(h5ad_uuid):\n",
    "    h5ad_path = '/home/jupyter/cache/{u}'.format(u = h5ad_uuid)\n",
    "    if not os.path.isdir(h5ad_path):\n",
    "        hise_res = hisepy.cache_files([h5ad_uuid])\n",
    "    h5ad_filename = os.listdir(h5ad_path)[0]\n",
    "    h5ad_file = '{p}/{f}'.format(p = h5ad_path, f = h5ad_filename)\n",
    "    adata = sc.read_h5ad(h5ad_file)\n",
    "    return adata"
   ]
  },
  {
   "cell_type": "markdown",
   "id": "74ed007d-18d5-4f3b-81b0-dda201e31682",
   "metadata": {},
   "source": [
    "## Read dataset from HISE"
   ]
  },
  {
   "cell_type": "code",
   "execution_count": 5,
   "id": "0b92cf60-264a-43e9-830f-382ab600e10d",
   "metadata": {},
   "outputs": [],
   "source": [
    "h5ad_uuid = '6e8972a5-9463-4230-84b4-a20de055b9c3'"
   ]
  },
  {
   "cell_type": "code",
   "execution_count": 6,
   "id": "e311a83d-f9ac-477e-b1e8-67f156790e79",
   "metadata": {},
   "outputs": [],
   "source": [
    "adata = read_adata_uuid(h5ad_uuid)"
   ]
  },
  {
   "cell_type": "markdown",
   "id": "c8403f8e-109b-43af-a4ca-65179faca705",
   "metadata": {},
   "source": [
    "## Split and save L2 types"
   ]
  },
  {
   "cell_type": "code",
   "execution_count": 7,
   "id": "7719c832-1493-4450-ac1f-cc71637abf67",
   "metadata": {},
   "outputs": [],
   "source": [
    "adata = adata.raw.to_adata()"
   ]
  },
  {
   "cell_type": "code",
   "execution_count": 8,
   "id": "fe0b7351-483d-48ae-9a60-1e2d69483af0",
   "metadata": {},
   "outputs": [],
   "source": [
    "l2_types = adata.obs['AIFI_L2'].unique()"
   ]
  },
  {
   "cell_type": "code",
   "execution_count": 9,
   "id": "941ffcc3-2c3d-45d3-ab76-597de80598af",
   "metadata": {},
   "outputs": [
    {
     "data": {
      "text/plain": [
       "['MAIT', 'Naive CD4 T cell', 'CD14 monocyte', 'Memory CD4 T cell', 'Memory B cell', ..., 'Plasma cell', 'Erythrocyte', 'ILC', 'cDC1', 'ASDC']\n",
       "Length: 29\n",
       "Categories (29, object): ['ASDC', 'CD8aa', 'CD14 monocyte', 'CD16 monocyte', ..., 'cDC1', 'cDC2', 'gdT', 'pDC']"
      ]
     },
     "execution_count": 9,
     "metadata": {},
     "output_type": "execute_result"
    }
   ],
   "source": [
    "l2_types"
   ]
  },
  {
   "cell_type": "code",
   "execution_count": 10,
   "id": "7852453a-18c7-42af-bdfc-f450b9fd68d1",
   "metadata": {},
   "outputs": [],
   "source": [
    "for l2_type in l2_types:\n",
    "    out_type = re.sub(' ', '_', l2_type)\n",
    "    out_file = 'output/ref_pbmc_AIFI_L2_{t}_{d}.h5ad'.format(t = out_type, d = date.today())\n",
    "    type_adata = adata[adata.obs['AIFI_L2'] == l2_type]\n",
    "    type_adata.write_h5ad(out_file)\n",
    "    out_files.append(out_file)"
   ]
  },
  {
   "cell_type": "markdown",
   "id": "e5ba4d6e-43e5-4938-bb23-a812382a7f03",
   "metadata": {},
   "source": [
    "## Upload Results to HISE\n",
    "\n",
    "Finally, we'll use `hisepy.upload.upload_files()` to send a copy of our output to HISE to use for downstream analysis steps."
   ]
  },
  {
   "cell_type": "code",
   "execution_count": 11,
   "id": "6249c3dc-e18f-4312-be7a-194246331362",
   "metadata": {},
   "outputs": [],
   "source": [
    "study_space_uuid = '64097865-486d-43b3-8f94-74994e0a72e0'\n",
    "title = 'PBMC Reference Split Per L2 Type {d}'.format(d = date.today())"
   ]
  },
  {
   "cell_type": "code",
   "execution_count": 12,
   "id": "065248cd-f24f-4129-94da-27bbd563b817",
   "metadata": {},
   "outputs": [],
   "source": [
    "in_files = [h5ad_uuid]"
   ]
  },
  {
   "cell_type": "code",
   "execution_count": 13,
   "id": "bfed41e0-fe04-4c77-8b65-212872d9caa6",
   "metadata": {},
   "outputs": [
    {
     "data": {
      "text/plain": [
       "['6e8972a5-9463-4230-84b4-a20de055b9c3']"
      ]
     },
     "execution_count": 13,
     "metadata": {},
     "output_type": "execute_result"
    }
   ],
   "source": [
    "in_files"
   ]
  },
  {
   "cell_type": "code",
   "execution_count": 14,
   "id": "c80d8741-3852-4662-b52b-a70c70b6355d",
   "metadata": {},
   "outputs": [
    {
     "data": {
      "text/plain": [
       "['output/ref_pbmc_AIFI_L2_MAIT_2024-04-03.h5ad',\n",
       " 'output/ref_pbmc_AIFI_L2_Naive_CD4_T_cell_2024-04-03.h5ad',\n",
       " 'output/ref_pbmc_AIFI_L2_CD14_monocyte_2024-04-03.h5ad',\n",
       " 'output/ref_pbmc_AIFI_L2_Memory_CD4_T_cell_2024-04-03.h5ad',\n",
       " 'output/ref_pbmc_AIFI_L2_Memory_B_cell_2024-04-03.h5ad',\n",
       " 'output/ref_pbmc_AIFI_L2_pDC_2024-04-03.h5ad',\n",
       " 'output/ref_pbmc_AIFI_L2_Proliferating_NK_cell_2024-04-03.h5ad',\n",
       " 'output/ref_pbmc_AIFI_L2_Naive_CD8_T_cell_2024-04-03.h5ad',\n",
       " 'output/ref_pbmc_AIFI_L2_CD16_monocyte_2024-04-03.h5ad',\n",
       " 'output/ref_pbmc_AIFI_L2_cDC2_2024-04-03.h5ad',\n",
       " 'output/ref_pbmc_AIFI_L2_Memory_CD8_T_cell_2024-04-03.h5ad',\n",
       " 'output/ref_pbmc_AIFI_L2_CD56dim_NK_cell_2024-04-03.h5ad',\n",
       " 'output/ref_pbmc_AIFI_L2_Naive_B_cell_2024-04-03.h5ad',\n",
       " 'output/ref_pbmc_AIFI_L2_Effector_B_cell_2024-04-03.h5ad',\n",
       " 'output/ref_pbmc_AIFI_L2_Proliferating_T_cell_2024-04-03.h5ad',\n",
       " 'output/ref_pbmc_AIFI_L2_Transitional_B_cell_2024-04-03.h5ad',\n",
       " 'output/ref_pbmc_AIFI_L2_DN_T_cell_2024-04-03.h5ad',\n",
       " 'output/ref_pbmc_AIFI_L2_gdT_2024-04-03.h5ad',\n",
       " 'output/ref_pbmc_AIFI_L2_Intermediate_monocyte_2024-04-03.h5ad',\n",
       " 'output/ref_pbmc_AIFI_L2_Progenitor_cell_2024-04-03.h5ad',\n",
       " 'output/ref_pbmc_AIFI_L2_Treg_2024-04-03.h5ad',\n",
       " 'output/ref_pbmc_AIFI_L2_CD56bright_NK_cell_2024-04-03.h5ad',\n",
       " 'output/ref_pbmc_AIFI_L2_CD8aa_2024-04-03.h5ad',\n",
       " 'output/ref_pbmc_AIFI_L2_Platelet_2024-04-03.h5ad',\n",
       " 'output/ref_pbmc_AIFI_L2_Plasma_cell_2024-04-03.h5ad',\n",
       " 'output/ref_pbmc_AIFI_L2_Erythrocyte_2024-04-03.h5ad',\n",
       " 'output/ref_pbmc_AIFI_L2_ILC_2024-04-03.h5ad',\n",
       " 'output/ref_pbmc_AIFI_L2_cDC1_2024-04-03.h5ad',\n",
       " 'output/ref_pbmc_AIFI_L2_ASDC_2024-04-03.h5ad']"
      ]
     },
     "execution_count": 14,
     "metadata": {},
     "output_type": "execute_result"
    }
   ],
   "source": [
    "out_files"
   ]
  },
  {
   "cell_type": "code",
   "execution_count": 15,
   "id": "66c0a32e-bb01-41db-85d1-eb6a5fd5ae15",
   "metadata": {},
   "outputs": [
    {
     "name": "stdout",
     "output_type": "stream",
     "text": [
      "output/ref_pbmc_AIFI_L2_MAIT_2024-04-03.h5ad\n",
      "output/ref_pbmc_AIFI_L2_Naive_CD4_T_cell_2024-04-03.h5ad\n",
      "output/ref_pbmc_AIFI_L2_CD14_monocyte_2024-04-03.h5ad\n",
      "output/ref_pbmc_AIFI_L2_Memory_CD4_T_cell_2024-04-03.h5ad\n",
      "output/ref_pbmc_AIFI_L2_Memory_B_cell_2024-04-03.h5ad\n",
      "output/ref_pbmc_AIFI_L2_pDC_2024-04-03.h5ad\n",
      "output/ref_pbmc_AIFI_L2_Proliferating_NK_cell_2024-04-03.h5ad\n",
      "output/ref_pbmc_AIFI_L2_Naive_CD8_T_cell_2024-04-03.h5ad\n",
      "output/ref_pbmc_AIFI_L2_CD16_monocyte_2024-04-03.h5ad\n",
      "output/ref_pbmc_AIFI_L2_cDC2_2024-04-03.h5ad\n",
      "output/ref_pbmc_AIFI_L2_Memory_CD8_T_cell_2024-04-03.h5ad\n",
      "output/ref_pbmc_AIFI_L2_CD56dim_NK_cell_2024-04-03.h5ad\n",
      "output/ref_pbmc_AIFI_L2_Naive_B_cell_2024-04-03.h5ad\n",
      "output/ref_pbmc_AIFI_L2_Effector_B_cell_2024-04-03.h5ad\n",
      "output/ref_pbmc_AIFI_L2_Proliferating_T_cell_2024-04-03.h5ad\n",
      "output/ref_pbmc_AIFI_L2_Transitional_B_cell_2024-04-03.h5ad\n",
      "output/ref_pbmc_AIFI_L2_DN_T_cell_2024-04-03.h5ad\n",
      "output/ref_pbmc_AIFI_L2_gdT_2024-04-03.h5ad\n",
      "output/ref_pbmc_AIFI_L2_Intermediate_monocyte_2024-04-03.h5ad\n",
      "output/ref_pbmc_AIFI_L2_Progenitor_cell_2024-04-03.h5ad\n",
      "output/ref_pbmc_AIFI_L2_Treg_2024-04-03.h5ad\n",
      "output/ref_pbmc_AIFI_L2_CD56bright_NK_cell_2024-04-03.h5ad\n",
      "output/ref_pbmc_AIFI_L2_CD8aa_2024-04-03.h5ad\n",
      "output/ref_pbmc_AIFI_L2_Platelet_2024-04-03.h5ad\n",
      "output/ref_pbmc_AIFI_L2_Plasma_cell_2024-04-03.h5ad\n",
      "output/ref_pbmc_AIFI_L2_Erythrocyte_2024-04-03.h5ad\n",
      "output/ref_pbmc_AIFI_L2_ILC_2024-04-03.h5ad\n",
      "output/ref_pbmc_AIFI_L2_cDC1_2024-04-03.h5ad\n",
      "output/ref_pbmc_AIFI_L2_ASDC_2024-04-03.h5ad\n",
      "you are trying to upload file_ids... ['output/ref_pbmc_AIFI_L2_MAIT_2024-04-03.h5ad', 'output/ref_pbmc_AIFI_L2_Naive_CD4_T_cell_2024-04-03.h5ad', 'output/ref_pbmc_AIFI_L2_CD14_monocyte_2024-04-03.h5ad', 'output/ref_pbmc_AIFI_L2_Memory_CD4_T_cell_2024-04-03.h5ad', 'output/ref_pbmc_AIFI_L2_Memory_B_cell_2024-04-03.h5ad', 'output/ref_pbmc_AIFI_L2_pDC_2024-04-03.h5ad', 'output/ref_pbmc_AIFI_L2_Proliferating_NK_cell_2024-04-03.h5ad', 'output/ref_pbmc_AIFI_L2_Naive_CD8_T_cell_2024-04-03.h5ad', 'output/ref_pbmc_AIFI_L2_CD16_monocyte_2024-04-03.h5ad', 'output/ref_pbmc_AIFI_L2_cDC2_2024-04-03.h5ad', 'output/ref_pbmc_AIFI_L2_Memory_CD8_T_cell_2024-04-03.h5ad', 'output/ref_pbmc_AIFI_L2_CD56dim_NK_cell_2024-04-03.h5ad', 'output/ref_pbmc_AIFI_L2_Naive_B_cell_2024-04-03.h5ad', 'output/ref_pbmc_AIFI_L2_Effector_B_cell_2024-04-03.h5ad', 'output/ref_pbmc_AIFI_L2_Proliferating_T_cell_2024-04-03.h5ad', 'output/ref_pbmc_AIFI_L2_Transitional_B_cell_2024-04-03.h5ad', 'output/ref_pbmc_AIFI_L2_DN_T_cell_2024-04-03.h5ad', 'output/ref_pbmc_AIFI_L2_gdT_2024-04-03.h5ad', 'output/ref_pbmc_AIFI_L2_Intermediate_monocyte_2024-04-03.h5ad', 'output/ref_pbmc_AIFI_L2_Progenitor_cell_2024-04-03.h5ad', 'output/ref_pbmc_AIFI_L2_Treg_2024-04-03.h5ad', 'output/ref_pbmc_AIFI_L2_CD56bright_NK_cell_2024-04-03.h5ad', 'output/ref_pbmc_AIFI_L2_CD8aa_2024-04-03.h5ad', 'output/ref_pbmc_AIFI_L2_Platelet_2024-04-03.h5ad', 'output/ref_pbmc_AIFI_L2_Plasma_cell_2024-04-03.h5ad', 'output/ref_pbmc_AIFI_L2_Erythrocyte_2024-04-03.h5ad', 'output/ref_pbmc_AIFI_L2_ILC_2024-04-03.h5ad', 'output/ref_pbmc_AIFI_L2_cDC1_2024-04-03.h5ad', 'output/ref_pbmc_AIFI_L2_ASDC_2024-04-03.h5ad']. Do you truly want to proceed?\n"
     ]
    },
    {
     "name": "stdin",
     "output_type": "stream",
     "text": [
      "(y/n) y\n"
     ]
    },
    {
     "data": {
      "text/plain": [
       "{'trace_id': 'e62e09e3-b89c-4bde-9559-73821d533d93',\n",
       " 'files': ['output/ref_pbmc_AIFI_L2_MAIT_2024-04-03.h5ad',\n",
       "  'output/ref_pbmc_AIFI_L2_Naive_CD4_T_cell_2024-04-03.h5ad',\n",
       "  'output/ref_pbmc_AIFI_L2_CD14_monocyte_2024-04-03.h5ad',\n",
       "  'output/ref_pbmc_AIFI_L2_Memory_CD4_T_cell_2024-04-03.h5ad',\n",
       "  'output/ref_pbmc_AIFI_L2_Memory_B_cell_2024-04-03.h5ad',\n",
       "  'output/ref_pbmc_AIFI_L2_pDC_2024-04-03.h5ad',\n",
       "  'output/ref_pbmc_AIFI_L2_Proliferating_NK_cell_2024-04-03.h5ad',\n",
       "  'output/ref_pbmc_AIFI_L2_Naive_CD8_T_cell_2024-04-03.h5ad',\n",
       "  'output/ref_pbmc_AIFI_L2_CD16_monocyte_2024-04-03.h5ad',\n",
       "  'output/ref_pbmc_AIFI_L2_cDC2_2024-04-03.h5ad',\n",
       "  'output/ref_pbmc_AIFI_L2_Memory_CD8_T_cell_2024-04-03.h5ad',\n",
       "  'output/ref_pbmc_AIFI_L2_CD56dim_NK_cell_2024-04-03.h5ad',\n",
       "  'output/ref_pbmc_AIFI_L2_Naive_B_cell_2024-04-03.h5ad',\n",
       "  'output/ref_pbmc_AIFI_L2_Effector_B_cell_2024-04-03.h5ad',\n",
       "  'output/ref_pbmc_AIFI_L2_Proliferating_T_cell_2024-04-03.h5ad',\n",
       "  'output/ref_pbmc_AIFI_L2_Transitional_B_cell_2024-04-03.h5ad',\n",
       "  'output/ref_pbmc_AIFI_L2_DN_T_cell_2024-04-03.h5ad',\n",
       "  'output/ref_pbmc_AIFI_L2_gdT_2024-04-03.h5ad',\n",
       "  'output/ref_pbmc_AIFI_L2_Intermediate_monocyte_2024-04-03.h5ad',\n",
       "  'output/ref_pbmc_AIFI_L2_Progenitor_cell_2024-04-03.h5ad',\n",
       "  'output/ref_pbmc_AIFI_L2_Treg_2024-04-03.h5ad',\n",
       "  'output/ref_pbmc_AIFI_L2_CD56bright_NK_cell_2024-04-03.h5ad',\n",
       "  'output/ref_pbmc_AIFI_L2_CD8aa_2024-04-03.h5ad',\n",
       "  'output/ref_pbmc_AIFI_L2_Platelet_2024-04-03.h5ad',\n",
       "  'output/ref_pbmc_AIFI_L2_Plasma_cell_2024-04-03.h5ad',\n",
       "  'output/ref_pbmc_AIFI_L2_Erythrocyte_2024-04-03.h5ad',\n",
       "  'output/ref_pbmc_AIFI_L2_ILC_2024-04-03.h5ad',\n",
       "  'output/ref_pbmc_AIFI_L2_cDC1_2024-04-03.h5ad',\n",
       "  'output/ref_pbmc_AIFI_L2_ASDC_2024-04-03.h5ad']}"
      ]
     },
     "execution_count": 15,
     "metadata": {},
     "output_type": "execute_result"
    }
   ],
   "source": [
    "hisepy.upload.upload_files(\n",
    "    files = out_files,\n",
    "    study_space_id = study_space_uuid,\n",
    "    title = title,\n",
    "    input_file_ids = in_files\n",
    ")"
   ]
  },
  {
   "cell_type": "code",
   "execution_count": 16,
   "id": "e8c4fed8-8304-4eee-8dd9-1cc8a4cbf8a0",
   "metadata": {},
   "outputs": [
    {
     "data": {
      "text/html": [
       "<details>\n",
       "<summary>Click to view session information</summary>\n",
       "<pre>\n",
       "-----\n",
       "anndata             0.10.3\n",
       "hisepy              0.3.0\n",
       "pandas              2.1.4\n",
       "scanpy              1.9.6\n",
       "session_info        1.0.0\n",
       "-----\n",
       "</pre>\n",
       "<details>\n",
       "<summary>Click to view modules imported as dependencies</summary>\n",
       "<pre>\n",
       "PIL                         10.0.1\n",
       "anyio                       NA\n",
       "arrow                       1.3.0\n",
       "asttokens                   NA\n",
       "attr                        23.2.0\n",
       "attrs                       23.2.0\n",
       "babel                       2.14.0\n",
       "beatrix_jupyterlab          NA\n",
       "brotli                      NA\n",
       "cachetools                  5.3.1\n",
       "certifi                     2024.02.02\n",
       "cffi                        1.16.0\n",
       "charset_normalizer          3.3.2\n",
       "cloudpickle                 2.2.1\n",
       "colorama                    0.4.6\n",
       "comm                        0.1.4\n",
       "cryptography                41.0.7\n",
       "cycler                      0.10.0\n",
       "cython_runtime              NA\n",
       "dateutil                    2.8.2\n",
       "db_dtypes                   1.1.1\n",
       "debugpy                     1.8.0\n",
       "decorator                   5.1.1\n",
       "defusedxml                  0.7.1\n",
       "deprecated                  1.2.14\n",
       "exceptiongroup              1.2.0\n",
       "executing                   2.0.1\n",
       "fastjsonschema              NA\n",
       "fqdn                        NA\n",
       "google                      NA\n",
       "greenlet                    2.0.2\n",
       "grpc                        1.58.0\n",
       "grpc_status                 NA\n",
       "h5py                        3.10.0\n",
       "idna                        3.6\n",
       "igraph                      0.10.8\n",
       "importlib_metadata          NA\n",
       "ipykernel                   6.28.0\n",
       "ipython_genutils            0.2.0\n",
       "ipywidgets                  8.1.1\n",
       "isoduration                 NA\n",
       "jedi                        0.19.1\n",
       "jinja2                      3.1.2\n",
       "joblib                      1.3.2\n",
       "json5                       NA\n",
       "jsonpointer                 2.4\n",
       "jsonschema                  4.20.0\n",
       "jsonschema_specifications   NA\n",
       "jupyter_events              0.9.0\n",
       "jupyter_server              2.12.1\n",
       "jupyterlab_server           2.25.2\n",
       "jwt                         2.8.0\n",
       "kiwisolver                  1.4.5\n",
       "leidenalg                   0.10.1\n",
       "llvmlite                    0.41.0\n",
       "lz4                         4.3.2\n",
       "markupsafe                  2.1.3\n",
       "matplotlib                  3.8.0\n",
       "matplotlib_inline           0.1.6\n",
       "mpl_toolkits                NA\n",
       "mpmath                      1.3.0\n",
       "natsort                     8.4.0\n",
       "nbformat                    5.9.2\n",
       "numba                       0.58.0\n",
       "numpy                       1.24.0\n",
       "opentelemetry               NA\n",
       "overrides                   NA\n",
       "packaging                   23.2\n",
       "parso                       0.8.3\n",
       "pexpect                     4.8.0\n",
       "pickleshare                 0.7.5\n",
       "pkg_resources               NA\n",
       "platformdirs                4.1.0\n",
       "plotly                      5.18.0\n",
       "prettytable                 3.9.0\n",
       "prometheus_client           NA\n",
       "prompt_toolkit              3.0.42\n",
       "proto                       NA\n",
       "psutil                      NA\n",
       "ptyprocess                  0.7.0\n",
       "pure_eval                   0.2.2\n",
       "pyarrow                     13.0.0\n",
       "pydev_ipython               NA\n",
       "pydevconsole                NA\n",
       "pydevd                      2.9.5\n",
       "pydevd_file_utils           NA\n",
       "pydevd_plugins              NA\n",
       "pydevd_tracing              NA\n",
       "pygments                    2.17.2\n",
       "pynvml                      NA\n",
       "pyparsing                   3.1.1\n",
       "pyreadr                     0.5.0\n",
       "pythonjsonlogger            NA\n",
       "pytz                        2023.3.post1\n",
       "referencing                 NA\n",
       "requests                    2.31.0\n",
       "rfc3339_validator           0.1.4\n",
       "rfc3986_validator           0.1.1\n",
       "rpds                        NA\n",
       "scipy                       1.11.4\n",
       "send2trash                  NA\n",
       "shapely                     1.8.5.post1\n",
       "six                         1.16.0\n",
       "sklearn                     1.3.2\n",
       "sniffio                     1.3.0\n",
       "socks                       1.7.1\n",
       "sql                         NA\n",
       "sqlalchemy                  2.0.21\n",
       "sqlparse                    0.4.4\n",
       "stack_data                  0.6.2\n",
       "sympy                       1.12\n",
       "termcolor                   NA\n",
       "texttable                   1.7.0\n",
       "threadpoolctl               3.2.0\n",
       "torch                       2.1.2+cu121\n",
       "torchgen                    NA\n",
       "tornado                     6.3.3\n",
       "tqdm                        4.66.1\n",
       "traitlets                   5.9.0\n",
       "typing_extensions           NA\n",
       "uri_template                NA\n",
       "urllib3                     1.26.18\n",
       "wcwidth                     0.2.12\n",
       "webcolors                   1.13\n",
       "websocket                   1.7.0\n",
       "wrapt                       1.15.0\n",
       "xarray                      2023.12.0\n",
       "yaml                        6.0.1\n",
       "zipp                        NA\n",
       "zmq                         25.1.2\n",
       "zoneinfo                    NA\n",
       "</pre>\n",
       "</details> <!-- seems like this ends pre, so might as well be explicit -->\n",
       "<pre>\n",
       "-----\n",
       "IPython             8.19.0\n",
       "jupyter_client      8.6.0\n",
       "jupyter_core        5.6.1\n",
       "jupyterlab          4.1.2\n",
       "notebook            6.5.4\n",
       "-----\n",
       "Python 3.10.13 | packaged by conda-forge | (main, Dec 23 2023, 15:36:39) [GCC 12.3.0]\n",
       "Linux-5.15.0-1054-gcp-x86_64-with-glibc2.31\n",
       "-----\n",
       "Session information updated at 2024-04-03 20:36\n",
       "</pre>\n",
       "</details>"
      ],
      "text/plain": [
       "<IPython.core.display.HTML object>"
      ]
     },
     "execution_count": 16,
     "metadata": {},
     "output_type": "execute_result"
    }
   ],
   "source": [
    "import session_info\n",
    "session_info.show()"
   ]
  },
  {
   "cell_type": "code",
   "execution_count": null,
   "id": "551c6533-cef0-4414-988f-85f25fead77b",
   "metadata": {},
   "outputs": [],
   "source": []
  },
  {
   "cell_type": "code",
   "execution_count": null,
   "id": "51b421ba-8d8a-498f-a1ca-783d7248d58a",
   "metadata": {},
   "outputs": [],
   "source": []
  }
 ],
 "metadata": {
  "kernelspec": {
   "display_name": "Python 3 (ipykernel)",
   "language": "python",
   "name": "python3"
  },
  "language_info": {
   "codemirror_mode": {
    "name": "ipython",
    "version": 3
   },
   "file_extension": ".py",
   "mimetype": "text/x-python",
   "name": "python",
   "nbconvert_exporter": "python",
   "pygments_lexer": "ipython3",
   "version": "3.10.13"
  }
 },
 "nbformat": 4,
 "nbformat_minor": 5
}
