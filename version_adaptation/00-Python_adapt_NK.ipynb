{
 "cells": [
  {
   "cell_type": "markdown",
   "id": "c8949497-c939-4158-b331-b97aa7318961",
   "metadata": {},
   "source": [
    "## Adapt NK cell annotations\n",
    "\n",
    "With slightly different clustering, we need to shift the original expert cluster annotations to new cluster numbers.\n",
    "\n",
    "We can do this using the barcodes associated with each cluster."
   ]
  },
  {
   "cell_type": "code",
   "execution_count": 1,
   "id": "3d83899c-1d31-49f7-839d-3c0e280ce0d5",
   "metadata": {},
   "outputs": [],
   "source": [
    "from datetime import date\n",
    "import hisepy\n",
    "import os\n",
    "import pandas as pd\n",
    "import scanpy as sc"
   ]
  },
  {
   "cell_type": "code",
   "execution_count": 2,
   "id": "67e4758f-13fc-4d89-8ee0-a147490db0e0",
   "metadata": {},
   "outputs": [],
   "source": [
    "def read_obs_uuid(h5ad_uuid):\n",
    "    h5ad_path = '/home/jupyter/cache/{u}'.format(u = h5ad_uuid)\n",
    "    if not os.path.isdir(h5ad_path):\n",
    "        hise_res = hisepy.reader.cache_files([h5ad_uuid])\n",
    "    h5ad_filename = os.listdir(h5ad_path)[0]\n",
    "    h5ad_file = '{p}/{f}'.format(p = h5ad_path, f = h5ad_filename)\n",
    "    adata = sc.read_h5ad(h5ad_file, backed = 'r')\n",
    "    obs = adata.obs.copy()\n",
    "    return obs"
   ]
  },
  {
   "cell_type": "code",
   "execution_count": 3,
   "id": "8b881afc-8aae-47cc-a16a-824c0f3e9cc5",
   "metadata": {},
   "outputs": [],
   "source": [
    "def read_parquet_uuid(parquet_uuid):\n",
    "    pq_path = '/home/jupyter/cache/{u}'.format(u = parquet_uuid)\n",
    "    if not os.path.isdir(pq_path):\n",
    "        hise_res = hisepy.reader.cache_files([parquet_uuid])\n",
    "    pq_filename = os.listdir(pq_path)[0]\n",
    "    pq_file = '{p}/{f}'.format(p = pq_path, f = pq_filename)\n",
    "    df = pd.read_parquet(pq_file)\n",
    "    return df"
   ]
  },
  {
   "cell_type": "code",
   "execution_count": 4,
   "id": "7a0562d7-f04e-42e5-bb7c-ad0510d29b4f",
   "metadata": {},
   "outputs": [],
   "source": [
    "def join_anno(og_obs, new_obs, new_col):\n",
    "    new_df = new_obs[['barcodes', new_col]].copy()\n",
    "    new_df = new_df.reset_index(drop = True)\n",
    "    joint_df = new_df.merge(og_obs, how = 'left', on = 'barcodes')\n",
    "\n",
    "    return joint_df"
   ]
  },
  {
   "cell_type": "code",
   "execution_count": 5,
   "id": "45fe7267-b992-4ed7-8286-2e146d7dcb3f",
   "metadata": {},
   "outputs": [],
   "source": [
    "def reduce_anno(joint_df, og_anno, new_col):    \n",
    "    freq_anno = joint_df.drop('barcodes', axis = 1)\n",
    "    \n",
    "    freq_anno = (\n",
    "        freq_anno\n",
    "        .groupby(new_col)['AIFI_L3']\n",
    "        .agg(pd.Series.mode)\n",
    "        .to_frame()\n",
    "        .reset_index()\n",
    "    )\n",
    "\n",
    "    new_anno = freq_anno.merge(og_anno, how = 'left', on = 'AIFI_L3')\n",
    "\n",
    "    return(new_anno)"
   ]
  },
  {
   "cell_type": "markdown",
   "id": "ccdede36-b153-4c7e-86da-f1910de11768",
   "metadata": {},
   "source": [
    "## Read new subclustering results from HISE"
   ]
  },
  {
   "cell_type": "code",
   "execution_count": 6,
   "id": "464b3882-550e-4f8b-9bec-8c7b2b2c537f",
   "metadata": {},
   "outputs": [],
   "source": [
    "cell_class = 'nk-cells'"
   ]
  },
  {
   "cell_type": "code",
   "execution_count": 7,
   "id": "d6166dc8-e3d5-436e-8ece-931f62c5be28",
   "metadata": {},
   "outputs": [],
   "source": [
    "pq_uuid = '11dea6f0-b69c-4641-a982-9e9d79a68240'\n",
    "new_obs = read_parquet_uuid(pq_uuid)"
   ]
  },
  {
   "cell_type": "markdown",
   "id": "3d9b4b23-f769-4b8d-bb88-56309e1e3327",
   "metadata": {},
   "source": [
    "## Read old subclustering results from HISE"
   ]
  },
  {
   "cell_type": "code",
   "execution_count": 8,
   "id": "1efffb84-e969-4587-91ac-60a5823f80f9",
   "metadata": {},
   "outputs": [
    {
     "name": "stderr",
     "output_type": "stream",
     "text": [
      "/opt/conda/lib/python3.10/site-packages/anndata/_core/anndata.py:1897: UserWarning: Observation names are not unique. To make them unique, call `.obs_names_make_unique`.\n",
      "  utils.warn_names_duplicates(\"obs\")\n"
     ]
    }
   ],
   "source": [
    "og_h5ad_uuid = '1bf187fb-d283-430e-9d1d-0d3ae199318e'\n",
    "og_obs = read_obs_uuid(og_h5ad_uuid)"
   ]
  },
  {
   "cell_type": "markdown",
   "id": "e2680875-db4e-4ae6-9588-e16ab895cf5c",
   "metadata": {},
   "source": [
    "## Read original annotations"
   ]
  },
  {
   "cell_type": "code",
   "execution_count": 9,
   "id": "298abd21-3656-47eb-b0c1-1a89f14072c2",
   "metadata": {},
   "outputs": [],
   "source": [
    "og_anno = pd.read_csv('NK_Cells_Res1.5_Annotation.csv')"
   ]
  },
  {
   "cell_type": "code",
   "execution_count": 10,
   "id": "c5519c96-1213-453b-9d60-0d019e2ac2f9",
   "metadata": {},
   "outputs": [],
   "source": [
    "og_df = og_obs[['barcodes', 'leiden_resolution_1.5']].copy()"
   ]
  },
  {
   "cell_type": "code",
   "execution_count": 11,
   "id": "137dc5b8-ef05-4606-a6cf-d29bfbf68659",
   "metadata": {},
   "outputs": [],
   "source": [
    "join_col = 'leiden_resolution_1.5'"
   ]
  },
  {
   "cell_type": "code",
   "execution_count": 12,
   "id": "690b6886-5cc5-4114-bbc8-160ac8318c11",
   "metadata": {},
   "outputs": [],
   "source": [
    "og_anno[join_col] = og_anno[join_col].astype('string').astype('category')"
   ]
  },
  {
   "cell_type": "code",
   "execution_count": 13,
   "id": "abc0dfda-1f5b-4492-91dc-750e8783660d",
   "metadata": {},
   "outputs": [],
   "source": [
    "og_df = og_df.merge(og_anno, how = 'left', on = 'leiden_resolution_1.5')"
   ]
  },
  {
   "cell_type": "code",
   "execution_count": 14,
   "id": "37c7b749-9abf-4251-ba85-866062bca4f7",
   "metadata": {},
   "outputs": [
    {
     "data": {
      "text/html": [
       "<div>\n",
       "<style scoped>\n",
       "    .dataframe tbody tr th:only-of-type {\n",
       "        vertical-align: middle;\n",
       "    }\n",
       "\n",
       "    .dataframe tbody tr th {\n",
       "        vertical-align: top;\n",
       "    }\n",
       "\n",
       "    .dataframe thead th {\n",
       "        text-align: right;\n",
       "    }\n",
       "</style>\n",
       "<table border=\"1\" class=\"dataframe\">\n",
       "  <thead>\n",
       "    <tr style=\"text-align: right;\">\n",
       "      <th></th>\n",
       "      <th>barcodes</th>\n",
       "      <th>leiden_resolution_1.5</th>\n",
       "      <th>AIFI_L1</th>\n",
       "      <th>AIFI_L1_Final</th>\n",
       "      <th>AIFI_L2</th>\n",
       "      <th>AIFI_L2_Final</th>\n",
       "      <th>AIFI_L3</th>\n",
       "      <th>AIFI_L3_Final</th>\n",
       "    </tr>\n",
       "  </thead>\n",
       "  <tbody>\n",
       "    <tr>\n",
       "      <th>0</th>\n",
       "      <td>cf72d2f048b611ea8957bafe6d70929e</td>\n",
       "      <td>6</td>\n",
       "      <td>NK cell</td>\n",
       "      <td>Yes</td>\n",
       "      <td>CD56dim NK cell</td>\n",
       "      <td>Yes</td>\n",
       "      <td>GZMK+ CD56dim NK cell</td>\n",
       "      <td>Yes</td>\n",
       "    </tr>\n",
       "    <tr>\n",
       "      <th>1</th>\n",
       "      <td>cf73d29048b611ea8957bafe6d70929e</td>\n",
       "      <td>12</td>\n",
       "      <td>NK cell</td>\n",
       "      <td>Yes</td>\n",
       "      <td>NK+T Doublets</td>\n",
       "      <td>Yes</td>\n",
       "      <td>NK+T Doublets</td>\n",
       "      <td>Yes</td>\n",
       "    </tr>\n",
       "    <tr>\n",
       "      <th>2</th>\n",
       "      <td>cf73ecda48b611ea8957bafe6d70929e</td>\n",
       "      <td>1</td>\n",
       "      <td>NK cell</td>\n",
       "      <td>Yes</td>\n",
       "      <td>CD56dim NK cell</td>\n",
       "      <td>Yes</td>\n",
       "      <td>GZMK- CD56dim NK cell</td>\n",
       "      <td>Yes</td>\n",
       "    </tr>\n",
       "    <tr>\n",
       "      <th>3</th>\n",
       "      <td>cf7430b448b611ea8957bafe6d70929e</td>\n",
       "      <td>2</td>\n",
       "      <td>NK cell</td>\n",
       "      <td>Yes</td>\n",
       "      <td>CD56dim NK cell</td>\n",
       "      <td>Yes</td>\n",
       "      <td>GZMK- CD56dim NK cell</td>\n",
       "      <td>Yes</td>\n",
       "    </tr>\n",
       "    <tr>\n",
       "      <th>4</th>\n",
       "      <td>cf754e0448b611ea8957bafe6d70929e</td>\n",
       "      <td>13</td>\n",
       "      <td>NK cell</td>\n",
       "      <td>Yes</td>\n",
       "      <td>CD56dim NK cell</td>\n",
       "      <td>Yes</td>\n",
       "      <td>GZMK- CD56dim NK cell</td>\n",
       "      <td>Yes</td>\n",
       "    </tr>\n",
       "  </tbody>\n",
       "</table>\n",
       "</div>"
      ],
      "text/plain": [
       "                           barcodes leiden_resolution_1.5  AIFI_L1  \\\n",
       "0  cf72d2f048b611ea8957bafe6d70929e                     6  NK cell   \n",
       "1  cf73d29048b611ea8957bafe6d70929e                    12  NK cell   \n",
       "2  cf73ecda48b611ea8957bafe6d70929e                     1  NK cell   \n",
       "3  cf7430b448b611ea8957bafe6d70929e                     2  NK cell   \n",
       "4  cf754e0448b611ea8957bafe6d70929e                    13  NK cell   \n",
       "\n",
       "  AIFI_L1_Final          AIFI_L2 AIFI_L2_Final                AIFI_L3  \\\n",
       "0           Yes  CD56dim NK cell           Yes  GZMK+ CD56dim NK cell   \n",
       "1           Yes    NK+T Doublets           Yes          NK+T Doublets   \n",
       "2           Yes  CD56dim NK cell           Yes  GZMK- CD56dim NK cell   \n",
       "3           Yes  CD56dim NK cell           Yes  GZMK- CD56dim NK cell   \n",
       "4           Yes  CD56dim NK cell           Yes  GZMK- CD56dim NK cell   \n",
       "\n",
       "  AIFI_L3_Final  \n",
       "0           Yes  \n",
       "1           Yes  \n",
       "2           Yes  \n",
       "3           Yes  \n",
       "4           Yes  "
      ]
     },
     "execution_count": 14,
     "metadata": {},
     "output_type": "execute_result"
    }
   ],
   "source": [
    "og_df.head()"
   ]
  },
  {
   "cell_type": "markdown",
   "id": "272a6a69-1447-4ad3-893c-263740269af0",
   "metadata": {},
   "source": [
    "Rename leiden cluster so names don't conflict with new clustering"
   ]
  },
  {
   "cell_type": "code",
   "execution_count": 15,
   "id": "ebabc3a0-3997-451b-992d-3e11c27d8a9a",
   "metadata": {},
   "outputs": [],
   "source": [
    "og_df = og_df.rename({\"leiden_resolution_1.5\":\"og_cl\"}, axis = 1)"
   ]
  },
  {
   "cell_type": "markdown",
   "id": "f76e8490-0b18-4987-8286-e370448313e2",
   "metadata": {},
   "source": [
    "Join original annotations to new clusters by barcodes"
   ]
  },
  {
   "cell_type": "code",
   "execution_count": 16,
   "id": "489bb81e-1719-48b0-a9b6-baf046ddb34d",
   "metadata": {},
   "outputs": [],
   "source": [
    "new_df = new_obs[['barcodes', 'leiden_resolution_1.5']].copy()\n",
    "new_df = new_df.reset_index(drop = True)"
   ]
  },
  {
   "cell_type": "code",
   "execution_count": 17,
   "id": "2a0f2ecf-fe71-415c-b93c-395de5965582",
   "metadata": {},
   "outputs": [],
   "source": [
    "joint_df = new_df.merge(og_df, how = 'left', on = 'barcodes')"
   ]
  },
  {
   "cell_type": "code",
   "execution_count": 18,
   "id": "55a5e704-3526-4e10-82f9-bd2f4cc8d968",
   "metadata": {},
   "outputs": [
    {
     "data": {
      "text/html": [
       "<div>\n",
       "<style scoped>\n",
       "    .dataframe tbody tr th:only-of-type {\n",
       "        vertical-align: middle;\n",
       "    }\n",
       "\n",
       "    .dataframe tbody tr th {\n",
       "        vertical-align: top;\n",
       "    }\n",
       "\n",
       "    .dataframe thead th {\n",
       "        text-align: right;\n",
       "    }\n",
       "</style>\n",
       "<table border=\"1\" class=\"dataframe\">\n",
       "  <thead>\n",
       "    <tr style=\"text-align: right;\">\n",
       "      <th></th>\n",
       "      <th>barcodes</th>\n",
       "      <th>leiden_resolution_1.5</th>\n",
       "      <th>og_cl</th>\n",
       "      <th>AIFI_L1</th>\n",
       "      <th>AIFI_L1_Final</th>\n",
       "      <th>AIFI_L2</th>\n",
       "      <th>AIFI_L2_Final</th>\n",
       "      <th>AIFI_L3</th>\n",
       "      <th>AIFI_L3_Final</th>\n",
       "    </tr>\n",
       "  </thead>\n",
       "  <tbody>\n",
       "    <tr>\n",
       "      <th>0</th>\n",
       "      <td>cf72d2f048b611ea8957bafe6d70929e</td>\n",
       "      <td>3</td>\n",
       "      <td>6</td>\n",
       "      <td>NK cell</td>\n",
       "      <td>Yes</td>\n",
       "      <td>CD56dim NK cell</td>\n",
       "      <td>Yes</td>\n",
       "      <td>GZMK+ CD56dim NK cell</td>\n",
       "      <td>Yes</td>\n",
       "    </tr>\n",
       "    <tr>\n",
       "      <th>1</th>\n",
       "      <td>cf73d29048b611ea8957bafe6d70929e</td>\n",
       "      <td>11</td>\n",
       "      <td>12</td>\n",
       "      <td>NK cell</td>\n",
       "      <td>Yes</td>\n",
       "      <td>NK+T Doublets</td>\n",
       "      <td>Yes</td>\n",
       "      <td>NK+T Doublets</td>\n",
       "      <td>Yes</td>\n",
       "    </tr>\n",
       "    <tr>\n",
       "      <th>2</th>\n",
       "      <td>cf73ecda48b611ea8957bafe6d70929e</td>\n",
       "      <td>1</td>\n",
       "      <td>1</td>\n",
       "      <td>NK cell</td>\n",
       "      <td>Yes</td>\n",
       "      <td>CD56dim NK cell</td>\n",
       "      <td>Yes</td>\n",
       "      <td>GZMK- CD56dim NK cell</td>\n",
       "      <td>Yes</td>\n",
       "    </tr>\n",
       "    <tr>\n",
       "      <th>3</th>\n",
       "      <td>cf7430b448b611ea8957bafe6d70929e</td>\n",
       "      <td>0</td>\n",
       "      <td>2</td>\n",
       "      <td>NK cell</td>\n",
       "      <td>Yes</td>\n",
       "      <td>CD56dim NK cell</td>\n",
       "      <td>Yes</td>\n",
       "      <td>GZMK- CD56dim NK cell</td>\n",
       "      <td>Yes</td>\n",
       "    </tr>\n",
       "    <tr>\n",
       "      <th>4</th>\n",
       "      <td>cf754e0448b611ea8957bafe6d70929e</td>\n",
       "      <td>15</td>\n",
       "      <td>13</td>\n",
       "      <td>NK cell</td>\n",
       "      <td>Yes</td>\n",
       "      <td>CD56dim NK cell</td>\n",
       "      <td>Yes</td>\n",
       "      <td>GZMK- CD56dim NK cell</td>\n",
       "      <td>Yes</td>\n",
       "    </tr>\n",
       "  </tbody>\n",
       "</table>\n",
       "</div>"
      ],
      "text/plain": [
       "                           barcodes leiden_resolution_1.5 og_cl  AIFI_L1  \\\n",
       "0  cf72d2f048b611ea8957bafe6d70929e                     3     6  NK cell   \n",
       "1  cf73d29048b611ea8957bafe6d70929e                    11    12  NK cell   \n",
       "2  cf73ecda48b611ea8957bafe6d70929e                     1     1  NK cell   \n",
       "3  cf7430b448b611ea8957bafe6d70929e                     0     2  NK cell   \n",
       "4  cf754e0448b611ea8957bafe6d70929e                    15    13  NK cell   \n",
       "\n",
       "  AIFI_L1_Final          AIFI_L2 AIFI_L2_Final                AIFI_L3  \\\n",
       "0           Yes  CD56dim NK cell           Yes  GZMK+ CD56dim NK cell   \n",
       "1           Yes    NK+T Doublets           Yes          NK+T Doublets   \n",
       "2           Yes  CD56dim NK cell           Yes  GZMK- CD56dim NK cell   \n",
       "3           Yes  CD56dim NK cell           Yes  GZMK- CD56dim NK cell   \n",
       "4           Yes  CD56dim NK cell           Yes  GZMK- CD56dim NK cell   \n",
       "\n",
       "  AIFI_L3_Final  \n",
       "0           Yes  \n",
       "1           Yes  \n",
       "2           Yes  \n",
       "3           Yes  \n",
       "4           Yes  "
      ]
     },
     "execution_count": 18,
     "metadata": {},
     "output_type": "execute_result"
    }
   ],
   "source": [
    "joint_df.head()"
   ]
  },
  {
   "cell_type": "code",
   "execution_count": 19,
   "id": "e0db9134-edfc-427c-9033-904cf3770a2c",
   "metadata": {},
   "outputs": [],
   "source": [
    "freq_anno = joint_df.drop(['barcodes', 'og_cl'], axis = 1)"
   ]
  },
  {
   "cell_type": "markdown",
   "id": "88e0e807-a5e5-4f08-a5e7-ce22cf4802f5",
   "metadata": {},
   "source": [
    "Use `pd.Series.mode` on each group of leiden_resolution_1.5 cells to get the most frequent value of AIFI_L3"
   ]
  },
  {
   "cell_type": "code",
   "execution_count": 20,
   "id": "c4a62355-5c10-4eed-a710-9538fd63d1c9",
   "metadata": {},
   "outputs": [
    {
     "name": "stderr",
     "output_type": "stream",
     "text": [
      "/tmp/ipykernel_2867/1137485880.py:3: FutureWarning: The default of observed=False is deprecated and will be changed to True in a future version of pandas. Pass observed=False to retain current behavior or observed=True to adopt the future default and silence this warning.\n",
      "  .groupby('leiden_resolution_1.5')['AIFI_L3']\n"
     ]
    }
   ],
   "source": [
    "freq_anno = (\n",
    "    freq_anno\n",
    "    .groupby('leiden_resolution_1.5')['AIFI_L3']\n",
    "    .agg(pd.Series.mode)\n",
    "    .to_frame()\n",
    "    .reset_index()\n",
    ")"
   ]
  },
  {
   "cell_type": "code",
   "execution_count": 21,
   "id": "ba17b46a-8f1b-4bea-81eb-51388cd97aaf",
   "metadata": {},
   "outputs": [
    {
     "data": {
      "text/html": [
       "<div>\n",
       "<style scoped>\n",
       "    .dataframe tbody tr th:only-of-type {\n",
       "        vertical-align: middle;\n",
       "    }\n",
       "\n",
       "    .dataframe tbody tr th {\n",
       "        vertical-align: top;\n",
       "    }\n",
       "\n",
       "    .dataframe thead th {\n",
       "        text-align: right;\n",
       "    }\n",
       "</style>\n",
       "<table border=\"1\" class=\"dataframe\">\n",
       "  <thead>\n",
       "    <tr style=\"text-align: right;\">\n",
       "      <th></th>\n",
       "      <th>leiden_resolution_1.5</th>\n",
       "      <th>AIFI_L3</th>\n",
       "    </tr>\n",
       "  </thead>\n",
       "  <tbody>\n",
       "    <tr>\n",
       "      <th>0</th>\n",
       "      <td>0</td>\n",
       "      <td>GZMK- CD56dim NK cell</td>\n",
       "    </tr>\n",
       "    <tr>\n",
       "      <th>1</th>\n",
       "      <td>1</td>\n",
       "      <td>GZMK- CD56dim NK cell</td>\n",
       "    </tr>\n",
       "    <tr>\n",
       "      <th>2</th>\n",
       "      <td>2</td>\n",
       "      <td>GZMK- CD56dim NK cell</td>\n",
       "    </tr>\n",
       "    <tr>\n",
       "      <th>3</th>\n",
       "      <td>3</td>\n",
       "      <td>GZMK+ CD56dim NK cell</td>\n",
       "    </tr>\n",
       "    <tr>\n",
       "      <th>4</th>\n",
       "      <td>4</td>\n",
       "      <td>GZMK- CD56dim NK cell</td>\n",
       "    </tr>\n",
       "  </tbody>\n",
       "</table>\n",
       "</div>"
      ],
      "text/plain": [
       "  leiden_resolution_1.5                AIFI_L3\n",
       "0                     0  GZMK- CD56dim NK cell\n",
       "1                     1  GZMK- CD56dim NK cell\n",
       "2                     2  GZMK- CD56dim NK cell\n",
       "3                     3  GZMK+ CD56dim NK cell\n",
       "4                     4  GZMK- CD56dim NK cell"
      ]
     },
     "execution_count": 21,
     "metadata": {},
     "output_type": "execute_result"
    }
   ],
   "source": [
    "freq_anno.head()"
   ]
  },
  {
   "cell_type": "markdown",
   "id": "eef15237-99ba-4b27-a268-c70ec45bddf3",
   "metadata": {},
   "source": [
    "Select unique associations between L3 labels and the other levels of the hierarchy from the original annotations - should work because these are all subsets of L2 and L1"
   ]
  },
  {
   "cell_type": "code",
   "execution_count": 22,
   "id": "bed11b9d-1d71-419e-ad92-29ea0915cb20",
   "metadata": {},
   "outputs": [],
   "source": [
    "anno_levels = (\n",
    "    og_anno\n",
    "    .drop('leiden_resolution_1.5', axis = 1)\n",
    "    .drop_duplicates()\n",
    ")"
   ]
  },
  {
   "cell_type": "markdown",
   "id": "253ae7dd-5b9c-4b44-a616-904f70987abc",
   "metadata": {},
   "source": [
    "Join the other labels to our new annotations"
   ]
  },
  {
   "cell_type": "code",
   "execution_count": 23,
   "id": "148f74f4-3eef-49bd-8302-56e43759b183",
   "metadata": {},
   "outputs": [],
   "source": [
    "new_anno = freq_anno.merge(anno_levels, how = 'left', on = 'AIFI_L3')"
   ]
  },
  {
   "cell_type": "code",
   "execution_count": 24,
   "id": "9e67d0e3-2801-4745-adeb-a19ce6dc48e0",
   "metadata": {},
   "outputs": [
    {
     "data": {
      "text/html": [
       "<div>\n",
       "<style scoped>\n",
       "    .dataframe tbody tr th:only-of-type {\n",
       "        vertical-align: middle;\n",
       "    }\n",
       "\n",
       "    .dataframe tbody tr th {\n",
       "        vertical-align: top;\n",
       "    }\n",
       "\n",
       "    .dataframe thead th {\n",
       "        text-align: right;\n",
       "    }\n",
       "</style>\n",
       "<table border=\"1\" class=\"dataframe\">\n",
       "  <thead>\n",
       "    <tr style=\"text-align: right;\">\n",
       "      <th></th>\n",
       "      <th>leiden_resolution_1.5</th>\n",
       "      <th>AIFI_L3</th>\n",
       "      <th>AIFI_L1</th>\n",
       "      <th>AIFI_L1_Final</th>\n",
       "      <th>AIFI_L2</th>\n",
       "      <th>AIFI_L2_Final</th>\n",
       "      <th>AIFI_L3_Final</th>\n",
       "    </tr>\n",
       "  </thead>\n",
       "  <tbody>\n",
       "    <tr>\n",
       "      <th>0</th>\n",
       "      <td>0</td>\n",
       "      <td>GZMK- CD56dim NK cell</td>\n",
       "      <td>NK cell</td>\n",
       "      <td>Yes</td>\n",
       "      <td>CD56dim NK cell</td>\n",
       "      <td>Yes</td>\n",
       "      <td>Yes</td>\n",
       "    </tr>\n",
       "    <tr>\n",
       "      <th>1</th>\n",
       "      <td>1</td>\n",
       "      <td>GZMK- CD56dim NK cell</td>\n",
       "      <td>NK cell</td>\n",
       "      <td>Yes</td>\n",
       "      <td>CD56dim NK cell</td>\n",
       "      <td>Yes</td>\n",
       "      <td>Yes</td>\n",
       "    </tr>\n",
       "    <tr>\n",
       "      <th>2</th>\n",
       "      <td>2</td>\n",
       "      <td>GZMK- CD56dim NK cell</td>\n",
       "      <td>NK cell</td>\n",
       "      <td>Yes</td>\n",
       "      <td>CD56dim NK cell</td>\n",
       "      <td>Yes</td>\n",
       "      <td>Yes</td>\n",
       "    </tr>\n",
       "    <tr>\n",
       "      <th>3</th>\n",
       "      <td>3</td>\n",
       "      <td>GZMK+ CD56dim NK cell</td>\n",
       "      <td>NK cell</td>\n",
       "      <td>Yes</td>\n",
       "      <td>CD56dim NK cell</td>\n",
       "      <td>Yes</td>\n",
       "      <td>Yes</td>\n",
       "    </tr>\n",
       "    <tr>\n",
       "      <th>4</th>\n",
       "      <td>4</td>\n",
       "      <td>GZMK- CD56dim NK cell</td>\n",
       "      <td>NK cell</td>\n",
       "      <td>Yes</td>\n",
       "      <td>CD56dim NK cell</td>\n",
       "      <td>Yes</td>\n",
       "      <td>Yes</td>\n",
       "    </tr>\n",
       "    <tr>\n",
       "      <th>5</th>\n",
       "      <td>5</td>\n",
       "      <td>GZMK- CD56dim NK cell</td>\n",
       "      <td>NK cell</td>\n",
       "      <td>Yes</td>\n",
       "      <td>CD56dim NK cell</td>\n",
       "      <td>Yes</td>\n",
       "      <td>Yes</td>\n",
       "    </tr>\n",
       "    <tr>\n",
       "      <th>6</th>\n",
       "      <td>6</td>\n",
       "      <td>Adaptive NK cell</td>\n",
       "      <td>NK cell</td>\n",
       "      <td>Yes</td>\n",
       "      <td>CD56dim NK cell</td>\n",
       "      <td>Yes</td>\n",
       "      <td>Yes</td>\n",
       "    </tr>\n",
       "    <tr>\n",
       "      <th>7</th>\n",
       "      <td>7</td>\n",
       "      <td>CD56bright NK cell</td>\n",
       "      <td>NK cell</td>\n",
       "      <td>Yes</td>\n",
       "      <td>CD56bright NK cell</td>\n",
       "      <td>Yes</td>\n",
       "      <td>Yes</td>\n",
       "    </tr>\n",
       "    <tr>\n",
       "      <th>8</th>\n",
       "      <td>8</td>\n",
       "      <td>GZMK- CD56dim NK cell</td>\n",
       "      <td>NK cell</td>\n",
       "      <td>Yes</td>\n",
       "      <td>CD56dim NK cell</td>\n",
       "      <td>Yes</td>\n",
       "      <td>Yes</td>\n",
       "    </tr>\n",
       "    <tr>\n",
       "      <th>9</th>\n",
       "      <td>9</td>\n",
       "      <td>GZMK- CD56dim NK cell</td>\n",
       "      <td>NK cell</td>\n",
       "      <td>Yes</td>\n",
       "      <td>CD56dim NK cell</td>\n",
       "      <td>Yes</td>\n",
       "      <td>Yes</td>\n",
       "    </tr>\n",
       "    <tr>\n",
       "      <th>10</th>\n",
       "      <td>10</td>\n",
       "      <td>GZMK- CD56dim NK cell</td>\n",
       "      <td>NK cell</td>\n",
       "      <td>Yes</td>\n",
       "      <td>CD56dim NK cell</td>\n",
       "      <td>Yes</td>\n",
       "      <td>Yes</td>\n",
       "    </tr>\n",
       "    <tr>\n",
       "      <th>11</th>\n",
       "      <td>11</td>\n",
       "      <td>NK+T Doublets</td>\n",
       "      <td>NK cell</td>\n",
       "      <td>Yes</td>\n",
       "      <td>NK+T Doublets</td>\n",
       "      <td>Yes</td>\n",
       "      <td>Yes</td>\n",
       "    </tr>\n",
       "    <tr>\n",
       "      <th>12</th>\n",
       "      <td>12</td>\n",
       "      <td>NK+Erythocytes Doublet</td>\n",
       "      <td>NK cell</td>\n",
       "      <td>Yes</td>\n",
       "      <td>NK+Erythocytes Doublet</td>\n",
       "      <td>Yes</td>\n",
       "      <td>Yes</td>\n",
       "    </tr>\n",
       "    <tr>\n",
       "      <th>13</th>\n",
       "      <td>13</td>\n",
       "      <td>NK+Platelet Doublet</td>\n",
       "      <td>NK cell</td>\n",
       "      <td>Yes</td>\n",
       "      <td>NK+Platelet Doublet</td>\n",
       "      <td>Yes</td>\n",
       "      <td>Yes</td>\n",
       "    </tr>\n",
       "    <tr>\n",
       "      <th>14</th>\n",
       "      <td>14</td>\n",
       "      <td>ISG+ CD56dim NK cell</td>\n",
       "      <td>NK cell</td>\n",
       "      <td>Yes</td>\n",
       "      <td>CD56dim NK cell</td>\n",
       "      <td>Yes</td>\n",
       "      <td>Yes</td>\n",
       "    </tr>\n",
       "    <tr>\n",
       "      <th>15</th>\n",
       "      <td>15</td>\n",
       "      <td>GZMK- CD56dim NK cell</td>\n",
       "      <td>NK cell</td>\n",
       "      <td>Yes</td>\n",
       "      <td>CD56dim NK cell</td>\n",
       "      <td>Yes</td>\n",
       "      <td>Yes</td>\n",
       "    </tr>\n",
       "    <tr>\n",
       "      <th>16</th>\n",
       "      <td>16</td>\n",
       "      <td>Proliferating NK cell</td>\n",
       "      <td>NK cell</td>\n",
       "      <td>Yes</td>\n",
       "      <td>Proliferating NK cell</td>\n",
       "      <td>Yes</td>\n",
       "      <td>Yes</td>\n",
       "    </tr>\n",
       "    <tr>\n",
       "      <th>17</th>\n",
       "      <td>17</td>\n",
       "      <td>ILC</td>\n",
       "      <td>ILC</td>\n",
       "      <td>Yes</td>\n",
       "      <td>ILC</td>\n",
       "      <td>Yes</td>\n",
       "      <td>Yes</td>\n",
       "    </tr>\n",
       "  </tbody>\n",
       "</table>\n",
       "</div>"
      ],
      "text/plain": [
       "   leiden_resolution_1.5                 AIFI_L3  AIFI_L1 AIFI_L1_Final  \\\n",
       "0                      0   GZMK- CD56dim NK cell  NK cell           Yes   \n",
       "1                      1   GZMK- CD56dim NK cell  NK cell           Yes   \n",
       "2                      2   GZMK- CD56dim NK cell  NK cell           Yes   \n",
       "3                      3   GZMK+ CD56dim NK cell  NK cell           Yes   \n",
       "4                      4   GZMK- CD56dim NK cell  NK cell           Yes   \n",
       "5                      5   GZMK- CD56dim NK cell  NK cell           Yes   \n",
       "6                      6        Adaptive NK cell  NK cell           Yes   \n",
       "7                      7      CD56bright NK cell  NK cell           Yes   \n",
       "8                      8   GZMK- CD56dim NK cell  NK cell           Yes   \n",
       "9                      9   GZMK- CD56dim NK cell  NK cell           Yes   \n",
       "10                    10   GZMK- CD56dim NK cell  NK cell           Yes   \n",
       "11                    11           NK+T Doublets  NK cell           Yes   \n",
       "12                    12  NK+Erythocytes Doublet  NK cell           Yes   \n",
       "13                    13     NK+Platelet Doublet  NK cell           Yes   \n",
       "14                    14    ISG+ CD56dim NK cell  NK cell           Yes   \n",
       "15                    15   GZMK- CD56dim NK cell  NK cell           Yes   \n",
       "16                    16   Proliferating NK cell  NK cell           Yes   \n",
       "17                    17                     ILC      ILC           Yes   \n",
       "\n",
       "                   AIFI_L2 AIFI_L2_Final AIFI_L3_Final  \n",
       "0          CD56dim NK cell           Yes           Yes  \n",
       "1          CD56dim NK cell           Yes           Yes  \n",
       "2          CD56dim NK cell           Yes           Yes  \n",
       "3          CD56dim NK cell           Yes           Yes  \n",
       "4          CD56dim NK cell           Yes           Yes  \n",
       "5          CD56dim NK cell           Yes           Yes  \n",
       "6          CD56dim NK cell           Yes           Yes  \n",
       "7       CD56bright NK cell           Yes           Yes  \n",
       "8          CD56dim NK cell           Yes           Yes  \n",
       "9          CD56dim NK cell           Yes           Yes  \n",
       "10         CD56dim NK cell           Yes           Yes  \n",
       "11           NK+T Doublets           Yes           Yes  \n",
       "12  NK+Erythocytes Doublet           Yes           Yes  \n",
       "13     NK+Platelet Doublet           Yes           Yes  \n",
       "14         CD56dim NK cell           Yes           Yes  \n",
       "15         CD56dim NK cell           Yes           Yes  \n",
       "16   Proliferating NK cell           Yes           Yes  \n",
       "17                     ILC           Yes           Yes  "
      ]
     },
     "execution_count": 24,
     "metadata": {},
     "output_type": "execute_result"
    }
   ],
   "source": [
    "new_anno"
   ]
  },
  {
   "cell_type": "code",
   "execution_count": 25,
   "id": "804b4384-93de-4e0a-ad93-2ad1ea2e785b",
   "metadata": {},
   "outputs": [],
   "source": [
    "out_dir = '../04-Annotation/annotations/'\n",
    "out_file = '{p}/pbmc_ref_{c}_annotations_{d}.csv'.format(\n",
    "    p = out_dir,\n",
    "    c = cell_class,\n",
    "    d = date.today()\n",
    ")\n",
    "new_anno.to_csv(out_file)"
   ]
  },
  {
   "cell_type": "markdown",
   "id": "e6c6acf2-2484-42de-80d8-7bb15d13b281",
   "metadata": {},
   "source": [
    "New type counts"
   ]
  },
  {
   "cell_type": "code",
   "execution_count": 26,
   "id": "6932455b-5b70-4072-a22a-2663fbf36262",
   "metadata": {},
   "outputs": [
    {
     "data": {
      "text/plain": [
       "AIFI_L3\n",
       "GZMK- CD56dim NK cell     103273\n",
       "CD56bright NK cell         12189\n",
       "GZMK+ CD56dim NK cell      10468\n",
       "Adaptive NK cell            9927\n",
       "NK+Erythocytes Doublet      5547\n",
       "NK+T Doublets               5239\n",
       "ISG+ CD56dim NK cell        3833\n",
       "CD56dim Mito+ NK            3279\n",
       "NK+Platelet Doublet         3092\n",
       "Proliferating NK cell        979\n",
       "ILC                          876\n",
       "Name: count, dtype: int64"
      ]
     },
     "execution_count": 26,
     "metadata": {},
     "output_type": "execute_result"
    }
   ],
   "source": [
    "new_counts = joint_df['AIFI_L3'].value_counts()\n",
    "new_counts"
   ]
  },
  {
   "cell_type": "markdown",
   "id": "76b45924-fb34-44aa-a4ae-2c5656eb56d4",
   "metadata": {},
   "source": [
    "Original type counts"
   ]
  },
  {
   "cell_type": "code",
   "execution_count": 27,
   "id": "fb6f2b1b-0388-4927-9191-b68a768a7a39",
   "metadata": {},
   "outputs": [
    {
     "data": {
      "text/plain": [
       "AIFI_L3\n",
       "GZMK- CD56dim NK cell     103311\n",
       "CD56bright NK cell         12209\n",
       "GZMK+ CD56dim NK cell      10478\n",
       "Adaptive NK cell            9946\n",
       "NK+Erythocytes Doublet      5549\n",
       "NK+T Doublets               5412\n",
       "ISG+ CD56dim NK cell        3834\n",
       "NK+Platelet Doublet         3339\n",
       "CD56dim Mito+ NK            3281\n",
       "Proliferating NK cell       1004\n",
       "ILC                          882\n",
       "Name: count, dtype: int64"
      ]
     },
     "execution_count": 27,
     "metadata": {},
     "output_type": "execute_result"
    }
   ],
   "source": [
    "old_counts = og_df['AIFI_L3'].value_counts()\n",
    "old_counts"
   ]
  },
  {
   "cell_type": "markdown",
   "id": "b6303904-f4bb-44f9-9031-11662ee3e781",
   "metadata": {},
   "source": [
    "Difference in counts"
   ]
  },
  {
   "cell_type": "code",
   "execution_count": 28,
   "id": "50f9163a-a18e-4feb-8ea5-662b28ee13d1",
   "metadata": {},
   "outputs": [
    {
     "data": {
      "text/plain": [
       "AIFI_L3\n",
       "Adaptive NK cell          -19\n",
       "CD56bright NK cell        -20\n",
       "CD56dim Mito+ NK           -2\n",
       "GZMK+ CD56dim NK cell     -10\n",
       "GZMK- CD56dim NK cell     -38\n",
       "ILC                        -6\n",
       "ISG+ CD56dim NK cell       -1\n",
       "NK+Erythocytes Doublet     -2\n",
       "NK+Platelet Doublet      -247\n",
       "NK+T Doublets            -173\n",
       "Proliferating NK cell     -25\n",
       "Name: count, dtype: int64"
      ]
     },
     "execution_count": 28,
     "metadata": {},
     "output_type": "execute_result"
    }
   ],
   "source": [
    "new_counts - old_counts"
   ]
  },
  {
   "cell_type": "markdown",
   "id": "0206e070-47f6-4c26-b62e-d4354ec99f13",
   "metadata": {},
   "source": [
    "Percent difference"
   ]
  },
  {
   "cell_type": "code",
   "execution_count": 29,
   "id": "8abf710f-2745-4e80-a05b-fb55a863152a",
   "metadata": {},
   "outputs": [
    {
     "data": {
      "text/plain": [
       "AIFI_L3\n",
       "Adaptive NK cell         -0.191032\n",
       "CD56bright NK cell       -0.163814\n",
       "CD56dim Mito+ NK         -0.060957\n",
       "GZMK+ CD56dim NK cell    -0.095438\n",
       "GZMK- CD56dim NK cell    -0.036782\n",
       "ILC                      -0.680272\n",
       "ISG+ CD56dim NK cell     -0.026082\n",
       "NK+Erythocytes Doublet   -0.036043\n",
       "NK+Platelet Doublet      -7.397424\n",
       "NK+T Doublets            -3.196600\n",
       "Proliferating NK cell    -2.490040\n",
       "Name: count, dtype: float64"
      ]
     },
     "execution_count": 29,
     "metadata": {},
     "output_type": "execute_result"
    }
   ],
   "source": [
    "(new_counts - old_counts) / old_counts * 100"
   ]
  },
  {
   "cell_type": "code",
   "execution_count": 30,
   "id": "616eb351-fb1b-4247-a13b-6a00aed0962c",
   "metadata": {},
   "outputs": [
    {
     "data": {
      "text/html": [
       "<details>\n",
       "<summary>Click to view session information</summary>\n",
       "<pre>\n",
       "-----\n",
       "hisepy              0.3.0\n",
       "pandas              2.1.4\n",
       "scanpy              1.9.6\n",
       "session_info        1.0.0\n",
       "-----\n",
       "</pre>\n",
       "<details>\n",
       "<summary>Click to view modules imported as dependencies</summary>\n",
       "<pre>\n",
       "PIL                         10.0.1\n",
       "anndata                     0.10.3\n",
       "anyio                       NA\n",
       "arrow                       1.3.0\n",
       "asttokens                   NA\n",
       "attr                        23.2.0\n",
       "attrs                       23.2.0\n",
       "babel                       2.14.0\n",
       "beatrix_jupyterlab          NA\n",
       "brotli                      NA\n",
       "cachetools                  5.3.1\n",
       "certifi                     2023.11.17\n",
       "cffi                        1.16.0\n",
       "charset_normalizer          3.3.2\n",
       "cloudpickle                 2.2.1\n",
       "colorama                    0.4.6\n",
       "comm                        0.1.4\n",
       "cryptography                41.0.7\n",
       "cycler                      0.10.0\n",
       "cython_runtime              NA\n",
       "dateutil                    2.8.2\n",
       "db_dtypes                   1.1.1\n",
       "debugpy                     1.8.0\n",
       "decorator                   5.1.1\n",
       "defusedxml                  0.7.1\n",
       "deprecated                  1.2.14\n",
       "exceptiongroup              1.2.0\n",
       "executing                   2.0.1\n",
       "fastjsonschema              NA\n",
       "fqdn                        NA\n",
       "google                      NA\n",
       "greenlet                    2.0.2\n",
       "grpc                        1.58.0\n",
       "grpc_status                 NA\n",
       "h5py                        3.10.0\n",
       "idna                        3.6\n",
       "igraph                      0.10.8\n",
       "importlib_metadata          NA\n",
       "ipykernel                   6.28.0\n",
       "ipython_genutils            0.2.0\n",
       "ipywidgets                  8.1.1\n",
       "isoduration                 NA\n",
       "jedi                        0.19.1\n",
       "jinja2                      3.1.2\n",
       "joblib                      1.3.2\n",
       "json5                       NA\n",
       "jsonpointer                 2.4\n",
       "jsonschema                  4.20.0\n",
       "jsonschema_specifications   NA\n",
       "jupyter_events              0.9.0\n",
       "jupyter_server              2.12.1\n",
       "jupyterlab_server           2.25.2\n",
       "jwt                         2.8.0\n",
       "kiwisolver                  1.4.5\n",
       "leidenalg                   0.10.1\n",
       "llvmlite                    0.41.0\n",
       "lz4                         4.3.2\n",
       "markupsafe                  2.1.3\n",
       "matplotlib                  3.8.0\n",
       "matplotlib_inline           0.1.6\n",
       "mpl_toolkits                NA\n",
       "mpmath                      1.3.0\n",
       "natsort                     8.4.0\n",
       "nbformat                    5.9.2\n",
       "numba                       0.58.0\n",
       "numpy                       1.24.0\n",
       "opentelemetry               NA\n",
       "overrides                   NA\n",
       "packaging                   23.2\n",
       "parso                       0.8.3\n",
       "pexpect                     4.8.0\n",
       "pickleshare                 0.7.5\n",
       "pkg_resources               NA\n",
       "platformdirs                4.1.0\n",
       "plotly                      5.18.0\n",
       "prettytable                 3.9.0\n",
       "prometheus_client           NA\n",
       "prompt_toolkit              3.0.42\n",
       "proto                       NA\n",
       "psutil                      NA\n",
       "ptyprocess                  0.7.0\n",
       "pure_eval                   0.2.2\n",
       "pyarrow                     13.0.0\n",
       "pydev_ipython               NA\n",
       "pydevconsole                NA\n",
       "pydevd                      2.9.5\n",
       "pydevd_file_utils           NA\n",
       "pydevd_plugins              NA\n",
       "pydevd_tracing              NA\n",
       "pygments                    2.17.2\n",
       "pynvml                      NA\n",
       "pyparsing                   3.1.1\n",
       "pyreadr                     0.5.0\n",
       "pythonjsonlogger            NA\n",
       "pytz                        2023.3.post1\n",
       "referencing                 NA\n",
       "requests                    2.31.0\n",
       "rfc3339_validator           0.1.4\n",
       "rfc3986_validator           0.1.1\n",
       "rpds                        NA\n",
       "scipy                       1.11.4\n",
       "send2trash                  NA\n",
       "shapely                     1.8.5.post1\n",
       "six                         1.16.0\n",
       "sklearn                     1.3.2\n",
       "sniffio                     1.3.0\n",
       "socks                       1.7.1\n",
       "sql                         NA\n",
       "sqlalchemy                  2.0.21\n",
       "sqlparse                    0.4.4\n",
       "stack_data                  0.6.2\n",
       "sympy                       1.12\n",
       "termcolor                   NA\n",
       "texttable                   1.7.0\n",
       "threadpoolctl               3.2.0\n",
       "torch                       2.1.2+cu121\n",
       "torchgen                    NA\n",
       "tornado                     6.3.3\n",
       "tqdm                        4.66.1\n",
       "traitlets                   5.9.0\n",
       "typing_extensions           NA\n",
       "uri_template                NA\n",
       "urllib3                     1.26.18\n",
       "wcwidth                     0.2.12\n",
       "webcolors                   1.13\n",
       "websocket                   1.7.0\n",
       "wrapt                       1.15.0\n",
       "xarray                      2023.12.0\n",
       "yaml                        6.0.1\n",
       "zipp                        NA\n",
       "zmq                         25.1.2\n",
       "zoneinfo                    NA\n",
       "zstandard                   0.22.0\n",
       "</pre>\n",
       "</details> <!-- seems like this ends pre, so might as well be explicit -->\n",
       "<pre>\n",
       "-----\n",
       "IPython             8.19.0\n",
       "jupyter_client      8.6.0\n",
       "jupyter_core        5.6.1\n",
       "jupyterlab          4.0.10\n",
       "notebook            6.5.4\n",
       "-----\n",
       "Python 3.10.13 | packaged by conda-forge | (main, Dec 23 2023, 15:36:39) [GCC 12.3.0]\n",
       "Linux-5.15.0-1052-gcp-x86_64-with-glibc2.31\n",
       "-----\n",
       "Session information updated at 2024-02-29 22:07\n",
       "</pre>\n",
       "</details>"
      ],
      "text/plain": [
       "<IPython.core.display.HTML object>"
      ]
     },
     "execution_count": 30,
     "metadata": {},
     "output_type": "execute_result"
    }
   ],
   "source": [
    "import session_info\n",
    "session_info.show()"
   ]
  },
  {
   "cell_type": "code",
   "execution_count": null,
   "id": "b46990e9-a09e-41c5-af1a-007b61e74911",
   "metadata": {},
   "outputs": [],
   "source": []
  }
 ],
 "metadata": {
  "kernelspec": {
   "display_name": "Python 3 (ipykernel)",
   "language": "python",
   "name": "python3"
  },
  "language_info": {
   "codemirror_mode": {
    "name": "ipython",
    "version": 3
   },
   "file_extension": ".py",
   "mimetype": "text/x-python",
   "name": "python",
   "nbconvert_exporter": "python",
   "pygments_lexer": "ipython3",
   "version": "3.10.13"
  }
 },
 "nbformat": 4,
 "nbformat_minor": 5
}
