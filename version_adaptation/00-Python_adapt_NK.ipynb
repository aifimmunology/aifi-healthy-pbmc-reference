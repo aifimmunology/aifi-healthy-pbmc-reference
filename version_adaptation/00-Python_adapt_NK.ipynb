{
 "cells": [
  {
   "cell_type": "markdown",
   "id": "86ab7f3a-fd12-424c-a58f-1d87c36cb372",
   "metadata": {},
   "source": [
    "## Adapt  M cell annotations\n",
    "\n",
    "With slightly different clustering, we need to shift the original expert cluster annotations to new cluster numbers.\n",
    "\n",
    "We can do this using the barcodes associated with each cluster."
   ]
  },
  {
   "cell_type": "code",
   "execution_count": 1,
   "id": "6250fc1f-40db-4d9e-a430-83605efb7e12",
   "metadata": {},
   "outputs": [],
   "source": [
    "from datetime import date\n",
    "import hisepy\n",
    "import os\n",
    "import pandas as pd\n",
    "import scanpy as sc"
   ]
  },
  {
   "cell_type": "code",
   "execution_count": 2,
   "id": "f5b68317-a173-49e7-80b0-d2fa02345113",
   "metadata": {},
   "outputs": [],
   "source": [
    "def read_parquet_uuid(parquet_uuid):\n",
    "    pq_path = '/home/jupyter/cache/{u}'.format(u = parquet_uuid)\n",
    "    if not os.path.isdir(pq_path):\n",
    "        hise_res = hisepy.reader.cache_files([parquet_uuid])\n",
    "    pq_filename = os.listdir(pq_path)[0]\n",
    "    pq_file = '{p}/{f}'.format(p = pq_path, f = pq_filename)\n",
    "    df = pd.read_parquet(pq_file)\n",
    "    return df"
   ]
  },
  {
   "cell_type": "code",
   "execution_count": 3,
   "id": "d14dffd0-8d9e-464f-ae2f-93f519195443",
   "metadata": {},
   "outputs": [],
   "source": [
    "def join_anno(og_obs, new_obs, new_col):\n",
    "    new_df = new_obs[['barcodes', new_col]].copy()\n",
    "    new_df = new_df.reset_index(drop = True)\n",
    "    joint_df = new_df.merge(og_obs, how = 'left', on = 'barcodes')\n",
    "\n",
    "    return joint_df"
   ]
  },
  {
   "cell_type": "code",
   "execution_count": 4,
   "id": "f8b91816-c5b4-4403-a4c9-85278e64e634",
   "metadata": {},
   "outputs": [],
   "source": [
    "def reduce_anno(joint_df, og_anno, new_col):    \n",
    "    freq_anno = joint_df.drop('barcodes', axis = 1)\n",
    "    \n",
    "    freq_anno = (\n",
    "        freq_anno\n",
    "        .groupby(new_col)['AIFI_L3']\n",
    "        .agg(pd.Series.mode)\n",
    "        .to_frame()\n",
    "        .reset_index()\n",
    "    )\n",
    "\n",
    "    new_anno = freq_anno.merge(og_anno, how = 'left', on = 'AIFI_L3')\n",
    "\n",
    "    return(new_anno)"
   ]
  },
  {
   "cell_type": "markdown",
   "id": "2d6ecb8e-cb03-4389-ae4e-aa0b0cd6f532",
   "metadata": {},
   "source": [
    "## Read original annotations"
   ]
  },
  {
   "cell_type": "code",
   "execution_count": 5,
   "id": "3026b80d-458e-423f-a0a5-e25adb0c23f7",
   "metadata": {},
   "outputs": [],
   "source": [
    "og_obs = pd.read_parquet('NK_Annotation.parquet')"
   ]
  },
  {
   "cell_type": "code",
   "execution_count": 6,
   "id": "bc98f5ad-62f7-4021-947c-465a4a520ce3",
   "metadata": {},
   "outputs": [
    {
     "data": {
      "text/html": [
       "<div>\n",
       "<style scoped>\n",
       "    .dataframe tbody tr th:only-of-type {\n",
       "        vertical-align: middle;\n",
       "    }\n",
       "\n",
       "    .dataframe tbody tr th {\n",
       "        vertical-align: top;\n",
       "    }\n",
       "\n",
       "    .dataframe thead th {\n",
       "        text-align: right;\n",
       "    }\n",
       "</style>\n",
       "<table border=\"1\" class=\"dataframe\">\n",
       "  <thead>\n",
       "    <tr style=\"text-align: right;\">\n",
       "      <th></th>\n",
       "      <th>barcodes</th>\n",
       "      <th>batch_id</th>\n",
       "      <th>cell_name</th>\n",
       "      <th>cell_uuid</th>\n",
       "      <th>chip_id</th>\n",
       "      <th>hto_barcode</th>\n",
       "      <th>hto_category</th>\n",
       "      <th>n_genes</th>\n",
       "      <th>n_mito_umis</th>\n",
       "      <th>n_reads</th>\n",
       "      <th>...</th>\n",
       "      <th>leiden</th>\n",
       "      <th>leiden_resolution_1</th>\n",
       "      <th>leiden_resolution_1.5</th>\n",
       "      <th>leiden_resolution_2</th>\n",
       "      <th>AIFI_L1</th>\n",
       "      <th>AIFI_L1_Final</th>\n",
       "      <th>AIFI_L2</th>\n",
       "      <th>AIFI_L2_Final</th>\n",
       "      <th>AIFI_L3</th>\n",
       "      <th>AIFI_L3_Final</th>\n",
       "    </tr>\n",
       "  </thead>\n",
       "  <tbody>\n",
       "    <tr>\n",
       "      <th>0</th>\n",
       "      <td>cf72d2f048b611ea8957bafe6d70929e</td>\n",
       "      <td>B001</td>\n",
       "      <td>shrewd_chocolaty_xrayfish</td>\n",
       "      <td>cf72d2f048b611ea8957bafe6d70929e</td>\n",
       "      <td>B001-P1C1</td>\n",
       "      <td>TGATGGCCTATTGGG</td>\n",
       "      <td>singlet</td>\n",
       "      <td>1229</td>\n",
       "      <td>51</td>\n",
       "      <td>8644</td>\n",
       "      <td>...</td>\n",
       "      <td>5</td>\n",
       "      <td>5</td>\n",
       "      <td>6</td>\n",
       "      <td>4</td>\n",
       "      <td>NK cell</td>\n",
       "      <td>Yes</td>\n",
       "      <td>CD56dim NK cell</td>\n",
       "      <td>Yes</td>\n",
       "      <td>GZMK+ CD56dim NK cell</td>\n",
       "      <td>Yes</td>\n",
       "    </tr>\n",
       "    <tr>\n",
       "      <th>1</th>\n",
       "      <td>cf73d29048b611ea8957bafe6d70929e</td>\n",
       "      <td>B001</td>\n",
       "      <td>subocean_bold_oriole</td>\n",
       "      <td>cf73d29048b611ea8957bafe6d70929e</td>\n",
       "      <td>B001-P1C1</td>\n",
       "      <td>TGATGGCCTATTGGG</td>\n",
       "      <td>singlet</td>\n",
       "      <td>2005</td>\n",
       "      <td>246</td>\n",
       "      <td>18676</td>\n",
       "      <td>...</td>\n",
       "      <td>5</td>\n",
       "      <td>8</td>\n",
       "      <td>12</td>\n",
       "      <td>14</td>\n",
       "      <td>NK cell</td>\n",
       "      <td>Yes</td>\n",
       "      <td>NK+T Doublets</td>\n",
       "      <td>Yes</td>\n",
       "      <td>NK+T Doublets</td>\n",
       "      <td>Yes</td>\n",
       "    </tr>\n",
       "    <tr>\n",
       "      <th>2</th>\n",
       "      <td>cf73ecda48b611ea8957bafe6d70929e</td>\n",
       "      <td>B001</td>\n",
       "      <td>observant_fathomable_barracuda</td>\n",
       "      <td>cf73ecda48b611ea8957bafe6d70929e</td>\n",
       "      <td>B001-P1C1</td>\n",
       "      <td>TGATGGCCTATTGGG</td>\n",
       "      <td>singlet</td>\n",
       "      <td>921</td>\n",
       "      <td>37</td>\n",
       "      <td>5216</td>\n",
       "      <td>...</td>\n",
       "      <td>5</td>\n",
       "      <td>0</td>\n",
       "      <td>1</td>\n",
       "      <td>12</td>\n",
       "      <td>NK cell</td>\n",
       "      <td>Yes</td>\n",
       "      <td>CD56dim NK cell</td>\n",
       "      <td>Yes</td>\n",
       "      <td>GZMK- CD56dim NK cell</td>\n",
       "      <td>Yes</td>\n",
       "    </tr>\n",
       "    <tr>\n",
       "      <th>3</th>\n",
       "      <td>cf7430b448b611ea8957bafe6d70929e</td>\n",
       "      <td>B001</td>\n",
       "      <td>omniscient_slim_hoki</td>\n",
       "      <td>cf7430b448b611ea8957bafe6d70929e</td>\n",
       "      <td>B001-P1C1</td>\n",
       "      <td>TGATGGCCTATTGGG</td>\n",
       "      <td>singlet</td>\n",
       "      <td>2153</td>\n",
       "      <td>117</td>\n",
       "      <td>16241</td>\n",
       "      <td>...</td>\n",
       "      <td>5</td>\n",
       "      <td>2</td>\n",
       "      <td>2</td>\n",
       "      <td>5</td>\n",
       "      <td>NK cell</td>\n",
       "      <td>Yes</td>\n",
       "      <td>CD56dim NK cell</td>\n",
       "      <td>Yes</td>\n",
       "      <td>GZMK- CD56dim NK cell</td>\n",
       "      <td>Yes</td>\n",
       "    </tr>\n",
       "    <tr>\n",
       "      <th>4</th>\n",
       "      <td>cf754e0448b611ea8957bafe6d70929e</td>\n",
       "      <td>B001</td>\n",
       "      <td>glossy_intimate_ladybug</td>\n",
       "      <td>cf754e0448b611ea8957bafe6d70929e</td>\n",
       "      <td>B001-P1C1</td>\n",
       "      <td>TGATGGCCTATTGGG</td>\n",
       "      <td>singlet</td>\n",
       "      <td>1497</td>\n",
       "      <td>131</td>\n",
       "      <td>9952</td>\n",
       "      <td>...</td>\n",
       "      <td>5</td>\n",
       "      <td>3</td>\n",
       "      <td>13</td>\n",
       "      <td>15</td>\n",
       "      <td>NK cell</td>\n",
       "      <td>Yes</td>\n",
       "      <td>CD56dim NK cell</td>\n",
       "      <td>Yes</td>\n",
       "      <td>GZMK- CD56dim NK cell</td>\n",
       "      <td>Yes</td>\n",
       "    </tr>\n",
       "  </tbody>\n",
       "</table>\n",
       "<p>5 rows × 63 columns</p>\n",
       "</div>"
      ],
      "text/plain": [
       "                           barcodes batch_id                       cell_name  \\\n",
       "0  cf72d2f048b611ea8957bafe6d70929e     B001       shrewd_chocolaty_xrayfish   \n",
       "1  cf73d29048b611ea8957bafe6d70929e     B001            subocean_bold_oriole   \n",
       "2  cf73ecda48b611ea8957bafe6d70929e     B001  observant_fathomable_barracuda   \n",
       "3  cf7430b448b611ea8957bafe6d70929e     B001            omniscient_slim_hoki   \n",
       "4  cf754e0448b611ea8957bafe6d70929e     B001         glossy_intimate_ladybug   \n",
       "\n",
       "                          cell_uuid    chip_id      hto_barcode hto_category  \\\n",
       "0  cf72d2f048b611ea8957bafe6d70929e  B001-P1C1  TGATGGCCTATTGGG      singlet   \n",
       "1  cf73d29048b611ea8957bafe6d70929e  B001-P1C1  TGATGGCCTATTGGG      singlet   \n",
       "2  cf73ecda48b611ea8957bafe6d70929e  B001-P1C1  TGATGGCCTATTGGG      singlet   \n",
       "3  cf7430b448b611ea8957bafe6d70929e  B001-P1C1  TGATGGCCTATTGGG      singlet   \n",
       "4  cf754e0448b611ea8957bafe6d70929e  B001-P1C1  TGATGGCCTATTGGG      singlet   \n",
       "\n",
       "   n_genes  n_mito_umis  n_reads  ...  leiden leiden_resolution_1  \\\n",
       "0     1229           51     8644  ...       5                   5   \n",
       "1     2005          246    18676  ...       5                   8   \n",
       "2      921           37     5216  ...       5                   0   \n",
       "3     2153          117    16241  ...       5                   2   \n",
       "4     1497          131     9952  ...       5                   3   \n",
       "\n",
       "  leiden_resolution_1.5 leiden_resolution_2  AIFI_L1  AIFI_L1_Final  \\\n",
       "0                     6                   4  NK cell            Yes   \n",
       "1                    12                  14  NK cell            Yes   \n",
       "2                     1                  12  NK cell            Yes   \n",
       "3                     2                   5  NK cell            Yes   \n",
       "4                    13                  15  NK cell            Yes   \n",
       "\n",
       "           AIFI_L2  AIFI_L2_Final                AIFI_L3 AIFI_L3_Final  \n",
       "0  CD56dim NK cell            Yes  GZMK+ CD56dim NK cell           Yes  \n",
       "1    NK+T Doublets            Yes          NK+T Doublets           Yes  \n",
       "2  CD56dim NK cell            Yes  GZMK- CD56dim NK cell           Yes  \n",
       "3  CD56dim NK cell            Yes  GZMK- CD56dim NK cell           Yes  \n",
       "4  CD56dim NK cell            Yes  GZMK- CD56dim NK cell           Yes  \n",
       "\n",
       "[5 rows x 63 columns]"
      ]
     },
     "execution_count": 6,
     "metadata": {},
     "output_type": "execute_result"
    }
   ],
   "source": [
    "og_obs.head()"
   ]
  },
  {
   "cell_type": "code",
   "execution_count": 7,
   "id": "0e7834b9-88be-406f-ab6a-e59fc065ba79",
   "metadata": {},
   "outputs": [],
   "source": [
    "og_obs = og_obs[['barcodes', 'AIFI_L1', 'AIFI_L2', 'AIFI_L3']]"
   ]
  },
  {
   "cell_type": "code",
   "execution_count": 8,
   "id": "ef2d56fc-f960-4ce4-990b-1773c14032c7",
   "metadata": {},
   "outputs": [],
   "source": [
    "og_anno = og_obs.drop('barcodes', axis = 1).drop_duplicates()"
   ]
  },
  {
   "cell_type": "code",
   "execution_count": 9,
   "id": "5a8b6d0d-e390-4901-8ea0-0f79f50e3fa4",
   "metadata": {},
   "outputs": [],
   "source": [
    "joint_df_list = []"
   ]
  },
  {
   "cell_type": "markdown",
   "id": "2596abbd-c027-498e-ab38-8eaecc4532e1",
   "metadata": {},
   "source": [
    "## Read CD56dim subclustering results from HISE"
   ]
  },
  {
   "cell_type": "code",
   "execution_count": 10,
   "id": "f0ebc890-15f0-46b4-bce7-e8cad75c8854",
   "metadata": {},
   "outputs": [],
   "source": [
    "cell_class = 'nk-cells-dim'"
   ]
  },
  {
   "cell_type": "code",
   "execution_count": 11,
   "id": "9c77be95-10ad-42e5-8803-518333576ee9",
   "metadata": {},
   "outputs": [],
   "source": [
    "dim_uuid = '23f26eb8-4ea7-4737-9a4d-4069254c7ff0'\n",
    "dim_obs = read_parquet_uuid(dim_uuid)"
   ]
  },
  {
   "cell_type": "code",
   "execution_count": 12,
   "id": "219e9c33-ea16-45ff-b326-24916476c308",
   "metadata": {},
   "outputs": [
    {
     "data": {
      "text/plain": [
       "(105676, 56)"
      ]
     },
     "execution_count": 12,
     "metadata": {},
     "output_type": "execute_result"
    }
   ],
   "source": [
    "dim_obs.shape"
   ]
  },
  {
   "cell_type": "code",
   "execution_count": 13,
   "id": "0b5f7361-a9c4-406c-8dbb-886aee5b9364",
   "metadata": {},
   "outputs": [],
   "source": [
    "dim_col = 'leiden_resolution_1.5_nk-cells-dim'"
   ]
  },
  {
   "cell_type": "markdown",
   "id": "d1eac053-1d83-4a7f-b9e8-a50b9733ffcf",
   "metadata": {},
   "source": [
    "Join and assign to new clusters"
   ]
  },
  {
   "cell_type": "code",
   "execution_count": 14,
   "id": "aa219b5f-bb13-4285-9781-58f83ab89e46",
   "metadata": {},
   "outputs": [],
   "source": [
    "dim_df = dim_obs[['barcodes', dim_col]]\n",
    "dim_df = dim_df.reset_index(drop = True)\n",
    "dim_df = dim_df.merge(og_obs, on = 'barcodes', how = 'left')"
   ]
  },
  {
   "cell_type": "code",
   "execution_count": 15,
   "id": "f21d9d24-2eb8-4cd9-894f-7f4ec843a540",
   "metadata": {},
   "outputs": [
    {
     "data": {
      "text/html": [
       "<div>\n",
       "<style scoped>\n",
       "    .dataframe tbody tr th:only-of-type {\n",
       "        vertical-align: middle;\n",
       "    }\n",
       "\n",
       "    .dataframe tbody tr th {\n",
       "        vertical-align: top;\n",
       "    }\n",
       "\n",
       "    .dataframe thead th {\n",
       "        text-align: right;\n",
       "    }\n",
       "</style>\n",
       "<table border=\"1\" class=\"dataframe\">\n",
       "  <thead>\n",
       "    <tr style=\"text-align: right;\">\n",
       "      <th></th>\n",
       "      <th>barcodes</th>\n",
       "      <th>leiden_resolution_1.5_nk-cells-dim</th>\n",
       "      <th>AIFI_L1</th>\n",
       "      <th>AIFI_L2</th>\n",
       "      <th>AIFI_L3</th>\n",
       "    </tr>\n",
       "  </thead>\n",
       "  <tbody>\n",
       "    <tr>\n",
       "      <th>0</th>\n",
       "      <td>cf73ecda48b611ea8957bafe6d70929e</td>\n",
       "      <td>2</td>\n",
       "      <td>NK cell</td>\n",
       "      <td>CD56dim NK cell</td>\n",
       "      <td>GZMK- CD56dim NK cell</td>\n",
       "    </tr>\n",
       "    <tr>\n",
       "      <th>1</th>\n",
       "      <td>cf7430b448b611ea8957bafe6d70929e</td>\n",
       "      <td>3</td>\n",
       "      <td>NK cell</td>\n",
       "      <td>CD56dim NK cell</td>\n",
       "      <td>GZMK- CD56dim NK cell</td>\n",
       "    </tr>\n",
       "    <tr>\n",
       "      <th>2</th>\n",
       "      <td>cf754e0448b611ea8957bafe6d70929e</td>\n",
       "      <td>10</td>\n",
       "      <td>NK cell</td>\n",
       "      <td>CD56dim NK cell</td>\n",
       "      <td>GZMK- CD56dim NK cell</td>\n",
       "    </tr>\n",
       "    <tr>\n",
       "      <th>3</th>\n",
       "      <td>cf7802de48b611ea8957bafe6d70929e</td>\n",
       "      <td>7</td>\n",
       "      <td>NK cell</td>\n",
       "      <td>CD56dim NK cell</td>\n",
       "      <td>GZMK- CD56dim NK cell</td>\n",
       "    </tr>\n",
       "    <tr>\n",
       "      <th>4</th>\n",
       "      <td>cf7ab2a448b611ea8957bafe6d70929e</td>\n",
       "      <td>8</td>\n",
       "      <td>NK cell</td>\n",
       "      <td>CD56dim NK cell</td>\n",
       "      <td>GZMK- CD56dim NK cell</td>\n",
       "    </tr>\n",
       "  </tbody>\n",
       "</table>\n",
       "</div>"
      ],
      "text/plain": [
       "                           barcodes leiden_resolution_1.5_nk-cells-dim  \\\n",
       "0  cf73ecda48b611ea8957bafe6d70929e                                  2   \n",
       "1  cf7430b448b611ea8957bafe6d70929e                                  3   \n",
       "2  cf754e0448b611ea8957bafe6d70929e                                 10   \n",
       "3  cf7802de48b611ea8957bafe6d70929e                                  7   \n",
       "4  cf7ab2a448b611ea8957bafe6d70929e                                  8   \n",
       "\n",
       "   AIFI_L1          AIFI_L2                AIFI_L3  \n",
       "0  NK cell  CD56dim NK cell  GZMK- CD56dim NK cell  \n",
       "1  NK cell  CD56dim NK cell  GZMK- CD56dim NK cell  \n",
       "2  NK cell  CD56dim NK cell  GZMK- CD56dim NK cell  \n",
       "3  NK cell  CD56dim NK cell  GZMK- CD56dim NK cell  \n",
       "4  NK cell  CD56dim NK cell  GZMK- CD56dim NK cell  "
      ]
     },
     "execution_count": 15,
     "metadata": {},
     "output_type": "execute_result"
    }
   ],
   "source": [
    "dim_df.head()"
   ]
  },
  {
   "cell_type": "code",
   "execution_count": 16,
   "id": "17ef8baa-41a7-472c-b8d8-fb2da7c29f10",
   "metadata": {},
   "outputs": [],
   "source": [
    "joint_df_list.append(dim_df.drop(dim_col, axis = 1))"
   ]
  },
  {
   "cell_type": "code",
   "execution_count": 17,
   "id": "c27dd1c2-a602-4d19-8d2f-8e20f088188f",
   "metadata": {},
   "outputs": [
    {
     "name": "stderr",
     "output_type": "stream",
     "text": [
      "/tmp/ipykernel_4130/460635200.py:6: FutureWarning: The default of observed=False is deprecated and will be changed to True in a future version of pandas. Pass observed=False to retain current behavior or observed=True to adopt the future default and silence this warning.\n",
      "  .groupby(new_col)['AIFI_L3']\n"
     ]
    }
   ],
   "source": [
    "dim_label_df = reduce_anno(dim_df, og_anno, dim_col)"
   ]
  },
  {
   "cell_type": "code",
   "execution_count": 18,
   "id": "2e031911-d187-4484-838c-e740a4338468",
   "metadata": {},
   "outputs": [
    {
     "data": {
      "text/html": [
       "<div>\n",
       "<style scoped>\n",
       "    .dataframe tbody tr th:only-of-type {\n",
       "        vertical-align: middle;\n",
       "    }\n",
       "\n",
       "    .dataframe tbody tr th {\n",
       "        vertical-align: top;\n",
       "    }\n",
       "\n",
       "    .dataframe thead th {\n",
       "        text-align: right;\n",
       "    }\n",
       "</style>\n",
       "<table border=\"1\" class=\"dataframe\">\n",
       "  <thead>\n",
       "    <tr style=\"text-align: right;\">\n",
       "      <th></th>\n",
       "      <th>leiden_resolution_1.5_nk-cells-dim</th>\n",
       "      <th>AIFI_L3</th>\n",
       "      <th>AIFI_L1</th>\n",
       "      <th>AIFI_L2</th>\n",
       "    </tr>\n",
       "  </thead>\n",
       "  <tbody>\n",
       "    <tr>\n",
       "      <th>0</th>\n",
       "      <td>0</td>\n",
       "      <td>GZMK- CD56dim NK cell</td>\n",
       "      <td>NK cell</td>\n",
       "      <td>CD56dim NK cell</td>\n",
       "    </tr>\n",
       "    <tr>\n",
       "      <th>1</th>\n",
       "      <td>1</td>\n",
       "      <td>GZMK- CD56dim NK cell</td>\n",
       "      <td>NK cell</td>\n",
       "      <td>CD56dim NK cell</td>\n",
       "    </tr>\n",
       "    <tr>\n",
       "      <th>2</th>\n",
       "      <td>2</td>\n",
       "      <td>GZMK- CD56dim NK cell</td>\n",
       "      <td>NK cell</td>\n",
       "      <td>CD56dim NK cell</td>\n",
       "    </tr>\n",
       "    <tr>\n",
       "      <th>3</th>\n",
       "      <td>3</td>\n",
       "      <td>GZMK- CD56dim NK cell</td>\n",
       "      <td>NK cell</td>\n",
       "      <td>CD56dim NK cell</td>\n",
       "    </tr>\n",
       "    <tr>\n",
       "      <th>4</th>\n",
       "      <td>4</td>\n",
       "      <td>GZMK- CD56dim NK cell</td>\n",
       "      <td>NK cell</td>\n",
       "      <td>CD56dim NK cell</td>\n",
       "    </tr>\n",
       "    <tr>\n",
       "      <th>5</th>\n",
       "      <td>5</td>\n",
       "      <td>GZMK- CD56dim NK cell</td>\n",
       "      <td>NK cell</td>\n",
       "      <td>CD56dim NK cell</td>\n",
       "    </tr>\n",
       "    <tr>\n",
       "      <th>6</th>\n",
       "      <td>6</td>\n",
       "      <td>GZMK- CD56dim NK cell</td>\n",
       "      <td>NK cell</td>\n",
       "      <td>CD56dim NK cell</td>\n",
       "    </tr>\n",
       "    <tr>\n",
       "      <th>7</th>\n",
       "      <td>7</td>\n",
       "      <td>GZMK- CD56dim NK cell</td>\n",
       "      <td>NK cell</td>\n",
       "      <td>CD56dim NK cell</td>\n",
       "    </tr>\n",
       "    <tr>\n",
       "      <th>8</th>\n",
       "      <td>8</td>\n",
       "      <td>GZMK- CD56dim NK cell</td>\n",
       "      <td>NK cell</td>\n",
       "      <td>CD56dim NK cell</td>\n",
       "    </tr>\n",
       "    <tr>\n",
       "      <th>9</th>\n",
       "      <td>9</td>\n",
       "      <td>GZMK- CD56dim NK cell</td>\n",
       "      <td>NK cell</td>\n",
       "      <td>CD56dim NK cell</td>\n",
       "    </tr>\n",
       "    <tr>\n",
       "      <th>10</th>\n",
       "      <td>10</td>\n",
       "      <td>GZMK- CD56dim NK cell</td>\n",
       "      <td>NK cell</td>\n",
       "      <td>CD56dim NK cell</td>\n",
       "    </tr>\n",
       "    <tr>\n",
       "      <th>11</th>\n",
       "      <td>11</td>\n",
       "      <td>GZMK- CD56dim NK cell</td>\n",
       "      <td>NK cell</td>\n",
       "      <td>CD56dim NK cell</td>\n",
       "    </tr>\n",
       "    <tr>\n",
       "      <th>12</th>\n",
       "      <td>12</td>\n",
       "      <td>CD56dim Mito+ NK</td>\n",
       "      <td>NK cell</td>\n",
       "      <td>CD56dim NK cell</td>\n",
       "    </tr>\n",
       "    <tr>\n",
       "      <th>13</th>\n",
       "      <td>13</td>\n",
       "      <td>GZMK- CD56dim NK cell</td>\n",
       "      <td>NK cell</td>\n",
       "      <td>CD56dim NK cell</td>\n",
       "    </tr>\n",
       "  </tbody>\n",
       "</table>\n",
       "</div>"
      ],
      "text/plain": [
       "   leiden_resolution_1.5_nk-cells-dim                AIFI_L3  AIFI_L1  \\\n",
       "0                                   0  GZMK- CD56dim NK cell  NK cell   \n",
       "1                                   1  GZMK- CD56dim NK cell  NK cell   \n",
       "2                                   2  GZMK- CD56dim NK cell  NK cell   \n",
       "3                                   3  GZMK- CD56dim NK cell  NK cell   \n",
       "4                                   4  GZMK- CD56dim NK cell  NK cell   \n",
       "5                                   5  GZMK- CD56dim NK cell  NK cell   \n",
       "6                                   6  GZMK- CD56dim NK cell  NK cell   \n",
       "7                                   7  GZMK- CD56dim NK cell  NK cell   \n",
       "8                                   8  GZMK- CD56dim NK cell  NK cell   \n",
       "9                                   9  GZMK- CD56dim NK cell  NK cell   \n",
       "10                                 10  GZMK- CD56dim NK cell  NK cell   \n",
       "11                                 11  GZMK- CD56dim NK cell  NK cell   \n",
       "12                                 12       CD56dim Mito+ NK  NK cell   \n",
       "13                                 13  GZMK- CD56dim NK cell  NK cell   \n",
       "\n",
       "            AIFI_L2  \n",
       "0   CD56dim NK cell  \n",
       "1   CD56dim NK cell  \n",
       "2   CD56dim NK cell  \n",
       "3   CD56dim NK cell  \n",
       "4   CD56dim NK cell  \n",
       "5   CD56dim NK cell  \n",
       "6   CD56dim NK cell  \n",
       "7   CD56dim NK cell  \n",
       "8   CD56dim NK cell  \n",
       "9   CD56dim NK cell  \n",
       "10  CD56dim NK cell  \n",
       "11  CD56dim NK cell  \n",
       "12  CD56dim NK cell  \n",
       "13  CD56dim NK cell  "
      ]
     },
     "execution_count": 18,
     "metadata": {},
     "output_type": "execute_result"
    }
   ],
   "source": [
    "dim_label_df"
   ]
  },
  {
   "cell_type": "code",
   "execution_count": 19,
   "id": "22012e59-1da3-4e3f-a843-4f1910815dcd",
   "metadata": {},
   "outputs": [],
   "source": [
    "final_dim = dim_df[['barcodes', dim_col]].merge(dim_label_df, on = dim_col, how = 'left')"
   ]
  },
  {
   "cell_type": "code",
   "execution_count": 20,
   "id": "4c36c23b-c73f-4b4b-b0bb-7843ff6fa8ab",
   "metadata": {},
   "outputs": [],
   "source": [
    "out_dir = '../04-Annotation/annotations/'\n",
    "out_file = '{p}/pbmc_ref_{c}_annotations_{d}.csv'.format(\n",
    "    p = out_dir,\n",
    "    c = cell_class,\n",
    "    d = date.today()\n",
    ")\n",
    "dim_label_df.to_csv(out_file)"
   ]
  },
  {
   "cell_type": "markdown",
   "id": "b2352011-4ff0-40ba-8ac7-3e2c184619f1",
   "metadata": {},
   "source": [
    "## Read NK subclustering results from HISE"
   ]
  },
  {
   "cell_type": "code",
   "execution_count": 21,
   "id": "c34a4cf1-ab31-4be5-a1c3-4ff8e13ff52d",
   "metadata": {},
   "outputs": [],
   "source": [
    "cell_class = 'nk'"
   ]
  },
  {
   "cell_type": "code",
   "execution_count": 22,
   "id": "2ceb1634-0012-46a9-84c4-94adec2c0db6",
   "metadata": {},
   "outputs": [],
   "source": [
    "new_uuid = '11dea6f0-b69c-4641-a982-9e9d79a68240'\n",
    "new_obs = read_parquet_uuid(new_uuid)"
   ]
  },
  {
   "cell_type": "code",
   "execution_count": 23,
   "id": "502a75df-673a-4912-98b5-6222bdd49a39",
   "metadata": {},
   "outputs": [
    {
     "data": {
      "text/plain": [
       "(160848, 55)"
      ]
     },
     "execution_count": 23,
     "metadata": {},
     "output_type": "execute_result"
    }
   ],
   "source": [
    "new_obs.shape"
   ]
  },
  {
   "cell_type": "markdown",
   "id": "70329b5b-cf90-4084-b2dc-2c0b3dc870ea",
   "metadata": {},
   "source": [
    "Drop cells labeled with CD56dim"
   ]
  },
  {
   "cell_type": "code",
   "execution_count": 24,
   "id": "5d69b55d-5220-4b35-bf2f-1552b2784ba5",
   "metadata": {},
   "outputs": [
    {
     "data": {
      "text/plain": [
       "(55172, 55)"
      ]
     },
     "execution_count": 24,
     "metadata": {},
     "output_type": "execute_result"
    }
   ],
   "source": [
    "keep_obs = [not x for x in new_obs['barcodes'].isin(dim_obs['barcodes']) ]\n",
    "new_obs = new_obs[keep_obs]\n",
    "new_obs.shape"
   ]
  },
  {
   "cell_type": "code",
   "execution_count": 25,
   "id": "fe0d9419-6b49-473e-a6d0-4c7889f90235",
   "metadata": {},
   "outputs": [],
   "source": [
    "new_col = 'leiden_resolution_1.5'"
   ]
  },
  {
   "cell_type": "markdown",
   "id": "7ca2a032-4e63-465c-aa45-a46b684fb760",
   "metadata": {},
   "source": [
    "Join and assign to new clusters"
   ]
  },
  {
   "cell_type": "code",
   "execution_count": 26,
   "id": "5cd79595-c220-42b5-bae4-c6c05b3b7d48",
   "metadata": {
    "scrolled": true
   },
   "outputs": [],
   "source": [
    "joint_df = join_anno(og_obs, new_obs, new_col)"
   ]
  },
  {
   "cell_type": "code",
   "execution_count": 27,
   "id": "33b00d60-fafe-4af2-9033-8b2cb17ed1a1",
   "metadata": {},
   "outputs": [
    {
     "data": {
      "text/plain": [
       "1934"
      ]
     },
     "execution_count": 27,
     "metadata": {},
     "output_type": "execute_result"
    }
   ],
   "source": [
    "joint_df['AIFI_L3'].isna().sum()"
   ]
  },
  {
   "cell_type": "code",
   "execution_count": 28,
   "id": "f589fcf9-d556-45fe-a6b4-f0f8c1fffe49",
   "metadata": {},
   "outputs": [],
   "source": [
    "joint_df[new_col] = joint_df[new_col].cat.remove_unused_categories()"
   ]
  },
  {
   "cell_type": "code",
   "execution_count": 29,
   "id": "e625e088-686a-4907-8149-9f0031ec7dea",
   "metadata": {},
   "outputs": [
    {
     "data": {
      "text/html": [
       "<div>\n",
       "<style scoped>\n",
       "    .dataframe tbody tr th:only-of-type {\n",
       "        vertical-align: middle;\n",
       "    }\n",
       "\n",
       "    .dataframe tbody tr th {\n",
       "        vertical-align: top;\n",
       "    }\n",
       "\n",
       "    .dataframe thead th {\n",
       "        text-align: right;\n",
       "    }\n",
       "</style>\n",
       "<table border=\"1\" class=\"dataframe\">\n",
       "  <thead>\n",
       "    <tr style=\"text-align: right;\">\n",
       "      <th></th>\n",
       "      <th>barcodes</th>\n",
       "      <th>leiden_resolution_1.5</th>\n",
       "      <th>AIFI_L1</th>\n",
       "      <th>AIFI_L2</th>\n",
       "      <th>AIFI_L3</th>\n",
       "    </tr>\n",
       "  </thead>\n",
       "  <tbody>\n",
       "    <tr>\n",
       "      <th>0</th>\n",
       "      <td>cf72d2f048b611ea8957bafe6d70929e</td>\n",
       "      <td>3</td>\n",
       "      <td>NK cell</td>\n",
       "      <td>CD56dim NK cell</td>\n",
       "      <td>GZMK+ CD56dim NK cell</td>\n",
       "    </tr>\n",
       "    <tr>\n",
       "      <th>1</th>\n",
       "      <td>cf73d29048b611ea8957bafe6d70929e</td>\n",
       "      <td>11</td>\n",
       "      <td>NK cell</td>\n",
       "      <td>NK+T Doublets</td>\n",
       "      <td>NK+T Doublets</td>\n",
       "    </tr>\n",
       "    <tr>\n",
       "      <th>2</th>\n",
       "      <td>cf7577c648b611ea8957bafe6d70929e</td>\n",
       "      <td>6</td>\n",
       "      <td>NK cell</td>\n",
       "      <td>CD56dim NK cell</td>\n",
       "      <td>Adaptive NK cell</td>\n",
       "    </tr>\n",
       "    <tr>\n",
       "      <th>3</th>\n",
       "      <td>cf774a9c48b611ea8957bafe6d70929e</td>\n",
       "      <td>11</td>\n",
       "      <td>NK cell</td>\n",
       "      <td>NK+T Doublets</td>\n",
       "      <td>NK+T Doublets</td>\n",
       "    </tr>\n",
       "    <tr>\n",
       "      <th>4</th>\n",
       "      <td>cf7a833848b611ea8957bafe6d70929e</td>\n",
       "      <td>6</td>\n",
       "      <td>NK cell</td>\n",
       "      <td>CD56dim NK cell</td>\n",
       "      <td>Adaptive NK cell</td>\n",
       "    </tr>\n",
       "  </tbody>\n",
       "</table>\n",
       "</div>"
      ],
      "text/plain": [
       "                           barcodes leiden_resolution_1.5  AIFI_L1  \\\n",
       "0  cf72d2f048b611ea8957bafe6d70929e                     3  NK cell   \n",
       "1  cf73d29048b611ea8957bafe6d70929e                    11  NK cell   \n",
       "2  cf7577c648b611ea8957bafe6d70929e                     6  NK cell   \n",
       "3  cf774a9c48b611ea8957bafe6d70929e                    11  NK cell   \n",
       "4  cf7a833848b611ea8957bafe6d70929e                     6  NK cell   \n",
       "\n",
       "           AIFI_L2                AIFI_L3  \n",
       "0  CD56dim NK cell  GZMK+ CD56dim NK cell  \n",
       "1    NK+T Doublets          NK+T Doublets  \n",
       "2  CD56dim NK cell       Adaptive NK cell  \n",
       "3    NK+T Doublets          NK+T Doublets  \n",
       "4  CD56dim NK cell       Adaptive NK cell  "
      ]
     },
     "execution_count": 29,
     "metadata": {},
     "output_type": "execute_result"
    }
   ],
   "source": [
    "joint_df.head()"
   ]
  },
  {
   "cell_type": "code",
   "execution_count": 30,
   "id": "678ccfc0-22c1-4f35-a002-fbfa876899f8",
   "metadata": {},
   "outputs": [],
   "source": [
    "joint_df_list.append(joint_df.drop(new_col, axis = 1))"
   ]
  },
  {
   "cell_type": "raw",
   "id": "8f022943-9199-42d6-968c-7d660c1804c0",
   "metadata": {},
   "source": [
    "joint_df['AIFI_L1'] = joint_df['AIFI_L1'].cat.add_categories(['Doublet/Contamination'])\n",
    "joint_df['AIFI_L2'] = joint_df['AIFI_L2'].cat.add_categories(['Doublet/Contamination'])\n",
    "joint_df['AIFI_L3'] = joint_df['AIFI_L3'].cat.add_categories(['Doublet/Contamination'])"
   ]
  },
  {
   "cell_type": "raw",
   "id": "21ba93f7-8ff1-4546-90c6-b8a69b8940f0",
   "metadata": {},
   "source": [
    "joint_df['AIFI_L1'] = joint_df['AIFI_L1'].fillna('Doublet/Contamination')\n",
    "joint_df['AIFI_L2'] = joint_df['AIFI_L2'].fillna('Doublet/Contamination')\n",
    "joint_df['AIFI_L3'] = joint_df['AIFI_L3'].fillna('Doublet/Contamination')"
   ]
  },
  {
   "cell_type": "code",
   "execution_count": 31,
   "id": "0be64bc7-1e85-45de-9531-8f594503cd3b",
   "metadata": {},
   "outputs": [
    {
     "name": "stderr",
     "output_type": "stream",
     "text": [
      "/tmp/ipykernel_4130/460635200.py:6: FutureWarning: The default of observed=False is deprecated and will be changed to True in a future version of pandas. Pass observed=False to retain current behavior or observed=True to adopt the future default and silence this warning.\n",
      "  .groupby(new_col)['AIFI_L3']\n"
     ]
    }
   ],
   "source": [
    "label_df = reduce_anno(joint_df, og_anno, new_col)"
   ]
  },
  {
   "cell_type": "code",
   "execution_count": 32,
   "id": "5b1a1cf4-0ed3-4a88-b2ad-10c14c3e97ee",
   "metadata": {},
   "outputs": [
    {
     "data": {
      "text/html": [
       "<div>\n",
       "<style scoped>\n",
       "    .dataframe tbody tr th:only-of-type {\n",
       "        vertical-align: middle;\n",
       "    }\n",
       "\n",
       "    .dataframe tbody tr th {\n",
       "        vertical-align: top;\n",
       "    }\n",
       "\n",
       "    .dataframe thead th {\n",
       "        text-align: right;\n",
       "    }\n",
       "</style>\n",
       "<table border=\"1\" class=\"dataframe\">\n",
       "  <thead>\n",
       "    <tr style=\"text-align: right;\">\n",
       "      <th></th>\n",
       "      <th>leiden_resolution_1.5</th>\n",
       "      <th>AIFI_L3</th>\n",
       "      <th>AIFI_L1</th>\n",
       "      <th>AIFI_L2</th>\n",
       "    </tr>\n",
       "  </thead>\n",
       "  <tbody>\n",
       "    <tr>\n",
       "      <th>0</th>\n",
       "      <td>3</td>\n",
       "      <td>GZMK+ CD56dim NK cell</td>\n",
       "      <td>NK cell</td>\n",
       "      <td>CD56dim NK cell</td>\n",
       "    </tr>\n",
       "    <tr>\n",
       "      <th>1</th>\n",
       "      <td>6</td>\n",
       "      <td>Adaptive NK cell</td>\n",
       "      <td>NK cell</td>\n",
       "      <td>CD56dim NK cell</td>\n",
       "    </tr>\n",
       "    <tr>\n",
       "      <th>2</th>\n",
       "      <td>7</td>\n",
       "      <td>CD56bright NK cell</td>\n",
       "      <td>NK cell</td>\n",
       "      <td>CD56bright NK cell</td>\n",
       "    </tr>\n",
       "    <tr>\n",
       "      <th>3</th>\n",
       "      <td>11</td>\n",
       "      <td>NK+T Doublets</td>\n",
       "      <td>NK cell</td>\n",
       "      <td>NK+T Doublets</td>\n",
       "    </tr>\n",
       "    <tr>\n",
       "      <th>4</th>\n",
       "      <td>12</td>\n",
       "      <td>NK+Erythocytes Doublet</td>\n",
       "      <td>NK cell</td>\n",
       "      <td>NK+Erythocytes Doublet</td>\n",
       "    </tr>\n",
       "    <tr>\n",
       "      <th>5</th>\n",
       "      <td>13</td>\n",
       "      <td>NK+Platelet Doublet</td>\n",
       "      <td>NK cell</td>\n",
       "      <td>NK+Platelet Doublet</td>\n",
       "    </tr>\n",
       "    <tr>\n",
       "      <th>6</th>\n",
       "      <td>14</td>\n",
       "      <td>ISG+ CD56dim NK cell</td>\n",
       "      <td>NK cell</td>\n",
       "      <td>CD56dim NK cell</td>\n",
       "    </tr>\n",
       "    <tr>\n",
       "      <th>7</th>\n",
       "      <td>16</td>\n",
       "      <td>Proliferating NK cell</td>\n",
       "      <td>NK cell</td>\n",
       "      <td>Proliferating NK cell</td>\n",
       "    </tr>\n",
       "    <tr>\n",
       "      <th>8</th>\n",
       "      <td>17</td>\n",
       "      <td>ILC</td>\n",
       "      <td>ILC</td>\n",
       "      <td>ILC</td>\n",
       "    </tr>\n",
       "  </tbody>\n",
       "</table>\n",
       "</div>"
      ],
      "text/plain": [
       "  leiden_resolution_1.5                 AIFI_L3  AIFI_L1  \\\n",
       "0                     3   GZMK+ CD56dim NK cell  NK cell   \n",
       "1                     6        Adaptive NK cell  NK cell   \n",
       "2                     7      CD56bright NK cell  NK cell   \n",
       "3                    11           NK+T Doublets  NK cell   \n",
       "4                    12  NK+Erythocytes Doublet  NK cell   \n",
       "5                    13     NK+Platelet Doublet  NK cell   \n",
       "6                    14    ISG+ CD56dim NK cell  NK cell   \n",
       "7                    16   Proliferating NK cell  NK cell   \n",
       "8                    17                     ILC      ILC   \n",
       "\n",
       "                  AIFI_L2  \n",
       "0         CD56dim NK cell  \n",
       "1         CD56dim NK cell  \n",
       "2      CD56bright NK cell  \n",
       "3           NK+T Doublets  \n",
       "4  NK+Erythocytes Doublet  \n",
       "5     NK+Platelet Doublet  \n",
       "6         CD56dim NK cell  \n",
       "7   Proliferating NK cell  \n",
       "8                     ILC  "
      ]
     },
     "execution_count": 32,
     "metadata": {},
     "output_type": "execute_result"
    }
   ],
   "source": [
    "label_df"
   ]
  },
  {
   "cell_type": "code",
   "execution_count": 33,
   "id": "3c2e42bb-0fbb-4bec-b970-5395549b8269",
   "metadata": {},
   "outputs": [],
   "source": [
    "final_nk = joint_df[['barcodes', new_col]].merge(label_df, on = new_col, how = 'left')"
   ]
  },
  {
   "cell_type": "code",
   "execution_count": 34,
   "id": "bb9f1d63-9016-4448-833b-7165048c9e7e",
   "metadata": {},
   "outputs": [],
   "source": [
    "out_dir = '../04-Annotation/annotations/'\n",
    "out_file = '{p}/pbmc_ref_{c}_annotations_{d}.csv'.format(\n",
    "    p = out_dir,\n",
    "    c = cell_class,\n",
    "    d = date.today()\n",
    ")\n",
    "label_df.to_csv(out_file)"
   ]
  },
  {
   "cell_type": "markdown",
   "id": "fe9788fc-aad8-4298-8194-e10fafa5d1e7",
   "metadata": {},
   "source": [
    "## Compare old and new annotations"
   ]
  },
  {
   "cell_type": "code",
   "execution_count": 35,
   "id": "7cdbadc2-b849-4ed6-be48-ac943471f08b",
   "metadata": {},
   "outputs": [],
   "source": [
    "all_new = pd.concat(joint_df_list)"
   ]
  },
  {
   "cell_type": "code",
   "execution_count": 36,
   "id": "daf846e4-e46a-475f-aa90-b583e5d51a9e",
   "metadata": {},
   "outputs": [
    {
     "data": {
      "text/plain": [
       "AIFI_L3\n",
       "GZMK- CD56dim NK cell     103273\n",
       "CD56bright NK cell         12189\n",
       "GZMK+ CD56dim NK cell      10468\n",
       "Adaptive NK cell            9927\n",
       "NK+Erythocytes Doublet      5547\n",
       "NK+T Doublets               5239\n",
       "ISG+ CD56dim NK cell        3833\n",
       "CD56dim Mito+ NK            3279\n",
       "NK+Platelet Doublet         3092\n",
       "Proliferating NK cell        979\n",
       "ILC                          876\n",
       "Name: count, dtype: int64"
      ]
     },
     "execution_count": 36,
     "metadata": {},
     "output_type": "execute_result"
    }
   ],
   "source": [
    "new_counts = all_new['AIFI_L3'].value_counts()\n",
    "new_counts"
   ]
  },
  {
   "cell_type": "code",
   "execution_count": 37,
   "id": "0e1572bc-a7fa-466d-9c5b-b8feec31f85b",
   "metadata": {},
   "outputs": [
    {
     "data": {
      "text/plain": [
       "2146"
      ]
     },
     "execution_count": 37,
     "metadata": {},
     "output_type": "execute_result"
    }
   ],
   "source": [
    "sum(all_new['AIFI_L3'].isna())"
   ]
  },
  {
   "cell_type": "code",
   "execution_count": 38,
   "id": "3ddfa1d7-429d-42b2-b3c6-67604d980feb",
   "metadata": {},
   "outputs": [
    {
     "data": {
      "text/plain": [
       "158702"
      ]
     },
     "execution_count": 38,
     "metadata": {},
     "output_type": "execute_result"
    }
   ],
   "source": [
    "sum(new_counts)"
   ]
  },
  {
   "cell_type": "markdown",
   "id": "cb362297-7f9d-4d2b-ae91-c39ad775fbbc",
   "metadata": {},
   "source": [
    "Original type counts"
   ]
  },
  {
   "cell_type": "code",
   "execution_count": 39,
   "id": "98a2d0b9-cb36-4160-bce7-da560a18b443",
   "metadata": {},
   "outputs": [
    {
     "data": {
      "text/plain": [
       "AIFI_L3\n",
       "GZMK- CD56dim NK cell     103311\n",
       "CD56bright NK cell         12209\n",
       "GZMK+ CD56dim NK cell      10478\n",
       "Adaptive NK cell            9946\n",
       "NK+Erythocytes Doublet      5549\n",
       "NK+T Doublets               5412\n",
       "ISG+ CD56dim NK cell        3834\n",
       "NK+Platelet Doublet         3339\n",
       "CD56dim Mito+ NK            3281\n",
       "Proliferating NK cell       1004\n",
       "ILC                          882\n",
       "Name: count, dtype: int64"
      ]
     },
     "execution_count": 39,
     "metadata": {},
     "output_type": "execute_result"
    }
   ],
   "source": [
    "old_counts = og_obs['AIFI_L3'].value_counts()\n",
    "old_counts"
   ]
  },
  {
   "cell_type": "code",
   "execution_count": 40,
   "id": "50dcf863-fb20-4dc9-a11a-a4335a618f5f",
   "metadata": {},
   "outputs": [
    {
     "data": {
      "text/plain": [
       "159245"
      ]
     },
     "execution_count": 40,
     "metadata": {},
     "output_type": "execute_result"
    }
   ],
   "source": [
    "sum(old_counts)"
   ]
  },
  {
   "cell_type": "markdown",
   "id": "7cda1d7c-7048-4a03-baa7-61ce432fc7db",
   "metadata": {},
   "source": [
    "Difference in counts"
   ]
  },
  {
   "cell_type": "code",
   "execution_count": 41,
   "id": "45768c38-f307-4822-9759-31c297df0fd8",
   "metadata": {},
   "outputs": [
    {
     "data": {
      "text/plain": [
       "AIFI_L3\n",
       "Adaptive NK cell          -19\n",
       "CD56bright NK cell        -20\n",
       "CD56dim Mito+ NK           -2\n",
       "GZMK+ CD56dim NK cell     -10\n",
       "GZMK- CD56dim NK cell     -38\n",
       "ILC                        -6\n",
       "ISG+ CD56dim NK cell       -1\n",
       "NK+Erythocytes Doublet     -2\n",
       "NK+Platelet Doublet      -247\n",
       "NK+T Doublets            -173\n",
       "Proliferating NK cell     -25\n",
       "Name: count, dtype: int64"
      ]
     },
     "execution_count": 41,
     "metadata": {},
     "output_type": "execute_result"
    }
   ],
   "source": [
    "new_counts - old_counts"
   ]
  },
  {
   "cell_type": "markdown",
   "id": "139a6d64-9434-4755-a29f-67dffd4b7900",
   "metadata": {},
   "source": [
    "Percent difference"
   ]
  },
  {
   "cell_type": "code",
   "execution_count": 42,
   "id": "e271a9bb-4cd0-4ace-88a4-02f3a854479d",
   "metadata": {},
   "outputs": [
    {
     "data": {
      "text/plain": [
       "AIFI_L3\n",
       "Adaptive NK cell         -0.191032\n",
       "CD56bright NK cell       -0.163814\n",
       "CD56dim Mito+ NK         -0.060957\n",
       "GZMK+ CD56dim NK cell    -0.095438\n",
       "GZMK- CD56dim NK cell    -0.036782\n",
       "ILC                      -0.680272\n",
       "ISG+ CD56dim NK cell     -0.026082\n",
       "NK+Erythocytes Doublet   -0.036043\n",
       "NK+Platelet Doublet      -7.397424\n",
       "NK+T Doublets            -3.196600\n",
       "Proliferating NK cell    -2.490040\n",
       "Name: count, dtype: float64"
      ]
     },
     "execution_count": 42,
     "metadata": {},
     "output_type": "execute_result"
    }
   ],
   "source": [
    "(new_counts - old_counts) / old_counts * 100"
   ]
  },
  {
   "cell_type": "code",
   "execution_count": 43,
   "id": "58c24562-35cc-492e-9b21-6841e3c03828",
   "metadata": {},
   "outputs": [],
   "source": [
    "old_id = og_obs[['barcodes','AIFI_L3']].rename({'AIFI_L3':'old_L3'}, axis = 1)\n",
    "new_id = all_new[['barcodes','AIFI_L3']].rename({'AIFI_L3':'new_L3'}, axis = 1)"
   ]
  },
  {
   "cell_type": "code",
   "execution_count": 44,
   "id": "72ef7401-82aa-4bec-8831-94bf173c322c",
   "metadata": {},
   "outputs": [
    {
     "data": {
      "text/plain": [
       "158702"
      ]
     },
     "execution_count": 44,
     "metadata": {},
     "output_type": "execute_result"
    }
   ],
   "source": [
    "sum(new_id['barcodes'].isin(old_id['barcodes']))"
   ]
  },
  {
   "cell_type": "code",
   "execution_count": 45,
   "id": "d33ff9a8-5906-4c2e-9cd3-915872082bc0",
   "metadata": {},
   "outputs": [],
   "source": [
    "comp_old = old_id.merge(new_id, on = 'barcodes', how = 'left')"
   ]
  },
  {
   "cell_type": "code",
   "execution_count": 46,
   "id": "beb61a14-3d71-428f-9a6d-285c4e9e0d0c",
   "metadata": {},
   "outputs": [
    {
     "data": {
      "text/plain": [
       "(159245, 3)"
      ]
     },
     "execution_count": 46,
     "metadata": {},
     "output_type": "execute_result"
    }
   ],
   "source": [
    "comp_old.shape"
   ]
  },
  {
   "cell_type": "code",
   "execution_count": 47,
   "id": "571fe163-3540-4313-8aea-ecf4e49696d1",
   "metadata": {},
   "outputs": [
    {
     "data": {
      "text/plain": [
       "158702"
      ]
     },
     "execution_count": 47,
     "metadata": {},
     "output_type": "execute_result"
    }
   ],
   "source": [
    "sum(comp_old['old_L3'] == comp_old['new_L3'])"
   ]
  },
  {
   "cell_type": "code",
   "execution_count": 48,
   "id": "d58526cd-d73b-4d62-93af-36b3eaf47684",
   "metadata": {},
   "outputs": [],
   "source": [
    "diff_old = comp_old[comp_old['old_L3'] != comp_old['new_L3']]\n",
    "#diff = diff[[not x for x in diff['new_L3'].isna()]]"
   ]
  },
  {
   "cell_type": "code",
   "execution_count": 49,
   "id": "57a509a2-cbb3-40a8-ac90-f78adea9a3fd",
   "metadata": {},
   "outputs": [
    {
     "data": {
      "text/html": [
       "<div>\n",
       "<style scoped>\n",
       "    .dataframe tbody tr th:only-of-type {\n",
       "        vertical-align: middle;\n",
       "    }\n",
       "\n",
       "    .dataframe tbody tr th {\n",
       "        vertical-align: top;\n",
       "    }\n",
       "\n",
       "    .dataframe thead th {\n",
       "        text-align: right;\n",
       "    }\n",
       "</style>\n",
       "<table border=\"1\" class=\"dataframe\">\n",
       "  <thead>\n",
       "    <tr style=\"text-align: right;\">\n",
       "      <th></th>\n",
       "      <th>barcodes</th>\n",
       "      <th>old_L3</th>\n",
       "      <th>new_L3</th>\n",
       "    </tr>\n",
       "  </thead>\n",
       "  <tbody>\n",
       "    <tr>\n",
       "      <th>37</th>\n",
       "      <td>cf9171ce48b611ea8957bafe6d70929e</td>\n",
       "      <td>GZMK- CD56dim NK cell</td>\n",
       "      <td>NaN</td>\n",
       "    </tr>\n",
       "    <tr>\n",
       "      <th>54</th>\n",
       "      <td>cfa73dec48b611ea8957bafe6d70929e</td>\n",
       "      <td>NK+T Doublets</td>\n",
       "      <td>NaN</td>\n",
       "    </tr>\n",
       "    <tr>\n",
       "      <th>55</th>\n",
       "      <td>cfa73edc48b611ea8957bafe6d70929e</td>\n",
       "      <td>NK+T Doublets</td>\n",
       "      <td>NaN</td>\n",
       "    </tr>\n",
       "    <tr>\n",
       "      <th>647</th>\n",
       "      <td>5d0cbece48b111ea8fbed2ddb8e0a14a</td>\n",
       "      <td>NK+T Doublets</td>\n",
       "      <td>NaN</td>\n",
       "    </tr>\n",
       "    <tr>\n",
       "      <th>869</th>\n",
       "      <td>46cae4b4488011eaa581ba6d6c7b9f21</td>\n",
       "      <td>GZMK- CD56dim NK cell</td>\n",
       "      <td>NaN</td>\n",
       "    </tr>\n",
       "  </tbody>\n",
       "</table>\n",
       "</div>"
      ],
      "text/plain": [
       "                             barcodes                 old_L3 new_L3\n",
       "37   cf9171ce48b611ea8957bafe6d70929e  GZMK- CD56dim NK cell    NaN\n",
       "54   cfa73dec48b611ea8957bafe6d70929e          NK+T Doublets    NaN\n",
       "55   cfa73edc48b611ea8957bafe6d70929e          NK+T Doublets    NaN\n",
       "647  5d0cbece48b111ea8fbed2ddb8e0a14a          NK+T Doublets    NaN\n",
       "869  46cae4b4488011eaa581ba6d6c7b9f21  GZMK- CD56dim NK cell    NaN"
      ]
     },
     "execution_count": 49,
     "metadata": {},
     "output_type": "execute_result"
    }
   ],
   "source": [
    "diff_old.head()"
   ]
  },
  {
   "cell_type": "code",
   "execution_count": 50,
   "id": "dacc8ba8-c7b3-4875-979d-a9e90c11439b",
   "metadata": {},
   "outputs": [
    {
     "data": {
      "text/plain": [
       "old_L3\n",
       "NK+Platelet Doublet       247\n",
       "NK+T Doublets             173\n",
       "GZMK- CD56dim NK cell      38\n",
       "Proliferating NK cell      25\n",
       "CD56bright NK cell         20\n",
       "Adaptive NK cell           19\n",
       "GZMK+ CD56dim NK cell      10\n",
       "ILC                         6\n",
       "CD56dim Mito+ NK            2\n",
       "NK+Erythocytes Doublet      2\n",
       "ISG+ CD56dim NK cell        1\n",
       "Name: count, dtype: int64"
      ]
     },
     "execution_count": 50,
     "metadata": {},
     "output_type": "execute_result"
    }
   ],
   "source": [
    "diff_old['old_L3'].value_counts()"
   ]
  },
  {
   "cell_type": "code",
   "execution_count": 51,
   "id": "1767e5de-3998-414e-bc23-f60c730a7cb2",
   "metadata": {},
   "outputs": [],
   "source": [
    "comp_new = new_id.merge(old_id, on = 'barcodes', how = 'left')"
   ]
  },
  {
   "cell_type": "code",
   "execution_count": 52,
   "id": "f3758b1a-bb83-43b7-8bae-c852721bf31b",
   "metadata": {},
   "outputs": [
    {
     "data": {
      "text/plain": [
       "(160848, 3)"
      ]
     },
     "execution_count": 52,
     "metadata": {},
     "output_type": "execute_result"
    }
   ],
   "source": [
    "comp_new.shape"
   ]
  },
  {
   "cell_type": "code",
   "execution_count": 53,
   "id": "ae525306-98f1-4f1d-a2ce-1f74e49ceba3",
   "metadata": {},
   "outputs": [
    {
     "data": {
      "text/plain": [
       "158702"
      ]
     },
     "execution_count": 53,
     "metadata": {},
     "output_type": "execute_result"
    }
   ],
   "source": [
    "sum(comp_new['old_L3'] == comp_new['new_L3'])"
   ]
  },
  {
   "cell_type": "code",
   "execution_count": 54,
   "id": "3899b38e-d98a-4e84-aeac-ed60d225fdde",
   "metadata": {},
   "outputs": [],
   "source": [
    "diff_new = comp_new[comp_new['old_L3'] != comp_new['new_L3']]\n",
    "#diff = diff[[not x for x in diff['new_L3'].isna()]]"
   ]
  },
  {
   "cell_type": "code",
   "execution_count": 55,
   "id": "c91cb68d-e731-4920-8c62-232e04a71763",
   "metadata": {},
   "outputs": [
    {
     "data": {
      "text/html": [
       "<div>\n",
       "<style scoped>\n",
       "    .dataframe tbody tr th:only-of-type {\n",
       "        vertical-align: middle;\n",
       "    }\n",
       "\n",
       "    .dataframe tbody tr th {\n",
       "        vertical-align: top;\n",
       "    }\n",
       "\n",
       "    .dataframe thead th {\n",
       "        text-align: right;\n",
       "    }\n",
       "</style>\n",
       "<table border=\"1\" class=\"dataframe\">\n",
       "  <thead>\n",
       "    <tr style=\"text-align: right;\">\n",
       "      <th></th>\n",
       "      <th>barcodes</th>\n",
       "      <th>new_L3</th>\n",
       "      <th>old_L3</th>\n",
       "    </tr>\n",
       "  </thead>\n",
       "  <tbody>\n",
       "    <tr>\n",
       "      <th>19</th>\n",
       "      <td>cf87c39a48b611ea8957bafe6d70929e</td>\n",
       "      <td>NaN</td>\n",
       "      <td>NaN</td>\n",
       "    </tr>\n",
       "    <tr>\n",
       "      <th>33</th>\n",
       "      <td>cfa7c3a248b611ea8957bafe6d70929e</td>\n",
       "      <td>NaN</td>\n",
       "      <td>NaN</td>\n",
       "    </tr>\n",
       "    <tr>\n",
       "      <th>46</th>\n",
       "      <td>cfb468dc48b611ea8957bafe6d70929e</td>\n",
       "      <td>NaN</td>\n",
       "      <td>NaN</td>\n",
       "    </tr>\n",
       "    <tr>\n",
       "      <th>338</th>\n",
       "      <td>74f681b448b611eabab7c676ab45cfca</td>\n",
       "      <td>NaN</td>\n",
       "      <td>NaN</td>\n",
       "    </tr>\n",
       "    <tr>\n",
       "      <th>489</th>\n",
       "      <td>46b30ed4488011eaa581ba6d6c7b9f21</td>\n",
       "      <td>NaN</td>\n",
       "      <td>NaN</td>\n",
       "    </tr>\n",
       "  </tbody>\n",
       "</table>\n",
       "</div>"
      ],
      "text/plain": [
       "                             barcodes new_L3 old_L3\n",
       "19   cf87c39a48b611ea8957bafe6d70929e    NaN    NaN\n",
       "33   cfa7c3a248b611ea8957bafe6d70929e    NaN    NaN\n",
       "46   cfb468dc48b611ea8957bafe6d70929e    NaN    NaN\n",
       "338  74f681b448b611eabab7c676ab45cfca    NaN    NaN\n",
       "489  46b30ed4488011eaa581ba6d6c7b9f21    NaN    NaN"
      ]
     },
     "execution_count": 55,
     "metadata": {},
     "output_type": "execute_result"
    }
   ],
   "source": [
    "diff_new.head()"
   ]
  },
  {
   "cell_type": "code",
   "execution_count": 56,
   "id": "274faefe-14a9-4fde-88fa-23962c5ff8df",
   "metadata": {},
   "outputs": [
    {
     "data": {
      "text/plain": [
       "(2146, 3)"
      ]
     },
     "execution_count": 56,
     "metadata": {},
     "output_type": "execute_result"
    }
   ],
   "source": [
    "diff_new.shape"
   ]
  },
  {
   "cell_type": "markdown",
   "id": "6a9e1e97-93c2-484a-9c5d-be0d5382c400",
   "metadata": {},
   "source": [
    "Is a cluster in here that was previously assigned to a different class?"
   ]
  },
  {
   "cell_type": "code",
   "execution_count": 57,
   "id": "bbf35a1c-40a5-4c1a-8e33-1169aa35dce2",
   "metadata": {},
   "outputs": [
    {
     "data": {
      "text/plain": [
       "2146"
      ]
     },
     "execution_count": 57,
     "metadata": {},
     "output_type": "execute_result"
    }
   ],
   "source": [
    "sum(diff_new['new_L3'].isna())"
   ]
  },
  {
   "cell_type": "code",
   "execution_count": 58,
   "id": "04bc55c3-1516-4fb3-8482-a18ee7c35fb8",
   "metadata": {},
   "outputs": [],
   "source": [
    "final_new = pd.concat([final_dim.drop(dim_col, axis = 1),final_nk.drop(new_col, axis = 1)])"
   ]
  },
  {
   "cell_type": "code",
   "execution_count": 59,
   "id": "d3a52c37-7463-4af9-a812-6afb2eed9ab3",
   "metadata": {},
   "outputs": [],
   "source": [
    "missing_new = final_new[final_new['barcodes'].isin(diff_new['barcodes'])]"
   ]
  },
  {
   "cell_type": "code",
   "execution_count": 60,
   "id": "bbfcdf35-2d48-4e11-adff-92d7dd672783",
   "metadata": {
    "scrolled": true
   },
   "outputs": [
    {
     "data": {
      "text/plain": [
       "AIFI_L3\n",
       "Adaptive NK cell          1436\n",
       "NK+T Doublets              242\n",
       "NK+Erythocytes Doublet     156\n",
       "CD56dim Mito+ NK           115\n",
       "GZMK- CD56dim NK cell       97\n",
       "GZMK+ CD56dim NK cell       41\n",
       "ISG+ CD56dim NK cell        31\n",
       "NK+Platelet Doublet         15\n",
       "ILC                          6\n",
       "Proliferating NK cell        5\n",
       "CD56bright NK cell           2\n",
       "Name: count, dtype: int64"
      ]
     },
     "execution_count": 60,
     "metadata": {},
     "output_type": "execute_result"
    }
   ],
   "source": [
    "missing_new['AIFI_L3'].value_counts()"
   ]
  },
  {
   "cell_type": "markdown",
   "id": "6e3e7c4a-8c9e-47af-aa66-cc0256dc171e",
   "metadata": {},
   "source": [
    "Differences are mostly due to doublets. No problemo."
   ]
  },
  {
   "cell_type": "code",
   "execution_count": 61,
   "id": "28cbc367-85b3-4bc0-871b-d9bdaa212872",
   "metadata": {},
   "outputs": [
    {
     "data": {
      "text/html": [
       "<details>\n",
       "<summary>Click to view session information</summary>\n",
       "<pre>\n",
       "-----\n",
       "hisepy              0.3.0\n",
       "pandas              2.1.4\n",
       "scanpy              1.9.6\n",
       "session_info        1.0.0\n",
       "-----\n",
       "</pre>\n",
       "<details>\n",
       "<summary>Click to view modules imported as dependencies</summary>\n",
       "<pre>\n",
       "PIL                         10.0.1\n",
       "anndata                     0.10.3\n",
       "anyio                       NA\n",
       "arrow                       1.3.0\n",
       "asttokens                   NA\n",
       "attr                        23.2.0\n",
       "attrs                       23.2.0\n",
       "babel                       2.14.0\n",
       "beatrix_jupyterlab          NA\n",
       "brotli                      NA\n",
       "cachetools                  5.3.1\n",
       "certifi                     2024.02.02\n",
       "cffi                        1.16.0\n",
       "charset_normalizer          3.3.2\n",
       "cloudpickle                 2.2.1\n",
       "colorama                    0.4.6\n",
       "comm                        0.1.4\n",
       "cryptography                41.0.7\n",
       "cycler                      0.10.0\n",
       "cython_runtime              NA\n",
       "dateutil                    2.8.2\n",
       "db_dtypes                   1.1.1\n",
       "debugpy                     1.8.0\n",
       "decorator                   5.1.1\n",
       "defusedxml                  0.7.1\n",
       "deprecated                  1.2.14\n",
       "exceptiongroup              1.2.0\n",
       "executing                   2.0.1\n",
       "fastjsonschema              NA\n",
       "fqdn                        NA\n",
       "google                      NA\n",
       "greenlet                    2.0.2\n",
       "grpc                        1.58.0\n",
       "grpc_status                 NA\n",
       "h5py                        3.10.0\n",
       "idna                        3.6\n",
       "igraph                      0.10.8\n",
       "importlib_metadata          NA\n",
       "ipykernel                   6.28.0\n",
       "ipython_genutils            0.2.0\n",
       "ipywidgets                  8.1.1\n",
       "isoduration                 NA\n",
       "jedi                        0.19.1\n",
       "jinja2                      3.1.2\n",
       "joblib                      1.3.2\n",
       "json5                       NA\n",
       "jsonpointer                 2.4\n",
       "jsonschema                  4.20.0\n",
       "jsonschema_specifications   NA\n",
       "jupyter_events              0.9.0\n",
       "jupyter_server              2.12.1\n",
       "jupyterlab_server           2.25.2\n",
       "jwt                         2.8.0\n",
       "kiwisolver                  1.4.5\n",
       "leidenalg                   0.10.1\n",
       "llvmlite                    0.41.0\n",
       "lz4                         4.3.2\n",
       "markupsafe                  2.1.3\n",
       "matplotlib                  3.8.0\n",
       "matplotlib_inline           0.1.6\n",
       "mpl_toolkits                NA\n",
       "mpmath                      1.3.0\n",
       "natsort                     8.4.0\n",
       "nbformat                    5.9.2\n",
       "numba                       0.58.0\n",
       "numpy                       1.24.0\n",
       "opentelemetry               NA\n",
       "overrides                   NA\n",
       "packaging                   23.2\n",
       "parso                       0.8.3\n",
       "pexpect                     4.8.0\n",
       "pickleshare                 0.7.5\n",
       "pkg_resources               NA\n",
       "platformdirs                4.1.0\n",
       "plotly                      5.18.0\n",
       "prettytable                 3.9.0\n",
       "prometheus_client           NA\n",
       "prompt_toolkit              3.0.42\n",
       "proto                       NA\n",
       "psutil                      NA\n",
       "ptyprocess                  0.7.0\n",
       "pure_eval                   0.2.2\n",
       "pyarrow                     13.0.0\n",
       "pydev_ipython               NA\n",
       "pydevconsole                NA\n",
       "pydevd                      2.9.5\n",
       "pydevd_file_utils           NA\n",
       "pydevd_plugins              NA\n",
       "pydevd_tracing              NA\n",
       "pygments                    2.17.2\n",
       "pynvml                      NA\n",
       "pyparsing                   3.1.1\n",
       "pyreadr                     0.5.0\n",
       "pythonjsonlogger            NA\n",
       "pytz                        2023.3.post1\n",
       "referencing                 NA\n",
       "requests                    2.31.0\n",
       "rfc3339_validator           0.1.4\n",
       "rfc3986_validator           0.1.1\n",
       "rpds                        NA\n",
       "scipy                       1.11.4\n",
       "send2trash                  NA\n",
       "shapely                     1.8.5.post1\n",
       "six                         1.16.0\n",
       "sklearn                     1.3.2\n",
       "sniffio                     1.3.0\n",
       "socks                       1.7.1\n",
       "sql                         NA\n",
       "sqlalchemy                  2.0.21\n",
       "sqlparse                    0.4.4\n",
       "stack_data                  0.6.2\n",
       "sympy                       1.12\n",
       "termcolor                   NA\n",
       "texttable                   1.7.0\n",
       "threadpoolctl               3.2.0\n",
       "torch                       2.1.2+cu121\n",
       "torchgen                    NA\n",
       "tornado                     6.3.3\n",
       "tqdm                        4.66.1\n",
       "traitlets                   5.9.0\n",
       "typing_extensions           NA\n",
       "uri_template                NA\n",
       "urllib3                     1.26.18\n",
       "wcwidth                     0.2.12\n",
       "webcolors                   1.13\n",
       "websocket                   1.7.0\n",
       "wrapt                       1.15.0\n",
       "xarray                      2023.12.0\n",
       "yaml                        6.0.1\n",
       "zipp                        NA\n",
       "zmq                         25.1.2\n",
       "zoneinfo                    NA\n",
       "zstandard                   0.22.0\n",
       "</pre>\n",
       "</details> <!-- seems like this ends pre, so might as well be explicit -->\n",
       "<pre>\n",
       "-----\n",
       "IPython             8.19.0\n",
       "jupyter_client      8.6.0\n",
       "jupyter_core        5.6.1\n",
       "jupyterlab          4.1.2\n",
       "notebook            6.5.4\n",
       "-----\n",
       "Python 3.10.13 | packaged by conda-forge | (main, Dec 23 2023, 15:36:39) [GCC 12.3.0]\n",
       "Linux-5.15.0-1052-gcp-x86_64-with-glibc2.31\n",
       "-----\n",
       "Session information updated at 2024-03-04 23:49\n",
       "</pre>\n",
       "</details>"
      ],
      "text/plain": [
       "<IPython.core.display.HTML object>"
      ]
     },
     "execution_count": 61,
     "metadata": {},
     "output_type": "execute_result"
    }
   ],
   "source": [
    "import session_info\n",
    "session_info.show()"
   ]
  },
  {
   "cell_type": "code",
   "execution_count": null,
   "id": "d9ee1d8a-0c87-458d-9a61-e1a8d6975f76",
   "metadata": {},
   "outputs": [],
   "source": []
  }
 ],
 "metadata": {
  "kernelspec": {
   "display_name": "Python 3 (ipykernel)",
   "language": "python",
   "name": "python3"
  },
  "language_info": {
   "codemirror_mode": {
    "name": "ipython",
    "version": 3
   },
   "file_extension": ".py",
   "mimetype": "text/x-python",
   "name": "python",
   "nbconvert_exporter": "python",
   "pygments_lexer": "ipython3",
   "version": "3.10.13"
  }
 },
 "nbformat": 4,
 "nbformat_minor": 5
}
