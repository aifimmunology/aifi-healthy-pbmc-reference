{
 "cells": [
  {
   "cell_type": "markdown",
   "id": "c8949497-c939-4158-b331-b97aa7318961",
   "metadata": {},
   "source": [
    "# Adapt T cell annotations\n",
    "\n",
    "With slightly different clustering, we need to shift the original expert cluster annotations to new cluster numbers.\n",
    "\n",
    "We can do this using the barcodes associated with each cluster."
   ]
  },
  {
   "cell_type": "code",
   "execution_count": 1,
   "id": "3d83899c-1d31-49f7-839d-3c0e280ce0d5",
   "metadata": {},
   "outputs": [],
   "source": [
    "from datetime import date\n",
    "import hisepy\n",
    "import os\n",
    "import pandas as pd\n",
    "import scanpy as sc"
   ]
  },
  {
   "cell_type": "code",
   "execution_count": 2,
   "id": "db5002e1-6607-4e1a-849c-9728755d571c",
   "metadata": {},
   "outputs": [],
   "source": [
    "def read_adata_uuid(h5ad_uuid):\n",
    "    h5ad_path = '/home/jupyter/cache/{u}'.format(u = h5ad_uuid)\n",
    "    if not os.path.isdir(h5ad_path):\n",
    "        hise_res = hisepy.reader.cache_files([h5ad_uuid])\n",
    "    h5ad_filename = os.listdir(h5ad_path)[0]\n",
    "    h5ad_file = '{p}/{f}'.format(p = h5ad_path, f = h5ad_filename)\n",
    "    adata = sc.read_h5ad(h5ad_file)\n",
    "    return adata"
   ]
  },
  {
   "cell_type": "code",
   "execution_count": 3,
   "id": "0c965851-461b-494d-bdd5-89ee6580f0f7",
   "metadata": {},
   "outputs": [],
   "source": [
    "def read_parquet_uuid(parquet_uuid):\n",
    "    pq_path = '/home/jupyter/cache/{u}'.format(u = parquet_uuid)\n",
    "    if not os.path.isdir(pq_path):\n",
    "        hise_res = hisepy.reader.cache_files([parquet_uuid])\n",
    "    pq_filename = os.listdir(pq_path)[0]\n",
    "    pq_file = '{p}/{f}'.format(p = pq_path, f = pq_filename)\n",
    "    df = pd.read_parquet(pq_file)\n",
    "    return df"
   ]
  },
  {
   "cell_type": "code",
   "execution_count": 4,
   "id": "e8473ab6-fdb9-44c0-8f39-4925a20e7169",
   "metadata": {},
   "outputs": [],
   "source": [
    "def join_anno(og_obs, new_obs, new_col):\n",
    "    new_df = new_obs[['barcodes', new_col]].copy()\n",
    "    new_df = new_df.reset_index(drop = True)\n",
    "    joint_df = new_df.merge(og_obs, how = 'left', on = 'barcodes')\n",
    "\n",
    "    return joint_df"
   ]
  },
  {
   "cell_type": "code",
   "execution_count": 5,
   "id": "447b49e4-d43e-4aba-891f-91251dd8efa1",
   "metadata": {},
   "outputs": [],
   "source": [
    "def reduce_anno(joint_df, og_anno, new_col):    \n",
    "    freq_anno = joint_df.drop('barcodes', axis = 1)\n",
    "    \n",
    "    freq_anno = (\n",
    "        freq_anno\n",
    "        .groupby(new_col)['AIFI_L3']\n",
    "        .agg(pd.Series.mode)\n",
    "        .to_frame()\n",
    "        .reset_index()\n",
    "    )\n",
    "\n",
    "    new_anno = freq_anno.merge(og_anno, how = 'left', on = 'AIFI_L3')\n",
    "\n",
    "    return(new_anno)"
   ]
  },
  {
   "cell_type": "markdown",
   "id": "90aecf2c-fd1d-430d-be40-c5fb2c31b2c1",
   "metadata": {},
   "source": [
    "Original Annotations"
   ]
  },
  {
   "cell_type": "code",
   "execution_count": 6,
   "id": "4ec90123-186c-4a9a-93ac-985d56f0ae8c",
   "metadata": {},
   "outputs": [],
   "source": [
    "og_obs_list = []\n",
    "for i in range(1, 11):\n",
    "    og_file = 'Annotation_Part_{i}.parquet'.format(i = i)\n",
    "    og_obs = pd.read_parquet(og_file)\n",
    "    og_obs_list.append(og_obs)"
   ]
  },
  {
   "cell_type": "code",
   "execution_count": 7,
   "id": "0e6033d4-c9b7-48a4-be19-cccd49464f45",
   "metadata": {},
   "outputs": [],
   "source": [
    "og_obs = pd.concat(og_obs_list)"
   ]
  },
  {
   "cell_type": "code",
   "execution_count": 8,
   "id": "6e4ef962-7692-4109-9b5a-5386ff6346f6",
   "metadata": {
    "scrolled": true
   },
   "outputs": [],
   "source": [
    "og_obs = og_obs[['barcodes',\n",
    "                 'AIFI_L1', 'AIFI_L1_Final',\n",
    "                 'AIFI_L2', 'AIFI_L2_Final',\n",
    "                 'AIFI_L3', 'AIFI_L3_Final']]\n",
    "og_obs = og_obs.reset_index(drop = True)"
   ]
  },
  {
   "cell_type": "code",
   "execution_count": 9,
   "id": "3235d069-494f-454f-80e6-fd7ed16ff661",
   "metadata": {},
   "outputs": [
    {
     "data": {
      "text/plain": [
       "(1193859, 7)"
      ]
     },
     "execution_count": 9,
     "metadata": {},
     "output_type": "execute_result"
    }
   ],
   "source": [
    "og_obs.shape"
   ]
  },
  {
   "cell_type": "code",
   "execution_count": 10,
   "id": "fd4b69f8-c437-4328-9127-5d0aa7e29055",
   "metadata": {},
   "outputs": [],
   "source": [
    "og_anno = og_obs.drop('barcodes', axis = 1).drop_duplicates()"
   ]
  },
  {
   "cell_type": "code",
   "execution_count": 11,
   "id": "04ce5fde-f814-48f2-a934-3ff1c365c83c",
   "metadata": {},
   "outputs": [],
   "source": [
    "new_anno_dict = {}"
   ]
  },
  {
   "cell_type": "markdown",
   "id": "908c19fd-ce39-4b47-a792-d3fb20ceca1b",
   "metadata": {},
   "source": [
    "## gdT cells\n",
    "\n",
    "gdT cells need to be used to filter MAIT, CD8 CM, and CD8 EM cells because we pool some TRDC+ cells from these subsets to assign identities to the gdTs. If we don't remove them, we'll double-count them."
   ]
  },
  {
   "cell_type": "markdown",
   "id": "45d221cb-04bc-4b97-bc77-d54eaa20599c",
   "metadata": {},
   "source": [
    "New clustering"
   ]
  },
  {
   "cell_type": "code",
   "execution_count": 12,
   "id": "3bb7971c-1f5c-467b-92a8-b9aa8d8d9121",
   "metadata": {},
   "outputs": [],
   "source": [
    "cell_class = 't-gd'"
   ]
  },
  {
   "cell_type": "code",
   "execution_count": 13,
   "id": "f006e9f0-23f3-4d35-a28f-ca92b885b4cd",
   "metadata": {},
   "outputs": [],
   "source": [
    "pq_uuid = 'ebedbccf-bb5f-4e9e-be6f-df6cc5fd6607'"
   ]
  },
  {
   "cell_type": "code",
   "execution_count": 14,
   "id": "8fd20e5b-b402-4ba4-9afc-87e164befb6e",
   "metadata": {},
   "outputs": [],
   "source": [
    "new_obs = read_parquet_uuid(pq_uuid)"
   ]
  },
  {
   "cell_type": "code",
   "execution_count": 15,
   "id": "f7aeb44c-ca76-4978-b3c0-2de4a7830c88",
   "metadata": {},
   "outputs": [
    {
     "data": {
      "text/plain": [
       "(54170, 56)"
      ]
     },
     "execution_count": 15,
     "metadata": {},
     "output_type": "execute_result"
    }
   ],
   "source": [
    "new_obs.shape"
   ]
  },
  {
   "cell_type": "code",
   "execution_count": 16,
   "id": "2ad2e5fc-09a3-48e8-adc3-a451e2e92def",
   "metadata": {},
   "outputs": [],
   "source": [
    "new_col = 'leiden_resolution_1.5_t-gd'"
   ]
  },
  {
   "cell_type": "markdown",
   "id": "dc89f12b-3c44-42b8-a6f9-50fa551b4133",
   "metadata": {},
   "source": [
    "Join and assign to new clusters"
   ]
  },
  {
   "cell_type": "code",
   "execution_count": 17,
   "id": "07833d73-932d-4f70-b9a1-cac9f4511419",
   "metadata": {
    "scrolled": true
   },
   "outputs": [],
   "source": [
    "joint_df = join_anno(og_obs, new_obs, new_col)"
   ]
  },
  {
   "cell_type": "code",
   "execution_count": 18,
   "id": "d3de7905-73b6-4dfd-b3ac-479f53d7c375",
   "metadata": {},
   "outputs": [
    {
     "data": {
      "text/plain": [
       "70"
      ]
     },
     "execution_count": 18,
     "metadata": {},
     "output_type": "execute_result"
    }
   ],
   "source": [
    "joint_df['AIFI_L3'].isna().sum()"
   ]
  },
  {
   "cell_type": "code",
   "execution_count": 19,
   "id": "b0077db2-a5db-4ecf-9804-589cfddabe9d",
   "metadata": {},
   "outputs": [
    {
     "data": {
      "text/html": [
       "<div>\n",
       "<style scoped>\n",
       "    .dataframe tbody tr th:only-of-type {\n",
       "        vertical-align: middle;\n",
       "    }\n",
       "\n",
       "    .dataframe tbody tr th {\n",
       "        vertical-align: top;\n",
       "    }\n",
       "\n",
       "    .dataframe thead th {\n",
       "        text-align: right;\n",
       "    }\n",
       "</style>\n",
       "<table border=\"1\" class=\"dataframe\">\n",
       "  <thead>\n",
       "    <tr style=\"text-align: right;\">\n",
       "      <th></th>\n",
       "      <th>barcodes</th>\n",
       "      <th>leiden_resolution_1.5_t-gd</th>\n",
       "      <th>AIFI_L1</th>\n",
       "      <th>AIFI_L1_Final</th>\n",
       "      <th>AIFI_L2</th>\n",
       "      <th>AIFI_L2_Final</th>\n",
       "      <th>AIFI_L3</th>\n",
       "      <th>AIFI_L3_Final</th>\n",
       "    </tr>\n",
       "  </thead>\n",
       "  <tbody>\n",
       "    <tr>\n",
       "      <th>0</th>\n",
       "      <td>cf7365ee48b611ea8957bafe6d70929e</td>\n",
       "      <td>7</td>\n",
       "      <td>NK cell</td>\n",
       "      <td>Yes</td>\n",
       "      <td>CD56dim NK cell</td>\n",
       "      <td>Yes</td>\n",
       "      <td>Adaptive NK cell</td>\n",
       "      <td>Yes</td>\n",
       "    </tr>\n",
       "    <tr>\n",
       "      <th>1</th>\n",
       "      <td>cf73841648b611ea8957bafe6d70929e</td>\n",
       "      <td>7</td>\n",
       "      <td>NK cell</td>\n",
       "      <td>Yes</td>\n",
       "      <td>CD56dim NK cell</td>\n",
       "      <td>Yes</td>\n",
       "      <td>Adaptive NK cell</td>\n",
       "      <td>Yes</td>\n",
       "    </tr>\n",
       "    <tr>\n",
       "      <th>2</th>\n",
       "      <td>cf74a06c48b611ea8957bafe6d70929e</td>\n",
       "      <td>1</td>\n",
       "      <td>T cell</td>\n",
       "      <td>Yes</td>\n",
       "      <td>gdT</td>\n",
       "      <td>Yes</td>\n",
       "      <td>GZMK+ Vd2 gdT</td>\n",
       "      <td>Yes</td>\n",
       "    </tr>\n",
       "    <tr>\n",
       "      <th>3</th>\n",
       "      <td>cf74f51248b611ea8957bafe6d70929e</td>\n",
       "      <td>3</td>\n",
       "      <td>T cell</td>\n",
       "      <td>Yes</td>\n",
       "      <td>gdT</td>\n",
       "      <td>Yes</td>\n",
       "      <td>GZMB+ Vd2 gdT</td>\n",
       "      <td>Yes</td>\n",
       "    </tr>\n",
       "    <tr>\n",
       "      <th>4</th>\n",
       "      <td>cf765bbe48b611ea8957bafe6d70929e</td>\n",
       "      <td>3</td>\n",
       "      <td>T cell</td>\n",
       "      <td>Yes</td>\n",
       "      <td>gdT</td>\n",
       "      <td>Yes</td>\n",
       "      <td>GZMB+ Vd2 gdT</td>\n",
       "      <td>Yes</td>\n",
       "    </tr>\n",
       "  </tbody>\n",
       "</table>\n",
       "</div>"
      ],
      "text/plain": [
       "                           barcodes leiden_resolution_1.5_t-gd  AIFI_L1  \\\n",
       "0  cf7365ee48b611ea8957bafe6d70929e                          7  NK cell   \n",
       "1  cf73841648b611ea8957bafe6d70929e                          7  NK cell   \n",
       "2  cf74a06c48b611ea8957bafe6d70929e                          1   T cell   \n",
       "3  cf74f51248b611ea8957bafe6d70929e                          3   T cell   \n",
       "4  cf765bbe48b611ea8957bafe6d70929e                          3   T cell   \n",
       "\n",
       "  AIFI_L1_Final          AIFI_L2 AIFI_L2_Final           AIFI_L3 AIFI_L3_Final  \n",
       "0           Yes  CD56dim NK cell           Yes  Adaptive NK cell           Yes  \n",
       "1           Yes  CD56dim NK cell           Yes  Adaptive NK cell           Yes  \n",
       "2           Yes              gdT           Yes     GZMK+ Vd2 gdT           Yes  \n",
       "3           Yes              gdT           Yes     GZMB+ Vd2 gdT           Yes  \n",
       "4           Yes              gdT           Yes     GZMB+ Vd2 gdT           Yes  "
      ]
     },
     "execution_count": 19,
     "metadata": {},
     "output_type": "execute_result"
    }
   ],
   "source": [
    "joint_df.head()"
   ]
  },
  {
   "cell_type": "code",
   "execution_count": 20,
   "id": "4d6c85ae-3814-4d9b-a649-25efbcee5069",
   "metadata": {},
   "outputs": [
    {
     "name": "stderr",
     "output_type": "stream",
     "text": [
      "/tmp/ipykernel_14191/460635200.py:6: FutureWarning: The default of observed=False is deprecated and will be changed to True in a future version of pandas. Pass observed=False to retain current behavior or observed=True to adopt the future default and silence this warning.\n",
      "  .groupby(new_col)['AIFI_L3']\n"
     ]
    }
   ],
   "source": [
    "label_df = reduce_anno(joint_df, og_anno, new_col)"
   ]
  },
  {
   "cell_type": "code",
   "execution_count": 21,
   "id": "34b51af6-0ace-4996-a73b-8278280a5f4d",
   "metadata": {},
   "outputs": [
    {
     "data": {
      "text/html": [
       "<div>\n",
       "<style scoped>\n",
       "    .dataframe tbody tr th:only-of-type {\n",
       "        vertical-align: middle;\n",
       "    }\n",
       "\n",
       "    .dataframe tbody tr th {\n",
       "        vertical-align: top;\n",
       "    }\n",
       "\n",
       "    .dataframe thead th {\n",
       "        text-align: right;\n",
       "    }\n",
       "</style>\n",
       "<table border=\"1\" class=\"dataframe\">\n",
       "  <thead>\n",
       "    <tr style=\"text-align: right;\">\n",
       "      <th></th>\n",
       "      <th>leiden_resolution_1.5_t-gd</th>\n",
       "      <th>AIFI_L3</th>\n",
       "      <th>AIFI_L1</th>\n",
       "      <th>AIFI_L1_Final</th>\n",
       "      <th>AIFI_L2</th>\n",
       "      <th>AIFI_L2_Final</th>\n",
       "      <th>AIFI_L3_Final</th>\n",
       "    </tr>\n",
       "  </thead>\n",
       "  <tbody>\n",
       "    <tr>\n",
       "      <th>0</th>\n",
       "      <td>0</td>\n",
       "      <td>GZMK+ Vd2 gdT</td>\n",
       "      <td>T cell</td>\n",
       "      <td>Yes</td>\n",
       "      <td>gdT</td>\n",
       "      <td>Yes</td>\n",
       "      <td>Yes</td>\n",
       "    </tr>\n",
       "    <tr>\n",
       "      <th>1</th>\n",
       "      <td>1</td>\n",
       "      <td>GZMK+ Vd2 gdT</td>\n",
       "      <td>T cell</td>\n",
       "      <td>Yes</td>\n",
       "      <td>gdT</td>\n",
       "      <td>Yes</td>\n",
       "      <td>Yes</td>\n",
       "    </tr>\n",
       "    <tr>\n",
       "      <th>2</th>\n",
       "      <td>2</td>\n",
       "      <td>GZMB+ Vd2 gdT</td>\n",
       "      <td>T cell</td>\n",
       "      <td>Yes</td>\n",
       "      <td>gdT</td>\n",
       "      <td>Yes</td>\n",
       "      <td>Yes</td>\n",
       "    </tr>\n",
       "    <tr>\n",
       "      <th>3</th>\n",
       "      <td>3</td>\n",
       "      <td>GZMB+ Vd2 gdT</td>\n",
       "      <td>T cell</td>\n",
       "      <td>Yes</td>\n",
       "      <td>gdT</td>\n",
       "      <td>Yes</td>\n",
       "      <td>Yes</td>\n",
       "    </tr>\n",
       "    <tr>\n",
       "      <th>4</th>\n",
       "      <td>4</td>\n",
       "      <td>KLRF1+ effector Vd1 gdT</td>\n",
       "      <td>T cell</td>\n",
       "      <td>Yes</td>\n",
       "      <td>gdT</td>\n",
       "      <td>Yes</td>\n",
       "      <td>Yes</td>\n",
       "    </tr>\n",
       "    <tr>\n",
       "      <th>5</th>\n",
       "      <td>5</td>\n",
       "      <td>Naive Vd1 gdT</td>\n",
       "      <td>T cell</td>\n",
       "      <td>Yes</td>\n",
       "      <td>gdT</td>\n",
       "      <td>Yes</td>\n",
       "      <td>Yes</td>\n",
       "    </tr>\n",
       "    <tr>\n",
       "      <th>6</th>\n",
       "      <td>6</td>\n",
       "      <td>KLRF1- effector Vd1 gdT</td>\n",
       "      <td>T cell</td>\n",
       "      <td>Yes</td>\n",
       "      <td>gdT</td>\n",
       "      <td>Yes</td>\n",
       "      <td>Yes</td>\n",
       "    </tr>\n",
       "    <tr>\n",
       "      <th>7</th>\n",
       "      <td>7</td>\n",
       "      <td>Adaptive NK cell</td>\n",
       "      <td>NK cell</td>\n",
       "      <td>Yes</td>\n",
       "      <td>CD56dim NK cell</td>\n",
       "      <td>Yes</td>\n",
       "      <td>Yes</td>\n",
       "    </tr>\n",
       "    <tr>\n",
       "      <th>8</th>\n",
       "      <td>8</td>\n",
       "      <td>GZMK+ Vd2 gdT</td>\n",
       "      <td>T cell</td>\n",
       "      <td>Yes</td>\n",
       "      <td>gdT</td>\n",
       "      <td>Yes</td>\n",
       "      <td>Yes</td>\n",
       "    </tr>\n",
       "    <tr>\n",
       "      <th>9</th>\n",
       "      <td>9</td>\n",
       "      <td>GZMB+ Vd2 gdT</td>\n",
       "      <td>T cell</td>\n",
       "      <td>Yes</td>\n",
       "      <td>gdT</td>\n",
       "      <td>Yes</td>\n",
       "      <td>Yes</td>\n",
       "    </tr>\n",
       "    <tr>\n",
       "      <th>10</th>\n",
       "      <td>10</td>\n",
       "      <td>GZMB+ Vd2 gdT</td>\n",
       "      <td>T cell</td>\n",
       "      <td>Yes</td>\n",
       "      <td>gdT</td>\n",
       "      <td>Yes</td>\n",
       "      <td>Yes</td>\n",
       "    </tr>\n",
       "    <tr>\n",
       "      <th>11</th>\n",
       "      <td>11</td>\n",
       "      <td>SOX4+ Vd1 gdT</td>\n",
       "      <td>T cell</td>\n",
       "      <td>Yes</td>\n",
       "      <td>gdT</td>\n",
       "      <td>Yes</td>\n",
       "      <td>Yes</td>\n",
       "    </tr>\n",
       "    <tr>\n",
       "      <th>12</th>\n",
       "      <td>12</td>\n",
       "      <td>GZMB+ Vd2 gdT</td>\n",
       "      <td>T cell</td>\n",
       "      <td>Yes</td>\n",
       "      <td>gdT</td>\n",
       "      <td>Yes</td>\n",
       "      <td>Yes</td>\n",
       "    </tr>\n",
       "    <tr>\n",
       "      <th>13</th>\n",
       "      <td>13</td>\n",
       "      <td>GZMK+ Vd2 gdT</td>\n",
       "      <td>T cell</td>\n",
       "      <td>Yes</td>\n",
       "      <td>gdT</td>\n",
       "      <td>Yes</td>\n",
       "      <td>Yes</td>\n",
       "    </tr>\n",
       "    <tr>\n",
       "      <th>14</th>\n",
       "      <td>14</td>\n",
       "      <td>GZMB+ Vd2 gdT</td>\n",
       "      <td>T cell</td>\n",
       "      <td>Yes</td>\n",
       "      <td>gdT</td>\n",
       "      <td>Yes</td>\n",
       "      <td>Yes</td>\n",
       "    </tr>\n",
       "    <tr>\n",
       "      <th>15</th>\n",
       "      <td>15</td>\n",
       "      <td>GZMK+ Vd2 gdT</td>\n",
       "      <td>T cell</td>\n",
       "      <td>Yes</td>\n",
       "      <td>gdT</td>\n",
       "      <td>Yes</td>\n",
       "      <td>Yes</td>\n",
       "    </tr>\n",
       "    <tr>\n",
       "      <th>16</th>\n",
       "      <td>16</td>\n",
       "      <td>GZMK+ Vd2 gdT</td>\n",
       "      <td>T cell</td>\n",
       "      <td>Yes</td>\n",
       "      <td>gdT</td>\n",
       "      <td>Yes</td>\n",
       "      <td>Yes</td>\n",
       "    </tr>\n",
       "  </tbody>\n",
       "</table>\n",
       "</div>"
      ],
      "text/plain": [
       "   leiden_resolution_1.5_t-gd                  AIFI_L3  AIFI_L1 AIFI_L1_Final  \\\n",
       "0                           0            GZMK+ Vd2 gdT   T cell           Yes   \n",
       "1                           1            GZMK+ Vd2 gdT   T cell           Yes   \n",
       "2                           2            GZMB+ Vd2 gdT   T cell           Yes   \n",
       "3                           3            GZMB+ Vd2 gdT   T cell           Yes   \n",
       "4                           4  KLRF1+ effector Vd1 gdT   T cell           Yes   \n",
       "5                           5            Naive Vd1 gdT   T cell           Yes   \n",
       "6                           6  KLRF1- effector Vd1 gdT   T cell           Yes   \n",
       "7                           7         Adaptive NK cell  NK cell           Yes   \n",
       "8                           8            GZMK+ Vd2 gdT   T cell           Yes   \n",
       "9                           9            GZMB+ Vd2 gdT   T cell           Yes   \n",
       "10                         10            GZMB+ Vd2 gdT   T cell           Yes   \n",
       "11                         11            SOX4+ Vd1 gdT   T cell           Yes   \n",
       "12                         12            GZMB+ Vd2 gdT   T cell           Yes   \n",
       "13                         13            GZMK+ Vd2 gdT   T cell           Yes   \n",
       "14                         14            GZMB+ Vd2 gdT   T cell           Yes   \n",
       "15                         15            GZMK+ Vd2 gdT   T cell           Yes   \n",
       "16                         16            GZMK+ Vd2 gdT   T cell           Yes   \n",
       "\n",
       "            AIFI_L2 AIFI_L2_Final AIFI_L3_Final  \n",
       "0               gdT           Yes           Yes  \n",
       "1               gdT           Yes           Yes  \n",
       "2               gdT           Yes           Yes  \n",
       "3               gdT           Yes           Yes  \n",
       "4               gdT           Yes           Yes  \n",
       "5               gdT           Yes           Yes  \n",
       "6               gdT           Yes           Yes  \n",
       "7   CD56dim NK cell           Yes           Yes  \n",
       "8               gdT           Yes           Yes  \n",
       "9               gdT           Yes           Yes  \n",
       "10              gdT           Yes           Yes  \n",
       "11              gdT           Yes           Yes  \n",
       "12              gdT           Yes           Yes  \n",
       "13              gdT           Yes           Yes  \n",
       "14              gdT           Yes           Yes  \n",
       "15              gdT           Yes           Yes  \n",
       "16              gdT           Yes           Yes  "
      ]
     },
     "execution_count": 21,
     "metadata": {},
     "output_type": "execute_result"
    }
   ],
   "source": [
    "label_df"
   ]
  },
  {
   "cell_type": "code",
   "execution_count": 22,
   "id": "4fd4e711-4152-4554-902f-88551889c73b",
   "metadata": {},
   "outputs": [],
   "source": [
    "out_dir = '../04-Annotation/annotations/'\n",
    "out_file = '{p}/pbmc_ref_{c}_annotations_{d}.csv'.format(\n",
    "    p = out_dir,\n",
    "    c = cell_class,\n",
    "    d = date.today()\n",
    ")\n",
    "label_df.to_csv(out_file)"
   ]
  },
  {
   "cell_type": "code",
   "execution_count": 23,
   "id": "d3e04ea6-dc8a-4933-85c3-91823d441f96",
   "metadata": {},
   "outputs": [
    {
     "name": "stderr",
     "output_type": "stream",
     "text": [
      "/opt/conda/lib/python3.10/site-packages/pandas/core/arrays/categorical.py:568: RuntimeWarning: invalid value encountered in cast\n",
      "  np.array(self.categories._na_value).astype(dtype)\n"
     ]
    }
   ],
   "source": [
    "new_anno = new_obs[['barcodes', new_col]]\n",
    "new_anno = new_anno.merge(label_df, on = new_col, how = 'left')\n",
    "new_anno = new_anno.rename({new_col: 'label_cl'}, axis = 1)\n",
    "new_anno['label_cl'] = new_anno['label_cl'].astype(str)\n",
    "new_anno['label_cl'] = [new_col + '_cl' + x for x in new_anno['label_cl']]\n",
    "new_anno_dict[cell_class] = new_anno"
   ]
  },
  {
   "cell_type": "markdown",
   "id": "35eaa63a-ce90-49bb-b339-5221c83fcae4",
   "metadata": {},
   "source": [
    "For filtering"
   ]
  },
  {
   "cell_type": "code",
   "execution_count": 24,
   "id": "4ccc31e9-1f96-4c0b-9f71-8d627f39e6c5",
   "metadata": {},
   "outputs": [],
   "source": [
    "gdt_bc = joint_df['barcodes'].to_list()"
   ]
  },
  {
   "cell_type": "code",
   "execution_count": 25,
   "id": "4f90db63-e5d9-42ec-a404-423209aa81a3",
   "metadata": {},
   "outputs": [
    {
     "data": {
      "text/plain": [
       "['cf7365ee48b611ea8957bafe6d70929e',\n",
       " 'cf73841648b611ea8957bafe6d70929e',\n",
       " 'cf74a06c48b611ea8957bafe6d70929e',\n",
       " 'cf74f51248b611ea8957bafe6d70929e',\n",
       " 'cf765bbe48b611ea8957bafe6d70929e']"
      ]
     },
     "execution_count": 25,
     "metadata": {},
     "output_type": "execute_result"
    }
   ],
   "source": [
    "gdt_bc[0:5]"
   ]
  },
  {
   "cell_type": "markdown",
   "id": "ccdede36-b153-4c7e-86da-f1910de11768",
   "metadata": {},
   "source": [
    "## Naive CD4 T cells"
   ]
  },
  {
   "cell_type": "markdown",
   "id": "048dc49a-a1e7-49ab-8f87-ddadb0eb9433",
   "metadata": {},
   "source": [
    "New clustering"
   ]
  },
  {
   "cell_type": "code",
   "execution_count": 26,
   "id": "9b52c79c-50bb-4abb-8001-63369edcdf0c",
   "metadata": {},
   "outputs": [],
   "source": [
    "cell_class = 't-cd4-naive'"
   ]
  },
  {
   "cell_type": "code",
   "execution_count": 27,
   "id": "d6166dc8-e3d5-436e-8ece-931f62c5be28",
   "metadata": {},
   "outputs": [],
   "source": [
    "pq_uuid = '979c9314-5c4f-4da2-a674-cc099cd06412'"
   ]
  },
  {
   "cell_type": "code",
   "execution_count": 28,
   "id": "9fe3fc48-dd8d-4875-ae29-411c9ac15275",
   "metadata": {},
   "outputs": [],
   "source": [
    "new_obs = read_parquet_uuid(pq_uuid)"
   ]
  },
  {
   "cell_type": "code",
   "execution_count": 29,
   "id": "a1ab66c8-3c69-40ec-a243-ace668363b8b",
   "metadata": {},
   "outputs": [],
   "source": [
    "new_col = 'leiden_resolution_1.5_t-cd4-naive'"
   ]
  },
  {
   "cell_type": "markdown",
   "id": "d383b22a-be64-4708-ab2c-e5a18daceb74",
   "metadata": {},
   "source": [
    "Join and assign to new clusters"
   ]
  },
  {
   "cell_type": "code",
   "execution_count": 30,
   "id": "cecb7a53-9e9e-4093-8bdd-c52cfa73786e",
   "metadata": {},
   "outputs": [],
   "source": [
    "joint_df = join_anno(og_obs, new_obs, new_col)"
   ]
  },
  {
   "cell_type": "code",
   "execution_count": 31,
   "id": "f6bd70ec-3cbe-4720-85c2-ead12dbdadd0",
   "metadata": {},
   "outputs": [
    {
     "data": {
      "text/plain": [
       "(389874, 8)"
      ]
     },
     "execution_count": 31,
     "metadata": {},
     "output_type": "execute_result"
    }
   ],
   "source": [
    "joint_df.shape"
   ]
  },
  {
   "cell_type": "code",
   "execution_count": 32,
   "id": "389f568d-545e-44f7-ada1-cc67b5074212",
   "metadata": {},
   "outputs": [
    {
     "data": {
      "text/plain": [
       "29"
      ]
     },
     "execution_count": 32,
     "metadata": {},
     "output_type": "execute_result"
    }
   ],
   "source": [
    "joint_df['AIFI_L3'].isna().sum()"
   ]
  },
  {
   "cell_type": "code",
   "execution_count": 33,
   "id": "ddf57fb7-fcd0-4b02-bf00-7e8e933cb367",
   "metadata": {},
   "outputs": [
    {
     "name": "stderr",
     "output_type": "stream",
     "text": [
      "/tmp/ipykernel_14191/460635200.py:6: FutureWarning: The default of observed=False is deprecated and will be changed to True in a future version of pandas. Pass observed=False to retain current behavior or observed=True to adopt the future default and silence this warning.\n",
      "  .groupby(new_col)['AIFI_L3']\n"
     ]
    }
   ],
   "source": [
    "label_df = reduce_anno(joint_df, og_anno, new_col)"
   ]
  },
  {
   "cell_type": "code",
   "execution_count": 34,
   "id": "b50ece91-1847-476c-b419-0f0920c390b6",
   "metadata": {},
   "outputs": [
    {
     "data": {
      "text/html": [
       "<div>\n",
       "<style scoped>\n",
       "    .dataframe tbody tr th:only-of-type {\n",
       "        vertical-align: middle;\n",
       "    }\n",
       "\n",
       "    .dataframe tbody tr th {\n",
       "        vertical-align: top;\n",
       "    }\n",
       "\n",
       "    .dataframe thead th {\n",
       "        text-align: right;\n",
       "    }\n",
       "</style>\n",
       "<table border=\"1\" class=\"dataframe\">\n",
       "  <thead>\n",
       "    <tr style=\"text-align: right;\">\n",
       "      <th></th>\n",
       "      <th>leiden_resolution_1.5_t-cd4-naive</th>\n",
       "      <th>AIFI_L3</th>\n",
       "      <th>AIFI_L1</th>\n",
       "      <th>AIFI_L1_Final</th>\n",
       "      <th>AIFI_L2</th>\n",
       "      <th>AIFI_L2_Final</th>\n",
       "      <th>AIFI_L3_Final</th>\n",
       "    </tr>\n",
       "  </thead>\n",
       "  <tbody>\n",
       "    <tr>\n",
       "      <th>0</th>\n",
       "      <td>0</td>\n",
       "      <td>Core naive CD4 T cell</td>\n",
       "      <td>T cell</td>\n",
       "      <td>Yes</td>\n",
       "      <td>Naive CD4 T cell</td>\n",
       "      <td>Yes</td>\n",
       "      <td>Yes</td>\n",
       "    </tr>\n",
       "    <tr>\n",
       "      <th>1</th>\n",
       "      <td>1</td>\n",
       "      <td>Core naive CD4 T cell</td>\n",
       "      <td>T cell</td>\n",
       "      <td>Yes</td>\n",
       "      <td>Naive CD4 T cell</td>\n",
       "      <td>Yes</td>\n",
       "      <td>Yes</td>\n",
       "    </tr>\n",
       "    <tr>\n",
       "      <th>2</th>\n",
       "      <td>2</td>\n",
       "      <td>Core naive CD4 T cell</td>\n",
       "      <td>T cell</td>\n",
       "      <td>Yes</td>\n",
       "      <td>Naive CD4 T cell</td>\n",
       "      <td>Yes</td>\n",
       "      <td>Yes</td>\n",
       "    </tr>\n",
       "    <tr>\n",
       "      <th>3</th>\n",
       "      <td>3</td>\n",
       "      <td>Core naive CD4 T cell</td>\n",
       "      <td>T cell</td>\n",
       "      <td>Yes</td>\n",
       "      <td>Naive CD4 T cell</td>\n",
       "      <td>Yes</td>\n",
       "      <td>Yes</td>\n",
       "    </tr>\n",
       "    <tr>\n",
       "      <th>4</th>\n",
       "      <td>4</td>\n",
       "      <td>Core naive CD4 T cell</td>\n",
       "      <td>T cell</td>\n",
       "      <td>Yes</td>\n",
       "      <td>Naive CD4 T cell</td>\n",
       "      <td>Yes</td>\n",
       "      <td>Yes</td>\n",
       "    </tr>\n",
       "    <tr>\n",
       "      <th>5</th>\n",
       "      <td>5</td>\n",
       "      <td>Core naive CD4 T cell</td>\n",
       "      <td>T cell</td>\n",
       "      <td>Yes</td>\n",
       "      <td>Naive CD4 T cell</td>\n",
       "      <td>Yes</td>\n",
       "      <td>Yes</td>\n",
       "    </tr>\n",
       "    <tr>\n",
       "      <th>6</th>\n",
       "      <td>6</td>\n",
       "      <td>Core naive CD4 T cell</td>\n",
       "      <td>T cell</td>\n",
       "      <td>Yes</td>\n",
       "      <td>Naive CD4 T cell</td>\n",
       "      <td>Yes</td>\n",
       "      <td>Yes</td>\n",
       "    </tr>\n",
       "    <tr>\n",
       "      <th>7</th>\n",
       "      <td>7</td>\n",
       "      <td>SOX4+ naive CD4 T cell</td>\n",
       "      <td>T cell</td>\n",
       "      <td>Yes</td>\n",
       "      <td>Naive CD4 T cell</td>\n",
       "      <td>Yes</td>\n",
       "      <td>Yes</td>\n",
       "    </tr>\n",
       "    <tr>\n",
       "      <th>8</th>\n",
       "      <td>8</td>\n",
       "      <td>Core naive CD4 T cell</td>\n",
       "      <td>T cell</td>\n",
       "      <td>Yes</td>\n",
       "      <td>Naive CD4 T cell</td>\n",
       "      <td>Yes</td>\n",
       "      <td>Yes</td>\n",
       "    </tr>\n",
       "    <tr>\n",
       "      <th>9</th>\n",
       "      <td>9</td>\n",
       "      <td>Naive CD8 T cell Platelet Doublets</td>\n",
       "      <td>T cell</td>\n",
       "      <td>Yes</td>\n",
       "      <td>Naive CD8 T cell Platelet Doublets</td>\n",
       "      <td>Yes</td>\n",
       "      <td>Yes</td>\n",
       "    </tr>\n",
       "    <tr>\n",
       "      <th>10</th>\n",
       "      <td>10</td>\n",
       "      <td>Core naive CD4 T cell</td>\n",
       "      <td>T cell</td>\n",
       "      <td>Yes</td>\n",
       "      <td>Naive CD4 T cell</td>\n",
       "      <td>Yes</td>\n",
       "      <td>Yes</td>\n",
       "    </tr>\n",
       "    <tr>\n",
       "      <th>11</th>\n",
       "      <td>11</td>\n",
       "      <td>CD4 naive Platelet Doublets</td>\n",
       "      <td>T cell</td>\n",
       "      <td>Yes</td>\n",
       "      <td>CD4 naive Platelet Doublets</td>\n",
       "      <td>Yes</td>\n",
       "      <td>Yes</td>\n",
       "    </tr>\n",
       "    <tr>\n",
       "      <th>12</th>\n",
       "      <td>12</td>\n",
       "      <td>Core naive CD4 T cell</td>\n",
       "      <td>T cell</td>\n",
       "      <td>Yes</td>\n",
       "      <td>Naive CD4 T cell</td>\n",
       "      <td>Yes</td>\n",
       "      <td>Yes</td>\n",
       "    </tr>\n",
       "    <tr>\n",
       "      <th>13</th>\n",
       "      <td>13</td>\n",
       "      <td>Core naive CD4 T cell</td>\n",
       "      <td>T cell</td>\n",
       "      <td>Yes</td>\n",
       "      <td>Naive CD4 T cell</td>\n",
       "      <td>Yes</td>\n",
       "      <td>Yes</td>\n",
       "    </tr>\n",
       "    <tr>\n",
       "      <th>14</th>\n",
       "      <td>14</td>\n",
       "      <td>CD4 naive CD16 Monocytes Doublets</td>\n",
       "      <td>T cell</td>\n",
       "      <td>Yes</td>\n",
       "      <td>CD4 naive CD16 Monocytes Doublets</td>\n",
       "      <td>Yes</td>\n",
       "      <td>Yes</td>\n",
       "    </tr>\n",
       "    <tr>\n",
       "      <th>15</th>\n",
       "      <td>15</td>\n",
       "      <td>Core naive CD4 T cell</td>\n",
       "      <td>T cell</td>\n",
       "      <td>Yes</td>\n",
       "      <td>Naive CD4 T cell</td>\n",
       "      <td>Yes</td>\n",
       "      <td>Yes</td>\n",
       "    </tr>\n",
       "  </tbody>\n",
       "</table>\n",
       "</div>"
      ],
      "text/plain": [
       "   leiden_resolution_1.5_t-cd4-naive                             AIFI_L3  \\\n",
       "0                                  0               Core naive CD4 T cell   \n",
       "1                                  1               Core naive CD4 T cell   \n",
       "2                                  2               Core naive CD4 T cell   \n",
       "3                                  3               Core naive CD4 T cell   \n",
       "4                                  4               Core naive CD4 T cell   \n",
       "5                                  5               Core naive CD4 T cell   \n",
       "6                                  6               Core naive CD4 T cell   \n",
       "7                                  7              SOX4+ naive CD4 T cell   \n",
       "8                                  8               Core naive CD4 T cell   \n",
       "9                                  9  Naive CD8 T cell Platelet Doublets   \n",
       "10                                10               Core naive CD4 T cell   \n",
       "11                                11         CD4 naive Platelet Doublets   \n",
       "12                                12               Core naive CD4 T cell   \n",
       "13                                13               Core naive CD4 T cell   \n",
       "14                                14   CD4 naive CD16 Monocytes Doublets   \n",
       "15                                15               Core naive CD4 T cell   \n",
       "\n",
       "   AIFI_L1 AIFI_L1_Final                             AIFI_L2 AIFI_L2_Final  \\\n",
       "0   T cell           Yes                    Naive CD4 T cell           Yes   \n",
       "1   T cell           Yes                    Naive CD4 T cell           Yes   \n",
       "2   T cell           Yes                    Naive CD4 T cell           Yes   \n",
       "3   T cell           Yes                    Naive CD4 T cell           Yes   \n",
       "4   T cell           Yes                    Naive CD4 T cell           Yes   \n",
       "5   T cell           Yes                    Naive CD4 T cell           Yes   \n",
       "6   T cell           Yes                    Naive CD4 T cell           Yes   \n",
       "7   T cell           Yes                    Naive CD4 T cell           Yes   \n",
       "8   T cell           Yes                    Naive CD4 T cell           Yes   \n",
       "9   T cell           Yes  Naive CD8 T cell Platelet Doublets           Yes   \n",
       "10  T cell           Yes                    Naive CD4 T cell           Yes   \n",
       "11  T cell           Yes         CD4 naive Platelet Doublets           Yes   \n",
       "12  T cell           Yes                    Naive CD4 T cell           Yes   \n",
       "13  T cell           Yes                    Naive CD4 T cell           Yes   \n",
       "14  T cell           Yes   CD4 naive CD16 Monocytes Doublets           Yes   \n",
       "15  T cell           Yes                    Naive CD4 T cell           Yes   \n",
       "\n",
       "   AIFI_L3_Final  \n",
       "0            Yes  \n",
       "1            Yes  \n",
       "2            Yes  \n",
       "3            Yes  \n",
       "4            Yes  \n",
       "5            Yes  \n",
       "6            Yes  \n",
       "7            Yes  \n",
       "8            Yes  \n",
       "9            Yes  \n",
       "10           Yes  \n",
       "11           Yes  \n",
       "12           Yes  \n",
       "13           Yes  \n",
       "14           Yes  \n",
       "15           Yes  "
      ]
     },
     "execution_count": 34,
     "metadata": {},
     "output_type": "execute_result"
    }
   ],
   "source": [
    "label_df"
   ]
  },
  {
   "cell_type": "code",
   "execution_count": 35,
   "id": "949f5bc3-b150-403f-9e35-6ac2cb39da37",
   "metadata": {},
   "outputs": [],
   "source": [
    "out_dir = '../04-Annotation/annotations/'\n",
    "out_file = '{p}/pbmc_ref_{c}_annotations_{d}.csv'.format(\n",
    "    p = out_dir,\n",
    "    c = cell_class,\n",
    "    d = date.today()\n",
    ")\n",
    "label_df.to_csv(out_file)"
   ]
  },
  {
   "cell_type": "code",
   "execution_count": 36,
   "id": "e06c263b-8c87-47ec-9e17-0c74c0811210",
   "metadata": {},
   "outputs": [
    {
     "name": "stderr",
     "output_type": "stream",
     "text": [
      "/opt/conda/lib/python3.10/site-packages/pandas/core/arrays/categorical.py:568: RuntimeWarning: invalid value encountered in cast\n",
      "  np.array(self.categories._na_value).astype(dtype)\n"
     ]
    }
   ],
   "source": [
    "new_anno = new_obs[['barcodes', new_col]]\n",
    "new_anno = new_anno.merge(label_df, on = new_col, how = 'left')\n",
    "new_anno = new_anno.rename({new_col: 'label_cl'}, axis = 1)\n",
    "new_anno['label_cl'] = new_anno['label_cl'].astype(str)\n",
    "new_anno['label_cl'] = [new_col + '_cl' + x for x in new_anno['label_cl']]\n",
    "new_anno_dict[cell_class] = new_anno"
   ]
  },
  {
   "cell_type": "markdown",
   "id": "9b2bf0b2-1ef2-4673-8df1-361ac38faac4",
   "metadata": {},
   "source": [
    "## MAIT cells"
   ]
  },
  {
   "cell_type": "markdown",
   "id": "2fe31eaf-1ac5-4efc-b87b-d73c1ec3af07",
   "metadata": {},
   "source": [
    "New clustering"
   ]
  },
  {
   "cell_type": "code",
   "execution_count": 37,
   "id": "5942794c-9da2-4c46-a3c8-0644b0b38682",
   "metadata": {},
   "outputs": [],
   "source": [
    "cell_class = 't-mait'"
   ]
  },
  {
   "cell_type": "code",
   "execution_count": 38,
   "id": "3b0e3ed8-76a7-4b92-9a1b-c391dce14a66",
   "metadata": {},
   "outputs": [],
   "source": [
    "pq_uuid = 'a1ecdac3-1332-4411-a135-41b94977b6c0'"
   ]
  },
  {
   "cell_type": "code",
   "execution_count": 39,
   "id": "465b9e7e-6f04-4ca7-8979-5503f3e15e05",
   "metadata": {},
   "outputs": [],
   "source": [
    "new_obs = read_parquet_uuid(pq_uuid)"
   ]
  },
  {
   "cell_type": "markdown",
   "id": "045e72cb-434d-4bd9-bfb5-be06f17a639d",
   "metadata": {},
   "source": [
    "Remove gdT cells"
   ]
  },
  {
   "cell_type": "code",
   "execution_count": 40,
   "id": "135dbfbf-6735-4f1f-868c-8227bacc02d4",
   "metadata": {},
   "outputs": [],
   "source": [
    "keep_bc = [not x for x in new_obs['barcodes'].isin(gdt_bc)]"
   ]
  },
  {
   "cell_type": "code",
   "execution_count": 41,
   "id": "d876f397-501a-4472-a957-843b3d616012",
   "metadata": {},
   "outputs": [
    {
     "data": {
      "text/plain": [
       "48027"
      ]
     },
     "execution_count": 41,
     "metadata": {},
     "output_type": "execute_result"
    }
   ],
   "source": [
    "sum(keep_bc)"
   ]
  },
  {
   "cell_type": "code",
   "execution_count": 42,
   "id": "8d1f6a5b-8c98-4476-9c94-9d28dcfa8fcb",
   "metadata": {},
   "outputs": [],
   "source": [
    "new_obs = new_obs[keep_bc]"
   ]
  },
  {
   "cell_type": "code",
   "execution_count": 43,
   "id": "3198f178-5561-412f-9395-5bd6c04f11be",
   "metadata": {},
   "outputs": [],
   "source": [
    "new_col = 'leiden_resolution_1.5_t-mait'"
   ]
  },
  {
   "cell_type": "markdown",
   "id": "ab1035e9-87fd-4f54-bf78-5e78ae3a36aa",
   "metadata": {},
   "source": [
    "Join and assign to new clusters"
   ]
  },
  {
   "cell_type": "code",
   "execution_count": 44,
   "id": "c920fe04-c99f-4370-8f80-9eb0c616c6e8",
   "metadata": {},
   "outputs": [],
   "source": [
    "joint_df = join_anno(og_obs, new_obs, new_col)"
   ]
  },
  {
   "cell_type": "code",
   "execution_count": 45,
   "id": "45aac670-c73f-4b2a-a2e2-7cc04241f084",
   "metadata": {},
   "outputs": [
    {
     "data": {
      "text/plain": [
       "21"
      ]
     },
     "execution_count": 45,
     "metadata": {},
     "output_type": "execute_result"
    }
   ],
   "source": [
    "joint_df['AIFI_L3'].isna().sum()"
   ]
  },
  {
   "cell_type": "code",
   "execution_count": 46,
   "id": "f49c09f4-9e3b-4304-b6b7-aa2da5ea6efd",
   "metadata": {},
   "outputs": [],
   "source": [
    "joint_df[new_col] = joint_df[new_col].cat.remove_unused_categories()"
   ]
  },
  {
   "cell_type": "code",
   "execution_count": 47,
   "id": "5128d572-93f9-47cc-85b6-b73df15e8b3d",
   "metadata": {},
   "outputs": [
    {
     "data": {
      "text/html": [
       "<div>\n",
       "<style scoped>\n",
       "    .dataframe tbody tr th:only-of-type {\n",
       "        vertical-align: middle;\n",
       "    }\n",
       "\n",
       "    .dataframe tbody tr th {\n",
       "        vertical-align: top;\n",
       "    }\n",
       "\n",
       "    .dataframe thead th {\n",
       "        text-align: right;\n",
       "    }\n",
       "</style>\n",
       "<table border=\"1\" class=\"dataframe\">\n",
       "  <thead>\n",
       "    <tr style=\"text-align: right;\">\n",
       "      <th></th>\n",
       "      <th>barcodes</th>\n",
       "      <th>leiden_resolution_1.5_t-mait</th>\n",
       "      <th>AIFI_L1</th>\n",
       "      <th>AIFI_L1_Final</th>\n",
       "      <th>AIFI_L2</th>\n",
       "      <th>AIFI_L2_Final</th>\n",
       "      <th>AIFI_L3</th>\n",
       "      <th>AIFI_L3_Final</th>\n",
       "    </tr>\n",
       "  </thead>\n",
       "  <tbody>\n",
       "    <tr>\n",
       "      <th>0</th>\n",
       "      <td>cf71f47048b611ea8957bafe6d70929e</td>\n",
       "      <td>0</td>\n",
       "      <td>T cell</td>\n",
       "      <td>Yes</td>\n",
       "      <td>MAIT</td>\n",
       "      <td>Yes</td>\n",
       "      <td>CD8 MAIT</td>\n",
       "      <td>Yes</td>\n",
       "    </tr>\n",
       "    <tr>\n",
       "      <th>1</th>\n",
       "      <td>cf7236ec48b611ea8957bafe6d70929e</td>\n",
       "      <td>2</td>\n",
       "      <td>T cell</td>\n",
       "      <td>Yes</td>\n",
       "      <td>MAIT</td>\n",
       "      <td>Yes</td>\n",
       "      <td>CD8 MAIT</td>\n",
       "      <td>Yes</td>\n",
       "    </tr>\n",
       "    <tr>\n",
       "      <th>2</th>\n",
       "      <td>cf75435048b611ea8957bafe6d70929e</td>\n",
       "      <td>1</td>\n",
       "      <td>T cell</td>\n",
       "      <td>Yes</td>\n",
       "      <td>MAIT</td>\n",
       "      <td>Yes</td>\n",
       "      <td>CD8 MAIT</td>\n",
       "      <td>Yes</td>\n",
       "    </tr>\n",
       "    <tr>\n",
       "      <th>3</th>\n",
       "      <td>cf75b11e48b611ea8957bafe6d70929e</td>\n",
       "      <td>2</td>\n",
       "      <td>T cell</td>\n",
       "      <td>Yes</td>\n",
       "      <td>MAIT</td>\n",
       "      <td>Yes</td>\n",
       "      <td>CD8 MAIT</td>\n",
       "      <td>Yes</td>\n",
       "    </tr>\n",
       "    <tr>\n",
       "      <th>4</th>\n",
       "      <td>cf78181e48b611ea8957bafe6d70929e</td>\n",
       "      <td>0</td>\n",
       "      <td>T cell</td>\n",
       "      <td>Yes</td>\n",
       "      <td>MAIT</td>\n",
       "      <td>Yes</td>\n",
       "      <td>CD8 MAIT</td>\n",
       "      <td>Yes</td>\n",
       "    </tr>\n",
       "  </tbody>\n",
       "</table>\n",
       "</div>"
      ],
      "text/plain": [
       "                           barcodes leiden_resolution_1.5_t-mait AIFI_L1  \\\n",
       "0  cf71f47048b611ea8957bafe6d70929e                            0  T cell   \n",
       "1  cf7236ec48b611ea8957bafe6d70929e                            2  T cell   \n",
       "2  cf75435048b611ea8957bafe6d70929e                            1  T cell   \n",
       "3  cf75b11e48b611ea8957bafe6d70929e                            2  T cell   \n",
       "4  cf78181e48b611ea8957bafe6d70929e                            0  T cell   \n",
       "\n",
       "  AIFI_L1_Final AIFI_L2 AIFI_L2_Final   AIFI_L3 AIFI_L3_Final  \n",
       "0           Yes    MAIT           Yes  CD8 MAIT           Yes  \n",
       "1           Yes    MAIT           Yes  CD8 MAIT           Yes  \n",
       "2           Yes    MAIT           Yes  CD8 MAIT           Yes  \n",
       "3           Yes    MAIT           Yes  CD8 MAIT           Yes  \n",
       "4           Yes    MAIT           Yes  CD8 MAIT           Yes  "
      ]
     },
     "execution_count": 47,
     "metadata": {},
     "output_type": "execute_result"
    }
   ],
   "source": [
    "joint_df.head()"
   ]
  },
  {
   "cell_type": "code",
   "execution_count": 48,
   "id": "d044b4ac-8dc4-4d0d-a878-0814d04c26f4",
   "metadata": {},
   "outputs": [
    {
     "name": "stderr",
     "output_type": "stream",
     "text": [
      "/tmp/ipykernel_14191/460635200.py:6: FutureWarning: The default of observed=False is deprecated and will be changed to True in a future version of pandas. Pass observed=False to retain current behavior or observed=True to adopt the future default and silence this warning.\n",
      "  .groupby(new_col)['AIFI_L3']\n"
     ]
    }
   ],
   "source": [
    "label_df = reduce_anno(joint_df, og_anno, new_col)"
   ]
  },
  {
   "cell_type": "code",
   "execution_count": 49,
   "id": "6c7ab588-6bed-48de-9767-18aa984213f4",
   "metadata": {},
   "outputs": [
    {
     "data": {
      "text/html": [
       "<div>\n",
       "<style scoped>\n",
       "    .dataframe tbody tr th:only-of-type {\n",
       "        vertical-align: middle;\n",
       "    }\n",
       "\n",
       "    .dataframe tbody tr th {\n",
       "        vertical-align: top;\n",
       "    }\n",
       "\n",
       "    .dataframe thead th {\n",
       "        text-align: right;\n",
       "    }\n",
       "</style>\n",
       "<table border=\"1\" class=\"dataframe\">\n",
       "  <thead>\n",
       "    <tr style=\"text-align: right;\">\n",
       "      <th></th>\n",
       "      <th>leiden_resolution_1.5_t-mait</th>\n",
       "      <th>AIFI_L3</th>\n",
       "      <th>AIFI_L1</th>\n",
       "      <th>AIFI_L1_Final</th>\n",
       "      <th>AIFI_L2</th>\n",
       "      <th>AIFI_L2_Final</th>\n",
       "      <th>AIFI_L3_Final</th>\n",
       "    </tr>\n",
       "  </thead>\n",
       "  <tbody>\n",
       "    <tr>\n",
       "      <th>0</th>\n",
       "      <td>0</td>\n",
       "      <td>CD8 MAIT</td>\n",
       "      <td>T cell</td>\n",
       "      <td>Yes</td>\n",
       "      <td>MAIT</td>\n",
       "      <td>Yes</td>\n",
       "      <td>Yes</td>\n",
       "    </tr>\n",
       "    <tr>\n",
       "      <th>1</th>\n",
       "      <td>1</td>\n",
       "      <td>CD8 MAIT</td>\n",
       "      <td>T cell</td>\n",
       "      <td>Yes</td>\n",
       "      <td>MAIT</td>\n",
       "      <td>Yes</td>\n",
       "      <td>Yes</td>\n",
       "    </tr>\n",
       "    <tr>\n",
       "      <th>2</th>\n",
       "      <td>2</td>\n",
       "      <td>CD8 MAIT</td>\n",
       "      <td>T cell</td>\n",
       "      <td>Yes</td>\n",
       "      <td>MAIT</td>\n",
       "      <td>Yes</td>\n",
       "      <td>Yes</td>\n",
       "    </tr>\n",
       "    <tr>\n",
       "      <th>3</th>\n",
       "      <td>3</td>\n",
       "      <td>CD8 MAIT</td>\n",
       "      <td>T cell</td>\n",
       "      <td>Yes</td>\n",
       "      <td>MAIT</td>\n",
       "      <td>Yes</td>\n",
       "      <td>Yes</td>\n",
       "    </tr>\n",
       "    <tr>\n",
       "      <th>4</th>\n",
       "      <td>4</td>\n",
       "      <td>CD8 MAIT</td>\n",
       "      <td>T cell</td>\n",
       "      <td>Yes</td>\n",
       "      <td>MAIT</td>\n",
       "      <td>Yes</td>\n",
       "      <td>Yes</td>\n",
       "    </tr>\n",
       "    <tr>\n",
       "      <th>5</th>\n",
       "      <td>5</td>\n",
       "      <td>CD8 MAIT</td>\n",
       "      <td>T cell</td>\n",
       "      <td>Yes</td>\n",
       "      <td>MAIT</td>\n",
       "      <td>Yes</td>\n",
       "      <td>Yes</td>\n",
       "    </tr>\n",
       "    <tr>\n",
       "      <th>6</th>\n",
       "      <td>6</td>\n",
       "      <td>CD8 MAIT</td>\n",
       "      <td>T cell</td>\n",
       "      <td>Yes</td>\n",
       "      <td>MAIT</td>\n",
       "      <td>Yes</td>\n",
       "      <td>Yes</td>\n",
       "    </tr>\n",
       "    <tr>\n",
       "      <th>7</th>\n",
       "      <td>7</td>\n",
       "      <td>CD8 MAIT</td>\n",
       "      <td>T cell</td>\n",
       "      <td>Yes</td>\n",
       "      <td>MAIT</td>\n",
       "      <td>Yes</td>\n",
       "      <td>Yes</td>\n",
       "    </tr>\n",
       "    <tr>\n",
       "      <th>8</th>\n",
       "      <td>8</td>\n",
       "      <td>CD8 MAIT</td>\n",
       "      <td>T cell</td>\n",
       "      <td>Yes</td>\n",
       "      <td>MAIT</td>\n",
       "      <td>Yes</td>\n",
       "      <td>Yes</td>\n",
       "    </tr>\n",
       "    <tr>\n",
       "      <th>9</th>\n",
       "      <td>10</td>\n",
       "      <td>HBB+ MAIT</td>\n",
       "      <td>T cell</td>\n",
       "      <td>Yes</td>\n",
       "      <td>MAIT</td>\n",
       "      <td>Yes</td>\n",
       "      <td>Yes</td>\n",
       "    </tr>\n",
       "    <tr>\n",
       "      <th>10</th>\n",
       "      <td>11</td>\n",
       "      <td>CD8 MAIT</td>\n",
       "      <td>T cell</td>\n",
       "      <td>Yes</td>\n",
       "      <td>MAIT</td>\n",
       "      <td>Yes</td>\n",
       "      <td>Yes</td>\n",
       "    </tr>\n",
       "    <tr>\n",
       "      <th>11</th>\n",
       "      <td>12</td>\n",
       "      <td>CD8 MAIT</td>\n",
       "      <td>T cell</td>\n",
       "      <td>Yes</td>\n",
       "      <td>MAIT</td>\n",
       "      <td>Yes</td>\n",
       "      <td>Yes</td>\n",
       "    </tr>\n",
       "    <tr>\n",
       "      <th>12</th>\n",
       "      <td>13</td>\n",
       "      <td>CD8 MAIT</td>\n",
       "      <td>T cell</td>\n",
       "      <td>Yes</td>\n",
       "      <td>MAIT</td>\n",
       "      <td>Yes</td>\n",
       "      <td>Yes</td>\n",
       "    </tr>\n",
       "    <tr>\n",
       "      <th>13</th>\n",
       "      <td>14</td>\n",
       "      <td>CD4 MAIT</td>\n",
       "      <td>T cell</td>\n",
       "      <td>Yes</td>\n",
       "      <td>MAIT</td>\n",
       "      <td>Yes</td>\n",
       "      <td>Yes</td>\n",
       "    </tr>\n",
       "    <tr>\n",
       "      <th>14</th>\n",
       "      <td>15</td>\n",
       "      <td>CD8 MAIT</td>\n",
       "      <td>T cell</td>\n",
       "      <td>Yes</td>\n",
       "      <td>MAIT</td>\n",
       "      <td>Yes</td>\n",
       "      <td>Yes</td>\n",
       "    </tr>\n",
       "    <tr>\n",
       "      <th>15</th>\n",
       "      <td>16</td>\n",
       "      <td>ISG+ MAIT</td>\n",
       "      <td>T cell</td>\n",
       "      <td>Yes</td>\n",
       "      <td>MAIT</td>\n",
       "      <td>Yes</td>\n",
       "      <td>Yes</td>\n",
       "    </tr>\n",
       "    <tr>\n",
       "      <th>16</th>\n",
       "      <td>17</td>\n",
       "      <td>CD8 MAIT</td>\n",
       "      <td>T cell</td>\n",
       "      <td>Yes</td>\n",
       "      <td>MAIT</td>\n",
       "      <td>Yes</td>\n",
       "      <td>Yes</td>\n",
       "    </tr>\n",
       "  </tbody>\n",
       "</table>\n",
       "</div>"
      ],
      "text/plain": [
       "   leiden_resolution_1.5_t-mait    AIFI_L3 AIFI_L1 AIFI_L1_Final AIFI_L2  \\\n",
       "0                             0   CD8 MAIT  T cell           Yes    MAIT   \n",
       "1                             1   CD8 MAIT  T cell           Yes    MAIT   \n",
       "2                             2   CD8 MAIT  T cell           Yes    MAIT   \n",
       "3                             3   CD8 MAIT  T cell           Yes    MAIT   \n",
       "4                             4   CD8 MAIT  T cell           Yes    MAIT   \n",
       "5                             5   CD8 MAIT  T cell           Yes    MAIT   \n",
       "6                             6   CD8 MAIT  T cell           Yes    MAIT   \n",
       "7                             7   CD8 MAIT  T cell           Yes    MAIT   \n",
       "8                             8   CD8 MAIT  T cell           Yes    MAIT   \n",
       "9                            10  HBB+ MAIT  T cell           Yes    MAIT   \n",
       "10                           11   CD8 MAIT  T cell           Yes    MAIT   \n",
       "11                           12   CD8 MAIT  T cell           Yes    MAIT   \n",
       "12                           13   CD8 MAIT  T cell           Yes    MAIT   \n",
       "13                           14   CD4 MAIT  T cell           Yes    MAIT   \n",
       "14                           15   CD8 MAIT  T cell           Yes    MAIT   \n",
       "15                           16  ISG+ MAIT  T cell           Yes    MAIT   \n",
       "16                           17   CD8 MAIT  T cell           Yes    MAIT   \n",
       "\n",
       "   AIFI_L2_Final AIFI_L3_Final  \n",
       "0            Yes           Yes  \n",
       "1            Yes           Yes  \n",
       "2            Yes           Yes  \n",
       "3            Yes           Yes  \n",
       "4            Yes           Yes  \n",
       "5            Yes           Yes  \n",
       "6            Yes           Yes  \n",
       "7            Yes           Yes  \n",
       "8            Yes           Yes  \n",
       "9            Yes           Yes  \n",
       "10           Yes           Yes  \n",
       "11           Yes           Yes  \n",
       "12           Yes           Yes  \n",
       "13           Yes           Yes  \n",
       "14           Yes           Yes  \n",
       "15           Yes           Yes  \n",
       "16           Yes           Yes  "
      ]
     },
     "execution_count": 49,
     "metadata": {},
     "output_type": "execute_result"
    }
   ],
   "source": [
    "label_df"
   ]
  },
  {
   "cell_type": "code",
   "execution_count": 50,
   "id": "fa87187a-6f0d-4268-9df3-f710436b4bcc",
   "metadata": {},
   "outputs": [],
   "source": [
    "out_dir = '../04-Annotation/annotations/'\n",
    "out_file = '{p}/pbmc_ref_{c}_annotations_{d}.csv'.format(\n",
    "    p = out_dir,\n",
    "    c = cell_class,\n",
    "    d = date.today()\n",
    ")\n",
    "label_df.to_csv(out_file)"
   ]
  },
  {
   "cell_type": "code",
   "execution_count": 51,
   "id": "de964e56-fd9b-4234-9db6-3a84b19b7b72",
   "metadata": {},
   "outputs": [],
   "source": [
    "new_anno = new_obs[['barcodes', new_col]]\n",
    "new_anno = new_anno.merge(label_df, on = new_col, how = 'left')\n",
    "new_anno = new_anno.rename({new_col: 'label_cl'}, axis = 1)\n",
    "new_anno['label_cl'] = new_anno['label_cl'].astype(str)\n",
    "new_anno['label_cl'] = [new_col + '_cl' + x for x in new_anno['label_cl']]\n",
    "new_anno_dict[cell_class] = new_anno"
   ]
  },
  {
   "cell_type": "markdown",
   "id": "9ad94093-7d86-4977-b6f8-2e4b492ddc0d",
   "metadata": {},
   "source": [
    "## CD8 CM cells"
   ]
  },
  {
   "cell_type": "markdown",
   "id": "7cd36d00-dbb3-4eb4-a415-c49496bc32bf",
   "metadata": {},
   "source": [
    "New clustering"
   ]
  },
  {
   "cell_type": "code",
   "execution_count": 52,
   "id": "8a810d75-153a-4976-8f37-1e924604e5f7",
   "metadata": {},
   "outputs": [],
   "source": [
    "cell_class = 't-cd8-cm'"
   ]
  },
  {
   "cell_type": "code",
   "execution_count": 53,
   "id": "c3741364-7b83-4a1c-ac88-8cc49ba5709f",
   "metadata": {},
   "outputs": [],
   "source": [
    "pq_uuid = 'f46939aa-424e-433d-8b0d-45ea77d7308d'"
   ]
  },
  {
   "cell_type": "code",
   "execution_count": 54,
   "id": "9451a16b-eee0-4ab7-b958-f42848a227b5",
   "metadata": {},
   "outputs": [],
   "source": [
    "new_obs = read_parquet_uuid(pq_uuid)"
   ]
  },
  {
   "cell_type": "markdown",
   "id": "7ddc801a-7d16-4307-980f-94083201f634",
   "metadata": {},
   "source": [
    "Remove gdT cells"
   ]
  },
  {
   "cell_type": "code",
   "execution_count": 55,
   "id": "0402922d-4876-406e-b87f-7b2e6b51ddab",
   "metadata": {},
   "outputs": [],
   "source": [
    "keep_bc = [not x for x in new_obs['barcodes'].isin(gdt_bc)]"
   ]
  },
  {
   "cell_type": "code",
   "execution_count": 56,
   "id": "db8da1b4-35a8-49ae-8b8e-3189f737ffe8",
   "metadata": {},
   "outputs": [
    {
     "data": {
      "text/plain": [
       "37568"
      ]
     },
     "execution_count": 56,
     "metadata": {},
     "output_type": "execute_result"
    }
   ],
   "source": [
    "sum(keep_bc)"
   ]
  },
  {
   "cell_type": "code",
   "execution_count": 57,
   "id": "174905e6-f3f8-4ed1-861b-9ed8c993e3c9",
   "metadata": {},
   "outputs": [],
   "source": [
    "new_obs = new_obs[keep_bc]"
   ]
  },
  {
   "cell_type": "code",
   "execution_count": 58,
   "id": "2afab026-d9ea-46f6-ad45-f59b64621a51",
   "metadata": {},
   "outputs": [
    {
     "data": {
      "text/plain": [
       "(37568, 56)"
      ]
     },
     "execution_count": 58,
     "metadata": {},
     "output_type": "execute_result"
    }
   ],
   "source": [
    "new_obs.shape"
   ]
  },
  {
   "cell_type": "code",
   "execution_count": 59,
   "id": "4d6b7f29-a114-4239-97af-250e78ecddf9",
   "metadata": {},
   "outputs": [],
   "source": [
    "new_col = 'leiden_resolution_1.5_t-cd8-cm'"
   ]
  },
  {
   "cell_type": "markdown",
   "id": "939a8257-e0e1-4dbc-a7a1-a49f1c7ad433",
   "metadata": {},
   "source": [
    "Join and assign to new clusters"
   ]
  },
  {
   "cell_type": "code",
   "execution_count": 60,
   "id": "1b43a623-2e42-4783-a434-bb3aca4a2967",
   "metadata": {
    "scrolled": true
   },
   "outputs": [],
   "source": [
    "joint_df = join_anno(og_obs, new_obs, new_col)"
   ]
  },
  {
   "cell_type": "code",
   "execution_count": 61,
   "id": "b225ddc6-9752-45e0-b817-9add3dd44aa2",
   "metadata": {},
   "outputs": [
    {
     "data": {
      "text/plain": [
       "90"
      ]
     },
     "execution_count": 61,
     "metadata": {},
     "output_type": "execute_result"
    }
   ],
   "source": [
    "joint_df['AIFI_L3'].isna().sum()"
   ]
  },
  {
   "cell_type": "code",
   "execution_count": 62,
   "id": "38e65fc1-85b7-4a1d-a1bd-bafc54507379",
   "metadata": {},
   "outputs": [],
   "source": [
    "joint_df[new_col] = joint_df[new_col].cat.remove_unused_categories()"
   ]
  },
  {
   "cell_type": "code",
   "execution_count": 63,
   "id": "88b0356a-6fae-4527-8cb1-2b5bc6ea2248",
   "metadata": {},
   "outputs": [
    {
     "data": {
      "text/html": [
       "<div>\n",
       "<style scoped>\n",
       "    .dataframe tbody tr th:only-of-type {\n",
       "        vertical-align: middle;\n",
       "    }\n",
       "\n",
       "    .dataframe tbody tr th {\n",
       "        vertical-align: top;\n",
       "    }\n",
       "\n",
       "    .dataframe thead th {\n",
       "        text-align: right;\n",
       "    }\n",
       "</style>\n",
       "<table border=\"1\" class=\"dataframe\">\n",
       "  <thead>\n",
       "    <tr style=\"text-align: right;\">\n",
       "      <th></th>\n",
       "      <th>barcodes</th>\n",
       "      <th>leiden_resolution_1.5_t-cd8-cm</th>\n",
       "      <th>AIFI_L1</th>\n",
       "      <th>AIFI_L1_Final</th>\n",
       "      <th>AIFI_L2</th>\n",
       "      <th>AIFI_L2_Final</th>\n",
       "      <th>AIFI_L3</th>\n",
       "      <th>AIFI_L3_Final</th>\n",
       "    </tr>\n",
       "  </thead>\n",
       "  <tbody>\n",
       "    <tr>\n",
       "      <th>0</th>\n",
       "      <td>cf73d01048b611ea8957bafe6d70929e</td>\n",
       "      <td>1</td>\n",
       "      <td>T cell</td>\n",
       "      <td>Yes</td>\n",
       "      <td>Memory CD8 T cell</td>\n",
       "      <td>Yes</td>\n",
       "      <td>GZMK+ CD27+ EM CD8 T cell</td>\n",
       "      <td>Yes</td>\n",
       "    </tr>\n",
       "    <tr>\n",
       "      <th>1</th>\n",
       "      <td>cf74475248b611ea8957bafe6d70929e</td>\n",
       "      <td>1</td>\n",
       "      <td>T cell</td>\n",
       "      <td>Yes</td>\n",
       "      <td>Memory CD8 T cell</td>\n",
       "      <td>Yes</td>\n",
       "      <td>CM CD8 T cell</td>\n",
       "      <td>Yes</td>\n",
       "    </tr>\n",
       "    <tr>\n",
       "      <th>2</th>\n",
       "      <td>cf75d27048b611ea8957bafe6d70929e</td>\n",
       "      <td>2</td>\n",
       "      <td>T cell</td>\n",
       "      <td>Yes</td>\n",
       "      <td>Memory CD8 T cell</td>\n",
       "      <td>Yes</td>\n",
       "      <td>GZMK- CD27+ EM CD8 T cell</td>\n",
       "      <td>Yes</td>\n",
       "    </tr>\n",
       "    <tr>\n",
       "      <th>3</th>\n",
       "      <td>cf77109048b611ea8957bafe6d70929e</td>\n",
       "      <td>5</td>\n",
       "      <td>T cell</td>\n",
       "      <td>Yes</td>\n",
       "      <td>Memory CD8 T cell</td>\n",
       "      <td>Yes</td>\n",
       "      <td>GZMK+ CD27+ EM CD8 T cell</td>\n",
       "      <td>Yes</td>\n",
       "    </tr>\n",
       "    <tr>\n",
       "      <th>4</th>\n",
       "      <td>cf771b0848b611ea8957bafe6d70929e</td>\n",
       "      <td>1</td>\n",
       "      <td>T cell</td>\n",
       "      <td>Yes</td>\n",
       "      <td>Memory CD8 T cell</td>\n",
       "      <td>Yes</td>\n",
       "      <td>GZMK+ CD27+ EM CD8 T cell</td>\n",
       "      <td>Yes</td>\n",
       "    </tr>\n",
       "  </tbody>\n",
       "</table>\n",
       "</div>"
      ],
      "text/plain": [
       "                           barcodes leiden_resolution_1.5_t-cd8-cm AIFI_L1  \\\n",
       "0  cf73d01048b611ea8957bafe6d70929e                              1  T cell   \n",
       "1  cf74475248b611ea8957bafe6d70929e                              1  T cell   \n",
       "2  cf75d27048b611ea8957bafe6d70929e                              2  T cell   \n",
       "3  cf77109048b611ea8957bafe6d70929e                              5  T cell   \n",
       "4  cf771b0848b611ea8957bafe6d70929e                              1  T cell   \n",
       "\n",
       "  AIFI_L1_Final            AIFI_L2 AIFI_L2_Final                    AIFI_L3  \\\n",
       "0           Yes  Memory CD8 T cell           Yes  GZMK+ CD27+ EM CD8 T cell   \n",
       "1           Yes  Memory CD8 T cell           Yes              CM CD8 T cell   \n",
       "2           Yes  Memory CD8 T cell           Yes  GZMK- CD27+ EM CD8 T cell   \n",
       "3           Yes  Memory CD8 T cell           Yes  GZMK+ CD27+ EM CD8 T cell   \n",
       "4           Yes  Memory CD8 T cell           Yes  GZMK+ CD27+ EM CD8 T cell   \n",
       "\n",
       "  AIFI_L3_Final  \n",
       "0           Yes  \n",
       "1           Yes  \n",
       "2           Yes  \n",
       "3           Yes  \n",
       "4           Yes  "
      ]
     },
     "execution_count": 63,
     "metadata": {},
     "output_type": "execute_result"
    }
   ],
   "source": [
    "joint_df.head()"
   ]
  },
  {
   "cell_type": "code",
   "execution_count": 64,
   "id": "bec87f08-56d4-47b0-a8cc-5480e9c8f983",
   "metadata": {},
   "outputs": [
    {
     "name": "stderr",
     "output_type": "stream",
     "text": [
      "/tmp/ipykernel_14191/460635200.py:6: FutureWarning: The default of observed=False is deprecated and will be changed to True in a future version of pandas. Pass observed=False to retain current behavior or observed=True to adopt the future default and silence this warning.\n",
      "  .groupby(new_col)['AIFI_L3']\n"
     ]
    }
   ],
   "source": [
    "label_df = reduce_anno(joint_df, og_anno, new_col)"
   ]
  },
  {
   "cell_type": "code",
   "execution_count": 65,
   "id": "039138f2-48e7-4c06-9b1a-20d78888dc5e",
   "metadata": {},
   "outputs": [
    {
     "data": {
      "text/html": [
       "<div>\n",
       "<style scoped>\n",
       "    .dataframe tbody tr th:only-of-type {\n",
       "        vertical-align: middle;\n",
       "    }\n",
       "\n",
       "    .dataframe tbody tr th {\n",
       "        vertical-align: top;\n",
       "    }\n",
       "\n",
       "    .dataframe thead th {\n",
       "        text-align: right;\n",
       "    }\n",
       "</style>\n",
       "<table border=\"1\" class=\"dataframe\">\n",
       "  <thead>\n",
       "    <tr style=\"text-align: right;\">\n",
       "      <th></th>\n",
       "      <th>leiden_resolution_1.5_t-cd8-cm</th>\n",
       "      <th>AIFI_L3</th>\n",
       "      <th>AIFI_L1</th>\n",
       "      <th>AIFI_L1_Final</th>\n",
       "      <th>AIFI_L2</th>\n",
       "      <th>AIFI_L2_Final</th>\n",
       "      <th>AIFI_L3_Final</th>\n",
       "    </tr>\n",
       "  </thead>\n",
       "  <tbody>\n",
       "    <tr>\n",
       "      <th>0</th>\n",
       "      <td>0</td>\n",
       "      <td>CD8aa</td>\n",
       "      <td>T cell</td>\n",
       "      <td>Yes</td>\n",
       "      <td>CD8aa</td>\n",
       "      <td>Yes</td>\n",
       "      <td>Yes</td>\n",
       "    </tr>\n",
       "    <tr>\n",
       "      <th>1</th>\n",
       "      <td>1</td>\n",
       "      <td>CM CD8 T cell</td>\n",
       "      <td>T cell</td>\n",
       "      <td>Yes</td>\n",
       "      <td>Memory CD8 T cell</td>\n",
       "      <td>Yes</td>\n",
       "      <td>Yes</td>\n",
       "    </tr>\n",
       "    <tr>\n",
       "      <th>2</th>\n",
       "      <td>2</td>\n",
       "      <td>GZMK- CD27+ EM CD8 T cell</td>\n",
       "      <td>T cell</td>\n",
       "      <td>Yes</td>\n",
       "      <td>Memory CD8 T cell</td>\n",
       "      <td>Yes</td>\n",
       "      <td>Yes</td>\n",
       "    </tr>\n",
       "    <tr>\n",
       "      <th>3</th>\n",
       "      <td>3</td>\n",
       "      <td>CM CD8 T cell</td>\n",
       "      <td>T cell</td>\n",
       "      <td>Yes</td>\n",
       "      <td>Memory CD8 T cell</td>\n",
       "      <td>Yes</td>\n",
       "      <td>Yes</td>\n",
       "    </tr>\n",
       "    <tr>\n",
       "      <th>4</th>\n",
       "      <td>5</td>\n",
       "      <td>CM CD8 T cell</td>\n",
       "      <td>T cell</td>\n",
       "      <td>Yes</td>\n",
       "      <td>Memory CD8 T cell</td>\n",
       "      <td>Yes</td>\n",
       "      <td>Yes</td>\n",
       "    </tr>\n",
       "    <tr>\n",
       "      <th>5</th>\n",
       "      <td>6</td>\n",
       "      <td>CM CD8 T cell</td>\n",
       "      <td>T cell</td>\n",
       "      <td>Yes</td>\n",
       "      <td>Memory CD8 T cell</td>\n",
       "      <td>Yes</td>\n",
       "      <td>Yes</td>\n",
       "    </tr>\n",
       "    <tr>\n",
       "      <th>6</th>\n",
       "      <td>7</td>\n",
       "      <td>CM CD8 T cell</td>\n",
       "      <td>T cell</td>\n",
       "      <td>Yes</td>\n",
       "      <td>Memory CD8 T cell</td>\n",
       "      <td>Yes</td>\n",
       "      <td>Yes</td>\n",
       "    </tr>\n",
       "    <tr>\n",
       "      <th>7</th>\n",
       "      <td>8</td>\n",
       "      <td>CM CD8 T cell</td>\n",
       "      <td>T cell</td>\n",
       "      <td>Yes</td>\n",
       "      <td>Memory CD8 T cell</td>\n",
       "      <td>Yes</td>\n",
       "      <td>Yes</td>\n",
       "    </tr>\n",
       "    <tr>\n",
       "      <th>8</th>\n",
       "      <td>9</td>\n",
       "      <td>CM CD8 T cell</td>\n",
       "      <td>T cell</td>\n",
       "      <td>Yes</td>\n",
       "      <td>Memory CD8 T cell</td>\n",
       "      <td>Yes</td>\n",
       "      <td>Yes</td>\n",
       "    </tr>\n",
       "    <tr>\n",
       "      <th>9</th>\n",
       "      <td>10</td>\n",
       "      <td>CM CD8 T cell</td>\n",
       "      <td>T cell</td>\n",
       "      <td>Yes</td>\n",
       "      <td>Memory CD8 T cell</td>\n",
       "      <td>Yes</td>\n",
       "      <td>Yes</td>\n",
       "    </tr>\n",
       "    <tr>\n",
       "      <th>10</th>\n",
       "      <td>12</td>\n",
       "      <td>CM CD8 T cell</td>\n",
       "      <td>T cell</td>\n",
       "      <td>Yes</td>\n",
       "      <td>Memory CD8 T cell</td>\n",
       "      <td>Yes</td>\n",
       "      <td>Yes</td>\n",
       "    </tr>\n",
       "    <tr>\n",
       "      <th>11</th>\n",
       "      <td>13</td>\n",
       "      <td>CM CD8 T cell</td>\n",
       "      <td>T cell</td>\n",
       "      <td>Yes</td>\n",
       "      <td>Memory CD8 T cell</td>\n",
       "      <td>Yes</td>\n",
       "      <td>Yes</td>\n",
       "    </tr>\n",
       "  </tbody>\n",
       "</table>\n",
       "</div>"
      ],
      "text/plain": [
       "   leiden_resolution_1.5_t-cd8-cm                    AIFI_L3 AIFI_L1  \\\n",
       "0                               0                      CD8aa  T cell   \n",
       "1                               1              CM CD8 T cell  T cell   \n",
       "2                               2  GZMK- CD27+ EM CD8 T cell  T cell   \n",
       "3                               3              CM CD8 T cell  T cell   \n",
       "4                               5              CM CD8 T cell  T cell   \n",
       "5                               6              CM CD8 T cell  T cell   \n",
       "6                               7              CM CD8 T cell  T cell   \n",
       "7                               8              CM CD8 T cell  T cell   \n",
       "8                               9              CM CD8 T cell  T cell   \n",
       "9                              10              CM CD8 T cell  T cell   \n",
       "10                             12              CM CD8 T cell  T cell   \n",
       "11                             13              CM CD8 T cell  T cell   \n",
       "\n",
       "   AIFI_L1_Final            AIFI_L2 AIFI_L2_Final AIFI_L3_Final  \n",
       "0            Yes              CD8aa           Yes           Yes  \n",
       "1            Yes  Memory CD8 T cell           Yes           Yes  \n",
       "2            Yes  Memory CD8 T cell           Yes           Yes  \n",
       "3            Yes  Memory CD8 T cell           Yes           Yes  \n",
       "4            Yes  Memory CD8 T cell           Yes           Yes  \n",
       "5            Yes  Memory CD8 T cell           Yes           Yes  \n",
       "6            Yes  Memory CD8 T cell           Yes           Yes  \n",
       "7            Yes  Memory CD8 T cell           Yes           Yes  \n",
       "8            Yes  Memory CD8 T cell           Yes           Yes  \n",
       "9            Yes  Memory CD8 T cell           Yes           Yes  \n",
       "10           Yes  Memory CD8 T cell           Yes           Yes  \n",
       "11           Yes  Memory CD8 T cell           Yes           Yes  "
      ]
     },
     "execution_count": 65,
     "metadata": {},
     "output_type": "execute_result"
    }
   ],
   "source": [
    "label_df"
   ]
  },
  {
   "cell_type": "code",
   "execution_count": 66,
   "id": "9630bbf7-c3a3-45a5-acd6-dbb352dd5f6b",
   "metadata": {},
   "outputs": [],
   "source": [
    "out_dir = '../04-Annotation/annotations/'\n",
    "out_file = '{p}/pbmc_ref_{c}_annotations_{d}.csv'.format(\n",
    "    p = out_dir,\n",
    "    c = cell_class,\n",
    "    d = date.today()\n",
    ")\n",
    "label_df.to_csv(out_file)"
   ]
  },
  {
   "cell_type": "code",
   "execution_count": 67,
   "id": "23a79940-88aa-40e3-a11e-ebf268b967cc",
   "metadata": {},
   "outputs": [],
   "source": [
    "new_anno = new_obs[['barcodes', new_col]]\n",
    "new_anno = new_anno.merge(label_df, on = new_col, how = 'left')\n",
    "new_anno = new_anno.rename({new_col: 'label_cl'}, axis = 1)\n",
    "new_anno['label_cl'] = new_anno['label_cl'].astype(str)\n",
    "new_anno['label_cl'] = [new_col + '_cl' + x for x in new_anno['label_cl']]\n",
    "new_anno_dict[cell_class] = new_anno"
   ]
  },
  {
   "cell_type": "markdown",
   "id": "57da1fb8-20cf-4f94-bbf9-74fe0e5ef2ff",
   "metadata": {},
   "source": [
    "## CD8 EM cells"
   ]
  },
  {
   "cell_type": "markdown",
   "id": "a5ee21ea-08f3-422c-b205-9a3acef23677",
   "metadata": {},
   "source": [
    "New clustering"
   ]
  },
  {
   "cell_type": "code",
   "execution_count": 68,
   "id": "b77f1d87-6e6a-4831-809b-7ce41096ea58",
   "metadata": {},
   "outputs": [],
   "source": [
    "cell_class = 't-cd8-em'"
   ]
  },
  {
   "cell_type": "code",
   "execution_count": 69,
   "id": "0e350427-63d6-4301-a532-bb8b81d2b24a",
   "metadata": {},
   "outputs": [],
   "source": [
    "pq_uuid = '39f48474-671d-4584-a10e-e1dd47b33dac'"
   ]
  },
  {
   "cell_type": "code",
   "execution_count": 70,
   "id": "dd19a93c-f8bd-4106-8fc0-916b5ffa26d8",
   "metadata": {},
   "outputs": [],
   "source": [
    "new_obs = read_parquet_uuid(pq_uuid)"
   ]
  },
  {
   "cell_type": "markdown",
   "id": "a17fce18-6070-4a3f-be7a-4efadeb035d0",
   "metadata": {},
   "source": [
    "Remove gdT cells"
   ]
  },
  {
   "cell_type": "code",
   "execution_count": 71,
   "id": "6729b242-cb39-4985-939a-9354a653a5ae",
   "metadata": {},
   "outputs": [],
   "source": [
    "keep_bc = [not x for x in new_obs['barcodes'].isin(gdt_bc)]"
   ]
  },
  {
   "cell_type": "code",
   "execution_count": 72,
   "id": "b164e0c4-5244-43b1-86ce-56258d5c3dc3",
   "metadata": {},
   "outputs": [
    {
     "data": {
      "text/plain": [
       "105726"
      ]
     },
     "execution_count": 72,
     "metadata": {},
     "output_type": "execute_result"
    }
   ],
   "source": [
    "sum(keep_bc)"
   ]
  },
  {
   "cell_type": "code",
   "execution_count": 73,
   "id": "e17bfe5c-0430-480b-936e-4b9b38bf85fe",
   "metadata": {},
   "outputs": [],
   "source": [
    "new_obs = new_obs[keep_bc]"
   ]
  },
  {
   "cell_type": "code",
   "execution_count": 74,
   "id": "37a6e5ab-943a-434e-bb04-576a822c0333",
   "metadata": {},
   "outputs": [
    {
     "data": {
      "text/plain": [
       "(105726, 56)"
      ]
     },
     "execution_count": 74,
     "metadata": {},
     "output_type": "execute_result"
    }
   ],
   "source": [
    "new_obs.shape"
   ]
  },
  {
   "cell_type": "code",
   "execution_count": 75,
   "id": "0eef3851-b3ec-46da-ad61-36c5ee572230",
   "metadata": {},
   "outputs": [],
   "source": [
    "new_col = 'leiden_resolution_3_t-cd8-em'"
   ]
  },
  {
   "cell_type": "markdown",
   "id": "e1b52b18-62a6-4734-a399-faee48653461",
   "metadata": {},
   "source": [
    "Join and assign to new clusters"
   ]
  },
  {
   "cell_type": "code",
   "execution_count": 76,
   "id": "3a9fa26c-c56e-49cd-b68d-620c2f4fba2a",
   "metadata": {
    "scrolled": true
   },
   "outputs": [],
   "source": [
    "joint_df = join_anno(og_obs, new_obs, new_col)"
   ]
  },
  {
   "cell_type": "code",
   "execution_count": 77,
   "id": "6bf863d8-da80-4430-8db9-553ea3b385f3",
   "metadata": {},
   "outputs": [
    {
     "data": {
      "text/plain": [
       "61"
      ]
     },
     "execution_count": 77,
     "metadata": {},
     "output_type": "execute_result"
    }
   ],
   "source": [
    "joint_df['AIFI_L3'].isna().sum()"
   ]
  },
  {
   "cell_type": "code",
   "execution_count": 78,
   "id": "aeccf0b7-be14-4e63-840e-d8f1c5a90b9b",
   "metadata": {},
   "outputs": [],
   "source": [
    "joint_df[new_col] = joint_df[new_col].cat.remove_unused_categories()"
   ]
  },
  {
   "cell_type": "code",
   "execution_count": 79,
   "id": "646a73ce-41b0-4820-9c83-1eadc0ecd26e",
   "metadata": {},
   "outputs": [
    {
     "data": {
      "text/html": [
       "<div>\n",
       "<style scoped>\n",
       "    .dataframe tbody tr th:only-of-type {\n",
       "        vertical-align: middle;\n",
       "    }\n",
       "\n",
       "    .dataframe tbody tr th {\n",
       "        vertical-align: top;\n",
       "    }\n",
       "\n",
       "    .dataframe thead th {\n",
       "        text-align: right;\n",
       "    }\n",
       "</style>\n",
       "<table border=\"1\" class=\"dataframe\">\n",
       "  <thead>\n",
       "    <tr style=\"text-align: right;\">\n",
       "      <th></th>\n",
       "      <th>barcodes</th>\n",
       "      <th>leiden_resolution_3_t-cd8-em</th>\n",
       "      <th>AIFI_L1</th>\n",
       "      <th>AIFI_L1_Final</th>\n",
       "      <th>AIFI_L2</th>\n",
       "      <th>AIFI_L2_Final</th>\n",
       "      <th>AIFI_L3</th>\n",
       "      <th>AIFI_L3_Final</th>\n",
       "    </tr>\n",
       "  </thead>\n",
       "  <tbody>\n",
       "    <tr>\n",
       "      <th>0</th>\n",
       "      <td>cf72a88448b611ea8957bafe6d70929e</td>\n",
       "      <td>27</td>\n",
       "      <td>Contamination</td>\n",
       "      <td>Yes</td>\n",
       "      <td>C5_C12_Contamination</td>\n",
       "      <td>Yes</td>\n",
       "      <td>C5_C12_Contamination</td>\n",
       "      <td>Yes</td>\n",
       "    </tr>\n",
       "    <tr>\n",
       "      <th>1</th>\n",
       "      <td>cf7380e248b611ea8957bafe6d70929e</td>\n",
       "      <td>31</td>\n",
       "      <td>Contamination</td>\n",
       "      <td>Yes</td>\n",
       "      <td>C5_C12_Contamination</td>\n",
       "      <td>Yes</td>\n",
       "      <td>C5_C12_Contamination</td>\n",
       "      <td>Yes</td>\n",
       "    </tr>\n",
       "    <tr>\n",
       "      <th>2</th>\n",
       "      <td>cf74919e48b611ea8957bafe6d70929e</td>\n",
       "      <td>9</td>\n",
       "      <td>T cell</td>\n",
       "      <td>Yes</td>\n",
       "      <td>Memory CD8 T cell</td>\n",
       "      <td>Yes</td>\n",
       "      <td>KLRF1- GZMB+ CD27- EM CD8 T cell</td>\n",
       "      <td>Yes</td>\n",
       "    </tr>\n",
       "    <tr>\n",
       "      <th>3</th>\n",
       "      <td>cf76a8e448b611ea8957bafe6d70929e</td>\n",
       "      <td>2</td>\n",
       "      <td>T cell</td>\n",
       "      <td>Yes</td>\n",
       "      <td>Memory CD8 T cell</td>\n",
       "      <td>Yes</td>\n",
       "      <td>KLRF1- GZMB+ CD27- EM CD8 T cell</td>\n",
       "      <td>Yes</td>\n",
       "    </tr>\n",
       "    <tr>\n",
       "      <th>4</th>\n",
       "      <td>cf7734ee48b611ea8957bafe6d70929e</td>\n",
       "      <td>31</td>\n",
       "      <td>T cell</td>\n",
       "      <td>Yes</td>\n",
       "      <td>Memory CD4 T cell</td>\n",
       "      <td>Yes</td>\n",
       "      <td>KLRF1- GZMB+ CD27- memory CD4 T cell</td>\n",
       "      <td>Yes</td>\n",
       "    </tr>\n",
       "  </tbody>\n",
       "</table>\n",
       "</div>"
      ],
      "text/plain": [
       "                           barcodes leiden_resolution_3_t-cd8-em  \\\n",
       "0  cf72a88448b611ea8957bafe6d70929e                           27   \n",
       "1  cf7380e248b611ea8957bafe6d70929e                           31   \n",
       "2  cf74919e48b611ea8957bafe6d70929e                            9   \n",
       "3  cf76a8e448b611ea8957bafe6d70929e                            2   \n",
       "4  cf7734ee48b611ea8957bafe6d70929e                           31   \n",
       "\n",
       "         AIFI_L1 AIFI_L1_Final               AIFI_L2 AIFI_L2_Final  \\\n",
       "0  Contamination           Yes  C5_C12_Contamination           Yes   \n",
       "1  Contamination           Yes  C5_C12_Contamination           Yes   \n",
       "2         T cell           Yes     Memory CD8 T cell           Yes   \n",
       "3         T cell           Yes     Memory CD8 T cell           Yes   \n",
       "4         T cell           Yes     Memory CD4 T cell           Yes   \n",
       "\n",
       "                                AIFI_L3 AIFI_L3_Final  \n",
       "0                  C5_C12_Contamination           Yes  \n",
       "1                  C5_C12_Contamination           Yes  \n",
       "2      KLRF1- GZMB+ CD27- EM CD8 T cell           Yes  \n",
       "3      KLRF1- GZMB+ CD27- EM CD8 T cell           Yes  \n",
       "4  KLRF1- GZMB+ CD27- memory CD4 T cell           Yes  "
      ]
     },
     "execution_count": 79,
     "metadata": {},
     "output_type": "execute_result"
    }
   ],
   "source": [
    "joint_df.head()"
   ]
  },
  {
   "cell_type": "code",
   "execution_count": 80,
   "id": "3f5e3927-79bb-414c-b973-4ae11c9126eb",
   "metadata": {},
   "outputs": [
    {
     "name": "stderr",
     "output_type": "stream",
     "text": [
      "/tmp/ipykernel_14191/460635200.py:6: FutureWarning: The default of observed=False is deprecated and will be changed to True in a future version of pandas. Pass observed=False to retain current behavior or observed=True to adopt the future default and silence this warning.\n",
      "  .groupby(new_col)['AIFI_L3']\n"
     ]
    }
   ],
   "source": [
    "label_df = reduce_anno(joint_df, og_anno, new_col)"
   ]
  },
  {
   "cell_type": "code",
   "execution_count": 81,
   "id": "1d8f440a-d20b-4b01-b9d4-dc846dec31da",
   "metadata": {},
   "outputs": [
    {
     "data": {
      "text/html": [
       "<div>\n",
       "<style scoped>\n",
       "    .dataframe tbody tr th:only-of-type {\n",
       "        vertical-align: middle;\n",
       "    }\n",
       "\n",
       "    .dataframe tbody tr th {\n",
       "        vertical-align: top;\n",
       "    }\n",
       "\n",
       "    .dataframe thead th {\n",
       "        text-align: right;\n",
       "    }\n",
       "</style>\n",
       "<table border=\"1\" class=\"dataframe\">\n",
       "  <thead>\n",
       "    <tr style=\"text-align: right;\">\n",
       "      <th></th>\n",
       "      <th>leiden_resolution_3_t-cd8-em</th>\n",
       "      <th>AIFI_L3</th>\n",
       "      <th>AIFI_L1</th>\n",
       "      <th>AIFI_L1_Final</th>\n",
       "      <th>AIFI_L2</th>\n",
       "      <th>AIFI_L2_Final</th>\n",
       "      <th>AIFI_L3_Final</th>\n",
       "    </tr>\n",
       "  </thead>\n",
       "  <tbody>\n",
       "    <tr>\n",
       "      <th>0</th>\n",
       "      <td>0</td>\n",
       "      <td>KLRF1- GZMB+ CD27- EM CD8 T cell</td>\n",
       "      <td>T cell</td>\n",
       "      <td>Yes</td>\n",
       "      <td>Memory CD8 T cell</td>\n",
       "      <td>Yes</td>\n",
       "      <td>Yes</td>\n",
       "    </tr>\n",
       "    <tr>\n",
       "      <th>1</th>\n",
       "      <td>1</td>\n",
       "      <td>KLRF1+ GZMB+ CD27- EM CD8 T cell</td>\n",
       "      <td>T cell</td>\n",
       "      <td>Yes</td>\n",
       "      <td>Memory CD8 T cell</td>\n",
       "      <td>Yes</td>\n",
       "      <td>Yes</td>\n",
       "    </tr>\n",
       "    <tr>\n",
       "      <th>2</th>\n",
       "      <td>2</td>\n",
       "      <td>KLRF1- GZMB+ CD27- EM CD8 T cell</td>\n",
       "      <td>T cell</td>\n",
       "      <td>Yes</td>\n",
       "      <td>Memory CD8 T cell</td>\n",
       "      <td>Yes</td>\n",
       "      <td>Yes</td>\n",
       "    </tr>\n",
       "    <tr>\n",
       "      <th>3</th>\n",
       "      <td>3</td>\n",
       "      <td>KLRF1+ GZMB+ CD27- EM CD8 T cell</td>\n",
       "      <td>T cell</td>\n",
       "      <td>Yes</td>\n",
       "      <td>Memory CD8 T cell</td>\n",
       "      <td>Yes</td>\n",
       "      <td>Yes</td>\n",
       "    </tr>\n",
       "    <tr>\n",
       "      <th>4</th>\n",
       "      <td>4</td>\n",
       "      <td>KLRF1- GZMB+ CD27- EM CD8 T cell</td>\n",
       "      <td>T cell</td>\n",
       "      <td>Yes</td>\n",
       "      <td>Memory CD8 T cell</td>\n",
       "      <td>Yes</td>\n",
       "      <td>Yes</td>\n",
       "    </tr>\n",
       "    <tr>\n",
       "      <th>5</th>\n",
       "      <td>5</td>\n",
       "      <td>KLRF1+ GZMB+ CD27- EM CD8 T cell</td>\n",
       "      <td>T cell</td>\n",
       "      <td>Yes</td>\n",
       "      <td>Memory CD8 T cell</td>\n",
       "      <td>Yes</td>\n",
       "      <td>Yes</td>\n",
       "    </tr>\n",
       "    <tr>\n",
       "      <th>6</th>\n",
       "      <td>7</td>\n",
       "      <td>KLRF1- GZMB+ CD27- memory CD4 T cell</td>\n",
       "      <td>T cell</td>\n",
       "      <td>Yes</td>\n",
       "      <td>Memory CD4 T cell</td>\n",
       "      <td>Yes</td>\n",
       "      <td>Yes</td>\n",
       "    </tr>\n",
       "    <tr>\n",
       "      <th>7</th>\n",
       "      <td>8</td>\n",
       "      <td>KLRF1- GZMB+ CD27- EM CD8 T cell</td>\n",
       "      <td>T cell</td>\n",
       "      <td>Yes</td>\n",
       "      <td>Memory CD8 T cell</td>\n",
       "      <td>Yes</td>\n",
       "      <td>Yes</td>\n",
       "    </tr>\n",
       "    <tr>\n",
       "      <th>8</th>\n",
       "      <td>9</td>\n",
       "      <td>KLRF1- GZMB+ CD27- EM CD8 T cell</td>\n",
       "      <td>T cell</td>\n",
       "      <td>Yes</td>\n",
       "      <td>Memory CD8 T cell</td>\n",
       "      <td>Yes</td>\n",
       "      <td>Yes</td>\n",
       "    </tr>\n",
       "    <tr>\n",
       "      <th>9</th>\n",
       "      <td>10</td>\n",
       "      <td>KLRF1- GZMB+ CD27- memory CD4 T cell</td>\n",
       "      <td>T cell</td>\n",
       "      <td>Yes</td>\n",
       "      <td>Memory CD4 T cell</td>\n",
       "      <td>Yes</td>\n",
       "      <td>Yes</td>\n",
       "    </tr>\n",
       "    <tr>\n",
       "      <th>10</th>\n",
       "      <td>12</td>\n",
       "      <td>KLRF1- GZMB+ CD27- EM CD8 T cell</td>\n",
       "      <td>T cell</td>\n",
       "      <td>Yes</td>\n",
       "      <td>Memory CD8 T cell</td>\n",
       "      <td>Yes</td>\n",
       "      <td>Yes</td>\n",
       "    </tr>\n",
       "    <tr>\n",
       "      <th>11</th>\n",
       "      <td>14</td>\n",
       "      <td>KLRF1- GZMB+ CD27- EM CD8 T cell</td>\n",
       "      <td>T cell</td>\n",
       "      <td>Yes</td>\n",
       "      <td>Memory CD8 T cell</td>\n",
       "      <td>Yes</td>\n",
       "      <td>Yes</td>\n",
       "    </tr>\n",
       "    <tr>\n",
       "      <th>12</th>\n",
       "      <td>15</td>\n",
       "      <td>KLRF1- GZMB+ CD27- EM CD8 T cell</td>\n",
       "      <td>T cell</td>\n",
       "      <td>Yes</td>\n",
       "      <td>Memory CD8 T cell</td>\n",
       "      <td>Yes</td>\n",
       "      <td>Yes</td>\n",
       "    </tr>\n",
       "    <tr>\n",
       "      <th>13</th>\n",
       "      <td>16</td>\n",
       "      <td>KLRF1- GZMB+ CD27- EM CD8 T cell</td>\n",
       "      <td>T cell</td>\n",
       "      <td>Yes</td>\n",
       "      <td>Memory CD8 T cell</td>\n",
       "      <td>Yes</td>\n",
       "      <td>Yes</td>\n",
       "    </tr>\n",
       "    <tr>\n",
       "      <th>14</th>\n",
       "      <td>17</td>\n",
       "      <td>KLRF1- GZMB+ CD27- EM CD8 T cell</td>\n",
       "      <td>T cell</td>\n",
       "      <td>Yes</td>\n",
       "      <td>Memory CD8 T cell</td>\n",
       "      <td>Yes</td>\n",
       "      <td>Yes</td>\n",
       "    </tr>\n",
       "    <tr>\n",
       "      <th>15</th>\n",
       "      <td>18</td>\n",
       "      <td>KLRF1- GZMB+ CD27- EM CD8 T cell</td>\n",
       "      <td>T cell</td>\n",
       "      <td>Yes</td>\n",
       "      <td>Memory CD8 T cell</td>\n",
       "      <td>Yes</td>\n",
       "      <td>Yes</td>\n",
       "    </tr>\n",
       "    <tr>\n",
       "      <th>16</th>\n",
       "      <td>19</td>\n",
       "      <td>KLRF1- GZMB+ CD27- EM CD8 T cell</td>\n",
       "      <td>T cell</td>\n",
       "      <td>Yes</td>\n",
       "      <td>Memory CD8 T cell</td>\n",
       "      <td>Yes</td>\n",
       "      <td>Yes</td>\n",
       "    </tr>\n",
       "    <tr>\n",
       "      <th>17</th>\n",
       "      <td>20</td>\n",
       "      <td>KLRF1+ GZMB+ CD27- EM CD8 T cell</td>\n",
       "      <td>T cell</td>\n",
       "      <td>Yes</td>\n",
       "      <td>Memory CD8 T cell</td>\n",
       "      <td>Yes</td>\n",
       "      <td>Yes</td>\n",
       "    </tr>\n",
       "    <tr>\n",
       "      <th>18</th>\n",
       "      <td>21</td>\n",
       "      <td>KLRF1- GZMB+ CD27- memory CD4 T cell</td>\n",
       "      <td>T cell</td>\n",
       "      <td>Yes</td>\n",
       "      <td>Memory CD4 T cell</td>\n",
       "      <td>Yes</td>\n",
       "      <td>Yes</td>\n",
       "    </tr>\n",
       "    <tr>\n",
       "      <th>19</th>\n",
       "      <td>22</td>\n",
       "      <td>KLRF1- GZMB+ CD27- EM CD8 T cell</td>\n",
       "      <td>T cell</td>\n",
       "      <td>Yes</td>\n",
       "      <td>Memory CD8 T cell</td>\n",
       "      <td>Yes</td>\n",
       "      <td>Yes</td>\n",
       "    </tr>\n",
       "    <tr>\n",
       "      <th>20</th>\n",
       "      <td>23</td>\n",
       "      <td>KLRF1- GZMB+ CD27- memory CD4 T cell</td>\n",
       "      <td>T cell</td>\n",
       "      <td>Yes</td>\n",
       "      <td>Memory CD4 T cell</td>\n",
       "      <td>Yes</td>\n",
       "      <td>Yes</td>\n",
       "    </tr>\n",
       "    <tr>\n",
       "      <th>21</th>\n",
       "      <td>24</td>\n",
       "      <td>KLRF1- GZMB+ CD27- memory CD4 T cell</td>\n",
       "      <td>T cell</td>\n",
       "      <td>Yes</td>\n",
       "      <td>Memory CD4 T cell</td>\n",
       "      <td>Yes</td>\n",
       "      <td>Yes</td>\n",
       "    </tr>\n",
       "    <tr>\n",
       "      <th>22</th>\n",
       "      <td>25</td>\n",
       "      <td>KLRF1+ GZMB+ CD27- EM CD8 T cell</td>\n",
       "      <td>T cell</td>\n",
       "      <td>Yes</td>\n",
       "      <td>Memory CD8 T cell</td>\n",
       "      <td>Yes</td>\n",
       "      <td>Yes</td>\n",
       "    </tr>\n",
       "    <tr>\n",
       "      <th>23</th>\n",
       "      <td>26</td>\n",
       "      <td>KLRF1- GZMB+ CD27- EM CD8 T cell</td>\n",
       "      <td>T cell</td>\n",
       "      <td>Yes</td>\n",
       "      <td>Memory CD8 T cell</td>\n",
       "      <td>Yes</td>\n",
       "      <td>Yes</td>\n",
       "    </tr>\n",
       "    <tr>\n",
       "      <th>24</th>\n",
       "      <td>27</td>\n",
       "      <td>C5_C12_Contamination</td>\n",
       "      <td>Contamination</td>\n",
       "      <td>Yes</td>\n",
       "      <td>C5_C12_Contamination</td>\n",
       "      <td>Yes</td>\n",
       "      <td>Yes</td>\n",
       "    </tr>\n",
       "    <tr>\n",
       "      <th>25</th>\n",
       "      <td>28</td>\n",
       "      <td>KLRF1- GZMB+ CD27- EM CD8 T cell</td>\n",
       "      <td>T cell</td>\n",
       "      <td>Yes</td>\n",
       "      <td>Memory CD8 T cell</td>\n",
       "      <td>Yes</td>\n",
       "      <td>Yes</td>\n",
       "    </tr>\n",
       "    <tr>\n",
       "      <th>26</th>\n",
       "      <td>29</td>\n",
       "      <td>KLRF1- GZMB+ CD27- EM CD8 T cell</td>\n",
       "      <td>T cell</td>\n",
       "      <td>Yes</td>\n",
       "      <td>Memory CD8 T cell</td>\n",
       "      <td>Yes</td>\n",
       "      <td>Yes</td>\n",
       "    </tr>\n",
       "    <tr>\n",
       "      <th>27</th>\n",
       "      <td>30</td>\n",
       "      <td>KLRF1- GZMB+ CD27- EM CD8 T cell</td>\n",
       "      <td>T cell</td>\n",
       "      <td>Yes</td>\n",
       "      <td>Memory CD8 T cell</td>\n",
       "      <td>Yes</td>\n",
       "      <td>Yes</td>\n",
       "    </tr>\n",
       "    <tr>\n",
       "      <th>28</th>\n",
       "      <td>31</td>\n",
       "      <td>KLRF1- GZMB+ CD27- EM CD8 T cell</td>\n",
       "      <td>T cell</td>\n",
       "      <td>Yes</td>\n",
       "      <td>Memory CD8 T cell</td>\n",
       "      <td>Yes</td>\n",
       "      <td>Yes</td>\n",
       "    </tr>\n",
       "    <tr>\n",
       "      <th>29</th>\n",
       "      <td>32</td>\n",
       "      <td>KLRF1- GZMB+ CD27- EM CD8 T cell</td>\n",
       "      <td>T cell</td>\n",
       "      <td>Yes</td>\n",
       "      <td>Memory CD8 T cell</td>\n",
       "      <td>Yes</td>\n",
       "      <td>Yes</td>\n",
       "    </tr>\n",
       "    <tr>\n",
       "      <th>30</th>\n",
       "      <td>33</td>\n",
       "      <td>KLRF1- GZMB+ CD27- EM CD8 T cell</td>\n",
       "      <td>T cell</td>\n",
       "      <td>Yes</td>\n",
       "      <td>Memory CD8 T cell</td>\n",
       "      <td>Yes</td>\n",
       "      <td>Yes</td>\n",
       "    </tr>\n",
       "    <tr>\n",
       "      <th>31</th>\n",
       "      <td>34</td>\n",
       "      <td>KLRF1- GZMB+ CD27- EM CD8 T cell</td>\n",
       "      <td>T cell</td>\n",
       "      <td>Yes</td>\n",
       "      <td>Memory CD8 T cell</td>\n",
       "      <td>Yes</td>\n",
       "      <td>Yes</td>\n",
       "    </tr>\n",
       "    <tr>\n",
       "      <th>32</th>\n",
       "      <td>35</td>\n",
       "      <td>KLRF1- GZMB+ CD27- EM CD8 T cell</td>\n",
       "      <td>T cell</td>\n",
       "      <td>Yes</td>\n",
       "      <td>Memory CD8 T cell</td>\n",
       "      <td>Yes</td>\n",
       "      <td>Yes</td>\n",
       "    </tr>\n",
       "    <tr>\n",
       "      <th>33</th>\n",
       "      <td>36</td>\n",
       "      <td>KLRF1- GZMB+ CD27- memory CD4 T cell</td>\n",
       "      <td>T cell</td>\n",
       "      <td>Yes</td>\n",
       "      <td>Memory CD4 T cell</td>\n",
       "      <td>Yes</td>\n",
       "      <td>Yes</td>\n",
       "    </tr>\n",
       "  </tbody>\n",
       "</table>\n",
       "</div>"
      ],
      "text/plain": [
       "   leiden_resolution_3_t-cd8-em                               AIFI_L3  \\\n",
       "0                             0      KLRF1- GZMB+ CD27- EM CD8 T cell   \n",
       "1                             1      KLRF1+ GZMB+ CD27- EM CD8 T cell   \n",
       "2                             2      KLRF1- GZMB+ CD27- EM CD8 T cell   \n",
       "3                             3      KLRF1+ GZMB+ CD27- EM CD8 T cell   \n",
       "4                             4      KLRF1- GZMB+ CD27- EM CD8 T cell   \n",
       "5                             5      KLRF1+ GZMB+ CD27- EM CD8 T cell   \n",
       "6                             7  KLRF1- GZMB+ CD27- memory CD4 T cell   \n",
       "7                             8      KLRF1- GZMB+ CD27- EM CD8 T cell   \n",
       "8                             9      KLRF1- GZMB+ CD27- EM CD8 T cell   \n",
       "9                            10  KLRF1- GZMB+ CD27- memory CD4 T cell   \n",
       "10                           12      KLRF1- GZMB+ CD27- EM CD8 T cell   \n",
       "11                           14      KLRF1- GZMB+ CD27- EM CD8 T cell   \n",
       "12                           15      KLRF1- GZMB+ CD27- EM CD8 T cell   \n",
       "13                           16      KLRF1- GZMB+ CD27- EM CD8 T cell   \n",
       "14                           17      KLRF1- GZMB+ CD27- EM CD8 T cell   \n",
       "15                           18      KLRF1- GZMB+ CD27- EM CD8 T cell   \n",
       "16                           19      KLRF1- GZMB+ CD27- EM CD8 T cell   \n",
       "17                           20      KLRF1+ GZMB+ CD27- EM CD8 T cell   \n",
       "18                           21  KLRF1- GZMB+ CD27- memory CD4 T cell   \n",
       "19                           22      KLRF1- GZMB+ CD27- EM CD8 T cell   \n",
       "20                           23  KLRF1- GZMB+ CD27- memory CD4 T cell   \n",
       "21                           24  KLRF1- GZMB+ CD27- memory CD4 T cell   \n",
       "22                           25      KLRF1+ GZMB+ CD27- EM CD8 T cell   \n",
       "23                           26      KLRF1- GZMB+ CD27- EM CD8 T cell   \n",
       "24                           27                  C5_C12_Contamination   \n",
       "25                           28      KLRF1- GZMB+ CD27- EM CD8 T cell   \n",
       "26                           29      KLRF1- GZMB+ CD27- EM CD8 T cell   \n",
       "27                           30      KLRF1- GZMB+ CD27- EM CD8 T cell   \n",
       "28                           31      KLRF1- GZMB+ CD27- EM CD8 T cell   \n",
       "29                           32      KLRF1- GZMB+ CD27- EM CD8 T cell   \n",
       "30                           33      KLRF1- GZMB+ CD27- EM CD8 T cell   \n",
       "31                           34      KLRF1- GZMB+ CD27- EM CD8 T cell   \n",
       "32                           35      KLRF1- GZMB+ CD27- EM CD8 T cell   \n",
       "33                           36  KLRF1- GZMB+ CD27- memory CD4 T cell   \n",
       "\n",
       "          AIFI_L1 AIFI_L1_Final               AIFI_L2 AIFI_L2_Final  \\\n",
       "0          T cell           Yes     Memory CD8 T cell           Yes   \n",
       "1          T cell           Yes     Memory CD8 T cell           Yes   \n",
       "2          T cell           Yes     Memory CD8 T cell           Yes   \n",
       "3          T cell           Yes     Memory CD8 T cell           Yes   \n",
       "4          T cell           Yes     Memory CD8 T cell           Yes   \n",
       "5          T cell           Yes     Memory CD8 T cell           Yes   \n",
       "6          T cell           Yes     Memory CD4 T cell           Yes   \n",
       "7          T cell           Yes     Memory CD8 T cell           Yes   \n",
       "8          T cell           Yes     Memory CD8 T cell           Yes   \n",
       "9          T cell           Yes     Memory CD4 T cell           Yes   \n",
       "10         T cell           Yes     Memory CD8 T cell           Yes   \n",
       "11         T cell           Yes     Memory CD8 T cell           Yes   \n",
       "12         T cell           Yes     Memory CD8 T cell           Yes   \n",
       "13         T cell           Yes     Memory CD8 T cell           Yes   \n",
       "14         T cell           Yes     Memory CD8 T cell           Yes   \n",
       "15         T cell           Yes     Memory CD8 T cell           Yes   \n",
       "16         T cell           Yes     Memory CD8 T cell           Yes   \n",
       "17         T cell           Yes     Memory CD8 T cell           Yes   \n",
       "18         T cell           Yes     Memory CD4 T cell           Yes   \n",
       "19         T cell           Yes     Memory CD8 T cell           Yes   \n",
       "20         T cell           Yes     Memory CD4 T cell           Yes   \n",
       "21         T cell           Yes     Memory CD4 T cell           Yes   \n",
       "22         T cell           Yes     Memory CD8 T cell           Yes   \n",
       "23         T cell           Yes     Memory CD8 T cell           Yes   \n",
       "24  Contamination           Yes  C5_C12_Contamination           Yes   \n",
       "25         T cell           Yes     Memory CD8 T cell           Yes   \n",
       "26         T cell           Yes     Memory CD8 T cell           Yes   \n",
       "27         T cell           Yes     Memory CD8 T cell           Yes   \n",
       "28         T cell           Yes     Memory CD8 T cell           Yes   \n",
       "29         T cell           Yes     Memory CD8 T cell           Yes   \n",
       "30         T cell           Yes     Memory CD8 T cell           Yes   \n",
       "31         T cell           Yes     Memory CD8 T cell           Yes   \n",
       "32         T cell           Yes     Memory CD8 T cell           Yes   \n",
       "33         T cell           Yes     Memory CD4 T cell           Yes   \n",
       "\n",
       "   AIFI_L3_Final  \n",
       "0            Yes  \n",
       "1            Yes  \n",
       "2            Yes  \n",
       "3            Yes  \n",
       "4            Yes  \n",
       "5            Yes  \n",
       "6            Yes  \n",
       "7            Yes  \n",
       "8            Yes  \n",
       "9            Yes  \n",
       "10           Yes  \n",
       "11           Yes  \n",
       "12           Yes  \n",
       "13           Yes  \n",
       "14           Yes  \n",
       "15           Yes  \n",
       "16           Yes  \n",
       "17           Yes  \n",
       "18           Yes  \n",
       "19           Yes  \n",
       "20           Yes  \n",
       "21           Yes  \n",
       "22           Yes  \n",
       "23           Yes  \n",
       "24           Yes  \n",
       "25           Yes  \n",
       "26           Yes  \n",
       "27           Yes  \n",
       "28           Yes  \n",
       "29           Yes  \n",
       "30           Yes  \n",
       "31           Yes  \n",
       "32           Yes  \n",
       "33           Yes  "
      ]
     },
     "execution_count": 81,
     "metadata": {},
     "output_type": "execute_result"
    }
   ],
   "source": [
    "label_df"
   ]
  },
  {
   "cell_type": "code",
   "execution_count": 82,
   "id": "8e3554da-0fe7-476c-96d1-474970c03f70",
   "metadata": {},
   "outputs": [],
   "source": [
    "out_dir = '../04-Annotation/annotations/'\n",
    "out_file = '{p}/pbmc_ref_{c}_annotations_{d}.csv'.format(\n",
    "    p = out_dir,\n",
    "    c = cell_class,\n",
    "    d = date.today()\n",
    ")\n",
    "label_df.to_csv(out_file)"
   ]
  },
  {
   "cell_type": "code",
   "execution_count": 83,
   "id": "1e42f3ae-ef23-4a12-b94e-c3f82a162d70",
   "metadata": {},
   "outputs": [],
   "source": [
    "new_anno = new_obs[['barcodes', new_col]]\n",
    "new_anno = new_anno.merge(label_df, on = new_col, how = 'left')\n",
    "new_anno = new_anno.rename({new_col: 'label_cl'}, axis = 1)\n",
    "new_anno['label_cl'] = new_anno['label_cl'].astype(str)\n",
    "new_anno['label_cl'] = [new_col + '_cl' + x for x in new_anno['label_cl']]\n",
    "new_anno_dict[cell_class] = new_anno"
   ]
  },
  {
   "cell_type": "markdown",
   "id": "c7d1e1cb-2545-4339-960b-38b44f335e7b",
   "metadata": {},
   "source": [
    "## Treg cells"
   ]
  },
  {
   "cell_type": "markdown",
   "id": "ad694e37-b43c-4367-b599-fb438d0524bf",
   "metadata": {},
   "source": [
    "New clustering"
   ]
  },
  {
   "cell_type": "code",
   "execution_count": 84,
   "id": "103f5827-3aaf-408d-b8c2-79dad0b8893a",
   "metadata": {},
   "outputs": [],
   "source": [
    "cell_class = 'treg'"
   ]
  },
  {
   "cell_type": "code",
   "execution_count": 85,
   "id": "a1d6281c-8f9c-439e-a3af-231710db026b",
   "metadata": {},
   "outputs": [],
   "source": [
    "pq_uuid = '8f76dce0-81ec-45c9-9612-68bddcecdd8b'"
   ]
  },
  {
   "cell_type": "code",
   "execution_count": 86,
   "id": "107792a2-90c6-4ec8-9cbb-e31f41ce5f86",
   "metadata": {},
   "outputs": [],
   "source": [
    "new_obs = read_parquet_uuid(pq_uuid)"
   ]
  },
  {
   "cell_type": "code",
   "execution_count": 87,
   "id": "23e7ec67-09e2-4b0e-a7e1-e2c524d12852",
   "metadata": {},
   "outputs": [
    {
     "data": {
      "text/plain": [
       "(39087, 56)"
      ]
     },
     "execution_count": 87,
     "metadata": {},
     "output_type": "execute_result"
    }
   ],
   "source": [
    "new_obs.shape"
   ]
  },
  {
   "cell_type": "code",
   "execution_count": 88,
   "id": "d24ceafa-d2bb-41b1-90bc-32642da6c6ba",
   "metadata": {},
   "outputs": [],
   "source": [
    "new_col = 'leiden_resolution_1.5_treg'"
   ]
  },
  {
   "cell_type": "markdown",
   "id": "56ade847-ba1a-4865-be58-00706f99ba5f",
   "metadata": {},
   "source": [
    "Join and assign to new clusters"
   ]
  },
  {
   "cell_type": "code",
   "execution_count": 89,
   "id": "4aa85690-44c6-48ad-a420-c1d030d3f868",
   "metadata": {
    "scrolled": true
   },
   "outputs": [],
   "source": [
    "joint_df = join_anno(og_obs, new_obs, new_col)"
   ]
  },
  {
   "cell_type": "code",
   "execution_count": 90,
   "id": "4b62de30-d95b-4d06-a3a8-2a24b2625a07",
   "metadata": {},
   "outputs": [
    {
     "data": {
      "text/plain": [
       "8"
      ]
     },
     "execution_count": 90,
     "metadata": {},
     "output_type": "execute_result"
    }
   ],
   "source": [
    "joint_df['AIFI_L3'].isna().sum()"
   ]
  },
  {
   "cell_type": "code",
   "execution_count": 91,
   "id": "82b4ce77-2b5c-45da-966a-d0b30ba9994f",
   "metadata": {},
   "outputs": [
    {
     "data": {
      "text/html": [
       "<div>\n",
       "<style scoped>\n",
       "    .dataframe tbody tr th:only-of-type {\n",
       "        vertical-align: middle;\n",
       "    }\n",
       "\n",
       "    .dataframe tbody tr th {\n",
       "        vertical-align: top;\n",
       "    }\n",
       "\n",
       "    .dataframe thead th {\n",
       "        text-align: right;\n",
       "    }\n",
       "</style>\n",
       "<table border=\"1\" class=\"dataframe\">\n",
       "  <thead>\n",
       "    <tr style=\"text-align: right;\">\n",
       "      <th></th>\n",
       "      <th>barcodes</th>\n",
       "      <th>leiden_resolution_1.5_treg</th>\n",
       "      <th>AIFI_L1</th>\n",
       "      <th>AIFI_L1_Final</th>\n",
       "      <th>AIFI_L2</th>\n",
       "      <th>AIFI_L2_Final</th>\n",
       "      <th>AIFI_L3</th>\n",
       "      <th>AIFI_L3_Final</th>\n",
       "    </tr>\n",
       "  </thead>\n",
       "  <tbody>\n",
       "    <tr>\n",
       "      <th>0</th>\n",
       "      <td>cf76fa6048b611ea8957bafe6d70929e</td>\n",
       "      <td>1</td>\n",
       "      <td>T cell</td>\n",
       "      <td>Yes</td>\n",
       "      <td>Treg</td>\n",
       "      <td>Yes</td>\n",
       "      <td>Naive CD4 Treg</td>\n",
       "      <td>Yes</td>\n",
       "    </tr>\n",
       "    <tr>\n",
       "      <th>1</th>\n",
       "      <td>cf7b9c8248b611ea8957bafe6d70929e</td>\n",
       "      <td>5</td>\n",
       "      <td>T cell</td>\n",
       "      <td>Yes</td>\n",
       "      <td>Treg</td>\n",
       "      <td>Yes</td>\n",
       "      <td>Memory CD4 Treg</td>\n",
       "      <td>Yes</td>\n",
       "    </tr>\n",
       "    <tr>\n",
       "      <th>2</th>\n",
       "      <td>cf7d735448b611ea8957bafe6d70929e</td>\n",
       "      <td>6</td>\n",
       "      <td>T cell</td>\n",
       "      <td>Yes</td>\n",
       "      <td>Treg</td>\n",
       "      <td>Yes</td>\n",
       "      <td>KLRB1+ memory CD4 Treg</td>\n",
       "      <td>Yes</td>\n",
       "    </tr>\n",
       "    <tr>\n",
       "      <th>3</th>\n",
       "      <td>cf84101048b611ea8957bafe6d70929e</td>\n",
       "      <td>0</td>\n",
       "      <td>T cell</td>\n",
       "      <td>Yes</td>\n",
       "      <td>Treg</td>\n",
       "      <td>Yes</td>\n",
       "      <td>Naive CD4 Treg</td>\n",
       "      <td>Yes</td>\n",
       "    </tr>\n",
       "    <tr>\n",
       "      <th>4</th>\n",
       "      <td>cf8b1d1a48b611ea8957bafe6d70929e</td>\n",
       "      <td>8</td>\n",
       "      <td>T cell</td>\n",
       "      <td>Yes</td>\n",
       "      <td>Treg</td>\n",
       "      <td>Yes</td>\n",
       "      <td>Naive CD4 Treg</td>\n",
       "      <td>Yes</td>\n",
       "    </tr>\n",
       "  </tbody>\n",
       "</table>\n",
       "</div>"
      ],
      "text/plain": [
       "                           barcodes leiden_resolution_1.5_treg AIFI_L1  \\\n",
       "0  cf76fa6048b611ea8957bafe6d70929e                          1  T cell   \n",
       "1  cf7b9c8248b611ea8957bafe6d70929e                          5  T cell   \n",
       "2  cf7d735448b611ea8957bafe6d70929e                          6  T cell   \n",
       "3  cf84101048b611ea8957bafe6d70929e                          0  T cell   \n",
       "4  cf8b1d1a48b611ea8957bafe6d70929e                          8  T cell   \n",
       "\n",
       "  AIFI_L1_Final AIFI_L2 AIFI_L2_Final                 AIFI_L3 AIFI_L3_Final  \n",
       "0           Yes    Treg           Yes          Naive CD4 Treg           Yes  \n",
       "1           Yes    Treg           Yes         Memory CD4 Treg           Yes  \n",
       "2           Yes    Treg           Yes  KLRB1+ memory CD4 Treg           Yes  \n",
       "3           Yes    Treg           Yes          Naive CD4 Treg           Yes  \n",
       "4           Yes    Treg           Yes          Naive CD4 Treg           Yes  "
      ]
     },
     "execution_count": 91,
     "metadata": {},
     "output_type": "execute_result"
    }
   ],
   "source": [
    "joint_df.head()"
   ]
  },
  {
   "cell_type": "code",
   "execution_count": 92,
   "id": "10c5a845-9bc4-41e4-852f-d40cc029122d",
   "metadata": {},
   "outputs": [
    {
     "name": "stderr",
     "output_type": "stream",
     "text": [
      "/tmp/ipykernel_14191/460635200.py:6: FutureWarning: The default of observed=False is deprecated and will be changed to True in a future version of pandas. Pass observed=False to retain current behavior or observed=True to adopt the future default and silence this warning.\n",
      "  .groupby(new_col)['AIFI_L3']\n"
     ]
    }
   ],
   "source": [
    "label_df = reduce_anno(joint_df, og_anno, new_col)"
   ]
  },
  {
   "cell_type": "code",
   "execution_count": 93,
   "id": "96f5a597-f122-485b-9330-da8e7b44f8e6",
   "metadata": {},
   "outputs": [
    {
     "data": {
      "text/html": [
       "<div>\n",
       "<style scoped>\n",
       "    .dataframe tbody tr th:only-of-type {\n",
       "        vertical-align: middle;\n",
       "    }\n",
       "\n",
       "    .dataframe tbody tr th {\n",
       "        vertical-align: top;\n",
       "    }\n",
       "\n",
       "    .dataframe thead th {\n",
       "        text-align: right;\n",
       "    }\n",
       "</style>\n",
       "<table border=\"1\" class=\"dataframe\">\n",
       "  <thead>\n",
       "    <tr style=\"text-align: right;\">\n",
       "      <th></th>\n",
       "      <th>leiden_resolution_1.5_treg</th>\n",
       "      <th>AIFI_L3</th>\n",
       "      <th>AIFI_L1</th>\n",
       "      <th>AIFI_L1_Final</th>\n",
       "      <th>AIFI_L2</th>\n",
       "      <th>AIFI_L2_Final</th>\n",
       "      <th>AIFI_L3_Final</th>\n",
       "    </tr>\n",
       "  </thead>\n",
       "  <tbody>\n",
       "    <tr>\n",
       "      <th>0</th>\n",
       "      <td>0</td>\n",
       "      <td>Naive CD4 Treg</td>\n",
       "      <td>T cell</td>\n",
       "      <td>Yes</td>\n",
       "      <td>Treg</td>\n",
       "      <td>Yes</td>\n",
       "      <td>Yes</td>\n",
       "    </tr>\n",
       "    <tr>\n",
       "      <th>1</th>\n",
       "      <td>1</td>\n",
       "      <td>Naive CD4 Treg</td>\n",
       "      <td>T cell</td>\n",
       "      <td>Yes</td>\n",
       "      <td>Treg</td>\n",
       "      <td>Yes</td>\n",
       "      <td>Yes</td>\n",
       "    </tr>\n",
       "    <tr>\n",
       "      <th>2</th>\n",
       "      <td>2</td>\n",
       "      <td>Memory CD4 Treg</td>\n",
       "      <td>T cell</td>\n",
       "      <td>Yes</td>\n",
       "      <td>Treg</td>\n",
       "      <td>Yes</td>\n",
       "      <td>Yes</td>\n",
       "    </tr>\n",
       "    <tr>\n",
       "      <th>3</th>\n",
       "      <td>3</td>\n",
       "      <td>Naive CD4 Treg</td>\n",
       "      <td>T cell</td>\n",
       "      <td>Yes</td>\n",
       "      <td>Treg</td>\n",
       "      <td>Yes</td>\n",
       "      <td>Yes</td>\n",
       "    </tr>\n",
       "    <tr>\n",
       "      <th>4</th>\n",
       "      <td>4</td>\n",
       "      <td>Memory CD4 Treg</td>\n",
       "      <td>T cell</td>\n",
       "      <td>Yes</td>\n",
       "      <td>Treg</td>\n",
       "      <td>Yes</td>\n",
       "      <td>Yes</td>\n",
       "    </tr>\n",
       "    <tr>\n",
       "      <th>5</th>\n",
       "      <td>5</td>\n",
       "      <td>Naive CD4 Treg</td>\n",
       "      <td>T cell</td>\n",
       "      <td>Yes</td>\n",
       "      <td>Treg</td>\n",
       "      <td>Yes</td>\n",
       "      <td>Yes</td>\n",
       "    </tr>\n",
       "    <tr>\n",
       "      <th>6</th>\n",
       "      <td>6</td>\n",
       "      <td>KLRB1+ memory CD4 Treg</td>\n",
       "      <td>T cell</td>\n",
       "      <td>Yes</td>\n",
       "      <td>Treg</td>\n",
       "      <td>Yes</td>\n",
       "      <td>Yes</td>\n",
       "    </tr>\n",
       "    <tr>\n",
       "      <th>7</th>\n",
       "      <td>7</td>\n",
       "      <td>Memory CD4 Treg</td>\n",
       "      <td>T cell</td>\n",
       "      <td>Yes</td>\n",
       "      <td>Treg</td>\n",
       "      <td>Yes</td>\n",
       "      <td>Yes</td>\n",
       "    </tr>\n",
       "    <tr>\n",
       "      <th>8</th>\n",
       "      <td>8</td>\n",
       "      <td>Naive CD4 Treg</td>\n",
       "      <td>T cell</td>\n",
       "      <td>Yes</td>\n",
       "      <td>Treg</td>\n",
       "      <td>Yes</td>\n",
       "      <td>Yes</td>\n",
       "    </tr>\n",
       "    <tr>\n",
       "      <th>9</th>\n",
       "      <td>9</td>\n",
       "      <td>Naive CD4 Treg</td>\n",
       "      <td>T cell</td>\n",
       "      <td>Yes</td>\n",
       "      <td>Treg</td>\n",
       "      <td>Yes</td>\n",
       "      <td>Yes</td>\n",
       "    </tr>\n",
       "    <tr>\n",
       "      <th>10</th>\n",
       "      <td>10</td>\n",
       "      <td>Memory CD4 Treg</td>\n",
       "      <td>T cell</td>\n",
       "      <td>Yes</td>\n",
       "      <td>Treg</td>\n",
       "      <td>Yes</td>\n",
       "      <td>Yes</td>\n",
       "    </tr>\n",
       "    <tr>\n",
       "      <th>11</th>\n",
       "      <td>11</td>\n",
       "      <td>KLRB1+ memory CD8 Treg</td>\n",
       "      <td>T cell</td>\n",
       "      <td>Yes</td>\n",
       "      <td>Treg</td>\n",
       "      <td>Yes</td>\n",
       "      <td>Yes</td>\n",
       "    </tr>\n",
       "    <tr>\n",
       "      <th>12</th>\n",
       "      <td>12</td>\n",
       "      <td>Memory CD4 Treg</td>\n",
       "      <td>T cell</td>\n",
       "      <td>Yes</td>\n",
       "      <td>Treg</td>\n",
       "      <td>Yes</td>\n",
       "      <td>Yes</td>\n",
       "    </tr>\n",
       "    <tr>\n",
       "      <th>13</th>\n",
       "      <td>13</td>\n",
       "      <td>Memory CD4 Treg</td>\n",
       "      <td>T cell</td>\n",
       "      <td>Yes</td>\n",
       "      <td>Treg</td>\n",
       "      <td>Yes</td>\n",
       "      <td>Yes</td>\n",
       "    </tr>\n",
       "    <tr>\n",
       "      <th>14</th>\n",
       "      <td>14</td>\n",
       "      <td>GZMK+ memory CD4 Treg</td>\n",
       "      <td>T cell</td>\n",
       "      <td>Yes</td>\n",
       "      <td>Treg</td>\n",
       "      <td>Yes</td>\n",
       "      <td>Yes</td>\n",
       "    </tr>\n",
       "  </tbody>\n",
       "</table>\n",
       "</div>"
      ],
      "text/plain": [
       "   leiden_resolution_1.5_treg                 AIFI_L3 AIFI_L1 AIFI_L1_Final  \\\n",
       "0                           0          Naive CD4 Treg  T cell           Yes   \n",
       "1                           1          Naive CD4 Treg  T cell           Yes   \n",
       "2                           2         Memory CD4 Treg  T cell           Yes   \n",
       "3                           3          Naive CD4 Treg  T cell           Yes   \n",
       "4                           4         Memory CD4 Treg  T cell           Yes   \n",
       "5                           5          Naive CD4 Treg  T cell           Yes   \n",
       "6                           6  KLRB1+ memory CD4 Treg  T cell           Yes   \n",
       "7                           7         Memory CD4 Treg  T cell           Yes   \n",
       "8                           8          Naive CD4 Treg  T cell           Yes   \n",
       "9                           9          Naive CD4 Treg  T cell           Yes   \n",
       "10                         10         Memory CD4 Treg  T cell           Yes   \n",
       "11                         11  KLRB1+ memory CD8 Treg  T cell           Yes   \n",
       "12                         12         Memory CD4 Treg  T cell           Yes   \n",
       "13                         13         Memory CD4 Treg  T cell           Yes   \n",
       "14                         14   GZMK+ memory CD4 Treg  T cell           Yes   \n",
       "\n",
       "   AIFI_L2 AIFI_L2_Final AIFI_L3_Final  \n",
       "0     Treg           Yes           Yes  \n",
       "1     Treg           Yes           Yes  \n",
       "2     Treg           Yes           Yes  \n",
       "3     Treg           Yes           Yes  \n",
       "4     Treg           Yes           Yes  \n",
       "5     Treg           Yes           Yes  \n",
       "6     Treg           Yes           Yes  \n",
       "7     Treg           Yes           Yes  \n",
       "8     Treg           Yes           Yes  \n",
       "9     Treg           Yes           Yes  \n",
       "10    Treg           Yes           Yes  \n",
       "11    Treg           Yes           Yes  \n",
       "12    Treg           Yes           Yes  \n",
       "13    Treg           Yes           Yes  \n",
       "14    Treg           Yes           Yes  "
      ]
     },
     "execution_count": 93,
     "metadata": {},
     "output_type": "execute_result"
    }
   ],
   "source": [
    "label_df"
   ]
  },
  {
   "cell_type": "code",
   "execution_count": 94,
   "id": "746e70e5-764a-4e22-a607-308c89d49d4f",
   "metadata": {},
   "outputs": [],
   "source": [
    "out_dir = '../04-Annotation/annotations/'\n",
    "out_file = '{p}/pbmc_ref_{c}_annotations_{d}.csv'.format(\n",
    "    p = out_dir,\n",
    "    c = cell_class,\n",
    "    d = date.today()\n",
    ")\n",
    "label_df.to_csv(out_file)"
   ]
  },
  {
   "cell_type": "code",
   "execution_count": 95,
   "id": "d1ef0ec4-18d8-46fc-b12c-e9126c8a3b09",
   "metadata": {},
   "outputs": [
    {
     "name": "stderr",
     "output_type": "stream",
     "text": [
      "/opt/conda/lib/python3.10/site-packages/pandas/core/arrays/categorical.py:568: RuntimeWarning: invalid value encountered in cast\n",
      "  np.array(self.categories._na_value).astype(dtype)\n"
     ]
    }
   ],
   "source": [
    "new_anno = new_obs[['barcodes', new_col]]\n",
    "new_anno = new_anno.merge(label_df, on = new_col, how = 'left')\n",
    "new_anno = new_anno.rename({new_col: 'label_cl'}, axis = 1)\n",
    "new_anno['label_cl'] = new_anno['label_cl'].astype(str)\n",
    "new_anno['label_cl'] = [new_col + '_cl' + x for x in new_anno['label_cl']]\n",
    "new_anno_dict[cell_class] = new_anno"
   ]
  },
  {
   "cell_type": "markdown",
   "id": "442d17b7-9b16-4048-b03e-f45ba78a321c",
   "metadata": {},
   "source": [
    "## CD8 Naive cells"
   ]
  },
  {
   "cell_type": "markdown",
   "id": "0b91cbf2-dda8-4779-9a96-869df7428d55",
   "metadata": {},
   "source": [
    "New clustering"
   ]
  },
  {
   "cell_type": "code",
   "execution_count": 96,
   "id": "65b0622b-26c3-47cd-8859-f17d1762153f",
   "metadata": {},
   "outputs": [],
   "source": [
    "cell_class = 't-cd8-naive'"
   ]
  },
  {
   "cell_type": "code",
   "execution_count": 97,
   "id": "111234db-9f90-4d1d-b066-249a48086837",
   "metadata": {},
   "outputs": [],
   "source": [
    "pq_uuid = '9fb15399-7867-4ea9-b4a1-bcbf2d29e0a1'"
   ]
  },
  {
   "cell_type": "code",
   "execution_count": 98,
   "id": "31cc9e5e-5f8b-4358-a7d9-50e31ef468e1",
   "metadata": {},
   "outputs": [],
   "source": [
    "new_obs = read_parquet_uuid(pq_uuid)"
   ]
  },
  {
   "cell_type": "code",
   "execution_count": 99,
   "id": "92271cde-0912-4cf5-83be-5ff133aa2bfe",
   "metadata": {},
   "outputs": [
    {
     "data": {
      "text/plain": [
       "(121643, 56)"
      ]
     },
     "execution_count": 99,
     "metadata": {},
     "output_type": "execute_result"
    }
   ],
   "source": [
    "new_obs.shape"
   ]
  },
  {
   "cell_type": "code",
   "execution_count": 100,
   "id": "becc7faf-4e94-467b-ab03-9255400d6b2a",
   "metadata": {},
   "outputs": [],
   "source": [
    "new_col = 'leiden_resolution_1.5_t-cd8-naive'"
   ]
  },
  {
   "cell_type": "markdown",
   "id": "62b9e056-4df3-4ba8-a919-691957a427c3",
   "metadata": {},
   "source": [
    "Join and assign to new clusters"
   ]
  },
  {
   "cell_type": "code",
   "execution_count": 101,
   "id": "bcf916d4-1570-4212-842c-b3d6999071d5",
   "metadata": {
    "scrolled": true
   },
   "outputs": [],
   "source": [
    "joint_df = join_anno(og_obs, new_obs, new_col)"
   ]
  },
  {
   "cell_type": "code",
   "execution_count": 102,
   "id": "c09a83ae-a220-4c23-af4d-4e222fa5d4a1",
   "metadata": {},
   "outputs": [
    {
     "data": {
      "text/plain": [
       "22"
      ]
     },
     "execution_count": 102,
     "metadata": {},
     "output_type": "execute_result"
    }
   ],
   "source": [
    "joint_df['AIFI_L3'].isna().sum()"
   ]
  },
  {
   "cell_type": "code",
   "execution_count": 103,
   "id": "e906a93a-66d4-46a6-a641-953029880d36",
   "metadata": {},
   "outputs": [
    {
     "data": {
      "text/html": [
       "<div>\n",
       "<style scoped>\n",
       "    .dataframe tbody tr th:only-of-type {\n",
       "        vertical-align: middle;\n",
       "    }\n",
       "\n",
       "    .dataframe tbody tr th {\n",
       "        vertical-align: top;\n",
       "    }\n",
       "\n",
       "    .dataframe thead th {\n",
       "        text-align: right;\n",
       "    }\n",
       "</style>\n",
       "<table border=\"1\" class=\"dataframe\">\n",
       "  <thead>\n",
       "    <tr style=\"text-align: right;\">\n",
       "      <th></th>\n",
       "      <th>barcodes</th>\n",
       "      <th>leiden_resolution_1.5_t-cd8-naive</th>\n",
       "      <th>AIFI_L1</th>\n",
       "      <th>AIFI_L1_Final</th>\n",
       "      <th>AIFI_L2</th>\n",
       "      <th>AIFI_L2_Final</th>\n",
       "      <th>AIFI_L3</th>\n",
       "      <th>AIFI_L3_Final</th>\n",
       "    </tr>\n",
       "  </thead>\n",
       "  <tbody>\n",
       "    <tr>\n",
       "      <th>0</th>\n",
       "      <td>cf7224c248b611ea8957bafe6d70929e</td>\n",
       "      <td>4</td>\n",
       "      <td>T cell</td>\n",
       "      <td>Yes</td>\n",
       "      <td>Naive CD8 T cell</td>\n",
       "      <td>Yes</td>\n",
       "      <td>Core naive CD8 T cell</td>\n",
       "      <td>Yes</td>\n",
       "    </tr>\n",
       "    <tr>\n",
       "      <th>1</th>\n",
       "      <td>cf7228a048b611ea8957bafe6d70929e</td>\n",
       "      <td>10</td>\n",
       "      <td>T cell</td>\n",
       "      <td>Yes</td>\n",
       "      <td>Naive CD8 T cell</td>\n",
       "      <td>Yes</td>\n",
       "      <td>Core naive CD8 T cell</td>\n",
       "      <td>Yes</td>\n",
       "    </tr>\n",
       "    <tr>\n",
       "      <th>2</th>\n",
       "      <td>cf7232e648b611ea8957bafe6d70929e</td>\n",
       "      <td>8</td>\n",
       "      <td>T cell</td>\n",
       "      <td>Yes</td>\n",
       "      <td>Naive CD8 T cell</td>\n",
       "      <td>Yes</td>\n",
       "      <td>Core naive CD8 T cell</td>\n",
       "      <td>Yes</td>\n",
       "    </tr>\n",
       "    <tr>\n",
       "      <th>3</th>\n",
       "      <td>cf72937648b611ea8957bafe6d70929e</td>\n",
       "      <td>2</td>\n",
       "      <td>T cell</td>\n",
       "      <td>Yes</td>\n",
       "      <td>Naive CD8 T cell</td>\n",
       "      <td>Yes</td>\n",
       "      <td>Core naive CD8 T cell</td>\n",
       "      <td>Yes</td>\n",
       "    </tr>\n",
       "    <tr>\n",
       "      <th>4</th>\n",
       "      <td>cf72bd2448b611ea8957bafe6d70929e</td>\n",
       "      <td>1</td>\n",
       "      <td>T cell</td>\n",
       "      <td>Yes</td>\n",
       "      <td>Naive CD8 T cell</td>\n",
       "      <td>Yes</td>\n",
       "      <td>Core naive CD8 T cell</td>\n",
       "      <td>Yes</td>\n",
       "    </tr>\n",
       "  </tbody>\n",
       "</table>\n",
       "</div>"
      ],
      "text/plain": [
       "                           barcodes leiden_resolution_1.5_t-cd8-naive AIFI_L1  \\\n",
       "0  cf7224c248b611ea8957bafe6d70929e                                 4  T cell   \n",
       "1  cf7228a048b611ea8957bafe6d70929e                                10  T cell   \n",
       "2  cf7232e648b611ea8957bafe6d70929e                                 8  T cell   \n",
       "3  cf72937648b611ea8957bafe6d70929e                                 2  T cell   \n",
       "4  cf72bd2448b611ea8957bafe6d70929e                                 1  T cell   \n",
       "\n",
       "  AIFI_L1_Final           AIFI_L2 AIFI_L2_Final                 AIFI_L3  \\\n",
       "0           Yes  Naive CD8 T cell           Yes  Core naive CD8 T cell    \n",
       "1           Yes  Naive CD8 T cell           Yes  Core naive CD8 T cell    \n",
       "2           Yes  Naive CD8 T cell           Yes  Core naive CD8 T cell    \n",
       "3           Yes  Naive CD8 T cell           Yes  Core naive CD8 T cell    \n",
       "4           Yes  Naive CD8 T cell           Yes  Core naive CD8 T cell    \n",
       "\n",
       "  AIFI_L3_Final  \n",
       "0           Yes  \n",
       "1           Yes  \n",
       "2           Yes  \n",
       "3           Yes  \n",
       "4           Yes  "
      ]
     },
     "execution_count": 103,
     "metadata": {},
     "output_type": "execute_result"
    }
   ],
   "source": [
    "joint_df.head()"
   ]
  },
  {
   "cell_type": "code",
   "execution_count": 104,
   "id": "0f67a421-a24d-4c7d-887b-23980846fd92",
   "metadata": {},
   "outputs": [
    {
     "name": "stderr",
     "output_type": "stream",
     "text": [
      "/tmp/ipykernel_14191/460635200.py:6: FutureWarning: The default of observed=False is deprecated and will be changed to True in a future version of pandas. Pass observed=False to retain current behavior or observed=True to adopt the future default and silence this warning.\n",
      "  .groupby(new_col)['AIFI_L3']\n"
     ]
    }
   ],
   "source": [
    "label_df = reduce_anno(joint_df, og_anno, new_col)"
   ]
  },
  {
   "cell_type": "code",
   "execution_count": 105,
   "id": "88a2b0f0-6c06-45af-9797-0d5ee02069e3",
   "metadata": {},
   "outputs": [
    {
     "data": {
      "text/html": [
       "<div>\n",
       "<style scoped>\n",
       "    .dataframe tbody tr th:only-of-type {\n",
       "        vertical-align: middle;\n",
       "    }\n",
       "\n",
       "    .dataframe tbody tr th {\n",
       "        vertical-align: top;\n",
       "    }\n",
       "\n",
       "    .dataframe thead th {\n",
       "        text-align: right;\n",
       "    }\n",
       "</style>\n",
       "<table border=\"1\" class=\"dataframe\">\n",
       "  <thead>\n",
       "    <tr style=\"text-align: right;\">\n",
       "      <th></th>\n",
       "      <th>leiden_resolution_1.5_t-cd8-naive</th>\n",
       "      <th>AIFI_L3</th>\n",
       "      <th>AIFI_L1</th>\n",
       "      <th>AIFI_L1_Final</th>\n",
       "      <th>AIFI_L2</th>\n",
       "      <th>AIFI_L2_Final</th>\n",
       "      <th>AIFI_L3_Final</th>\n",
       "    </tr>\n",
       "  </thead>\n",
       "  <tbody>\n",
       "    <tr>\n",
       "      <th>0</th>\n",
       "      <td>0</td>\n",
       "      <td>Core naive CD8 T cell</td>\n",
       "      <td>T cell</td>\n",
       "      <td>Yes</td>\n",
       "      <td>Naive CD8 T cell</td>\n",
       "      <td>Yes</td>\n",
       "      <td>Yes</td>\n",
       "    </tr>\n",
       "    <tr>\n",
       "      <th>1</th>\n",
       "      <td>1</td>\n",
       "      <td>Core naive CD8 T cell</td>\n",
       "      <td>T cell</td>\n",
       "      <td>Yes</td>\n",
       "      <td>Naive CD8 T cell</td>\n",
       "      <td>Yes</td>\n",
       "      <td>Yes</td>\n",
       "    </tr>\n",
       "    <tr>\n",
       "      <th>2</th>\n",
       "      <td>2</td>\n",
       "      <td>Core naive CD8 T cell</td>\n",
       "      <td>T cell</td>\n",
       "      <td>Yes</td>\n",
       "      <td>Naive CD8 T cell</td>\n",
       "      <td>Yes</td>\n",
       "      <td>Yes</td>\n",
       "    </tr>\n",
       "    <tr>\n",
       "      <th>3</th>\n",
       "      <td>3</td>\n",
       "      <td>Core naive CD8 T cell</td>\n",
       "      <td>T cell</td>\n",
       "      <td>Yes</td>\n",
       "      <td>Naive CD8 T cell</td>\n",
       "      <td>Yes</td>\n",
       "      <td>Yes</td>\n",
       "    </tr>\n",
       "    <tr>\n",
       "      <th>4</th>\n",
       "      <td>4</td>\n",
       "      <td>Core naive CD8 T cell</td>\n",
       "      <td>T cell</td>\n",
       "      <td>Yes</td>\n",
       "      <td>Naive CD8 T cell</td>\n",
       "      <td>Yes</td>\n",
       "      <td>Yes</td>\n",
       "    </tr>\n",
       "    <tr>\n",
       "      <th>5</th>\n",
       "      <td>5</td>\n",
       "      <td>Core naive CD8 T cell</td>\n",
       "      <td>T cell</td>\n",
       "      <td>Yes</td>\n",
       "      <td>Naive CD8 T cell</td>\n",
       "      <td>Yes</td>\n",
       "      <td>Yes</td>\n",
       "    </tr>\n",
       "    <tr>\n",
       "      <th>6</th>\n",
       "      <td>6</td>\n",
       "      <td>Core naive CD8 T cell</td>\n",
       "      <td>T cell</td>\n",
       "      <td>Yes</td>\n",
       "      <td>Naive CD8 T cell</td>\n",
       "      <td>Yes</td>\n",
       "      <td>Yes</td>\n",
       "    </tr>\n",
       "    <tr>\n",
       "      <th>7</th>\n",
       "      <td>7</td>\n",
       "      <td>Core naive CD8 T cell</td>\n",
       "      <td>T cell</td>\n",
       "      <td>Yes</td>\n",
       "      <td>Naive CD8 T cell</td>\n",
       "      <td>Yes</td>\n",
       "      <td>Yes</td>\n",
       "    </tr>\n",
       "    <tr>\n",
       "      <th>8</th>\n",
       "      <td>8</td>\n",
       "      <td>Core naive CD8 T cell</td>\n",
       "      <td>T cell</td>\n",
       "      <td>Yes</td>\n",
       "      <td>Naive CD8 T cell</td>\n",
       "      <td>Yes</td>\n",
       "      <td>Yes</td>\n",
       "    </tr>\n",
       "    <tr>\n",
       "      <th>9</th>\n",
       "      <td>9</td>\n",
       "      <td>SOX4+ naive CD8 T cell</td>\n",
       "      <td>T cell</td>\n",
       "      <td>Yes</td>\n",
       "      <td>Naive CD8 T cell</td>\n",
       "      <td>Yes</td>\n",
       "      <td>Yes</td>\n",
       "    </tr>\n",
       "    <tr>\n",
       "      <th>10</th>\n",
       "      <td>10</td>\n",
       "      <td>Core naive CD8 T cell</td>\n",
       "      <td>T cell</td>\n",
       "      <td>Yes</td>\n",
       "      <td>Naive CD8 T cell</td>\n",
       "      <td>Yes</td>\n",
       "      <td>Yes</td>\n",
       "    </tr>\n",
       "    <tr>\n",
       "      <th>11</th>\n",
       "      <td>11</td>\n",
       "      <td>Core naive CD8 T cell</td>\n",
       "      <td>T cell</td>\n",
       "      <td>Yes</td>\n",
       "      <td>Naive CD8 T cell</td>\n",
       "      <td>Yes</td>\n",
       "      <td>Yes</td>\n",
       "    </tr>\n",
       "    <tr>\n",
       "      <th>12</th>\n",
       "      <td>12</td>\n",
       "      <td>CM CD8 T cell</td>\n",
       "      <td>T cell</td>\n",
       "      <td>Yes</td>\n",
       "      <td>Memory CD8 T cell</td>\n",
       "      <td>Yes</td>\n",
       "      <td>Yes</td>\n",
       "    </tr>\n",
       "  </tbody>\n",
       "</table>\n",
       "</div>"
      ],
      "text/plain": [
       "   leiden_resolution_1.5_t-cd8-naive                 AIFI_L3 AIFI_L1  \\\n",
       "0                                  0  Core naive CD8 T cell   T cell   \n",
       "1                                  1  Core naive CD8 T cell   T cell   \n",
       "2                                  2  Core naive CD8 T cell   T cell   \n",
       "3                                  3  Core naive CD8 T cell   T cell   \n",
       "4                                  4  Core naive CD8 T cell   T cell   \n",
       "5                                  5  Core naive CD8 T cell   T cell   \n",
       "6                                  6  Core naive CD8 T cell   T cell   \n",
       "7                                  7  Core naive CD8 T cell   T cell   \n",
       "8                                  8  Core naive CD8 T cell   T cell   \n",
       "9                                  9  SOX4+ naive CD8 T cell  T cell   \n",
       "10                                10  Core naive CD8 T cell   T cell   \n",
       "11                                11  Core naive CD8 T cell   T cell   \n",
       "12                                12           CM CD8 T cell  T cell   \n",
       "\n",
       "   AIFI_L1_Final            AIFI_L2 AIFI_L2_Final AIFI_L3_Final  \n",
       "0            Yes   Naive CD8 T cell           Yes           Yes  \n",
       "1            Yes   Naive CD8 T cell           Yes           Yes  \n",
       "2            Yes   Naive CD8 T cell           Yes           Yes  \n",
       "3            Yes   Naive CD8 T cell           Yes           Yes  \n",
       "4            Yes   Naive CD8 T cell           Yes           Yes  \n",
       "5            Yes   Naive CD8 T cell           Yes           Yes  \n",
       "6            Yes   Naive CD8 T cell           Yes           Yes  \n",
       "7            Yes   Naive CD8 T cell           Yes           Yes  \n",
       "8            Yes   Naive CD8 T cell           Yes           Yes  \n",
       "9            Yes   Naive CD8 T cell           Yes           Yes  \n",
       "10           Yes   Naive CD8 T cell           Yes           Yes  \n",
       "11           Yes   Naive CD8 T cell           Yes           Yes  \n",
       "12           Yes  Memory CD8 T cell           Yes           Yes  "
      ]
     },
     "execution_count": 105,
     "metadata": {},
     "output_type": "execute_result"
    }
   ],
   "source": [
    "label_df"
   ]
  },
  {
   "cell_type": "code",
   "execution_count": 106,
   "id": "d1ce2ab6-a37a-42fa-a5bb-1a2b44ef327a",
   "metadata": {},
   "outputs": [],
   "source": [
    "out_dir = '../04-Annotation/annotations/'\n",
    "out_file = '{p}/pbmc_ref_{c}_annotations_{d}.csv'.format(\n",
    "    p = out_dir,\n",
    "    c = cell_class,\n",
    "    d = date.today()\n",
    ")\n",
    "label_df.to_csv(out_file)"
   ]
  },
  {
   "cell_type": "code",
   "execution_count": 107,
   "id": "95138ec3-9d34-48b5-8f76-cdd8e2d6c55e",
   "metadata": {},
   "outputs": [
    {
     "name": "stderr",
     "output_type": "stream",
     "text": [
      "/opt/conda/lib/python3.10/site-packages/pandas/core/arrays/categorical.py:568: RuntimeWarning: invalid value encountered in cast\n",
      "  np.array(self.categories._na_value).astype(dtype)\n"
     ]
    }
   ],
   "source": [
    "new_anno = new_obs[['barcodes', new_col]]\n",
    "new_anno = new_anno.merge(label_df, on = new_col, how = 'left')\n",
    "new_anno = new_anno.rename({new_col: 'label_cl'}, axis = 1)\n",
    "new_anno['label_cl'] = new_anno['label_cl'].astype(str)\n",
    "new_anno['label_cl'] = [new_col + '_cl' + x for x in new_anno['label_cl']]\n",
    "new_anno_dict[cell_class] = new_anno"
   ]
  },
  {
   "cell_type": "markdown",
   "id": "7ecd8144-d5b3-423d-a05c-d9b6a470c797",
   "metadata": {},
   "source": [
    "## Proliferating cells"
   ]
  },
  {
   "cell_type": "markdown",
   "id": "2e2a9230-d96d-4156-9601-ec7422386534",
   "metadata": {},
   "source": [
    "New clustering"
   ]
  },
  {
   "cell_type": "code",
   "execution_count": 108,
   "id": "3e7f22b5-a216-4f1d-bdcc-d27d254c4a9a",
   "metadata": {},
   "outputs": [],
   "source": [
    "cell_class = 't-proliferating'"
   ]
  },
  {
   "cell_type": "code",
   "execution_count": 109,
   "id": "8a7e88a6-462e-41fc-a8ed-90a6ca21f145",
   "metadata": {},
   "outputs": [],
   "source": [
    "pq_uuid = '5043bfef-7430-413b-af8d-411e3578dab6'"
   ]
  },
  {
   "cell_type": "code",
   "execution_count": 110,
   "id": "a878c28d-a877-4418-9573-f14f4de738ed",
   "metadata": {},
   "outputs": [],
   "source": [
    "new_obs = read_parquet_uuid(pq_uuid)"
   ]
  },
  {
   "cell_type": "code",
   "execution_count": 111,
   "id": "f786ebf7-4a2b-470c-b98c-e383bd1b9c3d",
   "metadata": {},
   "outputs": [
    {
     "data": {
      "text/plain": [
       "(4330, 56)"
      ]
     },
     "execution_count": 111,
     "metadata": {},
     "output_type": "execute_result"
    }
   ],
   "source": [
    "new_obs.shape"
   ]
  },
  {
   "cell_type": "code",
   "execution_count": 112,
   "id": "785843af-42e5-4133-873b-835f877cba65",
   "metadata": {},
   "outputs": [],
   "source": [
    "new_col = 'leiden_resolution_1.5_t-proliferating'"
   ]
  },
  {
   "cell_type": "markdown",
   "id": "0a82683a-5c07-4d45-8977-15377b88e5c3",
   "metadata": {},
   "source": [
    "Join and assign to new clusters"
   ]
  },
  {
   "cell_type": "code",
   "execution_count": 113,
   "id": "b2201da9-1b65-49c3-8be1-94e3ba317546",
   "metadata": {
    "scrolled": true
   },
   "outputs": [],
   "source": [
    "joint_df = join_anno(og_obs, new_obs, new_col)"
   ]
  },
  {
   "cell_type": "code",
   "execution_count": 114,
   "id": "37ff0264-8d9c-42e9-ab1a-e426dc59bc03",
   "metadata": {},
   "outputs": [
    {
     "data": {
      "text/plain": [
       "55"
      ]
     },
     "execution_count": 114,
     "metadata": {},
     "output_type": "execute_result"
    }
   ],
   "source": [
    "joint_df['AIFI_L3'].isna().sum()"
   ]
  },
  {
   "cell_type": "code",
   "execution_count": 115,
   "id": "d9cb4e56-dd72-4eff-9a74-bb29d6cb6da8",
   "metadata": {},
   "outputs": [
    {
     "data": {
      "text/html": [
       "<div>\n",
       "<style scoped>\n",
       "    .dataframe tbody tr th:only-of-type {\n",
       "        vertical-align: middle;\n",
       "    }\n",
       "\n",
       "    .dataframe tbody tr th {\n",
       "        vertical-align: top;\n",
       "    }\n",
       "\n",
       "    .dataframe thead th {\n",
       "        text-align: right;\n",
       "    }\n",
       "</style>\n",
       "<table border=\"1\" class=\"dataframe\">\n",
       "  <thead>\n",
       "    <tr style=\"text-align: right;\">\n",
       "      <th></th>\n",
       "      <th>barcodes</th>\n",
       "      <th>leiden_resolution_1.5_t-proliferating</th>\n",
       "      <th>AIFI_L1</th>\n",
       "      <th>AIFI_L1_Final</th>\n",
       "      <th>AIFI_L2</th>\n",
       "      <th>AIFI_L2_Final</th>\n",
       "      <th>AIFI_L3</th>\n",
       "      <th>AIFI_L3_Final</th>\n",
       "    </tr>\n",
       "  </thead>\n",
       "  <tbody>\n",
       "    <tr>\n",
       "      <th>0</th>\n",
       "      <td>cf721a4048b611ea8957bafe6d70929e</td>\n",
       "      <td>14</td>\n",
       "      <td>NK cell</td>\n",
       "      <td>Yes</td>\n",
       "      <td>Proliferating NK cell</td>\n",
       "      <td>Yes</td>\n",
       "      <td>Proliferating NK cell</td>\n",
       "      <td>Yes</td>\n",
       "    </tr>\n",
       "    <tr>\n",
       "      <th>1</th>\n",
       "      <td>cf73ebd648b611ea8957bafe6d70929e</td>\n",
       "      <td>11</td>\n",
       "      <td>T cell</td>\n",
       "      <td>Yes</td>\n",
       "      <td>Proliferating T cell</td>\n",
       "      <td>Yes</td>\n",
       "      <td>Proliferating T cell</td>\n",
       "      <td>Yes</td>\n",
       "    </tr>\n",
       "    <tr>\n",
       "      <th>2</th>\n",
       "      <td>cf742e8448b611ea8957bafe6d70929e</td>\n",
       "      <td>13</td>\n",
       "      <td>Doublets</td>\n",
       "      <td>Yes</td>\n",
       "      <td>Proliferating Cells+Monocytes Doublets</td>\n",
       "      <td>Yes</td>\n",
       "      <td>Proliferating Cells+Monocytes Doublets</td>\n",
       "      <td>Yes</td>\n",
       "    </tr>\n",
       "    <tr>\n",
       "      <th>3</th>\n",
       "      <td>cf74d2da48b611ea8957bafe6d70929e</td>\n",
       "      <td>15</td>\n",
       "      <td>T cell</td>\n",
       "      <td>Yes</td>\n",
       "      <td>Proliferating T cell</td>\n",
       "      <td>Yes</td>\n",
       "      <td>Proliferating T cell</td>\n",
       "      <td>Yes</td>\n",
       "    </tr>\n",
       "    <tr>\n",
       "      <th>4</th>\n",
       "      <td>cf78947448b611ea8957bafe6d70929e</td>\n",
       "      <td>6</td>\n",
       "      <td>T cell</td>\n",
       "      <td>Yes</td>\n",
       "      <td>Proliferating T cell</td>\n",
       "      <td>Yes</td>\n",
       "      <td>Proliferating T cell</td>\n",
       "      <td>Yes</td>\n",
       "    </tr>\n",
       "  </tbody>\n",
       "</table>\n",
       "</div>"
      ],
      "text/plain": [
       "                           barcodes leiden_resolution_1.5_t-proliferating  \\\n",
       "0  cf721a4048b611ea8957bafe6d70929e                                    14   \n",
       "1  cf73ebd648b611ea8957bafe6d70929e                                    11   \n",
       "2  cf742e8448b611ea8957bafe6d70929e                                    13   \n",
       "3  cf74d2da48b611ea8957bafe6d70929e                                    15   \n",
       "4  cf78947448b611ea8957bafe6d70929e                                     6   \n",
       "\n",
       "    AIFI_L1 AIFI_L1_Final                                 AIFI_L2  \\\n",
       "0   NK cell           Yes                   Proliferating NK cell   \n",
       "1    T cell           Yes                    Proliferating T cell   \n",
       "2  Doublets           Yes  Proliferating Cells+Monocytes Doublets   \n",
       "3    T cell           Yes                    Proliferating T cell   \n",
       "4    T cell           Yes                    Proliferating T cell   \n",
       "\n",
       "  AIFI_L2_Final                                 AIFI_L3 AIFI_L3_Final  \n",
       "0           Yes                   Proliferating NK cell           Yes  \n",
       "1           Yes                    Proliferating T cell           Yes  \n",
       "2           Yes  Proliferating Cells+Monocytes Doublets           Yes  \n",
       "3           Yes                    Proliferating T cell           Yes  \n",
       "4           Yes                    Proliferating T cell           Yes  "
      ]
     },
     "execution_count": 115,
     "metadata": {},
     "output_type": "execute_result"
    }
   ],
   "source": [
    "joint_df.head()"
   ]
  },
  {
   "cell_type": "code",
   "execution_count": 116,
   "id": "bea37bcd-0990-4d96-90ff-c39f750d9e4f",
   "metadata": {},
   "outputs": [
    {
     "name": "stderr",
     "output_type": "stream",
     "text": [
      "/tmp/ipykernel_14191/460635200.py:6: FutureWarning: The default of observed=False is deprecated and will be changed to True in a future version of pandas. Pass observed=False to retain current behavior or observed=True to adopt the future default and silence this warning.\n",
      "  .groupby(new_col)['AIFI_L3']\n"
     ]
    }
   ],
   "source": [
    "label_df = reduce_anno(joint_df, og_anno, new_col)"
   ]
  },
  {
   "cell_type": "code",
   "execution_count": 117,
   "id": "f9c6dc4a-89f3-4d4d-995c-f4c347f0c735",
   "metadata": {},
   "outputs": [
    {
     "data": {
      "text/html": [
       "<div>\n",
       "<style scoped>\n",
       "    .dataframe tbody tr th:only-of-type {\n",
       "        vertical-align: middle;\n",
       "    }\n",
       "\n",
       "    .dataframe tbody tr th {\n",
       "        vertical-align: top;\n",
       "    }\n",
       "\n",
       "    .dataframe thead th {\n",
       "        text-align: right;\n",
       "    }\n",
       "</style>\n",
       "<table border=\"1\" class=\"dataframe\">\n",
       "  <thead>\n",
       "    <tr style=\"text-align: right;\">\n",
       "      <th></th>\n",
       "      <th>leiden_resolution_1.5_t-proliferating</th>\n",
       "      <th>AIFI_L3</th>\n",
       "      <th>AIFI_L1</th>\n",
       "      <th>AIFI_L1_Final</th>\n",
       "      <th>AIFI_L2</th>\n",
       "      <th>AIFI_L2_Final</th>\n",
       "      <th>AIFI_L3_Final</th>\n",
       "    </tr>\n",
       "  </thead>\n",
       "  <tbody>\n",
       "    <tr>\n",
       "      <th>0</th>\n",
       "      <td>0</td>\n",
       "      <td>Proliferating NK cell</td>\n",
       "      <td>NK cell</td>\n",
       "      <td>Yes</td>\n",
       "      <td>Proliferating NK cell</td>\n",
       "      <td>Yes</td>\n",
       "      <td>Yes</td>\n",
       "    </tr>\n",
       "    <tr>\n",
       "      <th>1</th>\n",
       "      <td>1</td>\n",
       "      <td>Proliferating NK cell</td>\n",
       "      <td>NK cell</td>\n",
       "      <td>Yes</td>\n",
       "      <td>Proliferating NK cell</td>\n",
       "      <td>Yes</td>\n",
       "      <td>Yes</td>\n",
       "    </tr>\n",
       "    <tr>\n",
       "      <th>2</th>\n",
       "      <td>2</td>\n",
       "      <td>Proliferating T cell</td>\n",
       "      <td>T cell</td>\n",
       "      <td>Yes</td>\n",
       "      <td>Proliferating T cell</td>\n",
       "      <td>Yes</td>\n",
       "      <td>Yes</td>\n",
       "    </tr>\n",
       "    <tr>\n",
       "      <th>3</th>\n",
       "      <td>3</td>\n",
       "      <td>Proliferating NK cell</td>\n",
       "      <td>NK cell</td>\n",
       "      <td>Yes</td>\n",
       "      <td>Proliferating NK cell</td>\n",
       "      <td>Yes</td>\n",
       "      <td>Yes</td>\n",
       "    </tr>\n",
       "    <tr>\n",
       "      <th>4</th>\n",
       "      <td>4</td>\n",
       "      <td>Proliferating NK cell</td>\n",
       "      <td>NK cell</td>\n",
       "      <td>Yes</td>\n",
       "      <td>Proliferating NK cell</td>\n",
       "      <td>Yes</td>\n",
       "      <td>Yes</td>\n",
       "    </tr>\n",
       "    <tr>\n",
       "      <th>5</th>\n",
       "      <td>5</td>\n",
       "      <td>Proliferating T cell</td>\n",
       "      <td>T cell</td>\n",
       "      <td>Yes</td>\n",
       "      <td>Proliferating T cell</td>\n",
       "      <td>Yes</td>\n",
       "      <td>Yes</td>\n",
       "    </tr>\n",
       "    <tr>\n",
       "      <th>6</th>\n",
       "      <td>6</td>\n",
       "      <td>Proliferating T cell</td>\n",
       "      <td>T cell</td>\n",
       "      <td>Yes</td>\n",
       "      <td>Proliferating T cell</td>\n",
       "      <td>Yes</td>\n",
       "      <td>Yes</td>\n",
       "    </tr>\n",
       "    <tr>\n",
       "      <th>7</th>\n",
       "      <td>7</td>\n",
       "      <td>Proliferating T cell</td>\n",
       "      <td>T cell</td>\n",
       "      <td>Yes</td>\n",
       "      <td>Proliferating T cell</td>\n",
       "      <td>Yes</td>\n",
       "      <td>Yes</td>\n",
       "    </tr>\n",
       "    <tr>\n",
       "      <th>8</th>\n",
       "      <td>8</td>\n",
       "      <td>Proliferating T cell</td>\n",
       "      <td>T cell</td>\n",
       "      <td>Yes</td>\n",
       "      <td>Proliferating T cell</td>\n",
       "      <td>Yes</td>\n",
       "      <td>Yes</td>\n",
       "    </tr>\n",
       "    <tr>\n",
       "      <th>9</th>\n",
       "      <td>9</td>\n",
       "      <td>Proliferating NK cell</td>\n",
       "      <td>NK cell</td>\n",
       "      <td>Yes</td>\n",
       "      <td>Proliferating NK cell</td>\n",
       "      <td>Yes</td>\n",
       "      <td>Yes</td>\n",
       "    </tr>\n",
       "    <tr>\n",
       "      <th>10</th>\n",
       "      <td>10</td>\n",
       "      <td>Proliferating T cell</td>\n",
       "      <td>T cell</td>\n",
       "      <td>Yes</td>\n",
       "      <td>Proliferating T cell</td>\n",
       "      <td>Yes</td>\n",
       "      <td>Yes</td>\n",
       "    </tr>\n",
       "    <tr>\n",
       "      <th>11</th>\n",
       "      <td>11</td>\n",
       "      <td>Proliferating T cell</td>\n",
       "      <td>T cell</td>\n",
       "      <td>Yes</td>\n",
       "      <td>Proliferating T cell</td>\n",
       "      <td>Yes</td>\n",
       "      <td>Yes</td>\n",
       "    </tr>\n",
       "    <tr>\n",
       "      <th>12</th>\n",
       "      <td>12</td>\n",
       "      <td>Proliferating T cell</td>\n",
       "      <td>T cell</td>\n",
       "      <td>Yes</td>\n",
       "      <td>Proliferating T cell</td>\n",
       "      <td>Yes</td>\n",
       "      <td>Yes</td>\n",
       "    </tr>\n",
       "    <tr>\n",
       "      <th>13</th>\n",
       "      <td>13</td>\n",
       "      <td>Proliferating Cells+Monocytes Doublets</td>\n",
       "      <td>Doublets</td>\n",
       "      <td>Yes</td>\n",
       "      <td>Proliferating Cells+Monocytes Doublets</td>\n",
       "      <td>Yes</td>\n",
       "      <td>Yes</td>\n",
       "    </tr>\n",
       "    <tr>\n",
       "      <th>14</th>\n",
       "      <td>14</td>\n",
       "      <td>Proliferating NK cell</td>\n",
       "      <td>NK cell</td>\n",
       "      <td>Yes</td>\n",
       "      <td>Proliferating NK cell</td>\n",
       "      <td>Yes</td>\n",
       "      <td>Yes</td>\n",
       "    </tr>\n",
       "    <tr>\n",
       "      <th>15</th>\n",
       "      <td>15</td>\n",
       "      <td>Proliferating T cell</td>\n",
       "      <td>T cell</td>\n",
       "      <td>Yes</td>\n",
       "      <td>Proliferating T cell</td>\n",
       "      <td>Yes</td>\n",
       "      <td>Yes</td>\n",
       "    </tr>\n",
       "    <tr>\n",
       "      <th>16</th>\n",
       "      <td>16</td>\n",
       "      <td>Proliferating T cell</td>\n",
       "      <td>T cell</td>\n",
       "      <td>Yes</td>\n",
       "      <td>Proliferating T cell</td>\n",
       "      <td>Yes</td>\n",
       "      <td>Yes</td>\n",
       "    </tr>\n",
       "  </tbody>\n",
       "</table>\n",
       "</div>"
      ],
      "text/plain": [
       "   leiden_resolution_1.5_t-proliferating  \\\n",
       "0                                      0   \n",
       "1                                      1   \n",
       "2                                      2   \n",
       "3                                      3   \n",
       "4                                      4   \n",
       "5                                      5   \n",
       "6                                      6   \n",
       "7                                      7   \n",
       "8                                      8   \n",
       "9                                      9   \n",
       "10                                    10   \n",
       "11                                    11   \n",
       "12                                    12   \n",
       "13                                    13   \n",
       "14                                    14   \n",
       "15                                    15   \n",
       "16                                    16   \n",
       "\n",
       "                                   AIFI_L3   AIFI_L1 AIFI_L1_Final  \\\n",
       "0                    Proliferating NK cell   NK cell           Yes   \n",
       "1                    Proliferating NK cell   NK cell           Yes   \n",
       "2                     Proliferating T cell    T cell           Yes   \n",
       "3                    Proliferating NK cell   NK cell           Yes   \n",
       "4                    Proliferating NK cell   NK cell           Yes   \n",
       "5                     Proliferating T cell    T cell           Yes   \n",
       "6                     Proliferating T cell    T cell           Yes   \n",
       "7                     Proliferating T cell    T cell           Yes   \n",
       "8                     Proliferating T cell    T cell           Yes   \n",
       "9                    Proliferating NK cell   NK cell           Yes   \n",
       "10                    Proliferating T cell    T cell           Yes   \n",
       "11                    Proliferating T cell    T cell           Yes   \n",
       "12                    Proliferating T cell    T cell           Yes   \n",
       "13  Proliferating Cells+Monocytes Doublets  Doublets           Yes   \n",
       "14                   Proliferating NK cell   NK cell           Yes   \n",
       "15                    Proliferating T cell    T cell           Yes   \n",
       "16                    Proliferating T cell    T cell           Yes   \n",
       "\n",
       "                                   AIFI_L2 AIFI_L2_Final AIFI_L3_Final  \n",
       "0                    Proliferating NK cell           Yes           Yes  \n",
       "1                    Proliferating NK cell           Yes           Yes  \n",
       "2                     Proliferating T cell           Yes           Yes  \n",
       "3                    Proliferating NK cell           Yes           Yes  \n",
       "4                    Proliferating NK cell           Yes           Yes  \n",
       "5                     Proliferating T cell           Yes           Yes  \n",
       "6                     Proliferating T cell           Yes           Yes  \n",
       "7                     Proliferating T cell           Yes           Yes  \n",
       "8                     Proliferating T cell           Yes           Yes  \n",
       "9                    Proliferating NK cell           Yes           Yes  \n",
       "10                    Proliferating T cell           Yes           Yes  \n",
       "11                    Proliferating T cell           Yes           Yes  \n",
       "12                    Proliferating T cell           Yes           Yes  \n",
       "13  Proliferating Cells+Monocytes Doublets           Yes           Yes  \n",
       "14                   Proliferating NK cell           Yes           Yes  \n",
       "15                    Proliferating T cell           Yes           Yes  \n",
       "16                    Proliferating T cell           Yes           Yes  "
      ]
     },
     "execution_count": 117,
     "metadata": {},
     "output_type": "execute_result"
    }
   ],
   "source": [
    "label_df"
   ]
  },
  {
   "cell_type": "code",
   "execution_count": 118,
   "id": "9036ab04-7963-4936-a18a-d7fe99676f11",
   "metadata": {},
   "outputs": [],
   "source": [
    "out_dir = '../04-Annotation/annotations/'\n",
    "out_file = '{p}/pbmc_ref_{c}_annotations_{d}.csv'.format(\n",
    "    p = out_dir,\n",
    "    c = cell_class,\n",
    "    d = date.today()\n",
    ")\n",
    "label_df.to_csv(out_file)"
   ]
  },
  {
   "cell_type": "code",
   "execution_count": 119,
   "id": "2a8519c0-6bf1-4e07-b272-0262a2f1f0b0",
   "metadata": {},
   "outputs": [
    {
     "name": "stderr",
     "output_type": "stream",
     "text": [
      "/opt/conda/lib/python3.10/site-packages/pandas/core/arrays/categorical.py:568: RuntimeWarning: invalid value encountered in cast\n",
      "  np.array(self.categories._na_value).astype(dtype)\n"
     ]
    }
   ],
   "source": [
    "new_anno = new_obs[['barcodes', new_col]]\n",
    "new_anno = new_anno.merge(label_df, on = new_col, how = 'left')\n",
    "new_anno = new_anno.rename({new_col: 'label_cl'}, axis = 1)\n",
    "new_anno['label_cl'] = new_anno['label_cl'].astype(str)\n",
    "new_anno['label_cl'] = [new_col + '_cl' + x for x in new_anno['label_cl']]\n",
    "new_anno_dict[cell_class] = new_anno"
   ]
  },
  {
   "cell_type": "markdown",
   "id": "a58f5a07-5281-4dda-8d32-5f71d0aa6d68",
   "metadata": {},
   "source": [
    "## ISG-high cells"
   ]
  },
  {
   "cell_type": "markdown",
   "id": "748f34db-16e6-4c79-b68d-a1efa40ea1f5",
   "metadata": {},
   "source": [
    "New clustering"
   ]
  },
  {
   "cell_type": "code",
   "execution_count": 120,
   "id": "21e805d7-5b92-4246-8509-ad6c6c20c05a",
   "metadata": {},
   "outputs": [],
   "source": [
    "cell_class = 't-isg-high'"
   ]
  },
  {
   "cell_type": "code",
   "execution_count": 121,
   "id": "a1fb3a7c-8929-4314-bf4e-c922f9826c31",
   "metadata": {},
   "outputs": [],
   "source": [
    "pq_uuid = 'c6be4029-b822-4558-9629-f33b96e227c5'"
   ]
  },
  {
   "cell_type": "code",
   "execution_count": 122,
   "id": "f6ff024f-c3a9-436b-b6ee-0e36d6d9b0e2",
   "metadata": {},
   "outputs": [],
   "source": [
    "new_obs = read_parquet_uuid(pq_uuid)"
   ]
  },
  {
   "cell_type": "code",
   "execution_count": 123,
   "id": "c69637b7-34e6-4f47-a79d-24eba9bb7c08",
   "metadata": {},
   "outputs": [
    {
     "data": {
      "text/plain": [
       "(14140, 56)"
      ]
     },
     "execution_count": 123,
     "metadata": {},
     "output_type": "execute_result"
    }
   ],
   "source": [
    "new_obs.shape"
   ]
  },
  {
   "cell_type": "code",
   "execution_count": 124,
   "id": "d89b7931-4044-4efd-91f5-bd109cf4bd94",
   "metadata": {},
   "outputs": [],
   "source": [
    "new_col = 'leiden_resolution_2_t-isg-high'"
   ]
  },
  {
   "cell_type": "markdown",
   "id": "c4646ace-8505-4b0d-8100-974e7d108448",
   "metadata": {},
   "source": [
    "Join and assign to new clusters"
   ]
  },
  {
   "cell_type": "code",
   "execution_count": 125,
   "id": "72fafc09-8bdd-4cff-842f-38069d515e9b",
   "metadata": {
    "scrolled": true
   },
   "outputs": [],
   "source": [
    "joint_df = join_anno(og_obs, new_obs, new_col)"
   ]
  },
  {
   "cell_type": "code",
   "execution_count": 126,
   "id": "35e23504-5ee8-4e55-b3d7-36ec42ff2129",
   "metadata": {},
   "outputs": [
    {
     "data": {
      "text/plain": [
       "1"
      ]
     },
     "execution_count": 126,
     "metadata": {},
     "output_type": "execute_result"
    }
   ],
   "source": [
    "joint_df['AIFI_L3'].isna().sum()"
   ]
  },
  {
   "cell_type": "code",
   "execution_count": 127,
   "id": "f38b941c-5ee1-4e41-b258-52fdfb37e933",
   "metadata": {},
   "outputs": [
    {
     "data": {
      "text/html": [
       "<div>\n",
       "<style scoped>\n",
       "    .dataframe tbody tr th:only-of-type {\n",
       "        vertical-align: middle;\n",
       "    }\n",
       "\n",
       "    .dataframe tbody tr th {\n",
       "        vertical-align: top;\n",
       "    }\n",
       "\n",
       "    .dataframe thead th {\n",
       "        text-align: right;\n",
       "    }\n",
       "</style>\n",
       "<table border=\"1\" class=\"dataframe\">\n",
       "  <thead>\n",
       "    <tr style=\"text-align: right;\">\n",
       "      <th></th>\n",
       "      <th>barcodes</th>\n",
       "      <th>leiden_resolution_2_t-isg-high</th>\n",
       "      <th>AIFI_L1</th>\n",
       "      <th>AIFI_L1_Final</th>\n",
       "      <th>AIFI_L2</th>\n",
       "      <th>AIFI_L2_Final</th>\n",
       "      <th>AIFI_L3</th>\n",
       "      <th>AIFI_L3_Final</th>\n",
       "    </tr>\n",
       "  </thead>\n",
       "  <tbody>\n",
       "    <tr>\n",
       "      <th>0</th>\n",
       "      <td>cf76c3ba48b611ea8957bafe6d70929e</td>\n",
       "      <td>2</td>\n",
       "      <td>T cell</td>\n",
       "      <td>Yes</td>\n",
       "      <td>Memory CD4 T cell</td>\n",
       "      <td>Yes</td>\n",
       "      <td>ISG+ memory CD4 T cell</td>\n",
       "      <td>Yes</td>\n",
       "    </tr>\n",
       "    <tr>\n",
       "      <th>1</th>\n",
       "      <td>cf78976c48b611ea8957bafe6d70929e</td>\n",
       "      <td>1</td>\n",
       "      <td>T cell</td>\n",
       "      <td>Yes</td>\n",
       "      <td>Naive CD4 T cell</td>\n",
       "      <td>Yes</td>\n",
       "      <td>ISG+ naive CD4 T cell</td>\n",
       "      <td>Yes</td>\n",
       "    </tr>\n",
       "    <tr>\n",
       "      <th>2</th>\n",
       "      <td>cf7c68a648b611ea8957bafe6d70929e</td>\n",
       "      <td>15</td>\n",
       "      <td>T cell</td>\n",
       "      <td>Yes</td>\n",
       "      <td>Memory CD4 T cell</td>\n",
       "      <td>Yes</td>\n",
       "      <td>ISG+ memory CD4 T cell</td>\n",
       "      <td>Yes</td>\n",
       "    </tr>\n",
       "    <tr>\n",
       "      <th>3</th>\n",
       "      <td>cf7e220448b611ea8957bafe6d70929e</td>\n",
       "      <td>13</td>\n",
       "      <td>T cell</td>\n",
       "      <td>Yes</td>\n",
       "      <td>Naive CD4 T cell</td>\n",
       "      <td>Yes</td>\n",
       "      <td>ISG+ naive CD4 T cell</td>\n",
       "      <td>Yes</td>\n",
       "    </tr>\n",
       "    <tr>\n",
       "      <th>4</th>\n",
       "      <td>cf84c32048b611ea8957bafe6d70929e</td>\n",
       "      <td>7</td>\n",
       "      <td>T cell</td>\n",
       "      <td>Yes</td>\n",
       "      <td>Naive CD8 T cell</td>\n",
       "      <td>Yes</td>\n",
       "      <td>ISG+ naive CD8 T cell</td>\n",
       "      <td>Yes</td>\n",
       "    </tr>\n",
       "  </tbody>\n",
       "</table>\n",
       "</div>"
      ],
      "text/plain": [
       "                           barcodes leiden_resolution_2_t-isg-high AIFI_L1  \\\n",
       "0  cf76c3ba48b611ea8957bafe6d70929e                              2  T cell   \n",
       "1  cf78976c48b611ea8957bafe6d70929e                              1  T cell   \n",
       "2  cf7c68a648b611ea8957bafe6d70929e                             15  T cell   \n",
       "3  cf7e220448b611ea8957bafe6d70929e                             13  T cell   \n",
       "4  cf84c32048b611ea8957bafe6d70929e                              7  T cell   \n",
       "\n",
       "  AIFI_L1_Final            AIFI_L2 AIFI_L2_Final                 AIFI_L3  \\\n",
       "0           Yes  Memory CD4 T cell           Yes  ISG+ memory CD4 T cell   \n",
       "1           Yes   Naive CD4 T cell           Yes   ISG+ naive CD4 T cell   \n",
       "2           Yes  Memory CD4 T cell           Yes  ISG+ memory CD4 T cell   \n",
       "3           Yes   Naive CD4 T cell           Yes   ISG+ naive CD4 T cell   \n",
       "4           Yes   Naive CD8 T cell           Yes   ISG+ naive CD8 T cell   \n",
       "\n",
       "  AIFI_L3_Final  \n",
       "0           Yes  \n",
       "1           Yes  \n",
       "2           Yes  \n",
       "3           Yes  \n",
       "4           Yes  "
      ]
     },
     "execution_count": 127,
     "metadata": {},
     "output_type": "execute_result"
    }
   ],
   "source": [
    "joint_df.head()"
   ]
  },
  {
   "cell_type": "code",
   "execution_count": 128,
   "id": "bc5769e0-027e-41de-bf55-1c74797c8322",
   "metadata": {},
   "outputs": [
    {
     "name": "stderr",
     "output_type": "stream",
     "text": [
      "/tmp/ipykernel_14191/460635200.py:6: FutureWarning: The default of observed=False is deprecated and will be changed to True in a future version of pandas. Pass observed=False to retain current behavior or observed=True to adopt the future default and silence this warning.\n",
      "  .groupby(new_col)['AIFI_L3']\n"
     ]
    }
   ],
   "source": [
    "label_df = reduce_anno(joint_df, og_anno, new_col)"
   ]
  },
  {
   "cell_type": "code",
   "execution_count": 129,
   "id": "f9517c30-9031-4f6a-9676-9dbd41915479",
   "metadata": {},
   "outputs": [
    {
     "data": {
      "text/html": [
       "<div>\n",
       "<style scoped>\n",
       "    .dataframe tbody tr th:only-of-type {\n",
       "        vertical-align: middle;\n",
       "    }\n",
       "\n",
       "    .dataframe tbody tr th {\n",
       "        vertical-align: top;\n",
       "    }\n",
       "\n",
       "    .dataframe thead th {\n",
       "        text-align: right;\n",
       "    }\n",
       "</style>\n",
       "<table border=\"1\" class=\"dataframe\">\n",
       "  <thead>\n",
       "    <tr style=\"text-align: right;\">\n",
       "      <th></th>\n",
       "      <th>leiden_resolution_2_t-isg-high</th>\n",
       "      <th>AIFI_L3</th>\n",
       "      <th>AIFI_L1</th>\n",
       "      <th>AIFI_L1_Final</th>\n",
       "      <th>AIFI_L2</th>\n",
       "      <th>AIFI_L2_Final</th>\n",
       "      <th>AIFI_L3_Final</th>\n",
       "    </tr>\n",
       "  </thead>\n",
       "  <tbody>\n",
       "    <tr>\n",
       "      <th>0</th>\n",
       "      <td>0</td>\n",
       "      <td>ISG+ naive CD4 T cell</td>\n",
       "      <td>T cell</td>\n",
       "      <td>Yes</td>\n",
       "      <td>Naive CD4 T cell</td>\n",
       "      <td>Yes</td>\n",
       "      <td>Yes</td>\n",
       "    </tr>\n",
       "    <tr>\n",
       "      <th>1</th>\n",
       "      <td>1</td>\n",
       "      <td>ISG+ naive CD4 T cell</td>\n",
       "      <td>T cell</td>\n",
       "      <td>Yes</td>\n",
       "      <td>Naive CD4 T cell</td>\n",
       "      <td>Yes</td>\n",
       "      <td>Yes</td>\n",
       "    </tr>\n",
       "    <tr>\n",
       "      <th>2</th>\n",
       "      <td>2</td>\n",
       "      <td>ISG+ memory CD4 T cell</td>\n",
       "      <td>T cell</td>\n",
       "      <td>Yes</td>\n",
       "      <td>Memory CD4 T cell</td>\n",
       "      <td>Yes</td>\n",
       "      <td>Yes</td>\n",
       "    </tr>\n",
       "    <tr>\n",
       "      <th>3</th>\n",
       "      <td>3</td>\n",
       "      <td>ISG+ naive CD4 T cell</td>\n",
       "      <td>T cell</td>\n",
       "      <td>Yes</td>\n",
       "      <td>Naive CD4 T cell</td>\n",
       "      <td>Yes</td>\n",
       "      <td>Yes</td>\n",
       "    </tr>\n",
       "    <tr>\n",
       "      <th>4</th>\n",
       "      <td>4</td>\n",
       "      <td>ISG+ naive CD4 T cell</td>\n",
       "      <td>T cell</td>\n",
       "      <td>Yes</td>\n",
       "      <td>Naive CD4 T cell</td>\n",
       "      <td>Yes</td>\n",
       "      <td>Yes</td>\n",
       "    </tr>\n",
       "    <tr>\n",
       "      <th>5</th>\n",
       "      <td>5</td>\n",
       "      <td>ISG+ memory CD4 T cell</td>\n",
       "      <td>T cell</td>\n",
       "      <td>Yes</td>\n",
       "      <td>Memory CD4 T cell</td>\n",
       "      <td>Yes</td>\n",
       "      <td>Yes</td>\n",
       "    </tr>\n",
       "    <tr>\n",
       "      <th>6</th>\n",
       "      <td>6</td>\n",
       "      <td>ISG+ memory CD4 T cell</td>\n",
       "      <td>T cell</td>\n",
       "      <td>Yes</td>\n",
       "      <td>Memory CD4 T cell</td>\n",
       "      <td>Yes</td>\n",
       "      <td>Yes</td>\n",
       "    </tr>\n",
       "    <tr>\n",
       "      <th>7</th>\n",
       "      <td>7</td>\n",
       "      <td>ISG+ naive CD8 T cell</td>\n",
       "      <td>T cell</td>\n",
       "      <td>Yes</td>\n",
       "      <td>Naive CD8 T cell</td>\n",
       "      <td>Yes</td>\n",
       "      <td>Yes</td>\n",
       "    </tr>\n",
       "    <tr>\n",
       "      <th>8</th>\n",
       "      <td>8</td>\n",
       "      <td>ISG+ naive CD4 T cell</td>\n",
       "      <td>T cell</td>\n",
       "      <td>Yes</td>\n",
       "      <td>Naive CD4 T cell</td>\n",
       "      <td>Yes</td>\n",
       "      <td>Yes</td>\n",
       "    </tr>\n",
       "    <tr>\n",
       "      <th>9</th>\n",
       "      <td>9</td>\n",
       "      <td>ISG+ memory CD8 T cell</td>\n",
       "      <td>T cell</td>\n",
       "      <td>Yes</td>\n",
       "      <td>Memory CD8 T cell</td>\n",
       "      <td>Yes</td>\n",
       "      <td>Yes</td>\n",
       "    </tr>\n",
       "    <tr>\n",
       "      <th>10</th>\n",
       "      <td>10</td>\n",
       "      <td>ISG+ memory CD4 T cell</td>\n",
       "      <td>T cell</td>\n",
       "      <td>Yes</td>\n",
       "      <td>Memory CD4 T cell</td>\n",
       "      <td>Yes</td>\n",
       "      <td>Yes</td>\n",
       "    </tr>\n",
       "    <tr>\n",
       "      <th>11</th>\n",
       "      <td>11</td>\n",
       "      <td>ISG+ memory CD4 T cell</td>\n",
       "      <td>T cell</td>\n",
       "      <td>Yes</td>\n",
       "      <td>Memory CD4 T cell</td>\n",
       "      <td>Yes</td>\n",
       "      <td>Yes</td>\n",
       "    </tr>\n",
       "    <tr>\n",
       "      <th>12</th>\n",
       "      <td>12</td>\n",
       "      <td>ISG+ naive CD4 T cell</td>\n",
       "      <td>T cell</td>\n",
       "      <td>Yes</td>\n",
       "      <td>Naive CD4 T cell</td>\n",
       "      <td>Yes</td>\n",
       "      <td>Yes</td>\n",
       "    </tr>\n",
       "    <tr>\n",
       "      <th>13</th>\n",
       "      <td>13</td>\n",
       "      <td>ISG+ naive CD4 T cell</td>\n",
       "      <td>T cell</td>\n",
       "      <td>Yes</td>\n",
       "      <td>Naive CD4 T cell</td>\n",
       "      <td>Yes</td>\n",
       "      <td>Yes</td>\n",
       "    </tr>\n",
       "    <tr>\n",
       "      <th>14</th>\n",
       "      <td>14</td>\n",
       "      <td>ISG+ memory CD8 T cell</td>\n",
       "      <td>T cell</td>\n",
       "      <td>Yes</td>\n",
       "      <td>Memory CD8 T cell</td>\n",
       "      <td>Yes</td>\n",
       "      <td>Yes</td>\n",
       "    </tr>\n",
       "    <tr>\n",
       "      <th>15</th>\n",
       "      <td>15</td>\n",
       "      <td>ISG+ memory CD4 T cell</td>\n",
       "      <td>T cell</td>\n",
       "      <td>Yes</td>\n",
       "      <td>Memory CD4 T cell</td>\n",
       "      <td>Yes</td>\n",
       "      <td>Yes</td>\n",
       "    </tr>\n",
       "    <tr>\n",
       "      <th>16</th>\n",
       "      <td>16</td>\n",
       "      <td>ISG+ memory CD4 T cell</td>\n",
       "      <td>T cell</td>\n",
       "      <td>Yes</td>\n",
       "      <td>Memory CD4 T cell</td>\n",
       "      <td>Yes</td>\n",
       "      <td>Yes</td>\n",
       "    </tr>\n",
       "    <tr>\n",
       "      <th>17</th>\n",
       "      <td>17</td>\n",
       "      <td>ISG+ naive CD4 T cell</td>\n",
       "      <td>T cell</td>\n",
       "      <td>Yes</td>\n",
       "      <td>Naive CD4 T cell</td>\n",
       "      <td>Yes</td>\n",
       "      <td>Yes</td>\n",
       "    </tr>\n",
       "    <tr>\n",
       "      <th>18</th>\n",
       "      <td>18</td>\n",
       "      <td>ISG+ naive CD4 T cell</td>\n",
       "      <td>T cell</td>\n",
       "      <td>Yes</td>\n",
       "      <td>Naive CD4 T cell</td>\n",
       "      <td>Yes</td>\n",
       "      <td>Yes</td>\n",
       "    </tr>\n",
       "  </tbody>\n",
       "</table>\n",
       "</div>"
      ],
      "text/plain": [
       "   leiden_resolution_2_t-isg-high                 AIFI_L3 AIFI_L1  \\\n",
       "0                               0   ISG+ naive CD4 T cell  T cell   \n",
       "1                               1   ISG+ naive CD4 T cell  T cell   \n",
       "2                               2  ISG+ memory CD4 T cell  T cell   \n",
       "3                               3   ISG+ naive CD4 T cell  T cell   \n",
       "4                               4   ISG+ naive CD4 T cell  T cell   \n",
       "5                               5  ISG+ memory CD4 T cell  T cell   \n",
       "6                               6  ISG+ memory CD4 T cell  T cell   \n",
       "7                               7   ISG+ naive CD8 T cell  T cell   \n",
       "8                               8   ISG+ naive CD4 T cell  T cell   \n",
       "9                               9  ISG+ memory CD8 T cell  T cell   \n",
       "10                             10  ISG+ memory CD4 T cell  T cell   \n",
       "11                             11  ISG+ memory CD4 T cell  T cell   \n",
       "12                             12   ISG+ naive CD4 T cell  T cell   \n",
       "13                             13   ISG+ naive CD4 T cell  T cell   \n",
       "14                             14  ISG+ memory CD8 T cell  T cell   \n",
       "15                             15  ISG+ memory CD4 T cell  T cell   \n",
       "16                             16  ISG+ memory CD4 T cell  T cell   \n",
       "17                             17   ISG+ naive CD4 T cell  T cell   \n",
       "18                             18   ISG+ naive CD4 T cell  T cell   \n",
       "\n",
       "   AIFI_L1_Final            AIFI_L2 AIFI_L2_Final AIFI_L3_Final  \n",
       "0            Yes   Naive CD4 T cell           Yes           Yes  \n",
       "1            Yes   Naive CD4 T cell           Yes           Yes  \n",
       "2            Yes  Memory CD4 T cell           Yes           Yes  \n",
       "3            Yes   Naive CD4 T cell           Yes           Yes  \n",
       "4            Yes   Naive CD4 T cell           Yes           Yes  \n",
       "5            Yes  Memory CD4 T cell           Yes           Yes  \n",
       "6            Yes  Memory CD4 T cell           Yes           Yes  \n",
       "7            Yes   Naive CD8 T cell           Yes           Yes  \n",
       "8            Yes   Naive CD4 T cell           Yes           Yes  \n",
       "9            Yes  Memory CD8 T cell           Yes           Yes  \n",
       "10           Yes  Memory CD4 T cell           Yes           Yes  \n",
       "11           Yes  Memory CD4 T cell           Yes           Yes  \n",
       "12           Yes   Naive CD4 T cell           Yes           Yes  \n",
       "13           Yes   Naive CD4 T cell           Yes           Yes  \n",
       "14           Yes  Memory CD8 T cell           Yes           Yes  \n",
       "15           Yes  Memory CD4 T cell           Yes           Yes  \n",
       "16           Yes  Memory CD4 T cell           Yes           Yes  \n",
       "17           Yes   Naive CD4 T cell           Yes           Yes  \n",
       "18           Yes   Naive CD4 T cell           Yes           Yes  "
      ]
     },
     "execution_count": 129,
     "metadata": {},
     "output_type": "execute_result"
    }
   ],
   "source": [
    "label_df"
   ]
  },
  {
   "cell_type": "code",
   "execution_count": 130,
   "id": "3f4fda87-66cb-490b-8ccb-8fee45a13d44",
   "metadata": {},
   "outputs": [],
   "source": [
    "out_dir = '../04-Annotation/annotations/'\n",
    "out_file = '{p}/pbmc_ref_{c}_annotations_{d}.csv'.format(\n",
    "    p = out_dir,\n",
    "    c = cell_class,\n",
    "    d = date.today()\n",
    ")\n",
    "label_df.to_csv(out_file)"
   ]
  },
  {
   "cell_type": "code",
   "execution_count": 131,
   "id": "92795b68-ba23-41fd-98dd-94050e117551",
   "metadata": {},
   "outputs": [
    {
     "name": "stderr",
     "output_type": "stream",
     "text": [
      "/opt/conda/lib/python3.10/site-packages/pandas/core/arrays/categorical.py:568: RuntimeWarning: invalid value encountered in cast\n",
      "  np.array(self.categories._na_value).astype(dtype)\n"
     ]
    }
   ],
   "source": [
    "new_anno = new_obs[['barcodes', new_col]]\n",
    "new_anno = new_anno.merge(label_df, on = new_col, how = 'left')\n",
    "new_anno = new_anno.rename({new_col: 'label_cl'}, axis = 1)\n",
    "new_anno['label_cl'] = new_anno['label_cl'].astype(str)\n",
    "new_anno['label_cl'] = [new_col + '_cl' + x for x in new_anno['label_cl']]\n",
    "new_anno_dict[cell_class] = new_anno"
   ]
  },
  {
   "cell_type": "markdown",
   "id": "4250474e-be7d-40d7-8271-213fa17aa3cd",
   "metadata": {},
   "source": [
    "## Other T cells"
   ]
  },
  {
   "cell_type": "markdown",
   "id": "e81569ae-8865-4086-8705-559381423704",
   "metadata": {},
   "source": [
    "New clustering"
   ]
  },
  {
   "cell_type": "code",
   "execution_count": 132,
   "id": "14468bd2-3175-48cd-aee4-5cd57d396412",
   "metadata": {},
   "outputs": [],
   "source": [
    "cell_class = 't-other'"
   ]
  },
  {
   "cell_type": "code",
   "execution_count": 133,
   "id": "4d9a5f5a-f249-41ac-be3f-0a265818bb75",
   "metadata": {},
   "outputs": [],
   "source": [
    "pq_uuid = 'a04b6a89-81ff-43ca-b0f8-0b1939f407f1'"
   ]
  },
  {
   "cell_type": "code",
   "execution_count": 134,
   "id": "4fa59d36-79ba-48a5-905a-711427e66ed8",
   "metadata": {},
   "outputs": [],
   "source": [
    "new_obs = read_parquet_uuid(pq_uuid)"
   ]
  },
  {
   "cell_type": "code",
   "execution_count": 135,
   "id": "7f82bddb-942d-4de7-8f48-edc1f0668d2c",
   "metadata": {},
   "outputs": [
    {
     "data": {
      "text/plain": [
       "(376762, 56)"
      ]
     },
     "execution_count": 135,
     "metadata": {},
     "output_type": "execute_result"
    }
   ],
   "source": [
    "new_obs.shape"
   ]
  },
  {
   "cell_type": "code",
   "execution_count": 136,
   "id": "05d68153-aad3-49e3-bdd3-4974ac46524e",
   "metadata": {},
   "outputs": [],
   "source": [
    "new_col = 'leiden_resolution_1.5_t-other'"
   ]
  },
  {
   "cell_type": "markdown",
   "id": "d5e66134-ddaf-41d4-b06d-d6862664011c",
   "metadata": {},
   "source": [
    "Join and assign to new clusters"
   ]
  },
  {
   "cell_type": "code",
   "execution_count": 137,
   "id": "59aaf0cb-4dc1-4c13-a5b8-aad72f6f6781",
   "metadata": {
    "scrolled": true
   },
   "outputs": [],
   "source": [
    "joint_df = join_anno(og_obs, new_obs, new_col)"
   ]
  },
  {
   "cell_type": "code",
   "execution_count": 138,
   "id": "d9131b48-5f22-40cf-af5d-5dc0d6165bbd",
   "metadata": {},
   "outputs": [
    {
     "data": {
      "text/plain": [
       "226"
      ]
     },
     "execution_count": 138,
     "metadata": {},
     "output_type": "execute_result"
    }
   ],
   "source": [
    "joint_df['AIFI_L3'].isna().sum()"
   ]
  },
  {
   "cell_type": "code",
   "execution_count": 139,
   "id": "6335917d-6c4f-437e-9155-8c4c26733db5",
   "metadata": {},
   "outputs": [
    {
     "data": {
      "text/html": [
       "<div>\n",
       "<style scoped>\n",
       "    .dataframe tbody tr th:only-of-type {\n",
       "        vertical-align: middle;\n",
       "    }\n",
       "\n",
       "    .dataframe tbody tr th {\n",
       "        vertical-align: top;\n",
       "    }\n",
       "\n",
       "    .dataframe thead th {\n",
       "        text-align: right;\n",
       "    }\n",
       "</style>\n",
       "<table border=\"1\" class=\"dataframe\">\n",
       "  <thead>\n",
       "    <tr style=\"text-align: right;\">\n",
       "      <th></th>\n",
       "      <th>barcodes</th>\n",
       "      <th>leiden_resolution_1.5_t-other</th>\n",
       "      <th>AIFI_L1</th>\n",
       "      <th>AIFI_L1_Final</th>\n",
       "      <th>AIFI_L2</th>\n",
       "      <th>AIFI_L2_Final</th>\n",
       "      <th>AIFI_L3</th>\n",
       "      <th>AIFI_L3_Final</th>\n",
       "    </tr>\n",
       "  </thead>\n",
       "  <tbody>\n",
       "    <tr>\n",
       "      <th>0</th>\n",
       "      <td>cf71fb7848b611ea8957bafe6d70929e</td>\n",
       "      <td>0</td>\n",
       "      <td>T cell</td>\n",
       "      <td>Yes</td>\n",
       "      <td>Memory CD4 T cell</td>\n",
       "      <td>Yes</td>\n",
       "      <td>CM CD4 T cell</td>\n",
       "      <td>Yes</td>\n",
       "    </tr>\n",
       "    <tr>\n",
       "      <th>1</th>\n",
       "      <td>cf7216a848b611ea8957bafe6d70929e</td>\n",
       "      <td>5</td>\n",
       "      <td>T cell</td>\n",
       "      <td>Yes</td>\n",
       "      <td>Memory CD4 T cell</td>\n",
       "      <td>Yes</td>\n",
       "      <td>GZMB- CD27+ EM CD4 T cell</td>\n",
       "      <td>Yes</td>\n",
       "    </tr>\n",
       "    <tr>\n",
       "      <th>2</th>\n",
       "      <td>cf7226c048b611ea8957bafe6d70929e</td>\n",
       "      <td>13</td>\n",
       "      <td>T cell</td>\n",
       "      <td>Yes</td>\n",
       "      <td>Memory CD4 T cell</td>\n",
       "      <td>Yes</td>\n",
       "      <td>CM CD4 T cell</td>\n",
       "      <td>Yes</td>\n",
       "    </tr>\n",
       "    <tr>\n",
       "      <th>3</th>\n",
       "      <td>cf7238b848b611ea8957bafe6d70929e</td>\n",
       "      <td>8</td>\n",
       "      <td>T cell</td>\n",
       "      <td>Yes</td>\n",
       "      <td>Memory CD4 T cell</td>\n",
       "      <td>Yes</td>\n",
       "      <td>CM CD4 T cell</td>\n",
       "      <td>Yes</td>\n",
       "    </tr>\n",
       "    <tr>\n",
       "      <th>4</th>\n",
       "      <td>cf72802048b611ea8957bafe6d70929e</td>\n",
       "      <td>9</td>\n",
       "      <td>T cell</td>\n",
       "      <td>Yes</td>\n",
       "      <td>Memory CD4 T cell</td>\n",
       "      <td>Yes</td>\n",
       "      <td>GZMB- CD27- EM CD4 T cell</td>\n",
       "      <td>Yes</td>\n",
       "    </tr>\n",
       "  </tbody>\n",
       "</table>\n",
       "</div>"
      ],
      "text/plain": [
       "                           barcodes leiden_resolution_1.5_t-other AIFI_L1  \\\n",
       "0  cf71fb7848b611ea8957bafe6d70929e                             0  T cell   \n",
       "1  cf7216a848b611ea8957bafe6d70929e                             5  T cell   \n",
       "2  cf7226c048b611ea8957bafe6d70929e                            13  T cell   \n",
       "3  cf7238b848b611ea8957bafe6d70929e                             8  T cell   \n",
       "4  cf72802048b611ea8957bafe6d70929e                             9  T cell   \n",
       "\n",
       "  AIFI_L1_Final            AIFI_L2 AIFI_L2_Final                    AIFI_L3  \\\n",
       "0           Yes  Memory CD4 T cell           Yes              CM CD4 T cell   \n",
       "1           Yes  Memory CD4 T cell           Yes  GZMB- CD27+ EM CD4 T cell   \n",
       "2           Yes  Memory CD4 T cell           Yes              CM CD4 T cell   \n",
       "3           Yes  Memory CD4 T cell           Yes              CM CD4 T cell   \n",
       "4           Yes  Memory CD4 T cell           Yes  GZMB- CD27- EM CD4 T cell   \n",
       "\n",
       "  AIFI_L3_Final  \n",
       "0           Yes  \n",
       "1           Yes  \n",
       "2           Yes  \n",
       "3           Yes  \n",
       "4           Yes  "
      ]
     },
     "execution_count": 139,
     "metadata": {},
     "output_type": "execute_result"
    }
   ],
   "source": [
    "joint_df.head()"
   ]
  },
  {
   "cell_type": "code",
   "execution_count": 140,
   "id": "c75522f1-982d-4b91-b04a-2516390c4414",
   "metadata": {},
   "outputs": [
    {
     "name": "stderr",
     "output_type": "stream",
     "text": [
      "/tmp/ipykernel_14191/460635200.py:6: FutureWarning: The default of observed=False is deprecated and will be changed to True in a future version of pandas. Pass observed=False to retain current behavior or observed=True to adopt the future default and silence this warning.\n",
      "  .groupby(new_col)['AIFI_L3']\n"
     ]
    }
   ],
   "source": [
    "label_df = reduce_anno(joint_df, og_anno, new_col)"
   ]
  },
  {
   "cell_type": "code",
   "execution_count": 141,
   "id": "9374bb80-c077-49ff-bc4f-e2630aaf1d88",
   "metadata": {},
   "outputs": [
    {
     "data": {
      "text/html": [
       "<div>\n",
       "<style scoped>\n",
       "    .dataframe tbody tr th:only-of-type {\n",
       "        vertical-align: middle;\n",
       "    }\n",
       "\n",
       "    .dataframe tbody tr th {\n",
       "        vertical-align: top;\n",
       "    }\n",
       "\n",
       "    .dataframe thead th {\n",
       "        text-align: right;\n",
       "    }\n",
       "</style>\n",
       "<table border=\"1\" class=\"dataframe\">\n",
       "  <thead>\n",
       "    <tr style=\"text-align: right;\">\n",
       "      <th></th>\n",
       "      <th>leiden_resolution_1.5_t-other</th>\n",
       "      <th>AIFI_L3</th>\n",
       "      <th>AIFI_L1</th>\n",
       "      <th>AIFI_L1_Final</th>\n",
       "      <th>AIFI_L2</th>\n",
       "      <th>AIFI_L2_Final</th>\n",
       "      <th>AIFI_L3_Final</th>\n",
       "    </tr>\n",
       "  </thead>\n",
       "  <tbody>\n",
       "    <tr>\n",
       "      <th>0</th>\n",
       "      <td>0</td>\n",
       "      <td>CM CD4 T cell</td>\n",
       "      <td>T cell</td>\n",
       "      <td>Yes</td>\n",
       "      <td>Memory CD4 T cell</td>\n",
       "      <td>Yes</td>\n",
       "      <td>Yes</td>\n",
       "    </tr>\n",
       "    <tr>\n",
       "      <th>1</th>\n",
       "      <td>1</td>\n",
       "      <td>CM CD4 T cell</td>\n",
       "      <td>T cell</td>\n",
       "      <td>Yes</td>\n",
       "      <td>Memory CD4 T cell</td>\n",
       "      <td>Yes</td>\n",
       "      <td>Yes</td>\n",
       "    </tr>\n",
       "    <tr>\n",
       "      <th>2</th>\n",
       "      <td>2</td>\n",
       "      <td>CM CD4 T cell</td>\n",
       "      <td>T cell</td>\n",
       "      <td>Yes</td>\n",
       "      <td>Memory CD4 T cell</td>\n",
       "      <td>Yes</td>\n",
       "      <td>Yes</td>\n",
       "    </tr>\n",
       "    <tr>\n",
       "      <th>3</th>\n",
       "      <td>3</td>\n",
       "      <td>GZMK+ CD27+ EM CD8 T cell</td>\n",
       "      <td>T cell</td>\n",
       "      <td>Yes</td>\n",
       "      <td>Memory CD8 T cell</td>\n",
       "      <td>Yes</td>\n",
       "      <td>Yes</td>\n",
       "    </tr>\n",
       "    <tr>\n",
       "      <th>4</th>\n",
       "      <td>4</td>\n",
       "      <td>GZMK+ CD27+ EM CD8 T cell</td>\n",
       "      <td>T cell</td>\n",
       "      <td>Yes</td>\n",
       "      <td>Memory CD8 T cell</td>\n",
       "      <td>Yes</td>\n",
       "      <td>Yes</td>\n",
       "    </tr>\n",
       "    <tr>\n",
       "      <th>5</th>\n",
       "      <td>5</td>\n",
       "      <td>GZMB- CD27+ EM CD4 T cell</td>\n",
       "      <td>T cell</td>\n",
       "      <td>Yes</td>\n",
       "      <td>Memory CD4 T cell</td>\n",
       "      <td>Yes</td>\n",
       "      <td>Yes</td>\n",
       "    </tr>\n",
       "    <tr>\n",
       "      <th>6</th>\n",
       "      <td>6</td>\n",
       "      <td>GZMB- CD27+ EM CD4 T cell</td>\n",
       "      <td>T cell</td>\n",
       "      <td>Yes</td>\n",
       "      <td>Memory CD4 T cell</td>\n",
       "      <td>Yes</td>\n",
       "      <td>Yes</td>\n",
       "    </tr>\n",
       "    <tr>\n",
       "      <th>7</th>\n",
       "      <td>7</td>\n",
       "      <td>CM CD4 T cell</td>\n",
       "      <td>T cell</td>\n",
       "      <td>Yes</td>\n",
       "      <td>Memory CD4 T cell</td>\n",
       "      <td>Yes</td>\n",
       "      <td>Yes</td>\n",
       "    </tr>\n",
       "    <tr>\n",
       "      <th>8</th>\n",
       "      <td>8</td>\n",
       "      <td>GZMB- CD27- EM CD4 T cell</td>\n",
       "      <td>T cell</td>\n",
       "      <td>Yes</td>\n",
       "      <td>Memory CD4 T cell</td>\n",
       "      <td>Yes</td>\n",
       "      <td>Yes</td>\n",
       "    </tr>\n",
       "    <tr>\n",
       "      <th>9</th>\n",
       "      <td>9</td>\n",
       "      <td>GZMB- CD27- EM CD4 T cell</td>\n",
       "      <td>T cell</td>\n",
       "      <td>Yes</td>\n",
       "      <td>Memory CD4 T cell</td>\n",
       "      <td>Yes</td>\n",
       "      <td>Yes</td>\n",
       "    </tr>\n",
       "    <tr>\n",
       "      <th>10</th>\n",
       "      <td>10</td>\n",
       "      <td>GZMB- CD27- EM CD4 T cell</td>\n",
       "      <td>T cell</td>\n",
       "      <td>Yes</td>\n",
       "      <td>Memory CD4 T cell</td>\n",
       "      <td>Yes</td>\n",
       "      <td>Yes</td>\n",
       "    </tr>\n",
       "    <tr>\n",
       "      <th>11</th>\n",
       "      <td>11</td>\n",
       "      <td>CM CD4 T cell</td>\n",
       "      <td>T cell</td>\n",
       "      <td>Yes</td>\n",
       "      <td>Memory CD4 T cell</td>\n",
       "      <td>Yes</td>\n",
       "      <td>Yes</td>\n",
       "    </tr>\n",
       "    <tr>\n",
       "      <th>12</th>\n",
       "      <td>12</td>\n",
       "      <td>GZMB- CD27+ EM CD4 T cell</td>\n",
       "      <td>T cell</td>\n",
       "      <td>Yes</td>\n",
       "      <td>Memory CD4 T cell</td>\n",
       "      <td>Yes</td>\n",
       "      <td>Yes</td>\n",
       "    </tr>\n",
       "    <tr>\n",
       "      <th>13</th>\n",
       "      <td>13</td>\n",
       "      <td>Contamination</td>\n",
       "      <td>Contamination</td>\n",
       "      <td>Yes</td>\n",
       "      <td>Contamination</td>\n",
       "      <td>Yes</td>\n",
       "      <td>Yes</td>\n",
       "    </tr>\n",
       "    <tr>\n",
       "      <th>14</th>\n",
       "      <td>14</td>\n",
       "      <td>Core naive CD4 T cell</td>\n",
       "      <td>T cell</td>\n",
       "      <td>Yes</td>\n",
       "      <td>Naive CD4 T cell</td>\n",
       "      <td>Yes</td>\n",
       "      <td>Yes</td>\n",
       "    </tr>\n",
       "    <tr>\n",
       "      <th>15</th>\n",
       "      <td>15</td>\n",
       "      <td>DN T cell</td>\n",
       "      <td>T cell</td>\n",
       "      <td>Yes</td>\n",
       "      <td>DN T cell</td>\n",
       "      <td>Yes</td>\n",
       "      <td>Yes</td>\n",
       "    </tr>\n",
       "  </tbody>\n",
       "</table>\n",
       "</div>"
      ],
      "text/plain": [
       "   leiden_resolution_1.5_t-other                    AIFI_L3        AIFI_L1  \\\n",
       "0                              0              CM CD4 T cell         T cell   \n",
       "1                              1              CM CD4 T cell         T cell   \n",
       "2                              2              CM CD4 T cell         T cell   \n",
       "3                              3  GZMK+ CD27+ EM CD8 T cell         T cell   \n",
       "4                              4  GZMK+ CD27+ EM CD8 T cell         T cell   \n",
       "5                              5  GZMB- CD27+ EM CD4 T cell         T cell   \n",
       "6                              6  GZMB- CD27+ EM CD4 T cell         T cell   \n",
       "7                              7              CM CD4 T cell         T cell   \n",
       "8                              8  GZMB- CD27- EM CD4 T cell         T cell   \n",
       "9                              9  GZMB- CD27- EM CD4 T cell         T cell   \n",
       "10                            10  GZMB- CD27- EM CD4 T cell         T cell   \n",
       "11                            11              CM CD4 T cell         T cell   \n",
       "12                            12  GZMB- CD27+ EM CD4 T cell         T cell   \n",
       "13                            13              Contamination  Contamination   \n",
       "14                            14      Core naive CD4 T cell         T cell   \n",
       "15                            15                  DN T cell         T cell   \n",
       "\n",
       "   AIFI_L1_Final            AIFI_L2 AIFI_L2_Final AIFI_L3_Final  \n",
       "0            Yes  Memory CD4 T cell           Yes           Yes  \n",
       "1            Yes  Memory CD4 T cell           Yes           Yes  \n",
       "2            Yes  Memory CD4 T cell           Yes           Yes  \n",
       "3            Yes  Memory CD8 T cell           Yes           Yes  \n",
       "4            Yes  Memory CD8 T cell           Yes           Yes  \n",
       "5            Yes  Memory CD4 T cell           Yes           Yes  \n",
       "6            Yes  Memory CD4 T cell           Yes           Yes  \n",
       "7            Yes  Memory CD4 T cell           Yes           Yes  \n",
       "8            Yes  Memory CD4 T cell           Yes           Yes  \n",
       "9            Yes  Memory CD4 T cell           Yes           Yes  \n",
       "10           Yes  Memory CD4 T cell           Yes           Yes  \n",
       "11           Yes  Memory CD4 T cell           Yes           Yes  \n",
       "12           Yes  Memory CD4 T cell           Yes           Yes  \n",
       "13           Yes      Contamination           Yes           Yes  \n",
       "14           Yes   Naive CD4 T cell           Yes           Yes  \n",
       "15           Yes          DN T cell           Yes           Yes  "
      ]
     },
     "execution_count": 141,
     "metadata": {},
     "output_type": "execute_result"
    }
   ],
   "source": [
    "label_df"
   ]
  },
  {
   "cell_type": "code",
   "execution_count": 142,
   "id": "e72d3194-3c2a-4861-8202-404dada84e67",
   "metadata": {},
   "outputs": [],
   "source": [
    "out_dir = '../04-Annotation/annotations/'\n",
    "out_file = '{p}/pbmc_ref_{c}_annotations_{d}.csv'.format(\n",
    "    p = out_dir,\n",
    "    c = cell_class,\n",
    "    d = date.today()\n",
    ")\n",
    "label_df.to_csv(out_file)"
   ]
  },
  {
   "cell_type": "code",
   "execution_count": 143,
   "id": "e77e54f0-489f-46d5-9d77-bc153f1787fe",
   "metadata": {},
   "outputs": [
    {
     "name": "stderr",
     "output_type": "stream",
     "text": [
      "/opt/conda/lib/python3.10/site-packages/pandas/core/arrays/categorical.py:568: RuntimeWarning: invalid value encountered in cast\n",
      "  np.array(self.categories._na_value).astype(dtype)\n"
     ]
    }
   ],
   "source": [
    "new_anno = new_obs[['barcodes', new_col]]\n",
    "new_anno = new_anno.merge(label_df, on = new_col, how = 'left')\n",
    "new_anno = new_anno.rename({new_col: 'label_cl'}, axis = 1)\n",
    "new_anno['label_cl'] = new_anno['label_cl'].astype(str)\n",
    "new_anno['label_cl'] = [new_col + '_cl' + x for x in new_anno['label_cl']]\n",
    "new_anno_dict[cell_class] = new_anno"
   ]
  },
  {
   "cell_type": "markdown",
   "id": "65ef7037-ed19-4078-bdc0-8289cdc2798e",
   "metadata": {},
   "source": [
    "## Compare annotations"
   ]
  },
  {
   "cell_type": "code",
   "execution_count": 144,
   "id": "8d30e8e5-1113-42a0-a210-56657e420dd6",
   "metadata": {},
   "outputs": [],
   "source": [
    "all_new = pd.concat(new_anno_dict)"
   ]
  },
  {
   "cell_type": "code",
   "execution_count": 145,
   "id": "16f4d334-6261-4a13-b286-eb69e970ad00",
   "metadata": {},
   "outputs": [
    {
     "data": {
      "text/plain": [
       "AIFI_L3\n",
       "Core naive CD4 T cell                     341521\n",
       "CM CD4 T cell                             161769\n",
       "Core naive CD8 T cell                     115126\n",
       "GZMB- CD27+ EM CD4 T cell                  70587\n",
       "GZMB- CD27- EM CD4 T cell                  67332\n",
       "KLRF1- GZMB+ CD27- EM CD8 T cell           65156\n",
       "GZMK+ CD27+ EM CD8 T cell                  62099\n",
       "CD8 MAIT                                   44119\n",
       "SOX4+ naive CD4 T cell                     29411\n",
       "CM CD8 T cell                              28453\n",
       "Naive CD4 Treg                             21919\n",
       "KLRF1+ GZMB+ CD27- EM CD8 T cell           21471\n",
       "GZMK+ Vd2 gdT                              18382\n",
       "GZMB+ Vd2 gdT                              17371\n",
       "KLRF1- GZMB+ CD27- memory CD4 T cell       17162\n",
       "Naive CD8 T cell Platelet Doublets         14199\n",
       "Memory CD4 Treg                            13368\n",
       "Contamination                              10233\n",
       "ISG+ naive CD4 T cell                       7139\n",
       "CD4 naive Platelet Doublets                 5769\n",
       "CD8aa                                       5737\n",
       "SOX4+ naive CD8 T cell                      5261\n",
       "ISG+ memory CD4 T cell                      4938\n",
       "KLRF1+ effector Vd1 gdT                     4872\n",
       "GZMK- CD27+ EM CD8 T cell                   4634\n",
       "Naive Vd1 gdT                               4201\n",
       "KLRF1- effector Vd1 gdT                     4178\n",
       "Adaptive NK cell                            3626\n",
       "KLRB1+ memory CD4 Treg                      3021\n",
       "DN T cell                                   2349\n",
       "Proliferating T cell                        2320\n",
       "C5_C12_Contamination                        1937\n",
       "HBB+ MAIT                                   1891\n",
       "Proliferating NK cell                       1888\n",
       "SOX4+ Vd1 gdT                               1540\n",
       "CD4 naive CD16 Monocytes Doublets           1367\n",
       "ISG+ memory CD8 T cell                      1283\n",
       "CD4 MAIT                                    1165\n",
       "ISG+ MAIT                                    852\n",
       "ISG+ naive CD8 T cell                        780\n",
       "KLRB1+ memory CD8 Treg                       530\n",
       "GZMK+ memory CD4 Treg                        249\n",
       "Proliferating Cells+Monocytes Doublets       122\n",
       "Name: count, dtype: int64"
      ]
     },
     "execution_count": 145,
     "metadata": {},
     "output_type": "execute_result"
    }
   ],
   "source": [
    "new_counts = all_new['AIFI_L3'].value_counts()\n",
    "new_counts"
   ]
  },
  {
   "cell_type": "code",
   "execution_count": 146,
   "id": "3d1cef3b-3ed3-4e46-80f4-53458bd6c827",
   "metadata": {},
   "outputs": [
    {
     "data": {
      "text/plain": [
       "1191327"
      ]
     },
     "execution_count": 146,
     "metadata": {},
     "output_type": "execute_result"
    }
   ],
   "source": [
    "sum(new_counts)"
   ]
  },
  {
   "cell_type": "markdown",
   "id": "c8f09b65-b3e8-4331-937b-53c4c30e43db",
   "metadata": {},
   "source": [
    "Original type counts"
   ]
  },
  {
   "cell_type": "code",
   "execution_count": 147,
   "id": "05ee98a3-a62b-4cbe-932f-35d761c6a3a9",
   "metadata": {},
   "outputs": [
    {
     "data": {
      "text/plain": [
       "AIFI_L3\n",
       "Core naive CD4 T cell                     352699\n",
       "CM CD4 T cell                             173578\n",
       "Core naive CD8 T cell                     117237\n",
       "KLRF1- GZMB+ CD27- EM CD8 T cell           70293\n",
       "GZMB- CD27+ EM CD4 T cell                  62544\n",
       "GZMB- CD27- EM CD4 T cell                  62119\n",
       "GZMK+ CD27+ EM CD8 T cell                  60917\n",
       "CD8 MAIT                                   41850\n",
       "CM CD8 T cell                              25405\n",
       "SOX4+ naive CD4 T cell                     22485\n",
       "Naive CD4 Treg                             19578\n",
       "KLRF1+ GZMB+ CD27- EM CD8 T cell           18310\n",
       "GZMB+ Vd2 gdT                              18294\n",
       "GZMK+ Vd2 gdT                              17826\n",
       "KLRF1- GZMB+ CD27- memory CD4 T cell       17574\n",
       "Memory CD4 Treg                            15661\n",
       "Contamination                               8564\n",
       "Naive CD8 T cell Platelet Doublets          7293\n",
       "ISG+ naive CD4 T cell                       7149\n",
       "GZMK- CD27+ EM CD8 T cell                   6703\n",
       "SOX4+ naive CD8 T cell                      6652\n",
       "Adaptive NK cell                            5671\n",
       "CD8aa                                       5591\n",
       "KLRF1+ effector Vd1 gdT                     5184\n",
       "CD4 naive Platelet Doublets                 4706\n",
       "ISG+ memory CD4 T cell                      4335\n",
       "Naive Vd1 gdT                               3972\n",
       "KLRF1- effector Vd1 gdT                     3851\n",
       "CD4 naive CD16 Monocytes Doublets           3522\n",
       "CD4 MAIT                                    3199\n",
       "KLRB1+ memory CD4 Treg                      2819\n",
       "Proliferating T cell                        2436\n",
       "C5_C12_Contamination                        2235\n",
       "DN T cell                                   2226\n",
       "HBB+ MAIT                                   1917\n",
       "SOX4+ Vd1 gdT                               1882\n",
       "Proliferating NK cell                       1844\n",
       "ISG+ MAIT                                   1129\n",
       "GZMK+ memory CD4 Treg                       1075\n",
       "CD4 naive Erythrocytes Doublets              876\n",
       "ISG+ memory CD8 T cell                       811\n",
       "ISG+ naive CD8 T cell                        734\n",
       "KLRB1+ memory CD8 Treg                       480\n",
       "Memory CD8 Treg                              438\n",
       "Proliferating Cells+Monocytes Doublets       195\n",
       "Name: count, dtype: int64"
      ]
     },
     "execution_count": 147,
     "metadata": {},
     "output_type": "execute_result"
    }
   ],
   "source": [
    "old_counts = og_obs['AIFI_L3'].value_counts()\n",
    "old_counts"
   ]
  },
  {
   "cell_type": "code",
   "execution_count": 148,
   "id": "1d433c74-103d-4c94-b9b2-b04cc1431996",
   "metadata": {},
   "outputs": [
    {
     "data": {
      "text/plain": [
       "1193859"
      ]
     },
     "execution_count": 148,
     "metadata": {},
     "output_type": "execute_result"
    }
   ],
   "source": [
    "sum(old_counts)"
   ]
  },
  {
   "cell_type": "markdown",
   "id": "a10c85af-3e55-4a38-8f22-9f90040985f4",
   "metadata": {},
   "source": [
    "Difference in counts"
   ]
  },
  {
   "cell_type": "code",
   "execution_count": 149,
   "id": "d5380151-ae8b-44ec-beb2-5b33f09d8b46",
   "metadata": {},
   "outputs": [
    {
     "data": {
      "text/plain": [
       "AIFI_L3\n",
       "Adaptive NK cell                          -2045.0\n",
       "C5_C12_Contamination                       -298.0\n",
       "CD4 MAIT                                  -2034.0\n",
       "CD4 naive CD16 Monocytes Doublets         -2155.0\n",
       "CD4 naive Erythrocytes Doublets               NaN\n",
       "CD4 naive Platelet Doublets                1063.0\n",
       "CD8 MAIT                                   2269.0\n",
       "CD8aa                                       146.0\n",
       "CM CD4 T cell                            -11809.0\n",
       "CM CD8 T cell                              3048.0\n",
       "Contamination                              1669.0\n",
       "Core naive CD4 T cell                    -11178.0\n",
       "Core naive CD8 T cell                     -2111.0\n",
       "DN T cell                                   123.0\n",
       "GZMB+ Vd2 gdT                              -923.0\n",
       "GZMB- CD27+ EM CD4 T cell                  8043.0\n",
       "GZMB- CD27- EM CD4 T cell                  5213.0\n",
       "GZMK+ CD27+ EM CD8 T cell                  1182.0\n",
       "GZMK+ Vd2 gdT                               556.0\n",
       "GZMK+ memory CD4 Treg                      -826.0\n",
       "GZMK- CD27+ EM CD8 T cell                 -2069.0\n",
       "HBB+ MAIT                                   -26.0\n",
       "ISG+ MAIT                                  -277.0\n",
       "ISG+ memory CD4 T cell                      603.0\n",
       "ISG+ memory CD8 T cell                      472.0\n",
       "ISG+ naive CD4 T cell                       -10.0\n",
       "ISG+ naive CD8 T cell                        46.0\n",
       "KLRB1+ memory CD4 Treg                      202.0\n",
       "KLRB1+ memory CD8 Treg                       50.0\n",
       "KLRF1+ GZMB+ CD27- EM CD8 T cell           3161.0\n",
       "KLRF1+ effector Vd1 gdT                    -312.0\n",
       "KLRF1- GZMB+ CD27- EM CD8 T cell          -5137.0\n",
       "KLRF1- GZMB+ CD27- memory CD4 T cell       -412.0\n",
       "KLRF1- effector Vd1 gdT                     327.0\n",
       "Memory CD4 Treg                           -2293.0\n",
       "Memory CD8 Treg                               NaN\n",
       "Naive CD4 Treg                             2341.0\n",
       "Naive CD8 T cell Platelet Doublets         6906.0\n",
       "Naive Vd1 gdT                               229.0\n",
       "Proliferating Cells+Monocytes Doublets      -73.0\n",
       "Proliferating NK cell                        44.0\n",
       "Proliferating T cell                       -116.0\n",
       "SOX4+ Vd1 gdT                              -342.0\n",
       "SOX4+ naive CD4 T cell                     6926.0\n",
       "SOX4+ naive CD8 T cell                    -1391.0\n",
       "Name: count, dtype: float64"
      ]
     },
     "execution_count": 149,
     "metadata": {},
     "output_type": "execute_result"
    }
   ],
   "source": [
    "new_counts - old_counts"
   ]
  },
  {
   "cell_type": "markdown",
   "id": "3e60e836-53bd-44a9-a20d-990d9add3c1b",
   "metadata": {},
   "source": [
    "Percent difference"
   ]
  },
  {
   "cell_type": "code",
   "execution_count": 150,
   "id": "158c7840-0e6a-4e1d-bd7c-9ae9b2f4c0b0",
   "metadata": {},
   "outputs": [
    {
     "data": {
      "text/plain": [
       "AIFI_L3\n",
       "Adaptive NK cell                         -36.060659\n",
       "C5_C12_Contamination                     -13.333333\n",
       "CD4 MAIT                                 -63.582369\n",
       "CD4 naive CD16 Monocytes Doublets        -61.186826\n",
       "CD4 naive Erythrocytes Doublets                 NaN\n",
       "CD4 naive Platelet Doublets               22.588185\n",
       "CD8 MAIT                                   5.421744\n",
       "CD8aa                                      2.611340\n",
       "CM CD4 T cell                             -6.803282\n",
       "CM CD8 T cell                             11.997638\n",
       "Contamination                             19.488557\n",
       "Core naive CD4 T cell                     -3.169275\n",
       "Core naive CD8 T cell                     -1.800626\n",
       "DN T cell                                  5.525606\n",
       "GZMB+ Vd2 gdT                             -5.045370\n",
       "GZMB- CD27+ EM CD4 T cell                 12.859747\n",
       "GZMB- CD27- EM CD4 T cell                  8.391957\n",
       "GZMK+ CD27+ EM CD8 T cell                  1.940345\n",
       "GZMK+ Vd2 gdT                              3.119040\n",
       "GZMK+ memory CD4 Treg                    -76.837209\n",
       "GZMK- CD27+ EM CD8 T cell                -30.866776\n",
       "HBB+ MAIT                                 -1.356286\n",
       "ISG+ MAIT                                -24.534987\n",
       "ISG+ memory CD4 T cell                    13.910035\n",
       "ISG+ memory CD8 T cell                    58.199753\n",
       "ISG+ naive CD4 T cell                     -0.139880\n",
       "ISG+ naive CD8 T cell                      6.267030\n",
       "KLRB1+ memory CD4 Treg                     7.165662\n",
       "KLRB1+ memory CD8 Treg                    10.416667\n",
       "KLRF1+ GZMB+ CD27- EM CD8 T cell          17.263790\n",
       "KLRF1+ effector Vd1 gdT                   -6.018519\n",
       "KLRF1- GZMB+ CD27- EM CD8 T cell          -7.307982\n",
       "KLRF1- GZMB+ CD27- memory CD4 T cell      -2.344372\n",
       "KLRF1- effector Vd1 gdT                    8.491301\n",
       "Memory CD4 Treg                          -14.641466\n",
       "Memory CD8 Treg                                 NaN\n",
       "Naive CD4 Treg                            11.957299\n",
       "Naive CD8 T cell Platelet Doublets        94.693542\n",
       "Naive Vd1 gdT                              5.765358\n",
       "Proliferating Cells+Monocytes Doublets   -37.435897\n",
       "Proliferating NK cell                      2.386117\n",
       "Proliferating T cell                      -4.761905\n",
       "SOX4+ Vd1 gdT                            -18.172157\n",
       "SOX4+ naive CD4 T cell                    30.802757\n",
       "SOX4+ naive CD8 T cell                   -20.911004\n",
       "Name: count, dtype: float64"
      ]
     },
     "execution_count": 150,
     "metadata": {},
     "output_type": "execute_result"
    }
   ],
   "source": [
    "(new_counts - old_counts) / old_counts * 100"
   ]
  },
  {
   "cell_type": "code",
   "execution_count": 151,
   "id": "12e786f9-cef0-4daf-a03e-324b0334e910",
   "metadata": {},
   "outputs": [],
   "source": [
    "old_id = og_obs[['barcodes','AIFI_L3']].rename({'AIFI_L3':'old_L3'}, axis = 1)\n",
    "new_id = all_new[['barcodes','AIFI_L3']].rename({'AIFI_L3':'new_L3'}, axis = 1)"
   ]
  },
  {
   "cell_type": "code",
   "execution_count": 152,
   "id": "800f881d-bac9-4853-b005-ab22f69055e4",
   "metadata": {},
   "outputs": [
    {
     "data": {
      "text/plain": [
       "1190744"
      ]
     },
     "execution_count": 152,
     "metadata": {},
     "output_type": "execute_result"
    }
   ],
   "source": [
    "sum(new_id['barcodes'].isin(old_id['barcodes']))"
   ]
  },
  {
   "cell_type": "code",
   "execution_count": 153,
   "id": "56f30569-5281-48dd-9b97-d96621f6d973",
   "metadata": {},
   "outputs": [],
   "source": [
    "comp_old = old_id.merge(new_id, on = 'barcodes', how = 'left')"
   ]
  },
  {
   "cell_type": "code",
   "execution_count": 154,
   "id": "c04f7ab0-6c58-4064-9be5-a60673c81cb6",
   "metadata": {},
   "outputs": [
    {
     "data": {
      "text/plain": [
       "(1193859, 3)"
      ]
     },
     "execution_count": 154,
     "metadata": {},
     "output_type": "execute_result"
    }
   ],
   "source": [
    "comp_old.shape"
   ]
  },
  {
   "cell_type": "code",
   "execution_count": 155,
   "id": "6bbb34f9-8df2-4b42-9ac0-0c5a95078189",
   "metadata": {},
   "outputs": [
    {
     "data": {
      "text/plain": [
       "1047724"
      ]
     },
     "execution_count": 155,
     "metadata": {},
     "output_type": "execute_result"
    }
   ],
   "source": [
    "sum(comp_old['old_L3'] == comp_old['new_L3'])"
   ]
  },
  {
   "cell_type": "code",
   "execution_count": 156,
   "id": "e68396e7-d1c1-4511-b48f-895196976e16",
   "metadata": {},
   "outputs": [],
   "source": [
    "diff_old = comp_old[comp_old['old_L3'] != comp_old['new_L3']]\n",
    "#diff = diff[[not x for x in diff['new_L3'].isna()]]"
   ]
  },
  {
   "cell_type": "code",
   "execution_count": 157,
   "id": "1f367089-c843-49e3-8665-3d9b5f68caa2",
   "metadata": {},
   "outputs": [
    {
     "data": {
      "text/html": [
       "<div>\n",
       "<style scoped>\n",
       "    .dataframe tbody tr th:only-of-type {\n",
       "        vertical-align: middle;\n",
       "    }\n",
       "\n",
       "    .dataframe tbody tr th {\n",
       "        vertical-align: top;\n",
       "    }\n",
       "\n",
       "    .dataframe thead th {\n",
       "        text-align: right;\n",
       "    }\n",
       "</style>\n",
       "<table border=\"1\" class=\"dataframe\">\n",
       "  <thead>\n",
       "    <tr style=\"text-align: right;\">\n",
       "      <th></th>\n",
       "      <th>barcodes</th>\n",
       "      <th>old_L3</th>\n",
       "      <th>new_L3</th>\n",
       "    </tr>\n",
       "  </thead>\n",
       "  <tbody>\n",
       "    <tr>\n",
       "      <th>2</th>\n",
       "      <td>cf7226c048b611ea8957bafe6d70929e</td>\n",
       "      <td>CM CD4 T cell</td>\n",
       "      <td>Contamination</td>\n",
       "    </tr>\n",
       "    <tr>\n",
       "      <th>3</th>\n",
       "      <td>cf7238b848b611ea8957bafe6d70929e</td>\n",
       "      <td>CM CD4 T cell</td>\n",
       "      <td>GZMB- CD27- EM CD4 T cell</td>\n",
       "    </tr>\n",
       "    <tr>\n",
       "      <th>6</th>\n",
       "      <td>cf72e17848b611ea8957bafe6d70929e</td>\n",
       "      <td>CM CD4 T cell</td>\n",
       "      <td>Core naive CD4 T cell</td>\n",
       "    </tr>\n",
       "    <tr>\n",
       "      <th>7</th>\n",
       "      <td>cf73232c48b611ea8957bafe6d70929e</td>\n",
       "      <td>CM CD4 T cell</td>\n",
       "      <td>Core naive CD4 T cell</td>\n",
       "    </tr>\n",
       "    <tr>\n",
       "      <th>13</th>\n",
       "      <td>cf7366ca48b611ea8957bafe6d70929e</td>\n",
       "      <td>GZMB- CD27- EM CD4 T cell</td>\n",
       "      <td>GZMB- CD27+ EM CD4 T cell</td>\n",
       "    </tr>\n",
       "  </tbody>\n",
       "</table>\n",
       "</div>"
      ],
      "text/plain": [
       "                            barcodes                     old_L3  \\\n",
       "2   cf7226c048b611ea8957bafe6d70929e              CM CD4 T cell   \n",
       "3   cf7238b848b611ea8957bafe6d70929e              CM CD4 T cell   \n",
       "6   cf72e17848b611ea8957bafe6d70929e              CM CD4 T cell   \n",
       "7   cf73232c48b611ea8957bafe6d70929e              CM CD4 T cell   \n",
       "13  cf7366ca48b611ea8957bafe6d70929e  GZMB- CD27- EM CD4 T cell   \n",
       "\n",
       "                       new_L3  \n",
       "2               Contamination  \n",
       "3   GZMB- CD27- EM CD4 T cell  \n",
       "6       Core naive CD4 T cell  \n",
       "7       Core naive CD4 T cell  \n",
       "13  GZMB- CD27+ EM CD4 T cell  "
      ]
     },
     "execution_count": 157,
     "metadata": {},
     "output_type": "execute_result"
    }
   ],
   "source": [
    "diff_old.head()"
   ]
  },
  {
   "cell_type": "code",
   "execution_count": 158,
   "id": "37e6d599-6cc4-4d85-885c-c8af817048a0",
   "metadata": {
    "scrolled": true
   },
   "outputs": [
    {
     "data": {
      "text/plain": [
       "old_L3                                new_L3                              \n",
       "CM CD4 T cell                         GZMB- CD27- EM CD4 T cell               19418\n",
       "GZMB- CD27- EM CD4 T cell             GZMB- CD27+ EM CD4 T cell                9688\n",
       "Core naive CD4 T cell                 SOX4+ naive CD4 T cell                   8905\n",
       "GZMB- CD27- EM CD4 T cell             CM CD4 T cell                            7329\n",
       "Core naive CD4 T cell                 CM CD4 T cell                            5949\n",
       "CM CD4 T cell                         GZMB- CD27+ EM CD4 T cell                5664\n",
       "KLRF1- GZMB+ CD27- EM CD8 T cell      KLRF1+ GZMB+ CD27- EM CD8 T cell         5181\n",
       "CM CD4 T cell                         Core naive CD4 T cell                    4158\n",
       "Core naive CD8 T cell                 Naive CD8 T cell Platelet Doublets       4006\n",
       "GZMB- CD27+ EM CD4 T cell             CM CD4 T cell                            3737\n",
       "Core naive CD4 T cell                 Naive CD8 T cell Platelet Doublets       3401\n",
       "GZMB- CD27+ EM CD4 T cell             GZMB- CD27- EM CD4 T cell                3211\n",
       "Memory CD4 Treg                       Naive CD4 Treg                           2871\n",
       "SOX4+ naive CD8 T cell                Core naive CD8 T cell                    2801\n",
       "GZMK- CD27+ EM CD8 T cell             CM CD8 T cell                            2280\n",
       "GZMB+ Vd2 gdT                         GZMK+ Vd2 gdT                            2012\n",
       "SOX4+ naive CD4 T cell                Core naive CD4 T cell                    2000\n",
       "GZMK+ CD27+ EM CD8 T cell             CM CD8 T cell                            1982\n",
       "Core naive CD4 T cell                 CD4 naive Platelet Doublets              1977\n",
       "KLRF1+ GZMB+ CD27- EM CD8 T cell      KLRF1- GZMB+ CD27- EM CD8 T cell         1906\n",
       "Core naive CD8 T cell                 SOX4+ naive CD8 T cell                   1734\n",
       "CD4 naive CD16 Monocytes Doublets     Core naive CD4 T cell                    1704\n",
       "CD4 MAIT                              CD8 MAIT                                 1664\n",
       "CM CD4 T cell                         Contamination                            1637\n",
       "KLRF1- GZMB+ CD27- EM CD8 T cell      GZMK+ CD27+ EM CD8 T cell                1608\n",
       "CM CD8 T cell                         GZMK+ CD27+ EM CD8 T cell                1244\n",
       "GZMK+ CD27+ EM CD8 T cell             CM CD4 T cell                            1227\n",
       "GZMK+ Vd2 gdT                         GZMB+ Vd2 gdT                            1093\n",
       "KLRF1- GZMB+ CD27- memory CD4 T cell  KLRF1- GZMB+ CD27- EM CD8 T cell         1003\n",
       "KLRF1- GZMB+ CD27- EM CD8 T cell      KLRF1- GZMB+ CD27- memory CD4 T cell      972\n",
       "Naive CD8 T cell Platelet Doublets    Core naive CD8 T cell                     966\n",
       "GZMB- CD27+ EM CD4 T cell             GZMK+ CD27+ EM CD8 T cell                 803\n",
       "CD4 naive Platelet Doublets           Core naive CD4 T cell                     787\n",
       "GZMK+ CD27+ EM CD8 T cell             GZMB- CD27+ EM CD4 T cell                 680\n",
       "CD4 naive Erythrocytes Doublets       Core naive CD4 T cell                     653\n",
       "Core naive CD4 T cell                 Core naive CD8 T cell                     636\n",
       "Naive CD4 Treg                        CM CD4 T cell                             583\n",
       "KLRF1+ GZMB+ CD27- EM CD8 T cell      GZMK+ CD27+ EM CD8 T cell                 578\n",
       "Core naive CD8 T cell                 CM CD8 T cell                             565\n",
       "KLRF1+ effector Vd1 gdT               KLRF1+ GZMB+ CD27- EM CD8 T cell          541\n",
       "CM CD4 T cell                         ISG+ memory CD4 T cell                    522\n",
       "Core naive CD4 T cell                 ISG+ naive CD4 T cell                     515\n",
       "GZMB- CD27+ EM CD4 T cell             Core naive CD4 T cell                     458\n",
       "CD4 MAIT                              GZMB- CD27+ EM CD4 T cell                 438\n",
       "GZMB- CD27- EM CD4 T cell             Contamination                             424\n",
       "GZMB- CD27+ EM CD4 T cell             CM CD8 T cell                             421\n",
       "GZMK+ memory CD4 Treg                 CM CD4 T cell                             418\n",
       "ISG+ MAIT                             CD8 MAIT                                  416\n",
       "C5_C12_Contamination                  GZMK+ CD27+ EM CD8 T cell                 412\n",
       "GZMK+ Vd2 gdT                         CD8 MAIT                                  410\n",
       "Name: count, dtype: int64"
      ]
     },
     "execution_count": 158,
     "metadata": {},
     "output_type": "execute_result"
    }
   ],
   "source": [
    "diff_old[['old_L3','new_L3']].value_counts().head(50)"
   ]
  },
  {
   "cell_type": "code",
   "execution_count": 159,
   "id": "b5dd6e71-fce0-49b7-81c9-d392170533d2",
   "metadata": {},
   "outputs": [],
   "source": [
    "comp_new = new_id.merge(old_id, on = 'barcodes', how = 'left')"
   ]
  },
  {
   "cell_type": "code",
   "execution_count": 160,
   "id": "369c04a4-45c8-4c22-9942-97302202dec3",
   "metadata": {},
   "outputs": [
    {
     "data": {
      "text/plain": [
       "(1191327, 3)"
      ]
     },
     "execution_count": 160,
     "metadata": {},
     "output_type": "execute_result"
    }
   ],
   "source": [
    "comp_new.shape"
   ]
  },
  {
   "cell_type": "code",
   "execution_count": 161,
   "id": "eb9ad18f-cc3e-4045-88be-4748af648aaf",
   "metadata": {},
   "outputs": [
    {
     "data": {
      "text/plain": [
       "1047724"
      ]
     },
     "execution_count": 161,
     "metadata": {},
     "output_type": "execute_result"
    }
   ],
   "source": [
    "sum(comp_new['old_L3'] == comp_new['new_L3'])"
   ]
  },
  {
   "cell_type": "code",
   "execution_count": 162,
   "id": "5b08e7aa-67f5-47b8-8164-57c5b593e659",
   "metadata": {},
   "outputs": [],
   "source": [
    "diff_new = comp_new[comp_new['old_L3'] != comp_new['new_L3']]\n",
    "#diff = diff[[not x for x in diff['new_L3'].isna()]]"
   ]
  },
  {
   "cell_type": "code",
   "execution_count": 163,
   "id": "6b58572a-fdb6-4abf-a48f-88f3e13bc2c5",
   "metadata": {},
   "outputs": [
    {
     "data": {
      "text/plain": [
       "(143603, 3)"
      ]
     },
     "execution_count": 163,
     "metadata": {},
     "output_type": "execute_result"
    }
   ],
   "source": [
    "diff_new.shape"
   ]
  },
  {
   "cell_type": "code",
   "execution_count": 164,
   "id": "29622332-3ed5-42b4-96ac-f52668fa3605",
   "metadata": {},
   "outputs": [
    {
     "data": {
      "text/plain": [
       "0"
      ]
     },
     "execution_count": 164,
     "metadata": {},
     "output_type": "execute_result"
    }
   ],
   "source": [
    "sum(diff_new['new_L3'].isna())"
   ]
  },
  {
   "cell_type": "markdown",
   "id": "d45dee27-69ca-4f14-a488-86d50fcf166d",
   "metadata": {},
   "source": [
    "Are missing Adaptive NKs now assigned to NK clusters?"
   ]
  },
  {
   "cell_type": "code",
   "execution_count": 165,
   "id": "7bccb02c-a33f-4c29-bb4c-c0c77d4ba594",
   "metadata": {},
   "outputs": [],
   "source": [
    "nk_uuid = '86d536fc-7975-4ff6-9701-ce29a5df19b5'"
   ]
  },
  {
   "cell_type": "code",
   "execution_count": 166,
   "id": "ff6f1d7c-d85c-49f7-89bd-4380b1f9c8ac",
   "metadata": {},
   "outputs": [],
   "source": [
    "nk_obs = read_parquet_uuid(nk_uuid)"
   ]
  },
  {
   "cell_type": "code",
   "execution_count": 167,
   "id": "887a4081-6b75-428c-a2a0-1f99ca268241",
   "metadata": {},
   "outputs": [
    {
     "data": {
      "text/plain": [
       "(1952128, 52)"
      ]
     },
     "execution_count": 167,
     "metadata": {},
     "output_type": "execute_result"
    }
   ],
   "source": [
    "nk_obs.shape"
   ]
  },
  {
   "cell_type": "code",
   "execution_count": 168,
   "id": "ff11071d-14b0-458e-9f2d-e062da4077da",
   "metadata": {},
   "outputs": [
    {
     "data": {
      "text/plain": [
       "2444"
      ]
     },
     "execution_count": 168,
     "metadata": {},
     "output_type": "execute_result"
    }
   ],
   "source": [
    "sum(diff_old['old_L3'] == 'Adaptive NK cell')"
   ]
  },
  {
   "cell_type": "code",
   "execution_count": 169,
   "id": "b298e782-6a72-4dfc-8bd9-1ba4fee3e9d5",
   "metadata": {},
   "outputs": [],
   "source": [
    "missing_anks = diff_old.loc[diff_old['old_L3'] == 'Adaptive NK cell','barcodes'].tolist()"
   ]
  },
  {
   "cell_type": "code",
   "execution_count": 170,
   "id": "78c36572-a232-4c99-8f6f-e67c46a21023",
   "metadata": {},
   "outputs": [
    {
     "data": {
      "text/plain": [
       "2436"
      ]
     },
     "execution_count": 170,
     "metadata": {},
     "output_type": "execute_result"
    }
   ],
   "source": [
    "sum(nk_obs['barcodes'].isin(missing_anks))"
   ]
  },
  {
   "cell_type": "markdown",
   "id": "6e60fc1f-70dc-4ac7-87d2-1769fb5d54fa",
   "metadata": {},
   "source": [
    "Yes, they're (almost) all in there."
   ]
  },
  {
   "cell_type": "code",
   "execution_count": 171,
   "id": "616eb351-fb1b-4247-a13b-6a00aed0962c",
   "metadata": {},
   "outputs": [
    {
     "data": {
      "text/html": [
       "<details>\n",
       "<summary>Click to view session information</summary>\n",
       "<pre>\n",
       "-----\n",
       "hisepy              0.3.0\n",
       "pandas              2.1.4\n",
       "scanpy              1.9.6\n",
       "session_info        1.0.0\n",
       "-----\n",
       "</pre>\n",
       "<details>\n",
       "<summary>Click to view modules imported as dependencies</summary>\n",
       "<pre>\n",
       "PIL                         10.0.1\n",
       "anndata                     0.10.3\n",
       "anyio                       NA\n",
       "arrow                       1.3.0\n",
       "asttokens                   NA\n",
       "attr                        23.2.0\n",
       "attrs                       23.2.0\n",
       "babel                       2.14.0\n",
       "beatrix_jupyterlab          NA\n",
       "brotli                      NA\n",
       "cachetools                  5.3.1\n",
       "certifi                     2024.02.02\n",
       "cffi                        1.16.0\n",
       "charset_normalizer          3.3.2\n",
       "cloudpickle                 2.2.1\n",
       "colorama                    0.4.6\n",
       "comm                        0.1.4\n",
       "cryptography                41.0.7\n",
       "cycler                      0.10.0\n",
       "cython_runtime              NA\n",
       "dateutil                    2.8.2\n",
       "db_dtypes                   1.1.1\n",
       "debugpy                     1.8.0\n",
       "decorator                   5.1.1\n",
       "defusedxml                  0.7.1\n",
       "deprecated                  1.2.14\n",
       "exceptiongroup              1.2.0\n",
       "executing                   2.0.1\n",
       "fastjsonschema              NA\n",
       "fqdn                        NA\n",
       "google                      NA\n",
       "greenlet                    2.0.2\n",
       "grpc                        1.58.0\n",
       "grpc_status                 NA\n",
       "h5py                        3.10.0\n",
       "idna                        3.6\n",
       "igraph                      0.10.8\n",
       "importlib_metadata          NA\n",
       "ipykernel                   6.28.0\n",
       "ipython_genutils            0.2.0\n",
       "ipywidgets                  8.1.1\n",
       "isoduration                 NA\n",
       "jedi                        0.19.1\n",
       "jinja2                      3.1.2\n",
       "joblib                      1.3.2\n",
       "json5                       NA\n",
       "jsonpointer                 2.4\n",
       "jsonschema                  4.20.0\n",
       "jsonschema_specifications   NA\n",
       "jupyter_events              0.9.0\n",
       "jupyter_server              2.12.1\n",
       "jupyterlab_server           2.25.2\n",
       "jwt                         2.8.0\n",
       "kiwisolver                  1.4.5\n",
       "leidenalg                   0.10.1\n",
       "llvmlite                    0.41.0\n",
       "lz4                         4.3.2\n",
       "markupsafe                  2.1.3\n",
       "matplotlib                  3.8.0\n",
       "matplotlib_inline           0.1.6\n",
       "mpl_toolkits                NA\n",
       "mpmath                      1.3.0\n",
       "natsort                     8.4.0\n",
       "nbformat                    5.9.2\n",
       "numba                       0.58.0\n",
       "numpy                       1.24.0\n",
       "opentelemetry               NA\n",
       "overrides                   NA\n",
       "packaging                   23.2\n",
       "parso                       0.8.3\n",
       "pexpect                     4.8.0\n",
       "pickleshare                 0.7.5\n",
       "pkg_resources               NA\n",
       "platformdirs                4.1.0\n",
       "plotly                      5.18.0\n",
       "prettytable                 3.9.0\n",
       "prometheus_client           NA\n",
       "prompt_toolkit              3.0.42\n",
       "proto                       NA\n",
       "psutil                      NA\n",
       "ptyprocess                  0.7.0\n",
       "pure_eval                   0.2.2\n",
       "pyarrow                     13.0.0\n",
       "pydev_ipython               NA\n",
       "pydevconsole                NA\n",
       "pydevd                      2.9.5\n",
       "pydevd_file_utils           NA\n",
       "pydevd_plugins              NA\n",
       "pydevd_tracing              NA\n",
       "pygments                    2.17.2\n",
       "pynvml                      NA\n",
       "pyparsing                   3.1.1\n",
       "pyreadr                     0.5.0\n",
       "pythonjsonlogger            NA\n",
       "pytz                        2023.3.post1\n",
       "referencing                 NA\n",
       "requests                    2.31.0\n",
       "rfc3339_validator           0.1.4\n",
       "rfc3986_validator           0.1.1\n",
       "rpds                        NA\n",
       "scipy                       1.11.4\n",
       "send2trash                  NA\n",
       "shapely                     1.8.5.post1\n",
       "six                         1.16.0\n",
       "sklearn                     1.3.2\n",
       "sniffio                     1.3.0\n",
       "socks                       1.7.1\n",
       "sql                         NA\n",
       "sqlalchemy                  2.0.21\n",
       "sqlparse                    0.4.4\n",
       "stack_data                  0.6.2\n",
       "sympy                       1.12\n",
       "termcolor                   NA\n",
       "texttable                   1.7.0\n",
       "threadpoolctl               3.2.0\n",
       "torch                       2.1.2+cu121\n",
       "torchgen                    NA\n",
       "tornado                     6.3.3\n",
       "tqdm                        4.66.1\n",
       "traitlets                   5.9.0\n",
       "typing_extensions           NA\n",
       "uri_template                NA\n",
       "urllib3                     1.26.18\n",
       "wcwidth                     0.2.12\n",
       "webcolors                   1.13\n",
       "websocket                   1.7.0\n",
       "wrapt                       1.15.0\n",
       "xarray                      2023.12.0\n",
       "yaml                        6.0.1\n",
       "zipp                        NA\n",
       "zmq                         25.1.2\n",
       "zoneinfo                    NA\n",
       "zstandard                   0.22.0\n",
       "</pre>\n",
       "</details> <!-- seems like this ends pre, so might as well be explicit -->\n",
       "<pre>\n",
       "-----\n",
       "IPython             8.19.0\n",
       "jupyter_client      8.6.0\n",
       "jupyter_core        5.6.1\n",
       "jupyterlab          4.1.2\n",
       "notebook            6.5.4\n",
       "-----\n",
       "Python 3.10.13 | packaged by conda-forge | (main, Dec 23 2023, 15:36:39) [GCC 12.3.0]\n",
       "Linux-5.15.0-1042-gcp-x86_64-with-glibc2.31\n",
       "-----\n",
       "Session information updated at 2024-03-03 22:13\n",
       "</pre>\n",
       "</details>"
      ],
      "text/plain": [
       "<IPython.core.display.HTML object>"
      ]
     },
     "execution_count": 171,
     "metadata": {},
     "output_type": "execute_result"
    }
   ],
   "source": [
    "import session_info\n",
    "session_info.show()"
   ]
  },
  {
   "cell_type": "code",
   "execution_count": null,
   "id": "b46990e9-a09e-41c5-af1a-007b61e74911",
   "metadata": {},
   "outputs": [],
   "source": []
  }
 ],
 "metadata": {
  "kernelspec": {
   "display_name": "Python 3 (ipykernel)",
   "language": "python",
   "name": "python3"
  },
  "language_info": {
   "codemirror_mode": {
    "name": "ipython",
    "version": 3
   },
   "file_extension": ".py",
   "mimetype": "text/x-python",
   "name": "python",
   "nbconvert_exporter": "python",
   "pygments_lexer": "ipython3",
   "version": "3.10.13"
  }
 },
 "nbformat": 4,
 "nbformat_minor": 5
}
