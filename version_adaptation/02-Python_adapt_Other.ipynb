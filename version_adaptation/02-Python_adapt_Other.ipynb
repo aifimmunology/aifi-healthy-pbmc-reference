{
 "cells": [
  {
   "cell_type": "markdown",
   "id": "0ec417b2-6b5c-4329-a92d-dfe37435eb2e",
   "metadata": {},
   "source": [
    "## Adapt Other cell annotations\n",
    "\n",
    "With slightly different clustering, we need to shift the original expert cluster annotations to new cluster numbers.\n",
    "\n",
    "We can do this using the barcodes associated with each cluster."
   ]
  },
  {
   "cell_type": "code",
   "execution_count": 1,
   "id": "50f41367-84c6-4031-9598-932676893685",
   "metadata": {},
   "outputs": [],
   "source": [
    "from datetime import date\n",
    "import hisepy\n",
    "import os\n",
    "import pandas as pd\n",
    "import scanpy as sc"
   ]
  },
  {
   "cell_type": "markdown",
   "id": "97386654-5f4c-4f03-926c-67a73cf3df1e",
   "metadata": {},
   "source": [
    "## Read new subclustering results from HISE"
   ]
  },
  {
   "cell_type": "code",
   "execution_count": 2,
   "id": "6cbc45df-c531-42d6-97ab-fe5130a157b8",
   "metadata": {},
   "outputs": [],
   "source": [
    "cell_class = 'others'"
   ]
  },
  {
   "cell_type": "code",
   "execution_count": 3,
   "id": "c6c1b50e-1637-4862-8b00-ed78dd4a7329",
   "metadata": {},
   "outputs": [],
   "source": [
    "h5ad_uuid = '1eb6ca8c-b8ed-4968-b515-c954497441dc'\n",
    "h5ad_path = '/home/jupyter/cache/{u}'.format(u = h5ad_uuid)"
   ]
  },
  {
   "cell_type": "code",
   "execution_count": 4,
   "id": "d04ad0e7-1548-449c-83a0-8fdd336a8b38",
   "metadata": {},
   "outputs": [],
   "source": [
    "if not os.path.isdir(h5ad_path):\n",
    "    hise_res = hisepy.reader.cache_files([h5ad_uuid])"
   ]
  },
  {
   "cell_type": "code",
   "execution_count": 5,
   "id": "927a9498-19a1-485f-ae4c-5edde4673bdd",
   "metadata": {},
   "outputs": [],
   "source": [
    "h5ad_filename = os.listdir(h5ad_path)[0]\n",
    "h5ad_file = '{p}/{f}'.format(p = h5ad_path, f = h5ad_filename)"
   ]
  },
  {
   "cell_type": "code",
   "execution_count": 6,
   "id": "8ad7e740-c9a8-4e07-9bbd-5fe0fa481547",
   "metadata": {
    "tags": []
   },
   "outputs": [],
   "source": [
    "adata = sc.read_h5ad(h5ad_file)"
   ]
  },
  {
   "cell_type": "code",
   "execution_count": 7,
   "id": "10ef55e8-7f64-4bf6-87be-cc3246452ff9",
   "metadata": {},
   "outputs": [
    {
     "data": {
      "text/plain": [
       "AnnData object with n_obs × n_vars = 24603 × 4305\n",
       "    obs: 'barcodes', 'batch_id', 'cell_name', 'cell_uuid', 'chip_id', 'hto_barcode', 'hto_category', 'n_genes', 'n_mito_umis', 'n_reads', 'n_umis', 'original_barcodes', 'pbmc_sample_id', 'pool_id', 'well_id', 'sample.sampleKitGuid', 'cohort.cohortGuid', 'subject.subjectGuid', 'subject.biologicalSex', 'subject.race', 'subject.ethnicity', 'subject.birthYear', 'sample.visitName', 'sample.drawDate', 'file.id', 'subject.cmv', 'subject.bmi', 'celltypist.low', 'seurat.l1', 'seurat.l1.score', 'seurat.l2', 'seurat.l2.score', 'seurat.l2.5', 'seurat.l2.5.score', 'seurat.l3', 'seurat.l3.score', 'predicted_doublet', 'doublet_score', 'n_genes_by_counts', 'log1p_n_genes_by_counts', 'total_counts', 'log1p_total_counts', 'pct_counts_in_top_50_genes', 'pct_counts_in_top_100_genes', 'pct_counts_in_top_200_genes', 'pct_counts_in_top_500_genes', 'total_counts_mito', 'log1p_total_counts_mito', 'pct_counts_mito', 'leiden', 'leiden_resolution_1', 'leiden_resolution_1.5', 'leiden_resolution_2'\n",
       "    var: 'mito', 'n_cells_by_counts', 'mean_counts', 'log1p_mean_counts', 'pct_dropout_by_counts', 'total_counts', 'log1p_total_counts', 'highly_variable', 'means', 'dispersions', 'dispersions_norm', 'mean', 'std'\n",
       "    uns: 'celltypist.low_colors', 'hvg', 'leiden', 'leiden_colors', 'log1p', 'neighbors', 'pca', 'seurat.l2.5_colors', 'umap'\n",
       "    obsm: 'X_pca', 'X_pca_harmony', 'X_umap'\n",
       "    varm: 'PCs'\n",
       "    obsp: 'connectivities', 'distances'"
      ]
     },
     "execution_count": 7,
     "metadata": {},
     "output_type": "execute_result"
    }
   ],
   "source": [
    "adata"
   ]
  },
  {
   "cell_type": "markdown",
   "id": "9b5e87cc-5a21-4005-98d0-4f08df12161c",
   "metadata": {},
   "source": [
    "## Read old results"
   ]
  },
  {
   "cell_type": "code",
   "execution_count": 8,
   "id": "88094b34-248d-46f7-ab78-e7f6098dde49",
   "metadata": {},
   "outputs": [],
   "source": [
    "og_pq_file = 'Other_Annotation.parquet'"
   ]
  },
  {
   "cell_type": "code",
   "execution_count": 9,
   "id": "dc4922cc-7906-4c44-b101-0e6757f3f28c",
   "metadata": {
    "tags": []
   },
   "outputs": [],
   "source": [
    "og_obs = pd.read_parquet(og_pq_file)"
   ]
  },
  {
   "cell_type": "code",
   "execution_count": 10,
   "id": "0ba99748-5fcd-4492-a711-46f49b2d6a4d",
   "metadata": {},
   "outputs": [
    {
     "data": {
      "text/plain": [
       "(23944, 63)"
      ]
     },
     "execution_count": 10,
     "metadata": {},
     "output_type": "execute_result"
    }
   ],
   "source": [
    "og_obs.shape"
   ]
  },
  {
   "cell_type": "markdown",
   "id": "72d3b880-180f-44f6-a4ff-c3cc86434d8c",
   "metadata": {},
   "source": [
    "## Read original annotations"
   ]
  },
  {
   "cell_type": "code",
   "execution_count": 11,
   "id": "3a7b8bc8-b0c3-49b6-9d04-198688139e3d",
   "metadata": {},
   "outputs": [],
   "source": [
    "og_anno = pd.read_csv('Other_Res1_Annotation.csv')"
   ]
  },
  {
   "cell_type": "code",
   "execution_count": 12,
   "id": "3bb2d9de-c1c4-451d-b0ff-cbc48e6438f3",
   "metadata": {},
   "outputs": [],
   "source": [
    "og_df = og_obs[['barcodes', 'leiden_resolution_1']].copy()"
   ]
  },
  {
   "cell_type": "code",
   "execution_count": 13,
   "id": "8f196948-b136-4c28-8fdb-f6fa2d6d819c",
   "metadata": {},
   "outputs": [],
   "source": [
    "join_col = 'leiden_resolution_1'"
   ]
  },
  {
   "cell_type": "code",
   "execution_count": 14,
   "id": "9f56e45c-a57f-48c3-b0de-eb66a51a10c1",
   "metadata": {},
   "outputs": [],
   "source": [
    "og_anno[join_col] = og_anno[join_col].astype('string').astype('category')"
   ]
  },
  {
   "cell_type": "code",
   "execution_count": 15,
   "id": "cfd176bf-f72a-4912-bfe8-c0bed4023e61",
   "metadata": {},
   "outputs": [],
   "source": [
    "og_df = og_df.merge(og_anno, how = 'left', on = 'leiden_resolution_1')"
   ]
  },
  {
   "cell_type": "code",
   "execution_count": 16,
   "id": "a4073b56-a410-4f66-a127-f3d021ea2c53",
   "metadata": {},
   "outputs": [
    {
     "data": {
      "text/html": [
       "<div>\n",
       "<style scoped>\n",
       "    .dataframe tbody tr th:only-of-type {\n",
       "        vertical-align: middle;\n",
       "    }\n",
       "\n",
       "    .dataframe tbody tr th {\n",
       "        vertical-align: top;\n",
       "    }\n",
       "\n",
       "    .dataframe thead th {\n",
       "        text-align: right;\n",
       "    }\n",
       "</style>\n",
       "<table border=\"1\" class=\"dataframe\">\n",
       "  <thead>\n",
       "    <tr style=\"text-align: right;\">\n",
       "      <th></th>\n",
       "      <th>barcodes</th>\n",
       "      <th>leiden_resolution_1</th>\n",
       "      <th>AIFI_L1</th>\n",
       "      <th>AIFI_L1_Final</th>\n",
       "      <th>AIFI_L2</th>\n",
       "      <th>AIFI_L2_Final</th>\n",
       "      <th>AIFI_L3</th>\n",
       "      <th>AIFI_L3_Final</th>\n",
       "    </tr>\n",
       "  </thead>\n",
       "  <tbody>\n",
       "    <tr>\n",
       "      <th>0</th>\n",
       "      <td>cf7341b848b611ea8957bafe6d70929e</td>\n",
       "      <td>7</td>\n",
       "      <td>T+Erythocytes doublet</td>\n",
       "      <td>Yes</td>\n",
       "      <td>T+Erythocytes doublet</td>\n",
       "      <td>Yes</td>\n",
       "      <td>T+Erythocytes doublet</td>\n",
       "      <td>Yes</td>\n",
       "    </tr>\n",
       "    <tr>\n",
       "      <th>1</th>\n",
       "      <td>cf7400bc48b611ea8957bafe6d70929e</td>\n",
       "      <td>4</td>\n",
       "      <td>Monocytes+Erythocytes doublet</td>\n",
       "      <td>Yes</td>\n",
       "      <td>Monocytes+Erythocytes doublet</td>\n",
       "      <td>Yes</td>\n",
       "      <td>Monocytes+Erythocytes doublet</td>\n",
       "      <td>Yes</td>\n",
       "    </tr>\n",
       "    <tr>\n",
       "      <th>2</th>\n",
       "      <td>cf763b8448b611ea8957bafe6d70929e</td>\n",
       "      <td>1</td>\n",
       "      <td>T+Erythocytes doublet</td>\n",
       "      <td>Yes</td>\n",
       "      <td>T+Erythocytes doublet</td>\n",
       "      <td>Yes</td>\n",
       "      <td>T+Erythocytes doublet</td>\n",
       "      <td>Yes</td>\n",
       "    </tr>\n",
       "    <tr>\n",
       "      <th>3</th>\n",
       "      <td>cf76501a48b611ea8957bafe6d70929e</td>\n",
       "      <td>9</td>\n",
       "      <td>Progenitor cell</td>\n",
       "      <td>Yes</td>\n",
       "      <td>Progenitor cell</td>\n",
       "      <td>Yes</td>\n",
       "      <td>CMP cell</td>\n",
       "      <td>Yes</td>\n",
       "    </tr>\n",
       "    <tr>\n",
       "      <th>4</th>\n",
       "      <td>cf83c0ba48b611ea8957bafe6d70929e</td>\n",
       "      <td>1</td>\n",
       "      <td>T+Erythocytes doublet</td>\n",
       "      <td>Yes</td>\n",
       "      <td>T+Erythocytes doublet</td>\n",
       "      <td>Yes</td>\n",
       "      <td>T+Erythocytes doublet</td>\n",
       "      <td>Yes</td>\n",
       "    </tr>\n",
       "  </tbody>\n",
       "</table>\n",
       "</div>"
      ],
      "text/plain": [
       "                           barcodes leiden_resolution_1  \\\n",
       "0  cf7341b848b611ea8957bafe6d70929e                   7   \n",
       "1  cf7400bc48b611ea8957bafe6d70929e                   4   \n",
       "2  cf763b8448b611ea8957bafe6d70929e                   1   \n",
       "3  cf76501a48b611ea8957bafe6d70929e                   9   \n",
       "4  cf83c0ba48b611ea8957bafe6d70929e                   1   \n",
       "\n",
       "                         AIFI_L1 AIFI_L1_Final                        AIFI_L2  \\\n",
       "0          T+Erythocytes doublet           Yes          T+Erythocytes doublet   \n",
       "1  Monocytes+Erythocytes doublet           Yes  Monocytes+Erythocytes doublet   \n",
       "2          T+Erythocytes doublet           Yes          T+Erythocytes doublet   \n",
       "3                Progenitor cell           Yes                Progenitor cell   \n",
       "4          T+Erythocytes doublet           Yes          T+Erythocytes doublet   \n",
       "\n",
       "  AIFI_L2_Final                        AIFI_L3 AIFI_L3_Final  \n",
       "0           Yes          T+Erythocytes doublet           Yes  \n",
       "1           Yes  Monocytes+Erythocytes doublet           Yes  \n",
       "2           Yes          T+Erythocytes doublet           Yes  \n",
       "3           Yes                       CMP cell           Yes  \n",
       "4           Yes          T+Erythocytes doublet           Yes  "
      ]
     },
     "execution_count": 16,
     "metadata": {},
     "output_type": "execute_result"
    }
   ],
   "source": [
    "og_df.head()"
   ]
  },
  {
   "cell_type": "markdown",
   "id": "4aa1feb5-b75a-45a4-9ff3-80d608afc3d5",
   "metadata": {},
   "source": [
    "Rename leiden cluster so names don't conflict with new clustering"
   ]
  },
  {
   "cell_type": "code",
   "execution_count": 17,
   "id": "c68553a8-598b-4dad-b5bb-c672380f36db",
   "metadata": {},
   "outputs": [],
   "source": [
    "og_df = og_df.rename({\"leiden_resolution_1\":\"og_cl\"}, axis = 1)"
   ]
  },
  {
   "cell_type": "markdown",
   "id": "85a3b732-4528-400f-962f-d396eeb58e9b",
   "metadata": {},
   "source": [
    "Join original annotations to new clusters by barcodes"
   ]
  },
  {
   "cell_type": "code",
   "execution_count": 18,
   "id": "eb093595-6274-428f-885c-dd86e7491d44",
   "metadata": {},
   "outputs": [],
   "source": [
    "new_df = adata.obs[['barcodes', 'leiden_resolution_1']].copy()\n",
    "new_df = new_df.reset_index(drop = True)"
   ]
  },
  {
   "cell_type": "code",
   "execution_count": 19,
   "id": "d58271b8-64f8-4911-a085-d3119ebf204a",
   "metadata": {},
   "outputs": [],
   "source": [
    "joint_df = new_df.merge(og_df, how = 'left', on = 'barcodes')"
   ]
  },
  {
   "cell_type": "code",
   "execution_count": 20,
   "id": "f9b77aee-d79c-44ba-8fcc-df31cd6d45a9",
   "metadata": {},
   "outputs": [
    {
     "data": {
      "text/html": [
       "<div>\n",
       "<style scoped>\n",
       "    .dataframe tbody tr th:only-of-type {\n",
       "        vertical-align: middle;\n",
       "    }\n",
       "\n",
       "    .dataframe tbody tr th {\n",
       "        vertical-align: top;\n",
       "    }\n",
       "\n",
       "    .dataframe thead th {\n",
       "        text-align: right;\n",
       "    }\n",
       "</style>\n",
       "<table border=\"1\" class=\"dataframe\">\n",
       "  <thead>\n",
       "    <tr style=\"text-align: right;\">\n",
       "      <th></th>\n",
       "      <th>barcodes</th>\n",
       "      <th>leiden_resolution_1</th>\n",
       "      <th>og_cl</th>\n",
       "      <th>AIFI_L1</th>\n",
       "      <th>AIFI_L1_Final</th>\n",
       "      <th>AIFI_L2</th>\n",
       "      <th>AIFI_L2_Final</th>\n",
       "      <th>AIFI_L3</th>\n",
       "      <th>AIFI_L3_Final</th>\n",
       "    </tr>\n",
       "  </thead>\n",
       "  <tbody>\n",
       "    <tr>\n",
       "      <th>0</th>\n",
       "      <td>cf7341b848b611ea8957bafe6d70929e</td>\n",
       "      <td>3</td>\n",
       "      <td>7</td>\n",
       "      <td>T+Erythocytes doublet</td>\n",
       "      <td>Yes</td>\n",
       "      <td>T+Erythocytes doublet</td>\n",
       "      <td>Yes</td>\n",
       "      <td>T+Erythocytes doublet</td>\n",
       "      <td>Yes</td>\n",
       "    </tr>\n",
       "    <tr>\n",
       "      <th>1</th>\n",
       "      <td>cf7400bc48b611ea8957bafe6d70929e</td>\n",
       "      <td>4</td>\n",
       "      <td>4</td>\n",
       "      <td>Monocytes+Erythocytes doublet</td>\n",
       "      <td>Yes</td>\n",
       "      <td>Monocytes+Erythocytes doublet</td>\n",
       "      <td>Yes</td>\n",
       "      <td>Monocytes+Erythocytes doublet</td>\n",
       "      <td>Yes</td>\n",
       "    </tr>\n",
       "    <tr>\n",
       "      <th>2</th>\n",
       "      <td>cf763b8448b611ea8957bafe6d70929e</td>\n",
       "      <td>1</td>\n",
       "      <td>1</td>\n",
       "      <td>T+Erythocytes doublet</td>\n",
       "      <td>Yes</td>\n",
       "      <td>T+Erythocytes doublet</td>\n",
       "      <td>Yes</td>\n",
       "      <td>T+Erythocytes doublet</td>\n",
       "      <td>Yes</td>\n",
       "    </tr>\n",
       "    <tr>\n",
       "      <th>3</th>\n",
       "      <td>cf76501a48b611ea8957bafe6d70929e</td>\n",
       "      <td>9</td>\n",
       "      <td>9</td>\n",
       "      <td>Progenitor cell</td>\n",
       "      <td>Yes</td>\n",
       "      <td>Progenitor cell</td>\n",
       "      <td>Yes</td>\n",
       "      <td>CMP cell</td>\n",
       "      <td>Yes</td>\n",
       "    </tr>\n",
       "    <tr>\n",
       "      <th>4</th>\n",
       "      <td>cf83c0ba48b611ea8957bafe6d70929e</td>\n",
       "      <td>1</td>\n",
       "      <td>1</td>\n",
       "      <td>T+Erythocytes doublet</td>\n",
       "      <td>Yes</td>\n",
       "      <td>T+Erythocytes doublet</td>\n",
       "      <td>Yes</td>\n",
       "      <td>T+Erythocytes doublet</td>\n",
       "      <td>Yes</td>\n",
       "    </tr>\n",
       "  </tbody>\n",
       "</table>\n",
       "</div>"
      ],
      "text/plain": [
       "                           barcodes leiden_resolution_1 og_cl  \\\n",
       "0  cf7341b848b611ea8957bafe6d70929e                   3     7   \n",
       "1  cf7400bc48b611ea8957bafe6d70929e                   4     4   \n",
       "2  cf763b8448b611ea8957bafe6d70929e                   1     1   \n",
       "3  cf76501a48b611ea8957bafe6d70929e                   9     9   \n",
       "4  cf83c0ba48b611ea8957bafe6d70929e                   1     1   \n",
       "\n",
       "                         AIFI_L1 AIFI_L1_Final                        AIFI_L2  \\\n",
       "0          T+Erythocytes doublet           Yes          T+Erythocytes doublet   \n",
       "1  Monocytes+Erythocytes doublet           Yes  Monocytes+Erythocytes doublet   \n",
       "2          T+Erythocytes doublet           Yes          T+Erythocytes doublet   \n",
       "3                Progenitor cell           Yes                Progenitor cell   \n",
       "4          T+Erythocytes doublet           Yes          T+Erythocytes doublet   \n",
       "\n",
       "  AIFI_L2_Final                        AIFI_L3 AIFI_L3_Final  \n",
       "0           Yes          T+Erythocytes doublet           Yes  \n",
       "1           Yes  Monocytes+Erythocytes doublet           Yes  \n",
       "2           Yes          T+Erythocytes doublet           Yes  \n",
       "3           Yes                       CMP cell           Yes  \n",
       "4           Yes          T+Erythocytes doublet           Yes  "
      ]
     },
     "execution_count": 20,
     "metadata": {},
     "output_type": "execute_result"
    }
   ],
   "source": [
    "joint_df.head()"
   ]
  },
  {
   "cell_type": "code",
   "execution_count": 21,
   "id": "324e44bb-2097-4494-8f4d-aeb1b78c3e3d",
   "metadata": {},
   "outputs": [],
   "source": [
    "freq_anno = joint_df.drop(['barcodes', 'og_cl'], axis = 1)"
   ]
  },
  {
   "cell_type": "markdown",
   "id": "f7e1278b-094c-4c0e-86f6-f953349f7cad",
   "metadata": {},
   "source": [
    "Use `pd.Series.mode` on each group of leiden_resolution_1.5 cells to get the most frequent value of AIFI_L3"
   ]
  },
  {
   "cell_type": "code",
   "execution_count": 22,
   "id": "9be76fa5-dcde-4ac4-9d72-84df41e18c98",
   "metadata": {},
   "outputs": [
    {
     "name": "stderr",
     "output_type": "stream",
     "text": [
      "/tmp/ipykernel_3088/3620763091.py:3: FutureWarning: The default of observed=False is deprecated and will be changed to True in a future version of pandas. Pass observed=False to retain current behavior or observed=True to adopt the future default and silence this warning.\n",
      "  .groupby('leiden_resolution_1')['AIFI_L3']\n"
     ]
    }
   ],
   "source": [
    "freq_anno = (\n",
    "    freq_anno\n",
    "    .groupby('leiden_resolution_1')['AIFI_L3']\n",
    "    .agg(pd.Series.mode)\n",
    "    .to_frame()\n",
    "    .reset_index()\n",
    ")"
   ]
  },
  {
   "cell_type": "code",
   "execution_count": 23,
   "id": "828e452d-5617-4e5a-9f67-eed9278580e9",
   "metadata": {},
   "outputs": [
    {
     "data": {
      "text/html": [
       "<div>\n",
       "<style scoped>\n",
       "    .dataframe tbody tr th:only-of-type {\n",
       "        vertical-align: middle;\n",
       "    }\n",
       "\n",
       "    .dataframe tbody tr th {\n",
       "        vertical-align: top;\n",
       "    }\n",
       "\n",
       "    .dataframe thead th {\n",
       "        text-align: right;\n",
       "    }\n",
       "</style>\n",
       "<table border=\"1\" class=\"dataframe\">\n",
       "  <thead>\n",
       "    <tr style=\"text-align: right;\">\n",
       "      <th></th>\n",
       "      <th>leiden_resolution_1</th>\n",
       "      <th>AIFI_L3</th>\n",
       "    </tr>\n",
       "  </thead>\n",
       "  <tbody>\n",
       "    <tr>\n",
       "      <th>0</th>\n",
       "      <td>0</td>\n",
       "      <td>Platelet</td>\n",
       "    </tr>\n",
       "    <tr>\n",
       "      <th>1</th>\n",
       "      <td>1</td>\n",
       "      <td>T+Erythocytes doublet</td>\n",
       "    </tr>\n",
       "    <tr>\n",
       "      <th>2</th>\n",
       "      <td>2</td>\n",
       "      <td>Platelet</td>\n",
       "    </tr>\n",
       "    <tr>\n",
       "      <th>3</th>\n",
       "      <td>3</td>\n",
       "      <td>T+Erythocytes doublet</td>\n",
       "    </tr>\n",
       "    <tr>\n",
       "      <th>4</th>\n",
       "      <td>4</td>\n",
       "      <td>Monocytes+Erythocytes doublet</td>\n",
       "    </tr>\n",
       "  </tbody>\n",
       "</table>\n",
       "</div>"
      ],
      "text/plain": [
       "  leiden_resolution_1                        AIFI_L3\n",
       "0                   0                       Platelet\n",
       "1                   1          T+Erythocytes doublet\n",
       "2                   2                       Platelet\n",
       "3                   3          T+Erythocytes doublet\n",
       "4                   4  Monocytes+Erythocytes doublet"
      ]
     },
     "execution_count": 23,
     "metadata": {},
     "output_type": "execute_result"
    }
   ],
   "source": [
    "freq_anno.head()"
   ]
  },
  {
   "cell_type": "markdown",
   "id": "2016a37a-c7c3-47b2-9939-35778879ae30",
   "metadata": {},
   "source": [
    "Select unique associations between L3 labels and the other levels of the hierarchy from the original annotations - should work because these are all subsets of L2 and L1"
   ]
  },
  {
   "cell_type": "code",
   "execution_count": 24,
   "id": "54dd05b6-92ae-4369-be8a-3af2d85297c5",
   "metadata": {},
   "outputs": [],
   "source": [
    "anno_levels = (\n",
    "    og_anno\n",
    "    .drop('leiden_resolution_1', axis = 1)\n",
    "    .drop_duplicates()\n",
    ")"
   ]
  },
  {
   "cell_type": "markdown",
   "id": "4274f63d-8f2d-4d8c-958f-d2369a4cb1f0",
   "metadata": {},
   "source": [
    "Join the other labels to our new annotations"
   ]
  },
  {
   "cell_type": "code",
   "execution_count": 25,
   "id": "896bbce1-b06c-4fd9-afa1-1c44b32d5019",
   "metadata": {},
   "outputs": [],
   "source": [
    "new_anno = freq_anno.merge(anno_levels, how = 'left', on = 'AIFI_L3')"
   ]
  },
  {
   "cell_type": "code",
   "execution_count": 26,
   "id": "2d18dc8e-994b-4305-91f4-56d54dcf0e19",
   "metadata": {
    "scrolled": true
   },
   "outputs": [
    {
     "data": {
      "text/html": [
       "<div>\n",
       "<style scoped>\n",
       "    .dataframe tbody tr th:only-of-type {\n",
       "        vertical-align: middle;\n",
       "    }\n",
       "\n",
       "    .dataframe tbody tr th {\n",
       "        vertical-align: top;\n",
       "    }\n",
       "\n",
       "    .dataframe thead th {\n",
       "        text-align: right;\n",
       "    }\n",
       "</style>\n",
       "<table border=\"1\" class=\"dataframe\">\n",
       "  <thead>\n",
       "    <tr style=\"text-align: right;\">\n",
       "      <th></th>\n",
       "      <th>leiden_resolution_1</th>\n",
       "      <th>AIFI_L3</th>\n",
       "      <th>AIFI_L1</th>\n",
       "      <th>AIFI_L1_Final</th>\n",
       "      <th>AIFI_L2</th>\n",
       "      <th>AIFI_L2_Final</th>\n",
       "      <th>AIFI_L3_Final</th>\n",
       "    </tr>\n",
       "  </thead>\n",
       "  <tbody>\n",
       "    <tr>\n",
       "      <th>0</th>\n",
       "      <td>0</td>\n",
       "      <td>Platelet</td>\n",
       "      <td>Platelet</td>\n",
       "      <td>Yes</td>\n",
       "      <td>Platelet</td>\n",
       "      <td>Yes</td>\n",
       "      <td>Yes</td>\n",
       "    </tr>\n",
       "    <tr>\n",
       "      <th>1</th>\n",
       "      <td>1</td>\n",
       "      <td>T+Erythocytes doublet</td>\n",
       "      <td>T+Erythocytes doublet</td>\n",
       "      <td>Yes</td>\n",
       "      <td>T+Erythocytes doublet</td>\n",
       "      <td>Yes</td>\n",
       "      <td>Yes</td>\n",
       "    </tr>\n",
       "    <tr>\n",
       "      <th>2</th>\n",
       "      <td>2</td>\n",
       "      <td>Platelet</td>\n",
       "      <td>Platelet</td>\n",
       "      <td>Yes</td>\n",
       "      <td>Platelet</td>\n",
       "      <td>Yes</td>\n",
       "      <td>Yes</td>\n",
       "    </tr>\n",
       "    <tr>\n",
       "      <th>3</th>\n",
       "      <td>3</td>\n",
       "      <td>T+Erythocytes doublet</td>\n",
       "      <td>T+Erythocytes doublet</td>\n",
       "      <td>Yes</td>\n",
       "      <td>T+Erythocytes doublet</td>\n",
       "      <td>Yes</td>\n",
       "      <td>Yes</td>\n",
       "    </tr>\n",
       "    <tr>\n",
       "      <th>4</th>\n",
       "      <td>4</td>\n",
       "      <td>Monocytes+Erythocytes doublet</td>\n",
       "      <td>Monocytes+Erythocytes doublet</td>\n",
       "      <td>Yes</td>\n",
       "      <td>Monocytes+Erythocytes doublet</td>\n",
       "      <td>Yes</td>\n",
       "      <td>Yes</td>\n",
       "    </tr>\n",
       "    <tr>\n",
       "      <th>5</th>\n",
       "      <td>5</td>\n",
       "      <td>T+Erythocytes doublet</td>\n",
       "      <td>T+Erythocytes doublet</td>\n",
       "      <td>Yes</td>\n",
       "      <td>T+Erythocytes doublet</td>\n",
       "      <td>Yes</td>\n",
       "      <td>Yes</td>\n",
       "    </tr>\n",
       "    <tr>\n",
       "      <th>6</th>\n",
       "      <td>6</td>\n",
       "      <td>Platelet</td>\n",
       "      <td>Platelet</td>\n",
       "      <td>Yes</td>\n",
       "      <td>Platelet</td>\n",
       "      <td>Yes</td>\n",
       "      <td>Yes</td>\n",
       "    </tr>\n",
       "    <tr>\n",
       "      <th>7</th>\n",
       "      <td>7</td>\n",
       "      <td>T+Erythocytes doublet</td>\n",
       "      <td>T+Erythocytes doublet</td>\n",
       "      <td>Yes</td>\n",
       "      <td>T+Erythocytes doublet</td>\n",
       "      <td>Yes</td>\n",
       "      <td>Yes</td>\n",
       "    </tr>\n",
       "    <tr>\n",
       "      <th>8</th>\n",
       "      <td>8</td>\n",
       "      <td>Erythrocyte</td>\n",
       "      <td>Erythrocyte</td>\n",
       "      <td>Yes</td>\n",
       "      <td>Erythrocyte</td>\n",
       "      <td>Yes</td>\n",
       "      <td>Yes</td>\n",
       "    </tr>\n",
       "    <tr>\n",
       "      <th>9</th>\n",
       "      <td>9</td>\n",
       "      <td>CMP cell</td>\n",
       "      <td>Progenitor cell</td>\n",
       "      <td>Yes</td>\n",
       "      <td>Progenitor cell</td>\n",
       "      <td>Yes</td>\n",
       "      <td>Yes</td>\n",
       "    </tr>\n",
       "    <tr>\n",
       "      <th>10</th>\n",
       "      <td>10</td>\n",
       "      <td>NK+Erythocytes doublet</td>\n",
       "      <td>NK+Erythocytes doublet</td>\n",
       "      <td>Yes</td>\n",
       "      <td>NK+Erythocytes doublet</td>\n",
       "      <td>Yes</td>\n",
       "      <td>Yes</td>\n",
       "    </tr>\n",
       "    <tr>\n",
       "      <th>11</th>\n",
       "      <td>11</td>\n",
       "      <td>B+Erythocytes doublet</td>\n",
       "      <td>B+Erythocytes doublet</td>\n",
       "      <td>Yes</td>\n",
       "      <td>B+Erythocytes doublet</td>\n",
       "      <td>Yes</td>\n",
       "      <td>Yes</td>\n",
       "    </tr>\n",
       "    <tr>\n",
       "      <th>12</th>\n",
       "      <td>12</td>\n",
       "      <td>CLP cell</td>\n",
       "      <td>Progenitor cell</td>\n",
       "      <td>Yes</td>\n",
       "      <td>Progenitor cell</td>\n",
       "      <td>Yes</td>\n",
       "      <td>Yes</td>\n",
       "    </tr>\n",
       "    <tr>\n",
       "      <th>13</th>\n",
       "      <td>13</td>\n",
       "      <td>Erythrocyte</td>\n",
       "      <td>Erythrocyte</td>\n",
       "      <td>Yes</td>\n",
       "      <td>Erythrocyte</td>\n",
       "      <td>Yes</td>\n",
       "      <td>Yes</td>\n",
       "    </tr>\n",
       "    <tr>\n",
       "      <th>14</th>\n",
       "      <td>14</td>\n",
       "      <td>Monocytes+Erythocytes doublet</td>\n",
       "      <td>Monocytes+Erythocytes doublet</td>\n",
       "      <td>Yes</td>\n",
       "      <td>Monocytes+Erythocytes doublet</td>\n",
       "      <td>Yes</td>\n",
       "      <td>Yes</td>\n",
       "    </tr>\n",
       "    <tr>\n",
       "      <th>15</th>\n",
       "      <td>15</td>\n",
       "      <td>Platelet</td>\n",
       "      <td>Platelet</td>\n",
       "      <td>Yes</td>\n",
       "      <td>Platelet</td>\n",
       "      <td>Yes</td>\n",
       "      <td>Yes</td>\n",
       "    </tr>\n",
       "    <tr>\n",
       "      <th>16</th>\n",
       "      <td>16</td>\n",
       "      <td>T+Erythocytes doublet</td>\n",
       "      <td>T+Erythocytes doublet</td>\n",
       "      <td>Yes</td>\n",
       "      <td>T+Erythocytes doublet</td>\n",
       "      <td>Yes</td>\n",
       "      <td>Yes</td>\n",
       "    </tr>\n",
       "    <tr>\n",
       "      <th>17</th>\n",
       "      <td>17</td>\n",
       "      <td>BaEoMaP cell</td>\n",
       "      <td>Progenitor cell</td>\n",
       "      <td>Yes</td>\n",
       "      <td>Progenitor cell</td>\n",
       "      <td>Yes</td>\n",
       "      <td>Yes</td>\n",
       "    </tr>\n",
       "  </tbody>\n",
       "</table>\n",
       "</div>"
      ],
      "text/plain": [
       "   leiden_resolution_1                        AIFI_L3  \\\n",
       "0                    0                       Platelet   \n",
       "1                    1          T+Erythocytes doublet   \n",
       "2                    2                       Platelet   \n",
       "3                    3          T+Erythocytes doublet   \n",
       "4                    4  Monocytes+Erythocytes doublet   \n",
       "5                    5          T+Erythocytes doublet   \n",
       "6                    6                       Platelet   \n",
       "7                    7          T+Erythocytes doublet   \n",
       "8                    8                    Erythrocyte   \n",
       "9                    9                       CMP cell   \n",
       "10                  10         NK+Erythocytes doublet   \n",
       "11                  11          B+Erythocytes doublet   \n",
       "12                  12                       CLP cell   \n",
       "13                  13                    Erythrocyte   \n",
       "14                  14  Monocytes+Erythocytes doublet   \n",
       "15                  15                       Platelet   \n",
       "16                  16          T+Erythocytes doublet   \n",
       "17                  17                   BaEoMaP cell   \n",
       "\n",
       "                          AIFI_L1 AIFI_L1_Final  \\\n",
       "0                        Platelet           Yes   \n",
       "1           T+Erythocytes doublet           Yes   \n",
       "2                        Platelet           Yes   \n",
       "3           T+Erythocytes doublet           Yes   \n",
       "4   Monocytes+Erythocytes doublet           Yes   \n",
       "5           T+Erythocytes doublet           Yes   \n",
       "6                        Platelet           Yes   \n",
       "7           T+Erythocytes doublet           Yes   \n",
       "8                     Erythrocyte           Yes   \n",
       "9                 Progenitor cell           Yes   \n",
       "10         NK+Erythocytes doublet           Yes   \n",
       "11          B+Erythocytes doublet           Yes   \n",
       "12                Progenitor cell           Yes   \n",
       "13                    Erythrocyte           Yes   \n",
       "14  Monocytes+Erythocytes doublet           Yes   \n",
       "15                       Platelet           Yes   \n",
       "16          T+Erythocytes doublet           Yes   \n",
       "17                Progenitor cell           Yes   \n",
       "\n",
       "                          AIFI_L2 AIFI_L2_Final AIFI_L3_Final  \n",
       "0                        Platelet           Yes           Yes  \n",
       "1           T+Erythocytes doublet           Yes           Yes  \n",
       "2                        Platelet           Yes           Yes  \n",
       "3           T+Erythocytes doublet           Yes           Yes  \n",
       "4   Monocytes+Erythocytes doublet           Yes           Yes  \n",
       "5           T+Erythocytes doublet           Yes           Yes  \n",
       "6                        Platelet           Yes           Yes  \n",
       "7           T+Erythocytes doublet           Yes           Yes  \n",
       "8                     Erythrocyte           Yes           Yes  \n",
       "9                 Progenitor cell           Yes           Yes  \n",
       "10         NK+Erythocytes doublet           Yes           Yes  \n",
       "11          B+Erythocytes doublet           Yes           Yes  \n",
       "12                Progenitor cell           Yes           Yes  \n",
       "13                    Erythrocyte           Yes           Yes  \n",
       "14  Monocytes+Erythocytes doublet           Yes           Yes  \n",
       "15                       Platelet           Yes           Yes  \n",
       "16          T+Erythocytes doublet           Yes           Yes  \n",
       "17                Progenitor cell           Yes           Yes  "
      ]
     },
     "execution_count": 26,
     "metadata": {},
     "output_type": "execute_result"
    }
   ],
   "source": [
    "new_anno"
   ]
  },
  {
   "cell_type": "code",
   "execution_count": 27,
   "id": "b6ed74cb-91cb-44b2-b947-b2c6728e13ca",
   "metadata": {},
   "outputs": [],
   "source": [
    "out_dir = '../04-Annotation/annotations/'\n",
    "out_file = '{p}/pbmc_ref_{c}_annotations_{d}.csv'.format(\n",
    "    p = out_dir,\n",
    "    c = cell_class,\n",
    "    d = date.today()\n",
    ")\n",
    "new_anno.to_csv(out_file)"
   ]
  },
  {
   "cell_type": "code",
   "execution_count": 28,
   "id": "d7b321f6-ac4f-4cbd-af80-e6a871842293",
   "metadata": {},
   "outputs": [
    {
     "data": {
      "text/plain": [
       "AIFI_L3\n",
       "T+Erythocytes doublet            8647\n",
       "Platelet                         8037\n",
       "Monocytes+Erythocytes doublet    2476\n",
       "Erythrocyte                      1336\n",
       "CMP cell                         1082\n",
       "B+Erythocytes doublet             928\n",
       "NK+Erythocytes doublet            883\n",
       "CLP cell                          367\n",
       "BaEoMaP cell                       78\n",
       "Name: count, dtype: int64"
      ]
     },
     "execution_count": 28,
     "metadata": {},
     "output_type": "execute_result"
    }
   ],
   "source": [
    "new_counts = joint_df['AIFI_L3'].value_counts()\n",
    "new_counts"
   ]
  },
  {
   "cell_type": "markdown",
   "id": "1ebbb08c-1ddd-4395-8d9d-7ac7cfc306b9",
   "metadata": {},
   "source": [
    "Original type counts"
   ]
  },
  {
   "cell_type": "code",
   "execution_count": 29,
   "id": "1579f03b-c5a1-4d31-b71c-09389f041b57",
   "metadata": {},
   "outputs": [
    {
     "data": {
      "text/plain": [
       "AIFI_L3\n",
       "T+Erythocytes doublet            8679\n",
       "Platelet                         8037\n",
       "Monocytes+Erythocytes doublet    2515\n",
       "Erythrocyte                      1337\n",
       "CMP cell                         1082\n",
       "B+Erythocytes doublet             953\n",
       "NK+Erythocytes doublet            887\n",
       "CLP cell                          376\n",
       "BaEoMaP cell                       78\n",
       "Name: count, dtype: int64"
      ]
     },
     "execution_count": 29,
     "metadata": {},
     "output_type": "execute_result"
    }
   ],
   "source": [
    "old_counts = og_df['AIFI_L3'].value_counts()\n",
    "old_counts"
   ]
  },
  {
   "cell_type": "markdown",
   "id": "d0e537b5-aeb4-4769-a5bc-09739f16b116",
   "metadata": {},
   "source": [
    "Difference in counts"
   ]
  },
  {
   "cell_type": "code",
   "execution_count": 30,
   "id": "c408c105-d295-475e-a680-2a0d3c15d233",
   "metadata": {},
   "outputs": [
    {
     "data": {
      "text/plain": [
       "AIFI_L3\n",
       "T+Erythocytes doublet           -32\n",
       "Platelet                          0\n",
       "Monocytes+Erythocytes doublet   -39\n",
       "Erythrocyte                      -1\n",
       "CMP cell                          0\n",
       "B+Erythocytes doublet           -25\n",
       "NK+Erythocytes doublet           -4\n",
       "CLP cell                         -9\n",
       "BaEoMaP cell                      0\n",
       "Name: count, dtype: int64"
      ]
     },
     "execution_count": 30,
     "metadata": {},
     "output_type": "execute_result"
    }
   ],
   "source": [
    "new_counts - old_counts"
   ]
  },
  {
   "cell_type": "markdown",
   "id": "beeecb7a-69d1-4137-8863-d734eaafbb3f",
   "metadata": {},
   "source": [
    "Percent difference"
   ]
  },
  {
   "cell_type": "code",
   "execution_count": 31,
   "id": "4fd541ad-f765-4d3e-b044-d5a998c8898f",
   "metadata": {},
   "outputs": [
    {
     "data": {
      "text/plain": [
       "AIFI_L3\n",
       "T+Erythocytes doublet           -0.368706\n",
       "Platelet                         0.000000\n",
       "Monocytes+Erythocytes doublet   -1.550696\n",
       "Erythrocyte                     -0.074794\n",
       "CMP cell                         0.000000\n",
       "B+Erythocytes doublet           -2.623295\n",
       "NK+Erythocytes doublet          -0.450958\n",
       "CLP cell                        -2.393617\n",
       "BaEoMaP cell                     0.000000\n",
       "Name: count, dtype: float64"
      ]
     },
     "execution_count": 31,
     "metadata": {},
     "output_type": "execute_result"
    }
   ],
   "source": [
    "(new_counts - old_counts) / old_counts * 100"
   ]
  },
  {
   "cell_type": "code",
   "execution_count": 32,
   "id": "e5c56c62-c7b5-4ce1-a187-2387d3151284",
   "metadata": {},
   "outputs": [
    {
     "data": {
      "text/html": [
       "<details>\n",
       "<summary>Click to view session information</summary>\n",
       "<pre>\n",
       "-----\n",
       "anndata             0.10.3\n",
       "hisepy              0.3.0\n",
       "pandas              2.1.4\n",
       "scanpy              1.9.6\n",
       "session_info        1.0.0\n",
       "-----\n",
       "</pre>\n",
       "<details>\n",
       "<summary>Click to view modules imported as dependencies</summary>\n",
       "<pre>\n",
       "PIL                         10.0.1\n",
       "anyio                       NA\n",
       "arrow                       1.3.0\n",
       "asttokens                   NA\n",
       "attr                        23.2.0\n",
       "attrs                       23.2.0\n",
       "babel                       2.14.0\n",
       "beatrix_jupyterlab          NA\n",
       "brotli                      NA\n",
       "cachetools                  5.3.1\n",
       "certifi                     2023.11.17\n",
       "cffi                        1.16.0\n",
       "charset_normalizer          3.3.2\n",
       "cloudpickle                 2.2.1\n",
       "colorama                    0.4.6\n",
       "comm                        0.1.4\n",
       "cryptography                41.0.7\n",
       "cycler                      0.10.0\n",
       "cython_runtime              NA\n",
       "dateutil                    2.8.2\n",
       "db_dtypes                   1.1.1\n",
       "debugpy                     1.8.0\n",
       "decorator                   5.1.1\n",
       "defusedxml                  0.7.1\n",
       "deprecated                  1.2.14\n",
       "exceptiongroup              1.2.0\n",
       "executing                   2.0.1\n",
       "fastjsonschema              NA\n",
       "fqdn                        NA\n",
       "google                      NA\n",
       "greenlet                    2.0.2\n",
       "grpc                        1.58.0\n",
       "grpc_status                 NA\n",
       "h5py                        3.10.0\n",
       "idna                        3.6\n",
       "igraph                      0.10.8\n",
       "importlib_metadata          NA\n",
       "ipykernel                   6.28.0\n",
       "ipython_genutils            0.2.0\n",
       "ipywidgets                  8.1.1\n",
       "isoduration                 NA\n",
       "jedi                        0.19.1\n",
       "jinja2                      3.1.2\n",
       "joblib                      1.3.2\n",
       "json5                       NA\n",
       "jsonpointer                 2.4\n",
       "jsonschema                  4.20.0\n",
       "jsonschema_specifications   NA\n",
       "jupyter_events              0.9.0\n",
       "jupyter_server              2.12.1\n",
       "jupyterlab_server           2.25.2\n",
       "jwt                         2.8.0\n",
       "kiwisolver                  1.4.5\n",
       "leidenalg                   0.10.1\n",
       "llvmlite                    0.41.0\n",
       "lz4                         4.3.2\n",
       "markupsafe                  2.1.3\n",
       "matplotlib                  3.8.0\n",
       "matplotlib_inline           0.1.6\n",
       "mpl_toolkits                NA\n",
       "mpmath                      1.3.0\n",
       "natsort                     8.4.0\n",
       "nbformat                    5.9.2\n",
       "numba                       0.58.0\n",
       "numpy                       1.24.0\n",
       "opentelemetry               NA\n",
       "overrides                   NA\n",
       "packaging                   23.2\n",
       "parso                       0.8.3\n",
       "pexpect                     4.8.0\n",
       "pickleshare                 0.7.5\n",
       "pkg_resources               NA\n",
       "platformdirs                4.1.0\n",
       "plotly                      5.18.0\n",
       "prettytable                 3.9.0\n",
       "prometheus_client           NA\n",
       "prompt_toolkit              3.0.42\n",
       "proto                       NA\n",
       "psutil                      NA\n",
       "ptyprocess                  0.7.0\n",
       "pure_eval                   0.2.2\n",
       "pyarrow                     13.0.0\n",
       "pydev_ipython               NA\n",
       "pydevconsole                NA\n",
       "pydevd                      2.9.5\n",
       "pydevd_file_utils           NA\n",
       "pydevd_plugins              NA\n",
       "pydevd_tracing              NA\n",
       "pygments                    2.17.2\n",
       "pynvml                      NA\n",
       "pyparsing                   3.1.1\n",
       "pyreadr                     0.5.0\n",
       "pythonjsonlogger            NA\n",
       "pytz                        2023.3.post1\n",
       "referencing                 NA\n",
       "requests                    2.31.0\n",
       "rfc3339_validator           0.1.4\n",
       "rfc3986_validator           0.1.1\n",
       "rpds                        NA\n",
       "scipy                       1.11.4\n",
       "send2trash                  NA\n",
       "shapely                     1.8.5.post1\n",
       "six                         1.16.0\n",
       "sklearn                     1.3.2\n",
       "sniffio                     1.3.0\n",
       "socks                       1.7.1\n",
       "sql                         NA\n",
       "sqlalchemy                  2.0.21\n",
       "sqlparse                    0.4.4\n",
       "stack_data                  0.6.2\n",
       "sympy                       1.12\n",
       "termcolor                   NA\n",
       "texttable                   1.7.0\n",
       "threadpoolctl               3.2.0\n",
       "torch                       2.1.2+cu121\n",
       "torchgen                    NA\n",
       "tornado                     6.3.3\n",
       "tqdm                        4.66.1\n",
       "traitlets                   5.9.0\n",
       "typing_extensions           NA\n",
       "uri_template                NA\n",
       "urllib3                     1.26.18\n",
       "wcwidth                     0.2.12\n",
       "webcolors                   1.13\n",
       "websocket                   1.7.0\n",
       "wrapt                       1.15.0\n",
       "xarray                      2023.12.0\n",
       "yaml                        6.0.1\n",
       "zipp                        NA\n",
       "zmq                         25.1.2\n",
       "zoneinfo                    NA\n",
       "zstandard                   0.22.0\n",
       "</pre>\n",
       "</details> <!-- seems like this ends pre, so might as well be explicit -->\n",
       "<pre>\n",
       "-----\n",
       "IPython             8.19.0\n",
       "jupyter_client      8.6.0\n",
       "jupyter_core        5.6.1\n",
       "jupyterlab          4.0.10\n",
       "notebook            6.5.4\n",
       "-----\n",
       "Python 3.10.13 | packaged by conda-forge | (main, Dec 23 2023, 15:36:39) [GCC 12.3.0]\n",
       "Linux-5.15.0-1052-gcp-x86_64-with-glibc2.31\n",
       "-----\n",
       "Session information updated at 2024-02-29 22:08\n",
       "</pre>\n",
       "</details>"
      ],
      "text/plain": [
       "<IPython.core.display.HTML object>"
      ]
     },
     "execution_count": 32,
     "metadata": {},
     "output_type": "execute_result"
    }
   ],
   "source": [
    "import session_info\n",
    "session_info.show()"
   ]
  },
  {
   "cell_type": "code",
   "execution_count": null,
   "id": "27adcad7-67ae-4ffe-b86e-3acf206069c0",
   "metadata": {},
   "outputs": [],
   "source": []
  }
 ],
 "metadata": {
  "kernelspec": {
   "display_name": "Python 3 (ipykernel)",
   "language": "python",
   "name": "python3"
  },
  "language_info": {
   "codemirror_mode": {
    "name": "ipython",
    "version": 3
   },
   "file_extension": ".py",
   "mimetype": "text/x-python",
   "name": "python",
   "nbconvert_exporter": "python",
   "pygments_lexer": "ipython3",
   "version": "3.10.13"
  }
 },
 "nbformat": 4,
 "nbformat_minor": 5
}
