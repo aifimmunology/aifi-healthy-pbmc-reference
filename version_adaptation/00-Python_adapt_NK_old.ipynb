{
 "cells": [
  {
   "cell_type": "markdown",
   "id": "c8949497-c939-4158-b331-b97aa7318961",
   "metadata": {},
   "source": [
    "## Adapt NK cell annotations\n",
    "\n",
    "With slightly different clustering, we need to shift the original expert cluster annotations to new cluster numbers.\n",
    "\n",
    "We can do this using the barcodes associated with each cluster."
   ]
  },
  {
   "cell_type": "code",
   "execution_count": 13,
   "id": "3d83899c-1d31-49f7-839d-3c0e280ce0d5",
   "metadata": {},
   "outputs": [],
   "source": [
    "from datetime import date\n",
    "import hisepy\n",
    "import os\n",
    "import pandas as pd\n",
    "import scanpy as sc"
   ]
  },
  {
   "cell_type": "code",
   "execution_count": 14,
   "id": "67e4758f-13fc-4d89-8ee0-a147490db0e0",
   "metadata": {},
   "outputs": [],
   "source": [
    "def read_obs_uuid(h5ad_uuid):\n",
    "    h5ad_path = '/home/jupyter/cache/{u}'.format(u = h5ad_uuid)\n",
    "    if not os.path.isdir(h5ad_path):\n",
    "        hise_res = hisepy.reader.cache_files([h5ad_uuid])\n",
    "    h5ad_filename = os.listdir(h5ad_path)[0]\n",
    "    h5ad_file = '{p}/{f}'.format(p = h5ad_path, f = h5ad_filename)\n",
    "    adata = sc.read_h5ad(h5ad_file, backed = 'r')\n",
    "    obs = adata.obs.copy()\n",
    "    return obs"
   ]
  },
  {
   "cell_type": "code",
   "execution_count": 15,
   "id": "8b881afc-8aae-47cc-a16a-824c0f3e9cc5",
   "metadata": {},
   "outputs": [],
   "source": [
    "def read_parquet_uuid(parquet_uuid):\n",
    "    pq_path = '/home/jupyter/cache/{u}'.format(u = parquet_uuid)\n",
    "    if not os.path.isdir(pq_path):\n",
    "        hise_res = hisepy.reader.cache_files([parquet_uuid])\n",
    "    pq_filename = os.listdir(pq_path)[0]\n",
    "    pq_file = '{p}/{f}'.format(p = pq_path, f = pq_filename)\n",
    "    df = pd.read_parquet(pq_file)\n",
    "    return df"
   ]
  },
  {
   "cell_type": "code",
   "execution_count": 16,
   "id": "7a0562d7-f04e-42e5-bb7c-ad0510d29b4f",
   "metadata": {},
   "outputs": [],
   "source": [
    "def join_anno(og_obs, new_obs, new_col):\n",
    "    new_df = new_obs[['barcodes', new_col]].copy()\n",
    "    new_df = new_df.reset_index(drop = True)\n",
    "    joint_df = new_df.merge(og_obs, how = 'left', on = 'barcodes')\n",
    "\n",
    "    return joint_df"
   ]
  },
  {
   "cell_type": "code",
   "execution_count": 17,
   "id": "45fe7267-b992-4ed7-8286-2e146d7dcb3f",
   "metadata": {},
   "outputs": [],
   "source": [
    "def reduce_anno(joint_df, og_anno, new_col):    \n",
    "    freq_anno = joint_df.drop('barcodes', axis = 1)\n",
    "    \n",
    "    freq_anno = (\n",
    "        freq_anno\n",
    "        .groupby(new_col)['AIFI_L3']\n",
    "        .agg(pd.Series.mode)\n",
    "        .to_frame()\n",
    "        .reset_index()\n",
    "    )\n",
    "\n",
    "    new_anno = freq_anno.merge(og_anno, how = 'left', on = 'AIFI_L3')\n",
    "\n",
    "    return(new_anno)"
   ]
  },
  {
   "cell_type": "markdown",
   "id": "ccdede36-b153-4c7e-86da-f1910de11768",
   "metadata": {},
   "source": [
    "## Read new subclustering results from HISE"
   ]
  },
  {
   "cell_type": "code",
   "execution_count": 18,
   "id": "464b3882-550e-4f8b-9bec-8c7b2b2c537f",
   "metadata": {},
   "outputs": [],
   "source": [
    "cell_class = 'nk-cells'"
   ]
  },
  {
   "cell_type": "code",
   "execution_count": 19,
   "id": "d6166dc8-e3d5-436e-8ece-931f62c5be28",
   "metadata": {},
   "outputs": [],
   "source": [
    "pq_uuid = '11dea6f0-b69c-4641-a982-9e9d79a68240'\n",
    "new_obs = read_parquet_uuid(pq_uuid)"
   ]
  },
  {
   "cell_type": "markdown",
   "id": "e2680875-db4e-4ae6-9588-e16ab895cf5c",
   "metadata": {},
   "source": [
    "## Read original annotations"
   ]
  },
  {
   "cell_type": "code",
   "execution_count": 20,
   "id": "0bf20eb4-a75a-4a03-a8c9-a4afe928170b",
   "metadata": {},
   "outputs": [],
   "source": [
    "og_anno = pd.read_parquet('NK_Annotation.parquet')"
   ]
  },
  {
   "cell_type": "code",
   "execution_count": 21,
   "id": "6ec03c0b-2e51-46e7-815c-edc07e14f1f4",
   "metadata": {},
   "outputs": [
    {
     "data": {
      "text/html": [
       "<div>\n",
       "<style scoped>\n",
       "    .dataframe tbody tr th:only-of-type {\n",
       "        vertical-align: middle;\n",
       "    }\n",
       "\n",
       "    .dataframe tbody tr th {\n",
       "        vertical-align: top;\n",
       "    }\n",
       "\n",
       "    .dataframe thead th {\n",
       "        text-align: right;\n",
       "    }\n",
       "</style>\n",
       "<table border=\"1\" class=\"dataframe\">\n",
       "  <thead>\n",
       "    <tr style=\"text-align: right;\">\n",
       "      <th></th>\n",
       "      <th>barcodes</th>\n",
       "      <th>batch_id</th>\n",
       "      <th>cell_name</th>\n",
       "      <th>cell_uuid</th>\n",
       "      <th>chip_id</th>\n",
       "      <th>hto_barcode</th>\n",
       "      <th>hto_category</th>\n",
       "      <th>n_genes</th>\n",
       "      <th>n_mito_umis</th>\n",
       "      <th>n_reads</th>\n",
       "      <th>...</th>\n",
       "      <th>leiden</th>\n",
       "      <th>leiden_resolution_1</th>\n",
       "      <th>leiden_resolution_1.5</th>\n",
       "      <th>leiden_resolution_2</th>\n",
       "      <th>AIFI_L1</th>\n",
       "      <th>AIFI_L1_Final</th>\n",
       "      <th>AIFI_L2</th>\n",
       "      <th>AIFI_L2_Final</th>\n",
       "      <th>AIFI_L3</th>\n",
       "      <th>AIFI_L3_Final</th>\n",
       "    </tr>\n",
       "  </thead>\n",
       "  <tbody>\n",
       "    <tr>\n",
       "      <th>0</th>\n",
       "      <td>cf72d2f048b611ea8957bafe6d70929e</td>\n",
       "      <td>B001</td>\n",
       "      <td>shrewd_chocolaty_xrayfish</td>\n",
       "      <td>cf72d2f048b611ea8957bafe6d70929e</td>\n",
       "      <td>B001-P1C1</td>\n",
       "      <td>TGATGGCCTATTGGG</td>\n",
       "      <td>singlet</td>\n",
       "      <td>1229</td>\n",
       "      <td>51</td>\n",
       "      <td>8644</td>\n",
       "      <td>...</td>\n",
       "      <td>5</td>\n",
       "      <td>5</td>\n",
       "      <td>6</td>\n",
       "      <td>4</td>\n",
       "      <td>NK cell</td>\n",
       "      <td>Yes</td>\n",
       "      <td>CD56dim NK cell</td>\n",
       "      <td>Yes</td>\n",
       "      <td>GZMK+ CD56dim NK cell</td>\n",
       "      <td>Yes</td>\n",
       "    </tr>\n",
       "    <tr>\n",
       "      <th>1</th>\n",
       "      <td>cf73d29048b611ea8957bafe6d70929e</td>\n",
       "      <td>B001</td>\n",
       "      <td>subocean_bold_oriole</td>\n",
       "      <td>cf73d29048b611ea8957bafe6d70929e</td>\n",
       "      <td>B001-P1C1</td>\n",
       "      <td>TGATGGCCTATTGGG</td>\n",
       "      <td>singlet</td>\n",
       "      <td>2005</td>\n",
       "      <td>246</td>\n",
       "      <td>18676</td>\n",
       "      <td>...</td>\n",
       "      <td>5</td>\n",
       "      <td>8</td>\n",
       "      <td>12</td>\n",
       "      <td>14</td>\n",
       "      <td>NK cell</td>\n",
       "      <td>Yes</td>\n",
       "      <td>NK+T Doublets</td>\n",
       "      <td>Yes</td>\n",
       "      <td>NK+T Doublets</td>\n",
       "      <td>Yes</td>\n",
       "    </tr>\n",
       "    <tr>\n",
       "      <th>2</th>\n",
       "      <td>cf73ecda48b611ea8957bafe6d70929e</td>\n",
       "      <td>B001</td>\n",
       "      <td>observant_fathomable_barracuda</td>\n",
       "      <td>cf73ecda48b611ea8957bafe6d70929e</td>\n",
       "      <td>B001-P1C1</td>\n",
       "      <td>TGATGGCCTATTGGG</td>\n",
       "      <td>singlet</td>\n",
       "      <td>921</td>\n",
       "      <td>37</td>\n",
       "      <td>5216</td>\n",
       "      <td>...</td>\n",
       "      <td>5</td>\n",
       "      <td>0</td>\n",
       "      <td>1</td>\n",
       "      <td>12</td>\n",
       "      <td>NK cell</td>\n",
       "      <td>Yes</td>\n",
       "      <td>CD56dim NK cell</td>\n",
       "      <td>Yes</td>\n",
       "      <td>GZMK- CD56dim NK cell</td>\n",
       "      <td>Yes</td>\n",
       "    </tr>\n",
       "    <tr>\n",
       "      <th>3</th>\n",
       "      <td>cf7430b448b611ea8957bafe6d70929e</td>\n",
       "      <td>B001</td>\n",
       "      <td>omniscient_slim_hoki</td>\n",
       "      <td>cf7430b448b611ea8957bafe6d70929e</td>\n",
       "      <td>B001-P1C1</td>\n",
       "      <td>TGATGGCCTATTGGG</td>\n",
       "      <td>singlet</td>\n",
       "      <td>2153</td>\n",
       "      <td>117</td>\n",
       "      <td>16241</td>\n",
       "      <td>...</td>\n",
       "      <td>5</td>\n",
       "      <td>2</td>\n",
       "      <td>2</td>\n",
       "      <td>5</td>\n",
       "      <td>NK cell</td>\n",
       "      <td>Yes</td>\n",
       "      <td>CD56dim NK cell</td>\n",
       "      <td>Yes</td>\n",
       "      <td>GZMK- CD56dim NK cell</td>\n",
       "      <td>Yes</td>\n",
       "    </tr>\n",
       "    <tr>\n",
       "      <th>4</th>\n",
       "      <td>cf754e0448b611ea8957bafe6d70929e</td>\n",
       "      <td>B001</td>\n",
       "      <td>glossy_intimate_ladybug</td>\n",
       "      <td>cf754e0448b611ea8957bafe6d70929e</td>\n",
       "      <td>B001-P1C1</td>\n",
       "      <td>TGATGGCCTATTGGG</td>\n",
       "      <td>singlet</td>\n",
       "      <td>1497</td>\n",
       "      <td>131</td>\n",
       "      <td>9952</td>\n",
       "      <td>...</td>\n",
       "      <td>5</td>\n",
       "      <td>3</td>\n",
       "      <td>13</td>\n",
       "      <td>15</td>\n",
       "      <td>NK cell</td>\n",
       "      <td>Yes</td>\n",
       "      <td>CD56dim NK cell</td>\n",
       "      <td>Yes</td>\n",
       "      <td>GZMK- CD56dim NK cell</td>\n",
       "      <td>Yes</td>\n",
       "    </tr>\n",
       "  </tbody>\n",
       "</table>\n",
       "<p>5 rows × 63 columns</p>\n",
       "</div>"
      ],
      "text/plain": [
       "                           barcodes batch_id                       cell_name  \\\n",
       "0  cf72d2f048b611ea8957bafe6d70929e     B001       shrewd_chocolaty_xrayfish   \n",
       "1  cf73d29048b611ea8957bafe6d70929e     B001            subocean_bold_oriole   \n",
       "2  cf73ecda48b611ea8957bafe6d70929e     B001  observant_fathomable_barracuda   \n",
       "3  cf7430b448b611ea8957bafe6d70929e     B001            omniscient_slim_hoki   \n",
       "4  cf754e0448b611ea8957bafe6d70929e     B001         glossy_intimate_ladybug   \n",
       "\n",
       "                          cell_uuid    chip_id      hto_barcode hto_category  \\\n",
       "0  cf72d2f048b611ea8957bafe6d70929e  B001-P1C1  TGATGGCCTATTGGG      singlet   \n",
       "1  cf73d29048b611ea8957bafe6d70929e  B001-P1C1  TGATGGCCTATTGGG      singlet   \n",
       "2  cf73ecda48b611ea8957bafe6d70929e  B001-P1C1  TGATGGCCTATTGGG      singlet   \n",
       "3  cf7430b448b611ea8957bafe6d70929e  B001-P1C1  TGATGGCCTATTGGG      singlet   \n",
       "4  cf754e0448b611ea8957bafe6d70929e  B001-P1C1  TGATGGCCTATTGGG      singlet   \n",
       "\n",
       "   n_genes  n_mito_umis  n_reads  ...  leiden leiden_resolution_1  \\\n",
       "0     1229           51     8644  ...       5                   5   \n",
       "1     2005          246    18676  ...       5                   8   \n",
       "2      921           37     5216  ...       5                   0   \n",
       "3     2153          117    16241  ...       5                   2   \n",
       "4     1497          131     9952  ...       5                   3   \n",
       "\n",
       "  leiden_resolution_1.5 leiden_resolution_2  AIFI_L1  AIFI_L1_Final  \\\n",
       "0                     6                   4  NK cell            Yes   \n",
       "1                    12                  14  NK cell            Yes   \n",
       "2                     1                  12  NK cell            Yes   \n",
       "3                     2                   5  NK cell            Yes   \n",
       "4                    13                  15  NK cell            Yes   \n",
       "\n",
       "           AIFI_L2  AIFI_L2_Final                AIFI_L3 AIFI_L3_Final  \n",
       "0  CD56dim NK cell            Yes  GZMK+ CD56dim NK cell           Yes  \n",
       "1    NK+T Doublets            Yes          NK+T Doublets           Yes  \n",
       "2  CD56dim NK cell            Yes  GZMK- CD56dim NK cell           Yes  \n",
       "3  CD56dim NK cell            Yes  GZMK- CD56dim NK cell           Yes  \n",
       "4  CD56dim NK cell            Yes  GZMK- CD56dim NK cell           Yes  \n",
       "\n",
       "[5 rows x 63 columns]"
      ]
     },
     "execution_count": 21,
     "metadata": {},
     "output_type": "execute_result"
    }
   ],
   "source": [
    "og_anno.head()"
   ]
  },
  {
   "cell_type": "raw",
   "id": "fff6abcd-76c3-4a79-987f-a9fb483c2999",
   "metadata": {},
   "source": [
    "og_anno = pd.read_csv('NK_Cells_Res1.5_Annotation.csv')"
   ]
  },
  {
   "cell_type": "raw",
   "id": "8b2a80d5-051b-4f29-917a-6fac7159835f",
   "metadata": {},
   "source": [
    "join_col = 'leiden_resolution_2'"
   ]
  },
  {
   "cell_type": "raw",
   "id": "5615857a-eb06-4950-8584-f79a461bba38",
   "metadata": {},
   "source": [
    "og_df = og_obs[['barcodes', join_col]].copy()"
   ]
  },
  {
   "cell_type": "raw",
   "id": "d15edbf6-dbe5-4260-bb99-df6d6ddc118a",
   "metadata": {},
   "source": [
    "og_anno[join_col] = og_anno[join_col].astype('string').astype('category')"
   ]
  },
  {
   "cell_type": "raw",
   "id": "9dc6de8f-04d4-47b2-a692-ef10a2de4005",
   "metadata": {},
   "source": [
    "og_df = og_df.merge(og_anno, how = 'left', on = join_col)"
   ]
  },
  {
   "cell_type": "raw",
   "id": "46c78bd5-c5fc-4ab7-bf8d-e621f49fab39",
   "metadata": {},
   "source": [
    "og_df.head()"
   ]
  },
  {
   "cell_type": "markdown",
   "id": "272a6a69-1447-4ad3-893c-263740269af0",
   "metadata": {},
   "source": [
    "Rename leiden cluster so names don't conflict with new clustering"
   ]
  },
  {
   "cell_type": "raw",
   "id": "f119c94d-4a8f-4419-a739-dab0fbd6c347",
   "metadata": {},
   "source": [
    "og_df = og_df.rename({join_col:\"og_cl\"}, axis = 1)"
   ]
  },
  {
   "cell_type": "code",
   "execution_count": 22,
   "id": "eee6f960-15de-4f89-af6f-7cdb355e8ea0",
   "metadata": {},
   "outputs": [],
   "source": [
    "og_anno = og_anno[['barcodes', 'AIFI_L1', 'AIFI_L2', 'AIFI_L3']]"
   ]
  },
  {
   "cell_type": "markdown",
   "id": "f76e8490-0b18-4987-8286-e370448313e2",
   "metadata": {},
   "source": [
    "Join original annotations to new clusters by barcodes"
   ]
  },
  {
   "cell_type": "code",
   "execution_count": 23,
   "id": "489bb81e-1719-48b0-a9b6-baf046ddb34d",
   "metadata": {},
   "outputs": [],
   "source": [
    "new_df = new_obs[['barcodes', join_col]].copy()\n",
    "new_df = new_df.reset_index(drop = True)"
   ]
  },
  {
   "cell_type": "code",
   "execution_count": 24,
   "id": "2a0f2ecf-fe71-415c-b93c-395de5965582",
   "metadata": {},
   "outputs": [],
   "source": [
    "joint_df = new_df.merge(og_anno, how = 'left', on = 'barcodes')"
   ]
  },
  {
   "cell_type": "code",
   "execution_count": 25,
   "id": "55a5e704-3526-4e10-82f9-bd2f4cc8d968",
   "metadata": {},
   "outputs": [
    {
     "data": {
      "text/html": [
       "<div>\n",
       "<style scoped>\n",
       "    .dataframe tbody tr th:only-of-type {\n",
       "        vertical-align: middle;\n",
       "    }\n",
       "\n",
       "    .dataframe tbody tr th {\n",
       "        vertical-align: top;\n",
       "    }\n",
       "\n",
       "    .dataframe thead th {\n",
       "        text-align: right;\n",
       "    }\n",
       "</style>\n",
       "<table border=\"1\" class=\"dataframe\">\n",
       "  <thead>\n",
       "    <tr style=\"text-align: right;\">\n",
       "      <th></th>\n",
       "      <th>barcodes</th>\n",
       "      <th>leiden_resolution_2</th>\n",
       "      <th>AIFI_L1</th>\n",
       "      <th>AIFI_L2</th>\n",
       "      <th>AIFI_L3</th>\n",
       "    </tr>\n",
       "  </thead>\n",
       "  <tbody>\n",
       "    <tr>\n",
       "      <th>0</th>\n",
       "      <td>cf72d2f048b611ea8957bafe6d70929e</td>\n",
       "      <td>3</td>\n",
       "      <td>NK cell</td>\n",
       "      <td>CD56dim NK cell</td>\n",
       "      <td>GZMK+ CD56dim NK cell</td>\n",
       "    </tr>\n",
       "    <tr>\n",
       "      <th>1</th>\n",
       "      <td>cf73d29048b611ea8957bafe6d70929e</td>\n",
       "      <td>13</td>\n",
       "      <td>NK cell</td>\n",
       "      <td>NK+T Doublets</td>\n",
       "      <td>NK+T Doublets</td>\n",
       "    </tr>\n",
       "    <tr>\n",
       "      <th>2</th>\n",
       "      <td>cf73ecda48b611ea8957bafe6d70929e</td>\n",
       "      <td>0</td>\n",
       "      <td>NK cell</td>\n",
       "      <td>CD56dim NK cell</td>\n",
       "      <td>GZMK- CD56dim NK cell</td>\n",
       "    </tr>\n",
       "    <tr>\n",
       "      <th>3</th>\n",
       "      <td>cf7430b448b611ea8957bafe6d70929e</td>\n",
       "      <td>1</td>\n",
       "      <td>NK cell</td>\n",
       "      <td>CD56dim NK cell</td>\n",
       "      <td>GZMK- CD56dim NK cell</td>\n",
       "    </tr>\n",
       "    <tr>\n",
       "      <th>4</th>\n",
       "      <td>cf754e0448b611ea8957bafe6d70929e</td>\n",
       "      <td>18</td>\n",
       "      <td>NK cell</td>\n",
       "      <td>CD56dim NK cell</td>\n",
       "      <td>GZMK- CD56dim NK cell</td>\n",
       "    </tr>\n",
       "  </tbody>\n",
       "</table>\n",
       "</div>"
      ],
      "text/plain": [
       "                           barcodes leiden_resolution_2  AIFI_L1  \\\n",
       "0  cf72d2f048b611ea8957bafe6d70929e                   3  NK cell   \n",
       "1  cf73d29048b611ea8957bafe6d70929e                  13  NK cell   \n",
       "2  cf73ecda48b611ea8957bafe6d70929e                   0  NK cell   \n",
       "3  cf7430b448b611ea8957bafe6d70929e                   1  NK cell   \n",
       "4  cf754e0448b611ea8957bafe6d70929e                  18  NK cell   \n",
       "\n",
       "           AIFI_L2                AIFI_L3  \n",
       "0  CD56dim NK cell  GZMK+ CD56dim NK cell  \n",
       "1    NK+T Doublets          NK+T Doublets  \n",
       "2  CD56dim NK cell  GZMK- CD56dim NK cell  \n",
       "3  CD56dim NK cell  GZMK- CD56dim NK cell  \n",
       "4  CD56dim NK cell  GZMK- CD56dim NK cell  "
      ]
     },
     "execution_count": 25,
     "metadata": {},
     "output_type": "execute_result"
    }
   ],
   "source": [
    "joint_df.head()"
   ]
  },
  {
   "cell_type": "code",
   "execution_count": 27,
   "id": "e0db9134-edfc-427c-9033-904cf3770a2c",
   "metadata": {},
   "outputs": [],
   "source": [
    "freq_anno = joint_df.drop(['barcodes'], axis = 1)"
   ]
  },
  {
   "cell_type": "markdown",
   "id": "88e0e807-a5e5-4f08-a5e7-ce22cf4802f5",
   "metadata": {},
   "source": [
    "Use `pd.Series.mode` on each group of leiden_resolution_1.5 cells to get the most frequent value of AIFI_L3"
   ]
  },
  {
   "cell_type": "code",
   "execution_count": 28,
   "id": "c4a62355-5c10-4eed-a710-9538fd63d1c9",
   "metadata": {},
   "outputs": [
    {
     "name": "stderr",
     "output_type": "stream",
     "text": [
      "/tmp/ipykernel_564/3397061766.py:3: FutureWarning: The default of observed=False is deprecated and will be changed to True in a future version of pandas. Pass observed=False to retain current behavior or observed=True to adopt the future default and silence this warning.\n",
      "  .groupby(join_col)['AIFI_L3']\n"
     ]
    }
   ],
   "source": [
    "freq_anno = (\n",
    "    freq_anno\n",
    "    .groupby(join_col)['AIFI_L3']\n",
    "    .agg(pd.Series.mode)\n",
    "    .to_frame()\n",
    "    .reset_index()\n",
    ")"
   ]
  },
  {
   "cell_type": "code",
   "execution_count": 29,
   "id": "ba17b46a-8f1b-4bea-81eb-51388cd97aaf",
   "metadata": {},
   "outputs": [
    {
     "data": {
      "text/html": [
       "<div>\n",
       "<style scoped>\n",
       "    .dataframe tbody tr th:only-of-type {\n",
       "        vertical-align: middle;\n",
       "    }\n",
       "\n",
       "    .dataframe tbody tr th {\n",
       "        vertical-align: top;\n",
       "    }\n",
       "\n",
       "    .dataframe thead th {\n",
       "        text-align: right;\n",
       "    }\n",
       "</style>\n",
       "<table border=\"1\" class=\"dataframe\">\n",
       "  <thead>\n",
       "    <tr style=\"text-align: right;\">\n",
       "      <th></th>\n",
       "      <th>leiden_resolution_2</th>\n",
       "      <th>AIFI_L3</th>\n",
       "    </tr>\n",
       "  </thead>\n",
       "  <tbody>\n",
       "    <tr>\n",
       "      <th>0</th>\n",
       "      <td>0</td>\n",
       "      <td>GZMK- CD56dim NK cell</td>\n",
       "    </tr>\n",
       "    <tr>\n",
       "      <th>1</th>\n",
       "      <td>1</td>\n",
       "      <td>GZMK- CD56dim NK cell</td>\n",
       "    </tr>\n",
       "    <tr>\n",
       "      <th>2</th>\n",
       "      <td>2</td>\n",
       "      <td>GZMK- CD56dim NK cell</td>\n",
       "    </tr>\n",
       "    <tr>\n",
       "      <th>3</th>\n",
       "      <td>3</td>\n",
       "      <td>GZMK+ CD56dim NK cell</td>\n",
       "    </tr>\n",
       "    <tr>\n",
       "      <th>4</th>\n",
       "      <td>4</td>\n",
       "      <td>GZMK- CD56dim NK cell</td>\n",
       "    </tr>\n",
       "  </tbody>\n",
       "</table>\n",
       "</div>"
      ],
      "text/plain": [
       "  leiden_resolution_2                AIFI_L3\n",
       "0                   0  GZMK- CD56dim NK cell\n",
       "1                   1  GZMK- CD56dim NK cell\n",
       "2                   2  GZMK- CD56dim NK cell\n",
       "3                   3  GZMK+ CD56dim NK cell\n",
       "4                   4  GZMK- CD56dim NK cell"
      ]
     },
     "execution_count": 29,
     "metadata": {},
     "output_type": "execute_result"
    }
   ],
   "source": [
    "freq_anno.head()"
   ]
  },
  {
   "cell_type": "markdown",
   "id": "eef15237-99ba-4b27-a268-c70ec45bddf3",
   "metadata": {},
   "source": [
    "Select unique associations between L3 labels and the other levels of the hierarchy from the original annotations - should work because these are all subsets of L2 and L1"
   ]
  },
  {
   "cell_type": "code",
   "execution_count": 31,
   "id": "bed11b9d-1d71-419e-ad92-29ea0915cb20",
   "metadata": {},
   "outputs": [],
   "source": [
    "anno_levels = (\n",
    "    og_anno\n",
    "    .drop('barcodes', axis = 1)\n",
    "    .drop_duplicates()\n",
    ")"
   ]
  },
  {
   "cell_type": "code",
   "execution_count": 34,
   "id": "2b6beda0-45d6-4f06-bf9f-2d06e543e89a",
   "metadata": {},
   "outputs": [
    {
     "data": {
      "text/html": [
       "<div>\n",
       "<style scoped>\n",
       "    .dataframe tbody tr th:only-of-type {\n",
       "        vertical-align: middle;\n",
       "    }\n",
       "\n",
       "    .dataframe tbody tr th {\n",
       "        vertical-align: top;\n",
       "    }\n",
       "\n",
       "    .dataframe thead th {\n",
       "        text-align: right;\n",
       "    }\n",
       "</style>\n",
       "<table border=\"1\" class=\"dataframe\">\n",
       "  <thead>\n",
       "    <tr style=\"text-align: right;\">\n",
       "      <th></th>\n",
       "      <th>AIFI_L1</th>\n",
       "      <th>AIFI_L2</th>\n",
       "      <th>AIFI_L3</th>\n",
       "    </tr>\n",
       "  </thead>\n",
       "  <tbody>\n",
       "    <tr>\n",
       "      <th>0</th>\n",
       "      <td>NK cell</td>\n",
       "      <td>CD56dim NK cell</td>\n",
       "      <td>GZMK+ CD56dim NK cell</td>\n",
       "    </tr>\n",
       "    <tr>\n",
       "      <th>1</th>\n",
       "      <td>NK cell</td>\n",
       "      <td>NK+T Doublets</td>\n",
       "      <td>NK+T Doublets</td>\n",
       "    </tr>\n",
       "    <tr>\n",
       "      <th>2</th>\n",
       "      <td>NK cell</td>\n",
       "      <td>CD56dim NK cell</td>\n",
       "      <td>GZMK- CD56dim NK cell</td>\n",
       "    </tr>\n",
       "    <tr>\n",
       "      <th>5</th>\n",
       "      <td>NK cell</td>\n",
       "      <td>CD56dim NK cell</td>\n",
       "      <td>Adaptive NK cell</td>\n",
       "    </tr>\n",
       "    <tr>\n",
       "      <th>9</th>\n",
       "      <td>NK cell</td>\n",
       "      <td>CD56bright NK cell</td>\n",
       "      <td>CD56bright NK cell</td>\n",
       "    </tr>\n",
       "    <tr>\n",
       "      <th>11</th>\n",
       "      <td>NK cell</td>\n",
       "      <td>CD56dim NK cell</td>\n",
       "      <td>ISG+ CD56dim NK cell</td>\n",
       "    </tr>\n",
       "    <tr>\n",
       "      <th>33</th>\n",
       "      <td>NK cell</td>\n",
       "      <td>Proliferating NK cell</td>\n",
       "      <td>Proliferating NK cell</td>\n",
       "    </tr>\n",
       "    <tr>\n",
       "      <th>51</th>\n",
       "      <td>NK cell</td>\n",
       "      <td>CD56dim NK cell</td>\n",
       "      <td>CD56dim Mito+ NK</td>\n",
       "    </tr>\n",
       "    <tr>\n",
       "      <th>140</th>\n",
       "      <td>NK cell</td>\n",
       "      <td>NK+Platelet Doublet</td>\n",
       "      <td>NK+Platelet Doublet</td>\n",
       "    </tr>\n",
       "    <tr>\n",
       "      <th>157</th>\n",
       "      <td>ILC</td>\n",
       "      <td>ILC</td>\n",
       "      <td>ILC</td>\n",
       "    </tr>\n",
       "    <tr>\n",
       "      <th>240</th>\n",
       "      <td>NK cell</td>\n",
       "      <td>NK+Erythocytes Doublet</td>\n",
       "      <td>NK+Erythocytes Doublet</td>\n",
       "    </tr>\n",
       "  </tbody>\n",
       "</table>\n",
       "</div>"
      ],
      "text/plain": [
       "     AIFI_L1                 AIFI_L2                 AIFI_L3\n",
       "0    NK cell         CD56dim NK cell   GZMK+ CD56dim NK cell\n",
       "1    NK cell           NK+T Doublets           NK+T Doublets\n",
       "2    NK cell         CD56dim NK cell   GZMK- CD56dim NK cell\n",
       "5    NK cell         CD56dim NK cell        Adaptive NK cell\n",
       "9    NK cell      CD56bright NK cell      CD56bright NK cell\n",
       "11   NK cell         CD56dim NK cell    ISG+ CD56dim NK cell\n",
       "33   NK cell   Proliferating NK cell   Proliferating NK cell\n",
       "51   NK cell         CD56dim NK cell        CD56dim Mito+ NK\n",
       "140  NK cell     NK+Platelet Doublet     NK+Platelet Doublet\n",
       "157      ILC                     ILC                     ILC\n",
       "240  NK cell  NK+Erythocytes Doublet  NK+Erythocytes Doublet"
      ]
     },
     "execution_count": 34,
     "metadata": {},
     "output_type": "execute_result"
    }
   ],
   "source": [
    "anno_levels"
   ]
  },
  {
   "cell_type": "markdown",
   "id": "253ae7dd-5b9c-4b44-a616-904f70987abc",
   "metadata": {},
   "source": [
    "Join the other labels to our new annotations"
   ]
  },
  {
   "cell_type": "code",
   "execution_count": 32,
   "id": "148f74f4-3eef-49bd-8302-56e43759b183",
   "metadata": {},
   "outputs": [],
   "source": [
    "new_anno = freq_anno.merge(anno_levels, how = 'left', on = 'AIFI_L3')"
   ]
  },
  {
   "cell_type": "code",
   "execution_count": 33,
   "id": "9e67d0e3-2801-4745-adeb-a19ce6dc48e0",
   "metadata": {},
   "outputs": [
    {
     "data": {
      "text/html": [
       "<div>\n",
       "<style scoped>\n",
       "    .dataframe tbody tr th:only-of-type {\n",
       "        vertical-align: middle;\n",
       "    }\n",
       "\n",
       "    .dataframe tbody tr th {\n",
       "        vertical-align: top;\n",
       "    }\n",
       "\n",
       "    .dataframe thead th {\n",
       "        text-align: right;\n",
       "    }\n",
       "</style>\n",
       "<table border=\"1\" class=\"dataframe\">\n",
       "  <thead>\n",
       "    <tr style=\"text-align: right;\">\n",
       "      <th></th>\n",
       "      <th>leiden_resolution_2</th>\n",
       "      <th>AIFI_L3</th>\n",
       "      <th>AIFI_L1</th>\n",
       "      <th>AIFI_L2</th>\n",
       "    </tr>\n",
       "  </thead>\n",
       "  <tbody>\n",
       "    <tr>\n",
       "      <th>0</th>\n",
       "      <td>0</td>\n",
       "      <td>GZMK- CD56dim NK cell</td>\n",
       "      <td>NK cell</td>\n",
       "      <td>CD56dim NK cell</td>\n",
       "    </tr>\n",
       "    <tr>\n",
       "      <th>1</th>\n",
       "      <td>1</td>\n",
       "      <td>GZMK- CD56dim NK cell</td>\n",
       "      <td>NK cell</td>\n",
       "      <td>CD56dim NK cell</td>\n",
       "    </tr>\n",
       "    <tr>\n",
       "      <th>2</th>\n",
       "      <td>2</td>\n",
       "      <td>GZMK- CD56dim NK cell</td>\n",
       "      <td>NK cell</td>\n",
       "      <td>CD56dim NK cell</td>\n",
       "    </tr>\n",
       "    <tr>\n",
       "      <th>3</th>\n",
       "      <td>3</td>\n",
       "      <td>GZMK+ CD56dim NK cell</td>\n",
       "      <td>NK cell</td>\n",
       "      <td>CD56dim NK cell</td>\n",
       "    </tr>\n",
       "    <tr>\n",
       "      <th>4</th>\n",
       "      <td>4</td>\n",
       "      <td>GZMK- CD56dim NK cell</td>\n",
       "      <td>NK cell</td>\n",
       "      <td>CD56dim NK cell</td>\n",
       "    </tr>\n",
       "    <tr>\n",
       "      <th>5</th>\n",
       "      <td>5</td>\n",
       "      <td>CD56bright NK cell</td>\n",
       "      <td>NK cell</td>\n",
       "      <td>CD56bright NK cell</td>\n",
       "    </tr>\n",
       "    <tr>\n",
       "      <th>6</th>\n",
       "      <td>6</td>\n",
       "      <td>Adaptive NK cell</td>\n",
       "      <td>NK cell</td>\n",
       "      <td>CD56dim NK cell</td>\n",
       "    </tr>\n",
       "    <tr>\n",
       "      <th>7</th>\n",
       "      <td>7</td>\n",
       "      <td>GZMK- CD56dim NK cell</td>\n",
       "      <td>NK cell</td>\n",
       "      <td>CD56dim NK cell</td>\n",
       "    </tr>\n",
       "    <tr>\n",
       "      <th>8</th>\n",
       "      <td>8</td>\n",
       "      <td>GZMK- CD56dim NK cell</td>\n",
       "      <td>NK cell</td>\n",
       "      <td>CD56dim NK cell</td>\n",
       "    </tr>\n",
       "    <tr>\n",
       "      <th>9</th>\n",
       "      <td>9</td>\n",
       "      <td>GZMK- CD56dim NK cell</td>\n",
       "      <td>NK cell</td>\n",
       "      <td>CD56dim NK cell</td>\n",
       "    </tr>\n",
       "    <tr>\n",
       "      <th>10</th>\n",
       "      <td>10</td>\n",
       "      <td>GZMK- CD56dim NK cell</td>\n",
       "      <td>NK cell</td>\n",
       "      <td>CD56dim NK cell</td>\n",
       "    </tr>\n",
       "    <tr>\n",
       "      <th>11</th>\n",
       "      <td>11</td>\n",
       "      <td>GZMK- CD56dim NK cell</td>\n",
       "      <td>NK cell</td>\n",
       "      <td>CD56dim NK cell</td>\n",
       "    </tr>\n",
       "    <tr>\n",
       "      <th>12</th>\n",
       "      <td>12</td>\n",
       "      <td>GZMK- CD56dim NK cell</td>\n",
       "      <td>NK cell</td>\n",
       "      <td>CD56dim NK cell</td>\n",
       "    </tr>\n",
       "    <tr>\n",
       "      <th>13</th>\n",
       "      <td>13</td>\n",
       "      <td>NK+T Doublets</td>\n",
       "      <td>NK cell</td>\n",
       "      <td>NK+T Doublets</td>\n",
       "    </tr>\n",
       "    <tr>\n",
       "      <th>14</th>\n",
       "      <td>14</td>\n",
       "      <td>NK+Erythocytes Doublet</td>\n",
       "      <td>NK cell</td>\n",
       "      <td>NK+Erythocytes Doublet</td>\n",
       "    </tr>\n",
       "    <tr>\n",
       "      <th>15</th>\n",
       "      <td>15</td>\n",
       "      <td>GZMK- CD56dim NK cell</td>\n",
       "      <td>NK cell</td>\n",
       "      <td>CD56dim NK cell</td>\n",
       "    </tr>\n",
       "    <tr>\n",
       "      <th>16</th>\n",
       "      <td>16</td>\n",
       "      <td>NK+Platelet Doublet</td>\n",
       "      <td>NK cell</td>\n",
       "      <td>NK+Platelet Doublet</td>\n",
       "    </tr>\n",
       "    <tr>\n",
       "      <th>17</th>\n",
       "      <td>17</td>\n",
       "      <td>ISG+ CD56dim NK cell</td>\n",
       "      <td>NK cell</td>\n",
       "      <td>CD56dim NK cell</td>\n",
       "    </tr>\n",
       "    <tr>\n",
       "      <th>18</th>\n",
       "      <td>18</td>\n",
       "      <td>GZMK- CD56dim NK cell</td>\n",
       "      <td>NK cell</td>\n",
       "      <td>CD56dim NK cell</td>\n",
       "    </tr>\n",
       "    <tr>\n",
       "      <th>19</th>\n",
       "      <td>19</td>\n",
       "      <td>Proliferating NK cell</td>\n",
       "      <td>NK cell</td>\n",
       "      <td>Proliferating NK cell</td>\n",
       "    </tr>\n",
       "    <tr>\n",
       "      <th>20</th>\n",
       "      <td>20</td>\n",
       "      <td>ILC</td>\n",
       "      <td>ILC</td>\n",
       "      <td>ILC</td>\n",
       "    </tr>\n",
       "    <tr>\n",
       "      <th>21</th>\n",
       "      <td>21</td>\n",
       "      <td>GZMK- CD56dim NK cell</td>\n",
       "      <td>NK cell</td>\n",
       "      <td>CD56dim NK cell</td>\n",
       "    </tr>\n",
       "  </tbody>\n",
       "</table>\n",
       "</div>"
      ],
      "text/plain": [
       "   leiden_resolution_2                 AIFI_L3  AIFI_L1  \\\n",
       "0                    0   GZMK- CD56dim NK cell  NK cell   \n",
       "1                    1   GZMK- CD56dim NK cell  NK cell   \n",
       "2                    2   GZMK- CD56dim NK cell  NK cell   \n",
       "3                    3   GZMK+ CD56dim NK cell  NK cell   \n",
       "4                    4   GZMK- CD56dim NK cell  NK cell   \n",
       "5                    5      CD56bright NK cell  NK cell   \n",
       "6                    6        Adaptive NK cell  NK cell   \n",
       "7                    7   GZMK- CD56dim NK cell  NK cell   \n",
       "8                    8   GZMK- CD56dim NK cell  NK cell   \n",
       "9                    9   GZMK- CD56dim NK cell  NK cell   \n",
       "10                  10   GZMK- CD56dim NK cell  NK cell   \n",
       "11                  11   GZMK- CD56dim NK cell  NK cell   \n",
       "12                  12   GZMK- CD56dim NK cell  NK cell   \n",
       "13                  13           NK+T Doublets  NK cell   \n",
       "14                  14  NK+Erythocytes Doublet  NK cell   \n",
       "15                  15   GZMK- CD56dim NK cell  NK cell   \n",
       "16                  16     NK+Platelet Doublet  NK cell   \n",
       "17                  17    ISG+ CD56dim NK cell  NK cell   \n",
       "18                  18   GZMK- CD56dim NK cell  NK cell   \n",
       "19                  19   Proliferating NK cell  NK cell   \n",
       "20                  20                     ILC      ILC   \n",
       "21                  21   GZMK- CD56dim NK cell  NK cell   \n",
       "\n",
       "                   AIFI_L2  \n",
       "0          CD56dim NK cell  \n",
       "1          CD56dim NK cell  \n",
       "2          CD56dim NK cell  \n",
       "3          CD56dim NK cell  \n",
       "4          CD56dim NK cell  \n",
       "5       CD56bright NK cell  \n",
       "6          CD56dim NK cell  \n",
       "7          CD56dim NK cell  \n",
       "8          CD56dim NK cell  \n",
       "9          CD56dim NK cell  \n",
       "10         CD56dim NK cell  \n",
       "11         CD56dim NK cell  \n",
       "12         CD56dim NK cell  \n",
       "13           NK+T Doublets  \n",
       "14  NK+Erythocytes Doublet  \n",
       "15         CD56dim NK cell  \n",
       "16     NK+Platelet Doublet  \n",
       "17         CD56dim NK cell  \n",
       "18         CD56dim NK cell  \n",
       "19   Proliferating NK cell  \n",
       "20                     ILC  \n",
       "21         CD56dim NK cell  "
      ]
     },
     "execution_count": 33,
     "metadata": {},
     "output_type": "execute_result"
    }
   ],
   "source": [
    "new_anno"
   ]
  },
  {
   "cell_type": "code",
   "execution_count": null,
   "id": "804b4384-93de-4e0a-ad93-2ad1ea2e785b",
   "metadata": {},
   "outputs": [],
   "source": [
    "out_dir = '../04-Annotation/annotations/'\n",
    "out_file = '{p}/pbmc_ref_{c}_annotations_{d}.csv'.format(\n",
    "    p = out_dir,\n",
    "    c = cell_class,\n",
    "    d = date.today()\n",
    ")\n",
    "new_anno.to_csv(out_file)"
   ]
  },
  {
   "cell_type": "markdown",
   "id": "e6c6acf2-2484-42de-80d8-7bb15d13b281",
   "metadata": {},
   "source": [
    "New type counts"
   ]
  },
  {
   "cell_type": "code",
   "execution_count": null,
   "id": "6932455b-5b70-4072-a22a-2663fbf36262",
   "metadata": {},
   "outputs": [],
   "source": [
    "new_counts = joint_df['AIFI_L3'].value_counts()\n",
    "new_counts"
   ]
  },
  {
   "cell_type": "markdown",
   "id": "76b45924-fb34-44aa-a4ae-2c5656eb56d4",
   "metadata": {},
   "source": [
    "Original type counts"
   ]
  },
  {
   "cell_type": "code",
   "execution_count": null,
   "id": "fb6f2b1b-0388-4927-9191-b68a768a7a39",
   "metadata": {},
   "outputs": [],
   "source": [
    "old_counts = og_df['AIFI_L3'].value_counts()\n",
    "old_counts"
   ]
  },
  {
   "cell_type": "markdown",
   "id": "b6303904-f4bb-44f9-9031-11662ee3e781",
   "metadata": {},
   "source": [
    "Difference in counts"
   ]
  },
  {
   "cell_type": "code",
   "execution_count": null,
   "id": "50f9163a-a18e-4feb-8ea5-662b28ee13d1",
   "metadata": {},
   "outputs": [],
   "source": [
    "new_counts - old_counts"
   ]
  },
  {
   "cell_type": "markdown",
   "id": "0206e070-47f6-4c26-b62e-d4354ec99f13",
   "metadata": {},
   "source": [
    "Percent difference"
   ]
  },
  {
   "cell_type": "code",
   "execution_count": null,
   "id": "8abf710f-2745-4e80-a05b-fb55a863152a",
   "metadata": {},
   "outputs": [],
   "source": [
    "(new_counts - old_counts) / old_counts * 100"
   ]
  },
  {
   "cell_type": "code",
   "execution_count": null,
   "id": "616eb351-fb1b-4247-a13b-6a00aed0962c",
   "metadata": {},
   "outputs": [],
   "source": [
    "import session_info\n",
    "session_info.show()"
   ]
  },
  {
   "cell_type": "code",
   "execution_count": null,
   "id": "b46990e9-a09e-41c5-af1a-007b61e74911",
   "metadata": {},
   "outputs": [],
   "source": []
  }
 ],
 "metadata": {
  "kernelspec": {
   "display_name": "Python 3 (ipykernel)",
   "language": "python",
   "name": "python3"
  },
  "language_info": {
   "codemirror_mode": {
    "name": "ipython",
    "version": 3
   },
   "file_extension": ".py",
   "mimetype": "text/x-python",
   "name": "python",
   "nbconvert_exporter": "python",
   "pygments_lexer": "ipython3",
   "version": "3.10.13"
  }
 },
 "nbformat": 4,
 "nbformat_minor": 5
}
