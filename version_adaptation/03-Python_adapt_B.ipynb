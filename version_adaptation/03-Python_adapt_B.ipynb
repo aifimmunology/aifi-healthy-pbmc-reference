{
 "cells": [
  {
   "cell_type": "markdown",
   "id": "86ab7f3a-fd12-424c-a58f-1d87c36cb372",
   "metadata": {},
   "source": [
    "## Adapt B cell annotations\n",
    "\n",
    "With slightly different clustering, we need to shift the original expert cluster annotations to new cluster numbers.\n",
    "\n",
    "We can do this using the barcodes associated with each cluster."
   ]
  },
  {
   "cell_type": "code",
   "execution_count": 1,
   "id": "6250fc1f-40db-4d9e-a430-83605efb7e12",
   "metadata": {},
   "outputs": [],
   "source": [
    "from datetime import date\n",
    "import hisepy\n",
    "import os\n",
    "import pandas as pd\n",
    "import scanpy as sc"
   ]
  },
  {
   "cell_type": "code",
   "execution_count": 2,
   "id": "f5b68317-a173-49e7-80b0-d2fa02345113",
   "metadata": {},
   "outputs": [],
   "source": [
    "def read_parquet_uuid(parquet_uuid):\n",
    "    pq_path = '/home/jupyter/cache/{u}'.format(u = parquet_uuid)\n",
    "    if not os.path.isdir(pq_path):\n",
    "        hise_res = hisepy.reader.cache_files([parquet_uuid])\n",
    "    pq_filename = os.listdir(pq_path)[0]\n",
    "    pq_file = '{p}/{f}'.format(p = pq_path, f = pq_filename)\n",
    "    df = pd.read_parquet(pq_file)\n",
    "    return df"
   ]
  },
  {
   "cell_type": "code",
   "execution_count": 3,
   "id": "d14dffd0-8d9e-464f-ae2f-93f519195443",
   "metadata": {},
   "outputs": [],
   "source": [
    "def join_anno(og_obs, new_obs, new_col):\n",
    "    new_df = new_obs[['barcodes', new_col]].copy()\n",
    "    new_df = new_df.reset_index(drop = True)\n",
    "    joint_df = new_df.merge(og_obs, how = 'left', on = 'barcodes')\n",
    "\n",
    "    return joint_df"
   ]
  },
  {
   "cell_type": "code",
   "execution_count": 4,
   "id": "f8b91816-c5b4-4403-a4c9-85278e64e634",
   "metadata": {},
   "outputs": [],
   "source": [
    "def reduce_anno(joint_df, og_anno, new_col):    \n",
    "    freq_anno = joint_df.drop('barcodes', axis = 1)\n",
    "    \n",
    "    freq_anno = (\n",
    "        freq_anno\n",
    "        .groupby(new_col)['AIFI_L3']\n",
    "        .agg(pd.Series.mode)\n",
    "        .to_frame()\n",
    "        .reset_index()\n",
    "    )\n",
    "\n",
    "    new_anno = freq_anno.merge(og_anno, how = 'left', on = 'AIFI_L3')\n",
    "\n",
    "    return(new_anno)"
   ]
  },
  {
   "cell_type": "markdown",
   "id": "18ca2589-fff6-4e89-b7e6-67e9aabe65d3",
   "metadata": {},
   "source": [
    "## Read Original subclustering results from HISE"
   ]
  },
  {
   "cell_type": "code",
   "execution_count": 5,
   "id": "1af1d3b5-f9ea-4e24-9e35-ebd18ed3e4e5",
   "metadata": {},
   "outputs": [],
   "source": [
    "og_pq_uuid = 'd4d2c0f6-7d39-4461-8bc6-aa0fbb5028ce'"
   ]
  },
  {
   "cell_type": "code",
   "execution_count": 6,
   "id": "53415586-2141-4288-8d7c-4c5b4b35c708",
   "metadata": {
    "tags": []
   },
   "outputs": [],
   "source": [
    "og_obs = read_parquet_uuid(og_pq_uuid)"
   ]
  },
  {
   "cell_type": "code",
   "execution_count": 7,
   "id": "08ec9f6a-9974-41c2-8243-6a92c0fc699f",
   "metadata": {
    "scrolled": true
   },
   "outputs": [],
   "source": [
    "og_obs = og_obs[['barcodes',\n",
    "                 'AIFI_L1',\n",
    "                 'AIFI_L2',\n",
    "                 'AIFI_L3']]\n",
    "og_obs = og_obs.reset_index(drop = True)"
   ]
  },
  {
   "cell_type": "code",
   "execution_count": 8,
   "id": "bf551b96-d4db-4755-90bd-d5b5cab024bc",
   "metadata": {},
   "outputs": [
    {
     "data": {
      "text/plain": [
       "(178198, 4)"
      ]
     },
     "execution_count": 8,
     "metadata": {},
     "output_type": "execute_result"
    }
   ],
   "source": [
    "og_obs.shape"
   ]
  },
  {
   "cell_type": "code",
   "execution_count": 9,
   "id": "b45eff78-dca1-4ae1-8240-bd1a95781e62",
   "metadata": {},
   "outputs": [],
   "source": [
    "og_anno = og_obs.drop('barcodes', axis = 1).drop_duplicates()"
   ]
  },
  {
   "cell_type": "code",
   "execution_count": 10,
   "id": "5a8b6d0d-e390-4901-8ea0-0f79f50e3fa4",
   "metadata": {},
   "outputs": [],
   "source": [
    "joint_df_list = []"
   ]
  },
  {
   "cell_type": "markdown",
   "id": "2596abbd-c027-498e-ab38-8eaecc4532e1",
   "metadata": {},
   "source": [
    "## Read Memory B subclustering results from HISE"
   ]
  },
  {
   "cell_type": "code",
   "execution_count": 11,
   "id": "f0ebc890-15f0-46b4-bce7-e8cad75c8854",
   "metadata": {},
   "outputs": [],
   "source": [
    "cell_class = 'b-cells-mem-no-ig'"
   ]
  },
  {
   "cell_type": "code",
   "execution_count": 12,
   "id": "9c77be95-10ad-42e5-8803-518333576ee9",
   "metadata": {},
   "outputs": [],
   "source": [
    "mem_uuid = 'ec5c5e78-65cf-4928-9e4e-d5cd20e163cc'\n",
    "mem_obs = read_parquet_uuid(mem_uuid)"
   ]
  },
  {
   "cell_type": "code",
   "execution_count": 13,
   "id": "219e9c33-ea16-45ff-b326-24916476c308",
   "metadata": {},
   "outputs": [
    {
     "data": {
      "text/plain": [
       "(47886, 57)"
      ]
     },
     "execution_count": 13,
     "metadata": {},
     "output_type": "execute_result"
    }
   ],
   "source": [
    "mem_obs.shape"
   ]
  },
  {
   "cell_type": "code",
   "execution_count": 14,
   "id": "0b5f7361-a9c4-406c-8dbb-886aee5b9364",
   "metadata": {},
   "outputs": [],
   "source": [
    "mem_col = 'ms_leiden_2.5'"
   ]
  },
  {
   "cell_type": "markdown",
   "id": "d1eac053-1d83-4a7f-b9e8-a50b9733ffcf",
   "metadata": {},
   "source": [
    "Join and assign to new clusters"
   ]
  },
  {
   "cell_type": "code",
   "execution_count": 15,
   "id": "582321d3-c6cf-4d37-a6d6-d9a6ec170d97",
   "metadata": {
    "scrolled": true
   },
   "outputs": [],
   "source": [
    "mem_df = join_anno(og_obs, mem_obs, mem_col)"
   ]
  },
  {
   "cell_type": "code",
   "execution_count": 16,
   "id": "fe95eaa9-46d6-438a-85f2-39056c91dba0",
   "metadata": {},
   "outputs": [
    {
     "data": {
      "text/plain": [
       "5"
      ]
     },
     "execution_count": 16,
     "metadata": {},
     "output_type": "execute_result"
    }
   ],
   "source": [
    "mem_df['AIFI_L3'].isna().sum()"
   ]
  },
  {
   "cell_type": "code",
   "execution_count": 17,
   "id": "f21d9d24-2eb8-4cd9-894f-7f4ec843a540",
   "metadata": {},
   "outputs": [
    {
     "data": {
      "text/html": [
       "<div>\n",
       "<style scoped>\n",
       "    .dataframe tbody tr th:only-of-type {\n",
       "        vertical-align: middle;\n",
       "    }\n",
       "\n",
       "    .dataframe tbody tr th {\n",
       "        vertical-align: top;\n",
       "    }\n",
       "\n",
       "    .dataframe thead th {\n",
       "        text-align: right;\n",
       "    }\n",
       "</style>\n",
       "<table border=\"1\" class=\"dataframe\">\n",
       "  <thead>\n",
       "    <tr style=\"text-align: right;\">\n",
       "      <th></th>\n",
       "      <th>barcodes</th>\n",
       "      <th>ms_leiden_2.5</th>\n",
       "      <th>AIFI_L1</th>\n",
       "      <th>AIFI_L2</th>\n",
       "      <th>AIFI_L3</th>\n",
       "    </tr>\n",
       "  </thead>\n",
       "  <tbody>\n",
       "    <tr>\n",
       "      <th>0</th>\n",
       "      <td>cf720af048b611ea8957bafe6d70929e</td>\n",
       "      <td>8</td>\n",
       "      <td>B cell</td>\n",
       "      <td>Memory B cell</td>\n",
       "      <td>Core memory B cell</td>\n",
       "    </tr>\n",
       "    <tr>\n",
       "      <th>1</th>\n",
       "      <td>cf78473048b611ea8957bafe6d70929e</td>\n",
       "      <td>5</td>\n",
       "      <td>B cell</td>\n",
       "      <td>Memory B cell</td>\n",
       "      <td>Core memory B cell</td>\n",
       "    </tr>\n",
       "    <tr>\n",
       "      <th>2</th>\n",
       "      <td>cf79279a48b611ea8957bafe6d70929e</td>\n",
       "      <td>8</td>\n",
       "      <td>B cell</td>\n",
       "      <td>Memory B cell</td>\n",
       "      <td>Core memory B cell</td>\n",
       "    </tr>\n",
       "    <tr>\n",
       "      <th>3</th>\n",
       "      <td>cf80e44e48b611ea8957bafe6d70929e</td>\n",
       "      <td>8</td>\n",
       "      <td>B cell</td>\n",
       "      <td>Memory B cell</td>\n",
       "      <td>Core memory B cell</td>\n",
       "    </tr>\n",
       "    <tr>\n",
       "      <th>4</th>\n",
       "      <td>cf81a58c48b611ea8957bafe6d70929e</td>\n",
       "      <td>9</td>\n",
       "      <td>B cell</td>\n",
       "      <td>Memory B cell</td>\n",
       "      <td>Early memory B cell</td>\n",
       "    </tr>\n",
       "  </tbody>\n",
       "</table>\n",
       "</div>"
      ],
      "text/plain": [
       "                           barcodes ms_leiden_2.5  AIFI_L1        AIFI_L2  \\\n",
       "0  cf720af048b611ea8957bafe6d70929e             8  B cell   Memory B cell   \n",
       "1  cf78473048b611ea8957bafe6d70929e             5  B cell   Memory B cell   \n",
       "2  cf79279a48b611ea8957bafe6d70929e             8  B cell   Memory B cell   \n",
       "3  cf80e44e48b611ea8957bafe6d70929e             8  B cell   Memory B cell   \n",
       "4  cf81a58c48b611ea8957bafe6d70929e             9  B cell   Memory B cell   \n",
       "\n",
       "               AIFI_L3  \n",
       "0   Core memory B cell  \n",
       "1   Core memory B cell  \n",
       "2   Core memory B cell  \n",
       "3   Core memory B cell  \n",
       "4  Early memory B cell  "
      ]
     },
     "execution_count": 17,
     "metadata": {},
     "output_type": "execute_result"
    }
   ],
   "source": [
    "mem_df.head()"
   ]
  },
  {
   "cell_type": "code",
   "execution_count": 18,
   "id": "2df7c7a8-7098-4200-9273-f814b2179e38",
   "metadata": {},
   "outputs": [],
   "source": [
    "joint_df_list.append(mem_df.drop(mem_col, axis = 1))"
   ]
  },
  {
   "cell_type": "raw",
   "id": "540bc100-0e1e-4f29-8646-5ef4f5132a76",
   "metadata": {},
   "source": [
    "joint_df['AIFI_L1'] = joint_df['AIFI_L1'].cat.add_categories(['Doublet/Contamination'])\n",
    "joint_df['AIFI_L2'] = joint_df['AIFI_L2'].cat.add_categories(['Doublet/Contamination'])\n",
    "joint_df['AIFI_L3'] = joint_df['AIFI_L3'].cat.add_categories(['Doublet/Contamination'])"
   ]
  },
  {
   "cell_type": "raw",
   "id": "2c97910a-b0e6-4887-9b3b-71d80ca3174d",
   "metadata": {},
   "source": [
    "joint_df['AIFI_L1'] = joint_df['AIFI_L1'].fillna('Doublet/Contamination')\n",
    "joint_df['AIFI_L2'] = joint_df['AIFI_L2'].fillna('Doublet/Contamination')\n",
    "joint_df['AIFI_L3'] = joint_df['AIFI_L3'].fillna('Doublet/Contamination')"
   ]
  },
  {
   "cell_type": "code",
   "execution_count": 19,
   "id": "c27dd1c2-a602-4d19-8d2f-8e20f088188f",
   "metadata": {},
   "outputs": [
    {
     "name": "stderr",
     "output_type": "stream",
     "text": [
      "/tmp/ipykernel_2746/460635200.py:6: FutureWarning: The default of observed=False is deprecated and will be changed to True in a future version of pandas. Pass observed=False to retain current behavior or observed=True to adopt the future default and silence this warning.\n",
      "  .groupby(new_col)['AIFI_L3']\n"
     ]
    }
   ],
   "source": [
    "mem_label_df = reduce_anno(mem_df, og_anno, mem_col)"
   ]
  },
  {
   "cell_type": "code",
   "execution_count": 20,
   "id": "2e031911-d187-4484-838c-e740a4338468",
   "metadata": {},
   "outputs": [
    {
     "data": {
      "text/html": [
       "<div>\n",
       "<style scoped>\n",
       "    .dataframe tbody tr th:only-of-type {\n",
       "        vertical-align: middle;\n",
       "    }\n",
       "\n",
       "    .dataframe tbody tr th {\n",
       "        vertical-align: top;\n",
       "    }\n",
       "\n",
       "    .dataframe thead th {\n",
       "        text-align: right;\n",
       "    }\n",
       "</style>\n",
       "<table border=\"1\" class=\"dataframe\">\n",
       "  <thead>\n",
       "    <tr style=\"text-align: right;\">\n",
       "      <th></th>\n",
       "      <th>ms_leiden_2.5</th>\n",
       "      <th>AIFI_L3</th>\n",
       "      <th>AIFI_L1</th>\n",
       "      <th>AIFI_L2</th>\n",
       "    </tr>\n",
       "  </thead>\n",
       "  <tbody>\n",
       "    <tr>\n",
       "      <th>0</th>\n",
       "      <td>0</td>\n",
       "      <td>Core memory B cell</td>\n",
       "      <td>B cell</td>\n",
       "      <td>Memory B cell</td>\n",
       "    </tr>\n",
       "    <tr>\n",
       "      <th>1</th>\n",
       "      <td>1</td>\n",
       "      <td>Core memory B cell</td>\n",
       "      <td>B cell</td>\n",
       "      <td>Memory B cell</td>\n",
       "    </tr>\n",
       "    <tr>\n",
       "      <th>2</th>\n",
       "      <td>2</td>\n",
       "      <td>Core memory B cell</td>\n",
       "      <td>B cell</td>\n",
       "      <td>Memory B cell</td>\n",
       "    </tr>\n",
       "    <tr>\n",
       "      <th>3</th>\n",
       "      <td>3</td>\n",
       "      <td>Core memory B cell</td>\n",
       "      <td>B cell</td>\n",
       "      <td>Memory B cell</td>\n",
       "    </tr>\n",
       "    <tr>\n",
       "      <th>4</th>\n",
       "      <td>4</td>\n",
       "      <td>Core memory B cell</td>\n",
       "      <td>B cell</td>\n",
       "      <td>Memory B cell</td>\n",
       "    </tr>\n",
       "    <tr>\n",
       "      <th>5</th>\n",
       "      <td>5</td>\n",
       "      <td>Core memory B cell</td>\n",
       "      <td>B cell</td>\n",
       "      <td>Memory B cell</td>\n",
       "    </tr>\n",
       "    <tr>\n",
       "      <th>6</th>\n",
       "      <td>6</td>\n",
       "      <td>Core memory B cell</td>\n",
       "      <td>B cell</td>\n",
       "      <td>Memory B cell</td>\n",
       "    </tr>\n",
       "    <tr>\n",
       "      <th>7</th>\n",
       "      <td>7</td>\n",
       "      <td>Core memory B cell</td>\n",
       "      <td>B cell</td>\n",
       "      <td>Memory B cell</td>\n",
       "    </tr>\n",
       "    <tr>\n",
       "      <th>8</th>\n",
       "      <td>8</td>\n",
       "      <td>Core memory B cell</td>\n",
       "      <td>B cell</td>\n",
       "      <td>Memory B cell</td>\n",
       "    </tr>\n",
       "    <tr>\n",
       "      <th>9</th>\n",
       "      <td>9</td>\n",
       "      <td>Early memory B cell</td>\n",
       "      <td>B cell</td>\n",
       "      <td>Memory B cell</td>\n",
       "    </tr>\n",
       "    <tr>\n",
       "      <th>10</th>\n",
       "      <td>10</td>\n",
       "      <td>Type 2 polarized memory B cell</td>\n",
       "      <td>B cell</td>\n",
       "      <td>Memory B cell</td>\n",
       "    </tr>\n",
       "    <tr>\n",
       "      <th>11</th>\n",
       "      <td>11</td>\n",
       "      <td>Core memory B cell</td>\n",
       "      <td>B cell</td>\n",
       "      <td>Memory B cell</td>\n",
       "    </tr>\n",
       "    <tr>\n",
       "      <th>12</th>\n",
       "      <td>12</td>\n",
       "      <td>CD95 memory B cell</td>\n",
       "      <td>B cell</td>\n",
       "      <td>Memory B cell</td>\n",
       "    </tr>\n",
       "    <tr>\n",
       "      <th>13</th>\n",
       "      <td>13</td>\n",
       "      <td>Core memory B cell</td>\n",
       "      <td>B cell</td>\n",
       "      <td>Memory B cell</td>\n",
       "    </tr>\n",
       "    <tr>\n",
       "      <th>14</th>\n",
       "      <td>14</td>\n",
       "      <td>Core memory B cell</td>\n",
       "      <td>B cell</td>\n",
       "      <td>Memory B cell</td>\n",
       "    </tr>\n",
       "    <tr>\n",
       "      <th>15</th>\n",
       "      <td>15</td>\n",
       "      <td>Activated memory B cell</td>\n",
       "      <td>B cell</td>\n",
       "      <td>Memory B cell</td>\n",
       "    </tr>\n",
       "    <tr>\n",
       "      <th>16</th>\n",
       "      <td>16</td>\n",
       "      <td>Core memory B cell</td>\n",
       "      <td>B cell</td>\n",
       "      <td>Memory B cell</td>\n",
       "    </tr>\n",
       "  </tbody>\n",
       "</table>\n",
       "</div>"
      ],
      "text/plain": [
       "   ms_leiden_2.5                         AIFI_L3  AIFI_L1        AIFI_L2\n",
       "0              0              Core memory B cell  B cell   Memory B cell\n",
       "1              1              Core memory B cell  B cell   Memory B cell\n",
       "2              2              Core memory B cell  B cell   Memory B cell\n",
       "3              3              Core memory B cell  B cell   Memory B cell\n",
       "4              4              Core memory B cell  B cell   Memory B cell\n",
       "5              5              Core memory B cell  B cell   Memory B cell\n",
       "6              6              Core memory B cell  B cell   Memory B cell\n",
       "7              7              Core memory B cell  B cell   Memory B cell\n",
       "8              8              Core memory B cell  B cell   Memory B cell\n",
       "9              9             Early memory B cell  B cell   Memory B cell\n",
       "10            10  Type 2 polarized memory B cell  B cell   Memory B cell\n",
       "11            11              Core memory B cell  B cell   Memory B cell\n",
       "12            12              CD95 memory B cell  B cell   Memory B cell\n",
       "13            13              Core memory B cell  B cell   Memory B cell\n",
       "14            14              Core memory B cell  B cell   Memory B cell\n",
       "15            15         Activated memory B cell  B cell   Memory B cell\n",
       "16            16              Core memory B cell  B cell   Memory B cell"
      ]
     },
     "execution_count": 20,
     "metadata": {},
     "output_type": "execute_result"
    }
   ],
   "source": [
    "mem_label_df"
   ]
  },
  {
   "cell_type": "code",
   "execution_count": 21,
   "id": "22012e59-1da3-4e3f-a843-4f1910815dcd",
   "metadata": {},
   "outputs": [],
   "source": [
    "final_mem = mem_df[['barcodes', mem_col]].merge(mem_label_df, on = mem_col, how = 'left')"
   ]
  },
  {
   "cell_type": "code",
   "execution_count": 22,
   "id": "4c36c23b-c73f-4b4b-b0bb-7843ff6fa8ab",
   "metadata": {},
   "outputs": [],
   "source": [
    "out_dir = '../04-Annotation/annotations/'\n",
    "out_file = '{p}/pbmc_ref_{c}_annotations_{d}.csv'.format(\n",
    "    p = out_dir,\n",
    "    c = cell_class,\n",
    "    d = date.today()\n",
    ")\n",
    "mem_label_df.to_csv(out_file)"
   ]
  },
  {
   "cell_type": "markdown",
   "id": "b2352011-4ff0-40ba-8ac7-3e2c184619f1",
   "metadata": {},
   "source": [
    "## Read Myeloid subclustering results from HISE"
   ]
  },
  {
   "cell_type": "code",
   "execution_count": 23,
   "id": "c34a4cf1-ab31-4be5-a1c3-4ff8e13ff52d",
   "metadata": {},
   "outputs": [],
   "source": [
    "cell_class = 'b-cells-no-ig'"
   ]
  },
  {
   "cell_type": "code",
   "execution_count": 24,
   "id": "2ceb1634-0012-46a9-84c4-94adec2c0db6",
   "metadata": {},
   "outputs": [],
   "source": [
    "new_uuid = '26a27d04-7858-423e-a9aa-bd1f56ca0c12'\n",
    "new_obs = read_parquet_uuid(new_uuid)"
   ]
  },
  {
   "cell_type": "code",
   "execution_count": 25,
   "id": "502a75df-673a-4912-98b5-6222bdd49a39",
   "metadata": {},
   "outputs": [
    {
     "data": {
      "text/plain": [
       "(177994, 56)"
      ]
     },
     "execution_count": 25,
     "metadata": {},
     "output_type": "execute_result"
    }
   ],
   "source": [
    "new_obs.shape"
   ]
  },
  {
   "cell_type": "markdown",
   "id": "70329b5b-cf90-4084-b2dc-2c0b3dc870ea",
   "metadata": {},
   "source": [
    "Drop cells labeled with DCs"
   ]
  },
  {
   "cell_type": "code",
   "execution_count": 26,
   "id": "5d69b55d-5220-4b35-bf2f-1552b2784ba5",
   "metadata": {},
   "outputs": [
    {
     "data": {
      "text/plain": [
       "(130108, 56)"
      ]
     },
     "execution_count": 26,
     "metadata": {},
     "output_type": "execute_result"
    }
   ],
   "source": [
    "keep_obs = [not x for x in new_obs['barcodes'].isin(mem_obs['barcodes']) ]\n",
    "new_obs = new_obs[keep_obs]\n",
    "new_obs.shape"
   ]
  },
  {
   "cell_type": "code",
   "execution_count": 27,
   "id": "fe0d9419-6b49-473e-a6d0-4c7889f90235",
   "metadata": {},
   "outputs": [],
   "source": [
    "new_col = 'ms_leiden_2'"
   ]
  },
  {
   "cell_type": "markdown",
   "id": "7ca2a032-4e63-465c-aa45-a46b684fb760",
   "metadata": {},
   "source": [
    "Join and assign to new clusters"
   ]
  },
  {
   "cell_type": "code",
   "execution_count": 28,
   "id": "5cd79595-c220-42b5-bae4-c6c05b3b7d48",
   "metadata": {
    "scrolled": true
   },
   "outputs": [],
   "source": [
    "joint_df = join_anno(og_obs, new_obs, new_col)"
   ]
  },
  {
   "cell_type": "code",
   "execution_count": 29,
   "id": "33b00d60-fafe-4af2-9033-8b2cb17ed1a1",
   "metadata": {},
   "outputs": [
    {
     "data": {
      "text/plain": [
       "213"
      ]
     },
     "execution_count": 29,
     "metadata": {},
     "output_type": "execute_result"
    }
   ],
   "source": [
    "joint_df['AIFI_L3'].isna().sum()"
   ]
  },
  {
   "cell_type": "code",
   "execution_count": 30,
   "id": "f589fcf9-d556-45fe-a6b4-f0f8c1fffe49",
   "metadata": {},
   "outputs": [],
   "source": [
    "joint_df[new_col] = joint_df[new_col].cat.remove_unused_categories()"
   ]
  },
  {
   "cell_type": "code",
   "execution_count": 31,
   "id": "e625e088-686a-4907-8149-9f0031ec7dea",
   "metadata": {},
   "outputs": [
    {
     "data": {
      "text/html": [
       "<div>\n",
       "<style scoped>\n",
       "    .dataframe tbody tr th:only-of-type {\n",
       "        vertical-align: middle;\n",
       "    }\n",
       "\n",
       "    .dataframe tbody tr th {\n",
       "        vertical-align: top;\n",
       "    }\n",
       "\n",
       "    .dataframe thead th {\n",
       "        text-align: right;\n",
       "    }\n",
       "</style>\n",
       "<table border=\"1\" class=\"dataframe\">\n",
       "  <thead>\n",
       "    <tr style=\"text-align: right;\">\n",
       "      <th></th>\n",
       "      <th>barcodes</th>\n",
       "      <th>ms_leiden_2</th>\n",
       "      <th>AIFI_L1</th>\n",
       "      <th>AIFI_L2</th>\n",
       "      <th>AIFI_L3</th>\n",
       "    </tr>\n",
       "  </thead>\n",
       "  <tbody>\n",
       "    <tr>\n",
       "      <th>0</th>\n",
       "      <td>cf72a14a48b611ea8957bafe6d70929e</td>\n",
       "      <td>21</td>\n",
       "      <td>T_B doublet</td>\n",
       "      <td>T_B doublet</td>\n",
       "      <td>T_B doublet</td>\n",
       "    </tr>\n",
       "    <tr>\n",
       "      <th>1</th>\n",
       "      <td>cf73500e48b611ea8957bafe6d70929e</td>\n",
       "      <td>0</td>\n",
       "      <td>B cell</td>\n",
       "      <td>Naive B cell</td>\n",
       "      <td>Core naive B cell</td>\n",
       "    </tr>\n",
       "    <tr>\n",
       "      <th>2</th>\n",
       "      <td>cf73694a48b611ea8957bafe6d70929e</td>\n",
       "      <td>11</td>\n",
       "      <td>B cell</td>\n",
       "      <td>Effector B cell</td>\n",
       "      <td>CD27+ effector B cell</td>\n",
       "    </tr>\n",
       "    <tr>\n",
       "      <th>3</th>\n",
       "      <td>cf73fbee48b611ea8957bafe6d70929e</td>\n",
       "      <td>1</td>\n",
       "      <td>B cell</td>\n",
       "      <td>Transitional B cell</td>\n",
       "      <td>Transitional B cell</td>\n",
       "    </tr>\n",
       "    <tr>\n",
       "      <th>4</th>\n",
       "      <td>cf74ae2c48b611ea8957bafe6d70929e</td>\n",
       "      <td>0</td>\n",
       "      <td>B cell</td>\n",
       "      <td>Naive B cell</td>\n",
       "      <td>Core naive B cell</td>\n",
       "    </tr>\n",
       "  </tbody>\n",
       "</table>\n",
       "</div>"
      ],
      "text/plain": [
       "                           barcodes ms_leiden_2      AIFI_L1  \\\n",
       "0  cf72a14a48b611ea8957bafe6d70929e          21  T_B doublet   \n",
       "1  cf73500e48b611ea8957bafe6d70929e           0      B cell    \n",
       "2  cf73694a48b611ea8957bafe6d70929e          11      B cell    \n",
       "3  cf73fbee48b611ea8957bafe6d70929e           1      B cell    \n",
       "4  cf74ae2c48b611ea8957bafe6d70929e           0      B cell    \n",
       "\n",
       "               AIFI_L2                AIFI_L3  \n",
       "0          T_B doublet            T_B doublet  \n",
       "1         Naive B cell      Core naive B cell  \n",
       "2      Effector B cell  CD27+ effector B cell  \n",
       "3  Transitional B cell    Transitional B cell  \n",
       "4         Naive B cell      Core naive B cell  "
      ]
     },
     "execution_count": 31,
     "metadata": {},
     "output_type": "execute_result"
    }
   ],
   "source": [
    "joint_df.head()"
   ]
  },
  {
   "cell_type": "code",
   "execution_count": 32,
   "id": "678ccfc0-22c1-4f35-a002-fbfa876899f8",
   "metadata": {},
   "outputs": [],
   "source": [
    "joint_df_list.append(joint_df.drop(new_col, axis = 1))"
   ]
  },
  {
   "cell_type": "raw",
   "id": "8f022943-9199-42d6-968c-7d660c1804c0",
   "metadata": {},
   "source": [
    "joint_df['AIFI_L1'] = joint_df['AIFI_L1'].cat.add_categories(['Doublet/Contamination'])\n",
    "joint_df['AIFI_L2'] = joint_df['AIFI_L2'].cat.add_categories(['Doublet/Contamination'])\n",
    "joint_df['AIFI_L3'] = joint_df['AIFI_L3'].cat.add_categories(['Doublet/Contamination'])"
   ]
  },
  {
   "cell_type": "raw",
   "id": "21ba93f7-8ff1-4546-90c6-b8a69b8940f0",
   "metadata": {},
   "source": [
    "joint_df['AIFI_L1'] = joint_df['AIFI_L1'].fillna('Doublet/Contamination')\n",
    "joint_df['AIFI_L2'] = joint_df['AIFI_L2'].fillna('Doublet/Contamination')\n",
    "joint_df['AIFI_L3'] = joint_df['AIFI_L3'].fillna('Doublet/Contamination')"
   ]
  },
  {
   "cell_type": "code",
   "execution_count": 33,
   "id": "0be64bc7-1e85-45de-9531-8f594503cd3b",
   "metadata": {},
   "outputs": [
    {
     "name": "stderr",
     "output_type": "stream",
     "text": [
      "/tmp/ipykernel_2746/460635200.py:6: FutureWarning: The default of observed=False is deprecated and will be changed to True in a future version of pandas. Pass observed=False to retain current behavior or observed=True to adopt the future default and silence this warning.\n",
      "  .groupby(new_col)['AIFI_L3']\n"
     ]
    }
   ],
   "source": [
    "label_df = reduce_anno(joint_df, og_anno, new_col)"
   ]
  },
  {
   "cell_type": "code",
   "execution_count": 34,
   "id": "5b1a1cf4-0ed3-4a88-b2ad-10c14c3e97ee",
   "metadata": {},
   "outputs": [
    {
     "data": {
      "text/html": [
       "<div>\n",
       "<style scoped>\n",
       "    .dataframe tbody tr th:only-of-type {\n",
       "        vertical-align: middle;\n",
       "    }\n",
       "\n",
       "    .dataframe tbody tr th {\n",
       "        vertical-align: top;\n",
       "    }\n",
       "\n",
       "    .dataframe thead th {\n",
       "        text-align: right;\n",
       "    }\n",
       "</style>\n",
       "<table border=\"1\" class=\"dataframe\">\n",
       "  <thead>\n",
       "    <tr style=\"text-align: right;\">\n",
       "      <th></th>\n",
       "      <th>ms_leiden_2</th>\n",
       "      <th>AIFI_L3</th>\n",
       "      <th>AIFI_L1</th>\n",
       "      <th>AIFI_L2</th>\n",
       "    </tr>\n",
       "  </thead>\n",
       "  <tbody>\n",
       "    <tr>\n",
       "      <th>0</th>\n",
       "      <td>0</td>\n",
       "      <td>Core naive B cell</td>\n",
       "      <td>B cell</td>\n",
       "      <td>Naive B cell</td>\n",
       "    </tr>\n",
       "    <tr>\n",
       "      <th>1</th>\n",
       "      <td>1</td>\n",
       "      <td>Transitional B cell</td>\n",
       "      <td>B cell</td>\n",
       "      <td>Transitional B cell</td>\n",
       "    </tr>\n",
       "    <tr>\n",
       "      <th>2</th>\n",
       "      <td>3</td>\n",
       "      <td>Core naive B cell</td>\n",
       "      <td>B cell</td>\n",
       "      <td>Naive B cell</td>\n",
       "    </tr>\n",
       "    <tr>\n",
       "      <th>3</th>\n",
       "      <td>6</td>\n",
       "      <td>Core naive B cell</td>\n",
       "      <td>B cell</td>\n",
       "      <td>Naive B cell</td>\n",
       "    </tr>\n",
       "    <tr>\n",
       "      <th>4</th>\n",
       "      <td>7</td>\n",
       "      <td>Core naive B cell</td>\n",
       "      <td>B cell</td>\n",
       "      <td>Naive B cell</td>\n",
       "    </tr>\n",
       "    <tr>\n",
       "      <th>5</th>\n",
       "      <td>8</td>\n",
       "      <td>Core naive B cell</td>\n",
       "      <td>B cell</td>\n",
       "      <td>Naive B cell</td>\n",
       "    </tr>\n",
       "    <tr>\n",
       "      <th>6</th>\n",
       "      <td>9</td>\n",
       "      <td>Core naive B cell</td>\n",
       "      <td>B cell</td>\n",
       "      <td>Naive B cell</td>\n",
       "    </tr>\n",
       "    <tr>\n",
       "      <th>7</th>\n",
       "      <td>10</td>\n",
       "      <td>Core naive B cell</td>\n",
       "      <td>B cell</td>\n",
       "      <td>Naive B cell</td>\n",
       "    </tr>\n",
       "    <tr>\n",
       "      <th>8</th>\n",
       "      <td>11</td>\n",
       "      <td>CD27+ effector B cell</td>\n",
       "      <td>B cell</td>\n",
       "      <td>Effector B cell</td>\n",
       "    </tr>\n",
       "    <tr>\n",
       "      <th>9</th>\n",
       "      <td>12</td>\n",
       "      <td>Core naive B cell</td>\n",
       "      <td>B cell</td>\n",
       "      <td>Naive B cell</td>\n",
       "    </tr>\n",
       "    <tr>\n",
       "      <th>10</th>\n",
       "      <td>15</td>\n",
       "      <td>Erythrocyte contamination</td>\n",
       "      <td>Erythrocyte contamination</td>\n",
       "      <td>Erythrocyte contamination</td>\n",
       "    </tr>\n",
       "    <tr>\n",
       "      <th>11</th>\n",
       "      <td>17</td>\n",
       "      <td>Core naive B cell</td>\n",
       "      <td>B cell</td>\n",
       "      <td>Naive B cell</td>\n",
       "    </tr>\n",
       "    <tr>\n",
       "      <th>12</th>\n",
       "      <td>18</td>\n",
       "      <td>CD27- effector B cell</td>\n",
       "      <td>B cell</td>\n",
       "      <td>Effector B cell</td>\n",
       "    </tr>\n",
       "    <tr>\n",
       "      <th>13</th>\n",
       "      <td>19</td>\n",
       "      <td>B_platelet doublet</td>\n",
       "      <td>B_platelet doublet</td>\n",
       "      <td>B_platelet doublet</td>\n",
       "    </tr>\n",
       "    <tr>\n",
       "      <th>14</th>\n",
       "      <td>20</td>\n",
       "      <td>ISG+ naive B cell</td>\n",
       "      <td>B cell</td>\n",
       "      <td>Naive B cell</td>\n",
       "    </tr>\n",
       "    <tr>\n",
       "      <th>15</th>\n",
       "      <td>21</td>\n",
       "      <td>T_B doublet</td>\n",
       "      <td>T_B doublet</td>\n",
       "      <td>T_B doublet</td>\n",
       "    </tr>\n",
       "    <tr>\n",
       "      <th>16</th>\n",
       "      <td>22</td>\n",
       "      <td>B_mono doublet</td>\n",
       "      <td>B_mono doublet</td>\n",
       "      <td>B_mono doublet</td>\n",
       "    </tr>\n",
       "    <tr>\n",
       "      <th>17</th>\n",
       "      <td>23</td>\n",
       "      <td>Plasma cell</td>\n",
       "      <td>B cell</td>\n",
       "      <td>Plasma cell</td>\n",
       "    </tr>\n",
       "    <tr>\n",
       "      <th>18</th>\n",
       "      <td>24</td>\n",
       "      <td>NK_Mono doublet</td>\n",
       "      <td>NK_Mono doublet</td>\n",
       "      <td>NK_Mono doublet</td>\n",
       "    </tr>\n",
       "    <tr>\n",
       "      <th>19</th>\n",
       "      <td>25</td>\n",
       "      <td>Core naive B cell</td>\n",
       "      <td>B cell</td>\n",
       "      <td>Naive B cell</td>\n",
       "    </tr>\n",
       "    <tr>\n",
       "      <th>20</th>\n",
       "      <td>26</td>\n",
       "      <td>Core naive B cell</td>\n",
       "      <td>B cell</td>\n",
       "      <td>Naive B cell</td>\n",
       "    </tr>\n",
       "  </tbody>\n",
       "</table>\n",
       "</div>"
      ],
      "text/plain": [
       "   ms_leiden_2                    AIFI_L3                    AIFI_L1  \\\n",
       "0            0          Core naive B cell                    B cell    \n",
       "1            1        Transitional B cell                    B cell    \n",
       "2            3          Core naive B cell                    B cell    \n",
       "3            6          Core naive B cell                    B cell    \n",
       "4            7          Core naive B cell                    B cell    \n",
       "5            8          Core naive B cell                    B cell    \n",
       "6            9          Core naive B cell                    B cell    \n",
       "7           10          Core naive B cell                    B cell    \n",
       "8           11      CD27+ effector B cell                    B cell    \n",
       "9           12          Core naive B cell                    B cell    \n",
       "10          15  Erythrocyte contamination  Erythrocyte contamination   \n",
       "11          17          Core naive B cell                    B cell    \n",
       "12          18      CD27- effector B cell                    B cell    \n",
       "13          19         B_platelet doublet         B_platelet doublet   \n",
       "14          20          ISG+ naive B cell                    B cell    \n",
       "15          21                T_B doublet                T_B doublet   \n",
       "16          22             B_mono doublet             B_mono doublet   \n",
       "17          23                Plasma cell                    B cell    \n",
       "18          24            NK_Mono doublet            NK_Mono doublet   \n",
       "19          25          Core naive B cell                    B cell    \n",
       "20          26          Core naive B cell                    B cell    \n",
       "\n",
       "                      AIFI_L2  \n",
       "0                Naive B cell  \n",
       "1         Transitional B cell  \n",
       "2                Naive B cell  \n",
       "3                Naive B cell  \n",
       "4                Naive B cell  \n",
       "5                Naive B cell  \n",
       "6                Naive B cell  \n",
       "7                Naive B cell  \n",
       "8             Effector B cell  \n",
       "9                Naive B cell  \n",
       "10  Erythrocyte contamination  \n",
       "11               Naive B cell  \n",
       "12            Effector B cell  \n",
       "13         B_platelet doublet  \n",
       "14               Naive B cell  \n",
       "15                T_B doublet  \n",
       "16             B_mono doublet  \n",
       "17                Plasma cell  \n",
       "18            NK_Mono doublet  \n",
       "19               Naive B cell  \n",
       "20               Naive B cell  "
      ]
     },
     "execution_count": 34,
     "metadata": {},
     "output_type": "execute_result"
    }
   ],
   "source": [
    "label_df"
   ]
  },
  {
   "cell_type": "code",
   "execution_count": 35,
   "id": "3c2e42bb-0fbb-4bec-b970-5395549b8269",
   "metadata": {},
   "outputs": [],
   "source": [
    "final_m = joint_df[['barcodes', new_col]].merge(label_df, on = new_col, how = 'left')"
   ]
  },
  {
   "cell_type": "code",
   "execution_count": 36,
   "id": "bb9f1d63-9016-4448-833b-7165048c9e7e",
   "metadata": {},
   "outputs": [],
   "source": [
    "out_dir = '../04-Annotation/annotations/'\n",
    "out_file = '{p}/pbmc_ref_{c}_annotations_{d}.csv'.format(\n",
    "    p = out_dir,\n",
    "    c = cell_class,\n",
    "    d = date.today()\n",
    ")\n",
    "label_df.to_csv(out_file)"
   ]
  },
  {
   "cell_type": "markdown",
   "id": "fe9788fc-aad8-4298-8194-e10fafa5d1e7",
   "metadata": {},
   "source": [
    "## Compare old and new annotations"
   ]
  },
  {
   "cell_type": "code",
   "execution_count": 37,
   "id": "7cdbadc2-b849-4ed6-be48-ac943471f08b",
   "metadata": {},
   "outputs": [],
   "source": [
    "all_new = pd.concat(joint_df_list)"
   ]
  },
  {
   "cell_type": "code",
   "execution_count": 38,
   "id": "daf846e4-e46a-475f-aa90-b583e5d51a9e",
   "metadata": {},
   "outputs": [
    {
     "data": {
      "text/plain": [
       "AIFI_L3\n",
       "Core naive B cell                 86004\n",
       "Core memory B cell                38281\n",
       "Transitional B cell                9586\n",
       "CD27+ effector B cell              7012\n",
       "Erythrocyte contamination          6005\n",
       "CD27- effector B cell              4355\n",
       "ISG+ naive B cell                  4115\n",
       "B_platelet doublet                 4049\n",
       "Early memory B cell                3706\n",
       "T_B doublet                        2760\n",
       "Type 2 polarized memory B cell     2734\n",
       "CD95 memory B cell                 2461\n",
       "Plasma cell                        2166\n",
       "NK_Mono doublet                    2093\n",
       "B_mono doublet                     1893\n",
       "Activated memory B cell             416\n",
       "Dying cells                         140\n",
       "Name: count, dtype: int64"
      ]
     },
     "execution_count": 38,
     "metadata": {},
     "output_type": "execute_result"
    }
   ],
   "source": [
    "new_counts = all_new['AIFI_L3'].value_counts()\n",
    "new_counts"
   ]
  },
  {
   "cell_type": "code",
   "execution_count": 39,
   "id": "0e1572bc-a7fa-466d-9c5b-b8feec31f85b",
   "metadata": {},
   "outputs": [
    {
     "data": {
      "text/plain": [
       "218"
      ]
     },
     "execution_count": 39,
     "metadata": {},
     "output_type": "execute_result"
    }
   ],
   "source": [
    "sum(all_new['AIFI_L3'].isna())"
   ]
  },
  {
   "cell_type": "code",
   "execution_count": 40,
   "id": "3ddfa1d7-429d-42b2-b3c6-67604d980feb",
   "metadata": {},
   "outputs": [
    {
     "data": {
      "text/plain": [
       "177776"
      ]
     },
     "execution_count": 40,
     "metadata": {},
     "output_type": "execute_result"
    }
   ],
   "source": [
    "sum(new_counts)"
   ]
  },
  {
   "cell_type": "markdown",
   "id": "cb362297-7f9d-4d2b-ae91-c39ad775fbbc",
   "metadata": {},
   "source": [
    "Original type counts"
   ]
  },
  {
   "cell_type": "code",
   "execution_count": 41,
   "id": "98a2d0b9-cb36-4160-bce7-da560a18b443",
   "metadata": {},
   "outputs": [
    {
     "data": {
      "text/plain": [
       "AIFI_L3\n",
       "Core naive B cell                 86008\n",
       "Core memory B cell                38284\n",
       "Transitional B cell                9587\n",
       "CD27+ effector B cell              7013\n",
       "Erythrocyte contamination          6008\n",
       "CD27- effector B cell              4355\n",
       "ISG+ naive B cell                  4116\n",
       "B_platelet doublet                 4055\n",
       "Early memory B cell                3706\n",
       "T_B doublet                        2968\n",
       "Type 2 polarized memory B cell     2734\n",
       "CD95 memory B cell                 2461\n",
       "NK_Mono doublet                    2264\n",
       "Plasma cell                        2169\n",
       "B_mono doublet                     1908\n",
       "Activated memory B cell             416\n",
       "Dying cells                         146\n",
       "Name: count, dtype: int64"
      ]
     },
     "execution_count": 41,
     "metadata": {},
     "output_type": "execute_result"
    }
   ],
   "source": [
    "old_counts = og_obs['AIFI_L3'].value_counts()\n",
    "old_counts"
   ]
  },
  {
   "cell_type": "code",
   "execution_count": 42,
   "id": "50dcf863-fb20-4dc9-a11a-a4335a618f5f",
   "metadata": {},
   "outputs": [
    {
     "data": {
      "text/plain": [
       "178198"
      ]
     },
     "execution_count": 42,
     "metadata": {},
     "output_type": "execute_result"
    }
   ],
   "source": [
    "sum(old_counts)"
   ]
  },
  {
   "cell_type": "markdown",
   "id": "7cda1d7c-7048-4a03-baa7-61ce432fc7db",
   "metadata": {},
   "source": [
    "Difference in counts"
   ]
  },
  {
   "cell_type": "code",
   "execution_count": 43,
   "id": "45768c38-f307-4822-9759-31c297df0fd8",
   "metadata": {},
   "outputs": [
    {
     "data": {
      "text/plain": [
       "AIFI_L3\n",
       "Activated memory B cell             0\n",
       "B_mono doublet                    -15\n",
       "B_platelet doublet                 -6\n",
       "CD27+ effector B cell              -1\n",
       "CD27- effector B cell               0\n",
       "CD95 memory B cell                  0\n",
       "Core memory B cell                 -3\n",
       "Core naive B cell                  -4\n",
       "Dying cells                        -6\n",
       "Early memory B cell                 0\n",
       "Erythrocyte contamination          -3\n",
       "ISG+ naive B cell                  -1\n",
       "NK_Mono doublet                  -171\n",
       "Plasma cell                        -3\n",
       "T_B doublet                      -208\n",
       "Transitional B cell                -1\n",
       "Type 2 polarized memory B cell      0\n",
       "Name: count, dtype: int64"
      ]
     },
     "execution_count": 43,
     "metadata": {},
     "output_type": "execute_result"
    }
   ],
   "source": [
    "new_counts - old_counts"
   ]
  },
  {
   "cell_type": "markdown",
   "id": "139a6d64-9434-4755-a29f-67dffd4b7900",
   "metadata": {},
   "source": [
    "Percent difference"
   ]
  },
  {
   "cell_type": "code",
   "execution_count": 44,
   "id": "e271a9bb-4cd0-4ace-88a4-02f3a854479d",
   "metadata": {},
   "outputs": [
    {
     "data": {
      "text/plain": [
       "AIFI_L3\n",
       "Activated memory B cell           0.000000\n",
       "B_mono doublet                   -0.786164\n",
       "B_platelet doublet               -0.147965\n",
       "CD27+ effector B cell            -0.014259\n",
       "CD27- effector B cell             0.000000\n",
       "CD95 memory B cell                0.000000\n",
       "Core memory B cell               -0.007836\n",
       "Core naive B cell                -0.004651\n",
       "Dying cells                      -4.109589\n",
       "Early memory B cell               0.000000\n",
       "Erythrocyte contamination        -0.049933\n",
       "ISG+ naive B cell                -0.024295\n",
       "NK_Mono doublet                  -7.553004\n",
       "Plasma cell                      -0.138313\n",
       "T_B doublet                      -7.008086\n",
       "Transitional B cell              -0.010431\n",
       "Type 2 polarized memory B cell    0.000000\n",
       "Name: count, dtype: float64"
      ]
     },
     "execution_count": 44,
     "metadata": {},
     "output_type": "execute_result"
    }
   ],
   "source": [
    "(new_counts - old_counts) / old_counts * 100"
   ]
  },
  {
   "cell_type": "code",
   "execution_count": 45,
   "id": "58c24562-35cc-492e-9b21-6841e3c03828",
   "metadata": {},
   "outputs": [],
   "source": [
    "old_id = og_obs[['barcodes','AIFI_L3']].rename({'AIFI_L3':'old_L3'}, axis = 1)\n",
    "new_id = all_new[['barcodes','AIFI_L3']].rename({'AIFI_L3':'new_L3'}, axis = 1)"
   ]
  },
  {
   "cell_type": "code",
   "execution_count": 46,
   "id": "72ef7401-82aa-4bec-8831-94bf173c322c",
   "metadata": {},
   "outputs": [
    {
     "data": {
      "text/plain": [
       "177776"
      ]
     },
     "execution_count": 46,
     "metadata": {},
     "output_type": "execute_result"
    }
   ],
   "source": [
    "sum(new_id['barcodes'].isin(old_id['barcodes']))"
   ]
  },
  {
   "cell_type": "code",
   "execution_count": 47,
   "id": "d33ff9a8-5906-4c2e-9cd3-915872082bc0",
   "metadata": {},
   "outputs": [],
   "source": [
    "comp_old = old_id.merge(new_id, on = 'barcodes', how = 'left')"
   ]
  },
  {
   "cell_type": "code",
   "execution_count": 48,
   "id": "beb61a14-3d71-428f-9a6d-285c4e9e0d0c",
   "metadata": {},
   "outputs": [
    {
     "data": {
      "text/plain": [
       "(178198, 3)"
      ]
     },
     "execution_count": 48,
     "metadata": {},
     "output_type": "execute_result"
    }
   ],
   "source": [
    "comp_old.shape"
   ]
  },
  {
   "cell_type": "code",
   "execution_count": 49,
   "id": "571fe163-3540-4313-8aea-ecf4e49696d1",
   "metadata": {},
   "outputs": [
    {
     "data": {
      "text/plain": [
       "177776"
      ]
     },
     "execution_count": 49,
     "metadata": {},
     "output_type": "execute_result"
    }
   ],
   "source": [
    "sum(comp_old['old_L3'] == comp_old['new_L3'])"
   ]
  },
  {
   "cell_type": "code",
   "execution_count": 50,
   "id": "d58526cd-d73b-4d62-93af-36b3eaf47684",
   "metadata": {},
   "outputs": [],
   "source": [
    "diff_old = comp_old[comp_old['old_L3'] != comp_old['new_L3']]\n",
    "#diff = diff[[not x for x in diff['new_L3'].isna()]]"
   ]
  },
  {
   "cell_type": "code",
   "execution_count": 51,
   "id": "57a509a2-cbb3-40a8-ac90-f78adea9a3fd",
   "metadata": {},
   "outputs": [
    {
     "data": {
      "text/html": [
       "<div>\n",
       "<style scoped>\n",
       "    .dataframe tbody tr th:only-of-type {\n",
       "        vertical-align: middle;\n",
       "    }\n",
       "\n",
       "    .dataframe tbody tr th {\n",
       "        vertical-align: top;\n",
       "    }\n",
       "\n",
       "    .dataframe thead th {\n",
       "        text-align: right;\n",
       "    }\n",
       "</style>\n",
       "<table border=\"1\" class=\"dataframe\">\n",
       "  <thead>\n",
       "    <tr style=\"text-align: right;\">\n",
       "      <th></th>\n",
       "      <th>barcodes</th>\n",
       "      <th>old_L3</th>\n",
       "      <th>new_L3</th>\n",
       "    </tr>\n",
       "  </thead>\n",
       "  <tbody>\n",
       "    <tr>\n",
       "      <th>15</th>\n",
       "      <td>cf79337048b611ea8957bafe6d70929e</td>\n",
       "      <td>NK_Mono doublet</td>\n",
       "      <td>NaN</td>\n",
       "    </tr>\n",
       "    <tr>\n",
       "      <th>25</th>\n",
       "      <td>cf7c9a1a48b611ea8957bafe6d70929e</td>\n",
       "      <td>NK_Mono doublet</td>\n",
       "      <td>NaN</td>\n",
       "    </tr>\n",
       "    <tr>\n",
       "      <th>33</th>\n",
       "      <td>cf831d7c48b611ea8957bafe6d70929e</td>\n",
       "      <td>T_B doublet</td>\n",
       "      <td>NaN</td>\n",
       "    </tr>\n",
       "    <tr>\n",
       "      <th>34</th>\n",
       "      <td>cf83775e48b611ea8957bafe6d70929e</td>\n",
       "      <td>T_B doublet</td>\n",
       "      <td>NaN</td>\n",
       "    </tr>\n",
       "    <tr>\n",
       "      <th>35</th>\n",
       "      <td>cf839cac48b611ea8957bafe6d70929e</td>\n",
       "      <td>NK_Mono doublet</td>\n",
       "      <td>NaN</td>\n",
       "    </tr>\n",
       "  </tbody>\n",
       "</table>\n",
       "</div>"
      ],
      "text/plain": [
       "                            barcodes           old_L3 new_L3\n",
       "15  cf79337048b611ea8957bafe6d70929e  NK_Mono doublet    NaN\n",
       "25  cf7c9a1a48b611ea8957bafe6d70929e  NK_Mono doublet    NaN\n",
       "33  cf831d7c48b611ea8957bafe6d70929e      T_B doublet    NaN\n",
       "34  cf83775e48b611ea8957bafe6d70929e      T_B doublet    NaN\n",
       "35  cf839cac48b611ea8957bafe6d70929e  NK_Mono doublet    NaN"
      ]
     },
     "execution_count": 51,
     "metadata": {},
     "output_type": "execute_result"
    }
   ],
   "source": [
    "diff_old.head()"
   ]
  },
  {
   "cell_type": "code",
   "execution_count": 52,
   "id": "dacc8ba8-c7b3-4875-979d-a9e90c11439b",
   "metadata": {},
   "outputs": [
    {
     "data": {
      "text/plain": [
       "old_L3\n",
       "T_B doublet                  208\n",
       "NK_Mono doublet              171\n",
       "B_mono doublet                15\n",
       "B_platelet doublet             6\n",
       "Dying cells                    6\n",
       "Core naive B cell              4\n",
       "Plasma cell                    3\n",
       "Erythrocyte contamination      3\n",
       "Core memory B cell             3\n",
       "ISG+ naive B cell              1\n",
       "CD27+ effector B cell          1\n",
       "Transitional B cell            1\n",
       "Name: count, dtype: int64"
      ]
     },
     "execution_count": 52,
     "metadata": {},
     "output_type": "execute_result"
    }
   ],
   "source": [
    "diff_old['old_L3'].value_counts()"
   ]
  },
  {
   "cell_type": "code",
   "execution_count": 53,
   "id": "1767e5de-3998-414e-bc23-f60c730a7cb2",
   "metadata": {},
   "outputs": [],
   "source": [
    "comp_new = new_id.merge(old_id, on = 'barcodes', how = 'left')"
   ]
  },
  {
   "cell_type": "code",
   "execution_count": 54,
   "id": "f3758b1a-bb83-43b7-8bae-c852721bf31b",
   "metadata": {},
   "outputs": [
    {
     "data": {
      "text/plain": [
       "(177994, 3)"
      ]
     },
     "execution_count": 54,
     "metadata": {},
     "output_type": "execute_result"
    }
   ],
   "source": [
    "comp_new.shape"
   ]
  },
  {
   "cell_type": "code",
   "execution_count": 55,
   "id": "ae525306-98f1-4f1d-a2ce-1f74e49ceba3",
   "metadata": {},
   "outputs": [
    {
     "data": {
      "text/plain": [
       "177776"
      ]
     },
     "execution_count": 55,
     "metadata": {},
     "output_type": "execute_result"
    }
   ],
   "source": [
    "sum(comp_new['old_L3'] == comp_new['new_L3'])"
   ]
  },
  {
   "cell_type": "code",
   "execution_count": 56,
   "id": "3899b38e-d98a-4e84-aeac-ed60d225fdde",
   "metadata": {},
   "outputs": [],
   "source": [
    "diff_new = comp_new[comp_new['old_L3'] != comp_new['new_L3']]\n",
    "#diff = diff[[not x for x in diff['new_L3'].isna()]]"
   ]
  },
  {
   "cell_type": "code",
   "execution_count": 57,
   "id": "c91cb68d-e731-4920-8c62-232e04a71763",
   "metadata": {},
   "outputs": [
    {
     "data": {
      "text/html": [
       "<div>\n",
       "<style scoped>\n",
       "    .dataframe tbody tr th:only-of-type {\n",
       "        vertical-align: middle;\n",
       "    }\n",
       "\n",
       "    .dataframe tbody tr th {\n",
       "        vertical-align: top;\n",
       "    }\n",
       "\n",
       "    .dataframe thead th {\n",
       "        text-align: right;\n",
       "    }\n",
       "</style>\n",
       "<table border=\"1\" class=\"dataframe\">\n",
       "  <thead>\n",
       "    <tr style=\"text-align: right;\">\n",
       "      <th></th>\n",
       "      <th>barcodes</th>\n",
       "      <th>new_L3</th>\n",
       "      <th>old_L3</th>\n",
       "    </tr>\n",
       "  </thead>\n",
       "  <tbody>\n",
       "    <tr>\n",
       "      <th>1440</th>\n",
       "      <td>b4de4300862b11ee9a02eed9ef1e2438</td>\n",
       "      <td>NaN</td>\n",
       "      <td>NaN</td>\n",
       "    </tr>\n",
       "    <tr>\n",
       "      <th>7653</th>\n",
       "      <td>f7f333c0424a11ecb1157ed7241a30b0</td>\n",
       "      <td>NaN</td>\n",
       "      <td>NaN</td>\n",
       "    </tr>\n",
       "    <tr>\n",
       "      <th>15184</th>\n",
       "      <td>a2c0eff48cfc11ebb4592ee9d1c560f8</td>\n",
       "      <td>NaN</td>\n",
       "      <td>NaN</td>\n",
       "    </tr>\n",
       "    <tr>\n",
       "      <th>34290</th>\n",
       "      <td>4b21ce26f7e511ec9d95e21fd042e627</td>\n",
       "      <td>NaN</td>\n",
       "      <td>NaN</td>\n",
       "    </tr>\n",
       "    <tr>\n",
       "      <th>46745</th>\n",
       "      <td>7a13ab6460d111ed987552e10431fc03</td>\n",
       "      <td>NaN</td>\n",
       "      <td>NaN</td>\n",
       "    </tr>\n",
       "  </tbody>\n",
       "</table>\n",
       "</div>"
      ],
      "text/plain": [
       "                               barcodes new_L3 old_L3\n",
       "1440   b4de4300862b11ee9a02eed9ef1e2438    NaN    NaN\n",
       "7653   f7f333c0424a11ecb1157ed7241a30b0    NaN    NaN\n",
       "15184  a2c0eff48cfc11ebb4592ee9d1c560f8    NaN    NaN\n",
       "34290  4b21ce26f7e511ec9d95e21fd042e627    NaN    NaN\n",
       "46745  7a13ab6460d111ed987552e10431fc03    NaN    NaN"
      ]
     },
     "execution_count": 57,
     "metadata": {},
     "output_type": "execute_result"
    }
   ],
   "source": [
    "diff_new.head()"
   ]
  },
  {
   "cell_type": "code",
   "execution_count": 58,
   "id": "274faefe-14a9-4fde-88fa-23962c5ff8df",
   "metadata": {},
   "outputs": [
    {
     "data": {
      "text/plain": [
       "(218, 3)"
      ]
     },
     "execution_count": 58,
     "metadata": {},
     "output_type": "execute_result"
    }
   ],
   "source": [
    "diff_new.shape"
   ]
  },
  {
   "cell_type": "markdown",
   "id": "6a9e1e97-93c2-484a-9c5d-be0d5382c400",
   "metadata": {},
   "source": [
    "Is a cluster in here that was previously assigned to a different class?"
   ]
  },
  {
   "cell_type": "code",
   "execution_count": 59,
   "id": "bbf35a1c-40a5-4c1a-8e33-1169aa35dce2",
   "metadata": {},
   "outputs": [
    {
     "data": {
      "text/plain": [
       "218"
      ]
     },
     "execution_count": 59,
     "metadata": {},
     "output_type": "execute_result"
    }
   ],
   "source": [
    "sum(diff_new['new_L3'].isna())"
   ]
  },
  {
   "cell_type": "code",
   "execution_count": 60,
   "id": "04bc55c3-1516-4fb3-8482-a18ee7c35fb8",
   "metadata": {},
   "outputs": [],
   "source": [
    "final_new = pd.concat([final_mem.drop(mem_col, axis = 1),final_m.drop(new_col, axis = 1)])"
   ]
  },
  {
   "cell_type": "code",
   "execution_count": 61,
   "id": "d3a52c37-7463-4af9-a812-6afb2eed9ab3",
   "metadata": {},
   "outputs": [],
   "source": [
    "missing_new = final_new[final_new['barcodes'].isin(diff_new['barcodes'])]"
   ]
  },
  {
   "cell_type": "code",
   "execution_count": 62,
   "id": "bbfcdf35-2d48-4e11-adff-92d7dd672783",
   "metadata": {
    "scrolled": true
   },
   "outputs": [
    {
     "data": {
      "text/plain": [
       "AIFI_L3\n",
       "T_B doublet                  86\n",
       "NK_Mono doublet              78\n",
       "B_mono doublet               21\n",
       "B_platelet doublet           11\n",
       "Erythrocyte contamination     9\n",
       "Core naive B cell             4\n",
       "Core memory B cell            3\n",
       "Plasma cell                   2\n",
       "Early memory B cell           1\n",
       "CD95 memory B cell            1\n",
       "Transitional B cell           1\n",
       "ISG+ naive B cell             1\n",
       "Name: count, dtype: int64"
      ]
     },
     "execution_count": 62,
     "metadata": {},
     "output_type": "execute_result"
    }
   ],
   "source": [
    "missing_new['AIFI_L3'].value_counts()"
   ]
  },
  {
   "cell_type": "markdown",
   "id": "6e3e7c4a-8c9e-47af-aa66-cc0256dc171e",
   "metadata": {},
   "source": [
    "Differences are mostly due to doublets. No problemo."
   ]
  },
  {
   "cell_type": "code",
   "execution_count": 63,
   "id": "28cbc367-85b3-4bc0-871b-d9bdaa212872",
   "metadata": {},
   "outputs": [
    {
     "data": {
      "text/html": [
       "<details>\n",
       "<summary>Click to view session information</summary>\n",
       "<pre>\n",
       "-----\n",
       "hisepy              0.3.0\n",
       "pandas              2.1.4\n",
       "scanpy              1.9.6\n",
       "session_info        1.0.0\n",
       "-----\n",
       "</pre>\n",
       "<details>\n",
       "<summary>Click to view modules imported as dependencies</summary>\n",
       "<pre>\n",
       "PIL                         10.0.1\n",
       "anndata                     0.10.3\n",
       "anyio                       NA\n",
       "arrow                       1.3.0\n",
       "asttokens                   NA\n",
       "attr                        23.2.0\n",
       "attrs                       23.2.0\n",
       "babel                       2.14.0\n",
       "beatrix_jupyterlab          NA\n",
       "brotli                      NA\n",
       "cachetools                  5.3.1\n",
       "certifi                     2023.11.17\n",
       "cffi                        1.16.0\n",
       "charset_normalizer          3.3.2\n",
       "cloudpickle                 2.2.1\n",
       "colorama                    0.4.6\n",
       "comm                        0.1.4\n",
       "cryptography                41.0.7\n",
       "cycler                      0.10.0\n",
       "cython_runtime              NA\n",
       "dateutil                    2.8.2\n",
       "db_dtypes                   1.1.1\n",
       "debugpy                     1.8.0\n",
       "decorator                   5.1.1\n",
       "defusedxml                  0.7.1\n",
       "deprecated                  1.2.14\n",
       "exceptiongroup              1.2.0\n",
       "executing                   2.0.1\n",
       "fastjsonschema              NA\n",
       "fqdn                        NA\n",
       "google                      NA\n",
       "greenlet                    2.0.2\n",
       "grpc                        1.58.0\n",
       "grpc_status                 NA\n",
       "h5py                        3.10.0\n",
       "idna                        3.6\n",
       "igraph                      0.10.8\n",
       "importlib_metadata          NA\n",
       "ipykernel                   6.28.0\n",
       "ipython_genutils            0.2.0\n",
       "ipywidgets                  8.1.1\n",
       "isoduration                 NA\n",
       "jedi                        0.19.1\n",
       "jinja2                      3.1.2\n",
       "joblib                      1.3.2\n",
       "json5                       NA\n",
       "jsonpointer                 2.4\n",
       "jsonschema                  4.20.0\n",
       "jsonschema_specifications   NA\n",
       "jupyter_events              0.9.0\n",
       "jupyter_server              2.12.1\n",
       "jupyterlab_server           2.25.2\n",
       "jwt                         2.8.0\n",
       "kiwisolver                  1.4.5\n",
       "leidenalg                   0.10.1\n",
       "llvmlite                    0.41.0\n",
       "lz4                         4.3.2\n",
       "markupsafe                  2.1.3\n",
       "matplotlib                  3.8.0\n",
       "matplotlib_inline           0.1.6\n",
       "mpl_toolkits                NA\n",
       "mpmath                      1.3.0\n",
       "natsort                     8.4.0\n",
       "nbformat                    5.9.2\n",
       "numba                       0.58.0\n",
       "numpy                       1.24.0\n",
       "opentelemetry               NA\n",
       "overrides                   NA\n",
       "packaging                   23.2\n",
       "parso                       0.8.3\n",
       "pexpect                     4.8.0\n",
       "pickleshare                 0.7.5\n",
       "pkg_resources               NA\n",
       "platformdirs                4.1.0\n",
       "plotly                      5.18.0\n",
       "prettytable                 3.9.0\n",
       "prometheus_client           NA\n",
       "prompt_toolkit              3.0.42\n",
       "proto                       NA\n",
       "psutil                      NA\n",
       "ptyprocess                  0.7.0\n",
       "pure_eval                   0.2.2\n",
       "pyarrow                     13.0.0\n",
       "pydev_ipython               NA\n",
       "pydevconsole                NA\n",
       "pydevd                      2.9.5\n",
       "pydevd_file_utils           NA\n",
       "pydevd_plugins              NA\n",
       "pydevd_tracing              NA\n",
       "pygments                    2.17.2\n",
       "pynvml                      NA\n",
       "pyparsing                   3.1.1\n",
       "pyreadr                     0.5.0\n",
       "pythonjsonlogger            NA\n",
       "pytz                        2023.3.post1\n",
       "referencing                 NA\n",
       "requests                    2.31.0\n",
       "rfc3339_validator           0.1.4\n",
       "rfc3986_validator           0.1.1\n",
       "rpds                        NA\n",
       "scipy                       1.11.4\n",
       "send2trash                  NA\n",
       "shapely                     1.8.5.post1\n",
       "six                         1.16.0\n",
       "sklearn                     1.3.2\n",
       "sniffio                     1.3.0\n",
       "socks                       1.7.1\n",
       "sql                         NA\n",
       "sqlalchemy                  2.0.21\n",
       "sqlparse                    0.4.4\n",
       "stack_data                  0.6.2\n",
       "sympy                       1.12\n",
       "termcolor                   NA\n",
       "texttable                   1.7.0\n",
       "threadpoolctl               3.2.0\n",
       "torch                       2.1.2+cu121\n",
       "torchgen                    NA\n",
       "tornado                     6.3.3\n",
       "tqdm                        4.66.1\n",
       "traitlets                   5.9.0\n",
       "typing_extensions           NA\n",
       "uri_template                NA\n",
       "urllib3                     1.26.18\n",
       "wcwidth                     0.2.12\n",
       "webcolors                   1.13\n",
       "websocket                   1.7.0\n",
       "wrapt                       1.15.0\n",
       "xarray                      2023.12.0\n",
       "yaml                        6.0.1\n",
       "zipp                        NA\n",
       "zmq                         25.1.2\n",
       "zoneinfo                    NA\n",
       "zstandard                   0.22.0\n",
       "</pre>\n",
       "</details> <!-- seems like this ends pre, so might as well be explicit -->\n",
       "<pre>\n",
       "-----\n",
       "IPython             8.19.0\n",
       "jupyter_client      8.6.0\n",
       "jupyter_core        5.6.1\n",
       "jupyterlab          4.0.10\n",
       "notebook            6.5.4\n",
       "-----\n",
       "Python 3.10.13 | packaged by conda-forge | (main, Dec 23 2023, 15:36:39) [GCC 12.3.0]\n",
       "Linux-5.15.0-1052-gcp-x86_64-with-glibc2.31\n",
       "-----\n",
       "Session information updated at 2024-02-29 22:06\n",
       "</pre>\n",
       "</details>"
      ],
      "text/plain": [
       "<IPython.core.display.HTML object>"
      ]
     },
     "execution_count": 63,
     "metadata": {},
     "output_type": "execute_result"
    }
   ],
   "source": [
    "import session_info\n",
    "session_info.show()"
   ]
  },
  {
   "cell_type": "code",
   "execution_count": null,
   "id": "d9ee1d8a-0c87-458d-9a61-e1a8d6975f76",
   "metadata": {},
   "outputs": [],
   "source": []
  }
 ],
 "metadata": {
  "kernelspec": {
   "display_name": "Python 3 (ipykernel)",
   "language": "python",
   "name": "python3"
  },
  "language_info": {
   "codemirror_mode": {
    "name": "ipython",
    "version": 3
   },
   "file_extension": ".py",
   "mimetype": "text/x-python",
   "name": "python",
   "nbconvert_exporter": "python",
   "pygments_lexer": "ipython3",
   "version": "3.10.13"
  }
 },
 "nbformat": 4,
 "nbformat_minor": 5
}
