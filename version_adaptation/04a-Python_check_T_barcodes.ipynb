{
 "cells": [
  {
   "cell_type": "code",
   "execution_count": 7,
   "id": "1631572e-1c9b-409a-bb34-2bea77561fb1",
   "metadata": {},
   "outputs": [],
   "source": [
    "import hisepy\n",
    "import scanpy as sc\n",
    "import pandas as pd\n",
    "import os"
   ]
  },
  {
   "cell_type": "code",
   "execution_count": 3,
   "id": "cd55de27-c6dc-4366-9a73-5b1ed3934be7",
   "metadata": {},
   "outputs": [],
   "source": [
    "def read_obs_uuid(h5ad_uuid):\n",
    "    h5ad_path = '/home/jupyter/cache/{u}'.format(u = h5ad_uuid)\n",
    "    if not os.path.isdir(h5ad_path):\n",
    "        hise_res = hisepy.reader.cache_files([h5ad_uuid])\n",
    "    h5ad_filename = os.listdir(h5ad_path)[0]\n",
    "    h5ad_file = '{p}/{f}'.format(p = h5ad_path, f = h5ad_filename)\n",
    "    adata = sc.read_h5ad(h5ad_file, backed = \"r\")\n",
    "    obs = adata.obs.copy()\n",
    "    return obs"
   ]
  },
  {
   "cell_type": "code",
   "execution_count": 5,
   "id": "f7611227-147b-4dad-b486-0f93b6701d20",
   "metadata": {},
   "outputs": [],
   "source": [
    "h5ad_uuid = '79a24651-47db-48fb-a0b4-607b94eb0493'"
   ]
  },
  {
   "cell_type": "code",
   "execution_count": 9,
   "id": "1ea043fd-3e73-4b1e-953d-fc12ad8619ac",
   "metadata": {},
   "outputs": [],
   "source": [
    "new_obs = read_obs_uuid(h5ad_uuid)"
   ]
  },
  {
   "cell_type": "code",
   "execution_count": 10,
   "id": "5d2f9bbd-417b-474d-904e-87534e0b744a",
   "metadata": {},
   "outputs": [
    {
     "data": {
      "text/plain": [
       "(1191327, 53)"
      ]
     },
     "execution_count": 10,
     "metadata": {},
     "output_type": "execute_result"
    }
   ],
   "source": [
    "new_obs.shape"
   ]
  },
  {
   "cell_type": "code",
   "execution_count": null,
   "id": "28dac715-4b8b-426f-95d5-62a7221fb8c0",
   "metadata": {},
   "outputs": [],
   "source": []
  },
  {
   "cell_type": "code",
   "execution_count": 11,
   "id": "c94355ce-60ea-455a-ab51-1aee4c1bffb6",
   "metadata": {},
   "outputs": [],
   "source": [
    "og_obs_list = []\n",
    "for i in range(1, 11):\n",
    "    og_file = 'Annotation_Part_{i}.parquet'.format(i = i)\n",
    "    og_obs = pd.read_parquet(og_file)\n",
    "    og_obs_list.append(og_obs)"
   ]
  },
  {
   "cell_type": "code",
   "execution_count": 12,
   "id": "72011a7d-2d57-4f71-a78b-0fd39d42fe4a",
   "metadata": {},
   "outputs": [],
   "source": [
    "og_obs = pd.concat(og_obs_list)"
   ]
  },
  {
   "cell_type": "code",
   "execution_count": 13,
   "id": "5bd31415-d260-4d26-a526-819b3119c7b0",
   "metadata": {
    "scrolled": true
   },
   "outputs": [],
   "source": [
    "og_obs = og_obs[['barcodes',\n",
    "                 'AIFI_L1', 'AIFI_L1_Final',\n",
    "                 'AIFI_L2', 'AIFI_L2_Final',\n",
    "                 'AIFI_L3', 'AIFI_L3_Final']]\n",
    "og_obs = og_obs.reset_index(drop = True)"
   ]
  },
  {
   "cell_type": "code",
   "execution_count": 14,
   "id": "58385873-98c4-42ae-92b4-bf1662bff023",
   "metadata": {},
   "outputs": [
    {
     "data": {
      "text/plain": [
       "(1193859, 7)"
      ]
     },
     "execution_count": 14,
     "metadata": {},
     "output_type": "execute_result"
    }
   ],
   "source": [
    "og_obs.shape"
   ]
  },
  {
   "cell_type": "code",
   "execution_count": null,
   "id": "72f0526c-9c1e-43c9-995f-3589ce0e012d",
   "metadata": {},
   "outputs": [],
   "source": []
  },
  {
   "cell_type": "code",
   "execution_count": null,
   "id": "d4c6aca3-c1e6-4f5e-88d9-b4449c4bf311",
   "metadata": {},
   "outputs": [],
   "source": []
  },
  {
   "cell_type": "code",
   "execution_count": 15,
   "id": "1f7c9411-3b00-4b49-8796-22fe49b22154",
   "metadata": {},
   "outputs": [
    {
     "data": {
      "text/plain": [
       "1190744"
      ]
     },
     "execution_count": 15,
     "metadata": {},
     "output_type": "execute_result"
    }
   ],
   "source": [
    "sum(new_obs['barcodes'].isin(og_obs['barcodes']))"
   ]
  },
  {
   "cell_type": "code",
   "execution_count": null,
   "id": "e73da736-46cd-4619-b81a-4dae540190b7",
   "metadata": {},
   "outputs": [],
   "source": []
  }
 ],
 "metadata": {
  "kernelspec": {
   "display_name": "Python 3 (ipykernel)",
   "language": "python",
   "name": "python3"
  },
  "language_info": {
   "codemirror_mode": {
    "name": "ipython",
    "version": 3
   },
   "file_extension": ".py",
   "mimetype": "text/x-python",
   "name": "python",
   "nbconvert_exporter": "python",
   "pygments_lexer": "ipython3",
   "version": "3.10.13"
  }
 },
 "nbformat": 4,
 "nbformat_minor": 5
}
