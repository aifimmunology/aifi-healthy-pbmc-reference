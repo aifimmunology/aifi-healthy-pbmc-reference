{
 "cells": [
  {
   "cell_type": "code",
   "execution_count": 1,
   "id": "cb64036e-b5a6-4ca4-b8b9-92b54151ae5f",
   "metadata": {
    "tags": []
   },
   "outputs": [],
   "source": [
    "import celltypist\n",
    "from celltypist import models\n",
    "import scanpy as sc\n",
    "import pandas as pd \n",
    "import numpy as np\n",
    "import anndata\n",
    "import re\n",
    "import h5py\n",
    "import scipy.sparse as scs\n",
    "import concurrent.futures\n",
    "import scanpy.external as sce\n",
    "import gc\n",
    "from concurrent.futures import ThreadPoolExecutor"
   ]
  },
  {
   "cell_type": "code",
   "execution_count": 13,
   "id": "acd278db-0841-4714-9aa1-83d5eabf386b",
   "metadata": {
    "tags": []
   },
   "outputs": [],
   "source": [
    "def run_leiden(adata, resolution, key_added):\n",
    "    adata_clustering = sc.tl.leiden(adata, resolution=resolution, key_added=key_added, copy=True)\n",
    "    return adata_clustering.obs\n",
    "\n",
    "def run_leiden_parallel(adata_subset, tasks):\n",
    "    with ThreadPoolExecutor(max_workers=3) as executor:\n",
    "        futures = [executor.submit(run_leiden, adata_subset, resolution, key_added) for resolution, key_added in tasks]\n",
    "        results = [future.result() for future in futures]\n",
    "\n",
    "    # Assign the results back to the original AnnData object\n",
    "    for result, (_, key_added) in zip(results, tasks):\n",
    "        adata_subset.obs[key_added] = result[key_added]\n",
    "\n",
    "    return adata_subset"
   ]
  },
  {
   "cell_type": "code",
   "execution_count": null,
   "id": "854923ac-58a5-4d9e-bf65-df282ead986c",
   "metadata": {},
   "outputs": [],
   "source": []
  },
  {
   "cell_type": "code",
   "execution_count": 2,
   "id": "9354d8df-f257-49fe-9d4d-2d7866d78821",
   "metadata": {
    "tags": []
   },
   "outputs": [],
   "source": [
    "adata_subset=sc.read_h5ad('NK/NKcells_processed_20231107.h5ad')"
   ]
  },
  {
   "cell_type": "code",
   "execution_count": 3,
   "id": "82e74c31-8a5b-4847-9d0f-8d7aa45b8520",
   "metadata": {
    "tags": []
   },
   "outputs": [],
   "source": [
    "adata_subset=adata_subset.raw.to_adata()"
   ]
  },
  {
   "cell_type": "code",
   "execution_count": 4,
   "id": "569d13d7-9c8b-40c0-a4f2-5c0543ebeaea",
   "metadata": {
    "tags": []
   },
   "outputs": [],
   "source": [
    "adata_subset=adata_subset[~adata_subset.obs['leiden_resolution_1.5'].isin(['9','11','14',15])]"
   ]
  },
  {
   "cell_type": "code",
   "execution_count": 6,
   "id": "099f083d-aeef-43e2-974d-666c4eb30b4b",
   "metadata": {
    "tags": []
   },
   "outputs": [],
   "source": [
    "sc.pp.normalize_total(adata_subset, target_sum=1e4)"
   ]
  },
  {
   "cell_type": "code",
   "execution_count": 7,
   "id": "4c9c80e3-4cfc-4a4a-a23f-f7e1d1f3cd76",
   "metadata": {
    "tags": []
   },
   "outputs": [
    {
     "name": "stdout",
     "output_type": "stream",
     "text": [
      "WARNING: adata.X seems to be already log-transformed.\n"
     ]
    }
   ],
   "source": [
    "sc.pp.log1p(adata_subset)\n",
    "sc.pp.highly_variable_genes(adata_subset)\n",
    "adata_subset = adata_subset[:, adata_subset.var_names[adata_subset.var['highly_variable']]]"
   ]
  },
  {
   "cell_type": "code",
   "execution_count": 8,
   "id": "1b569b33-60a0-4ff4-a8fb-c34292146297",
   "metadata": {
    "tags": []
   },
   "outputs": [],
   "source": [
    "sc.pp.scale(adata_subset)"
   ]
  },
  {
   "cell_type": "code",
   "execution_count": 9,
   "id": "b99f09e7-c2bc-4bab-886e-cd45281cc51d",
   "metadata": {
    "tags": []
   },
   "outputs": [],
   "source": [
    "sc.tl.pca(adata_subset, svd_solver='arpack')"
   ]
  },
  {
   "cell_type": "code",
   "execution_count": 10,
   "id": "86918a6b-0e9c-423d-898a-ad3f7d96cf54",
   "metadata": {
    "tags": []
   },
   "outputs": [
    {
     "name": "stderr",
     "output_type": "stream",
     "text": [
      "2023-11-08 20:11:51,331 - harmonypy - INFO - Computing initial centroids with sklearn.KMeans...\n",
      "Computing initial centroids with sklearn.KMeans...\n",
      "2023-11-08 20:13:06,961 - harmonypy - INFO - sklearn.KMeans initialization complete.\n",
      "sklearn.KMeans initialization complete.\n",
      "2023-11-08 20:13:07,741 - harmonypy - INFO - Iteration 1 of 30\n",
      "Iteration 1 of 30\n",
      "2023-11-08 20:14:30,603 - harmonypy - INFO - Iteration 2 of 30\n",
      "Iteration 2 of 30\n",
      "2023-11-08 20:15:57,346 - harmonypy - INFO - Iteration 3 of 30\n",
      "Iteration 3 of 30\n",
      "2023-11-08 20:17:21,962 - harmonypy - INFO - Iteration 4 of 30\n",
      "Iteration 4 of 30\n",
      "2023-11-08 20:18:18,061 - harmonypy - INFO - Converged after 4 iterations\n",
      "Converged after 4 iterations\n"
     ]
    }
   ],
   "source": [
    "sce.pp.harmony_integrate(adata_subset, 'cohort.cohortGuid',max_iter_harmony = 30)"
   ]
  },
  {
   "cell_type": "code",
   "execution_count": 11,
   "id": "088dd640-5e7d-4c68-80b5-485b43d408bb",
   "metadata": {
    "tags": []
   },
   "outputs": [],
   "source": [
    "sc.pp.neighbors(adata_subset, n_neighbors=50,use_rep='X_pca_harmony', n_pcs=30)"
   ]
  },
  {
   "cell_type": "code",
   "execution_count": 12,
   "id": "e5d85698-937a-4301-96f9-05c1db1cb842",
   "metadata": {
    "tags": []
   },
   "outputs": [],
   "source": [
    "sc.tl.umap(adata_subset)"
   ]
  },
  {
   "cell_type": "code",
   "execution_count": null,
   "id": "4d61f4c7-f008-4cdf-9ab0-ed0b11bc7182",
   "metadata": {
    "tags": []
   },
   "outputs": [],
   "source": [
    "tasks = [(1, \"leiden_resolution_1\"),(1.5, \"leiden_resolution_1.5\"),(2, \"leiden_resolution_2\")]\n",
    "adata_subset = run_leiden_parallel(adata_subset, tasks)"
   ]
  },
  {
   "cell_type": "code",
   "execution_count": null,
   "id": "4ab1c6db-8951-444e-a45c-afbab46b7bc2",
   "metadata": {},
   "outputs": [],
   "source": []
  }
 ],
 "metadata": {
  "kernelspec": {
   "display_name": "Python 3 (ipykernel)",
   "language": "python",
   "name": "python3"
  },
  "language_info": {
   "codemirror_mode": {
    "name": "ipython",
    "version": 3
   },
   "file_extension": ".py",
   "mimetype": "text/x-python",
   "name": "python",
   "nbconvert_exporter": "python",
   "pygments_lexer": "ipython3",
   "version": "3.10.12"
  }
 },
 "nbformat": 4,
 "nbformat_minor": 5
}
